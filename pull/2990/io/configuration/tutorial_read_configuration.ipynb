{
 "cells": [
  {
   "cell_type": "markdown",
   "metadata": {},
   "source": [
    "# Reading a Configuration\n",
    "\n",
    "This notebook demonstrates how TARDIS reads a configuration file or a configuration dictionary and creates an instance of the `Configuration` class."
   ]
  },
  {
   "cell_type": "code",
   "execution_count": 1,
   "metadata": {
    "ExecuteTime": {
     "end_time": "2018-07-18T16:56:52.848130Z",
     "start_time": "2018-07-18T16:56:52.844292Z"
    },
    "execution": {
     "iopub.execute_input": "2025-04-11T16:11:36.945909Z",
     "iopub.status.busy": "2025-04-11T16:11:36.944634Z",
     "iopub.status.idle": "2025-04-11T16:11:39.395687Z",
     "shell.execute_reply": "2025-04-11T16:11:39.395085Z"
    }
   },
   "outputs": [
    {
     "data": {
      "application/vnd.jupyter.widget-view+json": {
       "model_id": "02883e3ae7a0482f93e792160484a720",
       "version_major": 2,
       "version_minor": 0
      },
      "text/plain": [
       "Iterations:          0/? [00:00<?, ?it/s]"
      ]
     },
     "metadata": {},
     "output_type": "display_data"
    },
    {
     "data": {
      "application/vnd.jupyter.widget-view+json": {
       "model_id": "4db8240c8a4b4025be3566f7c4bc3b30",
       "version_major": 2,
       "version_minor": 0
      },
      "text/plain": [
       "Packets:             0/? [00:00<?, ?it/s]"
      ]
     },
     "metadata": {},
     "output_type": "display_data"
    }
   ],
   "source": [
    "from tardis.io.configuration.config_reader import Configuration"
   ]
  },
  {
   "cell_type": "markdown",
   "metadata": {},
   "source": [
    "The configuration can be read this way. It will be validated by the json-schema schemas (including filling out default configuration options that had not been specified)."
   ]
  },
  {
   "cell_type": "code",
   "execution_count": 2,
   "metadata": {
    "ExecuteTime": {
     "end_time": "2018-07-18T16:59:08.589550Z",
     "start_time": "2018-07-18T16:59:08.305384Z"
    },
    "execution": {
     "iopub.execute_input": "2025-04-11T16:11:39.448391Z",
     "iopub.status.busy": "2025-04-11T16:11:39.448028Z",
     "iopub.status.idle": "2025-04-11T16:11:39.749753Z",
     "shell.execute_reply": "2025-04-11T16:11:39.749113Z"
    }
   },
   "outputs": [],
   "source": [
    "conf = Configuration.from_yaml('tardis_example.yml')"
   ]
  },
  {
   "cell_type": "markdown",
   "metadata": {},
   "source": [
    "Despite the very simple nature of tardis_example.yml, the output does contain all the default values"
   ]
  },
  {
   "cell_type": "code",
   "execution_count": 3,
   "metadata": {
    "ExecuteTime": {
     "end_time": "2018-07-18T17:02:54.736144Z",
     "start_time": "2018-07-18T17:02:54.729478Z"
    },
    "execution": {
     "iopub.execute_input": "2025-04-11T16:11:39.753186Z",
     "iopub.status.busy": "2025-04-11T16:11:39.752697Z",
     "iopub.status.idle": "2025-04-11T16:11:39.762623Z",
     "shell.execute_reply": "2025-04-11T16:11:39.762082Z"
    }
   },
   "outputs": [
    {
     "data": {
      "text/plain": [
       "{'tardis_config_version': 'v1.0',\n",
       " 'supernova': {'luminosity_requested': <Quantity 1.05927636e+43 erg / s>,\n",
       "  'time_explosion': <Quantity 13. d>,\n",
       "  'luminosity_wavelength_start': <Quantity 0. Angstrom>,\n",
       "  'luminosity_wavelength_end': <Quantity inf Angstrom>},\n",
       " 'atom_data': 'kurucz_cd23_chianti_H_He.h5',\n",
       " 'model': {'structure': {'type': 'specific',\n",
       "   'velocity': {'start': <Quantity 11000. km / s>,\n",
       "    'stop': <Quantity 20000. km / s>,\n",
       "    'num': 20},\n",
       "   'density': {'type': 'branch85_w7',\n",
       "    'w7_time_0': <Quantity 0.00023148 d>,\n",
       "    'w7_rho_0': <Quantity 3.e+29 g / cm3>,\n",
       "    'w7_v_0': <Quantity 1. km / s>}},\n",
       "  'abundances': {'type': 'uniform',\n",
       "   'O': 0.19,\n",
       "   'Mg': 0.03,\n",
       "   'Si': 0.52,\n",
       "   'S': 0.19,\n",
       "   'Ar': 0.04,\n",
       "   'Ca': 0.03,\n",
       "   'model_isotope_time_0': <Quantity 0. s>}},\n",
       " 'plasma': {'disable_electron_scattering': False,\n",
       "  'ionization': 'lte',\n",
       "  'excitation': 'lte',\n",
       "  'radiative_rates_type': 'dilute-blackbody',\n",
       "  'line_interaction_type': 'macroatom',\n",
       "  'initial_t_inner': <Quantity -1. K>,\n",
       "  'initial_t_rad': <Quantity -1. K>,\n",
       "  'disable_line_scattering': False,\n",
       "  'w_epsilon': 1e-10,\n",
       "  'nlte': {'species': [],\n",
       "   'coronal_approximation': False,\n",
       "   'classical_nebular': False},\n",
       "  'continuum_interaction': {'species': [],\n",
       "   'enable_adiabatic_cooling': False,\n",
       "   'enable_two_photon_decay': False},\n",
       "  'helium_treatment': 'none',\n",
       "  'heating_rate_data_file': 'none',\n",
       "  'link_t_rad_t_electron': 0.9,\n",
       "  'nlte_ionization_species': [],\n",
       "  'nlte_excitation_species': [],\n",
       "  'nlte_solver': 'root'},\n",
       " 'montecarlo': {'seed': 23111963,\n",
       "  'no_of_packets': 40000.0,\n",
       "  'iterations': 20,\n",
       "  'nthreads': 1,\n",
       "  'last_no_of_packets': 100000.0,\n",
       "  'no_of_virtual_packets': 10,\n",
       "  'convergence_strategy': {'type': 'damped',\n",
       "   'damping_constant': 1.0,\n",
       "   'threshold': 0.05,\n",
       "   'fraction': 0.8,\n",
       "   'hold_iterations': 3,\n",
       "   't_inner': {'damping_constant': 0.5, 'type': 'damped', 'threshold': 0.05},\n",
       "   'stop_if_converged': False,\n",
       "   'lock_t_inner_cycles': 1,\n",
       "   't_inner_update_exponent': -0.5,\n",
       "   't_rad': {'damping_constant': 1.0, 'threshold': 0.05, 'type': 'damped'},\n",
       "   'w': {'damping_constant': 1.0, 'threshold': 0.05, 'type': 'damped'},\n",
       "   'v_inner_boundary': {'damping_constant': 1.0,\n",
       "    'threshold': 0.05,\n",
       "    'type': 'damped'}},\n",
       "  'virtual_spectrum_spawn_range': {'start': <Quantity 1. Angstrom>,\n",
       "   'end': <Quantity inf Angstrom>},\n",
       "  'enable_full_relativity': False,\n",
       "  'enable_nonhomologous_expansion': False,\n",
       "  'tracking': {'track_rpacket': False, 'initial_array_length': 10},\n",
       "  'debug_packets': False,\n",
       "  'logger_buffer': 1},\n",
       " 'spectrum': {'start': <Quantity 500. Angstrom>,\n",
       "  'stop': <Quantity 20000. Angstrom>,\n",
       "  'num': 10000,\n",
       "  'method': 'virtual',\n",
       "  'integrated': {'points': 1000, 'interpolate_shells': 0, 'compute': 'CPU'},\n",
       "  'virtual': {'tau_russian': 10.0,\n",
       "   'survival_probability': 0.0,\n",
       "   'enable_biasing': False,\n",
       "   'virtual_packet_logging': False}},\n",
       " 'config_dirname': ''}"
      ]
     },
     "execution_count": 3,
     "metadata": {},
     "output_type": "execute_result"
    }
   ],
   "source": [
    "conf"
   ]
  },
  {
   "cell_type": "markdown",
   "metadata": {},
   "source": [
    "Values can either be accessed using `.`:"
   ]
  },
  {
   "cell_type": "code",
   "execution_count": 4,
   "metadata": {
    "execution": {
     "iopub.execute_input": "2025-04-11T16:11:39.766099Z",
     "iopub.status.busy": "2025-04-11T16:11:39.765065Z",
     "iopub.status.idle": "2025-04-11T16:11:39.772159Z",
     "shell.execute_reply": "2025-04-11T16:11:39.771585Z"
    }
   },
   "outputs": [
    {
     "data": {
      "text/latex": [
       "$11000 \\; \\mathrm{\\frac{km}{s}}$"
      ],
      "text/plain": [
       "<Quantity 11000. km / s>"
      ]
     },
     "execution_count": 4,
     "metadata": {},
     "output_type": "execute_result"
    }
   ],
   "source": [
    "conf.model.structure.velocity.start"
   ]
  },
  {
   "cell_type": "markdown",
   "metadata": {},
   "source": [
    "or by treating the configuration as a dictionary:"
   ]
  },
  {
   "cell_type": "code",
   "execution_count": 5,
   "metadata": {
    "execution": {
     "iopub.execute_input": "2025-04-11T16:11:39.775496Z",
     "iopub.status.busy": "2025-04-11T16:11:39.774534Z",
     "iopub.status.idle": "2025-04-11T16:11:39.780586Z",
     "shell.execute_reply": "2025-04-11T16:11:39.780135Z"
    }
   },
   "outputs": [
    {
     "data": {
      "text/plain": [
       "1.0"
      ]
     },
     "execution_count": 5,
     "metadata": {},
     "output_type": "execute_result"
    }
   ],
   "source": [
    "conf['montecarlo']['convergence_strategy']['damping_constant']"
   ]
  },
  {
   "cell_type": "markdown",
   "metadata": {},
   "source": [
    "Similarly to how they are accessed, entries in the configuration can be edited. For example,"
   ]
  },
  {
   "cell_type": "code",
   "execution_count": 6,
   "metadata": {
    "execution": {
     "iopub.execute_input": "2025-04-11T16:11:39.783342Z",
     "iopub.status.busy": "2025-04-11T16:11:39.783117Z",
     "iopub.status.idle": "2025-04-11T16:11:39.786763Z",
     "shell.execute_reply": "2025-04-11T16:11:39.786249Z"
    }
   },
   "outputs": [],
   "source": [
    "conf['montecarlo']['convergence_strategy']['damping_constant'] = 0.3"
   ]
  },
  {
   "cell_type": "markdown",
   "metadata": {},
   "source": [
    "sets that entry of the configuration to 0.3:"
   ]
  },
  {
   "cell_type": "code",
   "execution_count": 7,
   "metadata": {
    "execution": {
     "iopub.execute_input": "2025-04-11T16:11:39.789859Z",
     "iopub.status.busy": "2025-04-11T16:11:39.789096Z",
     "iopub.status.idle": "2025-04-11T16:11:39.794687Z",
     "shell.execute_reply": "2025-04-11T16:11:39.794181Z"
    }
   },
   "outputs": [
    {
     "data": {
      "text/plain": [
       "0.3"
      ]
     },
     "execution_count": 7,
     "metadata": {},
     "output_type": "execute_result"
    }
   ],
   "source": [
    "conf['montecarlo']['convergence_strategy']['damping_constant']"
   ]
  },
  {
   "cell_type": "markdown",
   "metadata": {},
   "source": [
    "This can be done using `.` as well.\n",
    "\n",
    "You can also read a configuration from a dictionary. For example:"
   ]
  },
  {
   "cell_type": "code",
   "execution_count": 8,
   "metadata": {
    "execution": {
     "iopub.execute_input": "2025-04-11T16:11:39.797033Z",
     "iopub.status.busy": "2025-04-11T16:11:39.796820Z",
     "iopub.status.idle": "2025-04-11T16:11:39.808248Z",
     "shell.execute_reply": "2025-04-11T16:11:39.806891Z"
    }
   },
   "outputs": [],
   "source": [
    "from astropy import units as u\n",
    "\n",
    "conf_dict = {'tardis_config_version': 'v1.0',\n",
    " 'supernova': {'luminosity_requested': 1.05e+43 * u.erg / u.s,\n",
    "  'time_explosion': 13 * u.day},\n",
    " 'atom_data': 'kurucz_cd23_chianti_H_He.h5',\n",
    " 'model': {'structure': {'type': 'specific',\n",
    "   'velocity': {'start': 11000. * u.km / u.s,\n",
    "    'stop': 20000. * u.km / u.s,\n",
    "    'num': 20},\n",
    "   'density': {'type': 'branch85_w7'}},\n",
    "  'abundances': {'type': 'uniform',\n",
    "   'O': 0.19,\n",
    "   'Mg': 0.03,\n",
    "   'Si': 0.52,\n",
    "   'S': 0.19,\n",
    "   'Ar': 0.04,\n",
    "   'Ca': 0.03}},\n",
    " 'plasma': {'ionization': 'lte',\n",
    "  'excitation': 'lte',\n",
    "  'radiative_rates_type': 'dilute-blackbody',\n",
    "  'line_interaction_type': 'macroatom',},\n",
    " 'montecarlo': {'seed': 23111963,\n",
    "  'no_of_packets': 40000.0,\n",
    "  'iterations': 20,\n",
    "  'last_no_of_packets': 100000.0,\n",
    "  'no_of_virtual_packets': 10,},\n",
    " 'spectrum': {'start': 500. * u.Angstrom,\n",
    "  'stop': 20000. * u.Angstrom,\n",
    "  'num': 10000,}}"
   ]
  },
  {
   "cell_type": "code",
   "execution_count": 9,
   "metadata": {
    "execution": {
     "iopub.execute_input": "2025-04-11T16:11:39.813754Z",
     "iopub.status.busy": "2025-04-11T16:11:39.813508Z",
     "iopub.status.idle": "2025-04-11T16:11:39.914355Z",
     "shell.execute_reply": "2025-04-11T16:11:39.913725Z"
    }
   },
   "outputs": [
    {
     "data": {
      "text/plain": [
       "{'tardis_config_version': 'v1.0',\n",
       " 'supernova': {'luminosity_requested': <Quantity 1.05e+43 erg / s>,\n",
       "  'time_explosion': <Quantity 13. d>,\n",
       "  'luminosity_wavelength_start': <Quantity 0. Angstrom>,\n",
       "  'luminosity_wavelength_end': <Quantity inf Angstrom>},\n",
       " 'atom_data': 'kurucz_cd23_chianti_H_He.h5',\n",
       " 'model': {'structure': {'type': 'specific',\n",
       "   'velocity': {'start': <Quantity 11000. km / s>,\n",
       "    'stop': <Quantity 20000. km / s>,\n",
       "    'num': 20},\n",
       "   'density': {'type': 'branch85_w7',\n",
       "    'w7_time_0': <Quantity 0.00023148 d>,\n",
       "    'w7_rho_0': <Quantity 3.e+29 g / cm3>,\n",
       "    'w7_v_0': <Quantity 1. km / s>}},\n",
       "  'abundances': {'type': 'uniform',\n",
       "   'O': 0.19,\n",
       "   'Mg': 0.03,\n",
       "   'Si': 0.52,\n",
       "   'S': 0.19,\n",
       "   'Ar': 0.04,\n",
       "   'Ca': 0.03,\n",
       "   'model_isotope_time_0': <Quantity 0. s>}},\n",
       " 'plasma': {'ionization': 'lte',\n",
       "  'excitation': 'lte',\n",
       "  'radiative_rates_type': 'dilute-blackbody',\n",
       "  'line_interaction_type': 'macroatom',\n",
       "  'initial_t_inner': <Quantity -1. K>,\n",
       "  'initial_t_rad': <Quantity -1. K>,\n",
       "  'disable_electron_scattering': False,\n",
       "  'disable_line_scattering': False,\n",
       "  'w_epsilon': 1e-10,\n",
       "  'nlte': {'species': [],\n",
       "   'coronal_approximation': False,\n",
       "   'classical_nebular': False},\n",
       "  'continuum_interaction': {'species': [],\n",
       "   'enable_adiabatic_cooling': False,\n",
       "   'enable_two_photon_decay': False},\n",
       "  'helium_treatment': 'none',\n",
       "  'heating_rate_data_file': 'none',\n",
       "  'link_t_rad_t_electron': 0.9,\n",
       "  'nlte_ionization_species': [],\n",
       "  'nlte_excitation_species': [],\n",
       "  'nlte_solver': 'root'},\n",
       " 'montecarlo': {'seed': 23111963,\n",
       "  'no_of_packets': 40000.0,\n",
       "  'iterations': 20,\n",
       "  'last_no_of_packets': 100000.0,\n",
       "  'no_of_virtual_packets': 10,\n",
       "  'nthreads': 1,\n",
       "  'virtual_spectrum_spawn_range': {'start': <Quantity 1. Angstrom>,\n",
       "   'end': <Quantity inf Angstrom>},\n",
       "  'convergence_strategy': {'type': 'damped',\n",
       "   'stop_if_converged': False,\n",
       "   'fraction': 0.8,\n",
       "   'hold_iterations': 3,\n",
       "   'damping_constant': 1.0,\n",
       "   'threshold': 0.05,\n",
       "   'lock_t_inner_cycles': 1,\n",
       "   't_inner_update_exponent': -0.5,\n",
       "   't_inner': {'damping_constant': 1.0, 'threshold': 0.05, 'type': 'damped'},\n",
       "   't_rad': {'damping_constant': 1.0, 'threshold': 0.05, 'type': 'damped'},\n",
       "   'w': {'damping_constant': 1.0, 'threshold': 0.05, 'type': 'damped'},\n",
       "   'v_inner_boundary': {'damping_constant': 1.0,\n",
       "    'threshold': 0.05,\n",
       "    'type': 'damped'}},\n",
       "  'enable_full_relativity': False,\n",
       "  'enable_nonhomologous_expansion': False,\n",
       "  'tracking': {'track_rpacket': False, 'initial_array_length': 10},\n",
       "  'debug_packets': False,\n",
       "  'logger_buffer': 1},\n",
       " 'spectrum': {'start': <Quantity 500. Angstrom>,\n",
       "  'stop': <Quantity 20000. Angstrom>,\n",
       "  'num': 10000,\n",
       "  'method': 'virtual',\n",
       "  'integrated': {'points': 1000, 'interpolate_shells': 0, 'compute': 'CPU'},\n",
       "  'virtual': {'tau_russian': 10.0,\n",
       "   'survival_probability': 0.0,\n",
       "   'enable_biasing': False,\n",
       "   'virtual_packet_logging': False}},\n",
       " 'config_dirname': ''}"
      ]
     },
     "execution_count": 9,
     "metadata": {},
     "output_type": "execute_result"
    }
   ],
   "source": [
    "conf2 = Configuration.from_config_dict(conf_dict)\n",
    "conf2"
   ]
  },
  {
   "cell_type": "markdown",
   "metadata": {},
   "source": [
    "Notice that the `Configuration` object once again has all the default values filled in.\n",
    "\n",
    "<div class=\"alert alert-info\">\n",
    "\n",
    "Note\n",
    "\n",
    "In most cases, we strongly recommend using a configuration file as opposed to a configuration dictionary.\n",
    "</div>"
   ]
  }
 ],
 "metadata": {
  "kernelspec": {
   "display_name": "Python 3",
   "language": "python",
   "name": "python3"
  },
  "language_info": {
   "codemirror_mode": {
    "name": "ipython",
    "version": 3
   },
   "file_extension": ".py",
   "mimetype": "text/x-python",
   "name": "python",
   "nbconvert_exporter": "python",
   "pygments_lexer": "ipython3",
   "version": "3.13.2"
  },
  "toc": {
   "nav_menu": {},
   "number_sections": true,
   "sideBar": true,
   "skip_h1_title": false,
   "toc_cell": false,
   "toc_position": {},
   "toc_section_display": "block",
   "toc_window_display": false
  },
  "widgets": {
   "application/vnd.jupyter.widget-state+json": {
    "state": {
     "02883e3ae7a0482f93e792160484a720": {
      "model_module": "@jupyter-widgets/controls",
      "model_module_version": "2.0.0",
      "model_name": "HBoxModel",
      "state": {
       "_dom_classes": [],
       "_model_module": "@jupyter-widgets/controls",
       "_model_module_version": "2.0.0",
       "_model_name": "HBoxModel",
       "_view_count": null,
       "_view_module": "@jupyter-widgets/controls",
       "_view_module_version": "2.0.0",
       "_view_name": "HBoxView",
       "box_style": "",
       "children": [
        "IPY_MODEL_61f1a0af85c049c3872db6bf60c4302f",
        "IPY_MODEL_10428c22224542a38113fc8a9f908887",
        "IPY_MODEL_d51b9b01ce084bb7a44cfa4049b5db95"
       ],
       "layout": "IPY_MODEL_2c36bb1c76574e83a655b9a2a09ff7eb",
       "tabbable": null,
       "tooltip": null
      }
     },
     "10428c22224542a38113fc8a9f908887": {
      "model_module": "@jupyter-widgets/controls",
      "model_module_version": "2.0.0",
      "model_name": "FloatProgressModel",
      "state": {
       "_dom_classes": [],
       "_model_module": "@jupyter-widgets/controls",
       "_model_module_version": "2.0.0",
       "_model_name": "FloatProgressModel",
       "_view_count": null,
       "_view_module": "@jupyter-widgets/controls",
       "_view_module_version": "2.0.0",
       "_view_name": "ProgressView",
       "bar_style": "info",
       "description": "",
       "description_allow_html": false,
       "layout": "IPY_MODEL_8b983f0058db43a295ff885f189fd351",
       "max": 1.0,
       "min": 0.0,
       "orientation": "horizontal",
       "style": "IPY_MODEL_69012015590a4142b7e9bdd7c4df7fae",
       "tabbable": null,
       "tooltip": null,
       "value": 0.0
      }
     },
     "1199036b2bf343838cacdfb634667978": {
      "model_module": "@jupyter-widgets/controls",
      "model_module_version": "2.0.0",
      "model_name": "ProgressStyleModel",
      "state": {
       "_model_module": "@jupyter-widgets/controls",
       "_model_module_version": "2.0.0",
       "_model_name": "ProgressStyleModel",
       "_view_count": null,
       "_view_module": "@jupyter-widgets/base",
       "_view_module_version": "2.0.0",
       "_view_name": "StyleView",
       "bar_color": null,
       "description_width": ""
      }
     },
     "29c6fcfd9e4b4e52b542944470bc39e6": {
      "model_module": "@jupyter-widgets/controls",
      "model_module_version": "2.0.0",
      "model_name": "FloatProgressModel",
      "state": {
       "_dom_classes": [],
       "_model_module": "@jupyter-widgets/controls",
       "_model_module_version": "2.0.0",
       "_model_name": "FloatProgressModel",
       "_view_count": null,
       "_view_module": "@jupyter-widgets/controls",
       "_view_module_version": "2.0.0",
       "_view_name": "ProgressView",
       "bar_style": "info",
       "description": "",
       "description_allow_html": false,
       "layout": "IPY_MODEL_d2e5d2e3a5b544a88e87e5e2f9113981",
       "max": 1.0,
       "min": 0.0,
       "orientation": "horizontal",
       "style": "IPY_MODEL_1199036b2bf343838cacdfb634667978",
       "tabbable": null,
       "tooltip": null,
       "value": 0.0
      }
     },
     "2c36bb1c76574e83a655b9a2a09ff7eb": {
      "model_module": "@jupyter-widgets/base",
      "model_module_version": "2.0.0",
      "model_name": "LayoutModel",
      "state": {
       "_model_module": "@jupyter-widgets/base",
       "_model_module_version": "2.0.0",
       "_model_name": "LayoutModel",
       "_view_count": null,
       "_view_module": "@jupyter-widgets/base",
       "_view_module_version": "2.0.0",
       "_view_name": "LayoutView",
       "align_content": null,
       "align_items": null,
       "align_self": null,
       "border_bottom": null,
       "border_left": null,
       "border_right": null,
       "border_top": null,
       "bottom": null,
       "display": null,
       "flex": null,
       "flex_flow": null,
       "grid_area": null,
       "grid_auto_columns": null,
       "grid_auto_flow": null,
       "grid_auto_rows": null,
       "grid_column": null,
       "grid_gap": null,
       "grid_row": null,
       "grid_template_areas": null,
       "grid_template_columns": null,
       "grid_template_rows": null,
       "height": null,
       "justify_content": null,
       "justify_items": null,
       "left": null,
       "margin": null,
       "max_height": null,
       "max_width": null,
       "min_height": null,
       "min_width": null,
       "object_fit": null,
       "object_position": null,
       "order": null,
       "overflow": null,
       "padding": null,
       "right": null,
       "top": null,
       "visibility": null,
       "width": null
      }
     },
     "4361a3742fae451598a1aafdbcf6278d": {
      "model_module": "@jupyter-widgets/base",
      "model_module_version": "2.0.0",
      "model_name": "LayoutModel",
      "state": {
       "_model_module": "@jupyter-widgets/base",
       "_model_module_version": "2.0.0",
       "_model_name": "LayoutModel",
       "_view_count": null,
       "_view_module": "@jupyter-widgets/base",
       "_view_module_version": "2.0.0",
       "_view_name": "LayoutView",
       "align_content": null,
       "align_items": null,
       "align_self": null,
       "border_bottom": null,
       "border_left": null,
       "border_right": null,
       "border_top": null,
       "bottom": null,
       "display": null,
       "flex": null,
       "flex_flow": null,
       "grid_area": null,
       "grid_auto_columns": null,
       "grid_auto_flow": null,
       "grid_auto_rows": null,
       "grid_column": null,
       "grid_gap": null,
       "grid_row": null,
       "grid_template_areas": null,
       "grid_template_columns": null,
       "grid_template_rows": null,
       "height": null,
       "justify_content": null,
       "justify_items": null,
       "left": null,
       "margin": null,
       "max_height": null,
       "max_width": null,
       "min_height": null,
       "min_width": null,
       "object_fit": null,
       "object_position": null,
       "order": null,
       "overflow": null,
       "padding": null,
       "right": null,
       "top": null,
       "visibility": null,
       "width": null
      }
     },
     "4db8240c8a4b4025be3566f7c4bc3b30": {
      "model_module": "@jupyter-widgets/controls",
      "model_module_version": "2.0.0",
      "model_name": "HBoxModel",
      "state": {
       "_dom_classes": [],
       "_model_module": "@jupyter-widgets/controls",
       "_model_module_version": "2.0.0",
       "_model_name": "HBoxModel",
       "_view_count": null,
       "_view_module": "@jupyter-widgets/controls",
       "_view_module_version": "2.0.0",
       "_view_name": "HBoxView",
       "box_style": "",
       "children": [
        "IPY_MODEL_f9c3b12dd0aa42ddbd0e729479a42d8c",
        "IPY_MODEL_29c6fcfd9e4b4e52b542944470bc39e6",
        "IPY_MODEL_54e3fb22d06447fa88e78264c93fe389"
       ],
       "layout": "IPY_MODEL_b1e4261e94bf4095ac1830fc35493db1",
       "tabbable": null,
       "tooltip": null
      }
     },
     "54e3fb22d06447fa88e78264c93fe389": {
      "model_module": "@jupyter-widgets/controls",
      "model_module_version": "2.0.0",
      "model_name": "HTMLModel",
      "state": {
       "_dom_classes": [],
       "_model_module": "@jupyter-widgets/controls",
       "_model_module_version": "2.0.0",
       "_model_name": "HTMLModel",
       "_view_count": null,
       "_view_module": "@jupyter-widgets/controls",
       "_view_module_version": "2.0.0",
       "_view_name": "HTMLView",
       "description": "",
       "description_allow_html": false,
       "layout": "IPY_MODEL_8921849df4a444e798b5b633fcbbd49b",
       "placeholder": "​",
       "style": "IPY_MODEL_7bc6821c7a994c3a9a8aab0bf1d7adaf",
       "tabbable": null,
       "tooltip": null,
       "value": "0/? [00:00&lt;?, ?it/s]"
      }
     },
     "61f1a0af85c049c3872db6bf60c4302f": {
      "model_module": "@jupyter-widgets/controls",
      "model_module_version": "2.0.0",
      "model_name": "HTMLModel",
      "state": {
       "_dom_classes": [],
       "_model_module": "@jupyter-widgets/controls",
       "_model_module_version": "2.0.0",
       "_model_name": "HTMLModel",
       "_view_count": null,
       "_view_module": "@jupyter-widgets/controls",
       "_view_module_version": "2.0.0",
       "_view_name": "HTMLView",
       "description": "",
       "description_allow_html": false,
       "layout": "IPY_MODEL_d8c9536de35d471982bd87725b937b0a",
       "placeholder": "​",
       "style": "IPY_MODEL_d0397615a44d49f98ffda753159d2931",
       "tabbable": null,
       "tooltip": null,
       "value": "Iterations:"
      }
     },
     "69012015590a4142b7e9bdd7c4df7fae": {
      "model_module": "@jupyter-widgets/controls",
      "model_module_version": "2.0.0",
      "model_name": "ProgressStyleModel",
      "state": {
       "_model_module": "@jupyter-widgets/controls",
       "_model_module_version": "2.0.0",
       "_model_name": "ProgressStyleModel",
       "_view_count": null,
       "_view_module": "@jupyter-widgets/base",
       "_view_module_version": "2.0.0",
       "_view_name": "StyleView",
       "bar_color": null,
       "description_width": ""
      }
     },
     "7bc6821c7a994c3a9a8aab0bf1d7adaf": {
      "model_module": "@jupyter-widgets/controls",
      "model_module_version": "2.0.0",
      "model_name": "HTMLStyleModel",
      "state": {
       "_model_module": "@jupyter-widgets/controls",
       "_model_module_version": "2.0.0",
       "_model_name": "HTMLStyleModel",
       "_view_count": null,
       "_view_module": "@jupyter-widgets/base",
       "_view_module_version": "2.0.0",
       "_view_name": "StyleView",
       "background": null,
       "description_width": "",
       "font_size": null,
       "text_color": null
      }
     },
     "7f9eec1df1ef4f0c8e44209cf2c6dd3f": {
      "model_module": "@jupyter-widgets/base",
      "model_module_version": "2.0.0",
      "model_name": "LayoutModel",
      "state": {
       "_model_module": "@jupyter-widgets/base",
       "_model_module_version": "2.0.0",
       "_model_name": "LayoutModel",
       "_view_count": null,
       "_view_module": "@jupyter-widgets/base",
       "_view_module_version": "2.0.0",
       "_view_name": "LayoutView",
       "align_content": null,
       "align_items": null,
       "align_self": null,
       "border_bottom": null,
       "border_left": null,
       "border_right": null,
       "border_top": null,
       "bottom": null,
       "display": null,
       "flex": null,
       "flex_flow": null,
       "grid_area": null,
       "grid_auto_columns": null,
       "grid_auto_flow": null,
       "grid_auto_rows": null,
       "grid_column": null,
       "grid_gap": null,
       "grid_row": null,
       "grid_template_areas": null,
       "grid_template_columns": null,
       "grid_template_rows": null,
       "height": null,
       "justify_content": null,
       "justify_items": null,
       "left": null,
       "margin": null,
       "max_height": null,
       "max_width": null,
       "min_height": null,
       "min_width": null,
       "object_fit": null,
       "object_position": null,
       "order": null,
       "overflow": null,
       "padding": null,
       "right": null,
       "top": null,
       "visibility": null,
       "width": null
      }
     },
     "8921849df4a444e798b5b633fcbbd49b": {
      "model_module": "@jupyter-widgets/base",
      "model_module_version": "2.0.0",
      "model_name": "LayoutModel",
      "state": {
       "_model_module": "@jupyter-widgets/base",
       "_model_module_version": "2.0.0",
       "_model_name": "LayoutModel",
       "_view_count": null,
       "_view_module": "@jupyter-widgets/base",
       "_view_module_version": "2.0.0",
       "_view_name": "LayoutView",
       "align_content": null,
       "align_items": null,
       "align_self": null,
       "border_bottom": null,
       "border_left": null,
       "border_right": null,
       "border_top": null,
       "bottom": null,
       "display": null,
       "flex": null,
       "flex_flow": null,
       "grid_area": null,
       "grid_auto_columns": null,
       "grid_auto_flow": null,
       "grid_auto_rows": null,
       "grid_column": null,
       "grid_gap": null,
       "grid_row": null,
       "grid_template_areas": null,
       "grid_template_columns": null,
       "grid_template_rows": null,
       "height": null,
       "justify_content": null,
       "justify_items": null,
       "left": null,
       "margin": null,
       "max_height": null,
       "max_width": null,
       "min_height": null,
       "min_width": null,
       "object_fit": null,
       "object_position": null,
       "order": null,
       "overflow": null,
       "padding": null,
       "right": null,
       "top": null,
       "visibility": null,
       "width": null
      }
     },
     "8b983f0058db43a295ff885f189fd351": {
      "model_module": "@jupyter-widgets/base",
      "model_module_version": "2.0.0",
      "model_name": "LayoutModel",
      "state": {
       "_model_module": "@jupyter-widgets/base",
       "_model_module_version": "2.0.0",
       "_model_name": "LayoutModel",
       "_view_count": null,
       "_view_module": "@jupyter-widgets/base",
       "_view_module_version": "2.0.0",
       "_view_name": "LayoutView",
       "align_content": null,
       "align_items": null,
       "align_self": null,
       "border_bottom": null,
       "border_left": null,
       "border_right": null,
       "border_top": null,
       "bottom": null,
       "display": null,
       "flex": null,
       "flex_flow": null,
       "grid_area": null,
       "grid_auto_columns": null,
       "grid_auto_flow": null,
       "grid_auto_rows": null,
       "grid_column": null,
       "grid_gap": null,
       "grid_row": null,
       "grid_template_areas": null,
       "grid_template_columns": null,
       "grid_template_rows": null,
       "height": null,
       "justify_content": null,
       "justify_items": null,
       "left": null,
       "margin": null,
       "max_height": null,
       "max_width": null,
       "min_height": null,
       "min_width": null,
       "object_fit": null,
       "object_position": null,
       "order": null,
       "overflow": null,
       "padding": null,
       "right": null,
       "top": null,
       "visibility": null,
       "width": "20px"
      }
     },
     "b1e4261e94bf4095ac1830fc35493db1": {
      "model_module": "@jupyter-widgets/base",
      "model_module_version": "2.0.0",
      "model_name": "LayoutModel",
      "state": {
       "_model_module": "@jupyter-widgets/base",
       "_model_module_version": "2.0.0",
       "_model_name": "LayoutModel",
       "_view_count": null,
       "_view_module": "@jupyter-widgets/base",
       "_view_module_version": "2.0.0",
       "_view_name": "LayoutView",
       "align_content": null,
       "align_items": null,
       "align_self": null,
       "border_bottom": null,
       "border_left": null,
       "border_right": null,
       "border_top": null,
       "bottom": null,
       "display": null,
       "flex": null,
       "flex_flow": null,
       "grid_area": null,
       "grid_auto_columns": null,
       "grid_auto_flow": null,
       "grid_auto_rows": null,
       "grid_column": null,
       "grid_gap": null,
       "grid_row": null,
       "grid_template_areas": null,
       "grid_template_columns": null,
       "grid_template_rows": null,
       "height": null,
       "justify_content": null,
       "justify_items": null,
       "left": null,
       "margin": null,
       "max_height": null,
       "max_width": null,
       "min_height": null,
       "min_width": null,
       "object_fit": null,
       "object_position": null,
       "order": null,
       "overflow": null,
       "padding": null,
       "right": null,
       "top": null,
       "visibility": null,
       "width": null
      }
     },
     "b813b262b8f34fbea3dce86dedd82292": {
      "model_module": "@jupyter-widgets/controls",
      "model_module_version": "2.0.0",
      "model_name": "HTMLStyleModel",
      "state": {
       "_model_module": "@jupyter-widgets/controls",
       "_model_module_version": "2.0.0",
       "_model_name": "HTMLStyleModel",
       "_view_count": null,
       "_view_module": "@jupyter-widgets/base",
       "_view_module_version": "2.0.0",
       "_view_name": "StyleView",
       "background": null,
       "description_width": "",
       "font_size": null,
       "text_color": null
      }
     },
     "d0397615a44d49f98ffda753159d2931": {
      "model_module": "@jupyter-widgets/controls",
      "model_module_version": "2.0.0",
      "model_name": "HTMLStyleModel",
      "state": {
       "_model_module": "@jupyter-widgets/controls",
       "_model_module_version": "2.0.0",
       "_model_name": "HTMLStyleModel",
       "_view_count": null,
       "_view_module": "@jupyter-widgets/base",
       "_view_module_version": "2.0.0",
       "_view_name": "StyleView",
       "background": null,
       "description_width": "",
       "font_size": null,
       "text_color": null
      }
     },
     "d2e5d2e3a5b544a88e87e5e2f9113981": {
      "model_module": "@jupyter-widgets/base",
      "model_module_version": "2.0.0",
      "model_name": "LayoutModel",
      "state": {
       "_model_module": "@jupyter-widgets/base",
       "_model_module_version": "2.0.0",
       "_model_name": "LayoutModel",
       "_view_count": null,
       "_view_module": "@jupyter-widgets/base",
       "_view_module_version": "2.0.0",
       "_view_name": "LayoutView",
       "align_content": null,
       "align_items": null,
       "align_self": null,
       "border_bottom": null,
       "border_left": null,
       "border_right": null,
       "border_top": null,
       "bottom": null,
       "display": null,
       "flex": null,
       "flex_flow": null,
       "grid_area": null,
       "grid_auto_columns": null,
       "grid_auto_flow": null,
       "grid_auto_rows": null,
       "grid_column": null,
       "grid_gap": null,
       "grid_row": null,
       "grid_template_areas": null,
       "grid_template_columns": null,
       "grid_template_rows": null,
       "height": null,
       "justify_content": null,
       "justify_items": null,
       "left": null,
       "margin": null,
       "max_height": null,
       "max_width": null,
       "min_height": null,
       "min_width": null,
       "object_fit": null,
       "object_position": null,
       "order": null,
       "overflow": null,
       "padding": null,
       "right": null,
       "top": null,
       "visibility": null,
       "width": "20px"
      }
     },
     "d51b9b01ce084bb7a44cfa4049b5db95": {
      "model_module": "@jupyter-widgets/controls",
      "model_module_version": "2.0.0",
      "model_name": "HTMLModel",
      "state": {
       "_dom_classes": [],
       "_model_module": "@jupyter-widgets/controls",
       "_model_module_version": "2.0.0",
       "_model_name": "HTMLModel",
       "_view_count": null,
       "_view_module": "@jupyter-widgets/controls",
       "_view_module_version": "2.0.0",
       "_view_name": "HTMLView",
       "description": "",
       "description_allow_html": false,
       "layout": "IPY_MODEL_4361a3742fae451598a1aafdbcf6278d",
       "placeholder": "​",
       "style": "IPY_MODEL_ee1de74a7fc44d2897e6f7fbb80e6521",
       "tabbable": null,
       "tooltip": null,
       "value": "0/? [00:00&lt;?, ?it/s]"
      }
     },
     "d8c9536de35d471982bd87725b937b0a": {
      "model_module": "@jupyter-widgets/base",
      "model_module_version": "2.0.0",
      "model_name": "LayoutModel",
      "state": {
       "_model_module": "@jupyter-widgets/base",
       "_model_module_version": "2.0.0",
       "_model_name": "LayoutModel",
       "_view_count": null,
       "_view_module": "@jupyter-widgets/base",
       "_view_module_version": "2.0.0",
       "_view_name": "LayoutView",
       "align_content": null,
       "align_items": null,
       "align_self": null,
       "border_bottom": null,
       "border_left": null,
       "border_right": null,
       "border_top": null,
       "bottom": null,
       "display": null,
       "flex": null,
       "flex_flow": null,
       "grid_area": null,
       "grid_auto_columns": null,
       "grid_auto_flow": null,
       "grid_auto_rows": null,
       "grid_column": null,
       "grid_gap": null,
       "grid_row": null,
       "grid_template_areas": null,
       "grid_template_columns": null,
       "grid_template_rows": null,
       "height": null,
       "justify_content": null,
       "justify_items": null,
       "left": null,
       "margin": null,
       "max_height": null,
       "max_width": null,
       "min_height": null,
       "min_width": null,
       "object_fit": null,
       "object_position": null,
       "order": null,
       "overflow": null,
       "padding": null,
       "right": null,
       "top": null,
       "visibility": null,
       "width": null
      }
     },
     "ee1de74a7fc44d2897e6f7fbb80e6521": {
      "model_module": "@jupyter-widgets/controls",
      "model_module_version": "2.0.0",
      "model_name": "HTMLStyleModel",
      "state": {
       "_model_module": "@jupyter-widgets/controls",
       "_model_module_version": "2.0.0",
       "_model_name": "HTMLStyleModel",
       "_view_count": null,
       "_view_module": "@jupyter-widgets/base",
       "_view_module_version": "2.0.0",
       "_view_name": "StyleView",
       "background": null,
       "description_width": "",
       "font_size": null,
       "text_color": null
      }
     },
     "f9c3b12dd0aa42ddbd0e729479a42d8c": {
      "model_module": "@jupyter-widgets/controls",
      "model_module_version": "2.0.0",
      "model_name": "HTMLModel",
      "state": {
       "_dom_classes": [],
       "_model_module": "@jupyter-widgets/controls",
       "_model_module_version": "2.0.0",
       "_model_name": "HTMLModel",
       "_view_count": null,
       "_view_module": "@jupyter-widgets/controls",
       "_view_module_version": "2.0.0",
       "_view_name": "HTMLView",
       "description": "",
       "description_allow_html": false,
       "layout": "IPY_MODEL_7f9eec1df1ef4f0c8e44209cf2c6dd3f",
       "placeholder": "​",
       "style": "IPY_MODEL_b813b262b8f34fbea3dce86dedd82292",
       "tabbable": null,
       "tooltip": null,
       "value": "Packets:   "
      }
     }
    },
    "version_major": 2,
    "version_minor": 0
   }
  }
 },
 "nbformat": 4,
 "nbformat_minor": 1
}
