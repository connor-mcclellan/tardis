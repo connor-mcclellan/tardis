{
 "cells": [
  {
   "attachments": {},
   "cell_type": "markdown",
   "metadata": {
    "raw_mimetype": "text/restructuredtext"
   },
   "source": [
    "# How to Store Simulations to HDF\n",
    "\n",
    "You can ask TARDIS to store the state of each iteration of the simulation you are running. We show examples of how this is done:"
   ]
  },
  {
   "attachments": {},
   "cell_type": "markdown",
   "metadata": {},
   "source": [
    "Initialize the simulation with the `tardis_example.yml` configuration file."
   ]
  },
  {
   "cell_type": "code",
   "execution_count": 1,
   "metadata": {
    "execution": {
     "iopub.execute_input": "2025-06-11T12:31:12.444933Z",
     "iopub.status.busy": "2025-06-11T12:31:12.444768Z",
     "iopub.status.idle": "2025-06-11T12:33:00.744949Z",
     "shell.execute_reply": "2025-06-11T12:33:00.744521Z"
    }
   },
   "outputs": [
    {
     "data": {
      "application/vnd.jupyter.widget-view+json": {
       "model_id": "e590c67920c74f6baa240f190fbf8238",
       "version_major": 2,
       "version_minor": 0
      },
      "text/plain": [
       "Iterations:          0/? [00:00<?, ?it/s]"
      ]
     },
     "metadata": {},
     "output_type": "display_data"
    },
    {
     "data": {
      "application/vnd.jupyter.widget-view+json": {
       "model_id": "9c51e67c31b34fbb913be628385be9e8",
       "version_major": 2,
       "version_minor": 0
      },
      "text/plain": [
       "Packets:             0/? [00:00<?, ?it/s]"
      ]
     },
     "metadata": {},
     "output_type": "display_data"
    },
    {
     "name": "stderr",
     "output_type": "stream",
     "text": [
      "Atomic Data kurucz_cd23_chianti_H_He_latest already exists in /home/runner/Downloads/tardis-data/kurucz_cd23_chianti_H_He_latest.h5. Will not download - override with force_download=True.\n"
     ]
    },
    {
     "data": {
      "text/html": [
       "<script type=\"esms-options\">{\"shimMode\": true}</script><style>*[data-root-id],\n",
       "*[data-root-id] > * {\n",
       "  box-sizing: border-box;\n",
       "  font-family: var(--jp-ui-font-family);\n",
       "  font-size: var(--jp-ui-font-size1);\n",
       "  color: var(--vscode-editor-foreground, var(--jp-ui-font-color1));\n",
       "}\n",
       "\n",
       "/* Override VSCode background color */\n",
       ".cell-output-ipywidget-background:has(\n",
       "    > .cell-output-ipywidget-background > .lm-Widget > *[data-root-id]\n",
       "  ),\n",
       ".cell-output-ipywidget-background:has(> .lm-Widget > *[data-root-id]) {\n",
       "  background-color: transparent !important;\n",
       "}\n",
       "</style>"
      ]
     },
     "metadata": {},
     "output_type": "display_data"
    },
    {
     "data": {
      "application/javascript": [
       "(function(root) {\n",
       "  function now() {\n",
       "    return new Date();\n",
       "  }\n",
       "\n",
       "  const force = true;\n",
       "  const py_version = '3.6.3'.replace('rc', '-rc.').replace('.dev', '-dev.');\n",
       "  const reloading = false;\n",
       "  const Bokeh = root.Bokeh;\n",
       "\n",
       "  // Set a timeout for this load but only if we are not already initializing\n",
       "  if (typeof (root._bokeh_timeout) === \"undefined\" || (force || !root._bokeh_is_initializing)) {\n",
       "    root._bokeh_timeout = Date.now() + 5000;\n",
       "    root._bokeh_failed_load = false;\n",
       "  }\n",
       "\n",
       "  function run_callbacks() {\n",
       "    try {\n",
       "      root._bokeh_onload_callbacks.forEach(function(callback) {\n",
       "        if (callback != null)\n",
       "          callback();\n",
       "      });\n",
       "    } finally {\n",
       "      delete root._bokeh_onload_callbacks;\n",
       "    }\n",
       "    console.debug(\"Bokeh: all callbacks have finished\");\n",
       "  }\n",
       "\n",
       "  function load_libs(css_urls, js_urls, js_modules, js_exports, callback) {\n",
       "    if (css_urls == null) css_urls = [];\n",
       "    if (js_urls == null) js_urls = [];\n",
       "    if (js_modules == null) js_modules = [];\n",
       "    if (js_exports == null) js_exports = {};\n",
       "\n",
       "    root._bokeh_onload_callbacks.push(callback);\n",
       "\n",
       "    if (root._bokeh_is_loading > 0) {\n",
       "      // Don't load bokeh if it is still initializing\n",
       "      console.debug(\"Bokeh: BokehJS is being loaded, scheduling callback at\", now());\n",
       "      return null;\n",
       "    } else if (js_urls.length === 0 && js_modules.length === 0 && Object.keys(js_exports).length === 0) {\n",
       "      // There is nothing to load\n",
       "      run_callbacks();\n",
       "      return null;\n",
       "    }\n",
       "\n",
       "    function on_load() {\n",
       "      root._bokeh_is_loading--;\n",
       "      if (root._bokeh_is_loading === 0) {\n",
       "        console.debug(\"Bokeh: all BokehJS libraries/stylesheets loaded\");\n",
       "        run_callbacks()\n",
       "      }\n",
       "    }\n",
       "    window._bokeh_on_load = on_load\n",
       "\n",
       "    function on_error(e) {\n",
       "      const src_el = e.srcElement\n",
       "      console.error(\"failed to load \" + (src_el.href || src_el.src));\n",
       "    }\n",
       "\n",
       "    const skip = [];\n",
       "    if (window.requirejs) {\n",
       "      window.requirejs.config({'packages': {}, 'paths': {}, 'shim': {}});\n",
       "      root._bokeh_is_loading = css_urls.length + 0;\n",
       "    } else {\n",
       "      root._bokeh_is_loading = css_urls.length + js_urls.length + js_modules.length + Object.keys(js_exports).length;\n",
       "    }\n",
       "\n",
       "    const existing_stylesheets = []\n",
       "    const links = document.getElementsByTagName('link')\n",
       "    for (let i = 0; i < links.length; i++) {\n",
       "      const link = links[i]\n",
       "      if (link.href != null) {\n",
       "        existing_stylesheets.push(link.href)\n",
       "      }\n",
       "    }\n",
       "    for (let i = 0; i < css_urls.length; i++) {\n",
       "      const url = css_urls[i];\n",
       "      const escaped = encodeURI(url)\n",
       "      if (existing_stylesheets.indexOf(escaped) !== -1) {\n",
       "        on_load()\n",
       "        continue;\n",
       "      }\n",
       "      const element = document.createElement(\"link\");\n",
       "      element.onload = on_load;\n",
       "      element.onerror = on_error;\n",
       "      element.rel = \"stylesheet\";\n",
       "      element.type = \"text/css\";\n",
       "      element.href = url;\n",
       "      console.debug(\"Bokeh: injecting link tag for BokehJS stylesheet: \", url);\n",
       "      document.body.appendChild(element);\n",
       "    }    var existing_scripts = []\n",
       "    const scripts = document.getElementsByTagName('script')\n",
       "    for (let i = 0; i < scripts.length; i++) {\n",
       "      var script = scripts[i]\n",
       "      if (script.src != null) {\n",
       "        existing_scripts.push(script.src)\n",
       "      }\n",
       "    }\n",
       "    for (let i = 0; i < js_urls.length; i++) {\n",
       "      const url = js_urls[i];\n",
       "      const escaped = encodeURI(url)\n",
       "      if (skip.indexOf(escaped) !== -1 || existing_scripts.indexOf(escaped) !== -1) {\n",
       "        if (!window.requirejs) {\n",
       "          on_load();\n",
       "        }\n",
       "        continue;\n",
       "      }\n",
       "      const element = document.createElement('script');\n",
       "      element.onload = on_load;\n",
       "      element.onerror = on_error;\n",
       "      element.async = false;\n",
       "      element.src = url;\n",
       "      console.debug(\"Bokeh: injecting script tag for BokehJS library: \", url);\n",
       "      document.head.appendChild(element);\n",
       "    }\n",
       "    for (let i = 0; i < js_modules.length; i++) {\n",
       "      const url = js_modules[i];\n",
       "      const escaped = encodeURI(url)\n",
       "      if (skip.indexOf(escaped) !== -1 || existing_scripts.indexOf(escaped) !== -1) {\n",
       "        if (!window.requirejs) {\n",
       "          on_load();\n",
       "        }\n",
       "        continue;\n",
       "      }\n",
       "      var element = document.createElement('script');\n",
       "      element.onload = on_load;\n",
       "      element.onerror = on_error;\n",
       "      element.async = false;\n",
       "      element.src = url;\n",
       "      element.type = \"module\";\n",
       "      console.debug(\"Bokeh: injecting script tag for BokehJS library: \", url);\n",
       "      document.head.appendChild(element);\n",
       "    }\n",
       "    for (const name in js_exports) {\n",
       "      const url = js_exports[name];\n",
       "      const escaped = encodeURI(url)\n",
       "      if (skip.indexOf(escaped) >= 0 || root[name] != null) {\n",
       "        if (!window.requirejs) {\n",
       "          on_load();\n",
       "        }\n",
       "        continue;\n",
       "      }\n",
       "      var element = document.createElement('script');\n",
       "      element.onerror = on_error;\n",
       "      element.async = false;\n",
       "      element.type = \"module\";\n",
       "      console.debug(\"Bokeh: injecting script tag for BokehJS library: \", url);\n",
       "      element.textContent = `\n",
       "      import ${name} from \"${url}\"\n",
       "      window.${name} = ${name}\n",
       "      window._bokeh_on_load()\n",
       "      `\n",
       "      document.head.appendChild(element);\n",
       "    }\n",
       "    if (!js_urls.length && !js_modules.length) {\n",
       "      on_load()\n",
       "    }\n",
       "  };\n",
       "\n",
       "  function inject_raw_css(css) {\n",
       "    const element = document.createElement(\"style\");\n",
       "    element.appendChild(document.createTextNode(css));\n",
       "    document.body.appendChild(element);\n",
       "  }\n",
       "\n",
       "  const js_urls = [\"https://cdn.holoviz.org/panel/1.6.1/dist/bundled/reactiveesm/es-module-shims@^1.10.0/dist/es-module-shims.min.js\", \"https://cdn.bokeh.org/bokeh/release/bokeh-3.6.3.min.js\", \"https://cdn.bokeh.org/bokeh/release/bokeh-gl-3.6.3.min.js\", \"https://cdn.bokeh.org/bokeh/release/bokeh-widgets-3.6.3.min.js\", \"https://cdn.bokeh.org/bokeh/release/bokeh-tables-3.6.3.min.js\", \"https://cdn.holoviz.org/panel/1.6.1/dist/panel.min.js\"];\n",
       "  const js_modules = [];\n",
       "  const js_exports = {};\n",
       "  const css_urls = [];\n",
       "  const inline_js = [    function(Bokeh) {\n",
       "      Bokeh.set_log_level(\"info\");\n",
       "    },\n",
       "function(Bokeh) {} // ensure no trailing comma for IE\n",
       "  ];\n",
       "\n",
       "  function run_inline_js() {\n",
       "    if ((root.Bokeh !== undefined) || (force === true)) {\n",
       "      for (let i = 0; i < inline_js.length; i++) {\n",
       "        try {\n",
       "          inline_js[i].call(root, root.Bokeh);\n",
       "        } catch(e) {\n",
       "          if (!reloading) {\n",
       "            throw e;\n",
       "          }\n",
       "        }\n",
       "      }\n",
       "      // Cache old bokeh versions\n",
       "      if (Bokeh != undefined && !reloading) {\n",
       "        var NewBokeh = root.Bokeh;\n",
       "        if (Bokeh.versions === undefined) {\n",
       "          Bokeh.versions = new Map();\n",
       "        }\n",
       "        if (NewBokeh.version !== Bokeh.version) {\n",
       "          Bokeh.versions.set(NewBokeh.version, NewBokeh)\n",
       "        }\n",
       "        root.Bokeh = Bokeh;\n",
       "      }\n",
       "    } else if (Date.now() < root._bokeh_timeout) {\n",
       "      setTimeout(run_inline_js, 100);\n",
       "    } else if (!root._bokeh_failed_load) {\n",
       "      console.log(\"Bokeh: BokehJS failed to load within specified timeout.\");\n",
       "      root._bokeh_failed_load = true;\n",
       "    }\n",
       "    root._bokeh_is_initializing = false\n",
       "  }\n",
       "\n",
       "  function load_or_wait() {\n",
       "    // Implement a backoff loop that tries to ensure we do not load multiple\n",
       "    // versions of Bokeh and its dependencies at the same time.\n",
       "    // In recent versions we use the root._bokeh_is_initializing flag\n",
       "    // to determine whether there is an ongoing attempt to initialize\n",
       "    // bokeh, however for backward compatibility we also try to ensure\n",
       "    // that we do not start loading a newer (Panel>=1.0 and Bokeh>3) version\n",
       "    // before older versions are fully initialized.\n",
       "    if (root._bokeh_is_initializing && Date.now() > root._bokeh_timeout) {\n",
       "      // If the timeout and bokeh was not successfully loaded we reset\n",
       "      // everything and try loading again\n",
       "      root._bokeh_timeout = Date.now() + 5000;\n",
       "      root._bokeh_is_initializing = false;\n",
       "      root._bokeh_onload_callbacks = undefined;\n",
       "      root._bokeh_is_loading = 0\n",
       "      console.log(\"Bokeh: BokehJS was loaded multiple times but one version failed to initialize.\");\n",
       "      load_or_wait();\n",
       "    } else if (root._bokeh_is_initializing || (typeof root._bokeh_is_initializing === \"undefined\" && root._bokeh_onload_callbacks !== undefined)) {\n",
       "      setTimeout(load_or_wait, 100);\n",
       "    } else {\n",
       "      root._bokeh_is_initializing = true\n",
       "      root._bokeh_onload_callbacks = []\n",
       "      const bokeh_loaded = root.Bokeh != null && (root.Bokeh.version === py_version || (root.Bokeh.versions !== undefined && root.Bokeh.versions.has(py_version)));\n",
       "      if (!reloading && !bokeh_loaded) {\n",
       "        if (root.Bokeh) {\n",
       "          root.Bokeh = undefined;\n",
       "        }\n",
       "        console.debug(\"Bokeh: BokehJS not loaded, scheduling load and callback at\", now());\n",
       "      }\n",
       "      load_libs(css_urls, js_urls, js_modules, js_exports, function() {\n",
       "        console.debug(\"Bokeh: BokehJS plotting callback run at\", now());\n",
       "        run_inline_js();\n",
       "      });\n",
       "    }\n",
       "  }\n",
       "  // Give older versions of the autoload script a head-start to ensure\n",
       "  // they initialize before we start loading newer version.\n",
       "  setTimeout(load_or_wait, 100)\n",
       "}(window));"
      ],
      "application/vnd.holoviews_load.v0+json": "(function(root) {\n  function now() {\n    return new Date();\n  }\n\n  const force = true;\n  const py_version = '3.6.3'.replace('rc', '-rc.').replace('.dev', '-dev.');\n  const reloading = false;\n  const Bokeh = root.Bokeh;\n\n  // Set a timeout for this load but only if we are not already initializing\n  if (typeof (root._bokeh_timeout) === \"undefined\" || (force || !root._bokeh_is_initializing)) {\n    root._bokeh_timeout = Date.now() + 5000;\n    root._bokeh_failed_load = false;\n  }\n\n  function run_callbacks() {\n    try {\n      root._bokeh_onload_callbacks.forEach(function(callback) {\n        if (callback != null)\n          callback();\n      });\n    } finally {\n      delete root._bokeh_onload_callbacks;\n    }\n    console.debug(\"Bokeh: all callbacks have finished\");\n  }\n\n  function load_libs(css_urls, js_urls, js_modules, js_exports, callback) {\n    if (css_urls == null) css_urls = [];\n    if (js_urls == null) js_urls = [];\n    if (js_modules == null) js_modules = [];\n    if (js_exports == null) js_exports = {};\n\n    root._bokeh_onload_callbacks.push(callback);\n\n    if (root._bokeh_is_loading > 0) {\n      // Don't load bokeh if it is still initializing\n      console.debug(\"Bokeh: BokehJS is being loaded, scheduling callback at\", now());\n      return null;\n    } else if (js_urls.length === 0 && js_modules.length === 0 && Object.keys(js_exports).length === 0) {\n      // There is nothing to load\n      run_callbacks();\n      return null;\n    }\n\n    function on_load() {\n      root._bokeh_is_loading--;\n      if (root._bokeh_is_loading === 0) {\n        console.debug(\"Bokeh: all BokehJS libraries/stylesheets loaded\");\n        run_callbacks()\n      }\n    }\n    window._bokeh_on_load = on_load\n\n    function on_error(e) {\n      const src_el = e.srcElement\n      console.error(\"failed to load \" + (src_el.href || src_el.src));\n    }\n\n    const skip = [];\n    if (window.requirejs) {\n      window.requirejs.config({'packages': {}, 'paths': {}, 'shim': {}});\n      root._bokeh_is_loading = css_urls.length + 0;\n    } else {\n      root._bokeh_is_loading = css_urls.length + js_urls.length + js_modules.length + Object.keys(js_exports).length;\n    }\n\n    const existing_stylesheets = []\n    const links = document.getElementsByTagName('link')\n    for (let i = 0; i < links.length; i++) {\n      const link = links[i]\n      if (link.href != null) {\n        existing_stylesheets.push(link.href)\n      }\n    }\n    for (let i = 0; i < css_urls.length; i++) {\n      const url = css_urls[i];\n      const escaped = encodeURI(url)\n      if (existing_stylesheets.indexOf(escaped) !== -1) {\n        on_load()\n        continue;\n      }\n      const element = document.createElement(\"link\");\n      element.onload = on_load;\n      element.onerror = on_error;\n      element.rel = \"stylesheet\";\n      element.type = \"text/css\";\n      element.href = url;\n      console.debug(\"Bokeh: injecting link tag for BokehJS stylesheet: \", url);\n      document.body.appendChild(element);\n    }    var existing_scripts = []\n    const scripts = document.getElementsByTagName('script')\n    for (let i = 0; i < scripts.length; i++) {\n      var script = scripts[i]\n      if (script.src != null) {\n        existing_scripts.push(script.src)\n      }\n    }\n    for (let i = 0; i < js_urls.length; i++) {\n      const url = js_urls[i];\n      const escaped = encodeURI(url)\n      if (skip.indexOf(escaped) !== -1 || existing_scripts.indexOf(escaped) !== -1) {\n        if (!window.requirejs) {\n          on_load();\n        }\n        continue;\n      }\n      const element = document.createElement('script');\n      element.onload = on_load;\n      element.onerror = on_error;\n      element.async = false;\n      element.src = url;\n      console.debug(\"Bokeh: injecting script tag for BokehJS library: \", url);\n      document.head.appendChild(element);\n    }\n    for (let i = 0; i < js_modules.length; i++) {\n      const url = js_modules[i];\n      const escaped = encodeURI(url)\n      if (skip.indexOf(escaped) !== -1 || existing_scripts.indexOf(escaped) !== -1) {\n        if (!window.requirejs) {\n          on_load();\n        }\n        continue;\n      }\n      var element = document.createElement('script');\n      element.onload = on_load;\n      element.onerror = on_error;\n      element.async = false;\n      element.src = url;\n      element.type = \"module\";\n      console.debug(\"Bokeh: injecting script tag for BokehJS library: \", url);\n      document.head.appendChild(element);\n    }\n    for (const name in js_exports) {\n      const url = js_exports[name];\n      const escaped = encodeURI(url)\n      if (skip.indexOf(escaped) >= 0 || root[name] != null) {\n        if (!window.requirejs) {\n          on_load();\n        }\n        continue;\n      }\n      var element = document.createElement('script');\n      element.onerror = on_error;\n      element.async = false;\n      element.type = \"module\";\n      console.debug(\"Bokeh: injecting script tag for BokehJS library: \", url);\n      element.textContent = `\n      import ${name} from \"${url}\"\n      window.${name} = ${name}\n      window._bokeh_on_load()\n      `\n      document.head.appendChild(element);\n    }\n    if (!js_urls.length && !js_modules.length) {\n      on_load()\n    }\n  };\n\n  function inject_raw_css(css) {\n    const element = document.createElement(\"style\");\n    element.appendChild(document.createTextNode(css));\n    document.body.appendChild(element);\n  }\n\n  const js_urls = [\"https://cdn.holoviz.org/panel/1.6.1/dist/bundled/reactiveesm/es-module-shims@^1.10.0/dist/es-module-shims.min.js\", \"https://cdn.bokeh.org/bokeh/release/bokeh-3.6.3.min.js\", \"https://cdn.bokeh.org/bokeh/release/bokeh-gl-3.6.3.min.js\", \"https://cdn.bokeh.org/bokeh/release/bokeh-widgets-3.6.3.min.js\", \"https://cdn.bokeh.org/bokeh/release/bokeh-tables-3.6.3.min.js\", \"https://cdn.holoviz.org/panel/1.6.1/dist/panel.min.js\"];\n  const js_modules = [];\n  const js_exports = {};\n  const css_urls = [];\n  const inline_js = [    function(Bokeh) {\n      Bokeh.set_log_level(\"info\");\n    },\nfunction(Bokeh) {} // ensure no trailing comma for IE\n  ];\n\n  function run_inline_js() {\n    if ((root.Bokeh !== undefined) || (force === true)) {\n      for (let i = 0; i < inline_js.length; i++) {\n        try {\n          inline_js[i].call(root, root.Bokeh);\n        } catch(e) {\n          if (!reloading) {\n            throw e;\n          }\n        }\n      }\n      // Cache old bokeh versions\n      if (Bokeh != undefined && !reloading) {\n        var NewBokeh = root.Bokeh;\n        if (Bokeh.versions === undefined) {\n          Bokeh.versions = new Map();\n        }\n        if (NewBokeh.version !== Bokeh.version) {\n          Bokeh.versions.set(NewBokeh.version, NewBokeh)\n        }\n        root.Bokeh = Bokeh;\n      }\n    } else if (Date.now() < root._bokeh_timeout) {\n      setTimeout(run_inline_js, 100);\n    } else if (!root._bokeh_failed_load) {\n      console.log(\"Bokeh: BokehJS failed to load within specified timeout.\");\n      root._bokeh_failed_load = true;\n    }\n    root._bokeh_is_initializing = false\n  }\n\n  function load_or_wait() {\n    // Implement a backoff loop that tries to ensure we do not load multiple\n    // versions of Bokeh and its dependencies at the same time.\n    // In recent versions we use the root._bokeh_is_initializing flag\n    // to determine whether there is an ongoing attempt to initialize\n    // bokeh, however for backward compatibility we also try to ensure\n    // that we do not start loading a newer (Panel>=1.0 and Bokeh>3) version\n    // before older versions are fully initialized.\n    if (root._bokeh_is_initializing && Date.now() > root._bokeh_timeout) {\n      // If the timeout and bokeh was not successfully loaded we reset\n      // everything and try loading again\n      root._bokeh_timeout = Date.now() + 5000;\n      root._bokeh_is_initializing = false;\n      root._bokeh_onload_callbacks = undefined;\n      root._bokeh_is_loading = 0\n      console.log(\"Bokeh: BokehJS was loaded multiple times but one version failed to initialize.\");\n      load_or_wait();\n    } else if (root._bokeh_is_initializing || (typeof root._bokeh_is_initializing === \"undefined\" && root._bokeh_onload_callbacks !== undefined)) {\n      setTimeout(load_or_wait, 100);\n    } else {\n      root._bokeh_is_initializing = true\n      root._bokeh_onload_callbacks = []\n      const bokeh_loaded = root.Bokeh != null && (root.Bokeh.version === py_version || (root.Bokeh.versions !== undefined && root.Bokeh.versions.has(py_version)));\n      if (!reloading && !bokeh_loaded) {\n        if (root.Bokeh) {\n          root.Bokeh = undefined;\n        }\n        console.debug(\"Bokeh: BokehJS not loaded, scheduling load and callback at\", now());\n      }\n      load_libs(css_urls, js_urls, js_modules, js_exports, function() {\n        console.debug(\"Bokeh: BokehJS plotting callback run at\", now());\n        run_inline_js();\n      });\n    }\n  }\n  // Give older versions of the autoload script a head-start to ensure\n  // they initialize before we start loading newer version.\n  setTimeout(load_or_wait, 100)\n}(window));"
     },
     "metadata": {},
     "output_type": "display_data"
    },
    {
     "data": {
      "application/javascript": [
       "\n",
       "if ((window.PyViz === undefined) || (window.PyViz instanceof HTMLElement)) {\n",
       "  window.PyViz = {comms: {}, comm_status:{}, kernels:{}, receivers: {}, plot_index: []}\n",
       "}\n",
       "\n",
       "\n",
       "    function JupyterCommManager() {\n",
       "    }\n",
       "\n",
       "    JupyterCommManager.prototype.register_target = function(plot_id, comm_id, msg_handler) {\n",
       "      if (window.comm_manager || ((window.Jupyter !== undefined) && (Jupyter.notebook.kernel != null))) {\n",
       "        var comm_manager = window.comm_manager || Jupyter.notebook.kernel.comm_manager;\n",
       "        comm_manager.register_target(comm_id, function(comm) {\n",
       "          comm.on_msg(msg_handler);\n",
       "        });\n",
       "      } else if ((plot_id in window.PyViz.kernels) && (window.PyViz.kernels[plot_id])) {\n",
       "        window.PyViz.kernels[plot_id].registerCommTarget(comm_id, function(comm) {\n",
       "          comm.onMsg = msg_handler;\n",
       "        });\n",
       "      } else if (typeof google != 'undefined' && google.colab.kernel != null) {\n",
       "        google.colab.kernel.comms.registerTarget(comm_id, (comm) => {\n",
       "          var messages = comm.messages[Symbol.asyncIterator]();\n",
       "          function processIteratorResult(result) {\n",
       "            var message = result.value;\n",
       "            console.log(message)\n",
       "            var content = {data: message.data, comm_id};\n",
       "            var buffers = []\n",
       "            for (var buffer of message.buffers || []) {\n",
       "              buffers.push(new DataView(buffer))\n",
       "            }\n",
       "            var metadata = message.metadata || {};\n",
       "            var msg = {content, buffers, metadata}\n",
       "            msg_handler(msg);\n",
       "            return messages.next().then(processIteratorResult);\n",
       "          }\n",
       "          return messages.next().then(processIteratorResult);\n",
       "        })\n",
       "      }\n",
       "    }\n",
       "\n",
       "    JupyterCommManager.prototype.get_client_comm = function(plot_id, comm_id, msg_handler) {\n",
       "      if (comm_id in window.PyViz.comms) {\n",
       "        return window.PyViz.comms[comm_id];\n",
       "      } else if (window.comm_manager || ((window.Jupyter !== undefined) && (Jupyter.notebook.kernel != null))) {\n",
       "        var comm_manager = window.comm_manager || Jupyter.notebook.kernel.comm_manager;\n",
       "        var comm = comm_manager.new_comm(comm_id, {}, {}, {}, comm_id);\n",
       "        if (msg_handler) {\n",
       "          comm.on_msg(msg_handler);\n",
       "        }\n",
       "      } else if ((plot_id in window.PyViz.kernels) && (window.PyViz.kernels[plot_id])) {\n",
       "        var comm = window.PyViz.kernels[plot_id].connectToComm(comm_id);\n",
       "        comm.open();\n",
       "        if (msg_handler) {\n",
       "          comm.onMsg = msg_handler;\n",
       "        }\n",
       "      } else if (typeof google != 'undefined' && google.colab.kernel != null) {\n",
       "        var comm_promise = google.colab.kernel.comms.open(comm_id)\n",
       "        comm_promise.then((comm) => {\n",
       "          window.PyViz.comms[comm_id] = comm;\n",
       "          if (msg_handler) {\n",
       "            var messages = comm.messages[Symbol.asyncIterator]();\n",
       "            function processIteratorResult(result) {\n",
       "              var message = result.value;\n",
       "              var content = {data: message.data};\n",
       "              var metadata = message.metadata || {comm_id};\n",
       "              var msg = {content, metadata}\n",
       "              msg_handler(msg);\n",
       "              return messages.next().then(processIteratorResult);\n",
       "            }\n",
       "            return messages.next().then(processIteratorResult);\n",
       "          }\n",
       "        })\n",
       "        var sendClosure = (data, metadata, buffers, disposeOnDone) => {\n",
       "          return comm_promise.then((comm) => {\n",
       "            comm.send(data, metadata, buffers, disposeOnDone);\n",
       "          });\n",
       "        };\n",
       "        var comm = {\n",
       "          send: sendClosure\n",
       "        };\n",
       "      }\n",
       "      window.PyViz.comms[comm_id] = comm;\n",
       "      return comm;\n",
       "    }\n",
       "    window.PyViz.comm_manager = new JupyterCommManager();\n",
       "    \n",
       "\n",
       "\n",
       "var JS_MIME_TYPE = 'application/javascript';\n",
       "var HTML_MIME_TYPE = 'text/html';\n",
       "var EXEC_MIME_TYPE = 'application/vnd.holoviews_exec.v0+json';\n",
       "var CLASS_NAME = 'output';\n",
       "\n",
       "/**\n",
       " * Render data to the DOM node\n",
       " */\n",
       "function render(props, node) {\n",
       "  var div = document.createElement(\"div\");\n",
       "  var script = document.createElement(\"script\");\n",
       "  node.appendChild(div);\n",
       "  node.appendChild(script);\n",
       "}\n",
       "\n",
       "/**\n",
       " * Handle when a new output is added\n",
       " */\n",
       "function handle_add_output(event, handle) {\n",
       "  var output_area = handle.output_area;\n",
       "  var output = handle.output;\n",
       "  if ((output.data == undefined) || (!output.data.hasOwnProperty(EXEC_MIME_TYPE))) {\n",
       "    return\n",
       "  }\n",
       "  var id = output.metadata[EXEC_MIME_TYPE][\"id\"];\n",
       "  var toinsert = output_area.element.find(\".\" + CLASS_NAME.split(' ')[0]);\n",
       "  if (id !== undefined) {\n",
       "    var nchildren = toinsert.length;\n",
       "    var html_node = toinsert[nchildren-1].children[0];\n",
       "    html_node.innerHTML = output.data[HTML_MIME_TYPE];\n",
       "    var scripts = [];\n",
       "    var nodelist = html_node.querySelectorAll(\"script\");\n",
       "    for (var i in nodelist) {\n",
       "      if (nodelist.hasOwnProperty(i)) {\n",
       "        scripts.push(nodelist[i])\n",
       "      }\n",
       "    }\n",
       "\n",
       "    scripts.forEach( function (oldScript) {\n",
       "      var newScript = document.createElement(\"script\");\n",
       "      var attrs = [];\n",
       "      var nodemap = oldScript.attributes;\n",
       "      for (var j in nodemap) {\n",
       "        if (nodemap.hasOwnProperty(j)) {\n",
       "          attrs.push(nodemap[j])\n",
       "        }\n",
       "      }\n",
       "      attrs.forEach(function(attr) { newScript.setAttribute(attr.name, attr.value) });\n",
       "      newScript.appendChild(document.createTextNode(oldScript.innerHTML));\n",
       "      oldScript.parentNode.replaceChild(newScript, oldScript);\n",
       "    });\n",
       "    if (JS_MIME_TYPE in output.data) {\n",
       "      toinsert[nchildren-1].children[1].textContent = output.data[JS_MIME_TYPE];\n",
       "    }\n",
       "    output_area._hv_plot_id = id;\n",
       "    if ((window.Bokeh !== undefined) && (id in Bokeh.index)) {\n",
       "      window.PyViz.plot_index[id] = Bokeh.index[id];\n",
       "    } else {\n",
       "      window.PyViz.plot_index[id] = null;\n",
       "    }\n",
       "  } else if (output.metadata[EXEC_MIME_TYPE][\"server_id\"] !== undefined) {\n",
       "    var bk_div = document.createElement(\"div\");\n",
       "    bk_div.innerHTML = output.data[HTML_MIME_TYPE];\n",
       "    var script_attrs = bk_div.children[0].attributes;\n",
       "    for (var i = 0; i < script_attrs.length; i++) {\n",
       "      toinsert[toinsert.length - 1].childNodes[1].setAttribute(script_attrs[i].name, script_attrs[i].value);\n",
       "    }\n",
       "    // store reference to server id on output_area\n",
       "    output_area._bokeh_server_id = output.metadata[EXEC_MIME_TYPE][\"server_id\"];\n",
       "  }\n",
       "}\n",
       "\n",
       "/**\n",
       " * Handle when an output is cleared or removed\n",
       " */\n",
       "function handle_clear_output(event, handle) {\n",
       "  var id = handle.cell.output_area._hv_plot_id;\n",
       "  var server_id = handle.cell.output_area._bokeh_server_id;\n",
       "  if (((id === undefined) || !(id in PyViz.plot_index)) && (server_id !== undefined)) { return; }\n",
       "  var comm = window.PyViz.comm_manager.get_client_comm(\"hv-extension-comm\", \"hv-extension-comm\", function () {});\n",
       "  if (server_id !== null) {\n",
       "    comm.send({event_type: 'server_delete', 'id': server_id});\n",
       "    return;\n",
       "  } else if (comm !== null) {\n",
       "    comm.send({event_type: 'delete', 'id': id});\n",
       "  }\n",
       "  delete PyViz.plot_index[id];\n",
       "  if ((window.Bokeh !== undefined) & (id in window.Bokeh.index)) {\n",
       "    var doc = window.Bokeh.index[id].model.document\n",
       "    doc.clear();\n",
       "    const i = window.Bokeh.documents.indexOf(doc);\n",
       "    if (i > -1) {\n",
       "      window.Bokeh.documents.splice(i, 1);\n",
       "    }\n",
       "  }\n",
       "}\n",
       "\n",
       "/**\n",
       " * Handle kernel restart event\n",
       " */\n",
       "function handle_kernel_cleanup(event, handle) {\n",
       "  delete PyViz.comms[\"hv-extension-comm\"];\n",
       "  window.PyViz.plot_index = {}\n",
       "}\n",
       "\n",
       "/**\n",
       " * Handle update_display_data messages\n",
       " */\n",
       "function handle_update_output(event, handle) {\n",
       "  handle_clear_output(event, {cell: {output_area: handle.output_area}})\n",
       "  handle_add_output(event, handle)\n",
       "}\n",
       "\n",
       "function register_renderer(events, OutputArea) {\n",
       "  function append_mime(data, metadata, element) {\n",
       "    // create a DOM node to render to\n",
       "    var toinsert = this.create_output_subarea(\n",
       "    metadata,\n",
       "    CLASS_NAME,\n",
       "    EXEC_MIME_TYPE\n",
       "    );\n",
       "    this.keyboard_manager.register_events(toinsert);\n",
       "    // Render to node\n",
       "    var props = {data: data, metadata: metadata[EXEC_MIME_TYPE]};\n",
       "    render(props, toinsert[0]);\n",
       "    element.append(toinsert);\n",
       "    return toinsert\n",
       "  }\n",
       "\n",
       "  events.on('output_added.OutputArea', handle_add_output);\n",
       "  events.on('output_updated.OutputArea', handle_update_output);\n",
       "  events.on('clear_output.CodeCell', handle_clear_output);\n",
       "  events.on('delete.Cell', handle_clear_output);\n",
       "  events.on('kernel_ready.Kernel', handle_kernel_cleanup);\n",
       "\n",
       "  OutputArea.prototype.register_mime_type(EXEC_MIME_TYPE, append_mime, {\n",
       "    safe: true,\n",
       "    index: 0\n",
       "  });\n",
       "}\n",
       "\n",
       "if (window.Jupyter !== undefined) {\n",
       "  try {\n",
       "    var events = require('base/js/events');\n",
       "    var OutputArea = require('notebook/js/outputarea').OutputArea;\n",
       "    if (OutputArea.prototype.mime_types().indexOf(EXEC_MIME_TYPE) == -1) {\n",
       "      register_renderer(events, OutputArea);\n",
       "    }\n",
       "  } catch(err) {\n",
       "  }\n",
       "}\n"
      ],
      "application/vnd.holoviews_load.v0+json": "\nif ((window.PyViz === undefined) || (window.PyViz instanceof HTMLElement)) {\n  window.PyViz = {comms: {}, comm_status:{}, kernels:{}, receivers: {}, plot_index: []}\n}\n\n\n    function JupyterCommManager() {\n    }\n\n    JupyterCommManager.prototype.register_target = function(plot_id, comm_id, msg_handler) {\n      if (window.comm_manager || ((window.Jupyter !== undefined) && (Jupyter.notebook.kernel != null))) {\n        var comm_manager = window.comm_manager || Jupyter.notebook.kernel.comm_manager;\n        comm_manager.register_target(comm_id, function(comm) {\n          comm.on_msg(msg_handler);\n        });\n      } else if ((plot_id in window.PyViz.kernels) && (window.PyViz.kernels[plot_id])) {\n        window.PyViz.kernels[plot_id].registerCommTarget(comm_id, function(comm) {\n          comm.onMsg = msg_handler;\n        });\n      } else if (typeof google != 'undefined' && google.colab.kernel != null) {\n        google.colab.kernel.comms.registerTarget(comm_id, (comm) => {\n          var messages = comm.messages[Symbol.asyncIterator]();\n          function processIteratorResult(result) {\n            var message = result.value;\n            console.log(message)\n            var content = {data: message.data, comm_id};\n            var buffers = []\n            for (var buffer of message.buffers || []) {\n              buffers.push(new DataView(buffer))\n            }\n            var metadata = message.metadata || {};\n            var msg = {content, buffers, metadata}\n            msg_handler(msg);\n            return messages.next().then(processIteratorResult);\n          }\n          return messages.next().then(processIteratorResult);\n        })\n      }\n    }\n\n    JupyterCommManager.prototype.get_client_comm = function(plot_id, comm_id, msg_handler) {\n      if (comm_id in window.PyViz.comms) {\n        return window.PyViz.comms[comm_id];\n      } else if (window.comm_manager || ((window.Jupyter !== undefined) && (Jupyter.notebook.kernel != null))) {\n        var comm_manager = window.comm_manager || Jupyter.notebook.kernel.comm_manager;\n        var comm = comm_manager.new_comm(comm_id, {}, {}, {}, comm_id);\n        if (msg_handler) {\n          comm.on_msg(msg_handler);\n        }\n      } else if ((plot_id in window.PyViz.kernels) && (window.PyViz.kernels[plot_id])) {\n        var comm = window.PyViz.kernels[plot_id].connectToComm(comm_id);\n        comm.open();\n        if (msg_handler) {\n          comm.onMsg = msg_handler;\n        }\n      } else if (typeof google != 'undefined' && google.colab.kernel != null) {\n        var comm_promise = google.colab.kernel.comms.open(comm_id)\n        comm_promise.then((comm) => {\n          window.PyViz.comms[comm_id] = comm;\n          if (msg_handler) {\n            var messages = comm.messages[Symbol.asyncIterator]();\n            function processIteratorResult(result) {\n              var message = result.value;\n              var content = {data: message.data};\n              var metadata = message.metadata || {comm_id};\n              var msg = {content, metadata}\n              msg_handler(msg);\n              return messages.next().then(processIteratorResult);\n            }\n            return messages.next().then(processIteratorResult);\n          }\n        })\n        var sendClosure = (data, metadata, buffers, disposeOnDone) => {\n          return comm_promise.then((comm) => {\n            comm.send(data, metadata, buffers, disposeOnDone);\n          });\n        };\n        var comm = {\n          send: sendClosure\n        };\n      }\n      window.PyViz.comms[comm_id] = comm;\n      return comm;\n    }\n    window.PyViz.comm_manager = new JupyterCommManager();\n    \n\n\nvar JS_MIME_TYPE = 'application/javascript';\nvar HTML_MIME_TYPE = 'text/html';\nvar EXEC_MIME_TYPE = 'application/vnd.holoviews_exec.v0+json';\nvar CLASS_NAME = 'output';\n\n/**\n * Render data to the DOM node\n */\nfunction render(props, node) {\n  var div = document.createElement(\"div\");\n  var script = document.createElement(\"script\");\n  node.appendChild(div);\n  node.appendChild(script);\n}\n\n/**\n * Handle when a new output is added\n */\nfunction handle_add_output(event, handle) {\n  var output_area = handle.output_area;\n  var output = handle.output;\n  if ((output.data == undefined) || (!output.data.hasOwnProperty(EXEC_MIME_TYPE))) {\n    return\n  }\n  var id = output.metadata[EXEC_MIME_TYPE][\"id\"];\n  var toinsert = output_area.element.find(\".\" + CLASS_NAME.split(' ')[0]);\n  if (id !== undefined) {\n    var nchildren = toinsert.length;\n    var html_node = toinsert[nchildren-1].children[0];\n    html_node.innerHTML = output.data[HTML_MIME_TYPE];\n    var scripts = [];\n    var nodelist = html_node.querySelectorAll(\"script\");\n    for (var i in nodelist) {\n      if (nodelist.hasOwnProperty(i)) {\n        scripts.push(nodelist[i])\n      }\n    }\n\n    scripts.forEach( function (oldScript) {\n      var newScript = document.createElement(\"script\");\n      var attrs = [];\n      var nodemap = oldScript.attributes;\n      for (var j in nodemap) {\n        if (nodemap.hasOwnProperty(j)) {\n          attrs.push(nodemap[j])\n        }\n      }\n      attrs.forEach(function(attr) { newScript.setAttribute(attr.name, attr.value) });\n      newScript.appendChild(document.createTextNode(oldScript.innerHTML));\n      oldScript.parentNode.replaceChild(newScript, oldScript);\n    });\n    if (JS_MIME_TYPE in output.data) {\n      toinsert[nchildren-1].children[1].textContent = output.data[JS_MIME_TYPE];\n    }\n    output_area._hv_plot_id = id;\n    if ((window.Bokeh !== undefined) && (id in Bokeh.index)) {\n      window.PyViz.plot_index[id] = Bokeh.index[id];\n    } else {\n      window.PyViz.plot_index[id] = null;\n    }\n  } else if (output.metadata[EXEC_MIME_TYPE][\"server_id\"] !== undefined) {\n    var bk_div = document.createElement(\"div\");\n    bk_div.innerHTML = output.data[HTML_MIME_TYPE];\n    var script_attrs = bk_div.children[0].attributes;\n    for (var i = 0; i < script_attrs.length; i++) {\n      toinsert[toinsert.length - 1].childNodes[1].setAttribute(script_attrs[i].name, script_attrs[i].value);\n    }\n    // store reference to server id on output_area\n    output_area._bokeh_server_id = output.metadata[EXEC_MIME_TYPE][\"server_id\"];\n  }\n}\n\n/**\n * Handle when an output is cleared or removed\n */\nfunction handle_clear_output(event, handle) {\n  var id = handle.cell.output_area._hv_plot_id;\n  var server_id = handle.cell.output_area._bokeh_server_id;\n  if (((id === undefined) || !(id in PyViz.plot_index)) && (server_id !== undefined)) { return; }\n  var comm = window.PyViz.comm_manager.get_client_comm(\"hv-extension-comm\", \"hv-extension-comm\", function () {});\n  if (server_id !== null) {\n    comm.send({event_type: 'server_delete', 'id': server_id});\n    return;\n  } else if (comm !== null) {\n    comm.send({event_type: 'delete', 'id': id});\n  }\n  delete PyViz.plot_index[id];\n  if ((window.Bokeh !== undefined) & (id in window.Bokeh.index)) {\n    var doc = window.Bokeh.index[id].model.document\n    doc.clear();\n    const i = window.Bokeh.documents.indexOf(doc);\n    if (i > -1) {\n      window.Bokeh.documents.splice(i, 1);\n    }\n  }\n}\n\n/**\n * Handle kernel restart event\n */\nfunction handle_kernel_cleanup(event, handle) {\n  delete PyViz.comms[\"hv-extension-comm\"];\n  window.PyViz.plot_index = {}\n}\n\n/**\n * Handle update_display_data messages\n */\nfunction handle_update_output(event, handle) {\n  handle_clear_output(event, {cell: {output_area: handle.output_area}})\n  handle_add_output(event, handle)\n}\n\nfunction register_renderer(events, OutputArea) {\n  function append_mime(data, metadata, element) {\n    // create a DOM node to render to\n    var toinsert = this.create_output_subarea(\n    metadata,\n    CLASS_NAME,\n    EXEC_MIME_TYPE\n    );\n    this.keyboard_manager.register_events(toinsert);\n    // Render to node\n    var props = {data: data, metadata: metadata[EXEC_MIME_TYPE]};\n    render(props, toinsert[0]);\n    element.append(toinsert);\n    return toinsert\n  }\n\n  events.on('output_added.OutputArea', handle_add_output);\n  events.on('output_updated.OutputArea', handle_update_output);\n  events.on('clear_output.CodeCell', handle_clear_output);\n  events.on('delete.Cell', handle_clear_output);\n  events.on('kernel_ready.Kernel', handle_kernel_cleanup);\n\n  OutputArea.prototype.register_mime_type(EXEC_MIME_TYPE, append_mime, {\n    safe: true,\n    index: 0\n  });\n}\n\nif (window.Jupyter !== undefined) {\n  try {\n    var events = require('base/js/events');\n    var OutputArea = require('notebook/js/outputarea').OutputArea;\n    if (OutputArea.prototype.mime_types().indexOf(EXEC_MIME_TYPE) == -1) {\n      register_renderer(events, OutputArea);\n    }\n  } catch(err) {\n  }\n}\n"
     },
     "metadata": {},
     "output_type": "display_data"
    },
    {
     "data": {
      "application/vnd.holoviews_exec.v0+json": "",
      "text/html": [
       "<div id='69deaaa5-9731-4125-9406-d72a65d28c51'>\n",
       "  <div id=\"d5e3b598-a6fe-4e3e-af7d-e776107127f6\" data-root-id=\"69deaaa5-9731-4125-9406-d72a65d28c51\" style=\"display: contents;\"></div>\n",
       "</div>\n",
       "<script type=\"application/javascript\">(function(root) {\n",
       "  var docs_json = {\"277418d0-174f-433b-9c1a-f7fa71897481\":{\"version\":\"3.6.3\",\"title\":\"Bokeh Application\",\"roots\":[{\"type\":\"object\",\"name\":\"panel.models.browser.BrowserInfo\",\"id\":\"69deaaa5-9731-4125-9406-d72a65d28c51\"},{\"type\":\"object\",\"name\":\"panel.models.comm_manager.CommManager\",\"id\":\"01c76b84-1935-444f-aefe-ce6196e7130a\",\"attributes\":{\"plot_id\":\"69deaaa5-9731-4125-9406-d72a65d28c51\",\"comm_id\":\"e9ef25cd7fb14c338f25572145a7f753\",\"client_comm_id\":\"968f5ee1f13749a0bdef0cb17a9d5766\"}}],\"defs\":[{\"type\":\"model\",\"name\":\"ReactiveHTML1\"},{\"type\":\"model\",\"name\":\"FlexBox1\",\"properties\":[{\"name\":\"align_content\",\"kind\":\"Any\",\"default\":\"flex-start\"},{\"name\":\"align_items\",\"kind\":\"Any\",\"default\":\"flex-start\"},{\"name\":\"flex_direction\",\"kind\":\"Any\",\"default\":\"row\"},{\"name\":\"flex_wrap\",\"kind\":\"Any\",\"default\":\"wrap\"},{\"name\":\"gap\",\"kind\":\"Any\",\"default\":\"\"},{\"name\":\"justify_content\",\"kind\":\"Any\",\"default\":\"flex-start\"}]},{\"type\":\"model\",\"name\":\"FloatPanel1\",\"properties\":[{\"name\":\"config\",\"kind\":\"Any\",\"default\":{\"type\":\"map\"}},{\"name\":\"contained\",\"kind\":\"Any\",\"default\":true},{\"name\":\"position\",\"kind\":\"Any\",\"default\":\"right-top\"},{\"name\":\"offsetx\",\"kind\":\"Any\",\"default\":null},{\"name\":\"offsety\",\"kind\":\"Any\",\"default\":null},{\"name\":\"theme\",\"kind\":\"Any\",\"default\":\"primary\"},{\"name\":\"status\",\"kind\":\"Any\",\"default\":\"normalized\"}]},{\"type\":\"model\",\"name\":\"GridStack1\",\"properties\":[{\"name\":\"mode\",\"kind\":\"Any\",\"default\":\"warn\"},{\"name\":\"ncols\",\"kind\":\"Any\",\"default\":null},{\"name\":\"nrows\",\"kind\":\"Any\",\"default\":null},{\"name\":\"allow_resize\",\"kind\":\"Any\",\"default\":true},{\"name\":\"allow_drag\",\"kind\":\"Any\",\"default\":true},{\"name\":\"state\",\"kind\":\"Any\",\"default\":[]}]},{\"type\":\"model\",\"name\":\"drag1\",\"properties\":[{\"name\":\"slider_width\",\"kind\":\"Any\",\"default\":5},{\"name\":\"slider_color\",\"kind\":\"Any\",\"default\":\"black\"},{\"name\":\"value\",\"kind\":\"Any\",\"default\":50}]},{\"type\":\"model\",\"name\":\"click1\",\"properties\":[{\"name\":\"terminal_output\",\"kind\":\"Any\",\"default\":\"\"},{\"name\":\"debug_name\",\"kind\":\"Any\",\"default\":\"\"},{\"name\":\"clears\",\"kind\":\"Any\",\"default\":0}]},{\"type\":\"model\",\"name\":\"FastWrapper1\",\"properties\":[{\"name\":\"object\",\"kind\":\"Any\",\"default\":null},{\"name\":\"style\",\"kind\":\"Any\",\"default\":null}]},{\"type\":\"model\",\"name\":\"NotificationAreaBase1\",\"properties\":[{\"name\":\"js_events\",\"kind\":\"Any\",\"default\":{\"type\":\"map\"}},{\"name\":\"position\",\"kind\":\"Any\",\"default\":\"bottom-right\"},{\"name\":\"_clear\",\"kind\":\"Any\",\"default\":0}]},{\"type\":\"model\",\"name\":\"NotificationArea1\",\"properties\":[{\"name\":\"js_events\",\"kind\":\"Any\",\"default\":{\"type\":\"map\"}},{\"name\":\"notifications\",\"kind\":\"Any\",\"default\":[]},{\"name\":\"position\",\"kind\":\"Any\",\"default\":\"bottom-right\"},{\"name\":\"_clear\",\"kind\":\"Any\",\"default\":0},{\"name\":\"types\",\"kind\":\"Any\",\"default\":[{\"type\":\"map\",\"entries\":[[\"type\",\"warning\"],[\"background\",\"#ffc107\"],[\"icon\",{\"type\":\"map\",\"entries\":[[\"className\",\"fas fa-exclamation-triangle\"],[\"tagName\",\"i\"],[\"color\",\"white\"]]}]]},{\"type\":\"map\",\"entries\":[[\"type\",\"info\"],[\"background\",\"#007bff\"],[\"icon\",{\"type\":\"map\",\"entries\":[[\"className\",\"fas fa-info-circle\"],[\"tagName\",\"i\"],[\"color\",\"white\"]]}]]}]}]},{\"type\":\"model\",\"name\":\"Notification\",\"properties\":[{\"name\":\"background\",\"kind\":\"Any\",\"default\":null},{\"name\":\"duration\",\"kind\":\"Any\",\"default\":3000},{\"name\":\"icon\",\"kind\":\"Any\",\"default\":null},{\"name\":\"message\",\"kind\":\"Any\",\"default\":\"\"},{\"name\":\"notification_type\",\"kind\":\"Any\",\"default\":null},{\"name\":\"_rendered\",\"kind\":\"Any\",\"default\":false},{\"name\":\"_destroyed\",\"kind\":\"Any\",\"default\":false}]},{\"type\":\"model\",\"name\":\"TemplateActions1\",\"properties\":[{\"name\":\"open_modal\",\"kind\":\"Any\",\"default\":0},{\"name\":\"close_modal\",\"kind\":\"Any\",\"default\":0}]},{\"type\":\"model\",\"name\":\"BootstrapTemplateActions1\",\"properties\":[{\"name\":\"open_modal\",\"kind\":\"Any\",\"default\":0},{\"name\":\"close_modal\",\"kind\":\"Any\",\"default\":0}]},{\"type\":\"model\",\"name\":\"TemplateEditor1\",\"properties\":[{\"name\":\"layout\",\"kind\":\"Any\",\"default\":[]}]},{\"type\":\"model\",\"name\":\"MaterialTemplateActions1\",\"properties\":[{\"name\":\"open_modal\",\"kind\":\"Any\",\"default\":0},{\"name\":\"close_modal\",\"kind\":\"Any\",\"default\":0}]},{\"type\":\"model\",\"name\":\"ReactiveESM1\",\"properties\":[{\"name\":\"esm_constants\",\"kind\":\"Any\",\"default\":{\"type\":\"map\"}}]},{\"type\":\"model\",\"name\":\"JSComponent1\",\"properties\":[{\"name\":\"esm_constants\",\"kind\":\"Any\",\"default\":{\"type\":\"map\"}}]},{\"type\":\"model\",\"name\":\"ReactComponent1\",\"properties\":[{\"name\":\"esm_constants\",\"kind\":\"Any\",\"default\":{\"type\":\"map\"}}]},{\"type\":\"model\",\"name\":\"AnyWidgetComponent1\",\"properties\":[{\"name\":\"esm_constants\",\"kind\":\"Any\",\"default\":{\"type\":\"map\"}}]},{\"type\":\"model\",\"name\":\"request_value1\",\"properties\":[{\"name\":\"fill\",\"kind\":\"Any\",\"default\":\"none\"},{\"name\":\"_synced\",\"kind\":\"Any\",\"default\":null},{\"name\":\"_request_sync\",\"kind\":\"Any\",\"default\":0}]}]}};\n",
       "  var render_items = [{\"docid\":\"277418d0-174f-433b-9c1a-f7fa71897481\",\"roots\":{\"69deaaa5-9731-4125-9406-d72a65d28c51\":\"d5e3b598-a6fe-4e3e-af7d-e776107127f6\"},\"root_ids\":[\"69deaaa5-9731-4125-9406-d72a65d28c51\"]}];\n",
       "  var docs = Object.values(docs_json)\n",
       "  if (!docs) {\n",
       "    return\n",
       "  }\n",
       "  const py_version = docs[0].version.replace('rc', '-rc.').replace('.dev', '-dev.')\n",
       "  async function embed_document(root) {\n",
       "    var Bokeh = get_bokeh(root)\n",
       "    await Bokeh.embed.embed_items_notebook(docs_json, render_items);\n",
       "    for (const render_item of render_items) {\n",
       "      for (const root_id of render_item.root_ids) {\n",
       "\tconst id_el = document.getElementById(root_id)\n",
       "\tif (id_el.children.length && id_el.children[0].hasAttribute('data-root-id')) {\n",
       "\t  const root_el = id_el.children[0]\n",
       "\t  root_el.id = root_el.id + '-rendered'\n",
       "\t  for (const child of root_el.children) {\n",
       "            // Ensure JupyterLab does not capture keyboard shortcuts\n",
       "            // see: https://jupyterlab.readthedocs.io/en/4.1.x/extension/notebook.html#keyboard-interaction-model\n",
       "\t    child.setAttribute('data-lm-suppress-shortcuts', 'true')\n",
       "\t  }\n",
       "\t}\n",
       "      }\n",
       "    }\n",
       "  }\n",
       "  function get_bokeh(root) {\n",
       "    if (root.Bokeh === undefined) {\n",
       "      return null\n",
       "    } else if (root.Bokeh.version !== py_version) {\n",
       "      if (root.Bokeh.versions === undefined || !root.Bokeh.versions.has(py_version)) {\n",
       "\treturn null\n",
       "      }\n",
       "      return root.Bokeh.versions.get(py_version);\n",
       "    } else if (root.Bokeh.version === py_version) {\n",
       "      return root.Bokeh\n",
       "    }\n",
       "    return null\n",
       "  }\n",
       "  function is_loaded(root) {\n",
       "    var Bokeh = get_bokeh(root)\n",
       "    return (Bokeh != null && Bokeh.Panel !== undefined)\n",
       "  }\n",
       "  if (is_loaded(root)) {\n",
       "    embed_document(root);\n",
       "  } else {\n",
       "    var attempts = 0;\n",
       "    var timer = setInterval(function(root) {\n",
       "      if (is_loaded(root)) {\n",
       "        clearInterval(timer);\n",
       "        embed_document(root);\n",
       "      } else if (document.readyState == \"complete\") {\n",
       "        attempts++;\n",
       "        if (attempts > 200) {\n",
       "          clearInterval(timer);\n",
       "\t  var Bokeh = get_bokeh(root)\n",
       "\t  if (Bokeh == null || Bokeh.Panel == null) {\n",
       "            console.warn(\"Panel: ERROR: Unable to run Panel code because Bokeh or Panel library is missing\");\n",
       "\t  } else {\n",
       "\t    console.warn(\"Panel: WARNING: Attempting to render but not all required libraries could be resolved.\")\n",
       "\t    embed_document(root)\n",
       "\t  }\n",
       "        }\n",
       "      }\n",
       "    }, 25, root)\n",
       "  }\n",
       "})(window);</script>"
      ]
     },
     "metadata": {
      "application/vnd.holoviews_exec.v0+json": {
       "id": "69deaaa5-9731-4125-9406-d72a65d28c51"
      }
     },
     "output_type": "display_data"
    },
    {
     "data": {
      "text/html": [
       "        <script type=\"text/javascript\">\n",
       "        window.PlotlyConfig = {MathJaxConfig: 'local'};\n",
       "        if (window.MathJax && window.MathJax.Hub && window.MathJax.Hub.Config) {window.MathJax.Hub.Config({SVG: {font: \"STIX-Web\"}});}\n",
       "        if (typeof require !== 'undefined') {\n",
       "        require.undef(\"plotly\");\n",
       "        requirejs.config({\n",
       "            paths: {\n",
       "                'plotly': ['https://cdn.plot.ly/plotly-2.32.0.min']\n",
       "            }\n",
       "        });\n",
       "        require(['plotly'], function(Plotly) {\n",
       "            window._Plotly = Plotly;\n",
       "        });\n",
       "        }\n",
       "        </script>\n",
       "        "
      ]
     },
     "metadata": {},
     "output_type": "display_data"
    },
    {
     "data": {
      "text/html": [
       "<script src=\"https://cdnjs.cloudflare.com/ajax/libs/mathjax/2.7.1/MathJax.js?config=TeX-MML-AM_SVG\"></script>"
      ],
      "text/plain": [
       "<IPython.core.display.HTML object>"
      ]
     },
     "metadata": {},
     "output_type": "display_data"
    },
    {
     "data": {},
     "metadata": {},
     "output_type": "display_data"
    },
    {
     "data": {
      "application/vnd.holoviews_exec.v0+json": "",
      "text/html": [
       "<div id='0454f421-35e9-4c6f-a828-6387c30658dd'>\n",
       "  <div id=\"abc30e1f-3439-4edd-9e44-e4ccd7b98929\" data-root-id=\"0454f421-35e9-4c6f-a828-6387c30658dd\" style=\"display: contents;\"></div>\n",
       "</div>\n",
       "<script type=\"application/javascript\">(function(root) {\n",
       "  var docs_json = {\"d66a97e2-549f-4bd7-935e-c458a1a5f482\":{\"version\":\"3.6.3\",\"title\":\"Bokeh Application\",\"roots\":[{\"type\":\"object\",\"name\":\"panel.models.markup.HTML\",\"id\":\"0454f421-35e9-4c6f-a828-6387c30658dd\",\"attributes\":{\"stylesheets\":[\"\\n:host(.pn-loading):before, .pn-loading:before {\\n  background-color: #c3c3c3;\\n  mask-size: auto calc(min(50%, 400px));\\n  -webkit-mask-size: auto calc(min(50%, 400px));\\n}\",{\"type\":\"object\",\"name\":\"ImportedStyleSheet\",\"id\":\"564b7904-b879-4b5c-9cee-b77e787a26ab\",\"attributes\":{\"url\":\"https://cdn.holoviz.org/panel/1.6.1/dist/css/loading.css\"}},{\"type\":\"object\",\"name\":\"ImportedStyleSheet\",\"id\":\"e8c0e62c-6496-49a8-bf0f-01ac5ca37c76\",\"attributes\":{\"url\":\"https://cdn.holoviz.org/panel/1.6.1/dist/bundled/theme/default.css\"}},{\"type\":\"object\",\"name\":\"ImportedStyleSheet\",\"id\":\"d6efadbb-d043-4e43-9cad-fc749bed0d56\",\"attributes\":{\"url\":\"https://cdn.holoviz.org/panel/1.6.1/dist/bundled/theme/native.css\"}}],\"margin\":[5,10],\"align\":\"start\",\"text\":\"&lt;h4 style=&#x27;margin: 5px 0; color: #333;&#x27;&gt;INFO LOGS&lt;/h4&gt;\",\"disable_math\":true}},{\"type\":\"object\",\"name\":\"panel.models.comm_manager.CommManager\",\"id\":\"2e344938-deae-4b8c-b8ff-a5030cc2c202\",\"attributes\":{\"plot_id\":\"0454f421-35e9-4c6f-a828-6387c30658dd\",\"comm_id\":\"2ef708176a8e4397bd03303a8775540a\",\"client_comm_id\":\"7c97b0de67fe4d0592e13133e79bd571\"}}],\"defs\":[{\"type\":\"model\",\"name\":\"ReactiveHTML1\"},{\"type\":\"model\",\"name\":\"FlexBox1\",\"properties\":[{\"name\":\"align_content\",\"kind\":\"Any\",\"default\":\"flex-start\"},{\"name\":\"align_items\",\"kind\":\"Any\",\"default\":\"flex-start\"},{\"name\":\"flex_direction\",\"kind\":\"Any\",\"default\":\"row\"},{\"name\":\"flex_wrap\",\"kind\":\"Any\",\"default\":\"wrap\"},{\"name\":\"gap\",\"kind\":\"Any\",\"default\":\"\"},{\"name\":\"justify_content\",\"kind\":\"Any\",\"default\":\"flex-start\"}]},{\"type\":\"model\",\"name\":\"FloatPanel1\",\"properties\":[{\"name\":\"config\",\"kind\":\"Any\",\"default\":{\"type\":\"map\"}},{\"name\":\"contained\",\"kind\":\"Any\",\"default\":true},{\"name\":\"position\",\"kind\":\"Any\",\"default\":\"right-top\"},{\"name\":\"offsetx\",\"kind\":\"Any\",\"default\":null},{\"name\":\"offsety\",\"kind\":\"Any\",\"default\":null},{\"name\":\"theme\",\"kind\":\"Any\",\"default\":\"primary\"},{\"name\":\"status\",\"kind\":\"Any\",\"default\":\"normalized\"}]},{\"type\":\"model\",\"name\":\"GridStack1\",\"properties\":[{\"name\":\"mode\",\"kind\":\"Any\",\"default\":\"warn\"},{\"name\":\"ncols\",\"kind\":\"Any\",\"default\":null},{\"name\":\"nrows\",\"kind\":\"Any\",\"default\":null},{\"name\":\"allow_resize\",\"kind\":\"Any\",\"default\":true},{\"name\":\"allow_drag\",\"kind\":\"Any\",\"default\":true},{\"name\":\"state\",\"kind\":\"Any\",\"default\":[]}]},{\"type\":\"model\",\"name\":\"drag1\",\"properties\":[{\"name\":\"slider_width\",\"kind\":\"Any\",\"default\":5},{\"name\":\"slider_color\",\"kind\":\"Any\",\"default\":\"black\"},{\"name\":\"value\",\"kind\":\"Any\",\"default\":50}]},{\"type\":\"model\",\"name\":\"click1\",\"properties\":[{\"name\":\"terminal_output\",\"kind\":\"Any\",\"default\":\"\"},{\"name\":\"debug_name\",\"kind\":\"Any\",\"default\":\"\"},{\"name\":\"clears\",\"kind\":\"Any\",\"default\":0}]},{\"type\":\"model\",\"name\":\"FastWrapper1\",\"properties\":[{\"name\":\"object\",\"kind\":\"Any\",\"default\":null},{\"name\":\"style\",\"kind\":\"Any\",\"default\":null}]},{\"type\":\"model\",\"name\":\"NotificationAreaBase1\",\"properties\":[{\"name\":\"js_events\",\"kind\":\"Any\",\"default\":{\"type\":\"map\"}},{\"name\":\"position\",\"kind\":\"Any\",\"default\":\"bottom-right\"},{\"name\":\"_clear\",\"kind\":\"Any\",\"default\":0}]},{\"type\":\"model\",\"name\":\"NotificationArea1\",\"properties\":[{\"name\":\"js_events\",\"kind\":\"Any\",\"default\":{\"type\":\"map\"}},{\"name\":\"notifications\",\"kind\":\"Any\",\"default\":[]},{\"name\":\"position\",\"kind\":\"Any\",\"default\":\"bottom-right\"},{\"name\":\"_clear\",\"kind\":\"Any\",\"default\":0},{\"name\":\"types\",\"kind\":\"Any\",\"default\":[{\"type\":\"map\",\"entries\":[[\"type\",\"warning\"],[\"background\",\"#ffc107\"],[\"icon\",{\"type\":\"map\",\"entries\":[[\"className\",\"fas fa-exclamation-triangle\"],[\"tagName\",\"i\"],[\"color\",\"white\"]]}]]},{\"type\":\"map\",\"entries\":[[\"type\",\"info\"],[\"background\",\"#007bff\"],[\"icon\",{\"type\":\"map\",\"entries\":[[\"className\",\"fas fa-info-circle\"],[\"tagName\",\"i\"],[\"color\",\"white\"]]}]]}]}]},{\"type\":\"model\",\"name\":\"Notification\",\"properties\":[{\"name\":\"background\",\"kind\":\"Any\",\"default\":null},{\"name\":\"duration\",\"kind\":\"Any\",\"default\":3000},{\"name\":\"icon\",\"kind\":\"Any\",\"default\":null},{\"name\":\"message\",\"kind\":\"Any\",\"default\":\"\"},{\"name\":\"notification_type\",\"kind\":\"Any\",\"default\":null},{\"name\":\"_rendered\",\"kind\":\"Any\",\"default\":false},{\"name\":\"_destroyed\",\"kind\":\"Any\",\"default\":false}]},{\"type\":\"model\",\"name\":\"TemplateActions1\",\"properties\":[{\"name\":\"open_modal\",\"kind\":\"Any\",\"default\":0},{\"name\":\"close_modal\",\"kind\":\"Any\",\"default\":0}]},{\"type\":\"model\",\"name\":\"BootstrapTemplateActions1\",\"properties\":[{\"name\":\"open_modal\",\"kind\":\"Any\",\"default\":0},{\"name\":\"close_modal\",\"kind\":\"Any\",\"default\":0}]},{\"type\":\"model\",\"name\":\"TemplateEditor1\",\"properties\":[{\"name\":\"layout\",\"kind\":\"Any\",\"default\":[]}]},{\"type\":\"model\",\"name\":\"MaterialTemplateActions1\",\"properties\":[{\"name\":\"open_modal\",\"kind\":\"Any\",\"default\":0},{\"name\":\"close_modal\",\"kind\":\"Any\",\"default\":0}]},{\"type\":\"model\",\"name\":\"ReactiveESM1\",\"properties\":[{\"name\":\"esm_constants\",\"kind\":\"Any\",\"default\":{\"type\":\"map\"}}]},{\"type\":\"model\",\"name\":\"JSComponent1\",\"properties\":[{\"name\":\"esm_constants\",\"kind\":\"Any\",\"default\":{\"type\":\"map\"}}]},{\"type\":\"model\",\"name\":\"ReactComponent1\",\"properties\":[{\"name\":\"esm_constants\",\"kind\":\"Any\",\"default\":{\"type\":\"map\"}}]},{\"type\":\"model\",\"name\":\"AnyWidgetComponent1\",\"properties\":[{\"name\":\"esm_constants\",\"kind\":\"Any\",\"default\":{\"type\":\"map\"}}]},{\"type\":\"model\",\"name\":\"request_value1\",\"properties\":[{\"name\":\"fill\",\"kind\":\"Any\",\"default\":\"none\"},{\"name\":\"_synced\",\"kind\":\"Any\",\"default\":null},{\"name\":\"_request_sync\",\"kind\":\"Any\",\"default\":0}]}]}};\n",
       "  var render_items = [{\"docid\":\"d66a97e2-549f-4bd7-935e-c458a1a5f482\",\"roots\":{\"0454f421-35e9-4c6f-a828-6387c30658dd\":\"abc30e1f-3439-4edd-9e44-e4ccd7b98929\"},\"root_ids\":[\"0454f421-35e9-4c6f-a828-6387c30658dd\"]}];\n",
       "  var docs = Object.values(docs_json)\n",
       "  if (!docs) {\n",
       "    return\n",
       "  }\n",
       "  const py_version = docs[0].version.replace('rc', '-rc.').replace('.dev', '-dev.')\n",
       "  async function embed_document(root) {\n",
       "    var Bokeh = get_bokeh(root)\n",
       "    await Bokeh.embed.embed_items_notebook(docs_json, render_items);\n",
       "    for (const render_item of render_items) {\n",
       "      for (const root_id of render_item.root_ids) {\n",
       "\tconst id_el = document.getElementById(root_id)\n",
       "\tif (id_el.children.length && id_el.children[0].hasAttribute('data-root-id')) {\n",
       "\t  const root_el = id_el.children[0]\n",
       "\t  root_el.id = root_el.id + '-rendered'\n",
       "\t  for (const child of root_el.children) {\n",
       "            // Ensure JupyterLab does not capture keyboard shortcuts\n",
       "            // see: https://jupyterlab.readthedocs.io/en/4.1.x/extension/notebook.html#keyboard-interaction-model\n",
       "\t    child.setAttribute('data-lm-suppress-shortcuts', 'true')\n",
       "\t  }\n",
       "\t}\n",
       "      }\n",
       "    }\n",
       "  }\n",
       "  function get_bokeh(root) {\n",
       "    if (root.Bokeh === undefined) {\n",
       "      return null\n",
       "    } else if (root.Bokeh.version !== py_version) {\n",
       "      if (root.Bokeh.versions === undefined || !root.Bokeh.versions.has(py_version)) {\n",
       "\treturn null\n",
       "      }\n",
       "      return root.Bokeh.versions.get(py_version);\n",
       "    } else if (root.Bokeh.version === py_version) {\n",
       "      return root.Bokeh\n",
       "    }\n",
       "    return null\n",
       "  }\n",
       "  function is_loaded(root) {\n",
       "    var Bokeh = get_bokeh(root)\n",
       "    return (Bokeh != null && Bokeh.Panel !== undefined)\n",
       "  }\n",
       "  if (is_loaded(root)) {\n",
       "    embed_document(root);\n",
       "  } else {\n",
       "    var attempts = 0;\n",
       "    var timer = setInterval(function(root) {\n",
       "      if (is_loaded(root)) {\n",
       "        clearInterval(timer);\n",
       "        embed_document(root);\n",
       "      } else if (document.readyState == \"complete\") {\n",
       "        attempts++;\n",
       "        if (attempts > 200) {\n",
       "          clearInterval(timer);\n",
       "\t  var Bokeh = get_bokeh(root)\n",
       "\t  if (Bokeh == null || Bokeh.Panel == null) {\n",
       "            console.warn(\"Panel: ERROR: Unable to run Panel code because Bokeh or Panel library is missing\");\n",
       "\t  } else {\n",
       "\t    console.warn(\"Panel: WARNING: Attempting to render but not all required libraries could be resolved.\")\n",
       "\t    embed_document(root)\n",
       "\t  }\n",
       "        }\n",
       "      }\n",
       "    }, 25, root)\n",
       "  }\n",
       "})(window);</script>"
      ],
      "text/plain": [
       "HTML(str)"
      ]
     },
     "metadata": {
      "application/vnd.holoviews_exec.v0+json": {
       "id": "0454f421-35e9-4c6f-a828-6387c30658dd"
      }
     },
     "output_type": "display_data"
    },
    {
     "data": {
      "application/vnd.holoviews_exec.v0+json": "",
      "text/html": [
       "<div id='e6839cd6-f048-4978-b57d-b2a52081b27a'>\n",
       "  <div id=\"a92e49cf-2bef-439a-9b32-83c38bc4d772\" data-root-id=\"e6839cd6-f048-4978-b57d-b2a52081b27a\" style=\"display: contents;\"></div>\n",
       "</div>\n",
       "<script type=\"application/javascript\">(function(root) {\n",
       "  var docs_json = {\"ef441b84-b608-4d7f-85a7-cca0f0bed0a9\":{\"version\":\"3.6.3\",\"title\":\"Bokeh Application\",\"roots\":[{\"type\":\"object\",\"name\":\"panel.models.layout.Column\",\"id\":\"e6839cd6-f048-4978-b57d-b2a52081b27a\",\"attributes\":{\"name\":\"Column00121\",\"css_classes\":[\"scrollable-vertical\"],\"styles\":{\"type\":\"map\",\"entries\":[[\"border\",\"1px solid #ddd\"],[\"background-color\",\"white\"]]},\"stylesheets\":[\"\\n:host(.pn-loading):before, .pn-loading:before {\\n  background-color: #c3c3c3;\\n  mask-size: auto calc(min(50%, 400px));\\n  -webkit-mask-size: auto calc(min(50%, 400px));\\n}\",{\"type\":\"object\",\"name\":\"ImportedStyleSheet\",\"id\":\"e01f0684-c3d7-4a53-b9e4-1a64bf477552\",\"attributes\":{\"url\":\"https://cdn.holoviz.org/panel/1.6.1/dist/css/loading.css\"}},{\"type\":\"object\",\"name\":\"ImportedStyleSheet\",\"id\":\"4768ace1-981c-4821-98bc-f3528855ab4f\",\"attributes\":{\"url\":\"https://cdn.holoviz.org/panel/1.6.1/dist/css/listpanel.css\"}},{\"type\":\"object\",\"name\":\"ImportedStyleSheet\",\"id\":\"44fa4cd1-77a7-43c9-bdfa-4e0bbcbeb2ad\",\"attributes\":{\"url\":\"https://cdn.holoviz.org/panel/1.6.1/dist/bundled/theme/default.css\"}},{\"type\":\"object\",\"name\":\"ImportedStyleSheet\",\"id\":\"e2cf0b1c-89e0-45a2-896f-669b4f48b5f5\",\"attributes\":{\"url\":\"https://cdn.holoviz.org/panel/1.6.1/dist/bundled/theme/native.css\"}}],\"height\":300,\"margin\":0,\"sizing_mode\":\"stretch_width\",\"align\":\"start\",\"children\":[{\"type\":\"object\",\"name\":\"panel.models.markup.HTML\",\"id\":\"4b5ce756-488f-4838-9378-5a783face49d\",\"attributes\":{\"styles\":{\"type\":\"map\",\"entries\":[[\"font-family\",\"monospace\"],[\"padding\",\"2px 8px\"],[\"margin\",\"0\"],[\"white-space\",\"pre-wrap\"]]},\"stylesheets\":[\"\\n:host(.pn-loading):before, .pn-loading:before {\\n  background-color: #c3c3c3;\\n  mask-size: auto calc(min(50%, 400px));\\n  -webkit-mask-size: auto calc(min(50%, 400px));\\n}\",{\"id\":\"e01f0684-c3d7-4a53-b9e4-1a64bf477552\"},{\"id\":\"44fa4cd1-77a7-43c9-bdfa-4e0bbcbeb2ad\"},{\"id\":\"e2cf0b1c-89e0-45a2-896f-669b4f48b5f5\"}],\"margin\":[5,10],\"align\":\"start\",\"text\":\"&lt;span&gt;tardis.io.model.parse_atom_data&lt;/span&gt; &lt;span style=&quot;color: #D3D3D3; font-weight: bold;&quot;&gt;[INFO]&lt;/span&gt; \\n\\tReading Atomic Data from kurucz_cd23_chianti_H_He_latest.h5 (parse_atom_data.py:40)\",\"disable_math\":true}},{\"type\":\"object\",\"name\":\"panel.models.markup.HTML\",\"id\":\"b725fe45-8496-45b3-94d3-9d4e16864fe0\",\"attributes\":{\"styles\":{\"type\":\"map\",\"entries\":[[\"font-family\",\"monospace\"],[\"padding\",\"2px 8px\"],[\"margin\",\"0\"],[\"white-space\",\"pre-wrap\"]]},\"stylesheets\":[\"\\n:host(.pn-loading):before, .pn-loading:before {\\n  background-color: #c3c3c3;\\n  mask-size: auto calc(min(50%, 400px));\\n  -webkit-mask-size: auto calc(min(50%, 400px));\\n}\",{\"id\":\"e01f0684-c3d7-4a53-b9e4-1a64bf477552\"},{\"id\":\"44fa4cd1-77a7-43c9-bdfa-4e0bbcbeb2ad\"},{\"id\":\"e2cf0b1c-89e0-45a2-896f-669b4f48b5f5\"}],\"margin\":[5,10],\"align\":\"start\",\"text\":\"&lt;span&gt;tardis.io.atom_data.util&lt;/span&gt; &lt;span style=&quot;color: #D3D3D3; font-weight: bold;&quot;&gt;[INFO]&lt;/span&gt; \\n\\tAtom Data kurucz_cd23_chianti_H_He_latest.h5 not found in local path.\\n\\tExists in TARDIS Data repo /home/runner/Downloads/tardis-data/kurucz_cd23_chianti_H_He_latest.h5 (util.py:34)\",\"disable_math\":true}},{\"type\":\"object\",\"name\":\"panel.models.markup.HTML\",\"id\":\"5498202b-715f-4cd0-9b15-3fa69428d63c\",\"attributes\":{\"styles\":{\"type\":\"map\",\"entries\":[[\"font-family\",\"monospace\"],[\"padding\",\"2px 8px\"],[\"margin\",\"0\"],[\"white-space\",\"pre-wrap\"]]},\"stylesheets\":[\"\\n:host(.pn-loading):before, .pn-loading:before {\\n  background-color: #c3c3c3;\\n  mask-size: auto calc(min(50%, 400px));\\n  -webkit-mask-size: auto calc(min(50%, 400px));\\n}\",{\"id\":\"e01f0684-c3d7-4a53-b9e4-1a64bf477552\"},{\"id\":\"44fa4cd1-77a7-43c9-bdfa-4e0bbcbeb2ad\"},{\"id\":\"e2cf0b1c-89e0-45a2-896f-669b4f48b5f5\"}],\"margin\":[5,10],\"align\":\"start\",\"text\":\"&lt;span&gt;tardis.io.atom_data.base&lt;/span&gt; &lt;span style=&quot;color: #D3D3D3; font-weight: bold;&quot;&gt;[INFO]&lt;/span&gt; Reading Atom Data with: UUID = b58b2ef63bf811f08edf96479f911fbd MD5  = 5d80fa4ae0638469bf1ff281b6ca2a94  (base.py:258)\",\"disable_math\":true}},{\"type\":\"object\",\"name\":\"panel.models.markup.HTML\",\"id\":\"46c38d78-4427-4259-a5d9-bd84bc46359d\",\"attributes\":{\"styles\":{\"type\":\"map\",\"entries\":[[\"font-family\",\"monospace\"],[\"padding\",\"2px 8px\"],[\"margin\",\"0\"],[\"white-space\",\"pre-wrap\"]]},\"stylesheets\":[\"\\n:host(.pn-loading):before, .pn-loading:before {\\n  background-color: #c3c3c3;\\n  mask-size: auto calc(min(50%, 400px));\\n  -webkit-mask-size: auto calc(min(50%, 400px));\\n}\",{\"id\":\"e01f0684-c3d7-4a53-b9e4-1a64bf477552\"},{\"id\":\"44fa4cd1-77a7-43c9-bdfa-4e0bbcbeb2ad\"},{\"id\":\"e2cf0b1c-89e0-45a2-896f-669b4f48b5f5\"}],\"margin\":[5,10],\"align\":\"start\",\"text\":\"&lt;span&gt;tardis.io.atom_data.base&lt;/span&gt; &lt;span style=&quot;color: #D3D3D3; font-weight: bold;&quot;&gt;[INFO]&lt;/span&gt; Non provided Atomic Data: levels, lines, collision_data, collision_data_temperatures, synpp_refs, photoionization_data, yg_data, two_photon_data, linelist_atoms, linelist_molecules (base.py:262)\",\"disable_math\":true}},{\"type\":\"object\",\"name\":\"panel.models.markup.HTML\",\"id\":\"3338ddca-202b-43e2-a77a-5fb52b6c9a76\",\"attributes\":{\"styles\":{\"type\":\"map\",\"entries\":[[\"font-family\",\"monospace\"],[\"padding\",\"2px 8px\"],[\"margin\",\"0\"],[\"white-space\",\"pre-wrap\"]]},\"stylesheets\":[\"\\n:host(.pn-loading):before, .pn-loading:before {\\n  background-color: #c3c3c3;\\n  mask-size: auto calc(min(50%, 400px));\\n  -webkit-mask-size: auto calc(min(50%, 400px));\\n}\",{\"id\":\"e01f0684-c3d7-4a53-b9e4-1a64bf477552\"},{\"id\":\"44fa4cd1-77a7-43c9-bdfa-4e0bbcbeb2ad\"},{\"id\":\"e2cf0b1c-89e0-45a2-896f-669b4f48b5f5\"}],\"margin\":[5,10],\"align\":\"start\",\"text\":\"&lt;span&gt;tardis.model.matter.decay&lt;/span&gt; &lt;span style=&quot;color: #D3D3D3; font-weight: bold;&quot;&gt;[INFO]&lt;/span&gt; Decaying abundances for 1123200.0 seconds (decay.py:101)\",\"disable_math\":true}},{\"type\":\"object\",\"name\":\"panel.models.markup.HTML\",\"id\":\"6bfd9102-5989-4a55-bc8c-edf35f0339c3\",\"attributes\":{\"styles\":{\"type\":\"map\",\"entries\":[[\"font-family\",\"monospace\"],[\"padding\",\"2px 8px\"],[\"margin\",\"0\"],[\"white-space\",\"pre-wrap\"]]},\"stylesheets\":[\"\\n:host(.pn-loading):before, .pn-loading:before {\\n  background-color: #c3c3c3;\\n  mask-size: auto calc(min(50%, 400px));\\n  -webkit-mask-size: auto calc(min(50%, 400px));\\n}\",{\"id\":\"e01f0684-c3d7-4a53-b9e4-1a64bf477552\"},{\"id\":\"44fa4cd1-77a7-43c9-bdfa-4e0bbcbeb2ad\"},{\"id\":\"e2cf0b1c-89e0-45a2-896f-669b4f48b5f5\"}],\"margin\":[5,10],\"align\":\"start\",\"text\":\"&lt;span&gt;tardis.simulation.base&lt;/span&gt; &lt;span style=&quot;color: #D3D3D3; font-weight: bold;&quot;&gt;[INFO]&lt;/span&gt; \\n\\tStarting iteration 1 of 20 (base.py:444)\",\"disable_math\":true}},{\"type\":\"object\",\"name\":\"panel.models.markup.HTML\",\"id\":\"68b68698-8de4-4530-bac1-eb76dec139dc\",\"attributes\":{\"styles\":{\"type\":\"map\",\"entries\":[[\"font-family\",\"monospace\"],[\"padding\",\"2px 8px\"],[\"margin\",\"0\"],[\"white-space\",\"pre-wrap\"]]},\"stylesheets\":[\"\\n:host(.pn-loading):before, .pn-loading:before {\\n  background-color: #c3c3c3;\\n  mask-size: auto calc(min(50%, 400px));\\n  -webkit-mask-size: auto calc(min(50%, 400px));\\n}\",{\"id\":\"e01f0684-c3d7-4a53-b9e4-1a64bf477552\"},{\"id\":\"44fa4cd1-77a7-43c9-bdfa-4e0bbcbeb2ad\"},{\"id\":\"e2cf0b1c-89e0-45a2-896f-669b4f48b5f5\"}],\"margin\":[5,10],\"align\":\"start\",\"text\":\"&lt;span&gt;tardis.simulation.base&lt;/span&gt; &lt;span style=&quot;color: #D3D3D3; font-weight: bold;&quot;&gt;[INFO]&lt;/span&gt; \\n\\tLuminosity emitted   = 7.942e+42 erg / s\\n\\tLuminosity absorbed  = 2.659e+42 erg / s\\n\\tLuminosity requested = 1.059e+43 erg / s\\n (base.py:636)\",\"disable_math\":true}},{\"type\":\"object\",\"name\":\"panel.models.markup.HTML\",\"id\":\"363a35d7-31d5-4769-bbfe-3bf129df368f\",\"attributes\":{\"styles\":{\"type\":\"map\",\"entries\":[[\"font-family\",\"monospace\"],[\"padding\",\"2px 8px\"],[\"margin\",\"0\"],[\"white-space\",\"pre-wrap\"]]},\"stylesheets\":[\"\\n:host(.pn-loading):before, .pn-loading:before {\\n  background-color: #c3c3c3;\\n  mask-size: auto calc(min(50%, 400px));\\n  -webkit-mask-size: auto calc(min(50%, 400px));\\n}\",{\"id\":\"e01f0684-c3d7-4a53-b9e4-1a64bf477552\"},{\"id\":\"44fa4cd1-77a7-43c9-bdfa-4e0bbcbeb2ad\"},{\"id\":\"e2cf0b1c-89e0-45a2-896f-669b4f48b5f5\"}],\"margin\":[5,10],\"align\":\"start\",\"text\":\"&lt;pre style=&quot;white-space: pre; margin: 0;&quot;&gt;Shell No.        t_rad    next_t_rad         w    next_w\\n0          9926.501965  10142.546774  0.400392  0.507139\\n5          9852.611678  10224.137369  0.211205  0.196866\\n10         9779.813302  10151.355363  0.142695  0.116866\\n15         9708.082813   9876.208641  0.104556  0.086846&lt;/pre&gt;\",\"disable_math\":true}},{\"type\":\"object\",\"name\":\"panel.models.markup.HTML\",\"id\":\"c4a6557e-dce4-49e0-83bc-21cd1d71bb49\",\"attributes\":{\"styles\":{\"type\":\"map\",\"entries\":[[\"font-family\",\"monospace\"],[\"padding\",\"2px 8px\"],[\"margin\",\"0\"],[\"white-space\",\"pre-wrap\"]]},\"stylesheets\":[\"\\n:host(.pn-loading):before, .pn-loading:before {\\n  background-color: #c3c3c3;\\n  mask-size: auto calc(min(50%, 400px));\\n  -webkit-mask-size: auto calc(min(50%, 400px));\\n}\",{\"id\":\"e01f0684-c3d7-4a53-b9e4-1a64bf477552\"},{\"id\":\"44fa4cd1-77a7-43c9-bdfa-4e0bbcbeb2ad\"},{\"id\":\"e2cf0b1c-89e0-45a2-896f-669b4f48b5f5\"}],\"margin\":[5,10],\"align\":\"start\",\"text\":\"&lt;span&gt;tardis.simulation.base&lt;/span&gt; &lt;span style=&quot;color: #D3D3D3; font-weight: bold;&quot;&gt;[INFO]&lt;/span&gt; \\n\\tCurrent t_inner = 9933.952 K\\n\\tExpected t_inner for next iteration = 10703.327 K\\n (base.py:631)\",\"disable_math\":true}},{\"type\":\"object\",\"name\":\"panel.models.markup.HTML\",\"id\":\"b4cc3ff5-0eef-4027-8a61-f06689bd3e24\",\"attributes\":{\"styles\":{\"type\":\"map\",\"entries\":[[\"font-family\",\"monospace\"],[\"padding\",\"2px 8px\"],[\"margin\",\"0\"],[\"white-space\",\"pre-wrap\"]]},\"stylesheets\":[\"\\n:host(.pn-loading):before, .pn-loading:before {\\n  background-color: #c3c3c3;\\n  mask-size: auto calc(min(50%, 400px));\\n  -webkit-mask-size: auto calc(min(50%, 400px));\\n}\",{\"id\":\"e01f0684-c3d7-4a53-b9e4-1a64bf477552\"},{\"id\":\"44fa4cd1-77a7-43c9-bdfa-4e0bbcbeb2ad\"},{\"id\":\"e2cf0b1c-89e0-45a2-896f-669b4f48b5f5\"}],\"margin\":[5,10],\"align\":\"start\",\"text\":\"&lt;span&gt;tardis.simulation.base&lt;/span&gt; &lt;span style=&quot;color: #D3D3D3; font-weight: bold;&quot;&gt;[INFO]&lt;/span&gt; \\n\\tStarting iteration 2 of 20 (base.py:444)\",\"disable_math\":true}},{\"type\":\"object\",\"name\":\"panel.models.markup.HTML\",\"id\":\"b3158a88-9886-4d5e-bab4-85843ec36c50\",\"attributes\":{\"styles\":{\"type\":\"map\",\"entries\":[[\"font-family\",\"monospace\"],[\"padding\",\"2px 8px\"],[\"margin\",\"0\"],[\"white-space\",\"pre-wrap\"]]},\"stylesheets\":[\"\\n:host(.pn-loading):before, .pn-loading:before {\\n  background-color: #c3c3c3;\\n  mask-size: auto calc(min(50%, 400px));\\n  -webkit-mask-size: auto calc(min(50%, 400px));\\n}\",{\"id\":\"e01f0684-c3d7-4a53-b9e4-1a64bf477552\"},{\"id\":\"44fa4cd1-77a7-43c9-bdfa-4e0bbcbeb2ad\"},{\"id\":\"e2cf0b1c-89e0-45a2-896f-669b4f48b5f5\"}],\"margin\":[5,10],\"align\":\"start\",\"text\":\"&lt;span&gt;tardis.simulation.base&lt;/span&gt; &lt;span style=&quot;color: #D3D3D3; font-weight: bold;&quot;&gt;[INFO]&lt;/span&gt; \\n\\tLuminosity emitted   = 1.071e+43 erg / s\\n\\tLuminosity absorbed  = 3.577e+42 erg / s\\n\\tLuminosity requested = 1.059e+43 erg / s\\n (base.py:636)\",\"disable_math\":true}},{\"type\":\"object\",\"name\":\"panel.models.markup.HTML\",\"id\":\"ace6d01c-968f-4bac-bb0a-f389fa82e9ec\",\"attributes\":{\"styles\":{\"type\":\"map\",\"entries\":[[\"font-family\",\"monospace\"],[\"padding\",\"2px 8px\"],[\"margin\",\"0\"],[\"white-space\",\"pre-wrap\"]]},\"stylesheets\":[\"\\n:host(.pn-loading):before, .pn-loading:before {\\n  background-color: #c3c3c3;\\n  mask-size: auto calc(min(50%, 400px));\\n  -webkit-mask-size: auto calc(min(50%, 400px));\\n}\",{\"id\":\"e01f0684-c3d7-4a53-b9e4-1a64bf477552\"},{\"id\":\"44fa4cd1-77a7-43c9-bdfa-4e0bbcbeb2ad\"},{\"id\":\"e2cf0b1c-89e0-45a2-896f-669b4f48b5f5\"}],\"margin\":[5,10],\"align\":\"start\",\"text\":\"&lt;pre style=&quot;white-space: pre; margin: 0;&quot;&gt;Shell No.         t_rad    next_t_rad         w    next_w\\n0          10142.546774  10823.773343  0.507139  0.524047\\n5          10224.137369  10973.065228  0.196866  0.201655\\n10         10151.355363  10799.893338  0.116866  0.124297\\n15          9876.208641  10501.552075  0.086846  0.092612&lt;/pre&gt;\",\"disable_math\":true}},{\"type\":\"object\",\"name\":\"panel.models.markup.HTML\",\"id\":\"fa02c8e3-18ae-4bcc-a71d-818485a0cd95\",\"attributes\":{\"styles\":{\"type\":\"map\",\"entries\":[[\"font-family\",\"monospace\"],[\"padding\",\"2px 8px\"],[\"margin\",\"0\"],[\"white-space\",\"pre-wrap\"]]},\"stylesheets\":[\"\\n:host(.pn-loading):before, .pn-loading:before {\\n  background-color: #c3c3c3;\\n  mask-size: auto calc(min(50%, 400px));\\n  -webkit-mask-size: auto calc(min(50%, 400px));\\n}\",{\"id\":\"e01f0684-c3d7-4a53-b9e4-1a64bf477552\"},{\"id\":\"44fa4cd1-77a7-43c9-bdfa-4e0bbcbeb2ad\"},{\"id\":\"e2cf0b1c-89e0-45a2-896f-669b4f48b5f5\"}],\"margin\":[5,10],\"align\":\"start\",\"text\":\"&lt;span&gt;tardis.simulation.base&lt;/span&gt; &lt;span style=&quot;color: #D3D3D3; font-weight: bold;&quot;&gt;[INFO]&lt;/span&gt; \\n\\tCurrent t_inner = 10703.327 K\\n\\tExpected t_inner for next iteration = 10673.709 K\\n (base.py:631)\",\"disable_math\":true}},{\"type\":\"object\",\"name\":\"panel.models.markup.HTML\",\"id\":\"11714b83-e334-4bec-ba2e-de9064f07638\",\"attributes\":{\"styles\":{\"type\":\"map\",\"entries\":[[\"font-family\",\"monospace\"],[\"padding\",\"2px 8px\"],[\"margin\",\"0\"],[\"white-space\",\"pre-wrap\"]]},\"stylesheets\":[\"\\n:host(.pn-loading):before, .pn-loading:before {\\n  background-color: #c3c3c3;\\n  mask-size: auto calc(min(50%, 400px));\\n  -webkit-mask-size: auto calc(min(50%, 400px));\\n}\",{\"id\":\"e01f0684-c3d7-4a53-b9e4-1a64bf477552\"},{\"id\":\"44fa4cd1-77a7-43c9-bdfa-4e0bbcbeb2ad\"},{\"id\":\"e2cf0b1c-89e0-45a2-896f-669b4f48b5f5\"}],\"margin\":[5,10],\"align\":\"start\",\"text\":\"&lt;span&gt;tardis.simulation.base&lt;/span&gt; &lt;span style=&quot;color: #D3D3D3; font-weight: bold;&quot;&gt;[INFO]&lt;/span&gt; \\n\\tStarting iteration 3 of 20 (base.py:444)\",\"disable_math\":true}},{\"type\":\"object\",\"name\":\"panel.models.markup.HTML\",\"id\":\"1c37e65f-00da-40b9-a02a-80c844cdcaae\",\"attributes\":{\"styles\":{\"type\":\"map\",\"entries\":[[\"font-family\",\"monospace\"],[\"padding\",\"2px 8px\"],[\"margin\",\"0\"],[\"white-space\",\"pre-wrap\"]]},\"stylesheets\":[\"\\n:host(.pn-loading):before, .pn-loading:before {\\n  background-color: #c3c3c3;\\n  mask-size: auto calc(min(50%, 400px));\\n  -webkit-mask-size: auto calc(min(50%, 400px));\\n}\",{\"id\":\"e01f0684-c3d7-4a53-b9e4-1a64bf477552\"},{\"id\":\"44fa4cd1-77a7-43c9-bdfa-4e0bbcbeb2ad\"},{\"id\":\"e2cf0b1c-89e0-45a2-896f-669b4f48b5f5\"}],\"margin\":[5,10],\"align\":\"start\",\"text\":\"&lt;span&gt;tardis.simulation.base&lt;/span&gt; &lt;span style=&quot;color: #D3D3D3; font-weight: bold;&quot;&gt;[INFO]&lt;/span&gt; \\n\\tLuminosity emitted   = 1.074e+43 erg / s\\n\\tLuminosity absorbed  = 3.397e+42 erg / s\\n\\tLuminosity requested = 1.059e+43 erg / s\\n (base.py:636)\",\"disable_math\":true}},{\"type\":\"object\",\"name\":\"panel.models.markup.HTML\",\"id\":\"76931f2b-f22a-4b32-9639-63261b8dba69\",\"attributes\":{\"styles\":{\"type\":\"map\",\"entries\":[[\"font-family\",\"monospace\"],[\"padding\",\"2px 8px\"],[\"margin\",\"0\"],[\"white-space\",\"pre-wrap\"]]},\"stylesheets\":[\"\\n:host(.pn-loading):before, .pn-loading:before {\\n  background-color: #c3c3c3;\\n  mask-size: auto calc(min(50%, 400px));\\n  -webkit-mask-size: auto calc(min(50%, 400px));\\n}\",{\"id\":\"e01f0684-c3d7-4a53-b9e4-1a64bf477552\"},{\"id\":\"44fa4cd1-77a7-43c9-bdfa-4e0bbcbeb2ad\"},{\"id\":\"e2cf0b1c-89e0-45a2-896f-669b4f48b5f5\"}],\"margin\":[5,10],\"align\":\"start\",\"text\":\"&lt;span&gt;tardis.simulation.base&lt;/span&gt; &lt;span style=&quot;color: #D3D3D3; font-weight: bold;&quot;&gt;[INFO]&lt;/span&gt; Iteration converged 1/4 consecutive times. (base.py:260)\",\"disable_math\":true}},{\"type\":\"object\",\"name\":\"panel.models.markup.HTML\",\"id\":\"f8f5f723-d468-49e2-9650-5cdeed83d8f8\",\"attributes\":{\"styles\":{\"type\":\"map\",\"entries\":[[\"font-family\",\"monospace\"],[\"padding\",\"2px 8px\"],[\"margin\",\"0\"],[\"white-space\",\"pre-wrap\"]]},\"stylesheets\":[\"\\n:host(.pn-loading):before, .pn-loading:before {\\n  background-color: #c3c3c3;\\n  mask-size: auto calc(min(50%, 400px));\\n  -webkit-mask-size: auto calc(min(50%, 400px));\\n}\",{\"id\":\"e01f0684-c3d7-4a53-b9e4-1a64bf477552\"},{\"id\":\"44fa4cd1-77a7-43c9-bdfa-4e0bbcbeb2ad\"},{\"id\":\"e2cf0b1c-89e0-45a2-896f-669b4f48b5f5\"}],\"margin\":[5,10],\"align\":\"start\",\"text\":\"&lt;pre style=&quot;white-space: pre; margin: 0;&quot;&gt;Shell No.         t_rad    next_t_rad         w    next_w\\n0          10823.773343  10997.936524  0.524047  0.483873\\n5          10973.065228  11155.737123  0.201655  0.190460\\n10         10799.893338  10950.817110  0.124297  0.118169\\n15         10501.552075  10591.191659  0.092612  0.089354&lt;/pre&gt;\",\"disable_math\":true}},{\"type\":\"object\",\"name\":\"panel.models.markup.HTML\",\"id\":\"64189c0b-a63b-49f9-989d-c4121376d599\",\"attributes\":{\"styles\":{\"type\":\"map\",\"entries\":[[\"font-family\",\"monospace\"],[\"padding\",\"2px 8px\"],[\"margin\",\"0\"],[\"white-space\",\"pre-wrap\"]]},\"stylesheets\":[\"\\n:host(.pn-loading):before, .pn-loading:before {\\n  background-color: #c3c3c3;\\n  mask-size: auto calc(min(50%, 400px));\\n  -webkit-mask-size: auto calc(min(50%, 400px));\\n}\",{\"id\":\"e01f0684-c3d7-4a53-b9e4-1a64bf477552\"},{\"id\":\"44fa4cd1-77a7-43c9-bdfa-4e0bbcbeb2ad\"},{\"id\":\"e2cf0b1c-89e0-45a2-896f-669b4f48b5f5\"}],\"margin\":[5,10],\"align\":\"start\",\"text\":\"&lt;span&gt;tardis.simulation.base&lt;/span&gt; &lt;span style=&quot;color: #D3D3D3; font-weight: bold;&quot;&gt;[INFO]&lt;/span&gt; \\n\\tCurrent t_inner = 10673.709 K\\n\\tExpected t_inner for next iteration = 10637.548 K\\n (base.py:631)\",\"disable_math\":true}},{\"type\":\"object\",\"name\":\"panel.models.markup.HTML\",\"id\":\"9ded268a-0b35-4f4c-9746-3626cb96d1dd\",\"attributes\":{\"styles\":{\"type\":\"map\",\"entries\":[[\"font-family\",\"monospace\"],[\"padding\",\"2px 8px\"],[\"margin\",\"0\"],[\"white-space\",\"pre-wrap\"]]},\"stylesheets\":[\"\\n:host(.pn-loading):before, .pn-loading:before {\\n  background-color: #c3c3c3;\\n  mask-size: auto calc(min(50%, 400px));\\n  -webkit-mask-size: auto calc(min(50%, 400px));\\n}\",{\"id\":\"e01f0684-c3d7-4a53-b9e4-1a64bf477552\"},{\"id\":\"44fa4cd1-77a7-43c9-bdfa-4e0bbcbeb2ad\"},{\"id\":\"e2cf0b1c-89e0-45a2-896f-669b4f48b5f5\"}],\"margin\":[5,10],\"align\":\"start\",\"text\":\"&lt;span&gt;tardis.simulation.base&lt;/span&gt; &lt;span style=&quot;color: #D3D3D3; font-weight: bold;&quot;&gt;[INFO]&lt;/span&gt; \\n\\tStarting iteration 4 of 20 (base.py:444)\",\"disable_math\":true}},{\"type\":\"object\",\"name\":\"panel.models.markup.HTML\",\"id\":\"bc417d66-cc2a-4c52-9da9-62a5df78a646\",\"attributes\":{\"styles\":{\"type\":\"map\",\"entries\":[[\"font-family\",\"monospace\"],[\"padding\",\"2px 8px\"],[\"margin\",\"0\"],[\"white-space\",\"pre-wrap\"]]},\"stylesheets\":[\"\\n:host(.pn-loading):before, .pn-loading:before {\\n  background-color: #c3c3c3;\\n  mask-size: auto calc(min(50%, 400px));\\n  -webkit-mask-size: auto calc(min(50%, 400px));\\n}\",{\"id\":\"e01f0684-c3d7-4a53-b9e4-1a64bf477552\"},{\"id\":\"44fa4cd1-77a7-43c9-bdfa-4e0bbcbeb2ad\"},{\"id\":\"e2cf0b1c-89e0-45a2-896f-669b4f48b5f5\"}],\"margin\":[5,10],\"align\":\"start\",\"text\":\"&lt;span&gt;tardis.simulation.base&lt;/span&gt; &lt;span style=&quot;color: #D3D3D3; font-weight: bold;&quot;&gt;[INFO]&lt;/span&gt; \\n\\tLuminosity emitted   = 1.058e+43 erg / s\\n\\tLuminosity absorbed  = 3.365e+42 erg / s\\n\\tLuminosity requested = 1.059e+43 erg / s\\n (base.py:636)\",\"disable_math\":true}},{\"type\":\"object\",\"name\":\"panel.models.markup.HTML\",\"id\":\"296ae5a1-122f-44e6-bc9d-4e21bb04f99f\",\"attributes\":{\"styles\":{\"type\":\"map\",\"entries\":[[\"font-family\",\"monospace\"],[\"padding\",\"2px 8px\"],[\"margin\",\"0\"],[\"white-space\",\"pre-wrap\"]]},\"stylesheets\":[\"\\n:host(.pn-loading):before, .pn-loading:before {\\n  background-color: #c3c3c3;\\n  mask-size: auto calc(min(50%, 400px));\\n  -webkit-mask-size: auto calc(min(50%, 400px));\\n}\",{\"id\":\"e01f0684-c3d7-4a53-b9e4-1a64bf477552\"},{\"id\":\"44fa4cd1-77a7-43c9-bdfa-4e0bbcbeb2ad\"},{\"id\":\"e2cf0b1c-89e0-45a2-896f-669b4f48b5f5\"}],\"margin\":[5,10],\"align\":\"start\",\"text\":\"&lt;span&gt;tardis.simulation.base&lt;/span&gt; &lt;span style=&quot;color: #D3D3D3; font-weight: bold;&quot;&gt;[INFO]&lt;/span&gt; Iteration converged 2/4 consecutive times. (base.py:260)\",\"disable_math\":true}},{\"type\":\"object\",\"name\":\"panel.models.markup.HTML\",\"id\":\"f7840dc4-96c9-4642-aba5-a06f98ac1345\",\"attributes\":{\"styles\":{\"type\":\"map\",\"entries\":[[\"font-family\",\"monospace\"],[\"padding\",\"2px 8px\"],[\"margin\",\"0\"],[\"white-space\",\"pre-wrap\"]]},\"stylesheets\":[\"\\n:host(.pn-loading):before, .pn-loading:before {\\n  background-color: #c3c3c3;\\n  mask-size: auto calc(min(50%, 400px));\\n  -webkit-mask-size: auto calc(min(50%, 400px));\\n}\",{\"id\":\"e01f0684-c3d7-4a53-b9e4-1a64bf477552\"},{\"id\":\"44fa4cd1-77a7-43c9-bdfa-4e0bbcbeb2ad\"},{\"id\":\"e2cf0b1c-89e0-45a2-896f-669b4f48b5f5\"}],\"margin\":[5,10],\"align\":\"start\",\"text\":\"&lt;pre style=&quot;white-space: pre; margin: 0;&quot;&gt;Shell No.         t_rad    next_t_rad         w    next_w\\n0          10997.936524  11025.459753  0.483873  0.470769\\n5          11155.737123  11250.476775  0.190460  0.181240\\n10         10950.817110  11025.830185  0.118169  0.113409\\n15         10591.191659  10693.643402  0.089354  0.085118&lt;/pre&gt;\",\"disable_math\":true}},{\"type\":\"object\",\"name\":\"panel.models.markup.HTML\",\"id\":\"3ff0eaf1-10b5-4733-97db-3b9c9b9aa842\",\"attributes\":{\"styles\":{\"type\":\"map\",\"entries\":[[\"font-family\",\"monospace\"],[\"padding\",\"2px 8px\"],[\"margin\",\"0\"],[\"white-space\",\"pre-wrap\"]]},\"stylesheets\":[\"\\n:host(.pn-loading):before, .pn-loading:before {\\n  background-color: #c3c3c3;\\n  mask-size: auto calc(min(50%, 400px));\\n  -webkit-mask-size: auto calc(min(50%, 400px));\\n}\",{\"id\":\"e01f0684-c3d7-4a53-b9e4-1a64bf477552\"},{\"id\":\"44fa4cd1-77a7-43c9-bdfa-4e0bbcbeb2ad\"},{\"id\":\"e2cf0b1c-89e0-45a2-896f-669b4f48b5f5\"}],\"margin\":[5,10],\"align\":\"start\",\"text\":\"&lt;span&gt;tardis.simulation.base&lt;/span&gt; &lt;span style=&quot;color: #D3D3D3; font-weight: bold;&quot;&gt;[INFO]&lt;/span&gt; \\n\\tCurrent t_inner = 10637.548 K\\n\\tExpected t_inner for next iteration = 10641.159 K\\n (base.py:631)\",\"disable_math\":true}},{\"type\":\"object\",\"name\":\"panel.models.markup.HTML\",\"id\":\"91ab36da-7584-4284-8b11-442d7439dfb3\",\"attributes\":{\"styles\":{\"type\":\"map\",\"entries\":[[\"font-family\",\"monospace\"],[\"padding\",\"2px 8px\"],[\"margin\",\"0\"],[\"white-space\",\"pre-wrap\"]]},\"stylesheets\":[\"\\n:host(.pn-loading):before, .pn-loading:before {\\n  background-color: #c3c3c3;\\n  mask-size: auto calc(min(50%, 400px));\\n  -webkit-mask-size: auto calc(min(50%, 400px));\\n}\",{\"id\":\"e01f0684-c3d7-4a53-b9e4-1a64bf477552\"},{\"id\":\"44fa4cd1-77a7-43c9-bdfa-4e0bbcbeb2ad\"},{\"id\":\"e2cf0b1c-89e0-45a2-896f-669b4f48b5f5\"}],\"margin\":[5,10],\"align\":\"start\",\"text\":\"&lt;span&gt;tardis.simulation.base&lt;/span&gt; &lt;span style=&quot;color: #D3D3D3; font-weight: bold;&quot;&gt;[INFO]&lt;/span&gt; \\n\\tStarting iteration 5 of 20 (base.py:444)\",\"disable_math\":true}},{\"type\":\"object\",\"name\":\"panel.models.markup.HTML\",\"id\":\"6972210d-cfce-4124-9964-80eac4632428\",\"attributes\":{\"styles\":{\"type\":\"map\",\"entries\":[[\"font-family\",\"monospace\"],[\"padding\",\"2px 8px\"],[\"margin\",\"0\"],[\"white-space\",\"pre-wrap\"]]},\"stylesheets\":[\"\\n:host(.pn-loading):before, .pn-loading:before {\\n  background-color: #c3c3c3;\\n  mask-size: auto calc(min(50%, 400px));\\n  -webkit-mask-size: auto calc(min(50%, 400px));\\n}\",{\"id\":\"e01f0684-c3d7-4a53-b9e4-1a64bf477552\"},{\"id\":\"44fa4cd1-77a7-43c9-bdfa-4e0bbcbeb2ad\"},{\"id\":\"e2cf0b1c-89e0-45a2-896f-669b4f48b5f5\"}],\"margin\":[5,10],\"align\":\"start\",\"text\":\"&lt;span&gt;tardis.simulation.base&lt;/span&gt; &lt;span style=&quot;color: #D3D3D3; font-weight: bold;&quot;&gt;[INFO]&lt;/span&gt; \\n\\tLuminosity emitted   = 1.057e+43 erg / s\\n\\tLuminosity absorbed  = 3.391e+42 erg / s\\n\\tLuminosity requested = 1.059e+43 erg / s\\n (base.py:636)\",\"disable_math\":true}},{\"type\":\"object\",\"name\":\"panel.models.markup.HTML\",\"id\":\"4bce578f-76a4-4967-88cd-1ef0c06f60e7\",\"attributes\":{\"styles\":{\"type\":\"map\",\"entries\":[[\"font-family\",\"monospace\"],[\"padding\",\"2px 8px\"],[\"margin\",\"0\"],[\"white-space\",\"pre-wrap\"]]},\"stylesheets\":[\"\\n:host(.pn-loading):before, .pn-loading:before {\\n  background-color: #c3c3c3;\\n  mask-size: auto calc(min(50%, 400px));\\n  -webkit-mask-size: auto calc(min(50%, 400px));\\n}\",{\"id\":\"e01f0684-c3d7-4a53-b9e4-1a64bf477552\"},{\"id\":\"44fa4cd1-77a7-43c9-bdfa-4e0bbcbeb2ad\"},{\"id\":\"e2cf0b1c-89e0-45a2-896f-669b4f48b5f5\"}],\"margin\":[5,10],\"align\":\"start\",\"text\":\"&lt;span&gt;tardis.simulation.base&lt;/span&gt; &lt;span style=&quot;color: #D3D3D3; font-weight: bold;&quot;&gt;[INFO]&lt;/span&gt; Iteration converged 3/4 consecutive times. (base.py:260)\",\"disable_math\":true}},{\"type\":\"object\",\"name\":\"panel.models.markup.HTML\",\"id\":\"7541d876-9089-495f-ad95-785082272db2\",\"attributes\":{\"styles\":{\"type\":\"map\",\"entries\":[[\"font-family\",\"monospace\"],[\"padding\",\"2px 8px\"],[\"margin\",\"0\"],[\"white-space\",\"pre-wrap\"]]},\"stylesheets\":[\"\\n:host(.pn-loading):before, .pn-loading:before {\\n  background-color: #c3c3c3;\\n  mask-size: auto calc(min(50%, 400px));\\n  -webkit-mask-size: auto calc(min(50%, 400px));\\n}\",{\"id\":\"e01f0684-c3d7-4a53-b9e4-1a64bf477552\"},{\"id\":\"44fa4cd1-77a7-43c9-bdfa-4e0bbcbeb2ad\"},{\"id\":\"e2cf0b1c-89e0-45a2-896f-669b4f48b5f5\"}],\"margin\":[5,10],\"align\":\"start\",\"text\":\"&lt;pre style=&quot;white-space: pre; margin: 0;&quot;&gt;Shell No.         t_rad    next_t_rad         w    next_w\\n0          11025.459753  10998.992370  0.470769  0.479691\\n5          11250.476775  11285.022098  0.181240  0.178679\\n10         11025.830185  10984.384690  0.113409  0.115145\\n15         10693.643402  10734.268321  0.085118  0.083826&lt;/pre&gt;\",\"disable_math\":true}},{\"type\":\"object\",\"name\":\"panel.models.markup.HTML\",\"id\":\"51b2b0a7-0ad7-4b2b-9420-3e9e31b481ca\",\"attributes\":{\"styles\":{\"type\":\"map\",\"entries\":[[\"font-family\",\"monospace\"],[\"padding\",\"2px 8px\"],[\"margin\",\"0\"],[\"white-space\",\"pre-wrap\"]]},\"stylesheets\":[\"\\n:host(.pn-loading):before, .pn-loading:before {\\n  background-color: #c3c3c3;\\n  mask-size: auto calc(min(50%, 400px));\\n  -webkit-mask-size: auto calc(min(50%, 400px));\\n}\",{\"id\":\"e01f0684-c3d7-4a53-b9e4-1a64bf477552\"},{\"id\":\"44fa4cd1-77a7-43c9-bdfa-4e0bbcbeb2ad\"},{\"id\":\"e2cf0b1c-89e0-45a2-896f-669b4f48b5f5\"}],\"margin\":[5,10],\"align\":\"start\",\"text\":\"&lt;span&gt;tardis.simulation.base&lt;/span&gt; &lt;span style=&quot;color: #D3D3D3; font-weight: bold;&quot;&gt;[INFO]&lt;/span&gt; \\n\\tCurrent t_inner = 10641.159 K\\n\\tExpected t_inner for next iteration = 10647.218 K\\n (base.py:631)\",\"disable_math\":true}},{\"type\":\"object\",\"name\":\"panel.models.markup.HTML\",\"id\":\"0d5c81b2-aad6-4be7-9dcd-74e7bd3fdead\",\"attributes\":{\"styles\":{\"type\":\"map\",\"entries\":[[\"font-family\",\"monospace\"],[\"padding\",\"2px 8px\"],[\"margin\",\"0\"],[\"white-space\",\"pre-wrap\"]]},\"stylesheets\":[\"\\n:host(.pn-loading):before, .pn-loading:before {\\n  background-color: #c3c3c3;\\n  mask-size: auto calc(min(50%, 400px));\\n  -webkit-mask-size: auto calc(min(50%, 400px));\\n}\",{\"id\":\"e01f0684-c3d7-4a53-b9e4-1a64bf477552\"},{\"id\":\"44fa4cd1-77a7-43c9-bdfa-4e0bbcbeb2ad\"},{\"id\":\"e2cf0b1c-89e0-45a2-896f-669b4f48b5f5\"}],\"margin\":[5,10],\"align\":\"start\",\"text\":\"&lt;span&gt;tardis.simulation.base&lt;/span&gt; &lt;span style=&quot;color: #D3D3D3; font-weight: bold;&quot;&gt;[INFO]&lt;/span&gt; \\n\\tStarting iteration 6 of 20 (base.py:444)\",\"disable_math\":true}},{\"type\":\"object\",\"name\":\"panel.models.markup.HTML\",\"id\":\"6d2cc838-7c77-420a-8315-c4577730562d\",\"attributes\":{\"styles\":{\"type\":\"map\",\"entries\":[[\"font-family\",\"monospace\"],[\"padding\",\"2px 8px\"],[\"margin\",\"0\"],[\"white-space\",\"pre-wrap\"]]},\"stylesheets\":[\"\\n:host(.pn-loading):before, .pn-loading:before {\\n  background-color: #c3c3c3;\\n  mask-size: auto calc(min(50%, 400px));\\n  -webkit-mask-size: auto calc(min(50%, 400px));\\n}\",{\"id\":\"e01f0684-c3d7-4a53-b9e4-1a64bf477552\"},{\"id\":\"44fa4cd1-77a7-43c9-bdfa-4e0bbcbeb2ad\"},{\"id\":\"e2cf0b1c-89e0-45a2-896f-669b4f48b5f5\"}],\"margin\":[5,10],\"align\":\"start\",\"text\":\"&lt;span&gt;tardis.simulation.base&lt;/span&gt; &lt;span style=&quot;color: #D3D3D3; font-weight: bold;&quot;&gt;[INFO]&lt;/span&gt; \\n\\tLuminosity emitted   = 1.060e+43 erg / s\\n\\tLuminosity absorbed  = 3.394e+42 erg / s\\n\\tLuminosity requested = 1.059e+43 erg / s\\n (base.py:636)\",\"disable_math\":true}},{\"type\":\"object\",\"name\":\"panel.models.markup.HTML\",\"id\":\"7d815d24-7107-4f6f-bc8f-bc8cdf28f266\",\"attributes\":{\"styles\":{\"type\":\"map\",\"entries\":[[\"font-family\",\"monospace\"],[\"padding\",\"2px 8px\"],[\"margin\",\"0\"],[\"white-space\",\"pre-wrap\"]]},\"stylesheets\":[\"\\n:host(.pn-loading):before, .pn-loading:before {\\n  background-color: #c3c3c3;\\n  mask-size: auto calc(min(50%, 400px));\\n  -webkit-mask-size: auto calc(min(50%, 400px));\\n}\",{\"id\":\"e01f0684-c3d7-4a53-b9e4-1a64bf477552\"},{\"id\":\"44fa4cd1-77a7-43c9-bdfa-4e0bbcbeb2ad\"},{\"id\":\"e2cf0b1c-89e0-45a2-896f-669b4f48b5f5\"}],\"margin\":[5,10],\"align\":\"start\",\"text\":\"&lt;span&gt;tardis.simulation.base&lt;/span&gt; &lt;span style=&quot;color: #D3D3D3; font-weight: bold;&quot;&gt;[INFO]&lt;/span&gt; Iteration converged 4/4 consecutive times. (base.py:260)\",\"disable_math\":true}},{\"type\":\"object\",\"name\":\"panel.models.markup.HTML\",\"id\":\"91cfdc52-9373-4232-b2a2-95ddb09c139e\",\"attributes\":{\"styles\":{\"type\":\"map\",\"entries\":[[\"font-family\",\"monospace\"],[\"padding\",\"2px 8px\"],[\"margin\",\"0\"],[\"white-space\",\"pre-wrap\"]]},\"stylesheets\":[\"\\n:host(.pn-loading):before, .pn-loading:before {\\n  background-color: #c3c3c3;\\n  mask-size: auto calc(min(50%, 400px));\\n  -webkit-mask-size: auto calc(min(50%, 400px));\\n}\",{\"id\":\"e01f0684-c3d7-4a53-b9e4-1a64bf477552\"},{\"id\":\"44fa4cd1-77a7-43c9-bdfa-4e0bbcbeb2ad\"},{\"id\":\"e2cf0b1c-89e0-45a2-896f-669b4f48b5f5\"}],\"margin\":[5,10],\"align\":\"start\",\"text\":\"&lt;pre style=&quot;white-space: pre; margin: 0;&quot;&gt;Shell No.         t_rad    next_t_rad         w    next_w\\n0          10998.992370  11062.386149  0.479691  0.466406\\n5          11285.022098  11251.893932  0.178679  0.182435\\n10         10984.384690  10982.572101  0.115145  0.115372\\n15         10734.268321  10674.160527  0.083826  0.085281&lt;/pre&gt;\",\"disable_math\":true}},{\"type\":\"object\",\"name\":\"panel.models.markup.HTML\",\"id\":\"3aa40279-23aa-4e26-a4b7-af32731506d5\",\"attributes\":{\"styles\":{\"type\":\"map\",\"entries\":[[\"font-family\",\"monospace\"],[\"padding\",\"2px 8px\"],[\"margin\",\"0\"],[\"white-space\",\"pre-wrap\"]]},\"stylesheets\":[\"\\n:host(.pn-loading):before, .pn-loading:before {\\n  background-color: #c3c3c3;\\n  mask-size: auto calc(min(50%, 400px));\\n  -webkit-mask-size: auto calc(min(50%, 400px));\\n}\",{\"id\":\"e01f0684-c3d7-4a53-b9e4-1a64bf477552\"},{\"id\":\"44fa4cd1-77a7-43c9-bdfa-4e0bbcbeb2ad\"},{\"id\":\"e2cf0b1c-89e0-45a2-896f-669b4f48b5f5\"}],\"margin\":[5,10],\"align\":\"start\",\"text\":\"&lt;span&gt;tardis.simulation.base&lt;/span&gt; &lt;span style=&quot;color: #D3D3D3; font-weight: bold;&quot;&gt;[INFO]&lt;/span&gt; \\n\\tCurrent t_inner = 10647.218 K\\n\\tExpected t_inner for next iteration = 10645.645 K\\n (base.py:631)\",\"disable_math\":true}},{\"type\":\"object\",\"name\":\"panel.models.markup.HTML\",\"id\":\"c19ad7fd-e71c-4ea5-86ed-4ac769547950\",\"attributes\":{\"styles\":{\"type\":\"map\",\"entries\":[[\"font-family\",\"monospace\"],[\"padding\",\"2px 8px\"],[\"margin\",\"0\"],[\"white-space\",\"pre-wrap\"]]},\"stylesheets\":[\"\\n:host(.pn-loading):before, .pn-loading:before {\\n  background-color: #c3c3c3;\\n  mask-size: auto calc(min(50%, 400px));\\n  -webkit-mask-size: auto calc(min(50%, 400px));\\n}\",{\"id\":\"e01f0684-c3d7-4a53-b9e4-1a64bf477552\"},{\"id\":\"44fa4cd1-77a7-43c9-bdfa-4e0bbcbeb2ad\"},{\"id\":\"e2cf0b1c-89e0-45a2-896f-669b4f48b5f5\"}],\"margin\":[5,10],\"align\":\"start\",\"text\":\"&lt;span&gt;tardis.simulation.base&lt;/span&gt; &lt;span style=&quot;color: #D3D3D3; font-weight: bold;&quot;&gt;[INFO]&lt;/span&gt; \\n\\tStarting iteration 7 of 20 (base.py:444)\",\"disable_math\":true}},{\"type\":\"object\",\"name\":\"panel.models.markup.HTML\",\"id\":\"31f0ac9b-a508-412a-ae8d-f8f9f1afb2c8\",\"attributes\":{\"styles\":{\"type\":\"map\",\"entries\":[[\"font-family\",\"monospace\"],[\"padding\",\"2px 8px\"],[\"margin\",\"0\"],[\"white-space\",\"pre-wrap\"]]},\"stylesheets\":[\"\\n:host(.pn-loading):before, .pn-loading:before {\\n  background-color: #c3c3c3;\\n  mask-size: auto calc(min(50%, 400px));\\n  -webkit-mask-size: auto calc(min(50%, 400px));\\n}\",{\"id\":\"e01f0684-c3d7-4a53-b9e4-1a64bf477552\"},{\"id\":\"44fa4cd1-77a7-43c9-bdfa-4e0bbcbeb2ad\"},{\"id\":\"e2cf0b1c-89e0-45a2-896f-669b4f48b5f5\"}],\"margin\":[5,10],\"align\":\"start\",\"text\":\"&lt;span&gt;tardis.simulation.base&lt;/span&gt; &lt;span style=&quot;color: #D3D3D3; font-weight: bold;&quot;&gt;[INFO]&lt;/span&gt; \\n\\tLuminosity emitted   = 1.060e+43 erg / s\\n\\tLuminosity absorbed  = 3.389e+42 erg / s\\n\\tLuminosity requested = 1.059e+43 erg / s\\n (base.py:636)\",\"disable_math\":true}},{\"type\":\"object\",\"name\":\"panel.models.markup.HTML\",\"id\":\"5ccf0a4f-a66e-45f9-a040-e940beebf3ee\",\"attributes\":{\"styles\":{\"type\":\"map\",\"entries\":[[\"font-family\",\"monospace\"],[\"padding\",\"2px 8px\"],[\"margin\",\"0\"],[\"white-space\",\"pre-wrap\"]]},\"stylesheets\":[\"\\n:host(.pn-loading):before, .pn-loading:before {\\n  background-color: #c3c3c3;\\n  mask-size: auto calc(min(50%, 400px));\\n  -webkit-mask-size: auto calc(min(50%, 400px));\\n}\",{\"id\":\"e01f0684-c3d7-4a53-b9e4-1a64bf477552\"},{\"id\":\"44fa4cd1-77a7-43c9-bdfa-4e0bbcbeb2ad\"},{\"id\":\"e2cf0b1c-89e0-45a2-896f-669b4f48b5f5\"}],\"margin\":[5,10],\"align\":\"start\",\"text\":\"&lt;span&gt;tardis.simulation.base&lt;/span&gt; &lt;span style=&quot;color: #D3D3D3; font-weight: bold;&quot;&gt;[INFO]&lt;/span&gt; Iteration converged 5/4 consecutive times. (base.py:260)\",\"disable_math\":true}},{\"type\":\"object\",\"name\":\"panel.models.markup.HTML\",\"id\":\"051bc085-1758-4f1c-a534-eb7f8a35a93b\",\"attributes\":{\"styles\":{\"type\":\"map\",\"entries\":[[\"font-family\",\"monospace\"],[\"padding\",\"2px 8px\"],[\"margin\",\"0\"],[\"white-space\",\"pre-wrap\"]]},\"stylesheets\":[\"\\n:host(.pn-loading):before, .pn-loading:before {\\n  background-color: #c3c3c3;\\n  mask-size: auto calc(min(50%, 400px));\\n  -webkit-mask-size: auto calc(min(50%, 400px));\\n}\",{\"id\":\"e01f0684-c3d7-4a53-b9e4-1a64bf477552\"},{\"id\":\"44fa4cd1-77a7-43c9-bdfa-4e0bbcbeb2ad\"},{\"id\":\"e2cf0b1c-89e0-45a2-896f-669b4f48b5f5\"}],\"margin\":[5,10],\"align\":\"start\",\"text\":\"&lt;pre style=&quot;white-space: pre; margin: 0;&quot;&gt;Shell No.         t_rad    next_t_rad         w    next_w\\n0          11062.386149  11044.421981  0.466406  0.468831\\n5          11251.893932  11374.121338  0.182435  0.172849\\n10         10982.572101  11014.646546  0.115372  0.113250\\n15         10674.160527  10631.290195  0.085281  0.086536&lt;/pre&gt;\",\"disable_math\":true}},{\"type\":\"object\",\"name\":\"panel.models.markup.HTML\",\"id\":\"4697042f-8041-4dac-8c4d-63323ed011a9\",\"attributes\":{\"styles\":{\"type\":\"map\",\"entries\":[[\"font-family\",\"monospace\"],[\"padding\",\"2px 8px\"],[\"margin\",\"0\"],[\"white-space\",\"pre-wrap\"]]},\"stylesheets\":[\"\\n:host(.pn-loading):before, .pn-loading:before {\\n  background-color: #c3c3c3;\\n  mask-size: auto calc(min(50%, 400px));\\n  -webkit-mask-size: auto calc(min(50%, 400px));\\n}\",{\"id\":\"e01f0684-c3d7-4a53-b9e4-1a64bf477552\"},{\"id\":\"44fa4cd1-77a7-43c9-bdfa-4e0bbcbeb2ad\"},{\"id\":\"e2cf0b1c-89e0-45a2-896f-669b4f48b5f5\"}],\"margin\":[5,10],\"align\":\"start\",\"text\":\"&lt;span&gt;tardis.simulation.base&lt;/span&gt; &lt;span style=&quot;color: #D3D3D3; font-weight: bold;&quot;&gt;[INFO]&lt;/span&gt; \\n\\tCurrent t_inner = 10645.645 K\\n\\tExpected t_inner for next iteration = 10644.007 K\\n (base.py:631)\",\"disable_math\":true}},{\"type\":\"object\",\"name\":\"panel.models.markup.HTML\",\"id\":\"8bc49218-74e4-48d2-80f1-77e4f09a96df\",\"attributes\":{\"styles\":{\"type\":\"map\",\"entries\":[[\"font-family\",\"monospace\"],[\"padding\",\"2px 8px\"],[\"margin\",\"0\"],[\"white-space\",\"pre-wrap\"]]},\"stylesheets\":[\"\\n:host(.pn-loading):before, .pn-loading:before {\\n  background-color: #c3c3c3;\\n  mask-size: auto calc(min(50%, 400px));\\n  -webkit-mask-size: auto calc(min(50%, 400px));\\n}\",{\"id\":\"e01f0684-c3d7-4a53-b9e4-1a64bf477552\"},{\"id\":\"44fa4cd1-77a7-43c9-bdfa-4e0bbcbeb2ad\"},{\"id\":\"e2cf0b1c-89e0-45a2-896f-669b4f48b5f5\"}],\"margin\":[5,10],\"align\":\"start\",\"text\":\"&lt;span&gt;tardis.simulation.base&lt;/span&gt; &lt;span style=&quot;color: #D3D3D3; font-weight: bold;&quot;&gt;[INFO]&lt;/span&gt; \\n\\tStarting iteration 8 of 20 (base.py:444)\",\"disable_math\":true}},{\"type\":\"object\",\"name\":\"panel.models.markup.HTML\",\"id\":\"c8c8e020-1217-4238-8dc4-56053283e88c\",\"attributes\":{\"styles\":{\"type\":\"map\",\"entries\":[[\"font-family\",\"monospace\"],[\"padding\",\"2px 8px\"],[\"margin\",\"0\"],[\"white-space\",\"pre-wrap\"]]},\"stylesheets\":[\"\\n:host(.pn-loading):before, .pn-loading:before {\\n  background-color: #c3c3c3;\\n  mask-size: auto calc(min(50%, 400px));\\n  -webkit-mask-size: auto calc(min(50%, 400px));\\n}\",{\"id\":\"e01f0684-c3d7-4a53-b9e4-1a64bf477552\"},{\"id\":\"44fa4cd1-77a7-43c9-bdfa-4e0bbcbeb2ad\"},{\"id\":\"e2cf0b1c-89e0-45a2-896f-669b4f48b5f5\"}],\"margin\":[5,10],\"align\":\"start\",\"text\":\"&lt;span&gt;tardis.simulation.base&lt;/span&gt; &lt;span style=&quot;color: #D3D3D3; font-weight: bold;&quot;&gt;[INFO]&lt;/span&gt; \\n\\tLuminosity emitted   = 1.062e+43 erg / s\\n\\tLuminosity absorbed  = 3.356e+42 erg / s\\n\\tLuminosity requested = 1.059e+43 erg / s\\n (base.py:636)\",\"disable_math\":true}},{\"type\":\"object\",\"name\":\"panel.models.markup.HTML\",\"id\":\"c33197fc-80a1-4df2-b944-df202241b897\",\"attributes\":{\"styles\":{\"type\":\"map\",\"entries\":[[\"font-family\",\"monospace\"],[\"padding\",\"2px 8px\"],[\"margin\",\"0\"],[\"white-space\",\"pre-wrap\"]]},\"stylesheets\":[\"\\n:host(.pn-loading):before, .pn-loading:before {\\n  background-color: #c3c3c3;\\n  mask-size: auto calc(min(50%, 400px));\\n  -webkit-mask-size: auto calc(min(50%, 400px));\\n}\",{\"id\":\"e01f0684-c3d7-4a53-b9e4-1a64bf477552\"},{\"id\":\"44fa4cd1-77a7-43c9-bdfa-4e0bbcbeb2ad\"},{\"id\":\"e2cf0b1c-89e0-45a2-896f-669b4f48b5f5\"}],\"margin\":[5,10],\"align\":\"start\",\"text\":\"&lt;span&gt;tardis.simulation.base&lt;/span&gt; &lt;span style=&quot;color: #D3D3D3; font-weight: bold;&quot;&gt;[INFO]&lt;/span&gt; Iteration converged 6/4 consecutive times. (base.py:260)\",\"disable_math\":true}},{\"type\":\"object\",\"name\":\"panel.models.markup.HTML\",\"id\":\"cbc95b6e-0f25-4661-afb9-72ccabbc51ce\",\"attributes\":{\"styles\":{\"type\":\"map\",\"entries\":[[\"font-family\",\"monospace\"],[\"padding\",\"2px 8px\"],[\"margin\",\"0\"],[\"white-space\",\"pre-wrap\"]]},\"stylesheets\":[\"\\n:host(.pn-loading):before, .pn-loading:before {\\n  background-color: #c3c3c3;\\n  mask-size: auto calc(min(50%, 400px));\\n  -webkit-mask-size: auto calc(min(50%, 400px));\\n}\",{\"id\":\"e01f0684-c3d7-4a53-b9e4-1a64bf477552\"},{\"id\":\"44fa4cd1-77a7-43c9-bdfa-4e0bbcbeb2ad\"},{\"id\":\"e2cf0b1c-89e0-45a2-896f-669b4f48b5f5\"}],\"margin\":[5,10],\"align\":\"start\",\"text\":\"&lt;pre style=&quot;white-space: pre; margin: 0;&quot;&gt;Shell No.         t_rad    next_t_rad         w    next_w\\n0          11044.421981  11069.120167  0.468831  0.469856\\n5          11374.121338  11329.723448  0.172849  0.177557\\n10         11014.646546  11079.797552  0.113250  0.111659\\n15         10631.290195  10735.589679  0.086536  0.083570&lt;/pre&gt;\",\"disable_math\":true}},{\"type\":\"object\",\"name\":\"panel.models.markup.HTML\",\"id\":\"e38aca19-f717-46aa-95dd-ddeccf1436f9\",\"attributes\":{\"styles\":{\"type\":\"map\",\"entries\":[[\"font-family\",\"monospace\"],[\"padding\",\"2px 8px\"],[\"margin\",\"0\"],[\"white-space\",\"pre-wrap\"]]},\"stylesheets\":[\"\\n:host(.pn-loading):before, .pn-loading:before {\\n  background-color: #c3c3c3;\\n  mask-size: auto calc(min(50%, 400px));\\n  -webkit-mask-size: auto calc(min(50%, 400px));\\n}\",{\"id\":\"e01f0684-c3d7-4a53-b9e4-1a64bf477552\"},{\"id\":\"44fa4cd1-77a7-43c9-bdfa-4e0bbcbeb2ad\"},{\"id\":\"e2cf0b1c-89e0-45a2-896f-669b4f48b5f5\"}],\"margin\":[5,10],\"align\":\"start\",\"text\":\"&lt;span&gt;tardis.simulation.base&lt;/span&gt; &lt;span style=&quot;color: #D3D3D3; font-weight: bold;&quot;&gt;[INFO]&lt;/span&gt; \\n\\tCurrent t_inner = 10644.007 K\\n\\tExpected t_inner for next iteration = 10636.775 K\\n (base.py:631)\",\"disable_math\":true}},{\"type\":\"object\",\"name\":\"panel.models.markup.HTML\",\"id\":\"20d202bf-96f1-4b22-aed0-0160152d32e2\",\"attributes\":{\"styles\":{\"type\":\"map\",\"entries\":[[\"font-family\",\"monospace\"],[\"padding\",\"2px 8px\"],[\"margin\",\"0\"],[\"white-space\",\"pre-wrap\"]]},\"stylesheets\":[\"\\n:host(.pn-loading):before, .pn-loading:before {\\n  background-color: #c3c3c3;\\n  mask-size: auto calc(min(50%, 400px));\\n  -webkit-mask-size: auto calc(min(50%, 400px));\\n}\",{\"id\":\"e01f0684-c3d7-4a53-b9e4-1a64bf477552\"},{\"id\":\"44fa4cd1-77a7-43c9-bdfa-4e0bbcbeb2ad\"},{\"id\":\"e2cf0b1c-89e0-45a2-896f-669b4f48b5f5\"}],\"margin\":[5,10],\"align\":\"start\",\"text\":\"&lt;span&gt;tardis.simulation.base&lt;/span&gt; &lt;span style=&quot;color: #D3D3D3; font-weight: bold;&quot;&gt;[INFO]&lt;/span&gt; \\n\\tStarting iteration 9 of 20 (base.py:444)\",\"disable_math\":true}},{\"type\":\"object\",\"name\":\"panel.models.markup.HTML\",\"id\":\"af5ae279-8994-40a4-bc1a-49a2e0c5d935\",\"attributes\":{\"styles\":{\"type\":\"map\",\"entries\":[[\"font-family\",\"monospace\"],[\"padding\",\"2px 8px\"],[\"margin\",\"0\"],[\"white-space\",\"pre-wrap\"]]},\"stylesheets\":[\"\\n:host(.pn-loading):before, .pn-loading:before {\\n  background-color: #c3c3c3;\\n  mask-size: auto calc(min(50%, 400px));\\n  -webkit-mask-size: auto calc(min(50%, 400px));\\n}\",{\"id\":\"e01f0684-c3d7-4a53-b9e4-1a64bf477552\"},{\"id\":\"44fa4cd1-77a7-43c9-bdfa-4e0bbcbeb2ad\"},{\"id\":\"e2cf0b1c-89e0-45a2-896f-669b4f48b5f5\"}],\"margin\":[5,10],\"align\":\"start\",\"text\":\"&lt;span&gt;tardis.simulation.base&lt;/span&gt; &lt;span style=&quot;color: #D3D3D3; font-weight: bold;&quot;&gt;[INFO]&lt;/span&gt; \\n\\tLuminosity emitted   = 1.053e+43 erg / s\\n\\tLuminosity absorbed  = 3.409e+42 erg / s\\n\\tLuminosity requested = 1.059e+43 erg / s\\n (base.py:636)\",\"disable_math\":true}},{\"type\":\"object\",\"name\":\"panel.models.markup.HTML\",\"id\":\"1a329203-a92a-40d6-917d-15c582e41f6b\",\"attributes\":{\"styles\":{\"type\":\"map\",\"entries\":[[\"font-family\",\"monospace\"],[\"padding\",\"2px 8px\"],[\"margin\",\"0\"],[\"white-space\",\"pre-wrap\"]]},\"stylesheets\":[\"\\n:host(.pn-loading):before, .pn-loading:before {\\n  background-color: #c3c3c3;\\n  mask-size: auto calc(min(50%, 400px));\\n  -webkit-mask-size: auto calc(min(50%, 400px));\\n}\",{\"id\":\"e01f0684-c3d7-4a53-b9e4-1a64bf477552\"},{\"id\":\"44fa4cd1-77a7-43c9-bdfa-4e0bbcbeb2ad\"},{\"id\":\"e2cf0b1c-89e0-45a2-896f-669b4f48b5f5\"}],\"margin\":[5,10],\"align\":\"start\",\"text\":\"&lt;span&gt;tardis.simulation.base&lt;/span&gt; &lt;span style=&quot;color: #D3D3D3; font-weight: bold;&quot;&gt;[INFO]&lt;/span&gt; Iteration converged 7/4 consecutive times. (base.py:260)\",\"disable_math\":true}},{\"type\":\"object\",\"name\":\"panel.models.markup.HTML\",\"id\":\"f5dcbb5d-577d-4abb-92f7-f43906bca99a\",\"attributes\":{\"styles\":{\"type\":\"map\",\"entries\":[[\"font-family\",\"monospace\"],[\"padding\",\"2px 8px\"],[\"margin\",\"0\"],[\"white-space\",\"pre-wrap\"]]},\"stylesheets\":[\"\\n:host(.pn-loading):before, .pn-loading:before {\\n  background-color: #c3c3c3;\\n  mask-size: auto calc(min(50%, 400px));\\n  -webkit-mask-size: auto calc(min(50%, 400px));\\n}\",{\"id\":\"e01f0684-c3d7-4a53-b9e4-1a64bf477552\"},{\"id\":\"44fa4cd1-77a7-43c9-bdfa-4e0bbcbeb2ad\"},{\"id\":\"e2cf0b1c-89e0-45a2-896f-669b4f48b5f5\"}],\"margin\":[5,10],\"align\":\"start\",\"text\":\"&lt;pre style=&quot;white-space: pre; margin: 0;&quot;&gt;Shell No.         t_rad    next_t_rad         w    next_w\\n0          11069.120167  11040.862394  0.469856  0.470832\\n5          11329.723448  11422.617758  0.177557  0.171857\\n10         11079.797552  11152.498499  0.111659  0.108761\\n15         10735.589679  10708.551912  0.083570  0.083626&lt;/pre&gt;\",\"disable_math\":true}},{\"type\":\"object\",\"name\":\"panel.models.markup.HTML\",\"id\":\"f083441f-6ff2-49d6-8d12-a2b98d23543e\",\"attributes\":{\"styles\":{\"type\":\"map\",\"entries\":[[\"font-family\",\"monospace\"],[\"padding\",\"2px 8px\"],[\"margin\",\"0\"],[\"white-space\",\"pre-wrap\"]]},\"stylesheets\":[\"\\n:host(.pn-loading):before, .pn-loading:before {\\n  background-color: #c3c3c3;\\n  mask-size: auto calc(min(50%, 400px));\\n  -webkit-mask-size: auto calc(min(50%, 400px));\\n}\",{\"id\":\"e01f0684-c3d7-4a53-b9e4-1a64bf477552\"},{\"id\":\"44fa4cd1-77a7-43c9-bdfa-4e0bbcbeb2ad\"},{\"id\":\"e2cf0b1c-89e0-45a2-896f-669b4f48b5f5\"}],\"margin\":[5,10],\"align\":\"start\",\"text\":\"&lt;span&gt;tardis.simulation.base&lt;/span&gt; &lt;span style=&quot;color: #D3D3D3; font-weight: bold;&quot;&gt;[INFO]&lt;/span&gt; \\n\\tCurrent t_inner = 10636.775 K\\n\\tExpected t_inner for next iteration = 10653.396 K\\n (base.py:631)\",\"disable_math\":true}},{\"type\":\"object\",\"name\":\"panel.models.markup.HTML\",\"id\":\"ea8a3a4c-ca46-4bee-b820-11bf747231df\",\"attributes\":{\"styles\":{\"type\":\"map\",\"entries\":[[\"font-family\",\"monospace\"],[\"padding\",\"2px 8px\"],[\"margin\",\"0\"],[\"white-space\",\"pre-wrap\"]]},\"stylesheets\":[\"\\n:host(.pn-loading):before, .pn-loading:before {\\n  background-color: #c3c3c3;\\n  mask-size: auto calc(min(50%, 400px));\\n  -webkit-mask-size: auto calc(min(50%, 400px));\\n}\",{\"id\":\"e01f0684-c3d7-4a53-b9e4-1a64bf477552\"},{\"id\":\"44fa4cd1-77a7-43c9-bdfa-4e0bbcbeb2ad\"},{\"id\":\"e2cf0b1c-89e0-45a2-896f-669b4f48b5f5\"}],\"margin\":[5,10],\"align\":\"start\",\"text\":\"&lt;span&gt;tardis.simulation.base&lt;/span&gt; &lt;span style=&quot;color: #D3D3D3; font-weight: bold;&quot;&gt;[INFO]&lt;/span&gt; \\n\\tStarting iteration 10 of 20 (base.py:444)\",\"disable_math\":true}},{\"type\":\"object\",\"name\":\"panel.models.markup.HTML\",\"id\":\"bbd0c20d-e039-4cfe-96ac-372e4aa6abab\",\"attributes\":{\"styles\":{\"type\":\"map\",\"entries\":[[\"font-family\",\"monospace\"],[\"padding\",\"2px 8px\"],[\"margin\",\"0\"],[\"white-space\",\"pre-wrap\"]]},\"stylesheets\":[\"\\n:host(.pn-loading):before, .pn-loading:before {\\n  background-color: #c3c3c3;\\n  mask-size: auto calc(min(50%, 400px));\\n  -webkit-mask-size: auto calc(min(50%, 400px));\\n}\",{\"id\":\"e01f0684-c3d7-4a53-b9e4-1a64bf477552\"},{\"id\":\"44fa4cd1-77a7-43c9-bdfa-4e0bbcbeb2ad\"},{\"id\":\"e2cf0b1c-89e0-45a2-896f-669b4f48b5f5\"}],\"margin\":[5,10],\"align\":\"start\",\"text\":\"&lt;span&gt;tardis.simulation.base&lt;/span&gt; &lt;span style=&quot;color: #D3D3D3; font-weight: bold;&quot;&gt;[INFO]&lt;/span&gt; \\n\\tLuminosity emitted   = 1.071e+43 erg / s\\n\\tLuminosity absorbed  = 3.320e+42 erg / s\\n\\tLuminosity requested = 1.059e+43 erg / s\\n (base.py:636)\",\"disable_math\":true}},{\"type\":\"object\",\"name\":\"panel.models.markup.HTML\",\"id\":\"348ad049-d06a-498b-b2db-c50fdbc8d93b\",\"attributes\":{\"styles\":{\"type\":\"map\",\"entries\":[[\"font-family\",\"monospace\"],[\"padding\",\"2px 8px\"],[\"margin\",\"0\"],[\"white-space\",\"pre-wrap\"]]},\"stylesheets\":[\"\\n:host(.pn-loading):before, .pn-loading:before {\\n  background-color: #c3c3c3;\\n  mask-size: auto calc(min(50%, 400px));\\n  -webkit-mask-size: auto calc(min(50%, 400px));\\n}\",{\"id\":\"e01f0684-c3d7-4a53-b9e4-1a64bf477552\"},{\"id\":\"44fa4cd1-77a7-43c9-bdfa-4e0bbcbeb2ad\"},{\"id\":\"e2cf0b1c-89e0-45a2-896f-669b4f48b5f5\"}],\"margin\":[5,10],\"align\":\"start\",\"text\":\"&lt;span&gt;tardis.simulation.base&lt;/span&gt; &lt;span style=&quot;color: #D3D3D3; font-weight: bold;&quot;&gt;[INFO]&lt;/span&gt; Iteration converged 8/4 consecutive times. (base.py:260)\",\"disable_math\":true}},{\"type\":\"object\",\"name\":\"panel.models.markup.HTML\",\"id\":\"d5d182e3-bf1f-4744-aeb6-98624ce7853b\",\"attributes\":{\"styles\":{\"type\":\"map\",\"entries\":[[\"font-family\",\"monospace\"],[\"padding\",\"2px 8px\"],[\"margin\",\"0\"],[\"white-space\",\"pre-wrap\"]]},\"stylesheets\":[\"\\n:host(.pn-loading):before, .pn-loading:before {\\n  background-color: #c3c3c3;\\n  mask-size: auto calc(min(50%, 400px));\\n  -webkit-mask-size: auto calc(min(50%, 400px));\\n}\",{\"id\":\"e01f0684-c3d7-4a53-b9e4-1a64bf477552\"},{\"id\":\"44fa4cd1-77a7-43c9-bdfa-4e0bbcbeb2ad\"},{\"id\":\"e2cf0b1c-89e0-45a2-896f-669b4f48b5f5\"}],\"margin\":[5,10],\"align\":\"start\",\"text\":\"&lt;pre style=&quot;white-space: pre; margin: 0;&quot;&gt;Shell No.         t_rad    next_t_rad         w    next_w\\n0          11040.862394  11021.149701  0.470832  0.476682\\n5          11422.617758  11355.081374  0.171857  0.178340\\n10         11152.498499  11057.634031  0.108761  0.113629\\n15         10708.551912  10648.738352  0.083626  0.087198&lt;/pre&gt;\",\"disable_math\":true}},{\"type\":\"object\",\"name\":\"panel.models.markup.HTML\",\"id\":\"6b5a73a0-93ee-4e7d-9624-2be3d4064b7f\",\"attributes\":{\"styles\":{\"type\":\"map\",\"entries\":[[\"font-family\",\"monospace\"],[\"padding\",\"2px 8px\"],[\"margin\",\"0\"],[\"white-space\",\"pre-wrap\"]]},\"stylesheets\":[\"\\n:host(.pn-loading):before, .pn-loading:before {\\n  background-color: #c3c3c3;\\n  mask-size: auto calc(min(50%, 400px));\\n  -webkit-mask-size: auto calc(min(50%, 400px));\\n}\",{\"id\":\"e01f0684-c3d7-4a53-b9e4-1a64bf477552\"},{\"id\":\"44fa4cd1-77a7-43c9-bdfa-4e0bbcbeb2ad\"},{\"id\":\"e2cf0b1c-89e0-45a2-896f-669b4f48b5f5\"}],\"margin\":[5,10],\"align\":\"start\",\"text\":\"&lt;span&gt;tardis.simulation.base&lt;/span&gt; &lt;span style=&quot;color: #D3D3D3; font-weight: bold;&quot;&gt;[INFO]&lt;/span&gt; \\n\\tCurrent t_inner = 10653.396 K\\n\\tExpected t_inner for next iteration = 10624.877 K\\n (base.py:631)\",\"disable_math\":true}},{\"type\":\"object\",\"name\":\"panel.models.markup.HTML\",\"id\":\"e2b69b66-2db3-40d3-b2ee-8fde053653d4\",\"attributes\":{\"styles\":{\"type\":\"map\",\"entries\":[[\"font-family\",\"monospace\"],[\"padding\",\"2px 8px\"],[\"margin\",\"0\"],[\"white-space\",\"pre-wrap\"]]},\"stylesheets\":[\"\\n:host(.pn-loading):before, .pn-loading:before {\\n  background-color: #c3c3c3;\\n  mask-size: auto calc(min(50%, 400px));\\n  -webkit-mask-size: auto calc(min(50%, 400px));\\n}\",{\"id\":\"e01f0684-c3d7-4a53-b9e4-1a64bf477552\"},{\"id\":\"44fa4cd1-77a7-43c9-bdfa-4e0bbcbeb2ad\"},{\"id\":\"e2cf0b1c-89e0-45a2-896f-669b4f48b5f5\"}],\"margin\":[5,10],\"align\":\"start\",\"text\":\"&lt;span&gt;tardis.simulation.base&lt;/span&gt; &lt;span style=&quot;color: #D3D3D3; font-weight: bold;&quot;&gt;[INFO]&lt;/span&gt; \\n\\tStarting iteration 11 of 20 (base.py:444)\",\"disable_math\":true}},{\"type\":\"object\",\"name\":\"panel.models.markup.HTML\",\"id\":\"1442f2ce-b7ca-4b33-8393-cb30985ee403\",\"attributes\":{\"styles\":{\"type\":\"map\",\"entries\":[[\"font-family\",\"monospace\"],[\"padding\",\"2px 8px\"],[\"margin\",\"0\"],[\"white-space\",\"pre-wrap\"]]},\"stylesheets\":[\"\\n:host(.pn-loading):before, .pn-loading:before {\\n  background-color: #c3c3c3;\\n  mask-size: auto calc(min(50%, 400px));\\n  -webkit-mask-size: auto calc(min(50%, 400px));\\n}\",{\"id\":\"e01f0684-c3d7-4a53-b9e4-1a64bf477552\"},{\"id\":\"44fa4cd1-77a7-43c9-bdfa-4e0bbcbeb2ad\"},{\"id\":\"e2cf0b1c-89e0-45a2-896f-669b4f48b5f5\"}],\"margin\":[5,10],\"align\":\"start\",\"text\":\"&lt;span&gt;tardis.simulation.base&lt;/span&gt; &lt;span style=&quot;color: #D3D3D3; font-weight: bold;&quot;&gt;[INFO]&lt;/span&gt; \\n\\tLuminosity emitted   = 1.050e+43 erg / s\\n\\tLuminosity absorbed  = 3.378e+42 erg / s\\n\\tLuminosity requested = 1.059e+43 erg / s\\n (base.py:636)\",\"disable_math\":true}},{\"type\":\"object\",\"name\":\"panel.models.markup.HTML\",\"id\":\"8c4a4944-5622-4755-a2f9-7586ae384479\",\"attributes\":{\"styles\":{\"type\":\"map\",\"entries\":[[\"font-family\",\"monospace\"],[\"padding\",\"2px 8px\"],[\"margin\",\"0\"],[\"white-space\",\"pre-wrap\"]]},\"stylesheets\":[\"\\n:host(.pn-loading):before, .pn-loading:before {\\n  background-color: #c3c3c3;\\n  mask-size: auto calc(min(50%, 400px));\\n  -webkit-mask-size: auto calc(min(50%, 400px));\\n}\",{\"id\":\"e01f0684-c3d7-4a53-b9e4-1a64bf477552\"},{\"id\":\"44fa4cd1-77a7-43c9-bdfa-4e0bbcbeb2ad\"},{\"id\":\"e2cf0b1c-89e0-45a2-896f-669b4f48b5f5\"}],\"margin\":[5,10],\"align\":\"start\",\"text\":\"&lt;span&gt;tardis.simulation.base&lt;/span&gt; &lt;span style=&quot;color: #D3D3D3; font-weight: bold;&quot;&gt;[INFO]&lt;/span&gt; Iteration converged 9/4 consecutive times. (base.py:260)\",\"disable_math\":true}},{\"type\":\"object\",\"name\":\"panel.models.markup.HTML\",\"id\":\"9c37c203-ebb6-4ef7-8f18-fe6c01f24d86\",\"attributes\":{\"styles\":{\"type\":\"map\",\"entries\":[[\"font-family\",\"monospace\"],[\"padding\",\"2px 8px\"],[\"margin\",\"0\"],[\"white-space\",\"pre-wrap\"]]},\"stylesheets\":[\"\\n:host(.pn-loading):before, .pn-loading:before {\\n  background-color: #c3c3c3;\\n  mask-size: auto calc(min(50%, 400px));\\n  -webkit-mask-size: auto calc(min(50%, 400px));\\n}\",{\"id\":\"e01f0684-c3d7-4a53-b9e4-1a64bf477552\"},{\"id\":\"44fa4cd1-77a7-43c9-bdfa-4e0bbcbeb2ad\"},{\"id\":\"e2cf0b1c-89e0-45a2-896f-669b4f48b5f5\"}],\"margin\":[5,10],\"align\":\"start\",\"text\":\"&lt;pre style=&quot;white-space: pre; margin: 0;&quot;&gt;Shell No.         t_rad    next_t_rad         w    next_w\\n0          11021.149701  11033.143067  0.476682  0.473438\\n5          11355.081374  11232.669118  0.178340  0.181972\\n10         11057.634031  10966.246563  0.113629  0.114673\\n15         10648.738352  10628.818554  0.087198  0.085842&lt;/pre&gt;\",\"disable_math\":true}},{\"type\":\"object\",\"name\":\"panel.models.markup.HTML\",\"id\":\"846bf9f7-c880-4bf9-ba4f-42d1e6234e7b\",\"attributes\":{\"styles\":{\"type\":\"map\",\"entries\":[[\"font-family\",\"monospace\"],[\"padding\",\"2px 8px\"],[\"margin\",\"0\"],[\"white-space\",\"pre-wrap\"]]},\"stylesheets\":[\"\\n:host(.pn-loading):before, .pn-loading:before {\\n  background-color: #c3c3c3;\\n  mask-size: auto calc(min(50%, 400px));\\n  -webkit-mask-size: auto calc(min(50%, 400px));\\n}\",{\"id\":\"e01f0684-c3d7-4a53-b9e4-1a64bf477552\"},{\"id\":\"44fa4cd1-77a7-43c9-bdfa-4e0bbcbeb2ad\"},{\"id\":\"e2cf0b1c-89e0-45a2-896f-669b4f48b5f5\"}],\"margin\":[5,10],\"align\":\"start\",\"text\":\"&lt;span&gt;tardis.simulation.base&lt;/span&gt; &lt;span style=&quot;color: #D3D3D3; font-weight: bold;&quot;&gt;[INFO]&lt;/span&gt; \\n\\tCurrent t_inner = 10624.877 K\\n\\tExpected t_inner for next iteration = 10649.271 K\\n (base.py:631)\",\"disable_math\":true}},{\"type\":\"object\",\"name\":\"panel.models.markup.HTML\",\"id\":\"842cc94d-615c-4012-8c3c-73a2e145978b\",\"attributes\":{\"styles\":{\"type\":\"map\",\"entries\":[[\"font-family\",\"monospace\"],[\"padding\",\"2px 8px\"],[\"margin\",\"0\"],[\"white-space\",\"pre-wrap\"]]},\"stylesheets\":[\"\\n:host(.pn-loading):before, .pn-loading:before {\\n  background-color: #c3c3c3;\\n  mask-size: auto calc(min(50%, 400px));\\n  -webkit-mask-size: auto calc(min(50%, 400px));\\n}\",{\"id\":\"e01f0684-c3d7-4a53-b9e4-1a64bf477552\"},{\"id\":\"44fa4cd1-77a7-43c9-bdfa-4e0bbcbeb2ad\"},{\"id\":\"e2cf0b1c-89e0-45a2-896f-669b4f48b5f5\"}],\"margin\":[5,10],\"align\":\"start\",\"text\":\"&lt;span&gt;tardis.simulation.base&lt;/span&gt; &lt;span style=&quot;color: #D3D3D3; font-weight: bold;&quot;&gt;[INFO]&lt;/span&gt; \\n\\tStarting iteration 12 of 20 (base.py:444)\",\"disable_math\":true}},{\"type\":\"object\",\"name\":\"panel.models.markup.HTML\",\"id\":\"733068b2-8896-4cf4-acf9-806b0dbe98ef\",\"attributes\":{\"styles\":{\"type\":\"map\",\"entries\":[[\"font-family\",\"monospace\"],[\"padding\",\"2px 8px\"],[\"margin\",\"0\"],[\"white-space\",\"pre-wrap\"]]},\"stylesheets\":[\"\\n:host(.pn-loading):before, .pn-loading:before {\\n  background-color: #c3c3c3;\\n  mask-size: auto calc(min(50%, 400px));\\n  -webkit-mask-size: auto calc(min(50%, 400px));\\n}\",{\"id\":\"e01f0684-c3d7-4a53-b9e4-1a64bf477552\"},{\"id\":\"44fa4cd1-77a7-43c9-bdfa-4e0bbcbeb2ad\"},{\"id\":\"e2cf0b1c-89e0-45a2-896f-669b4f48b5f5\"}],\"margin\":[5,10],\"align\":\"start\",\"text\":\"&lt;span&gt;tardis.simulation.base&lt;/span&gt; &lt;span style=&quot;color: #D3D3D3; font-weight: bold;&quot;&gt;[INFO]&lt;/span&gt; \\n\\tLuminosity emitted   = 1.057e+43 erg / s\\n\\tLuminosity absorbed  = 3.427e+42 erg / s\\n\\tLuminosity requested = 1.059e+43 erg / s\\n (base.py:636)\",\"disable_math\":true}},{\"type\":\"object\",\"name\":\"panel.models.markup.HTML\",\"id\":\"ed64a5d8-c13e-45e1-8ab7-e983d5e35ddb\",\"attributes\":{\"styles\":{\"type\":\"map\",\"entries\":[[\"font-family\",\"monospace\"],[\"padding\",\"2px 8px\"],[\"margin\",\"0\"],[\"white-space\",\"pre-wrap\"]]},\"stylesheets\":[\"\\n:host(.pn-loading):before, .pn-loading:before {\\n  background-color: #c3c3c3;\\n  mask-size: auto calc(min(50%, 400px));\\n  -webkit-mask-size: auto calc(min(50%, 400px));\\n}\",{\"id\":\"e01f0684-c3d7-4a53-b9e4-1a64bf477552\"},{\"id\":\"44fa4cd1-77a7-43c9-bdfa-4e0bbcbeb2ad\"},{\"id\":\"e2cf0b1c-89e0-45a2-896f-669b4f48b5f5\"}],\"margin\":[5,10],\"align\":\"start\",\"text\":\"&lt;span&gt;tardis.simulation.base&lt;/span&gt; &lt;span style=&quot;color: #D3D3D3; font-weight: bold;&quot;&gt;[INFO]&lt;/span&gt; Iteration converged 10/4 consecutive times. (base.py:260)\",\"disable_math\":true}},{\"type\":\"object\",\"name\":\"panel.models.markup.HTML\",\"id\":\"044c198b-93b3-427a-b0ba-185432bdec0d\",\"attributes\":{\"styles\":{\"type\":\"map\",\"entries\":[[\"font-family\",\"monospace\"],[\"padding\",\"2px 8px\"],[\"margin\",\"0\"],[\"white-space\",\"pre-wrap\"]]},\"stylesheets\":[\"\\n:host(.pn-loading):before, .pn-loading:before {\\n  background-color: #c3c3c3;\\n  mask-size: auto calc(min(50%, 400px));\\n  -webkit-mask-size: auto calc(min(50%, 400px));\\n}\",{\"id\":\"e01f0684-c3d7-4a53-b9e4-1a64bf477552\"},{\"id\":\"44fa4cd1-77a7-43c9-bdfa-4e0bbcbeb2ad\"},{\"id\":\"e2cf0b1c-89e0-45a2-896f-669b4f48b5f5\"}],\"margin\":[5,10],\"align\":\"start\",\"text\":\"&lt;pre style=&quot;white-space: pre; margin: 0;&quot;&gt;Shell No.         t_rad    next_t_rad         w    next_w\\n0          11033.143067  11087.843360  0.473438  0.465085\\n5          11232.669118  11275.807376  0.181972  0.180289\\n10         10966.246563  11068.013441  0.114673  0.111169\\n15         10628.818554  10748.982798  0.085842  0.083035&lt;/pre&gt;\",\"disable_math\":true}},{\"type\":\"object\",\"name\":\"panel.models.markup.HTML\",\"id\":\"152ef520-84b7-4197-84d0-585fc086c006\",\"attributes\":{\"styles\":{\"type\":\"map\",\"entries\":[[\"font-family\",\"monospace\"],[\"padding\",\"2px 8px\"],[\"margin\",\"0\"],[\"white-space\",\"pre-wrap\"]]},\"stylesheets\":[\"\\n:host(.pn-loading):before, .pn-loading:before {\\n  background-color: #c3c3c3;\\n  mask-size: auto calc(min(50%, 400px));\\n  -webkit-mask-size: auto calc(min(50%, 400px));\\n}\",{\"id\":\"e01f0684-c3d7-4a53-b9e4-1a64bf477552\"},{\"id\":\"44fa4cd1-77a7-43c9-bdfa-4e0bbcbeb2ad\"},{\"id\":\"e2cf0b1c-89e0-45a2-896f-669b4f48b5f5\"}],\"margin\":[5,10],\"align\":\"start\",\"text\":\"&lt;span&gt;tardis.simulation.base&lt;/span&gt; &lt;span style=&quot;color: #D3D3D3; font-weight: bold;&quot;&gt;[INFO]&lt;/span&gt; \\n\\tCurrent t_inner = 10649.271 K\\n\\tExpected t_inner for next iteration = 10653.802 K\\n (base.py:631)\",\"disable_math\":true}},{\"type\":\"object\",\"name\":\"panel.models.markup.HTML\",\"id\":\"939e156b-14dc-4b37-9008-7c2dd1f08152\",\"attributes\":{\"styles\":{\"type\":\"map\",\"entries\":[[\"font-family\",\"monospace\"],[\"padding\",\"2px 8px\"],[\"margin\",\"0\"],[\"white-space\",\"pre-wrap\"]]},\"stylesheets\":[\"\\n:host(.pn-loading):before, .pn-loading:before {\\n  background-color: #c3c3c3;\\n  mask-size: auto calc(min(50%, 400px));\\n  -webkit-mask-size: auto calc(min(50%, 400px));\\n}\",{\"id\":\"e01f0684-c3d7-4a53-b9e4-1a64bf477552\"},{\"id\":\"44fa4cd1-77a7-43c9-bdfa-4e0bbcbeb2ad\"},{\"id\":\"e2cf0b1c-89e0-45a2-896f-669b4f48b5f5\"}],\"margin\":[5,10],\"align\":\"start\",\"text\":\"&lt;span&gt;tardis.simulation.base&lt;/span&gt; &lt;span style=&quot;color: #D3D3D3; font-weight: bold;&quot;&gt;[INFO]&lt;/span&gt; \\n\\tStarting iteration 13 of 20 (base.py:444)\",\"disable_math\":true}},{\"type\":\"object\",\"name\":\"panel.models.markup.HTML\",\"id\":\"33a8e0ad-1017-4589-b819-ba329c1a37f7\",\"attributes\":{\"styles\":{\"type\":\"map\",\"entries\":[[\"font-family\",\"monospace\"],[\"padding\",\"2px 8px\"],[\"margin\",\"0\"],[\"white-space\",\"pre-wrap\"]]},\"stylesheets\":[\"\\n:host(.pn-loading):before, .pn-loading:before {\\n  background-color: #c3c3c3;\\n  mask-size: auto calc(min(50%, 400px));\\n  -webkit-mask-size: auto calc(min(50%, 400px));\\n}\",{\"id\":\"e01f0684-c3d7-4a53-b9e4-1a64bf477552\"},{\"id\":\"44fa4cd1-77a7-43c9-bdfa-4e0bbcbeb2ad\"},{\"id\":\"e2cf0b1c-89e0-45a2-896f-669b4f48b5f5\"}],\"margin\":[5,10],\"align\":\"start\",\"text\":\"&lt;span&gt;tardis.simulation.base&lt;/span&gt; &lt;span style=&quot;color: #D3D3D3; font-weight: bold;&quot;&gt;[INFO]&lt;/span&gt; \\n\\tLuminosity emitted   = 1.062e+43 erg / s\\n\\tLuminosity absorbed  = 3.405e+42 erg / s\\n\\tLuminosity requested = 1.059e+43 erg / s\\n (base.py:636)\",\"disable_math\":true}},{\"type\":\"object\",\"name\":\"panel.models.markup.HTML\",\"id\":\"61493291-bf73-4004-b567-6daaad565d00\",\"attributes\":{\"styles\":{\"type\":\"map\",\"entries\":[[\"font-family\",\"monospace\"],[\"padding\",\"2px 8px\"],[\"margin\",\"0\"],[\"white-space\",\"pre-wrap\"]]},\"stylesheets\":[\"\\n:host(.pn-loading):before, .pn-loading:before {\\n  background-color: #c3c3c3;\\n  mask-size: auto calc(min(50%, 400px));\\n  -webkit-mask-size: auto calc(min(50%, 400px));\\n}\",{\"id\":\"e01f0684-c3d7-4a53-b9e4-1a64bf477552\"},{\"id\":\"44fa4cd1-77a7-43c9-bdfa-4e0bbcbeb2ad\"},{\"id\":\"e2cf0b1c-89e0-45a2-896f-669b4f48b5f5\"}],\"margin\":[5,10],\"align\":\"start\",\"text\":\"&lt;span&gt;tardis.simulation.base&lt;/span&gt; &lt;span style=&quot;color: #D3D3D3; font-weight: bold;&quot;&gt;[INFO]&lt;/span&gt; Iteration converged 11/4 consecutive times. (base.py:260)\",\"disable_math\":true}},{\"type\":\"object\",\"name\":\"panel.models.markup.HTML\",\"id\":\"be1009b3-87cd-4b66-85e7-e279c4b45a3e\",\"attributes\":{\"styles\":{\"type\":\"map\",\"entries\":[[\"font-family\",\"monospace\"],[\"padding\",\"2px 8px\"],[\"margin\",\"0\"],[\"white-space\",\"pre-wrap\"]]},\"stylesheets\":[\"\\n:host(.pn-loading):before, .pn-loading:before {\\n  background-color: #c3c3c3;\\n  mask-size: auto calc(min(50%, 400px));\\n  -webkit-mask-size: auto calc(min(50%, 400px));\\n}\",{\"id\":\"e01f0684-c3d7-4a53-b9e4-1a64bf477552\"},{\"id\":\"44fa4cd1-77a7-43c9-bdfa-4e0bbcbeb2ad\"},{\"id\":\"e2cf0b1c-89e0-45a2-896f-669b4f48b5f5\"}],\"margin\":[5,10],\"align\":\"start\",\"text\":\"&lt;pre style=&quot;white-space: pre; margin: 0;&quot;&gt;Shell No.         t_rad    next_t_rad         w    next_w\\n0          11087.843360  11086.546488  0.465085  0.465778\\n5          11275.807376  11323.353434  0.180289  0.178036\\n10         11068.013441  11053.173485  0.111169  0.112635\\n15         10748.982798  10688.059659  0.083035  0.086010&lt;/pre&gt;\",\"disable_math\":true}},{\"type\":\"object\",\"name\":\"panel.models.markup.HTML\",\"id\":\"e0194422-7bd6-4522-b47f-de9809417af7\",\"attributes\":{\"styles\":{\"type\":\"map\",\"entries\":[[\"font-family\",\"monospace\"],[\"padding\",\"2px 8px\"],[\"margin\",\"0\"],[\"white-space\",\"pre-wrap\"]]},\"stylesheets\":[\"\\n:host(.pn-loading):before, .pn-loading:before {\\n  background-color: #c3c3c3;\\n  mask-size: auto calc(min(50%, 400px));\\n  -webkit-mask-size: auto calc(min(50%, 400px));\\n}\",{\"id\":\"e01f0684-c3d7-4a53-b9e4-1a64bf477552\"},{\"id\":\"44fa4cd1-77a7-43c9-bdfa-4e0bbcbeb2ad\"},{\"id\":\"e2cf0b1c-89e0-45a2-896f-669b4f48b5f5\"}],\"margin\":[5,10],\"align\":\"start\",\"text\":\"&lt;span&gt;tardis.simulation.base&lt;/span&gt; &lt;span style=&quot;color: #D3D3D3; font-weight: bold;&quot;&gt;[INFO]&lt;/span&gt; \\n\\tCurrent t_inner = 10653.802 K\\n\\tExpected t_inner for next iteration = 10646.746 K\\n (base.py:631)\",\"disable_math\":true}},{\"type\":\"object\",\"name\":\"panel.models.markup.HTML\",\"id\":\"308f4cc3-0110-4272-9642-42acf2e17b12\",\"attributes\":{\"styles\":{\"type\":\"map\",\"entries\":[[\"font-family\",\"monospace\"],[\"padding\",\"2px 8px\"],[\"margin\",\"0\"],[\"white-space\",\"pre-wrap\"]]},\"stylesheets\":[\"\\n:host(.pn-loading):before, .pn-loading:before {\\n  background-color: #c3c3c3;\\n  mask-size: auto calc(min(50%, 400px));\\n  -webkit-mask-size: auto calc(min(50%, 400px));\\n}\",{\"id\":\"e01f0684-c3d7-4a53-b9e4-1a64bf477552\"},{\"id\":\"44fa4cd1-77a7-43c9-bdfa-4e0bbcbeb2ad\"},{\"id\":\"e2cf0b1c-89e0-45a2-896f-669b4f48b5f5\"}],\"margin\":[5,10],\"align\":\"start\",\"text\":\"&lt;span&gt;tardis.simulation.base&lt;/span&gt; &lt;span style=&quot;color: #D3D3D3; font-weight: bold;&quot;&gt;[INFO]&lt;/span&gt; \\n\\tStarting iteration 14 of 20 (base.py:444)\",\"disable_math\":true}},{\"type\":\"object\",\"name\":\"panel.models.markup.HTML\",\"id\":\"e4240d6c-48f5-4296-974a-f15218423277\",\"attributes\":{\"styles\":{\"type\":\"map\",\"entries\":[[\"font-family\",\"monospace\"],[\"padding\",\"2px 8px\"],[\"margin\",\"0\"],[\"white-space\",\"pre-wrap\"]]},\"stylesheets\":[\"\\n:host(.pn-loading):before, .pn-loading:before {\\n  background-color: #c3c3c3;\\n  mask-size: auto calc(min(50%, 400px));\\n  -webkit-mask-size: auto calc(min(50%, 400px));\\n}\",{\"id\":\"e01f0684-c3d7-4a53-b9e4-1a64bf477552\"},{\"id\":\"44fa4cd1-77a7-43c9-bdfa-4e0bbcbeb2ad\"},{\"id\":\"e2cf0b1c-89e0-45a2-896f-669b4f48b5f5\"}],\"margin\":[5,10],\"align\":\"start\",\"text\":\"&lt;span&gt;tardis.simulation.base&lt;/span&gt; &lt;span style=&quot;color: #D3D3D3; font-weight: bold;&quot;&gt;[INFO]&lt;/span&gt; \\n\\tLuminosity emitted   = 1.061e+43 erg / s\\n\\tLuminosity absorbed  = 3.377e+42 erg / s\\n\\tLuminosity requested = 1.059e+43 erg / s\\n (base.py:636)\",\"disable_math\":true}},{\"type\":\"object\",\"name\":\"panel.models.markup.HTML\",\"id\":\"a884dfdd-f00a-4d31-a978-8bed56d367ce\",\"attributes\":{\"styles\":{\"type\":\"map\",\"entries\":[[\"font-family\",\"monospace\"],[\"padding\",\"2px 8px\"],[\"margin\",\"0\"],[\"white-space\",\"pre-wrap\"]]},\"stylesheets\":[\"\\n:host(.pn-loading):before, .pn-loading:before {\\n  background-color: #c3c3c3;\\n  mask-size: auto calc(min(50%, 400px));\\n  -webkit-mask-size: auto calc(min(50%, 400px));\\n}\",{\"id\":\"e01f0684-c3d7-4a53-b9e4-1a64bf477552\"},{\"id\":\"44fa4cd1-77a7-43c9-bdfa-4e0bbcbeb2ad\"},{\"id\":\"e2cf0b1c-89e0-45a2-896f-669b4f48b5f5\"}],\"margin\":[5,10],\"align\":\"start\",\"text\":\"&lt;span&gt;tardis.simulation.base&lt;/span&gt; &lt;span style=&quot;color: #D3D3D3; font-weight: bold;&quot;&gt;[INFO]&lt;/span&gt; Iteration converged 12/4 consecutive times. (base.py:260)\",\"disable_math\":true}},{\"type\":\"object\",\"name\":\"panel.models.markup.HTML\",\"id\":\"d856b7cb-a529-4eb8-bf02-61ca06086e3f\",\"attributes\":{\"styles\":{\"type\":\"map\",\"entries\":[[\"font-family\",\"monospace\"],[\"padding\",\"2px 8px\"],[\"margin\",\"0\"],[\"white-space\",\"pre-wrap\"]]},\"stylesheets\":[\"\\n:host(.pn-loading):before, .pn-loading:before {\\n  background-color: #c3c3c3;\\n  mask-size: auto calc(min(50%, 400px));\\n  -webkit-mask-size: auto calc(min(50%, 400px));\\n}\",{\"id\":\"e01f0684-c3d7-4a53-b9e4-1a64bf477552\"},{\"id\":\"44fa4cd1-77a7-43c9-bdfa-4e0bbcbeb2ad\"},{\"id\":\"e2cf0b1c-89e0-45a2-896f-669b4f48b5f5\"}],\"margin\":[5,10],\"align\":\"start\",\"text\":\"&lt;pre style=&quot;white-space: pre; margin: 0;&quot;&gt;Shell No.         t_rad    next_t_rad         w    next_w\\n0          11086.546488  11080.438593  0.465778  0.468386\\n5          11323.353434  11300.968754  0.178036  0.180922\\n10         11053.173485  11006.742479  0.112635  0.114366\\n15         10688.059659  10634.395123  0.086010  0.086679&lt;/pre&gt;\",\"disable_math\":true}},{\"type\":\"object\",\"name\":\"panel.models.markup.HTML\",\"id\":\"6d2b2ae4-cb79-4ead-9a2a-c370cf8d1060\",\"attributes\":{\"styles\":{\"type\":\"map\",\"entries\":[[\"font-family\",\"monospace\"],[\"padding\",\"2px 8px\"],[\"margin\",\"0\"],[\"white-space\",\"pre-wrap\"]]},\"stylesheets\":[\"\\n:host(.pn-loading):before, .pn-loading:before {\\n  background-color: #c3c3c3;\\n  mask-size: auto calc(min(50%, 400px));\\n  -webkit-mask-size: auto calc(min(50%, 400px));\\n}\",{\"id\":\"e01f0684-c3d7-4a53-b9e4-1a64bf477552\"},{\"id\":\"44fa4cd1-77a7-43c9-bdfa-4e0bbcbeb2ad\"},{\"id\":\"e2cf0b1c-89e0-45a2-896f-669b4f48b5f5\"}],\"margin\":[5,10],\"align\":\"start\",\"text\":\"&lt;span&gt;tardis.simulation.base&lt;/span&gt; &lt;span style=&quot;color: #D3D3D3; font-weight: bold;&quot;&gt;[INFO]&lt;/span&gt; \\n\\tCurrent t_inner = 10646.746 K\\n\\tExpected t_inner for next iteration = 10641.333 K\\n (base.py:631)\",\"disable_math\":true}},{\"type\":\"object\",\"name\":\"panel.models.markup.HTML\",\"id\":\"4641dd07-f29a-4367-b59c-9492253a18fa\",\"attributes\":{\"styles\":{\"type\":\"map\",\"entries\":[[\"font-family\",\"monospace\"],[\"padding\",\"2px 8px\"],[\"margin\",\"0\"],[\"white-space\",\"pre-wrap\"]]},\"stylesheets\":[\"\\n:host(.pn-loading):before, .pn-loading:before {\\n  background-color: #c3c3c3;\\n  mask-size: auto calc(min(50%, 400px));\\n  -webkit-mask-size: auto calc(min(50%, 400px));\\n}\",{\"id\":\"e01f0684-c3d7-4a53-b9e4-1a64bf477552\"},{\"id\":\"44fa4cd1-77a7-43c9-bdfa-4e0bbcbeb2ad\"},{\"id\":\"e2cf0b1c-89e0-45a2-896f-669b4f48b5f5\"}],\"margin\":[5,10],\"align\":\"start\",\"text\":\"&lt;span&gt;tardis.simulation.base&lt;/span&gt; &lt;span style=&quot;color: #D3D3D3; font-weight: bold;&quot;&gt;[INFO]&lt;/span&gt; \\n\\tStarting iteration 15 of 20 (base.py:444)\",\"disable_math\":true}},{\"type\":\"object\",\"name\":\"panel.models.markup.HTML\",\"id\":\"d28d65f2-b402-4201-b20d-6958c8c9de32\",\"attributes\":{\"styles\":{\"type\":\"map\",\"entries\":[[\"font-family\",\"monospace\"],[\"padding\",\"2px 8px\"],[\"margin\",\"0\"],[\"white-space\",\"pre-wrap\"]]},\"stylesheets\":[\"\\n:host(.pn-loading):before, .pn-loading:before {\\n  background-color: #c3c3c3;\\n  mask-size: auto calc(min(50%, 400px));\\n  -webkit-mask-size: auto calc(min(50%, 400px));\\n}\",{\"id\":\"e01f0684-c3d7-4a53-b9e4-1a64bf477552\"},{\"id\":\"44fa4cd1-77a7-43c9-bdfa-4e0bbcbeb2ad\"},{\"id\":\"e2cf0b1c-89e0-45a2-896f-669b4f48b5f5\"}],\"margin\":[5,10],\"align\":\"start\",\"text\":\"&lt;span&gt;tardis.simulation.base&lt;/span&gt; &lt;span style=&quot;color: #D3D3D3; font-weight: bold;&quot;&gt;[INFO]&lt;/span&gt; \\n\\tLuminosity emitted   = 1.055e+43 erg / s\\n\\tLuminosity absorbed  = 3.411e+42 erg / s\\n\\tLuminosity requested = 1.059e+43 erg / s\\n (base.py:636)\",\"disable_math\":true}},{\"type\":\"object\",\"name\":\"panel.models.markup.HTML\",\"id\":\"f08beb60-7cee-4f92-a57a-33fec386d97e\",\"attributes\":{\"styles\":{\"type\":\"map\",\"entries\":[[\"font-family\",\"monospace\"],[\"padding\",\"2px 8px\"],[\"margin\",\"0\"],[\"white-space\",\"pre-wrap\"]]},\"stylesheets\":[\"\\n:host(.pn-loading):before, .pn-loading:before {\\n  background-color: #c3c3c3;\\n  mask-size: auto calc(min(50%, 400px));\\n  -webkit-mask-size: auto calc(min(50%, 400px));\\n}\",{\"id\":\"e01f0684-c3d7-4a53-b9e4-1a64bf477552\"},{\"id\":\"44fa4cd1-77a7-43c9-bdfa-4e0bbcbeb2ad\"},{\"id\":\"e2cf0b1c-89e0-45a2-896f-669b4f48b5f5\"}],\"margin\":[5,10],\"align\":\"start\",\"text\":\"&lt;span&gt;tardis.simulation.base&lt;/span&gt; &lt;span style=&quot;color: #D3D3D3; font-weight: bold;&quot;&gt;[INFO]&lt;/span&gt; Iteration converged 13/4 consecutive times. (base.py:260)\",\"disable_math\":true}},{\"type\":\"object\",\"name\":\"panel.models.markup.HTML\",\"id\":\"980cd6a5-693b-4f91-a2a8-71fd87dcb207\",\"attributes\":{\"styles\":{\"type\":\"map\",\"entries\":[[\"font-family\",\"monospace\"],[\"padding\",\"2px 8px\"],[\"margin\",\"0\"],[\"white-space\",\"pre-wrap\"]]},\"stylesheets\":[\"\\n:host(.pn-loading):before, .pn-loading:before {\\n  background-color: #c3c3c3;\\n  mask-size: auto calc(min(50%, 400px));\\n  -webkit-mask-size: auto calc(min(50%, 400px));\\n}\",{\"id\":\"e01f0684-c3d7-4a53-b9e4-1a64bf477552\"},{\"id\":\"44fa4cd1-77a7-43c9-bdfa-4e0bbcbeb2ad\"},{\"id\":\"e2cf0b1c-89e0-45a2-896f-669b4f48b5f5\"}],\"margin\":[5,10],\"align\":\"start\",\"text\":\"&lt;pre style=&quot;white-space: pre; margin: 0;&quot;&gt;Shell No.         t_rad    next_t_rad         w    next_w\\n0          11080.438593  10964.035202  0.468386  0.483948\\n5          11300.968754  11282.337017  0.180922  0.180055\\n10         11006.742479  11037.967945  0.114366  0.113049\\n15         10634.395123  10674.687180  0.086679  0.085238&lt;/pre&gt;\",\"disable_math\":true}},{\"type\":\"object\",\"name\":\"panel.models.markup.HTML\",\"id\":\"ff5b6183-f5fb-415c-b79f-06eb65169ea0\",\"attributes\":{\"styles\":{\"type\":\"map\",\"entries\":[[\"font-family\",\"monospace\"],[\"padding\",\"2px 8px\"],[\"margin\",\"0\"],[\"white-space\",\"pre-wrap\"]]},\"stylesheets\":[\"\\n:host(.pn-loading):before, .pn-loading:before {\\n  background-color: #c3c3c3;\\n  mask-size: auto calc(min(50%, 400px));\\n  -webkit-mask-size: auto calc(min(50%, 400px));\\n}\",{\"id\":\"e01f0684-c3d7-4a53-b9e4-1a64bf477552\"},{\"id\":\"44fa4cd1-77a7-43c9-bdfa-4e0bbcbeb2ad\"},{\"id\":\"e2cf0b1c-89e0-45a2-896f-669b4f48b5f5\"}],\"margin\":[5,10],\"align\":\"start\",\"text\":\"&lt;span&gt;tardis.simulation.base&lt;/span&gt; &lt;span style=&quot;color: #D3D3D3; font-weight: bold;&quot;&gt;[INFO]&lt;/span&gt; \\n\\tCurrent t_inner = 10641.333 K\\n\\tExpected t_inner for next iteration = 10652.281 K\\n (base.py:631)\",\"disable_math\":true}},{\"type\":\"object\",\"name\":\"panel.models.markup.HTML\",\"id\":\"f1e53ab9-6ecc-4853-a14a-8c34ce36519f\",\"attributes\":{\"styles\":{\"type\":\"map\",\"entries\":[[\"font-family\",\"monospace\"],[\"padding\",\"2px 8px\"],[\"margin\",\"0\"],[\"white-space\",\"pre-wrap\"]]},\"stylesheets\":[\"\\n:host(.pn-loading):before, .pn-loading:before {\\n  background-color: #c3c3c3;\\n  mask-size: auto calc(min(50%, 400px));\\n  -webkit-mask-size: auto calc(min(50%, 400px));\\n}\",{\"id\":\"e01f0684-c3d7-4a53-b9e4-1a64bf477552\"},{\"id\":\"44fa4cd1-77a7-43c9-bdfa-4e0bbcbeb2ad\"},{\"id\":\"e2cf0b1c-89e0-45a2-896f-669b4f48b5f5\"}],\"margin\":[5,10],\"align\":\"start\",\"text\":\"&lt;span&gt;tardis.simulation.base&lt;/span&gt; &lt;span style=&quot;color: #D3D3D3; font-weight: bold;&quot;&gt;[INFO]&lt;/span&gt; \\n\\tStarting iteration 16 of 20 (base.py:444)\",\"disable_math\":true}},{\"type\":\"object\",\"name\":\"panel.models.markup.HTML\",\"id\":\"0b975dc7-df31-4e1b-aebd-9c68e1ab4311\",\"attributes\":{\"styles\":{\"type\":\"map\",\"entries\":[[\"font-family\",\"monospace\"],[\"padding\",\"2px 8px\"],[\"margin\",\"0\"],[\"white-space\",\"pre-wrap\"]]},\"stylesheets\":[\"\\n:host(.pn-loading):before, .pn-loading:before {\\n  background-color: #c3c3c3;\\n  mask-size: auto calc(min(50%, 400px));\\n  -webkit-mask-size: auto calc(min(50%, 400px));\\n}\",{\"id\":\"e01f0684-c3d7-4a53-b9e4-1a64bf477552\"},{\"id\":\"44fa4cd1-77a7-43c9-bdfa-4e0bbcbeb2ad\"},{\"id\":\"e2cf0b1c-89e0-45a2-896f-669b4f48b5f5\"}],\"margin\":[5,10],\"align\":\"start\",\"text\":\"&lt;span&gt;tardis.simulation.base&lt;/span&gt; &lt;span style=&quot;color: #D3D3D3; font-weight: bold;&quot;&gt;[INFO]&lt;/span&gt; \\n\\tLuminosity emitted   = 1.058e+43 erg / s\\n\\tLuminosity absorbed  = 3.437e+42 erg / s\\n\\tLuminosity requested = 1.059e+43 erg / s\\n (base.py:636)\",\"disable_math\":true}},{\"type\":\"object\",\"name\":\"panel.models.markup.HTML\",\"id\":\"d76948c1-8fd4-412c-af5c-f4c46b27b9ae\",\"attributes\":{\"styles\":{\"type\":\"map\",\"entries\":[[\"font-family\",\"monospace\"],[\"padding\",\"2px 8px\"],[\"margin\",\"0\"],[\"white-space\",\"pre-wrap\"]]},\"stylesheets\":[\"\\n:host(.pn-loading):before, .pn-loading:before {\\n  background-color: #c3c3c3;\\n  mask-size: auto calc(min(50%, 400px));\\n  -webkit-mask-size: auto calc(min(50%, 400px));\\n}\",{\"id\":\"e01f0684-c3d7-4a53-b9e4-1a64bf477552\"},{\"id\":\"44fa4cd1-77a7-43c9-bdfa-4e0bbcbeb2ad\"},{\"id\":\"e2cf0b1c-89e0-45a2-896f-669b4f48b5f5\"}],\"margin\":[5,10],\"align\":\"start\",\"text\":\"&lt;span&gt;tardis.simulation.base&lt;/span&gt; &lt;span style=&quot;color: #D3D3D3; font-weight: bold;&quot;&gt;[INFO]&lt;/span&gt; Iteration converged 14/4 consecutive times. (base.py:260)\",\"disable_math\":true}},{\"type\":\"object\",\"name\":\"panel.models.markup.HTML\",\"id\":\"6cdc1a40-34f2-44e6-920c-5ea7ca890b0c\",\"attributes\":{\"styles\":{\"type\":\"map\",\"entries\":[[\"font-family\",\"monospace\"],[\"padding\",\"2px 8px\"],[\"margin\",\"0\"],[\"white-space\",\"pre-wrap\"]]},\"stylesheets\":[\"\\n:host(.pn-loading):before, .pn-loading:before {\\n  background-color: #c3c3c3;\\n  mask-size: auto calc(min(50%, 400px));\\n  -webkit-mask-size: auto calc(min(50%, 400px));\\n}\",{\"id\":\"e01f0684-c3d7-4a53-b9e4-1a64bf477552\"},{\"id\":\"44fa4cd1-77a7-43c9-bdfa-4e0bbcbeb2ad\"},{\"id\":\"e2cf0b1c-89e0-45a2-896f-669b4f48b5f5\"}],\"margin\":[5,10],\"align\":\"start\",\"text\":\"&lt;pre style=&quot;white-space: pre; margin: 0;&quot;&gt;Shell No.         t_rad    next_t_rad         w    next_w\\n0          10964.035202  11042.587566  0.483948  0.471783\\n5          11282.337017  11375.256379  0.180055  0.172888\\n10         11037.967945  11057.595126  0.113049  0.111964\\n15         10674.687180  10732.089876  0.085238  0.083235&lt;/pre&gt;\",\"disable_math\":true}},{\"type\":\"object\",\"name\":\"panel.models.markup.HTML\",\"id\":\"9de517ec-ed0d-477b-a43d-1e34740aa143\",\"attributes\":{\"styles\":{\"type\":\"map\",\"entries\":[[\"font-family\",\"monospace\"],[\"padding\",\"2px 8px\"],[\"margin\",\"0\"],[\"white-space\",\"pre-wrap\"]]},\"stylesheets\":[\"\\n:host(.pn-loading):before, .pn-loading:before {\\n  background-color: #c3c3c3;\\n  mask-size: auto calc(min(50%, 400px));\\n  -webkit-mask-size: auto calc(min(50%, 400px));\\n}\",{\"id\":\"e01f0684-c3d7-4a53-b9e4-1a64bf477552\"},{\"id\":\"44fa4cd1-77a7-43c9-bdfa-4e0bbcbeb2ad\"},{\"id\":\"e2cf0b1c-89e0-45a2-896f-669b4f48b5f5\"}],\"margin\":[5,10],\"align\":\"start\",\"text\":\"&lt;span&gt;tardis.simulation.base&lt;/span&gt; &lt;span style=&quot;color: #D3D3D3; font-weight: bold;&quot;&gt;[INFO]&lt;/span&gt; \\n\\tCurrent t_inner = 10652.281 K\\n\\tExpected t_inner for next iteration = 10654.516 K\\n (base.py:631)\",\"disable_math\":true}},{\"type\":\"object\",\"name\":\"panel.models.markup.HTML\",\"id\":\"43b11dde-8ea9-4618-9d8e-5ca613bbec15\",\"attributes\":{\"styles\":{\"type\":\"map\",\"entries\":[[\"font-family\",\"monospace\"],[\"padding\",\"2px 8px\"],[\"margin\",\"0\"],[\"white-space\",\"pre-wrap\"]]},\"stylesheets\":[\"\\n:host(.pn-loading):before, .pn-loading:before {\\n  background-color: #c3c3c3;\\n  mask-size: auto calc(min(50%, 400px));\\n  -webkit-mask-size: auto calc(min(50%, 400px));\\n}\",{\"id\":\"e01f0684-c3d7-4a53-b9e4-1a64bf477552\"},{\"id\":\"44fa4cd1-77a7-43c9-bdfa-4e0bbcbeb2ad\"},{\"id\":\"e2cf0b1c-89e0-45a2-896f-669b4f48b5f5\"}],\"margin\":[5,10],\"align\":\"start\",\"text\":\"&lt;span&gt;tardis.simulation.base&lt;/span&gt; &lt;span style=&quot;color: #D3D3D3; font-weight: bold;&quot;&gt;[INFO]&lt;/span&gt; \\n\\tStarting iteration 17 of 20 (base.py:444)\",\"disable_math\":true}},{\"type\":\"object\",\"name\":\"panel.models.markup.HTML\",\"id\":\"07919d46-fcde-4c04-8f98-5794815e4c0a\",\"attributes\":{\"styles\":{\"type\":\"map\",\"entries\":[[\"font-family\",\"monospace\"],[\"padding\",\"2px 8px\"],[\"margin\",\"0\"],[\"white-space\",\"pre-wrap\"]]},\"stylesheets\":[\"\\n:host(.pn-loading):before, .pn-loading:before {\\n  background-color: #c3c3c3;\\n  mask-size: auto calc(min(50%, 400px));\\n  -webkit-mask-size: auto calc(min(50%, 400px));\\n}\",{\"id\":\"e01f0684-c3d7-4a53-b9e4-1a64bf477552\"},{\"id\":\"44fa4cd1-77a7-43c9-bdfa-4e0bbcbeb2ad\"},{\"id\":\"e2cf0b1c-89e0-45a2-896f-669b4f48b5f5\"}],\"margin\":[5,10],\"align\":\"start\",\"text\":\"&lt;span&gt;tardis.simulation.base&lt;/span&gt; &lt;span style=&quot;color: #D3D3D3; font-weight: bold;&quot;&gt;[INFO]&lt;/span&gt; \\n\\tLuminosity emitted   = 1.066e+43 erg / s\\n\\tLuminosity absorbed  = 3.375e+42 erg / s\\n\\tLuminosity requested = 1.059e+43 erg / s\\n (base.py:636)\",\"disable_math\":true}},{\"type\":\"object\",\"name\":\"panel.models.markup.HTML\",\"id\":\"c240c933-9b19-4159-94c2-35bfdeee4b69\",\"attributes\":{\"styles\":{\"type\":\"map\",\"entries\":[[\"font-family\",\"monospace\"],[\"padding\",\"2px 8px\"],[\"margin\",\"0\"],[\"white-space\",\"pre-wrap\"]]},\"stylesheets\":[\"\\n:host(.pn-loading):before, .pn-loading:before {\\n  background-color: #c3c3c3;\\n  mask-size: auto calc(min(50%, 400px));\\n  -webkit-mask-size: auto calc(min(50%, 400px));\\n}\",{\"id\":\"e01f0684-c3d7-4a53-b9e4-1a64bf477552\"},{\"id\":\"44fa4cd1-77a7-43c9-bdfa-4e0bbcbeb2ad\"},{\"id\":\"e2cf0b1c-89e0-45a2-896f-669b4f48b5f5\"}],\"margin\":[5,10],\"align\":\"start\",\"text\":\"&lt;span&gt;tardis.simulation.base&lt;/span&gt; &lt;span style=&quot;color: #D3D3D3; font-weight: bold;&quot;&gt;[INFO]&lt;/span&gt; Iteration converged 15/4 consecutive times. (base.py:260)\",\"disable_math\":true}},{\"type\":\"object\",\"name\":\"panel.models.markup.HTML\",\"id\":\"ff8fe726-fcc8-4549-8372-c61b7406e66e\",\"attributes\":{\"styles\":{\"type\":\"map\",\"entries\":[[\"font-family\",\"monospace\"],[\"padding\",\"2px 8px\"],[\"margin\",\"0\"],[\"white-space\",\"pre-wrap\"]]},\"stylesheets\":[\"\\n:host(.pn-loading):before, .pn-loading:before {\\n  background-color: #c3c3c3;\\n  mask-size: auto calc(min(50%, 400px));\\n  -webkit-mask-size: auto calc(min(50%, 400px));\\n}\",{\"id\":\"e01f0684-c3d7-4a53-b9e4-1a64bf477552\"},{\"id\":\"44fa4cd1-77a7-43c9-bdfa-4e0bbcbeb2ad\"},{\"id\":\"e2cf0b1c-89e0-45a2-896f-669b4f48b5f5\"}],\"margin\":[5,10],\"align\":\"start\",\"text\":\"&lt;pre style=&quot;white-space: pre; margin: 0;&quot;&gt;Shell No.         t_rad    next_t_rad         w    next_w\\n0          11042.587566  11075.308461  0.471783  0.464843\\n5          11375.256379  11439.649947  0.172888  0.171043\\n10         11057.595126  11185.093739  0.111964  0.107880\\n15         10732.089876  10828.748565  0.083235  0.081284&lt;/pre&gt;\",\"disable_math\":true}},{\"type\":\"object\",\"name\":\"panel.models.markup.HTML\",\"id\":\"60d0a9bc-6423-4e92-beed-cadcd94a6676\",\"attributes\":{\"styles\":{\"type\":\"map\",\"entries\":[[\"font-family\",\"monospace\"],[\"padding\",\"2px 8px\"],[\"margin\",\"0\"],[\"white-space\",\"pre-wrap\"]]},\"stylesheets\":[\"\\n:host(.pn-loading):before, .pn-loading:before {\\n  background-color: #c3c3c3;\\n  mask-size: auto calc(min(50%, 400px));\\n  -webkit-mask-size: auto calc(min(50%, 400px));\\n}\",{\"id\":\"e01f0684-c3d7-4a53-b9e4-1a64bf477552\"},{\"id\":\"44fa4cd1-77a7-43c9-bdfa-4e0bbcbeb2ad\"},{\"id\":\"e2cf0b1c-89e0-45a2-896f-669b4f48b5f5\"}],\"margin\":[5,10],\"align\":\"start\",\"text\":\"&lt;span&gt;tardis.simulation.base&lt;/span&gt; &lt;span style=&quot;color: #D3D3D3; font-weight: bold;&quot;&gt;[INFO]&lt;/span&gt; \\n\\tCurrent t_inner = 10654.516 K\\n\\tExpected t_inner for next iteration = 10637.793 K\\n (base.py:631)\",\"disable_math\":true}},{\"type\":\"object\",\"name\":\"panel.models.markup.HTML\",\"id\":\"1dace6ca-ff75-4803-8c92-cb6e67d55b99\",\"attributes\":{\"styles\":{\"type\":\"map\",\"entries\":[[\"font-family\",\"monospace\"],[\"padding\",\"2px 8px\"],[\"margin\",\"0\"],[\"white-space\",\"pre-wrap\"]]},\"stylesheets\":[\"\\n:host(.pn-loading):before, .pn-loading:before {\\n  background-color: #c3c3c3;\\n  mask-size: auto calc(min(50%, 400px));\\n  -webkit-mask-size: auto calc(min(50%, 400px));\\n}\",{\"id\":\"e01f0684-c3d7-4a53-b9e4-1a64bf477552\"},{\"id\":\"44fa4cd1-77a7-43c9-bdfa-4e0bbcbeb2ad\"},{\"id\":\"e2cf0b1c-89e0-45a2-896f-669b4f48b5f5\"}],\"margin\":[5,10],\"align\":\"start\",\"text\":\"&lt;span&gt;tardis.simulation.base&lt;/span&gt; &lt;span style=&quot;color: #D3D3D3; font-weight: bold;&quot;&gt;[INFO]&lt;/span&gt; \\n\\tStarting iteration 18 of 20 (base.py:444)\",\"disable_math\":true}},{\"type\":\"object\",\"name\":\"panel.models.markup.HTML\",\"id\":\"aacc35f5-0e2a-4672-ad4c-83b362782d9f\",\"attributes\":{\"styles\":{\"type\":\"map\",\"entries\":[[\"font-family\",\"monospace\"],[\"padding\",\"2px 8px\"],[\"margin\",\"0\"],[\"white-space\",\"pre-wrap\"]]},\"stylesheets\":[\"\\n:host(.pn-loading):before, .pn-loading:before {\\n  background-color: #c3c3c3;\\n  mask-size: auto calc(min(50%, 400px));\\n  -webkit-mask-size: auto calc(min(50%, 400px));\\n}\",{\"id\":\"e01f0684-c3d7-4a53-b9e4-1a64bf477552\"},{\"id\":\"44fa4cd1-77a7-43c9-bdfa-4e0bbcbeb2ad\"},{\"id\":\"e2cf0b1c-89e0-45a2-896f-669b4f48b5f5\"}],\"margin\":[5,10],\"align\":\"start\",\"text\":\"&lt;span&gt;tardis.simulation.base&lt;/span&gt; &lt;span style=&quot;color: #D3D3D3; font-weight: bold;&quot;&gt;[INFO]&lt;/span&gt; \\n\\tLuminosity emitted   = 1.059e+43 erg / s\\n\\tLuminosity absorbed  = 3.354e+42 erg / s\\n\\tLuminosity requested = 1.059e+43 erg / s\\n (base.py:636)\",\"disable_math\":true}},{\"type\":\"object\",\"name\":\"panel.models.markup.HTML\",\"id\":\"82459bb2-9fea-4df2-9f15-defc518d98de\",\"attributes\":{\"styles\":{\"type\":\"map\",\"entries\":[[\"font-family\",\"monospace\"],[\"padding\",\"2px 8px\"],[\"margin\",\"0\"],[\"white-space\",\"pre-wrap\"]]},\"stylesheets\":[\"\\n:host(.pn-loading):before, .pn-loading:before {\\n  background-color: #c3c3c3;\\n  mask-size: auto calc(min(50%, 400px));\\n  -webkit-mask-size: auto calc(min(50%, 400px));\\n}\",{\"id\":\"e01f0684-c3d7-4a53-b9e4-1a64bf477552\"},{\"id\":\"44fa4cd1-77a7-43c9-bdfa-4e0bbcbeb2ad\"},{\"id\":\"e2cf0b1c-89e0-45a2-896f-669b4f48b5f5\"}],\"margin\":[5,10],\"align\":\"start\",\"text\":\"&lt;span&gt;tardis.simulation.base&lt;/span&gt; &lt;span style=&quot;color: #D3D3D3; font-weight: bold;&quot;&gt;[INFO]&lt;/span&gt; Iteration converged 16/4 consecutive times. (base.py:260)\",\"disable_math\":true}},{\"type\":\"object\",\"name\":\"panel.models.markup.HTML\",\"id\":\"37200a13-6a55-4bf5-aa9a-b833fb26325d\",\"attributes\":{\"styles\":{\"type\":\"map\",\"entries\":[[\"font-family\",\"monospace\"],[\"padding\",\"2px 8px\"],[\"margin\",\"0\"],[\"white-space\",\"pre-wrap\"]]},\"stylesheets\":[\"\\n:host(.pn-loading):before, .pn-loading:before {\\n  background-color: #c3c3c3;\\n  mask-size: auto calc(min(50%, 400px));\\n  -webkit-mask-size: auto calc(min(50%, 400px));\\n}\",{\"id\":\"e01f0684-c3d7-4a53-b9e4-1a64bf477552\"},{\"id\":\"44fa4cd1-77a7-43c9-bdfa-4e0bbcbeb2ad\"},{\"id\":\"e2cf0b1c-89e0-45a2-896f-669b4f48b5f5\"}],\"margin\":[5,10],\"align\":\"start\",\"text\":\"&lt;pre style=&quot;white-space: pre; margin: 0;&quot;&gt;Shell No.         t_rad    next_t_rad         w    next_w\\n0          11075.308461  11074.427342  0.464843  0.463021\\n5          11439.649947  11383.872996  0.171043  0.174425\\n10         11185.093739  11104.670336  0.107880  0.110457\\n15         10828.748565  10681.933253  0.081284  0.084433&lt;/pre&gt;\",\"disable_math\":true}},{\"type\":\"object\",\"name\":\"panel.models.markup.HTML\",\"id\":\"c877e906-4adb-4b6b-8293-2f029154f937\",\"attributes\":{\"styles\":{\"type\":\"map\",\"entries\":[[\"font-family\",\"monospace\"],[\"padding\",\"2px 8px\"],[\"margin\",\"0\"],[\"white-space\",\"pre-wrap\"]]},\"stylesheets\":[\"\\n:host(.pn-loading):before, .pn-loading:before {\\n  background-color: #c3c3c3;\\n  mask-size: auto calc(min(50%, 400px));\\n  -webkit-mask-size: auto calc(min(50%, 400px));\\n}\",{\"id\":\"e01f0684-c3d7-4a53-b9e4-1a64bf477552\"},{\"id\":\"44fa4cd1-77a7-43c9-bdfa-4e0bbcbeb2ad\"},{\"id\":\"e2cf0b1c-89e0-45a2-896f-669b4f48b5f5\"}],\"margin\":[5,10],\"align\":\"start\",\"text\":\"&lt;span&gt;tardis.simulation.base&lt;/span&gt; &lt;span style=&quot;color: #D3D3D3; font-weight: bold;&quot;&gt;[INFO]&lt;/span&gt; \\n\\tCurrent t_inner = 10637.793 K\\n\\tExpected t_inner for next iteration = 10638.424 K\\n (base.py:631)\",\"disable_math\":true}},{\"type\":\"object\",\"name\":\"panel.models.markup.HTML\",\"id\":\"4721b338-512d-4afc-99e9-76200b25c98d\",\"attributes\":{\"styles\":{\"type\":\"map\",\"entries\":[[\"font-family\",\"monospace\"],[\"padding\",\"2px 8px\"],[\"margin\",\"0\"],[\"white-space\",\"pre-wrap\"]]},\"stylesheets\":[\"\\n:host(.pn-loading):before, .pn-loading:before {\\n  background-color: #c3c3c3;\\n  mask-size: auto calc(min(50%, 400px));\\n  -webkit-mask-size: auto calc(min(50%, 400px));\\n}\",{\"id\":\"e01f0684-c3d7-4a53-b9e4-1a64bf477552\"},{\"id\":\"44fa4cd1-77a7-43c9-bdfa-4e0bbcbeb2ad\"},{\"id\":\"e2cf0b1c-89e0-45a2-896f-669b4f48b5f5\"}],\"margin\":[5,10],\"align\":\"start\",\"text\":\"&lt;span&gt;tardis.simulation.base&lt;/span&gt; &lt;span style=&quot;color: #D3D3D3; font-weight: bold;&quot;&gt;[INFO]&lt;/span&gt; \\n\\tStarting iteration 19 of 20 (base.py:444)\",\"disable_math\":true}},{\"type\":\"object\",\"name\":\"panel.models.markup.HTML\",\"id\":\"fe8cee34-622d-4377-b29c-d9678ed68a59\",\"attributes\":{\"styles\":{\"type\":\"map\",\"entries\":[[\"font-family\",\"monospace\"],[\"padding\",\"2px 8px\"],[\"margin\",\"0\"],[\"white-space\",\"pre-wrap\"]]},\"stylesheets\":[\"\\n:host(.pn-loading):before, .pn-loading:before {\\n  background-color: #c3c3c3;\\n  mask-size: auto calc(min(50%, 400px));\\n  -webkit-mask-size: auto calc(min(50%, 400px));\\n}\",{\"id\":\"e01f0684-c3d7-4a53-b9e4-1a64bf477552\"},{\"id\":\"44fa4cd1-77a7-43c9-bdfa-4e0bbcbeb2ad\"},{\"id\":\"e2cf0b1c-89e0-45a2-896f-669b4f48b5f5\"}],\"margin\":[5,10],\"align\":\"start\",\"text\":\"&lt;span&gt;tardis.simulation.base&lt;/span&gt; &lt;span style=&quot;color: #D3D3D3; font-weight: bold;&quot;&gt;[INFO]&lt;/span&gt; \\n\\tLuminosity emitted   = 1.054e+43 erg / s\\n\\tLuminosity absorbed  = 3.403e+42 erg / s\\n\\tLuminosity requested = 1.059e+43 erg / s\\n (base.py:636)\",\"disable_math\":true}},{\"type\":\"object\",\"name\":\"panel.models.markup.HTML\",\"id\":\"48e5176a-d373-4025-afb7-130116940051\",\"attributes\":{\"styles\":{\"type\":\"map\",\"entries\":[[\"font-family\",\"monospace\"],[\"padding\",\"2px 8px\"],[\"margin\",\"0\"],[\"white-space\",\"pre-wrap\"]]},\"stylesheets\":[\"\\n:host(.pn-loading):before, .pn-loading:before {\\n  background-color: #c3c3c3;\\n  mask-size: auto calc(min(50%, 400px));\\n  -webkit-mask-size: auto calc(min(50%, 400px));\\n}\",{\"id\":\"e01f0684-c3d7-4a53-b9e4-1a64bf477552\"},{\"id\":\"44fa4cd1-77a7-43c9-bdfa-4e0bbcbeb2ad\"},{\"id\":\"e2cf0b1c-89e0-45a2-896f-669b4f48b5f5\"}],\"margin\":[5,10],\"align\":\"start\",\"text\":\"&lt;span&gt;tardis.simulation.base&lt;/span&gt; &lt;span style=&quot;color: #D3D3D3; font-weight: bold;&quot;&gt;[INFO]&lt;/span&gt; Iteration converged 17/4 consecutive times. (base.py:260)\",\"disable_math\":true}},{\"type\":\"object\",\"name\":\"panel.models.markup.HTML\",\"id\":\"7ad02cbf-85ff-4c96-88a3-ec3d23ca8e73\",\"attributes\":{\"styles\":{\"type\":\"map\",\"entries\":[[\"font-family\",\"monospace\"],[\"padding\",\"2px 8px\"],[\"margin\",\"0\"],[\"white-space\",\"pre-wrap\"]]},\"stylesheets\":[\"\\n:host(.pn-loading):before, .pn-loading:before {\\n  background-color: #c3c3c3;\\n  mask-size: auto calc(min(50%, 400px));\\n  -webkit-mask-size: auto calc(min(50%, 400px));\\n}\",{\"id\":\"e01f0684-c3d7-4a53-b9e4-1a64bf477552\"},{\"id\":\"44fa4cd1-77a7-43c9-bdfa-4e0bbcbeb2ad\"},{\"id\":\"e2cf0b1c-89e0-45a2-896f-669b4f48b5f5\"}],\"margin\":[5,10],\"align\":\"start\",\"text\":\"&lt;pre style=&quot;white-space: pre; margin: 0;&quot;&gt;Shell No.         t_rad    next_t_rad         w    next_w\\n0          11074.427342  11083.753820  0.463021  0.464681\\n5          11383.872996  11384.095699  0.174425  0.173447\\n10         11104.670336  11121.166737  0.110457  0.109419\\n15         10681.933253  10695.839730  0.084433  0.083913&lt;/pre&gt;\",\"disable_math\":true}},{\"type\":\"object\",\"name\":\"panel.models.markup.HTML\",\"id\":\"6d2e155b-b7d5-4bb4-9df7-22d04b4d56a7\",\"attributes\":{\"styles\":{\"type\":\"map\",\"entries\":[[\"font-family\",\"monospace\"],[\"padding\",\"2px 8px\"],[\"margin\",\"0\"],[\"white-space\",\"pre-wrap\"]]},\"stylesheets\":[\"\\n:host(.pn-loading):before, .pn-loading:before {\\n  background-color: #c3c3c3;\\n  mask-size: auto calc(min(50%, 400px));\\n  -webkit-mask-size: auto calc(min(50%, 400px));\\n}\",{\"id\":\"e01f0684-c3d7-4a53-b9e4-1a64bf477552\"},{\"id\":\"44fa4cd1-77a7-43c9-bdfa-4e0bbcbeb2ad\"},{\"id\":\"e2cf0b1c-89e0-45a2-896f-669b4f48b5f5\"}],\"margin\":[5,10],\"align\":\"start\",\"text\":\"&lt;span&gt;tardis.simulation.base&lt;/span&gt; &lt;span style=&quot;color: #D3D3D3; font-weight: bold;&quot;&gt;[INFO]&lt;/span&gt; \\n\\tCurrent t_inner = 10638.424 K\\n\\tExpected t_inner for next iteration = 10651.315 K\\n (base.py:631)\",\"disable_math\":true}},{\"type\":\"object\",\"name\":\"panel.models.markup.HTML\",\"id\":\"79dfc0dd-ae1b-4a81-9c0f-e10c95deede1\",\"attributes\":{\"styles\":{\"type\":\"map\",\"entries\":[[\"font-family\",\"monospace\"],[\"padding\",\"2px 8px\"],[\"margin\",\"0\"],[\"white-space\",\"pre-wrap\"]]},\"stylesheets\":[\"\\n:host(.pn-loading):before, .pn-loading:before {\\n  background-color: #c3c3c3;\\n  mask-size: auto calc(min(50%, 400px));\\n  -webkit-mask-size: auto calc(min(50%, 400px));\\n}\",{\"id\":\"e01f0684-c3d7-4a53-b9e4-1a64bf477552\"},{\"id\":\"44fa4cd1-77a7-43c9-bdfa-4e0bbcbeb2ad\"},{\"id\":\"e2cf0b1c-89e0-45a2-896f-669b4f48b5f5\"}],\"margin\":[5,10],\"align\":\"start\",\"text\":\"&lt;span&gt;tardis.simulation.base&lt;/span&gt; &lt;span style=&quot;color: #D3D3D3; font-weight: bold;&quot;&gt;[INFO]&lt;/span&gt; \\n\\tSimulation finished in 19 iterations \\n\\tSimulation took 93.85 s\\n (base.py:549)\",\"disable_math\":true}},{\"type\":\"object\",\"name\":\"panel.models.markup.HTML\",\"id\":\"f78d6bbf-a728-41ed-b9de-fc7f4bcb0f57\",\"attributes\":{\"styles\":{\"type\":\"map\",\"entries\":[[\"font-family\",\"monospace\"],[\"padding\",\"2px 8px\"],[\"margin\",\"0\"],[\"white-space\",\"pre-wrap\"]]},\"stylesheets\":[\"\\n:host(.pn-loading):before, .pn-loading:before {\\n  background-color: #c3c3c3;\\n  mask-size: auto calc(min(50%, 400px));\\n  -webkit-mask-size: auto calc(min(50%, 400px));\\n}\",{\"id\":\"e01f0684-c3d7-4a53-b9e4-1a64bf477552\"},{\"id\":\"44fa4cd1-77a7-43c9-bdfa-4e0bbcbeb2ad\"},{\"id\":\"e2cf0b1c-89e0-45a2-896f-669b4f48b5f5\"}],\"margin\":[5,10],\"align\":\"start\",\"text\":\"&lt;span&gt;tardis.simulation.base&lt;/span&gt; &lt;span style=&quot;color: #D3D3D3; font-weight: bold;&quot;&gt;[INFO]&lt;/span&gt; \\n\\tStarting iteration 20 of 20 (base.py:444)\",\"disable_math\":true}},{\"type\":\"object\",\"name\":\"panel.models.markup.HTML\",\"id\":\"bb718135-10ec-47ec-8082-60733e1f4ccc\",\"attributes\":{\"styles\":{\"type\":\"map\",\"entries\":[[\"font-family\",\"monospace\"],[\"padding\",\"2px 8px\"],[\"margin\",\"0\"],[\"white-space\",\"pre-wrap\"]]},\"stylesheets\":[\"\\n:host(.pn-loading):before, .pn-loading:before {\\n  background-color: #c3c3c3;\\n  mask-size: auto calc(min(50%, 400px));\\n  -webkit-mask-size: auto calc(min(50%, 400px));\\n}\",{\"id\":\"e01f0684-c3d7-4a53-b9e4-1a64bf477552\"},{\"id\":\"44fa4cd1-77a7-43c9-bdfa-4e0bbcbeb2ad\"},{\"id\":\"e2cf0b1c-89e0-45a2-896f-669b4f48b5f5\"}],\"margin\":[5,10],\"align\":\"start\",\"text\":\"&lt;span&gt;tardis.simulation.base&lt;/span&gt; &lt;span style=&quot;color: #D3D3D3; font-weight: bold;&quot;&gt;[INFO]&lt;/span&gt; \\n\\tLuminosity emitted   = 1.061e+43 erg / s\\n\\tLuminosity absorbed  = 3.400e+42 erg / s\\n\\tLuminosity requested = 1.059e+43 erg / s\\n (base.py:636)\",\"disable_math\":true}}]}},{\"type\":\"object\",\"name\":\"panel.models.comm_manager.CommManager\",\"id\":\"e6652dcc-7e04-4cfd-a400-2ca668a48f94\",\"attributes\":{\"plot_id\":\"e6839cd6-f048-4978-b57d-b2a52081b27a\",\"comm_id\":\"e69f23e65cef4742b7841d1b32ca6096\",\"client_comm_id\":\"7cc03a7c3d3a459ab67f2a32b7c54d6c\"}}],\"defs\":[{\"type\":\"model\",\"name\":\"ReactiveHTML1\"},{\"type\":\"model\",\"name\":\"FlexBox1\",\"properties\":[{\"name\":\"align_content\",\"kind\":\"Any\",\"default\":\"flex-start\"},{\"name\":\"align_items\",\"kind\":\"Any\",\"default\":\"flex-start\"},{\"name\":\"flex_direction\",\"kind\":\"Any\",\"default\":\"row\"},{\"name\":\"flex_wrap\",\"kind\":\"Any\",\"default\":\"wrap\"},{\"name\":\"gap\",\"kind\":\"Any\",\"default\":\"\"},{\"name\":\"justify_content\",\"kind\":\"Any\",\"default\":\"flex-start\"}]},{\"type\":\"model\",\"name\":\"FloatPanel1\",\"properties\":[{\"name\":\"config\",\"kind\":\"Any\",\"default\":{\"type\":\"map\"}},{\"name\":\"contained\",\"kind\":\"Any\",\"default\":true},{\"name\":\"position\",\"kind\":\"Any\",\"default\":\"right-top\"},{\"name\":\"offsetx\",\"kind\":\"Any\",\"default\":null},{\"name\":\"offsety\",\"kind\":\"Any\",\"default\":null},{\"name\":\"theme\",\"kind\":\"Any\",\"default\":\"primary\"},{\"name\":\"status\",\"kind\":\"Any\",\"default\":\"normalized\"}]},{\"type\":\"model\",\"name\":\"GridStack1\",\"properties\":[{\"name\":\"mode\",\"kind\":\"Any\",\"default\":\"warn\"},{\"name\":\"ncols\",\"kind\":\"Any\",\"default\":null},{\"name\":\"nrows\",\"kind\":\"Any\",\"default\":null},{\"name\":\"allow_resize\",\"kind\":\"Any\",\"default\":true},{\"name\":\"allow_drag\",\"kind\":\"Any\",\"default\":true},{\"name\":\"state\",\"kind\":\"Any\",\"default\":[]}]},{\"type\":\"model\",\"name\":\"drag1\",\"properties\":[{\"name\":\"slider_width\",\"kind\":\"Any\",\"default\":5},{\"name\":\"slider_color\",\"kind\":\"Any\",\"default\":\"black\"},{\"name\":\"value\",\"kind\":\"Any\",\"default\":50}]},{\"type\":\"model\",\"name\":\"click1\",\"properties\":[{\"name\":\"terminal_output\",\"kind\":\"Any\",\"default\":\"\"},{\"name\":\"debug_name\",\"kind\":\"Any\",\"default\":\"\"},{\"name\":\"clears\",\"kind\":\"Any\",\"default\":0}]},{\"type\":\"model\",\"name\":\"FastWrapper1\",\"properties\":[{\"name\":\"object\",\"kind\":\"Any\",\"default\":null},{\"name\":\"style\",\"kind\":\"Any\",\"default\":null}]},{\"type\":\"model\",\"name\":\"NotificationAreaBase1\",\"properties\":[{\"name\":\"js_events\",\"kind\":\"Any\",\"default\":{\"type\":\"map\"}},{\"name\":\"position\",\"kind\":\"Any\",\"default\":\"bottom-right\"},{\"name\":\"_clear\",\"kind\":\"Any\",\"default\":0}]},{\"type\":\"model\",\"name\":\"NotificationArea1\",\"properties\":[{\"name\":\"js_events\",\"kind\":\"Any\",\"default\":{\"type\":\"map\"}},{\"name\":\"notifications\",\"kind\":\"Any\",\"default\":[]},{\"name\":\"position\",\"kind\":\"Any\",\"default\":\"bottom-right\"},{\"name\":\"_clear\",\"kind\":\"Any\",\"default\":0},{\"name\":\"types\",\"kind\":\"Any\",\"default\":[{\"type\":\"map\",\"entries\":[[\"type\",\"warning\"],[\"background\",\"#ffc107\"],[\"icon\",{\"type\":\"map\",\"entries\":[[\"className\",\"fas fa-exclamation-triangle\"],[\"tagName\",\"i\"],[\"color\",\"white\"]]}]]},{\"type\":\"map\",\"entries\":[[\"type\",\"info\"],[\"background\",\"#007bff\"],[\"icon\",{\"type\":\"map\",\"entries\":[[\"className\",\"fas fa-info-circle\"],[\"tagName\",\"i\"],[\"color\",\"white\"]]}]]}]}]},{\"type\":\"model\",\"name\":\"Notification\",\"properties\":[{\"name\":\"background\",\"kind\":\"Any\",\"default\":null},{\"name\":\"duration\",\"kind\":\"Any\",\"default\":3000},{\"name\":\"icon\",\"kind\":\"Any\",\"default\":null},{\"name\":\"message\",\"kind\":\"Any\",\"default\":\"\"},{\"name\":\"notification_type\",\"kind\":\"Any\",\"default\":null},{\"name\":\"_rendered\",\"kind\":\"Any\",\"default\":false},{\"name\":\"_destroyed\",\"kind\":\"Any\",\"default\":false}]},{\"type\":\"model\",\"name\":\"TemplateActions1\",\"properties\":[{\"name\":\"open_modal\",\"kind\":\"Any\",\"default\":0},{\"name\":\"close_modal\",\"kind\":\"Any\",\"default\":0}]},{\"type\":\"model\",\"name\":\"BootstrapTemplateActions1\",\"properties\":[{\"name\":\"open_modal\",\"kind\":\"Any\",\"default\":0},{\"name\":\"close_modal\",\"kind\":\"Any\",\"default\":0}]},{\"type\":\"model\",\"name\":\"TemplateEditor1\",\"properties\":[{\"name\":\"layout\",\"kind\":\"Any\",\"default\":[]}]},{\"type\":\"model\",\"name\":\"MaterialTemplateActions1\",\"properties\":[{\"name\":\"open_modal\",\"kind\":\"Any\",\"default\":0},{\"name\":\"close_modal\",\"kind\":\"Any\",\"default\":0}]},{\"type\":\"model\",\"name\":\"ReactiveESM1\",\"properties\":[{\"name\":\"esm_constants\",\"kind\":\"Any\",\"default\":{\"type\":\"map\"}}]},{\"type\":\"model\",\"name\":\"JSComponent1\",\"properties\":[{\"name\":\"esm_constants\",\"kind\":\"Any\",\"default\":{\"type\":\"map\"}}]},{\"type\":\"model\",\"name\":\"ReactComponent1\",\"properties\":[{\"name\":\"esm_constants\",\"kind\":\"Any\",\"default\":{\"type\":\"map\"}}]},{\"type\":\"model\",\"name\":\"AnyWidgetComponent1\",\"properties\":[{\"name\":\"esm_constants\",\"kind\":\"Any\",\"default\":{\"type\":\"map\"}}]},{\"type\":\"model\",\"name\":\"request_value1\",\"properties\":[{\"name\":\"fill\",\"kind\":\"Any\",\"default\":\"none\"},{\"name\":\"_synced\",\"kind\":\"Any\",\"default\":null},{\"name\":\"_request_sync\",\"kind\":\"Any\",\"default\":0}]}]}};\n",
       "  var render_items = [{\"docid\":\"ef441b84-b608-4d7f-85a7-cca0f0bed0a9\",\"roots\":{\"e6839cd6-f048-4978-b57d-b2a52081b27a\":\"a92e49cf-2bef-439a-9b32-83c38bc4d772\"},\"root_ids\":[\"e6839cd6-f048-4978-b57d-b2a52081b27a\"]}];\n",
       "  var docs = Object.values(docs_json)\n",
       "  if (!docs) {\n",
       "    return\n",
       "  }\n",
       "  const py_version = docs[0].version.replace('rc', '-rc.').replace('.dev', '-dev.')\n",
       "  async function embed_document(root) {\n",
       "    var Bokeh = get_bokeh(root)\n",
       "    await Bokeh.embed.embed_items_notebook(docs_json, render_items);\n",
       "    for (const render_item of render_items) {\n",
       "      for (const root_id of render_item.root_ids) {\n",
       "\tconst id_el = document.getElementById(root_id)\n",
       "\tif (id_el.children.length && id_el.children[0].hasAttribute('data-root-id')) {\n",
       "\t  const root_el = id_el.children[0]\n",
       "\t  root_el.id = root_el.id + '-rendered'\n",
       "\t  for (const child of root_el.children) {\n",
       "            // Ensure JupyterLab does not capture keyboard shortcuts\n",
       "            // see: https://jupyterlab.readthedocs.io/en/4.1.x/extension/notebook.html#keyboard-interaction-model\n",
       "\t    child.setAttribute('data-lm-suppress-shortcuts', 'true')\n",
       "\t  }\n",
       "\t}\n",
       "      }\n",
       "    }\n",
       "  }\n",
       "  function get_bokeh(root) {\n",
       "    if (root.Bokeh === undefined) {\n",
       "      return null\n",
       "    } else if (root.Bokeh.version !== py_version) {\n",
       "      if (root.Bokeh.versions === undefined || !root.Bokeh.versions.has(py_version)) {\n",
       "\treturn null\n",
       "      }\n",
       "      return root.Bokeh.versions.get(py_version);\n",
       "    } else if (root.Bokeh.version === py_version) {\n",
       "      return root.Bokeh\n",
       "    }\n",
       "    return null\n",
       "  }\n",
       "  function is_loaded(root) {\n",
       "    var Bokeh = get_bokeh(root)\n",
       "    return (Bokeh != null && Bokeh.Panel !== undefined)\n",
       "  }\n",
       "  if (is_loaded(root)) {\n",
       "    embed_document(root);\n",
       "  } else {\n",
       "    var attempts = 0;\n",
       "    var timer = setInterval(function(root) {\n",
       "      if (is_loaded(root)) {\n",
       "        clearInterval(timer);\n",
       "        embed_document(root);\n",
       "      } else if (document.readyState == \"complete\") {\n",
       "        attempts++;\n",
       "        if (attempts > 200) {\n",
       "          clearInterval(timer);\n",
       "\t  var Bokeh = get_bokeh(root)\n",
       "\t  if (Bokeh == null || Bokeh.Panel == null) {\n",
       "            console.warn(\"Panel: ERROR: Unable to run Panel code because Bokeh or Panel library is missing\");\n",
       "\t  } else {\n",
       "\t    console.warn(\"Panel: WARNING: Attempting to render but not all required libraries could be resolved.\")\n",
       "\t    embed_document(root)\n",
       "\t  }\n",
       "        }\n",
       "      }\n",
       "    }, 25, root)\n",
       "  }\n",
       "})(window);</script>"
      ],
      "text/plain": [
       "Column(height=300, scroll=True, sizing_mode='stretch_width', styles={'border': '1px solid #ddd...})\n",
       "    [0] HTML(str, styles={'font-family': 'monospace...})\n",
       "    [1] HTML(str, styles={'font-family': 'monospace...})\n",
       "    [2] HTML(str, styles={'font-family': 'monospace...})\n",
       "    [3] HTML(str, styles={'font-family': 'monospace...})\n",
       "    [4] HTML(str, styles={'font-family': 'monospace...})\n",
       "    [5] HTML(str, styles={'font-family': 'monospace...})\n",
       "    [6] HTML(str, styles={'font-family': 'monospace...})\n",
       "    [7] HTML(str, styles={'font-family': 'monospace...})\n",
       "    [8] HTML(str, styles={'font-family': 'monospace...})\n",
       "    [9] HTML(str, styles={'font-family': 'monospace...})\n",
       "    [10] HTML(str, styles={'font-family': 'monospace...})\n",
       "    [11] HTML(str, styles={'font-family': 'monospace...})\n",
       "    [12] HTML(str, styles={'font-family': 'monospace...})\n",
       "    [13] HTML(str, styles={'font-family': 'monospace...})\n",
       "    [14] HTML(str, styles={'font-family': 'monospace...})\n",
       "    [15] HTML(str, styles={'font-family': 'monospace...})\n",
       "    [16] HTML(str, styles={'font-family': 'monospace...})\n",
       "    [17] HTML(str, styles={'font-family': 'monospace...})\n",
       "    [18] HTML(str, styles={'font-family': 'monospace...})\n",
       "    [19] HTML(str, styles={'font-family': 'monospace...})\n",
       "    [20] HTML(str, styles={'font-family': 'monospace...})\n",
       "    [21] HTML(str, styles={'font-family': 'monospace...})\n",
       "    [22] HTML(str, styles={'font-family': 'monospace...})\n",
       "    [23] HTML(str, styles={'font-family': 'monospace...})\n",
       "    [24] HTML(str, styles={'font-family': 'monospace...})\n",
       "    [25] HTML(str, styles={'font-family': 'monospace...})\n",
       "    [26] HTML(str, styles={'font-family': 'monospace...})\n",
       "    [27] HTML(str, styles={'font-family': 'monospace...})\n",
       "    [28] HTML(str, styles={'font-family': 'monospace...})\n",
       "    [29] HTML(str, styles={'font-family': 'monospace...})\n",
       "    [30] HTML(str, styles={'font-family': 'monospace...})\n",
       "    [31] HTML(str, styles={'font-family': 'monospace...})\n",
       "    [32] HTML(str, styles={'font-family': 'monospace...})\n",
       "    [33] HTML(str, styles={'font-family': 'monospace...})\n",
       "    [34] HTML(str, styles={'font-family': 'monospace...})\n",
       "    [35] HTML(str, styles={'font-family': 'monospace...})\n",
       "    [36] HTML(str, styles={'font-family': 'monospace...})\n",
       "    [37] HTML(str, styles={'font-family': 'monospace...})\n",
       "    [38] HTML(str, styles={'font-family': 'monospace...})\n",
       "    [39] HTML(str, styles={'font-family': 'monospace...})\n",
       "    [40] HTML(str, styles={'font-family': 'monospace...})\n",
       "    [41] HTML(str, styles={'font-family': 'monospace...})\n",
       "    [42] HTML(str, styles={'font-family': 'monospace...})\n",
       "    [43] HTML(str, styles={'font-family': 'monospace...})\n",
       "    [44] HTML(str, styles={'font-family': 'monospace...})\n",
       "    [45] HTML(str, styles={'font-family': 'monospace...})\n",
       "    [46] HTML(str, styles={'font-family': 'monospace...})\n",
       "    [47] HTML(str, styles={'font-family': 'monospace...})\n",
       "    [48] HTML(str, styles={'font-family': 'monospace...})\n",
       "    [49] HTML(str, styles={'font-family': 'monospace...})\n",
       "    [50] HTML(str, styles={'font-family': 'monospace...})\n",
       "    [51] HTML(str, styles={'font-family': 'monospace...})\n",
       "    [52] HTML(str, styles={'font-family': 'monospace...})\n",
       "    [53] HTML(str, styles={'font-family': 'monospace...})\n",
       "    [54] HTML(str, styles={'font-family': 'monospace...})\n",
       "    [55] HTML(str, styles={'font-family': 'monospace...})\n",
       "    [56] HTML(str, styles={'font-family': 'monospace...})\n",
       "    [57] HTML(str, styles={'font-family': 'monospace...})\n",
       "    [58] HTML(str, styles={'font-family': 'monospace...})\n",
       "    [59] HTML(str, styles={'font-family': 'monospace...})\n",
       "    [60] HTML(str, styles={'font-family': 'monospace...})\n",
       "    [61] HTML(str, styles={'font-family': 'monospace...})\n",
       "    [62] HTML(str, styles={'font-family': 'monospace...})\n",
       "    [63] HTML(str, styles={'font-family': 'monospace...})\n",
       "    [64] HTML(str, styles={'font-family': 'monospace...})\n",
       "    [65] HTML(str, styles={'font-family': 'monospace...})\n",
       "    [66] HTML(str, styles={'font-family': 'monospace...})\n",
       "    [67] HTML(str, styles={'font-family': 'monospace...})\n",
       "    [68] HTML(str, styles={'font-family': 'monospace...})\n",
       "    [69] HTML(str, styles={'font-family': 'monospace...})\n",
       "    [70] HTML(str, styles={'font-family': 'monospace...})\n",
       "    [71] HTML(str, styles={'font-family': 'monospace...})\n",
       "    [72] HTML(str, styles={'font-family': 'monospace...})\n",
       "    [73] HTML(str, styles={'font-family': 'monospace...})\n",
       "    [74] HTML(str, styles={'font-family': 'monospace...})\n",
       "    [75] HTML(str, styles={'font-family': 'monospace...})\n",
       "    [76] HTML(str, styles={'font-family': 'monospace...})\n",
       "    [77] HTML(str, styles={'font-family': 'monospace...})\n",
       "    [78] HTML(str, styles={'font-family': 'monospace...})\n",
       "    [79] HTML(str, styles={'font-family': 'monospace...})\n",
       "    [80] HTML(str, styles={'font-family': 'monospace...})\n",
       "    [81] HTML(str, styles={'font-family': 'monospace...})\n",
       "    [82] HTML(str, styles={'font-family': 'monospace...})\n",
       "    [83] HTML(str, styles={'font-family': 'monospace...})\n",
       "    [84] HTML(str, styles={'font-family': 'monospace...})\n",
       "    [85] HTML(str, styles={'font-family': 'monospace...})\n",
       "    [86] HTML(str, styles={'font-family': 'monospace...})\n",
       "    [87] HTML(str, styles={'font-family': 'monospace...})\n",
       "    [88] HTML(str, styles={'font-family': 'monospace...})\n",
       "    [89] HTML(str, styles={'font-family': 'monospace...})\n",
       "    [90] HTML(str, styles={'font-family': 'monospace...})\n",
       "    [91] HTML(str, styles={'font-family': 'monospace...})\n",
       "    [92] HTML(str, styles={'font-family': 'monospace...})\n",
       "    [93] HTML(str, styles={'font-family': 'monospace...})\n",
       "    [94] HTML(str, styles={'font-family': 'monospace...})\n",
       "    [95] HTML(str, styles={'font-family': 'monospace...})\n",
       "    [96] HTML(str, styles={'font-family': 'monospace...})\n",
       "    [97] HTML(str, styles={'font-family': 'monospace...})\n",
       "    [98] HTML(str, styles={'font-family': 'monospace...})\n",
       "    [99] HTML(str, styles={'font-family': 'monospace...})\n",
       "    [100] HTML(str, styles={'font-family': 'monospace...})"
      ]
     },
     "metadata": {
      "application/vnd.holoviews_exec.v0+json": {
       "id": "e6839cd6-f048-4978-b57d-b2a52081b27a"
      }
     },
     "output_type": "display_data"
    },
    {
     "data": {},
     "metadata": {},
     "output_type": "display_data"
    },
    {
     "data": {
      "application/vnd.holoviews_exec.v0+json": "",
      "text/html": [
       "<div id='b95bd42f-12c9-4cab-828b-3ce431e923b0'>\n",
       "  <div id=\"bd353655-b09c-414c-abb8-2ef93dc8b888\" data-root-id=\"b95bd42f-12c9-4cab-828b-3ce431e923b0\" style=\"display: contents;\"></div>\n",
       "</div>\n",
       "<script type=\"application/javascript\">(function(root) {\n",
       "  var docs_json = {\"e2c16991-4b92-420d-9629-4334d4fccdec\":{\"version\":\"3.6.3\",\"title\":\"Bokeh Application\",\"roots\":[{\"type\":\"object\",\"name\":\"panel.models.markup.HTML\",\"id\":\"b95bd42f-12c9-4cab-828b-3ce431e923b0\",\"attributes\":{\"stylesheets\":[\"\\n:host(.pn-loading):before, .pn-loading:before {\\n  background-color: #c3c3c3;\\n  mask-size: auto calc(min(50%, 400px));\\n  -webkit-mask-size: auto calc(min(50%, 400px));\\n}\",{\"type\":\"object\",\"name\":\"ImportedStyleSheet\",\"id\":\"9b3f4508-b26b-4888-ad21-a1ca2c1fcfa5\",\"attributes\":{\"url\":\"https://cdn.holoviz.org/panel/1.6.1/dist/css/loading.css\"}},{\"type\":\"object\",\"name\":\"ImportedStyleSheet\",\"id\":\"173d64f8-0ec7-4660-94b9-901487257825\",\"attributes\":{\"url\":\"https://cdn.holoviz.org/panel/1.6.1/dist/bundled/theme/default.css\"}},{\"type\":\"object\",\"name\":\"ImportedStyleSheet\",\"id\":\"8d5222fe-2801-423c-8eab-e9510eec5fcc\",\"attributes\":{\"url\":\"https://cdn.holoviz.org/panel/1.6.1/dist/bundled/theme/native.css\"}}],\"margin\":[5,10],\"align\":\"start\",\"text\":\"&lt;h4 style=&#x27;margin: 5px 0; color: #333;&#x27;&gt;WARNING/ERROR LOGS&lt;/h4&gt;\",\"disable_math\":true}},{\"type\":\"object\",\"name\":\"panel.models.comm_manager.CommManager\",\"id\":\"5793ef3b-c270-485b-857a-e018a271e679\",\"attributes\":{\"plot_id\":\"b95bd42f-12c9-4cab-828b-3ce431e923b0\",\"comm_id\":\"b51e6679a18a40269067c8b208369173\",\"client_comm_id\":\"6c0ec4ef43b141e7b059d4975ccc97e6\"}}],\"defs\":[{\"type\":\"model\",\"name\":\"ReactiveHTML1\"},{\"type\":\"model\",\"name\":\"FlexBox1\",\"properties\":[{\"name\":\"align_content\",\"kind\":\"Any\",\"default\":\"flex-start\"},{\"name\":\"align_items\",\"kind\":\"Any\",\"default\":\"flex-start\"},{\"name\":\"flex_direction\",\"kind\":\"Any\",\"default\":\"row\"},{\"name\":\"flex_wrap\",\"kind\":\"Any\",\"default\":\"wrap\"},{\"name\":\"gap\",\"kind\":\"Any\",\"default\":\"\"},{\"name\":\"justify_content\",\"kind\":\"Any\",\"default\":\"flex-start\"}]},{\"type\":\"model\",\"name\":\"FloatPanel1\",\"properties\":[{\"name\":\"config\",\"kind\":\"Any\",\"default\":{\"type\":\"map\"}},{\"name\":\"contained\",\"kind\":\"Any\",\"default\":true},{\"name\":\"position\",\"kind\":\"Any\",\"default\":\"right-top\"},{\"name\":\"offsetx\",\"kind\":\"Any\",\"default\":null},{\"name\":\"offsety\",\"kind\":\"Any\",\"default\":null},{\"name\":\"theme\",\"kind\":\"Any\",\"default\":\"primary\"},{\"name\":\"status\",\"kind\":\"Any\",\"default\":\"normalized\"}]},{\"type\":\"model\",\"name\":\"GridStack1\",\"properties\":[{\"name\":\"mode\",\"kind\":\"Any\",\"default\":\"warn\"},{\"name\":\"ncols\",\"kind\":\"Any\",\"default\":null},{\"name\":\"nrows\",\"kind\":\"Any\",\"default\":null},{\"name\":\"allow_resize\",\"kind\":\"Any\",\"default\":true},{\"name\":\"allow_drag\",\"kind\":\"Any\",\"default\":true},{\"name\":\"state\",\"kind\":\"Any\",\"default\":[]}]},{\"type\":\"model\",\"name\":\"drag1\",\"properties\":[{\"name\":\"slider_width\",\"kind\":\"Any\",\"default\":5},{\"name\":\"slider_color\",\"kind\":\"Any\",\"default\":\"black\"},{\"name\":\"value\",\"kind\":\"Any\",\"default\":50}]},{\"type\":\"model\",\"name\":\"click1\",\"properties\":[{\"name\":\"terminal_output\",\"kind\":\"Any\",\"default\":\"\"},{\"name\":\"debug_name\",\"kind\":\"Any\",\"default\":\"\"},{\"name\":\"clears\",\"kind\":\"Any\",\"default\":0}]},{\"type\":\"model\",\"name\":\"FastWrapper1\",\"properties\":[{\"name\":\"object\",\"kind\":\"Any\",\"default\":null},{\"name\":\"style\",\"kind\":\"Any\",\"default\":null}]},{\"type\":\"model\",\"name\":\"NotificationAreaBase1\",\"properties\":[{\"name\":\"js_events\",\"kind\":\"Any\",\"default\":{\"type\":\"map\"}},{\"name\":\"position\",\"kind\":\"Any\",\"default\":\"bottom-right\"},{\"name\":\"_clear\",\"kind\":\"Any\",\"default\":0}]},{\"type\":\"model\",\"name\":\"NotificationArea1\",\"properties\":[{\"name\":\"js_events\",\"kind\":\"Any\",\"default\":{\"type\":\"map\"}},{\"name\":\"notifications\",\"kind\":\"Any\",\"default\":[]},{\"name\":\"position\",\"kind\":\"Any\",\"default\":\"bottom-right\"},{\"name\":\"_clear\",\"kind\":\"Any\",\"default\":0},{\"name\":\"types\",\"kind\":\"Any\",\"default\":[{\"type\":\"map\",\"entries\":[[\"type\",\"warning\"],[\"background\",\"#ffc107\"],[\"icon\",{\"type\":\"map\",\"entries\":[[\"className\",\"fas fa-exclamation-triangle\"],[\"tagName\",\"i\"],[\"color\",\"white\"]]}]]},{\"type\":\"map\",\"entries\":[[\"type\",\"info\"],[\"background\",\"#007bff\"],[\"icon\",{\"type\":\"map\",\"entries\":[[\"className\",\"fas fa-info-circle\"],[\"tagName\",\"i\"],[\"color\",\"white\"]]}]]}]}]},{\"type\":\"model\",\"name\":\"Notification\",\"properties\":[{\"name\":\"background\",\"kind\":\"Any\",\"default\":null},{\"name\":\"duration\",\"kind\":\"Any\",\"default\":3000},{\"name\":\"icon\",\"kind\":\"Any\",\"default\":null},{\"name\":\"message\",\"kind\":\"Any\",\"default\":\"\"},{\"name\":\"notification_type\",\"kind\":\"Any\",\"default\":null},{\"name\":\"_rendered\",\"kind\":\"Any\",\"default\":false},{\"name\":\"_destroyed\",\"kind\":\"Any\",\"default\":false}]},{\"type\":\"model\",\"name\":\"TemplateActions1\",\"properties\":[{\"name\":\"open_modal\",\"kind\":\"Any\",\"default\":0},{\"name\":\"close_modal\",\"kind\":\"Any\",\"default\":0}]},{\"type\":\"model\",\"name\":\"BootstrapTemplateActions1\",\"properties\":[{\"name\":\"open_modal\",\"kind\":\"Any\",\"default\":0},{\"name\":\"close_modal\",\"kind\":\"Any\",\"default\":0}]},{\"type\":\"model\",\"name\":\"TemplateEditor1\",\"properties\":[{\"name\":\"layout\",\"kind\":\"Any\",\"default\":[]}]},{\"type\":\"model\",\"name\":\"MaterialTemplateActions1\",\"properties\":[{\"name\":\"open_modal\",\"kind\":\"Any\",\"default\":0},{\"name\":\"close_modal\",\"kind\":\"Any\",\"default\":0}]},{\"type\":\"model\",\"name\":\"ReactiveESM1\",\"properties\":[{\"name\":\"esm_constants\",\"kind\":\"Any\",\"default\":{\"type\":\"map\"}}]},{\"type\":\"model\",\"name\":\"JSComponent1\",\"properties\":[{\"name\":\"esm_constants\",\"kind\":\"Any\",\"default\":{\"type\":\"map\"}}]},{\"type\":\"model\",\"name\":\"ReactComponent1\",\"properties\":[{\"name\":\"esm_constants\",\"kind\":\"Any\",\"default\":{\"type\":\"map\"}}]},{\"type\":\"model\",\"name\":\"AnyWidgetComponent1\",\"properties\":[{\"name\":\"esm_constants\",\"kind\":\"Any\",\"default\":{\"type\":\"map\"}}]},{\"type\":\"model\",\"name\":\"request_value1\",\"properties\":[{\"name\":\"fill\",\"kind\":\"Any\",\"default\":\"none\"},{\"name\":\"_synced\",\"kind\":\"Any\",\"default\":null},{\"name\":\"_request_sync\",\"kind\":\"Any\",\"default\":0}]}]}};\n",
       "  var render_items = [{\"docid\":\"e2c16991-4b92-420d-9629-4334d4fccdec\",\"roots\":{\"b95bd42f-12c9-4cab-828b-3ce431e923b0\":\"bd353655-b09c-414c-abb8-2ef93dc8b888\"},\"root_ids\":[\"b95bd42f-12c9-4cab-828b-3ce431e923b0\"]}];\n",
       "  var docs = Object.values(docs_json)\n",
       "  if (!docs) {\n",
       "    return\n",
       "  }\n",
       "  const py_version = docs[0].version.replace('rc', '-rc.').replace('.dev', '-dev.')\n",
       "  async function embed_document(root) {\n",
       "    var Bokeh = get_bokeh(root)\n",
       "    await Bokeh.embed.embed_items_notebook(docs_json, render_items);\n",
       "    for (const render_item of render_items) {\n",
       "      for (const root_id of render_item.root_ids) {\n",
       "\tconst id_el = document.getElementById(root_id)\n",
       "\tif (id_el.children.length && id_el.children[0].hasAttribute('data-root-id')) {\n",
       "\t  const root_el = id_el.children[0]\n",
       "\t  root_el.id = root_el.id + '-rendered'\n",
       "\t  for (const child of root_el.children) {\n",
       "            // Ensure JupyterLab does not capture keyboard shortcuts\n",
       "            // see: https://jupyterlab.readthedocs.io/en/4.1.x/extension/notebook.html#keyboard-interaction-model\n",
       "\t    child.setAttribute('data-lm-suppress-shortcuts', 'true')\n",
       "\t  }\n",
       "\t}\n",
       "      }\n",
       "    }\n",
       "  }\n",
       "  function get_bokeh(root) {\n",
       "    if (root.Bokeh === undefined) {\n",
       "      return null\n",
       "    } else if (root.Bokeh.version !== py_version) {\n",
       "      if (root.Bokeh.versions === undefined || !root.Bokeh.versions.has(py_version)) {\n",
       "\treturn null\n",
       "      }\n",
       "      return root.Bokeh.versions.get(py_version);\n",
       "    } else if (root.Bokeh.version === py_version) {\n",
       "      return root.Bokeh\n",
       "    }\n",
       "    return null\n",
       "  }\n",
       "  function is_loaded(root) {\n",
       "    var Bokeh = get_bokeh(root)\n",
       "    return (Bokeh != null && Bokeh.Panel !== undefined)\n",
       "  }\n",
       "  if (is_loaded(root)) {\n",
       "    embed_document(root);\n",
       "  } else {\n",
       "    var attempts = 0;\n",
       "    var timer = setInterval(function(root) {\n",
       "      if (is_loaded(root)) {\n",
       "        clearInterval(timer);\n",
       "        embed_document(root);\n",
       "      } else if (document.readyState == \"complete\") {\n",
       "        attempts++;\n",
       "        if (attempts > 200) {\n",
       "          clearInterval(timer);\n",
       "\t  var Bokeh = get_bokeh(root)\n",
       "\t  if (Bokeh == null || Bokeh.Panel == null) {\n",
       "            console.warn(\"Panel: ERROR: Unable to run Panel code because Bokeh or Panel library is missing\");\n",
       "\t  } else {\n",
       "\t    console.warn(\"Panel: WARNING: Attempting to render but not all required libraries could be resolved.\")\n",
       "\t    embed_document(root)\n",
       "\t  }\n",
       "        }\n",
       "      }\n",
       "    }, 25, root)\n",
       "  }\n",
       "})(window);</script>"
      ],
      "text/plain": [
       "HTML(str)"
      ]
     },
     "metadata": {
      "application/vnd.holoviews_exec.v0+json": {
       "id": "b95bd42f-12c9-4cab-828b-3ce431e923b0"
      }
     },
     "output_type": "display_data"
    },
    {
     "data": {
      "application/vnd.holoviews_exec.v0+json": "",
      "text/html": [
       "<div id='275699b6-6afe-4a71-aecd-5066a93134ea'>\n",
       "  <div id=\"f41cc5c8-e48b-48d4-ae3f-e7b63714dc0c\" data-root-id=\"275699b6-6afe-4a71-aecd-5066a93134ea\" style=\"display: contents;\"></div>\n",
       "</div>\n",
       "<script type=\"application/javascript\">(function(root) {\n",
       "  var docs_json = {\"6c60d3c2-b08b-4fe4-8656-cdc7bda01d81\":{\"version\":\"3.6.3\",\"title\":\"Bokeh Application\",\"roots\":[{\"type\":\"object\",\"name\":\"panel.models.layout.Column\",\"id\":\"275699b6-6afe-4a71-aecd-5066a93134ea\",\"attributes\":{\"name\":\"Column00122\",\"css_classes\":[\"scrollable-vertical\"],\"styles\":{\"type\":\"map\",\"entries\":[[\"border\",\"1px solid #ddd\"],[\"background-color\",\"white\"]]},\"stylesheets\":[\"\\n:host(.pn-loading):before, .pn-loading:before {\\n  background-color: #c3c3c3;\\n  mask-size: auto calc(min(50%, 400px));\\n  -webkit-mask-size: auto calc(min(50%, 400px));\\n}\",{\"type\":\"object\",\"name\":\"ImportedStyleSheet\",\"id\":\"2663cb8f-a939-4f4c-80e0-b4061bc6056e\",\"attributes\":{\"url\":\"https://cdn.holoviz.org/panel/1.6.1/dist/css/loading.css\"}},{\"type\":\"object\",\"name\":\"ImportedStyleSheet\",\"id\":\"4b533436-ef48-419d-b741-eef28197858b\",\"attributes\":{\"url\":\"https://cdn.holoviz.org/panel/1.6.1/dist/css/listpanel.css\"}},{\"type\":\"object\",\"name\":\"ImportedStyleSheet\",\"id\":\"5e1eb50f-aed1-4552-a834-7ee36b68a058\",\"attributes\":{\"url\":\"https://cdn.holoviz.org/panel/1.6.1/dist/bundled/theme/default.css\"}},{\"type\":\"object\",\"name\":\"ImportedStyleSheet\",\"id\":\"37d1b4e4-ab5b-4f09-a9a5-474bc2ebd90b\",\"attributes\":{\"url\":\"https://cdn.holoviz.org/panel/1.6.1/dist/bundled/theme/native.css\"}}],\"height\":50,\"margin\":0,\"sizing_mode\":\"stretch_width\",\"align\":\"start\",\"children\":[{\"type\":\"object\",\"name\":\"panel.models.markup.HTML\",\"id\":\"083ee572-8ef3-4144-a0c2-fcde4b581c4a\",\"attributes\":{\"styles\":{\"type\":\"map\",\"entries\":[[\"font-family\",\"monospace\"],[\"padding\",\"2px 8px\"],[\"margin\",\"0\"],[\"white-space\",\"pre-wrap\"]]},\"stylesheets\":[\"\\n:host(.pn-loading):before, .pn-loading:before {\\n  background-color: #c3c3c3;\\n  mask-size: auto calc(min(50%, 400px));\\n  -webkit-mask-size: auto calc(min(50%, 400px));\\n}\",{\"id\":\"2663cb8f-a939-4f4c-80e0-b4061bc6056e\"},{\"id\":\"5e1eb50f-aed1-4552-a834-7ee36b68a058\"},{\"id\":\"37d1b4e4-ab5b-4f09-a9a5-474bc2ebd90b\"}],\"margin\":[5,10],\"align\":\"start\",\"text\":\"&lt;span&gt;tardis.io.model.parse_composition_configuration&lt;/span&gt; &lt;span style=&quot;color: orange; font-weight: bold;&quot;&gt;[WARNING]&lt;/span&gt; Number of density points larger than number of shells. Assuming inner point irrelevant (parse_composition_configuration.py:59)\",\"disable_math\":true}},{\"type\":\"object\",\"name\":\"panel.models.markup.HTML\",\"id\":\"2f822b22-fa80-4e85-ae0b-61f3b93375a0\",\"attributes\":{\"styles\":{\"type\":\"map\",\"entries\":[[\"font-family\",\"monospace\"],[\"padding\",\"2px 8px\"],[\"margin\",\"0\"],[\"white-space\",\"pre-wrap\"]]},\"stylesheets\":[\"\\n:host(.pn-loading):before, .pn-loading:before {\\n  background-color: #c3c3c3;\\n  mask-size: auto calc(min(50%, 400px));\\n  -webkit-mask-size: auto calc(min(50%, 400px));\\n}\",{\"id\":\"2663cb8f-a939-4f4c-80e0-b4061bc6056e\"},{\"id\":\"5e1eb50f-aed1-4552-a834-7ee36b68a058\"},{\"id\":\"37d1b4e4-ab5b-4f09-a9a5-474bc2ebd90b\"}],\"margin\":[5,10],\"align\":\"start\",\"text\":\"&lt;span&gt;py.warnings&lt;/span&gt; &lt;span style=&quot;color: orange; font-weight: bold;&quot;&gt;[WARNING]&lt;/span&gt; /home/runner/work/tardis/tardis/tardis/transport/montecarlo/montecarlo_main_loop.py:123: NumbaTypeSafetyWarning:\\n\\nunsafe cast from uint64 to int64. Precision may be lost.\\n\\n (warnings.py:110)\",\"disable_math\":true}}]}},{\"type\":\"object\",\"name\":\"panel.models.comm_manager.CommManager\",\"id\":\"eb5c9d9a-3e27-4a59-8ee2-6d8763ca9676\",\"attributes\":{\"plot_id\":\"275699b6-6afe-4a71-aecd-5066a93134ea\",\"comm_id\":\"fe2331b3674440c0a73262ddfeef4beb\",\"client_comm_id\":\"ad120efac63440d68f5bd988c5044be9\"}}],\"defs\":[{\"type\":\"model\",\"name\":\"ReactiveHTML1\"},{\"type\":\"model\",\"name\":\"FlexBox1\",\"properties\":[{\"name\":\"align_content\",\"kind\":\"Any\",\"default\":\"flex-start\"},{\"name\":\"align_items\",\"kind\":\"Any\",\"default\":\"flex-start\"},{\"name\":\"flex_direction\",\"kind\":\"Any\",\"default\":\"row\"},{\"name\":\"flex_wrap\",\"kind\":\"Any\",\"default\":\"wrap\"},{\"name\":\"gap\",\"kind\":\"Any\",\"default\":\"\"},{\"name\":\"justify_content\",\"kind\":\"Any\",\"default\":\"flex-start\"}]},{\"type\":\"model\",\"name\":\"FloatPanel1\",\"properties\":[{\"name\":\"config\",\"kind\":\"Any\",\"default\":{\"type\":\"map\"}},{\"name\":\"contained\",\"kind\":\"Any\",\"default\":true},{\"name\":\"position\",\"kind\":\"Any\",\"default\":\"right-top\"},{\"name\":\"offsetx\",\"kind\":\"Any\",\"default\":null},{\"name\":\"offsety\",\"kind\":\"Any\",\"default\":null},{\"name\":\"theme\",\"kind\":\"Any\",\"default\":\"primary\"},{\"name\":\"status\",\"kind\":\"Any\",\"default\":\"normalized\"}]},{\"type\":\"model\",\"name\":\"GridStack1\",\"properties\":[{\"name\":\"mode\",\"kind\":\"Any\",\"default\":\"warn\"},{\"name\":\"ncols\",\"kind\":\"Any\",\"default\":null},{\"name\":\"nrows\",\"kind\":\"Any\",\"default\":null},{\"name\":\"allow_resize\",\"kind\":\"Any\",\"default\":true},{\"name\":\"allow_drag\",\"kind\":\"Any\",\"default\":true},{\"name\":\"state\",\"kind\":\"Any\",\"default\":[]}]},{\"type\":\"model\",\"name\":\"drag1\",\"properties\":[{\"name\":\"slider_width\",\"kind\":\"Any\",\"default\":5},{\"name\":\"slider_color\",\"kind\":\"Any\",\"default\":\"black\"},{\"name\":\"value\",\"kind\":\"Any\",\"default\":50}]},{\"type\":\"model\",\"name\":\"click1\",\"properties\":[{\"name\":\"terminal_output\",\"kind\":\"Any\",\"default\":\"\"},{\"name\":\"debug_name\",\"kind\":\"Any\",\"default\":\"\"},{\"name\":\"clears\",\"kind\":\"Any\",\"default\":0}]},{\"type\":\"model\",\"name\":\"FastWrapper1\",\"properties\":[{\"name\":\"object\",\"kind\":\"Any\",\"default\":null},{\"name\":\"style\",\"kind\":\"Any\",\"default\":null}]},{\"type\":\"model\",\"name\":\"NotificationAreaBase1\",\"properties\":[{\"name\":\"js_events\",\"kind\":\"Any\",\"default\":{\"type\":\"map\"}},{\"name\":\"position\",\"kind\":\"Any\",\"default\":\"bottom-right\"},{\"name\":\"_clear\",\"kind\":\"Any\",\"default\":0}]},{\"type\":\"model\",\"name\":\"NotificationArea1\",\"properties\":[{\"name\":\"js_events\",\"kind\":\"Any\",\"default\":{\"type\":\"map\"}},{\"name\":\"notifications\",\"kind\":\"Any\",\"default\":[]},{\"name\":\"position\",\"kind\":\"Any\",\"default\":\"bottom-right\"},{\"name\":\"_clear\",\"kind\":\"Any\",\"default\":0},{\"name\":\"types\",\"kind\":\"Any\",\"default\":[{\"type\":\"map\",\"entries\":[[\"type\",\"warning\"],[\"background\",\"#ffc107\"],[\"icon\",{\"type\":\"map\",\"entries\":[[\"className\",\"fas fa-exclamation-triangle\"],[\"tagName\",\"i\"],[\"color\",\"white\"]]}]]},{\"type\":\"map\",\"entries\":[[\"type\",\"info\"],[\"background\",\"#007bff\"],[\"icon\",{\"type\":\"map\",\"entries\":[[\"className\",\"fas fa-info-circle\"],[\"tagName\",\"i\"],[\"color\",\"white\"]]}]]}]}]},{\"type\":\"model\",\"name\":\"Notification\",\"properties\":[{\"name\":\"background\",\"kind\":\"Any\",\"default\":null},{\"name\":\"duration\",\"kind\":\"Any\",\"default\":3000},{\"name\":\"icon\",\"kind\":\"Any\",\"default\":null},{\"name\":\"message\",\"kind\":\"Any\",\"default\":\"\"},{\"name\":\"notification_type\",\"kind\":\"Any\",\"default\":null},{\"name\":\"_rendered\",\"kind\":\"Any\",\"default\":false},{\"name\":\"_destroyed\",\"kind\":\"Any\",\"default\":false}]},{\"type\":\"model\",\"name\":\"TemplateActions1\",\"properties\":[{\"name\":\"open_modal\",\"kind\":\"Any\",\"default\":0},{\"name\":\"close_modal\",\"kind\":\"Any\",\"default\":0}]},{\"type\":\"model\",\"name\":\"BootstrapTemplateActions1\",\"properties\":[{\"name\":\"open_modal\",\"kind\":\"Any\",\"default\":0},{\"name\":\"close_modal\",\"kind\":\"Any\",\"default\":0}]},{\"type\":\"model\",\"name\":\"TemplateEditor1\",\"properties\":[{\"name\":\"layout\",\"kind\":\"Any\",\"default\":[]}]},{\"type\":\"model\",\"name\":\"MaterialTemplateActions1\",\"properties\":[{\"name\":\"open_modal\",\"kind\":\"Any\",\"default\":0},{\"name\":\"close_modal\",\"kind\":\"Any\",\"default\":0}]},{\"type\":\"model\",\"name\":\"ReactiveESM1\",\"properties\":[{\"name\":\"esm_constants\",\"kind\":\"Any\",\"default\":{\"type\":\"map\"}}]},{\"type\":\"model\",\"name\":\"JSComponent1\",\"properties\":[{\"name\":\"esm_constants\",\"kind\":\"Any\",\"default\":{\"type\":\"map\"}}]},{\"type\":\"model\",\"name\":\"ReactComponent1\",\"properties\":[{\"name\":\"esm_constants\",\"kind\":\"Any\",\"default\":{\"type\":\"map\"}}]},{\"type\":\"model\",\"name\":\"AnyWidgetComponent1\",\"properties\":[{\"name\":\"esm_constants\",\"kind\":\"Any\",\"default\":{\"type\":\"map\"}}]},{\"type\":\"model\",\"name\":\"request_value1\",\"properties\":[{\"name\":\"fill\",\"kind\":\"Any\",\"default\":\"none\"},{\"name\":\"_synced\",\"kind\":\"Any\",\"default\":null},{\"name\":\"_request_sync\",\"kind\":\"Any\",\"default\":0}]}]}};\n",
       "  var render_items = [{\"docid\":\"6c60d3c2-b08b-4fe4-8656-cdc7bda01d81\",\"roots\":{\"275699b6-6afe-4a71-aecd-5066a93134ea\":\"f41cc5c8-e48b-48d4-ae3f-e7b63714dc0c\"},\"root_ids\":[\"275699b6-6afe-4a71-aecd-5066a93134ea\"]}];\n",
       "  var docs = Object.values(docs_json)\n",
       "  if (!docs) {\n",
       "    return\n",
       "  }\n",
       "  const py_version = docs[0].version.replace('rc', '-rc.').replace('.dev', '-dev.')\n",
       "  async function embed_document(root) {\n",
       "    var Bokeh = get_bokeh(root)\n",
       "    await Bokeh.embed.embed_items_notebook(docs_json, render_items);\n",
       "    for (const render_item of render_items) {\n",
       "      for (const root_id of render_item.root_ids) {\n",
       "\tconst id_el = document.getElementById(root_id)\n",
       "\tif (id_el.children.length && id_el.children[0].hasAttribute('data-root-id')) {\n",
       "\t  const root_el = id_el.children[0]\n",
       "\t  root_el.id = root_el.id + '-rendered'\n",
       "\t  for (const child of root_el.children) {\n",
       "            // Ensure JupyterLab does not capture keyboard shortcuts\n",
       "            // see: https://jupyterlab.readthedocs.io/en/4.1.x/extension/notebook.html#keyboard-interaction-model\n",
       "\t    child.setAttribute('data-lm-suppress-shortcuts', 'true')\n",
       "\t  }\n",
       "\t}\n",
       "      }\n",
       "    }\n",
       "  }\n",
       "  function get_bokeh(root) {\n",
       "    if (root.Bokeh === undefined) {\n",
       "      return null\n",
       "    } else if (root.Bokeh.version !== py_version) {\n",
       "      if (root.Bokeh.versions === undefined || !root.Bokeh.versions.has(py_version)) {\n",
       "\treturn null\n",
       "      }\n",
       "      return root.Bokeh.versions.get(py_version);\n",
       "    } else if (root.Bokeh.version === py_version) {\n",
       "      return root.Bokeh\n",
       "    }\n",
       "    return null\n",
       "  }\n",
       "  function is_loaded(root) {\n",
       "    var Bokeh = get_bokeh(root)\n",
       "    return (Bokeh != null && Bokeh.Panel !== undefined)\n",
       "  }\n",
       "  if (is_loaded(root)) {\n",
       "    embed_document(root);\n",
       "  } else {\n",
       "    var attempts = 0;\n",
       "    var timer = setInterval(function(root) {\n",
       "      if (is_loaded(root)) {\n",
       "        clearInterval(timer);\n",
       "        embed_document(root);\n",
       "      } else if (document.readyState == \"complete\") {\n",
       "        attempts++;\n",
       "        if (attempts > 200) {\n",
       "          clearInterval(timer);\n",
       "\t  var Bokeh = get_bokeh(root)\n",
       "\t  if (Bokeh == null || Bokeh.Panel == null) {\n",
       "            console.warn(\"Panel: ERROR: Unable to run Panel code because Bokeh or Panel library is missing\");\n",
       "\t  } else {\n",
       "\t    console.warn(\"Panel: WARNING: Attempting to render but not all required libraries could be resolved.\")\n",
       "\t    embed_document(root)\n",
       "\t  }\n",
       "        }\n",
       "      }\n",
       "    }, 25, root)\n",
       "  }\n",
       "})(window);</script>"
      ],
      "text/plain": [
       "Column(height=50, scroll=True, sizing_mode='stretch_width', styles={'border': '1px solid #ddd...})\n",
       "    [0] HTML(str, styles={'font-family': 'monospace...})\n",
       "    [1] HTML(str, styles={'font-family': 'monospace...})"
      ]
     },
     "metadata": {
      "application/vnd.holoviews_exec.v0+json": {
       "id": "275699b6-6afe-4a71-aecd-5066a93134ea"
      }
     },
     "output_type": "display_data"
    },
    {
     "data": {},
     "metadata": {},
     "output_type": "display_data"
    },
    {
     "data": {
      "application/vnd.holoviews_exec.v0+json": "",
      "text/html": [
       "<div id='3f995ae5-2d22-4a63-8ac7-2e06dc7ccb70'>\n",
       "  <div id=\"e6766e5a-c24e-4f7c-845d-14992761cde8\" data-root-id=\"3f995ae5-2d22-4a63-8ac7-2e06dc7ccb70\" style=\"display: contents;\"></div>\n",
       "</div>\n",
       "<script type=\"application/javascript\">(function(root) {\n",
       "  var docs_json = {\"e23b88ce-6de5-47d8-b337-812cc576629a\":{\"version\":\"3.6.3\",\"title\":\"Bokeh Application\",\"roots\":[{\"type\":\"object\",\"name\":\"panel.models.markup.HTML\",\"id\":\"3f995ae5-2d22-4a63-8ac7-2e06dc7ccb70\",\"attributes\":{\"stylesheets\":[\"\\n:host(.pn-loading):before, .pn-loading:before {\\n  background-color: #c3c3c3;\\n  mask-size: auto calc(min(50%, 400px));\\n  -webkit-mask-size: auto calc(min(50%, 400px));\\n}\",{\"type\":\"object\",\"name\":\"ImportedStyleSheet\",\"id\":\"142e2155-aea1-4e41-9e0a-293b55b45fdf\",\"attributes\":{\"url\":\"https://cdn.holoviz.org/panel/1.6.1/dist/css/loading.css\"}},{\"type\":\"object\",\"name\":\"ImportedStyleSheet\",\"id\":\"3f247a6b-44ba-46c9-a42a-d3654be9f4ca\",\"attributes\":{\"url\":\"https://cdn.holoviz.org/panel/1.6.1/dist/bundled/theme/default.css\"}},{\"type\":\"object\",\"name\":\"ImportedStyleSheet\",\"id\":\"f2a0c467-d6d6-4d06-b11b-715435830794\",\"attributes\":{\"url\":\"https://cdn.holoviz.org/panel/1.6.1/dist/bundled/theme/native.css\"}}],\"margin\":[5,10],\"align\":\"start\",\"text\":\"&lt;h4 style=&#x27;margin: 5px 0; color: #333;&#x27;&gt;DEBUG LOGS&lt;/h4&gt;\",\"disable_math\":true}},{\"type\":\"object\",\"name\":\"panel.models.comm_manager.CommManager\",\"id\":\"dfed0381-56d3-4dfb-a013-7f4e6bce0bca\",\"attributes\":{\"plot_id\":\"3f995ae5-2d22-4a63-8ac7-2e06dc7ccb70\",\"comm_id\":\"cccda331a6914d56bb2549dfbbcaf6df\",\"client_comm_id\":\"760196fbc46246eca4c986e3e2e3709f\"}}],\"defs\":[{\"type\":\"model\",\"name\":\"ReactiveHTML1\"},{\"type\":\"model\",\"name\":\"FlexBox1\",\"properties\":[{\"name\":\"align_content\",\"kind\":\"Any\",\"default\":\"flex-start\"},{\"name\":\"align_items\",\"kind\":\"Any\",\"default\":\"flex-start\"},{\"name\":\"flex_direction\",\"kind\":\"Any\",\"default\":\"row\"},{\"name\":\"flex_wrap\",\"kind\":\"Any\",\"default\":\"wrap\"},{\"name\":\"gap\",\"kind\":\"Any\",\"default\":\"\"},{\"name\":\"justify_content\",\"kind\":\"Any\",\"default\":\"flex-start\"}]},{\"type\":\"model\",\"name\":\"FloatPanel1\",\"properties\":[{\"name\":\"config\",\"kind\":\"Any\",\"default\":{\"type\":\"map\"}},{\"name\":\"contained\",\"kind\":\"Any\",\"default\":true},{\"name\":\"position\",\"kind\":\"Any\",\"default\":\"right-top\"},{\"name\":\"offsetx\",\"kind\":\"Any\",\"default\":null},{\"name\":\"offsety\",\"kind\":\"Any\",\"default\":null},{\"name\":\"theme\",\"kind\":\"Any\",\"default\":\"primary\"},{\"name\":\"status\",\"kind\":\"Any\",\"default\":\"normalized\"}]},{\"type\":\"model\",\"name\":\"GridStack1\",\"properties\":[{\"name\":\"mode\",\"kind\":\"Any\",\"default\":\"warn\"},{\"name\":\"ncols\",\"kind\":\"Any\",\"default\":null},{\"name\":\"nrows\",\"kind\":\"Any\",\"default\":null},{\"name\":\"allow_resize\",\"kind\":\"Any\",\"default\":true},{\"name\":\"allow_drag\",\"kind\":\"Any\",\"default\":true},{\"name\":\"state\",\"kind\":\"Any\",\"default\":[]}]},{\"type\":\"model\",\"name\":\"drag1\",\"properties\":[{\"name\":\"slider_width\",\"kind\":\"Any\",\"default\":5},{\"name\":\"slider_color\",\"kind\":\"Any\",\"default\":\"black\"},{\"name\":\"value\",\"kind\":\"Any\",\"default\":50}]},{\"type\":\"model\",\"name\":\"click1\",\"properties\":[{\"name\":\"terminal_output\",\"kind\":\"Any\",\"default\":\"\"},{\"name\":\"debug_name\",\"kind\":\"Any\",\"default\":\"\"},{\"name\":\"clears\",\"kind\":\"Any\",\"default\":0}]},{\"type\":\"model\",\"name\":\"FastWrapper1\",\"properties\":[{\"name\":\"object\",\"kind\":\"Any\",\"default\":null},{\"name\":\"style\",\"kind\":\"Any\",\"default\":null}]},{\"type\":\"model\",\"name\":\"NotificationAreaBase1\",\"properties\":[{\"name\":\"js_events\",\"kind\":\"Any\",\"default\":{\"type\":\"map\"}},{\"name\":\"position\",\"kind\":\"Any\",\"default\":\"bottom-right\"},{\"name\":\"_clear\",\"kind\":\"Any\",\"default\":0}]},{\"type\":\"model\",\"name\":\"NotificationArea1\",\"properties\":[{\"name\":\"js_events\",\"kind\":\"Any\",\"default\":{\"type\":\"map\"}},{\"name\":\"notifications\",\"kind\":\"Any\",\"default\":[]},{\"name\":\"position\",\"kind\":\"Any\",\"default\":\"bottom-right\"},{\"name\":\"_clear\",\"kind\":\"Any\",\"default\":0},{\"name\":\"types\",\"kind\":\"Any\",\"default\":[{\"type\":\"map\",\"entries\":[[\"type\",\"warning\"],[\"background\",\"#ffc107\"],[\"icon\",{\"type\":\"map\",\"entries\":[[\"className\",\"fas fa-exclamation-triangle\"],[\"tagName\",\"i\"],[\"color\",\"white\"]]}]]},{\"type\":\"map\",\"entries\":[[\"type\",\"info\"],[\"background\",\"#007bff\"],[\"icon\",{\"type\":\"map\",\"entries\":[[\"className\",\"fas fa-info-circle\"],[\"tagName\",\"i\"],[\"color\",\"white\"]]}]]}]}]},{\"type\":\"model\",\"name\":\"Notification\",\"properties\":[{\"name\":\"background\",\"kind\":\"Any\",\"default\":null},{\"name\":\"duration\",\"kind\":\"Any\",\"default\":3000},{\"name\":\"icon\",\"kind\":\"Any\",\"default\":null},{\"name\":\"message\",\"kind\":\"Any\",\"default\":\"\"},{\"name\":\"notification_type\",\"kind\":\"Any\",\"default\":null},{\"name\":\"_rendered\",\"kind\":\"Any\",\"default\":false},{\"name\":\"_destroyed\",\"kind\":\"Any\",\"default\":false}]},{\"type\":\"model\",\"name\":\"TemplateActions1\",\"properties\":[{\"name\":\"open_modal\",\"kind\":\"Any\",\"default\":0},{\"name\":\"close_modal\",\"kind\":\"Any\",\"default\":0}]},{\"type\":\"model\",\"name\":\"BootstrapTemplateActions1\",\"properties\":[{\"name\":\"open_modal\",\"kind\":\"Any\",\"default\":0},{\"name\":\"close_modal\",\"kind\":\"Any\",\"default\":0}]},{\"type\":\"model\",\"name\":\"TemplateEditor1\",\"properties\":[{\"name\":\"layout\",\"kind\":\"Any\",\"default\":[]}]},{\"type\":\"model\",\"name\":\"MaterialTemplateActions1\",\"properties\":[{\"name\":\"open_modal\",\"kind\":\"Any\",\"default\":0},{\"name\":\"close_modal\",\"kind\":\"Any\",\"default\":0}]},{\"type\":\"model\",\"name\":\"ReactiveESM1\",\"properties\":[{\"name\":\"esm_constants\",\"kind\":\"Any\",\"default\":{\"type\":\"map\"}}]},{\"type\":\"model\",\"name\":\"JSComponent1\",\"properties\":[{\"name\":\"esm_constants\",\"kind\":\"Any\",\"default\":{\"type\":\"map\"}}]},{\"type\":\"model\",\"name\":\"ReactComponent1\",\"properties\":[{\"name\":\"esm_constants\",\"kind\":\"Any\",\"default\":{\"type\":\"map\"}}]},{\"type\":\"model\",\"name\":\"AnyWidgetComponent1\",\"properties\":[{\"name\":\"esm_constants\",\"kind\":\"Any\",\"default\":{\"type\":\"map\"}}]},{\"type\":\"model\",\"name\":\"request_value1\",\"properties\":[{\"name\":\"fill\",\"kind\":\"Any\",\"default\":\"none\"},{\"name\":\"_synced\",\"kind\":\"Any\",\"default\":null},{\"name\":\"_request_sync\",\"kind\":\"Any\",\"default\":0}]}]}};\n",
       "  var render_items = [{\"docid\":\"e23b88ce-6de5-47d8-b337-812cc576629a\",\"roots\":{\"3f995ae5-2d22-4a63-8ac7-2e06dc7ccb70\":\"e6766e5a-c24e-4f7c-845d-14992761cde8\"},\"root_ids\":[\"3f995ae5-2d22-4a63-8ac7-2e06dc7ccb70\"]}];\n",
       "  var docs = Object.values(docs_json)\n",
       "  if (!docs) {\n",
       "    return\n",
       "  }\n",
       "  const py_version = docs[0].version.replace('rc', '-rc.').replace('.dev', '-dev.')\n",
       "  async function embed_document(root) {\n",
       "    var Bokeh = get_bokeh(root)\n",
       "    await Bokeh.embed.embed_items_notebook(docs_json, render_items);\n",
       "    for (const render_item of render_items) {\n",
       "      for (const root_id of render_item.root_ids) {\n",
       "\tconst id_el = document.getElementById(root_id)\n",
       "\tif (id_el.children.length && id_el.children[0].hasAttribute('data-root-id')) {\n",
       "\t  const root_el = id_el.children[0]\n",
       "\t  root_el.id = root_el.id + '-rendered'\n",
       "\t  for (const child of root_el.children) {\n",
       "            // Ensure JupyterLab does not capture keyboard shortcuts\n",
       "            // see: https://jupyterlab.readthedocs.io/en/4.1.x/extension/notebook.html#keyboard-interaction-model\n",
       "\t    child.setAttribute('data-lm-suppress-shortcuts', 'true')\n",
       "\t  }\n",
       "\t}\n",
       "      }\n",
       "    }\n",
       "  }\n",
       "  function get_bokeh(root) {\n",
       "    if (root.Bokeh === undefined) {\n",
       "      return null\n",
       "    } else if (root.Bokeh.version !== py_version) {\n",
       "      if (root.Bokeh.versions === undefined || !root.Bokeh.versions.has(py_version)) {\n",
       "\treturn null\n",
       "      }\n",
       "      return root.Bokeh.versions.get(py_version);\n",
       "    } else if (root.Bokeh.version === py_version) {\n",
       "      return root.Bokeh\n",
       "    }\n",
       "    return null\n",
       "  }\n",
       "  function is_loaded(root) {\n",
       "    var Bokeh = get_bokeh(root)\n",
       "    return (Bokeh != null && Bokeh.Panel !== undefined)\n",
       "  }\n",
       "  if (is_loaded(root)) {\n",
       "    embed_document(root);\n",
       "  } else {\n",
       "    var attempts = 0;\n",
       "    var timer = setInterval(function(root) {\n",
       "      if (is_loaded(root)) {\n",
       "        clearInterval(timer);\n",
       "        embed_document(root);\n",
       "      } else if (document.readyState == \"complete\") {\n",
       "        attempts++;\n",
       "        if (attempts > 200) {\n",
       "          clearInterval(timer);\n",
       "\t  var Bokeh = get_bokeh(root)\n",
       "\t  if (Bokeh == null || Bokeh.Panel == null) {\n",
       "            console.warn(\"Panel: ERROR: Unable to run Panel code because Bokeh or Panel library is missing\");\n",
       "\t  } else {\n",
       "\t    console.warn(\"Panel: WARNING: Attempting to render but not all required libraries could be resolved.\")\n",
       "\t    embed_document(root)\n",
       "\t  }\n",
       "        }\n",
       "      }\n",
       "    }, 25, root)\n",
       "  }\n",
       "})(window);</script>"
      ],
      "text/plain": [
       "HTML(str)"
      ]
     },
     "metadata": {
      "application/vnd.holoviews_exec.v0+json": {
       "id": "3f995ae5-2d22-4a63-8ac7-2e06dc7ccb70"
      }
     },
     "output_type": "display_data"
    },
    {
     "data": {
      "application/vnd.holoviews_exec.v0+json": "",
      "text/html": [
       "<div id='4acf9a96-9980-44d4-b373-b48b69080394'>\n",
       "  <div id=\"fe9ec4f9-d290-498e-98a8-9c2a29194546\" data-root-id=\"4acf9a96-9980-44d4-b373-b48b69080394\" style=\"display: contents;\"></div>\n",
       "</div>\n",
       "<script type=\"application/javascript\">(function(root) {\n",
       "  var docs_json = {\"c2ab1994-d5b6-44e8-9993-d7ab1a260496\":{\"version\":\"3.6.3\",\"title\":\"Bokeh Application\",\"roots\":[{\"type\":\"object\",\"name\":\"panel.models.layout.Column\",\"id\":\"4acf9a96-9980-44d4-b373-b48b69080394\",\"attributes\":{\"name\":\"Column00123\",\"tags\":[\"embedded\"],\"css_classes\":[\"scrollable-vertical\"],\"styles\":{\"type\":\"map\",\"entries\":[[\"border\",\"1px solid #ddd\"],[\"background-color\",\"white\"]]},\"stylesheets\":[\"\\n:host(.pn-loading):before, .pn-loading:before {\\n  background-color: #c3c3c3;\\n  mask-size: auto calc(min(50%, 400px));\\n  -webkit-mask-size: auto calc(min(50%, 400px));\\n}\",{\"type\":\"object\",\"name\":\"ImportedStyleSheet\",\"id\":\"91a302a4-5d6c-4054-9d1f-cd843d251608\",\"attributes\":{\"url\":\"https://cdn.holoviz.org/panel/1.6.1/dist/css/loading.css\"}},{\"type\":\"object\",\"name\":\"ImportedStyleSheet\",\"id\":\"af6080b4-18d1-4bbe-be9e-b497e5de4257\",\"attributes\":{\"url\":\"https://cdn.holoviz.org/panel/1.6.1/dist/css/listpanel.css\"}},{\"type\":\"object\",\"name\":\"ImportedStyleSheet\",\"id\":\"8a83a186-643a-464f-82ea-f69589218f9b\",\"attributes\":{\"url\":\"https://cdn.holoviz.org/panel/1.6.1/dist/bundled/theme/default.css\"}},{\"type\":\"object\",\"name\":\"ImportedStyleSheet\",\"id\":\"a82cc1f9-82a8-4661-9618-cf4b85a68988\",\"attributes\":{\"url\":\"https://cdn.holoviz.org/panel/1.6.1/dist/bundled/theme/native.css\"}}],\"height\":10,\"margin\":0,\"sizing_mode\":\"stretch_width\",\"align\":\"start\"}}],\"defs\":[{\"type\":\"model\",\"name\":\"ReactiveHTML1\"},{\"type\":\"model\",\"name\":\"FlexBox1\",\"properties\":[{\"name\":\"align_content\",\"kind\":\"Any\",\"default\":\"flex-start\"},{\"name\":\"align_items\",\"kind\":\"Any\",\"default\":\"flex-start\"},{\"name\":\"flex_direction\",\"kind\":\"Any\",\"default\":\"row\"},{\"name\":\"flex_wrap\",\"kind\":\"Any\",\"default\":\"wrap\"},{\"name\":\"gap\",\"kind\":\"Any\",\"default\":\"\"},{\"name\":\"justify_content\",\"kind\":\"Any\",\"default\":\"flex-start\"}]},{\"type\":\"model\",\"name\":\"FloatPanel1\",\"properties\":[{\"name\":\"config\",\"kind\":\"Any\",\"default\":{\"type\":\"map\"}},{\"name\":\"contained\",\"kind\":\"Any\",\"default\":true},{\"name\":\"position\",\"kind\":\"Any\",\"default\":\"right-top\"},{\"name\":\"offsetx\",\"kind\":\"Any\",\"default\":null},{\"name\":\"offsety\",\"kind\":\"Any\",\"default\":null},{\"name\":\"theme\",\"kind\":\"Any\",\"default\":\"primary\"},{\"name\":\"status\",\"kind\":\"Any\",\"default\":\"normalized\"}]},{\"type\":\"model\",\"name\":\"GridStack1\",\"properties\":[{\"name\":\"mode\",\"kind\":\"Any\",\"default\":\"warn\"},{\"name\":\"ncols\",\"kind\":\"Any\",\"default\":null},{\"name\":\"nrows\",\"kind\":\"Any\",\"default\":null},{\"name\":\"allow_resize\",\"kind\":\"Any\",\"default\":true},{\"name\":\"allow_drag\",\"kind\":\"Any\",\"default\":true},{\"name\":\"state\",\"kind\":\"Any\",\"default\":[]}]},{\"type\":\"model\",\"name\":\"drag1\",\"properties\":[{\"name\":\"slider_width\",\"kind\":\"Any\",\"default\":5},{\"name\":\"slider_color\",\"kind\":\"Any\",\"default\":\"black\"},{\"name\":\"value\",\"kind\":\"Any\",\"default\":50}]},{\"type\":\"model\",\"name\":\"click1\",\"properties\":[{\"name\":\"terminal_output\",\"kind\":\"Any\",\"default\":\"\"},{\"name\":\"debug_name\",\"kind\":\"Any\",\"default\":\"\"},{\"name\":\"clears\",\"kind\":\"Any\",\"default\":0}]},{\"type\":\"model\",\"name\":\"FastWrapper1\",\"properties\":[{\"name\":\"object\",\"kind\":\"Any\",\"default\":null},{\"name\":\"style\",\"kind\":\"Any\",\"default\":null}]},{\"type\":\"model\",\"name\":\"NotificationAreaBase1\",\"properties\":[{\"name\":\"js_events\",\"kind\":\"Any\",\"default\":{\"type\":\"map\"}},{\"name\":\"position\",\"kind\":\"Any\",\"default\":\"bottom-right\"},{\"name\":\"_clear\",\"kind\":\"Any\",\"default\":0}]},{\"type\":\"model\",\"name\":\"NotificationArea1\",\"properties\":[{\"name\":\"js_events\",\"kind\":\"Any\",\"default\":{\"type\":\"map\"}},{\"name\":\"notifications\",\"kind\":\"Any\",\"default\":[]},{\"name\":\"position\",\"kind\":\"Any\",\"default\":\"bottom-right\"},{\"name\":\"_clear\",\"kind\":\"Any\",\"default\":0},{\"name\":\"types\",\"kind\":\"Any\",\"default\":[{\"type\":\"map\",\"entries\":[[\"type\",\"warning\"],[\"background\",\"#ffc107\"],[\"icon\",{\"type\":\"map\",\"entries\":[[\"className\",\"fas fa-exclamation-triangle\"],[\"tagName\",\"i\"],[\"color\",\"white\"]]}]]},{\"type\":\"map\",\"entries\":[[\"type\",\"info\"],[\"background\",\"#007bff\"],[\"icon\",{\"type\":\"map\",\"entries\":[[\"className\",\"fas fa-info-circle\"],[\"tagName\",\"i\"],[\"color\",\"white\"]]}]]}]}]},{\"type\":\"model\",\"name\":\"Notification\",\"properties\":[{\"name\":\"background\",\"kind\":\"Any\",\"default\":null},{\"name\":\"duration\",\"kind\":\"Any\",\"default\":3000},{\"name\":\"icon\",\"kind\":\"Any\",\"default\":null},{\"name\":\"message\",\"kind\":\"Any\",\"default\":\"\"},{\"name\":\"notification_type\",\"kind\":\"Any\",\"default\":null},{\"name\":\"_rendered\",\"kind\":\"Any\",\"default\":false},{\"name\":\"_destroyed\",\"kind\":\"Any\",\"default\":false}]},{\"type\":\"model\",\"name\":\"TemplateActions1\",\"properties\":[{\"name\":\"open_modal\",\"kind\":\"Any\",\"default\":0},{\"name\":\"close_modal\",\"kind\":\"Any\",\"default\":0}]},{\"type\":\"model\",\"name\":\"BootstrapTemplateActions1\",\"properties\":[{\"name\":\"open_modal\",\"kind\":\"Any\",\"default\":0},{\"name\":\"close_modal\",\"kind\":\"Any\",\"default\":0}]},{\"type\":\"model\",\"name\":\"TemplateEditor1\",\"properties\":[{\"name\":\"layout\",\"kind\":\"Any\",\"default\":[]}]},{\"type\":\"model\",\"name\":\"MaterialTemplateActions1\",\"properties\":[{\"name\":\"open_modal\",\"kind\":\"Any\",\"default\":0},{\"name\":\"close_modal\",\"kind\":\"Any\",\"default\":0}]},{\"type\":\"model\",\"name\":\"ReactiveESM1\",\"properties\":[{\"name\":\"esm_constants\",\"kind\":\"Any\",\"default\":{\"type\":\"map\"}}]},{\"type\":\"model\",\"name\":\"JSComponent1\",\"properties\":[{\"name\":\"esm_constants\",\"kind\":\"Any\",\"default\":{\"type\":\"map\"}}]},{\"type\":\"model\",\"name\":\"ReactComponent1\",\"properties\":[{\"name\":\"esm_constants\",\"kind\":\"Any\",\"default\":{\"type\":\"map\"}}]},{\"type\":\"model\",\"name\":\"AnyWidgetComponent1\",\"properties\":[{\"name\":\"esm_constants\",\"kind\":\"Any\",\"default\":{\"type\":\"map\"}}]},{\"type\":\"model\",\"name\":\"request_value1\",\"properties\":[{\"name\":\"fill\",\"kind\":\"Any\",\"default\":\"none\"},{\"name\":\"_synced\",\"kind\":\"Any\",\"default\":null},{\"name\":\"_request_sync\",\"kind\":\"Any\",\"default\":0}]}]}};\n",
       "  var render_items = [{\"docid\":\"c2ab1994-d5b6-44e8-9993-d7ab1a260496\",\"roots\":{\"4acf9a96-9980-44d4-b373-b48b69080394\":\"fe9ec4f9-d290-498e-98a8-9c2a29194546\"},\"root_ids\":[\"4acf9a96-9980-44d4-b373-b48b69080394\"]}];\n",
       "  var docs = Object.values(docs_json)\n",
       "  if (!docs) {\n",
       "    return\n",
       "  }\n",
       "  const py_version = docs[0].version.replace('rc', '-rc.').replace('.dev', '-dev.')\n",
       "  async function embed_document(root) {\n",
       "    var Bokeh = get_bokeh(root)\n",
       "    await Bokeh.embed.embed_items_notebook(docs_json, render_items);\n",
       "    for (const render_item of render_items) {\n",
       "      for (const root_id of render_item.root_ids) {\n",
       "\tconst id_el = document.getElementById(root_id)\n",
       "\tif (id_el.children.length && id_el.children[0].hasAttribute('data-root-id')) {\n",
       "\t  const root_el = id_el.children[0]\n",
       "\t  root_el.id = root_el.id + '-rendered'\n",
       "\t  for (const child of root_el.children) {\n",
       "            // Ensure JupyterLab does not capture keyboard shortcuts\n",
       "            // see: https://jupyterlab.readthedocs.io/en/4.1.x/extension/notebook.html#keyboard-interaction-model\n",
       "\t    child.setAttribute('data-lm-suppress-shortcuts', 'true')\n",
       "\t  }\n",
       "\t}\n",
       "      }\n",
       "    }\n",
       "  }\n",
       "  function get_bokeh(root) {\n",
       "    if (root.Bokeh === undefined) {\n",
       "      return null\n",
       "    } else if (root.Bokeh.version !== py_version) {\n",
       "      if (root.Bokeh.versions === undefined || !root.Bokeh.versions.has(py_version)) {\n",
       "\treturn null\n",
       "      }\n",
       "      return root.Bokeh.versions.get(py_version);\n",
       "    } else if (root.Bokeh.version === py_version) {\n",
       "      return root.Bokeh\n",
       "    }\n",
       "    return null\n",
       "  }\n",
       "  function is_loaded(root) {\n",
       "    var Bokeh = get_bokeh(root)\n",
       "    return (Bokeh != null && Bokeh.Panel !== undefined)\n",
       "  }\n",
       "  if (is_loaded(root)) {\n",
       "    embed_document(root);\n",
       "  } else {\n",
       "    var attempts = 0;\n",
       "    var timer = setInterval(function(root) {\n",
       "      if (is_loaded(root)) {\n",
       "        clearInterval(timer);\n",
       "        embed_document(root);\n",
       "      } else if (document.readyState == \"complete\") {\n",
       "        attempts++;\n",
       "        if (attempts > 200) {\n",
       "          clearInterval(timer);\n",
       "\t  var Bokeh = get_bokeh(root)\n",
       "\t  if (Bokeh == null || Bokeh.Panel == null) {\n",
       "            console.warn(\"Panel: ERROR: Unable to run Panel code because Bokeh or Panel library is missing\");\n",
       "\t  } else {\n",
       "\t    console.warn(\"Panel: WARNING: Attempting to render but not all required libraries could be resolved.\")\n",
       "\t    embed_document(root)\n",
       "\t  }\n",
       "        }\n",
       "      }\n",
       "    }, 25, root)\n",
       "  }\n",
       "})(window);</script>"
      ],
      "text/plain": [
       "<panel.io.notebook.Mimebundle at 0x7f3f1dad2350>"
      ]
     },
     "metadata": {
      "application/vnd.holoviews_exec.v0+json": {
       "id": "4acf9a96-9980-44d4-b373-b48b69080394"
      }
     },
     "output_type": "display_data"
    },
    {
     "data": {},
     "metadata": {},
     "output_type": "display_data"
    },
    {
     "data": {},
     "metadata": {},
     "output_type": "display_data"
    },
    {
     "data": {},
     "metadata": {},
     "output_type": "display_data"
    },
    {
     "data": {},
     "metadata": {},
     "output_type": "display_data"
    },
    {
     "data": {},
     "metadata": {},
     "output_type": "display_data"
    },
    {
     "data": {},
     "metadata": {},
     "output_type": "display_data"
    },
    {
     "data": {},
     "metadata": {},
     "output_type": "display_data"
    },
    {
     "data": {},
     "metadata": {},
     "output_type": "display_data"
    },
    {
     "data": {
      "application/vnd.jupyter.widget-view+json": {
       "model_id": "419a6a973407499981715b8399fb38b1",
       "version_major": 2,
       "version_minor": 0
      },
      "text/plain": [
       "TqdmHBox(children=(HTML(value='Iterations:', layout=Layout(width='6%')), FloatProgress(value=0.0, layout=Layou…"
      ]
     },
     "metadata": {},
     "output_type": "display_data"
    },
    {
     "data": {
      "application/vnd.jupyter.widget-view+json": {
       "model_id": "252cd7e9ff314b8bab2b66e5ebf82550",
       "version_major": 2,
       "version_minor": 0
      },
      "text/plain": [
       "TqdmHBox(children=(HTML(value='Packets:\\u2007\\u2007\\u2007', layout=Layout(width='6%')), FloatProgress(value=0.…"
      ]
     },
     "metadata": {},
     "output_type": "display_data"
    },
    {
     "data": {},
     "metadata": {},
     "output_type": "display_data"
    },
    {
     "data": {},
     "metadata": {},
     "output_type": "display_data"
    },
    {
     "data": {},
     "metadata": {},
     "output_type": "display_data"
    },
    {
     "data": {},
     "metadata": {},
     "output_type": "display_data"
    },
    {
     "data": {},
     "metadata": {},
     "output_type": "display_data"
    },
    {
     "data": {},
     "metadata": {},
     "output_type": "display_data"
    },
    {
     "data": {},
     "metadata": {},
     "output_type": "display_data"
    },
    {
     "data": {},
     "metadata": {},
     "output_type": "display_data"
    },
    {
     "data": {},
     "metadata": {},
     "output_type": "display_data"
    },
    {
     "data": {},
     "metadata": {},
     "output_type": "display_data"
    },
    {
     "data": {},
     "metadata": {},
     "output_type": "display_data"
    },
    {
     "data": {},
     "metadata": {},
     "output_type": "display_data"
    },
    {
     "data": {},
     "metadata": {},
     "output_type": "display_data"
    },
    {
     "data": {},
     "metadata": {},
     "output_type": "display_data"
    },
    {
     "data": {},
     "metadata": {},
     "output_type": "display_data"
    },
    {
     "data": {},
     "metadata": {},
     "output_type": "display_data"
    },
    {
     "data": {},
     "metadata": {},
     "output_type": "display_data"
    },
    {
     "data": {},
     "metadata": {},
     "output_type": "display_data"
    },
    {
     "data": {},
     "metadata": {},
     "output_type": "display_data"
    },
    {
     "data": {},
     "metadata": {},
     "output_type": "display_data"
    },
    {
     "data": {},
     "metadata": {},
     "output_type": "display_data"
    },
    {
     "data": {},
     "metadata": {},
     "output_type": "display_data"
    },
    {
     "data": {},
     "metadata": {},
     "output_type": "display_data"
    },
    {
     "data": {},
     "metadata": {},
     "output_type": "display_data"
    },
    {
     "data": {},
     "metadata": {},
     "output_type": "display_data"
    },
    {
     "data": {},
     "metadata": {},
     "output_type": "display_data"
    },
    {
     "data": {},
     "metadata": {},
     "output_type": "display_data"
    },
    {
     "data": {},
     "metadata": {},
     "output_type": "display_data"
    },
    {
     "data": {},
     "metadata": {},
     "output_type": "display_data"
    },
    {
     "data": {},
     "metadata": {},
     "output_type": "display_data"
    },
    {
     "data": {},
     "metadata": {},
     "output_type": "display_data"
    },
    {
     "data": {},
     "metadata": {},
     "output_type": "display_data"
    },
    {
     "data": {},
     "metadata": {},
     "output_type": "display_data"
    },
    {
     "data": {},
     "metadata": {},
     "output_type": "display_data"
    },
    {
     "data": {},
     "metadata": {},
     "output_type": "display_data"
    },
    {
     "data": {},
     "metadata": {},
     "output_type": "display_data"
    },
    {
     "data": {},
     "metadata": {},
     "output_type": "display_data"
    },
    {
     "data": {},
     "metadata": {},
     "output_type": "display_data"
    },
    {
     "data": {},
     "metadata": {},
     "output_type": "display_data"
    },
    {
     "data": {},
     "metadata": {},
     "output_type": "display_data"
    },
    {
     "data": {},
     "metadata": {},
     "output_type": "display_data"
    },
    {
     "data": {},
     "metadata": {},
     "output_type": "display_data"
    },
    {
     "data": {},
     "metadata": {},
     "output_type": "display_data"
    },
    {
     "data": {},
     "metadata": {},
     "output_type": "display_data"
    },
    {
     "data": {},
     "metadata": {},
     "output_type": "display_data"
    },
    {
     "data": {},
     "metadata": {},
     "output_type": "display_data"
    },
    {
     "data": {},
     "metadata": {},
     "output_type": "display_data"
    },
    {
     "data": {},
     "metadata": {},
     "output_type": "display_data"
    },
    {
     "data": {},
     "metadata": {},
     "output_type": "display_data"
    },
    {
     "data": {},
     "metadata": {},
     "output_type": "display_data"
    },
    {
     "data": {},
     "metadata": {},
     "output_type": "display_data"
    },
    {
     "data": {},
     "metadata": {},
     "output_type": "display_data"
    },
    {
     "data": {},
     "metadata": {},
     "output_type": "display_data"
    },
    {
     "data": {},
     "metadata": {},
     "output_type": "display_data"
    },
    {
     "data": {},
     "metadata": {},
     "output_type": "display_data"
    },
    {
     "data": {},
     "metadata": {},
     "output_type": "display_data"
    },
    {
     "data": {},
     "metadata": {},
     "output_type": "display_data"
    },
    {
     "data": {},
     "metadata": {},
     "output_type": "display_data"
    },
    {
     "data": {},
     "metadata": {},
     "output_type": "display_data"
    },
    {
     "data": {},
     "metadata": {},
     "output_type": "display_data"
    },
    {
     "data": {},
     "metadata": {},
     "output_type": "display_data"
    },
    {
     "data": {},
     "metadata": {},
     "output_type": "display_data"
    },
    {
     "data": {},
     "metadata": {},
     "output_type": "display_data"
    },
    {
     "data": {},
     "metadata": {},
     "output_type": "display_data"
    },
    {
     "data": {},
     "metadata": {},
     "output_type": "display_data"
    },
    {
     "data": {},
     "metadata": {},
     "output_type": "display_data"
    },
    {
     "data": {},
     "metadata": {},
     "output_type": "display_data"
    },
    {
     "data": {},
     "metadata": {},
     "output_type": "display_data"
    },
    {
     "data": {},
     "metadata": {},
     "output_type": "display_data"
    },
    {
     "data": {},
     "metadata": {},
     "output_type": "display_data"
    },
    {
     "data": {},
     "metadata": {},
     "output_type": "display_data"
    },
    {
     "data": {},
     "metadata": {},
     "output_type": "display_data"
    },
    {
     "data": {},
     "metadata": {},
     "output_type": "display_data"
    },
    {
     "data": {},
     "metadata": {},
     "output_type": "display_data"
    },
    {
     "data": {},
     "metadata": {},
     "output_type": "display_data"
    },
    {
     "data": {},
     "metadata": {},
     "output_type": "display_data"
    },
    {
     "data": {},
     "metadata": {},
     "output_type": "display_data"
    },
    {
     "data": {},
     "metadata": {},
     "output_type": "display_data"
    },
    {
     "data": {},
     "metadata": {},
     "output_type": "display_data"
    },
    {
     "data": {},
     "metadata": {},
     "output_type": "display_data"
    },
    {
     "data": {},
     "metadata": {},
     "output_type": "display_data"
    },
    {
     "data": {},
     "metadata": {},
     "output_type": "display_data"
    },
    {
     "data": {},
     "metadata": {},
     "output_type": "display_data"
    },
    {
     "data": {},
     "metadata": {},
     "output_type": "display_data"
    },
    {
     "data": {},
     "metadata": {},
     "output_type": "display_data"
    },
    {
     "data": {},
     "metadata": {},
     "output_type": "display_data"
    },
    {
     "data": {},
     "metadata": {},
     "output_type": "display_data"
    },
    {
     "data": {},
     "metadata": {},
     "output_type": "display_data"
    },
    {
     "data": {},
     "metadata": {},
     "output_type": "display_data"
    },
    {
     "data": {},
     "metadata": {},
     "output_type": "display_data"
    },
    {
     "data": {},
     "metadata": {},
     "output_type": "display_data"
    },
    {
     "data": {},
     "metadata": {},
     "output_type": "display_data"
    },
    {
     "data": {},
     "metadata": {},
     "output_type": "display_data"
    },
    {
     "data": {},
     "metadata": {},
     "output_type": "display_data"
    },
    {
     "data": {},
     "metadata": {},
     "output_type": "display_data"
    }
   ],
   "source": [
    "from tardis import run_tardis\n",
    "from tardis.io.atom_data import download_atom_data\n",
    "\n",
    "# We download the atomic data needed to run the simulation\n",
    "download_atom_data('kurucz_cd23_chianti_H_He_latest')\n",
    "\n",
    "# We run the simulation\n",
    "simulation = run_tardis('tardis_example.yml')"
   ]
  },
  {
   "attachments": {},
   "cell_type": "markdown",
   "metadata": {},
   "source": [
    "You can now use the `to_hdf` method, to save properties to a HDF file.\n",
    "\n",
    "#### Parameters  \n",
    "\n",
    "`file_path`: Path where the HDF file should be stored. (Required)  \n",
    "`path`: Path inside the HDF store to store the elements. (Optional)  \n",
    "`name`: Name of the group inside HDF store, under which properties will be saved.(Optional)\n",
    "`overwrite`: If the HDF file already exists, do you overwrite the existing file (Optional, default `False`)\n",
    "\n",
    "<div class=\"alert alert-info\">\n",
    "\n",
    "Note\n",
    "    \n",
    "Throughout this notebook, we set ``overwrite=True`` so that the notebook can be run repeatedly if needed.\n",
    "\n",
    "</div>"
   ]
  },
  {
   "cell_type": "code",
   "execution_count": 2,
   "metadata": {
    "execution": {
     "iopub.execute_input": "2025-06-11T12:33:00.772401Z",
     "iopub.status.busy": "2025-06-11T12:33:00.772106Z",
     "iopub.status.idle": "2025-06-11T12:34:11.188348Z",
     "shell.execute_reply": "2025-06-11T12:34:11.187812Z"
    }
   },
   "outputs": [
    {
     "name": "stdout",
     "output_type": "stream",
     "text": [
      "[\u001b[1mpy.warnings         \u001b[0m][\u001b[1;33mWARNING\u001b[0m]  /home/runner/work/tardis/tardis/tardis/io/util.py:289: PerformanceWarning:\n",
      "\n",
      "\n",
      "your performance may suffer as PyTables will pickle object types that it cannot\n",
      "map directly to c-types [inferred_type->mixed,key->block0_values] [items->Index([0], dtype='int64')]\n",
      "\n",
      "\n",
      " (\u001b[1mwarnings.py\u001b[0m:110)\n"
     ]
    },
    {
     "name": "stdout",
     "output_type": "stream",
     "text": [
      "[\u001b[1mpy.warnings         \u001b[0m][\u001b[1;33mWARNING\u001b[0m]  /home/runner/work/tardis/tardis/tardis/io/util.py:276: PerformanceWarning:\n",
      "\n",
      "\n",
      "your performance may suffer as PyTables will pickle object types that it cannot\n",
      "map directly to c-types [inferred_type->mixed,key->block0_values] [items->Index([0], dtype='int64')]\n",
      "\n",
      "\n",
      " (\u001b[1mwarnings.py\u001b[0m:110)\n"
     ]
    },
    {
     "name": "stdout",
     "output_type": "stream",
     "text": [
      "[\u001b[1mpy.warnings         \u001b[0m][\u001b[1;33mWARNING\u001b[0m]  /home/runner/work/tardis/tardis/tardis/io/util.py:292: PerformanceWarning:\n",
      "\n",
      "\n",
      "your performance may suffer as PyTables will pickle object types that it cannot\n",
      "map directly to c-types [inferred_type->mixed,key->values] [items->None]\n",
      "\n",
      "\n",
      " (\u001b[1mwarnings.py\u001b[0m:110)\n"
     ]
    },
    {
     "name": "stdout",
     "output_type": "stream",
     "text": [
      "[\u001b[1mpy.warnings         \u001b[0m][\u001b[1;33mWARNING\u001b[0m]  /home/runner/work/tardis/tardis/tardis/spectrum/formal_integral.py:398: UserWarning:\n",
      "\n",
      "The number of interpolate_shells was not specified. The value was set to 80.\n",
      "\n",
      " (\u001b[1mwarnings.py\u001b[0m:110)\n"
     ]
    }
   ],
   "source": [
    "simulation.to_hdf('/tmp/full_example.hdf', overwrite=True)\n",
    "\n",
    "# The commented out code below shows an example of to_hdf with more parameters\n",
    "#simulation.to_hdf(file_path='/tmp/full_example.hdf', path='/', name='simulation')"
   ]
  },
  {
   "attachments": {},
   "cell_type": "markdown",
   "metadata": {},
   "source": [
    "Open the stored HDF file with pandas and print a list of its entries using the `keys()` method:"
   ]
  },
  {
   "cell_type": "code",
   "execution_count": 3,
   "metadata": {
    "execution": {
     "iopub.execute_input": "2025-06-11T12:34:11.216321Z",
     "iopub.status.busy": "2025-06-11T12:34:11.216108Z",
     "iopub.status.idle": "2025-06-11T12:34:11.263773Z",
     "shell.execute_reply": "2025-06-11T12:34:11.263314Z"
    }
   },
   "outputs": [
    {
     "data": {
      "text/plain": [
       "['/simulation/iterations_electron_densities',\n",
       " '/simulation/iterations_t_inner',\n",
       " '/simulation/iterations_t_rad',\n",
       " '/simulation/iterations_w',\n",
       " '/simulation/transport/transport_state/emitted_packet_mask',\n",
       " '/simulation/transport/transport_state/j_blue_estimator',\n",
       " '/simulation/transport/transport_state/j_estimator',\n",
       " '/simulation/transport/transport_state/last_interaction_in_nu',\n",
       " '/simulation/transport/transport_state/last_interaction_in_r',\n",
       " '/simulation/transport/transport_state/last_interaction_type',\n",
       " '/simulation/transport/transport_state/last_line_interaction_in_id',\n",
       " '/simulation/transport/transport_state/last_line_interaction_out_id',\n",
       " '/simulation/transport/transport_state/last_line_interaction_shell_id',\n",
       " '/simulation/transport/transport_state/nu_bar_estimator',\n",
       " '/simulation/transport/transport_state/output_energy',\n",
       " '/simulation/transport/transport_state/output_nu',\n",
       " '/simulation/transport/transport_state/packet_luminosity',\n",
       " '/simulation/transport/transport_state/scalars',\n",
       " '/simulation/spectrum_solver/montecarlo_virtual_luminosity',\n",
       " '/simulation/spectrum_solver/spectrum_virtual_packets/_frequency',\n",
       " '/simulation/spectrum_solver/spectrum_virtual_packets/luminosity',\n",
       " '/simulation/spectrum_solver/spectrum_virtual_packets/luminosity_density_lambda',\n",
       " '/simulation/spectrum_solver/spectrum_virtual_packets/scalars',\n",
       " '/simulation/spectrum_solver/spectrum_virtual_packets/wavelength',\n",
       " '/simulation/spectrum_solver/spectrum_real_packets_reabsorbed/_frequency',\n",
       " '/simulation/spectrum_solver/spectrum_real_packets_reabsorbed/luminosity',\n",
       " '/simulation/spectrum_solver/spectrum_real_packets_reabsorbed/luminosity_density_lambda',\n",
       " '/simulation/spectrum_solver/spectrum_real_packets_reabsorbed/scalars',\n",
       " '/simulation/spectrum_solver/spectrum_real_packets_reabsorbed/wavelength',\n",
       " '/simulation/spectrum_solver/spectrum_real_packets/_frequency',\n",
       " '/simulation/spectrum_solver/spectrum_real_packets/luminosity',\n",
       " '/simulation/spectrum_solver/spectrum_real_packets/luminosity_density_lambda',\n",
       " '/simulation/spectrum_solver/spectrum_real_packets/scalars',\n",
       " '/simulation/spectrum_solver/spectrum_real_packets/wavelength',\n",
       " '/simulation/spectrum_solver/spectrum_integrated/_frequency',\n",
       " '/simulation/spectrum_solver/spectrum_integrated/luminosity',\n",
       " '/simulation/spectrum_solver/spectrum_integrated/luminosity_density_lambda',\n",
       " '/simulation/spectrum_solver/spectrum_integrated/scalars',\n",
       " '/simulation/spectrum_solver/spectrum_integrated/wavelength',\n",
       " '/simulation/simulation_state/abundance',\n",
       " '/simulation/simulation_state/density',\n",
       " '/simulation/simulation_state/dilution_factor',\n",
       " '/simulation/simulation_state/r_inner',\n",
       " '/simulation/simulation_state/scalars',\n",
       " '/simulation/simulation_state/t_radiative',\n",
       " '/simulation/simulation_state/v_inner',\n",
       " '/simulation/simulation_state/v_outer',\n",
       " '/simulation/plasma/beta_rad',\n",
       " '/simulation/plasma/beta_sobolev',\n",
       " '/simulation/plasma/continuum_interaction_species',\n",
       " '/simulation/plasma/dilute_planckian_radiation_field',\n",
       " '/simulation/plasma/electron_densities',\n",
       " '/simulation/plasma/excitation_energy',\n",
       " '/simulation/plasma/f_lu',\n",
       " '/simulation/plasma/g',\n",
       " '/simulation/plasma/g_electron',\n",
       " '/simulation/plasma/general_level_boltzmann_factor',\n",
       " '/simulation/plasma/ion_number_density',\n",
       " '/simulation/plasma/ionization_data',\n",
       " '/simulation/plasma/j_blues',\n",
       " '/simulation/plasma/level_boltzmann_factor',\n",
       " '/simulation/plasma/level_number_density',\n",
       " '/simulation/plasma/levels',\n",
       " '/simulation/plasma/lines',\n",
       " '/simulation/plasma/lines_lower_level_index',\n",
       " '/simulation/plasma/lines_upper_level_index',\n",
       " '/simulation/plasma/macro_atom_data',\n",
       " '/simulation/plasma/metastability',\n",
       " '/simulation/plasma/nlte_excitation_species',\n",
       " '/simulation/plasma/nlte_ionization_species',\n",
       " '/simulation/plasma/nu',\n",
       " '/simulation/plasma/number_density',\n",
       " '/simulation/plasma/partition_function',\n",
       " '/simulation/plasma/phi',\n",
       " '/simulation/plasma/scalars',\n",
       " '/simulation/plasma/selected_atoms',\n",
       " '/simulation/plasma/stimulated_emission_factor',\n",
       " '/simulation/plasma/t_electrons',\n",
       " '/simulation/plasma/t_rad',\n",
       " '/simulation/plasma/tau_sobolevs',\n",
       " '/simulation/plasma/transition_probabilities',\n",
       " '/simulation/plasma/w',\n",
       " '/simulation/plasma/wavelength_cm']"
      ]
     },
     "execution_count": 3,
     "metadata": {},
     "output_type": "execute_result"
    }
   ],
   "source": [
    "import pandas as pd\n",
    "\n",
    "data = pd.HDFStore('/tmp/full_example.hdf', overwrite=True)\n",
    "\n",
    "data.keys()"
   ]
  },
  {
   "attachments": {},
   "cell_type": "markdown",
   "metadata": {},
   "source": [
    "Access `model.density` under simulation, which is a one-dimensional array"
   ]
  },
  {
   "cell_type": "code",
   "execution_count": 4,
   "metadata": {
    "execution": {
     "iopub.execute_input": "2025-06-11T12:34:11.265276Z",
     "iopub.status.busy": "2025-06-11T12:34:11.265108Z",
     "iopub.status.idle": "2025-06-11T12:34:11.270594Z",
     "shell.execute_reply": "2025-06-11T12:34:11.270179Z"
    }
   },
   "outputs": [
    {
     "name": "stdout",
     "output_type": "stream",
     "text": [
      "0     7.542804e-14\n",
      "1     5.728475e-14\n",
      "2     4.396074e-14\n",
      "3     3.406287e-14\n",
      "4     2.663135e-14\n",
      "5     2.099596e-14\n",
      "6     1.668287e-14\n",
      "7     1.335311e-14\n",
      "8     1.076154e-14\n",
      "9     8.729085e-15\n",
      "10    7.123652e-15\n",
      "11    5.846921e-15\n",
      "12    4.825093e-15\n",
      "13    4.002324e-15\n",
      "14    3.336039e-15\n",
      "15    2.793540e-15\n",
      "16    2.349550e-15\n",
      "17    1.984397e-15\n",
      "18    1.682677e-15\n",
      "19    1.432260e-15\n",
      "dtype: float64\n"
     ]
    }
   ],
   "source": [
    "print(data['/simulation/simulation_state/density'])"
   ]
  },
  {
   "attachments": {},
   "cell_type": "markdown",
   "metadata": {
    "collapsed": true,
    "jupyter": {
     "outputs_hidden": true
    }
   },
   "source": [
    "Scalars are stored in a `scalars` `pandas.Series` for every module. For example to access `model.t_inner` under simulation, one would need to do the following."
   ]
  },
  {
   "cell_type": "code",
   "execution_count": 5,
   "metadata": {
    "execution": {
     "iopub.execute_input": "2025-06-11T12:34:11.272051Z",
     "iopub.status.busy": "2025-06-11T12:34:11.271889Z",
     "iopub.status.idle": "2025-06-11T12:34:11.276425Z",
     "shell.execute_reply": "2025-06-11T12:34:11.275962Z"
    }
   },
   "outputs": [
    {
     "name": "stdout",
     "output_type": "stream",
     "text": [
      "10651.315137263384\n"
     ]
    }
   ],
   "source": [
    "print(data['/simulation/simulation_state/scalars']['t_inner'])"
   ]
  },
  {
   "attachments": {},
   "cell_type": "markdown",
   "metadata": {},
   "source": [
    "## Breakdown of the various to_hdf methods\n",
    "Every module in TARDIS has its own `to_hdf` method responsible to store its own data to an HDF file."
   ]
  },
  {
   "attachments": {},
   "cell_type": "markdown",
   "metadata": {},
   "source": [
    "### Plasma\n",
    "The following call will store every plasma property to `/tmp/plasma_output.hdf` under `/parent/plasma`"
   ]
  },
  {
   "cell_type": "code",
   "execution_count": 6,
   "metadata": {
    "execution": {
     "iopub.execute_input": "2025-06-11T12:34:11.277944Z",
     "iopub.status.busy": "2025-06-11T12:34:11.277781Z",
     "iopub.status.idle": "2025-06-11T12:34:11.467090Z",
     "shell.execute_reply": "2025-06-11T12:34:11.466586Z"
    }
   },
   "outputs": [
    {
     "name": "stdout",
     "output_type": "stream",
     "text": [
      "[\u001b[1mpy.warnings         \u001b[0m][\u001b[1;33mWARNING\u001b[0m]  /home/runner/work/tardis/tardis/tardis/io/util.py:289: PerformanceWarning:\n",
      "\n",
      "\n",
      "your performance may suffer as PyTables will pickle object types that it cannot\n",
      "map directly to c-types [inferred_type->mixed,key->block0_values] [items->Index([0], dtype='int64')]\n",
      "\n",
      "\n",
      " (\u001b[1mwarnings.py\u001b[0m:110)\n"
     ]
    },
    {
     "name": "stdout",
     "output_type": "stream",
     "text": [
      "[\u001b[1mpy.warnings         \u001b[0m][\u001b[1;33mWARNING\u001b[0m]  /home/runner/work/tardis/tardis/tardis/io/util.py:276: PerformanceWarning:\n",
      "\n",
      "\n",
      "your performance may suffer as PyTables will pickle object types that it cannot\n",
      "map directly to c-types [inferred_type->mixed,key->block0_values] [items->Index([0], dtype='int64')]\n",
      "\n",
      "\n",
      " (\u001b[1mwarnings.py\u001b[0m:110)\n"
     ]
    },
    {
     "name": "stdout",
     "output_type": "stream",
     "text": [
      "[\u001b[1mpy.warnings         \u001b[0m][\u001b[1;33mWARNING\u001b[0m]  /home/runner/work/tardis/tardis/tardis/io/util.py:292: PerformanceWarning:\n",
      "\n",
      "\n",
      "your performance may suffer as PyTables will pickle object types that it cannot\n",
      "map directly to c-types [inferred_type->mixed,key->values] [items->None]\n",
      "\n",
      "\n",
      " (\u001b[1mwarnings.py\u001b[0m:110)\n"
     ]
    }
   ],
   "source": [
    "simulation.plasma.to_hdf('/tmp/plasma_output.hdf', path='parent', overwrite=True)"
   ]
  },
  {
   "cell_type": "code",
   "execution_count": 7,
   "metadata": {
    "execution": {
     "iopub.execute_input": "2025-06-11T12:34:11.494306Z",
     "iopub.status.busy": "2025-06-11T12:34:11.494133Z",
     "iopub.status.idle": "2025-06-11T12:34:11.512133Z",
     "shell.execute_reply": "2025-06-11T12:34:11.511746Z"
    }
   },
   "outputs": [
    {
     "data": {
      "text/plain": [
       "['/parent/plasma/beta_rad',\n",
       " '/parent/plasma/beta_sobolev',\n",
       " '/parent/plasma/continuum_interaction_species',\n",
       " '/parent/plasma/dilute_planckian_radiation_field',\n",
       " '/parent/plasma/electron_densities',\n",
       " '/parent/plasma/excitation_energy',\n",
       " '/parent/plasma/f_lu',\n",
       " '/parent/plasma/g',\n",
       " '/parent/plasma/g_electron',\n",
       " '/parent/plasma/general_level_boltzmann_factor',\n",
       " '/parent/plasma/ion_number_density',\n",
       " '/parent/plasma/ionization_data',\n",
       " '/parent/plasma/j_blues',\n",
       " '/parent/plasma/level_boltzmann_factor',\n",
       " '/parent/plasma/level_number_density',\n",
       " '/parent/plasma/levels',\n",
       " '/parent/plasma/lines',\n",
       " '/parent/plasma/lines_lower_level_index',\n",
       " '/parent/plasma/lines_upper_level_index',\n",
       " '/parent/plasma/macro_atom_data',\n",
       " '/parent/plasma/metastability',\n",
       " '/parent/plasma/nlte_excitation_species',\n",
       " '/parent/plasma/nlte_ionization_species',\n",
       " '/parent/plasma/nu',\n",
       " '/parent/plasma/number_density',\n",
       " '/parent/plasma/partition_function',\n",
       " '/parent/plasma/phi',\n",
       " '/parent/plasma/scalars',\n",
       " '/parent/plasma/selected_atoms',\n",
       " '/parent/plasma/stimulated_emission_factor',\n",
       " '/parent/plasma/t_electrons',\n",
       " '/parent/plasma/t_rad',\n",
       " '/parent/plasma/tau_sobolevs',\n",
       " '/parent/plasma/transition_probabilities',\n",
       " '/parent/plasma/w',\n",
       " '/parent/plasma/wavelength_cm']"
      ]
     },
     "execution_count": 7,
     "metadata": {},
     "output_type": "execute_result"
    }
   ],
   "source": [
    "import pandas\n",
    "\n",
    "plasma_data = pandas.HDFStore('/tmp/plasma_output.hdf')\n",
    "\n",
    "plasma_data.keys()"
   ]
  },
  {
   "attachments": {},
   "cell_type": "markdown",
   "metadata": {},
   "source": [
    "Plasma's `to_hdf` method can also accept a `collection` parameter which can specify which types of plasma properties will be stored. For example if we wanted to only store Input plasma properties, we would do the following:"
   ]
  },
  {
   "cell_type": "code",
   "execution_count": 8,
   "metadata": {
    "execution": {
     "iopub.execute_input": "2025-06-11T12:34:11.513502Z",
     "iopub.status.busy": "2025-06-11T12:34:11.513326Z",
     "iopub.status.idle": "2025-06-11T12:34:11.548310Z",
     "shell.execute_reply": "2025-06-11T12:34:11.547931Z"
    }
   },
   "outputs": [
    {
     "name": "stdout",
     "output_type": "stream",
     "text": [
      "[\u001b[1mpy.warnings         \u001b[0m][\u001b[1;33mWARNING\u001b[0m]  /home/runner/work/tardis/tardis/tardis/io/util.py:289: PerformanceWarning:\n",
      "\n",
      "\n",
      "your performance may suffer as PyTables will pickle object types that it cannot\n",
      "map directly to c-types [inferred_type->mixed,key->block0_values] [items->Index([0], dtype='int64')]\n",
      "\n",
      "\n",
      " (\u001b[1mwarnings.py\u001b[0m:110)\n"
     ]
    },
    {
     "name": "stdout",
     "output_type": "stream",
     "text": [
      "[\u001b[1mpy.warnings         \u001b[0m][\u001b[1;33mWARNING\u001b[0m]  /home/runner/work/tardis/tardis/tardis/io/util.py:292: PerformanceWarning:\n",
      "\n",
      "\n",
      "your performance may suffer as PyTables will pickle object types that it cannot\n",
      "map directly to c-types [inferred_type->mixed,key->values] [items->None]\n",
      "\n",
      "\n",
      " (\u001b[1mwarnings.py\u001b[0m:110)\n"
     ]
    }
   ],
   "source": [
    "from tardis.plasma.properties.base import Input\n",
    "simulation.plasma.to_hdf('/tmp/plasma_input_output.hdf', collection=[Input], overwrite=True)"
   ]
  },
  {
   "cell_type": "code",
   "execution_count": 9,
   "metadata": {
    "execution": {
     "iopub.execute_input": "2025-06-11T12:34:11.549779Z",
     "iopub.status.busy": "2025-06-11T12:34:11.549608Z",
     "iopub.status.idle": "2025-06-11T12:34:11.556653Z",
     "shell.execute_reply": "2025-06-11T12:34:11.556241Z"
    }
   },
   "outputs": [
    {
     "data": {
      "text/plain": [
       "['/plasma/continuum_interaction_species',\n",
       " '/plasma/dilute_planckian_radiation_field',\n",
       " '/plasma/j_blues',\n",
       " '/plasma/nlte_excitation_species',\n",
       " '/plasma/nlte_ionization_species',\n",
       " '/plasma/number_density',\n",
       " '/plasma/scalars']"
      ]
     },
     "execution_count": 9,
     "metadata": {},
     "output_type": "execute_result"
    }
   ],
   "source": [
    "import pandas\n",
    "\n",
    "plasma_input_data = pandas.HDFStore('/tmp/plasma_input_output.hdf')\n",
    "\n",
    "plasma_input_data.keys()"
   ]
  },
  {
   "attachments": {},
   "cell_type": "markdown",
   "metadata": {},
   "source": [
    "### Model\n",
    "The following call will store properties of the `SimulationState` to `/tmp/model_output.hdf` under `/simulation_state`."
   ]
  },
  {
   "cell_type": "code",
   "execution_count": 10,
   "metadata": {
    "execution": {
     "iopub.execute_input": "2025-06-11T12:34:11.558074Z",
     "iopub.status.busy": "2025-06-11T12:34:11.557817Z",
     "iopub.status.idle": "2025-06-11T12:34:11.582207Z",
     "shell.execute_reply": "2025-06-11T12:34:11.581738Z"
    }
   },
   "outputs": [],
   "source": [
    "simulation.simulation_state.to_hdf('/tmp/model_output.hdf', overwrite=True)"
   ]
  },
  {
   "cell_type": "code",
   "execution_count": 11,
   "metadata": {
    "execution": {
     "iopub.execute_input": "2025-06-11T12:34:11.610634Z",
     "iopub.status.busy": "2025-06-11T12:34:11.610451Z",
     "iopub.status.idle": "2025-06-11T12:34:11.617218Z",
     "shell.execute_reply": "2025-06-11T12:34:11.616759Z"
    }
   },
   "outputs": [
    {
     "data": {
      "text/plain": [
       "['/simulation_state/abundance',\n",
       " '/simulation_state/density',\n",
       " '/simulation_state/dilution_factor',\n",
       " '/simulation_state/r_inner',\n",
       " '/simulation_state/scalars',\n",
       " '/simulation_state/t_radiative',\n",
       " '/simulation_state/v_inner',\n",
       " '/simulation_state/v_outer']"
      ]
     },
     "execution_count": 11,
     "metadata": {},
     "output_type": "execute_result"
    }
   ],
   "source": [
    "import pandas\n",
    "\n",
    "model_data = pandas.HDFStore('/tmp/model_output.hdf')\n",
    "\n",
    "model_data.keys()"
   ]
  },
  {
   "attachments": {},
   "cell_type": "markdown",
   "metadata": {},
   "source": [
    "### MontecarloTransport\n",
    "The following call will store properties of the `MontecarloTransport` to `/tmp/transport_output.hdf` under `/transport`."
   ]
  },
  {
   "cell_type": "code",
   "execution_count": 12,
   "metadata": {
    "execution": {
     "iopub.execute_input": "2025-06-11T12:34:11.618601Z",
     "iopub.status.busy": "2025-06-11T12:34:11.618424Z",
     "iopub.status.idle": "2025-06-11T12:34:11.679619Z",
     "shell.execute_reply": "2025-06-11T12:34:11.679193Z"
    }
   },
   "outputs": [],
   "source": [
    "simulation.transport.to_hdf('/tmp/transport_output.hdf', overwrite=True)"
   ]
  },
  {
   "cell_type": "code",
   "execution_count": 13,
   "metadata": {
    "execution": {
     "iopub.execute_input": "2025-06-11T12:34:11.681133Z",
     "iopub.status.busy": "2025-06-11T12:34:11.680979Z",
     "iopub.status.idle": "2025-06-11T12:34:11.689632Z",
     "shell.execute_reply": "2025-06-11T12:34:11.689260Z"
    }
   },
   "outputs": [
    {
     "data": {
      "text/plain": [
       "['/transport/transport_state/emitted_packet_mask',\n",
       " '/transport/transport_state/j_blue_estimator',\n",
       " '/transport/transport_state/j_estimator',\n",
       " '/transport/transport_state/last_interaction_in_nu',\n",
       " '/transport/transport_state/last_interaction_in_r',\n",
       " '/transport/transport_state/last_interaction_type',\n",
       " '/transport/transport_state/last_line_interaction_in_id',\n",
       " '/transport/transport_state/last_line_interaction_out_id',\n",
       " '/transport/transport_state/last_line_interaction_shell_id',\n",
       " '/transport/transport_state/nu_bar_estimator',\n",
       " '/transport/transport_state/output_energy',\n",
       " '/transport/transport_state/output_nu',\n",
       " '/transport/transport_state/packet_luminosity',\n",
       " '/transport/transport_state/scalars']"
      ]
     },
     "execution_count": 13,
     "metadata": {},
     "output_type": "execute_result"
    }
   ],
   "source": [
    "import pandas\n",
    "\n",
    "transport_data = pandas.HDFStore('/tmp/transport_output.hdf')\n",
    "\n",
    "transport_data.keys()"
   ]
  },
  {
   "cell_type": "markdown",
   "metadata": {},
   "source": [
    "### Close all HDF Files"
   ]
  },
  {
   "cell_type": "code",
   "execution_count": 14,
   "metadata": {
    "execution": {
     "iopub.execute_input": "2025-06-11T12:34:11.701352Z",
     "iopub.status.busy": "2025-06-11T12:34:11.701201Z",
     "iopub.status.idle": "2025-06-11T12:34:11.707056Z",
     "shell.execute_reply": "2025-06-11T12:34:11.706697Z"
    }
   },
   "outputs": [],
   "source": [
    "data.close()\n",
    "plasma_data.close()\n",
    "plasma_input_data.close()\n",
    "model_data.close()\n",
    "transport_data.close()"
   ]
  },
  {
   "cell_type": "code",
   "execution_count": null,
   "metadata": {},
   "outputs": [],
   "source": []
  }
 ],
 "metadata": {
  "celltoolbar": "Raw Cell Format",
  "kernelspec": {
   "display_name": "Python 3 (ipykernel)",
   "language": "python",
   "name": "python3"
  },
  "language_info": {
   "codemirror_mode": {
    "name": "ipython",
    "version": 3
   },
   "file_extension": ".py",
   "mimetype": "text/x-python",
   "name": "python",
   "nbconvert_exporter": "python",
   "pygments_lexer": "ipython3",
   "version": "3.13.2"
  },
  "widgets": {
   "application/vnd.jupyter.widget-state+json": {
    "state": {
     "04bf2f8e861a47f3b610c87346c69b09": {
      "model_module": "@jupyter-widgets/base",
      "model_module_version": "2.0.0",
      "model_name": "LayoutModel",
      "state": {
       "_model_module": "@jupyter-widgets/base",
       "_model_module_version": "2.0.0",
       "_model_name": "LayoutModel",
       "_view_count": null,
       "_view_module": "@jupyter-widgets/base",
       "_view_module_version": "2.0.0",
       "_view_name": "LayoutView",
       "align_content": null,
       "align_items": null,
       "align_self": null,
       "border_bottom": null,
       "border_left": null,
       "border_right": null,
       "border_top": null,
       "bottom": null,
       "display": null,
       "flex": null,
       "flex_flow": null,
       "grid_area": null,
       "grid_auto_columns": null,
       "grid_auto_flow": null,
       "grid_auto_rows": null,
       "grid_column": null,
       "grid_gap": null,
       "grid_row": null,
       "grid_template_areas": null,
       "grid_template_columns": null,
       "grid_template_rows": null,
       "height": null,
       "justify_content": null,
       "justify_items": null,
       "left": null,
       "margin": null,
       "max_height": null,
       "max_width": null,
       "min_height": null,
       "min_width": null,
       "object_fit": null,
       "object_position": null,
       "order": null,
       "overflow": null,
       "padding": null,
       "right": null,
       "top": null,
       "visibility": null,
       "width": "6%"
      }
     },
     "077eb14ade1e4cca8672af7706436c19": {
      "model_module": "@jupyter-widgets/base",
      "model_module_version": "2.0.0",
      "model_name": "LayoutModel",
      "state": {
       "_model_module": "@jupyter-widgets/base",
       "_model_module_version": "2.0.0",
       "_model_name": "LayoutModel",
       "_view_count": null,
       "_view_module": "@jupyter-widgets/base",
       "_view_module_version": "2.0.0",
       "_view_name": "LayoutView",
       "align_content": null,
       "align_items": null,
       "align_self": null,
       "border_bottom": null,
       "border_left": null,
       "border_right": null,
       "border_top": null,
       "bottom": null,
       "display": null,
       "flex": null,
       "flex_flow": null,
       "grid_area": null,
       "grid_auto_columns": null,
       "grid_auto_flow": null,
       "grid_auto_rows": null,
       "grid_column": null,
       "grid_gap": null,
       "grid_row": null,
       "grid_template_areas": null,
       "grid_template_columns": null,
       "grid_template_rows": null,
       "height": null,
       "justify_content": null,
       "justify_items": null,
       "left": null,
       "margin": null,
       "max_height": null,
       "max_width": null,
       "min_height": null,
       "min_width": null,
       "object_fit": null,
       "object_position": null,
       "order": null,
       "overflow": null,
       "padding": null,
       "right": null,
       "top": null,
       "visibility": null,
       "width": null
      }
     },
     "0dc7ce20c1e84f3d90cb0ed88fa29685": {
      "model_module": "@jupyter-widgets/controls",
      "model_module_version": "2.0.0",
      "model_name": "HTMLModel",
      "state": {
       "_dom_classes": [],
       "_model_module": "@jupyter-widgets/controls",
       "_model_module_version": "2.0.0",
       "_model_name": "HTMLModel",
       "_view_count": null,
       "_view_module": "@jupyter-widgets/controls",
       "_view_module_version": "2.0.0",
       "_view_name": "HTMLView",
       "description": "",
       "description_allow_html": false,
       "layout": "IPY_MODEL_216b8ec8326c4435b5e32c9b5b0a3429",
       "placeholder": "​",
       "style": "IPY_MODEL_9b0a9d264bbc43eda92f224238864f16",
       "tabbable": null,
       "tooltip": null,
       "value": "Iterations:"
      }
     },
     "1272da3251334eb8830ec771e0156885": {
      "model_module": "@jupyter-widgets/controls",
      "model_module_version": "2.0.0",
      "model_name": "HTMLModel",
      "state": {
       "_dom_classes": [],
       "_model_module": "@jupyter-widgets/controls",
       "_model_module_version": "2.0.0",
       "_model_name": "HTMLModel",
       "_view_count": null,
       "_view_module": "@jupyter-widgets/controls",
       "_view_module_version": "2.0.0",
       "_view_name": "HTMLView",
       "description": "",
       "description_allow_html": false,
       "layout": "IPY_MODEL_147d9644119446b9b97114a78a9fc5e2",
       "placeholder": "​",
       "style": "IPY_MODEL_b115de1b5ea647229ee0fe9399720663",
       "tabbable": null,
       "tooltip": null,
       "value": "0/? [00:00&lt;?, ?it/s]"
      }
     },
     "13e865ddadb14c4e888ea6d3444a9ead": {
      "model_module": "@jupyter-widgets/base",
      "model_module_version": "2.0.0",
      "model_name": "LayoutModel",
      "state": {
       "_model_module": "@jupyter-widgets/base",
       "_model_module_version": "2.0.0",
       "_model_name": "LayoutModel",
       "_view_count": null,
       "_view_module": "@jupyter-widgets/base",
       "_view_module_version": "2.0.0",
       "_view_name": "LayoutView",
       "align_content": null,
       "align_items": null,
       "align_self": null,
       "border_bottom": null,
       "border_left": null,
       "border_right": null,
       "border_top": null,
       "bottom": null,
       "display": null,
       "flex": null,
       "flex_flow": null,
       "grid_area": null,
       "grid_auto_columns": null,
       "grid_auto_flow": null,
       "grid_auto_rows": null,
       "grid_column": null,
       "grid_gap": null,
       "grid_row": null,
       "grid_template_areas": null,
       "grid_template_columns": null,
       "grid_template_rows": null,
       "height": null,
       "justify_content": null,
       "justify_items": null,
       "left": null,
       "margin": null,
       "max_height": null,
       "max_width": null,
       "min_height": null,
       "min_width": null,
       "object_fit": null,
       "object_position": null,
       "order": null,
       "overflow": null,
       "padding": null,
       "right": null,
       "top": null,
       "visibility": null,
       "width": null
      }
     },
     "147d9644119446b9b97114a78a9fc5e2": {
      "model_module": "@jupyter-widgets/base",
      "model_module_version": "2.0.0",
      "model_name": "LayoutModel",
      "state": {
       "_model_module": "@jupyter-widgets/base",
       "_model_module_version": "2.0.0",
       "_model_name": "LayoutModel",
       "_view_count": null,
       "_view_module": "@jupyter-widgets/base",
       "_view_module_version": "2.0.0",
       "_view_name": "LayoutView",
       "align_content": null,
       "align_items": null,
       "align_self": null,
       "border_bottom": null,
       "border_left": null,
       "border_right": null,
       "border_top": null,
       "bottom": null,
       "display": null,
       "flex": null,
       "flex_flow": null,
       "grid_area": null,
       "grid_auto_columns": null,
       "grid_auto_flow": null,
       "grid_auto_rows": null,
       "grid_column": null,
       "grid_gap": null,
       "grid_row": null,
       "grid_template_areas": null,
       "grid_template_columns": null,
       "grid_template_rows": null,
       "height": null,
       "justify_content": null,
       "justify_items": null,
       "left": null,
       "margin": null,
       "max_height": null,
       "max_width": null,
       "min_height": null,
       "min_width": null,
       "object_fit": null,
       "object_position": null,
       "order": null,
       "overflow": null,
       "padding": null,
       "right": null,
       "top": null,
       "visibility": null,
       "width": null
      }
     },
     "1b9c984658b4417da04a29d3a2ef965e": {
      "model_module": "@jupyter-widgets/controls",
      "model_module_version": "2.0.0",
      "model_name": "HTMLModel",
      "state": {
       "_dom_classes": [],
       "_model_module": "@jupyter-widgets/controls",
       "_model_module_version": "2.0.0",
       "_model_name": "HTMLModel",
       "_view_count": null,
       "_view_module": "@jupyter-widgets/controls",
       "_view_module_version": "2.0.0",
       "_view_name": "HTMLView",
       "description": "",
       "description_allow_html": false,
       "layout": "IPY_MODEL_48ae30bcedc1403e93aca05e7d7d9d2c",
       "placeholder": "​",
       "style": "IPY_MODEL_878d74a98b224f82a9089e48b90373c5",
       "tabbable": null,
       "tooltip": null,
       "value": "0/? [00:00&lt;?, ?it/s]"
      }
     },
     "1c1361f4edf443c88b437a88879a713d": {
      "model_module": "@jupyter-widgets/base",
      "model_module_version": "2.0.0",
      "model_name": "LayoutModel",
      "state": {
       "_model_module": "@jupyter-widgets/base",
       "_model_module_version": "2.0.0",
       "_model_name": "LayoutModel",
       "_view_count": null,
       "_view_module": "@jupyter-widgets/base",
       "_view_module_version": "2.0.0",
       "_view_name": "LayoutView",
       "align_content": null,
       "align_items": null,
       "align_self": null,
       "border_bottom": null,
       "border_left": null,
       "border_right": null,
       "border_top": null,
       "bottom": null,
       "display": null,
       "flex": null,
       "flex_flow": null,
       "grid_area": null,
       "grid_auto_columns": null,
       "grid_auto_flow": null,
       "grid_auto_rows": null,
       "grid_column": null,
       "grid_gap": null,
       "grid_row": null,
       "grid_template_areas": null,
       "grid_template_columns": null,
       "grid_template_rows": null,
       "height": null,
       "justify_content": null,
       "justify_items": null,
       "left": null,
       "margin": null,
       "max_height": null,
       "max_width": null,
       "min_height": null,
       "min_width": null,
       "object_fit": null,
       "object_position": null,
       "order": null,
       "overflow": null,
       "padding": null,
       "right": null,
       "top": null,
       "visibility": null,
       "width": "60%"
      }
     },
     "1cffde1c50c544dcb0508c5cce803c35": {
      "model_module": "@jupyter-widgets/output",
      "model_module_version": "1.0.0",
      "model_name": "OutputModel",
      "state": {
       "_dom_classes": [],
       "_model_module": "@jupyter-widgets/output",
       "_model_module_version": "1.0.0",
       "_model_name": "OutputModel",
       "_view_count": null,
       "_view_module": "@jupyter-widgets/output",
       "_view_module_version": "1.0.0",
       "_view_name": "OutputView",
       "layout": "IPY_MODEL_fbc4e7ed09a5491589b3026773c91c73",
       "msg_id": "",
       "outputs": [],
       "tabbable": null,
       "tooltip": null
      }
     },
     "216b8ec8326c4435b5e32c9b5b0a3429": {
      "model_module": "@jupyter-widgets/base",
      "model_module_version": "2.0.0",
      "model_name": "LayoutModel",
      "state": {
       "_model_module": "@jupyter-widgets/base",
       "_model_module_version": "2.0.0",
       "_model_name": "LayoutModel",
       "_view_count": null,
       "_view_module": "@jupyter-widgets/base",
       "_view_module_version": "2.0.0",
       "_view_name": "LayoutView",
       "align_content": null,
       "align_items": null,
       "align_self": null,
       "border_bottom": null,
       "border_left": null,
       "border_right": null,
       "border_top": null,
       "bottom": null,
       "display": null,
       "flex": null,
       "flex_flow": null,
       "grid_area": null,
       "grid_auto_columns": null,
       "grid_auto_flow": null,
       "grid_auto_rows": null,
       "grid_column": null,
       "grid_gap": null,
       "grid_row": null,
       "grid_template_areas": null,
       "grid_template_columns": null,
       "grid_template_rows": null,
       "height": null,
       "justify_content": null,
       "justify_items": null,
       "left": null,
       "margin": null,
       "max_height": null,
       "max_width": null,
       "min_height": null,
       "min_width": null,
       "object_fit": null,
       "object_position": null,
       "order": null,
       "overflow": null,
       "padding": null,
       "right": null,
       "top": null,
       "visibility": null,
       "width": null
      }
     },
     "252cd7e9ff314b8bab2b66e5ebf82550": {
      "model_module": "@jupyter-widgets/controls",
      "model_module_version": "2.0.0",
      "model_name": "HBoxModel",
      "state": {
       "_dom_classes": [],
       "_model_module": "@jupyter-widgets/controls",
       "_model_module_version": "2.0.0",
       "_model_name": "HBoxModel",
       "_view_count": null,
       "_view_module": "@jupyter-widgets/controls",
       "_view_module_version": "2.0.0",
       "_view_name": "HBoxView",
       "box_style": "",
       "children": [
        "IPY_MODEL_b42bc74fee0f419f988659950d58c8cc",
        "IPY_MODEL_ef6744a723d7499d88a2c2b6882c4297",
        "IPY_MODEL_78c1d5bec58e47abb5147be92be50274"
       ],
       "layout": "IPY_MODEL_077eb14ade1e4cca8672af7706436c19",
       "tabbable": null,
       "tooltip": null
      }
     },
     "287617f960ba4705879623578951e2be": {
      "model_module": "@jupyter-widgets/output",
      "model_module_version": "1.0.0",
      "model_name": "OutputModel",
      "state": {
       "_dom_classes": [],
       "_model_module": "@jupyter-widgets/output",
       "_model_module_version": "1.0.0",
       "_model_name": "OutputModel",
       "_view_count": null,
       "_view_module": "@jupyter-widgets/output",
       "_view_module_version": "1.0.0",
       "_view_name": "OutputView",
       "layout": "IPY_MODEL_aee9f3aa12b247faad1b91eeddc8fee9",
       "msg_id": "",
       "outputs": [],
       "tabbable": null,
       "tooltip": null
      }
     },
     "37071875a15946aa958f2714299fac64": {
      "model_module": "@jupyter-widgets/controls",
      "model_module_version": "2.0.0",
      "model_name": "FloatProgressModel",
      "state": {
       "_dom_classes": [],
       "_model_module": "@jupyter-widgets/controls",
       "_model_module_version": "2.0.0",
       "_model_name": "FloatProgressModel",
       "_view_count": null,
       "_view_module": "@jupyter-widgets/controls",
       "_view_module_version": "2.0.0",
       "_view_name": "ProgressView",
       "bar_style": "info",
       "description": "",
       "description_allow_html": false,
       "layout": "IPY_MODEL_eacaa1c44ae44e9386087496effd35ed",
       "max": 1.0,
       "min": 0.0,
       "orientation": "horizontal",
       "style": "IPY_MODEL_5813d7f53a4f4806afef9cd443d4414f",
       "tabbable": null,
       "tooltip": null,
       "value": 0.0
      }
     },
     "3d773ea730c642ab81ec36a6070ad23e": {
      "model_module": "@jupyter-widgets/controls",
      "model_module_version": "2.0.0",
      "model_name": "ProgressStyleModel",
      "state": {
       "_model_module": "@jupyter-widgets/controls",
       "_model_module_version": "2.0.0",
       "_model_name": "ProgressStyleModel",
       "_view_count": null,
       "_view_module": "@jupyter-widgets/base",
       "_view_module_version": "2.0.0",
       "_view_name": "StyleView",
       "bar_color": null,
       "description_width": ""
      }
     },
     "419a6a973407499981715b8399fb38b1": {
      "model_module": "@jupyter-widgets/controls",
      "model_module_version": "2.0.0",
      "model_name": "HBoxModel",
      "state": {
       "_dom_classes": [],
       "_model_module": "@jupyter-widgets/controls",
       "_model_module_version": "2.0.0",
       "_model_name": "HBoxModel",
       "_view_count": null,
       "_view_module": "@jupyter-widgets/controls",
       "_view_module_version": "2.0.0",
       "_view_name": "HBoxView",
       "box_style": "",
       "children": [
        "IPY_MODEL_93e0710d91d048a9922a7d751035a959",
        "IPY_MODEL_aa6ffaee473544d484653d49856608d6",
        "IPY_MODEL_a3a7ab1102604efc881e185e38dab0cd"
       ],
       "layout": "IPY_MODEL_9d8bb980709b4720902ea3e17a839d3c",
       "tabbable": null,
       "tooltip": null
      }
     },
     "43df9a1b30214c43ac958a47bcf60a30": {
      "model_module": "@jupyter-widgets/base",
      "model_module_version": "2.0.0",
      "model_name": "LayoutModel",
      "state": {
       "_model_module": "@jupyter-widgets/base",
       "_model_module_version": "2.0.0",
       "_model_name": "LayoutModel",
       "_view_count": null,
       "_view_module": "@jupyter-widgets/base",
       "_view_module_version": "2.0.0",
       "_view_name": "LayoutView",
       "align_content": null,
       "align_items": null,
       "align_self": null,
       "border_bottom": null,
       "border_left": null,
       "border_right": null,
       "border_top": null,
       "bottom": null,
       "display": null,
       "flex": null,
       "flex_flow": null,
       "grid_area": null,
       "grid_auto_columns": null,
       "grid_auto_flow": null,
       "grid_auto_rows": null,
       "grid_column": null,
       "grid_gap": null,
       "grid_row": null,
       "grid_template_areas": null,
       "grid_template_columns": null,
       "grid_template_rows": null,
       "height": null,
       "justify_content": null,
       "justify_items": null,
       "left": null,
       "margin": null,
       "max_height": null,
       "max_width": null,
       "min_height": null,
       "min_width": null,
       "object_fit": null,
       "object_position": null,
       "order": null,
       "overflow": null,
       "padding": null,
       "right": null,
       "top": null,
       "visibility": null,
       "width": null
      }
     },
     "48ae30bcedc1403e93aca05e7d7d9d2c": {
      "model_module": "@jupyter-widgets/base",
      "model_module_version": "2.0.0",
      "model_name": "LayoutModel",
      "state": {
       "_model_module": "@jupyter-widgets/base",
       "_model_module_version": "2.0.0",
       "_model_name": "LayoutModel",
       "_view_count": null,
       "_view_module": "@jupyter-widgets/base",
       "_view_module_version": "2.0.0",
       "_view_name": "LayoutView",
       "align_content": null,
       "align_items": null,
       "align_self": null,
       "border_bottom": null,
       "border_left": null,
       "border_right": null,
       "border_top": null,
       "bottom": null,
       "display": null,
       "flex": null,
       "flex_flow": null,
       "grid_area": null,
       "grid_auto_columns": null,
       "grid_auto_flow": null,
       "grid_auto_rows": null,
       "grid_column": null,
       "grid_gap": null,
       "grid_row": null,
       "grid_template_areas": null,
       "grid_template_columns": null,
       "grid_template_rows": null,
       "height": null,
       "justify_content": null,
       "justify_items": null,
       "left": null,
       "margin": null,
       "max_height": null,
       "max_width": null,
       "min_height": null,
       "min_width": null,
       "object_fit": null,
       "object_position": null,
       "order": null,
       "overflow": null,
       "padding": null,
       "right": null,
       "top": null,
       "visibility": null,
       "width": null
      }
     },
     "49b6c5ac017449c7bd1aac95852b0900": {
      "model_module": "@jupyter-widgets/base",
      "model_module_version": "2.0.0",
      "model_name": "LayoutModel",
      "state": {
       "_model_module": "@jupyter-widgets/base",
       "_model_module_version": "2.0.0",
       "_model_name": "LayoutModel",
       "_view_count": null,
       "_view_module": "@jupyter-widgets/base",
       "_view_module_version": "2.0.0",
       "_view_name": "LayoutView",
       "align_content": null,
       "align_items": null,
       "align_self": null,
       "border_bottom": null,
       "border_left": null,
       "border_right": null,
       "border_top": null,
       "bottom": null,
       "display": null,
       "flex": null,
       "flex_flow": null,
       "grid_area": null,
       "grid_auto_columns": null,
       "grid_auto_flow": null,
       "grid_auto_rows": null,
       "grid_column": null,
       "grid_gap": null,
       "grid_row": null,
       "grid_template_areas": null,
       "grid_template_columns": null,
       "grid_template_rows": null,
       "height": null,
       "justify_content": null,
       "justify_items": null,
       "left": null,
       "margin": null,
       "max_height": null,
       "max_width": null,
       "min_height": null,
       "min_width": null,
       "object_fit": null,
       "object_position": null,
       "order": null,
       "overflow": null,
       "padding": null,
       "right": null,
       "top": null,
       "visibility": null,
       "width": null
      }
     },
     "5813d7f53a4f4806afef9cd443d4414f": {
      "model_module": "@jupyter-widgets/controls",
      "model_module_version": "2.0.0",
      "model_name": "ProgressStyleModel",
      "state": {
       "_model_module": "@jupyter-widgets/controls",
       "_model_module_version": "2.0.0",
       "_model_name": "ProgressStyleModel",
       "_view_count": null,
       "_view_module": "@jupyter-widgets/base",
       "_view_module_version": "2.0.0",
       "_view_name": "StyleView",
       "bar_color": null,
       "description_width": ""
      }
     },
     "5d785b1f759442398771560b2319f74f": {
      "model_module": "@jupyter-widgets/controls",
      "model_module_version": "2.0.0",
      "model_name": "HTMLStyleModel",
      "state": {
       "_model_module": "@jupyter-widgets/controls",
       "_model_module_version": "2.0.0",
       "_model_name": "HTMLStyleModel",
       "_view_count": null,
       "_view_module": "@jupyter-widgets/base",
       "_view_module_version": "2.0.0",
       "_view_name": "StyleView",
       "background": null,
       "description_width": "",
       "font_size": null,
       "text_color": null
      }
     },
     "6538a37b05ae48dd9e13a2d461c72253": {
      "model_module": "@jupyter-widgets/base",
      "model_module_version": "2.0.0",
      "model_name": "LayoutModel",
      "state": {
       "_model_module": "@jupyter-widgets/base",
       "_model_module_version": "2.0.0",
       "_model_name": "LayoutModel",
       "_view_count": null,
       "_view_module": "@jupyter-widgets/base",
       "_view_module_version": "2.0.0",
       "_view_name": "LayoutView",
       "align_content": null,
       "align_items": null,
       "align_self": null,
       "border_bottom": null,
       "border_left": null,
       "border_right": null,
       "border_top": null,
       "bottom": null,
       "display": null,
       "flex": null,
       "flex_flow": null,
       "grid_area": null,
       "grid_auto_columns": null,
       "grid_auto_flow": null,
       "grid_auto_rows": null,
       "grid_column": null,
       "grid_gap": null,
       "grid_row": null,
       "grid_template_areas": null,
       "grid_template_columns": null,
       "grid_template_rows": null,
       "height": null,
       "justify_content": null,
       "justify_items": null,
       "left": null,
       "margin": null,
       "max_height": null,
       "max_width": null,
       "min_height": null,
       "min_width": null,
       "object_fit": null,
       "object_position": null,
       "order": null,
       "overflow": null,
       "padding": null,
       "right": null,
       "top": null,
       "visibility": null,
       "width": null
      }
     },
     "6c0266c809244fb38386b96fccf077c4": {
      "model_module": "@jupyter-widgets/controls",
      "model_module_version": "2.0.0",
      "model_name": "HTMLStyleModel",
      "state": {
       "_model_module": "@jupyter-widgets/controls",
       "_model_module_version": "2.0.0",
       "_model_name": "HTMLStyleModel",
       "_view_count": null,
       "_view_module": "@jupyter-widgets/base",
       "_view_module_version": "2.0.0",
       "_view_name": "StyleView",
       "background": null,
       "description_width": "",
       "font_size": null,
       "text_color": null
      }
     },
     "78c1d5bec58e47abb5147be92be50274": {
      "model_module": "@jupyter-widgets/controls",
      "model_module_version": "2.0.0",
      "model_name": "HTMLModel",
      "state": {
       "_dom_classes": [],
       "_model_module": "@jupyter-widgets/controls",
       "_model_module_version": "2.0.0",
       "_model_name": "HTMLModel",
       "_view_count": null,
       "_view_module": "@jupyter-widgets/controls",
       "_view_module_version": "2.0.0",
       "_view_name": "HTMLView",
       "description": "",
       "description_allow_html": false,
       "layout": "IPY_MODEL_13e865ddadb14c4e888ea6d3444a9ead",
       "placeholder": "​",
       "style": "IPY_MODEL_6c0266c809244fb38386b96fccf077c4",
       "tabbable": null,
       "tooltip": null,
       "value": "100000/100000 [00:19&lt;00:00, 21773.00it/s]"
      }
     },
     "7931c5e22e7a46bb98b89186f44e3e98": {
      "model_module": "@jupyter-widgets/controls",
      "model_module_version": "2.0.0",
      "model_name": "HTMLStyleModel",
      "state": {
       "_model_module": "@jupyter-widgets/controls",
       "_model_module_version": "2.0.0",
       "_model_name": "HTMLStyleModel",
       "_view_count": null,
       "_view_module": "@jupyter-widgets/base",
       "_view_module_version": "2.0.0",
       "_view_name": "StyleView",
       "background": null,
       "description_width": "",
       "font_size": null,
       "text_color": null
      }
     },
     "878d74a98b224f82a9089e48b90373c5": {
      "model_module": "@jupyter-widgets/controls",
      "model_module_version": "2.0.0",
      "model_name": "HTMLStyleModel",
      "state": {
       "_model_module": "@jupyter-widgets/controls",
       "_model_module_version": "2.0.0",
       "_model_name": "HTMLStyleModel",
       "_view_count": null,
       "_view_module": "@jupyter-widgets/base",
       "_view_module_version": "2.0.0",
       "_view_name": "StyleView",
       "background": null,
       "description_width": "",
       "font_size": null,
       "text_color": null
      }
     },
     "93e0710d91d048a9922a7d751035a959": {
      "model_module": "@jupyter-widgets/controls",
      "model_module_version": "2.0.0",
      "model_name": "HTMLModel",
      "state": {
       "_dom_classes": [],
       "_model_module": "@jupyter-widgets/controls",
       "_model_module_version": "2.0.0",
       "_model_name": "HTMLModel",
       "_view_count": null,
       "_view_module": "@jupyter-widgets/controls",
       "_view_module_version": "2.0.0",
       "_view_name": "HTMLView",
       "description": "",
       "description_allow_html": false,
       "layout": "IPY_MODEL_04bf2f8e861a47f3b610c87346c69b09",
       "placeholder": "​",
       "style": "IPY_MODEL_5d785b1f759442398771560b2319f74f",
       "tabbable": null,
       "tooltip": null,
       "value": "Iterations:"
      }
     },
     "9b0a9d264bbc43eda92f224238864f16": {
      "model_module": "@jupyter-widgets/controls",
      "model_module_version": "2.0.0",
      "model_name": "HTMLStyleModel",
      "state": {
       "_model_module": "@jupyter-widgets/controls",
       "_model_module_version": "2.0.0",
       "_model_name": "HTMLStyleModel",
       "_view_count": null,
       "_view_module": "@jupyter-widgets/base",
       "_view_module_version": "2.0.0",
       "_view_name": "StyleView",
       "background": null,
       "description_width": "",
       "font_size": null,
       "text_color": null
      }
     },
     "9c51e67c31b34fbb913be628385be9e8": {
      "model_module": "@jupyter-widgets/controls",
      "model_module_version": "2.0.0",
      "model_name": "HBoxModel",
      "state": {
       "_dom_classes": [],
       "_model_module": "@jupyter-widgets/controls",
       "_model_module_version": "2.0.0",
       "_model_name": "HBoxModel",
       "_view_count": null,
       "_view_module": "@jupyter-widgets/controls",
       "_view_module_version": "2.0.0",
       "_view_name": "HBoxView",
       "box_style": "",
       "children": [
        "IPY_MODEL_a536a86f1e77486f98160ea0eaa596de",
        "IPY_MODEL_37071875a15946aa958f2714299fac64",
        "IPY_MODEL_1b9c984658b4417da04a29d3a2ef965e"
       ],
       "layout": "IPY_MODEL_43df9a1b30214c43ac958a47bcf60a30",
       "tabbable": null,
       "tooltip": null
      }
     },
     "9d8bb980709b4720902ea3e17a839d3c": {
      "model_module": "@jupyter-widgets/base",
      "model_module_version": "2.0.0",
      "model_name": "LayoutModel",
      "state": {
       "_model_module": "@jupyter-widgets/base",
       "_model_module_version": "2.0.0",
       "_model_name": "LayoutModel",
       "_view_count": null,
       "_view_module": "@jupyter-widgets/base",
       "_view_module_version": "2.0.0",
       "_view_name": "LayoutView",
       "align_content": null,
       "align_items": null,
       "align_self": null,
       "border_bottom": null,
       "border_left": null,
       "border_right": null,
       "border_top": null,
       "bottom": null,
       "display": null,
       "flex": null,
       "flex_flow": null,
       "grid_area": null,
       "grid_auto_columns": null,
       "grid_auto_flow": null,
       "grid_auto_rows": null,
       "grid_column": null,
       "grid_gap": null,
       "grid_row": null,
       "grid_template_areas": null,
       "grid_template_columns": null,
       "grid_template_rows": null,
       "height": null,
       "justify_content": null,
       "justify_items": null,
       "left": null,
       "margin": null,
       "max_height": null,
       "max_width": null,
       "min_height": null,
       "min_width": null,
       "object_fit": null,
       "object_position": null,
       "order": null,
       "overflow": null,
       "padding": null,
       "right": null,
       "top": null,
       "visibility": null,
       "width": null
      }
     },
     "a0d9ef41d0164334baf5db553b3ddaba": {
      "model_module": "@jupyter-widgets/controls",
      "model_module_version": "2.0.0",
      "model_name": "FloatProgressModel",
      "state": {
       "_dom_classes": [],
       "_model_module": "@jupyter-widgets/controls",
       "_model_module_version": "2.0.0",
       "_model_name": "FloatProgressModel",
       "_view_count": null,
       "_view_module": "@jupyter-widgets/controls",
       "_view_module_version": "2.0.0",
       "_view_name": "ProgressView",
       "bar_style": "info",
       "description": "",
       "description_allow_html": false,
       "layout": "IPY_MODEL_cdc88310fac64646878188b77cc8d97e",
       "max": 1.0,
       "min": 0.0,
       "orientation": "horizontal",
       "style": "IPY_MODEL_e5e8a12858494475a37de5b8d4ab35bd",
       "tabbable": null,
       "tooltip": null,
       "value": 0.0
      }
     },
     "a3a7ab1102604efc881e185e38dab0cd": {
      "model_module": "@jupyter-widgets/controls",
      "model_module_version": "2.0.0",
      "model_name": "HTMLModel",
      "state": {
       "_dom_classes": [],
       "_model_module": "@jupyter-widgets/controls",
       "_model_module_version": "2.0.0",
       "_model_name": "HTMLModel",
       "_view_count": null,
       "_view_module": "@jupyter-widgets/controls",
       "_view_module_version": "2.0.0",
       "_view_name": "HTMLView",
       "description": "",
       "description_allow_html": false,
       "layout": "IPY_MODEL_6538a37b05ae48dd9e13a2d461c72253",
       "placeholder": "​",
       "style": "IPY_MODEL_feb7856ba2c74d4d93838a1945ecbf4d",
       "tabbable": null,
       "tooltip": null,
       "value": "20/20 [01:03&lt;00:00,  7.06s/it]"
      }
     },
     "a536a86f1e77486f98160ea0eaa596de": {
      "model_module": "@jupyter-widgets/controls",
      "model_module_version": "2.0.0",
      "model_name": "HTMLModel",
      "state": {
       "_dom_classes": [],
       "_model_module": "@jupyter-widgets/controls",
       "_model_module_version": "2.0.0",
       "_model_name": "HTMLModel",
       "_view_count": null,
       "_view_module": "@jupyter-widgets/controls",
       "_view_module_version": "2.0.0",
       "_view_name": "HTMLView",
       "description": "",
       "description_allow_html": false,
       "layout": "IPY_MODEL_a835c2399923491384cd9a93b123d903",
       "placeholder": "​",
       "style": "IPY_MODEL_da681546091e4386b539a9535d9eec43",
       "tabbable": null,
       "tooltip": null,
       "value": "Packets:   "
      }
     },
     "a835c2399923491384cd9a93b123d903": {
      "model_module": "@jupyter-widgets/base",
      "model_module_version": "2.0.0",
      "model_name": "LayoutModel",
      "state": {
       "_model_module": "@jupyter-widgets/base",
       "_model_module_version": "2.0.0",
       "_model_name": "LayoutModel",
       "_view_count": null,
       "_view_module": "@jupyter-widgets/base",
       "_view_module_version": "2.0.0",
       "_view_name": "LayoutView",
       "align_content": null,
       "align_items": null,
       "align_self": null,
       "border_bottom": null,
       "border_left": null,
       "border_right": null,
       "border_top": null,
       "bottom": null,
       "display": null,
       "flex": null,
       "flex_flow": null,
       "grid_area": null,
       "grid_auto_columns": null,
       "grid_auto_flow": null,
       "grid_auto_rows": null,
       "grid_column": null,
       "grid_gap": null,
       "grid_row": null,
       "grid_template_areas": null,
       "grid_template_columns": null,
       "grid_template_rows": null,
       "height": null,
       "justify_content": null,
       "justify_items": null,
       "left": null,
       "margin": null,
       "max_height": null,
       "max_width": null,
       "min_height": null,
       "min_width": null,
       "object_fit": null,
       "object_position": null,
       "order": null,
       "overflow": null,
       "padding": null,
       "right": null,
       "top": null,
       "visibility": null,
       "width": null
      }
     },
     "aa6ffaee473544d484653d49856608d6": {
      "model_module": "@jupyter-widgets/controls",
      "model_module_version": "2.0.0",
      "model_name": "FloatProgressModel",
      "state": {
       "_dom_classes": [],
       "_model_module": "@jupyter-widgets/controls",
       "_model_module_version": "2.0.0",
       "_model_name": "FloatProgressModel",
       "_view_count": null,
       "_view_module": "@jupyter-widgets/controls",
       "_view_module_version": "2.0.0",
       "_view_name": "ProgressView",
       "bar_style": "",
       "description": "",
       "description_allow_html": false,
       "layout": "IPY_MODEL_e79b82a474274f8984bc20bc18beef96",
       "max": 20.0,
       "min": 0.0,
       "orientation": "horizontal",
       "style": "IPY_MODEL_c0e4dce6896a4cdab04eb08f5b251f1b",
       "tabbable": null,
       "tooltip": null,
       "value": 20.0
      }
     },
     "aee9f3aa12b247faad1b91eeddc8fee9": {
      "model_module": "@jupyter-widgets/base",
      "model_module_version": "2.0.0",
      "model_name": "LayoutModel",
      "state": {
       "_model_module": "@jupyter-widgets/base",
       "_model_module_version": "2.0.0",
       "_model_name": "LayoutModel",
       "_view_count": null,
       "_view_module": "@jupyter-widgets/base",
       "_view_module_version": "2.0.0",
       "_view_name": "LayoutView",
       "align_content": null,
       "align_items": null,
       "align_self": null,
       "border_bottom": null,
       "border_left": null,
       "border_right": null,
       "border_top": null,
       "bottom": null,
       "display": null,
       "flex": null,
       "flex_flow": null,
       "grid_area": null,
       "grid_auto_columns": null,
       "grid_auto_flow": null,
       "grid_auto_rows": null,
       "grid_column": null,
       "grid_gap": null,
       "grid_row": null,
       "grid_template_areas": null,
       "grid_template_columns": null,
       "grid_template_rows": null,
       "height": null,
       "justify_content": null,
       "justify_items": null,
       "left": null,
       "margin": null,
       "max_height": null,
       "max_width": null,
       "min_height": null,
       "min_width": null,
       "object_fit": null,
       "object_position": null,
       "order": null,
       "overflow": null,
       "padding": null,
       "right": null,
       "top": null,
       "visibility": null,
       "width": null
      }
     },
     "b115de1b5ea647229ee0fe9399720663": {
      "model_module": "@jupyter-widgets/controls",
      "model_module_version": "2.0.0",
      "model_name": "HTMLStyleModel",
      "state": {
       "_model_module": "@jupyter-widgets/controls",
       "_model_module_version": "2.0.0",
       "_model_name": "HTMLStyleModel",
       "_view_count": null,
       "_view_module": "@jupyter-widgets/base",
       "_view_module_version": "2.0.0",
       "_view_name": "StyleView",
       "background": null,
       "description_width": "",
       "font_size": null,
       "text_color": null
      }
     },
     "b42bc74fee0f419f988659950d58c8cc": {
      "model_module": "@jupyter-widgets/controls",
      "model_module_version": "2.0.0",
      "model_name": "HTMLModel",
      "state": {
       "_dom_classes": [],
       "_model_module": "@jupyter-widgets/controls",
       "_model_module_version": "2.0.0",
       "_model_name": "HTMLModel",
       "_view_count": null,
       "_view_module": "@jupyter-widgets/controls",
       "_view_module_version": "2.0.0",
       "_view_name": "HTMLView",
       "description": "",
       "description_allow_html": false,
       "layout": "IPY_MODEL_dae2c7be17a3410b9103d92fb6d18ed0",
       "placeholder": "​",
       "style": "IPY_MODEL_7931c5e22e7a46bb98b89186f44e3e98",
       "tabbable": null,
       "tooltip": null,
       "value": "Packets:   "
      }
     },
     "c0e4dce6896a4cdab04eb08f5b251f1b": {
      "model_module": "@jupyter-widgets/controls",
      "model_module_version": "2.0.0",
      "model_name": "ProgressStyleModel",
      "state": {
       "_model_module": "@jupyter-widgets/controls",
       "_model_module_version": "2.0.0",
       "_model_name": "ProgressStyleModel",
       "_view_count": null,
       "_view_module": "@jupyter-widgets/base",
       "_view_module_version": "2.0.0",
       "_view_name": "StyleView",
       "bar_color": null,
       "description_width": ""
      }
     },
     "cdc88310fac64646878188b77cc8d97e": {
      "model_module": "@jupyter-widgets/base",
      "model_module_version": "2.0.0",
      "model_name": "LayoutModel",
      "state": {
       "_model_module": "@jupyter-widgets/base",
       "_model_module_version": "2.0.0",
       "_model_name": "LayoutModel",
       "_view_count": null,
       "_view_module": "@jupyter-widgets/base",
       "_view_module_version": "2.0.0",
       "_view_name": "LayoutView",
       "align_content": null,
       "align_items": null,
       "align_self": null,
       "border_bottom": null,
       "border_left": null,
       "border_right": null,
       "border_top": null,
       "bottom": null,
       "display": null,
       "flex": null,
       "flex_flow": null,
       "grid_area": null,
       "grid_auto_columns": null,
       "grid_auto_flow": null,
       "grid_auto_rows": null,
       "grid_column": null,
       "grid_gap": null,
       "grid_row": null,
       "grid_template_areas": null,
       "grid_template_columns": null,
       "grid_template_rows": null,
       "height": null,
       "justify_content": null,
       "justify_items": null,
       "left": null,
       "margin": null,
       "max_height": null,
       "max_width": null,
       "min_height": null,
       "min_width": null,
       "object_fit": null,
       "object_position": null,
       "order": null,
       "overflow": null,
       "padding": null,
       "right": null,
       "top": null,
       "visibility": null,
       "width": "20px"
      }
     },
     "da681546091e4386b539a9535d9eec43": {
      "model_module": "@jupyter-widgets/controls",
      "model_module_version": "2.0.0",
      "model_name": "HTMLStyleModel",
      "state": {
       "_model_module": "@jupyter-widgets/controls",
       "_model_module_version": "2.0.0",
       "_model_name": "HTMLStyleModel",
       "_view_count": null,
       "_view_module": "@jupyter-widgets/base",
       "_view_module_version": "2.0.0",
       "_view_name": "StyleView",
       "background": null,
       "description_width": "",
       "font_size": null,
       "text_color": null
      }
     },
     "dae2c7be17a3410b9103d92fb6d18ed0": {
      "model_module": "@jupyter-widgets/base",
      "model_module_version": "2.0.0",
      "model_name": "LayoutModel",
      "state": {
       "_model_module": "@jupyter-widgets/base",
       "_model_module_version": "2.0.0",
       "_model_name": "LayoutModel",
       "_view_count": null,
       "_view_module": "@jupyter-widgets/base",
       "_view_module_version": "2.0.0",
       "_view_name": "LayoutView",
       "align_content": null,
       "align_items": null,
       "align_self": null,
       "border_bottom": null,
       "border_left": null,
       "border_right": null,
       "border_top": null,
       "bottom": null,
       "display": null,
       "flex": null,
       "flex_flow": null,
       "grid_area": null,
       "grid_auto_columns": null,
       "grid_auto_flow": null,
       "grid_auto_rows": null,
       "grid_column": null,
       "grid_gap": null,
       "grid_row": null,
       "grid_template_areas": null,
       "grid_template_columns": null,
       "grid_template_rows": null,
       "height": null,
       "justify_content": null,
       "justify_items": null,
       "left": null,
       "margin": null,
       "max_height": null,
       "max_width": null,
       "min_height": null,
       "min_width": null,
       "object_fit": null,
       "object_position": null,
       "order": null,
       "overflow": null,
       "padding": null,
       "right": null,
       "top": null,
       "visibility": null,
       "width": "6%"
      }
     },
     "e590c67920c74f6baa240f190fbf8238": {
      "model_module": "@jupyter-widgets/controls",
      "model_module_version": "2.0.0",
      "model_name": "HBoxModel",
      "state": {
       "_dom_classes": [],
       "_model_module": "@jupyter-widgets/controls",
       "_model_module_version": "2.0.0",
       "_model_name": "HBoxModel",
       "_view_count": null,
       "_view_module": "@jupyter-widgets/controls",
       "_view_module_version": "2.0.0",
       "_view_name": "HBoxView",
       "box_style": "",
       "children": [
        "IPY_MODEL_0dc7ce20c1e84f3d90cb0ed88fa29685",
        "IPY_MODEL_a0d9ef41d0164334baf5db553b3ddaba",
        "IPY_MODEL_1272da3251334eb8830ec771e0156885"
       ],
       "layout": "IPY_MODEL_49b6c5ac017449c7bd1aac95852b0900",
       "tabbable": null,
       "tooltip": null
      }
     },
     "e5e8a12858494475a37de5b8d4ab35bd": {
      "model_module": "@jupyter-widgets/controls",
      "model_module_version": "2.0.0",
      "model_name": "ProgressStyleModel",
      "state": {
       "_model_module": "@jupyter-widgets/controls",
       "_model_module_version": "2.0.0",
       "_model_name": "ProgressStyleModel",
       "_view_count": null,
       "_view_module": "@jupyter-widgets/base",
       "_view_module_version": "2.0.0",
       "_view_name": "StyleView",
       "bar_color": null,
       "description_width": ""
      }
     },
     "e79b82a474274f8984bc20bc18beef96": {
      "model_module": "@jupyter-widgets/base",
      "model_module_version": "2.0.0",
      "model_name": "LayoutModel",
      "state": {
       "_model_module": "@jupyter-widgets/base",
       "_model_module_version": "2.0.0",
       "_model_name": "LayoutModel",
       "_view_count": null,
       "_view_module": "@jupyter-widgets/base",
       "_view_module_version": "2.0.0",
       "_view_name": "LayoutView",
       "align_content": null,
       "align_items": null,
       "align_self": null,
       "border_bottom": null,
       "border_left": null,
       "border_right": null,
       "border_top": null,
       "bottom": null,
       "display": null,
       "flex": null,
       "flex_flow": null,
       "grid_area": null,
       "grid_auto_columns": null,
       "grid_auto_flow": null,
       "grid_auto_rows": null,
       "grid_column": null,
       "grid_gap": null,
       "grid_row": null,
       "grid_template_areas": null,
       "grid_template_columns": null,
       "grid_template_rows": null,
       "height": null,
       "justify_content": null,
       "justify_items": null,
       "left": null,
       "margin": null,
       "max_height": null,
       "max_width": null,
       "min_height": null,
       "min_width": null,
       "object_fit": null,
       "object_position": null,
       "order": null,
       "overflow": null,
       "padding": null,
       "right": null,
       "top": null,
       "visibility": null,
       "width": "60%"
      }
     },
     "eacaa1c44ae44e9386087496effd35ed": {
      "model_module": "@jupyter-widgets/base",
      "model_module_version": "2.0.0",
      "model_name": "LayoutModel",
      "state": {
       "_model_module": "@jupyter-widgets/base",
       "_model_module_version": "2.0.0",
       "_model_name": "LayoutModel",
       "_view_count": null,
       "_view_module": "@jupyter-widgets/base",
       "_view_module_version": "2.0.0",
       "_view_name": "LayoutView",
       "align_content": null,
       "align_items": null,
       "align_self": null,
       "border_bottom": null,
       "border_left": null,
       "border_right": null,
       "border_top": null,
       "bottom": null,
       "display": null,
       "flex": null,
       "flex_flow": null,
       "grid_area": null,
       "grid_auto_columns": null,
       "grid_auto_flow": null,
       "grid_auto_rows": null,
       "grid_column": null,
       "grid_gap": null,
       "grid_row": null,
       "grid_template_areas": null,
       "grid_template_columns": null,
       "grid_template_rows": null,
       "height": null,
       "justify_content": null,
       "justify_items": null,
       "left": null,
       "margin": null,
       "max_height": null,
       "max_width": null,
       "min_height": null,
       "min_width": null,
       "object_fit": null,
       "object_position": null,
       "order": null,
       "overflow": null,
       "padding": null,
       "right": null,
       "top": null,
       "visibility": null,
       "width": "20px"
      }
     },
     "ef6744a723d7499d88a2c2b6882c4297": {
      "model_module": "@jupyter-widgets/controls",
      "model_module_version": "2.0.0",
      "model_name": "FloatProgressModel",
      "state": {
       "_dom_classes": [],
       "_model_module": "@jupyter-widgets/controls",
       "_model_module_version": "2.0.0",
       "_model_name": "FloatProgressModel",
       "_view_count": null,
       "_view_module": "@jupyter-widgets/controls",
       "_view_module_version": "2.0.0",
       "_view_name": "ProgressView",
       "bar_style": "",
       "description": "",
       "description_allow_html": false,
       "layout": "IPY_MODEL_1c1361f4edf443c88b437a88879a713d",
       "max": 100000.0,
       "min": 0.0,
       "orientation": "horizontal",
       "style": "IPY_MODEL_3d773ea730c642ab81ec36a6070ad23e",
       "tabbable": null,
       "tooltip": null,
       "value": 100000.0
      }
     },
     "fbc4e7ed09a5491589b3026773c91c73": {
      "model_module": "@jupyter-widgets/base",
      "model_module_version": "2.0.0",
      "model_name": "LayoutModel",
      "state": {
       "_model_module": "@jupyter-widgets/base",
       "_model_module_version": "2.0.0",
       "_model_name": "LayoutModel",
       "_view_count": null,
       "_view_module": "@jupyter-widgets/base",
       "_view_module_version": "2.0.0",
       "_view_name": "LayoutView",
       "align_content": null,
       "align_items": null,
       "align_self": null,
       "border_bottom": null,
       "border_left": null,
       "border_right": null,
       "border_top": null,
       "bottom": null,
       "display": null,
       "flex": null,
       "flex_flow": null,
       "grid_area": null,
       "grid_auto_columns": null,
       "grid_auto_flow": null,
       "grid_auto_rows": null,
       "grid_column": null,
       "grid_gap": null,
       "grid_row": null,
       "grid_template_areas": null,
       "grid_template_columns": null,
       "grid_template_rows": null,
       "height": null,
       "justify_content": null,
       "justify_items": null,
       "left": null,
       "margin": null,
       "max_height": null,
       "max_width": null,
       "min_height": null,
       "min_width": null,
       "object_fit": null,
       "object_position": null,
       "order": null,
       "overflow": null,
       "padding": null,
       "right": null,
       "top": null,
       "visibility": null,
       "width": null
      }
     },
     "feb7856ba2c74d4d93838a1945ecbf4d": {
      "model_module": "@jupyter-widgets/controls",
      "model_module_version": "2.0.0",
      "model_name": "HTMLStyleModel",
      "state": {
       "_model_module": "@jupyter-widgets/controls",
       "_model_module_version": "2.0.0",
       "_model_name": "HTMLStyleModel",
       "_view_count": null,
       "_view_module": "@jupyter-widgets/base",
       "_view_module_version": "2.0.0",
       "_view_name": "StyleView",
       "background": null,
       "description_width": "",
       "font_size": null,
       "text_color": null
      }
     }
    },
    "version_major": 2,
    "version_minor": 0
   }
  }
 },
 "nbformat": 4,
 "nbformat_minor": 4
}
