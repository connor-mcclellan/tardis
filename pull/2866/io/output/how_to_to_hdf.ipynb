{
 "cells": [
  {
   "attachments": {},
   "cell_type": "markdown",
   "metadata": {
    "raw_mimetype": "text/restructuredtext"
   },
   "source": [
    "# How to Store Simulations to HDF\n",
    "\n",
    "You can ask TARDIS to store the state of each iteration of the simulation you are running. We show examples of how this is done:"
   ]
  },
  {
   "attachments": {},
   "cell_type": "markdown",
   "metadata": {},
   "source": [
    "Initialize the simulation with the `tardis_example.yml` configuration file."
   ]
  },
  {
   "cell_type": "code",
   "execution_count": 1,
   "metadata": {
    "execution": {
     "iopub.execute_input": "2025-06-23T14:59:12.485267Z",
     "iopub.status.busy": "2025-06-23T14:59:12.485049Z",
     "iopub.status.idle": "2025-06-23T15:00:17.858955Z",
     "shell.execute_reply": "2025-06-23T15:00:17.858331Z"
    }
   },
   "outputs": [
    {
     "data": {
      "application/vnd.jupyter.widget-view+json": {
       "model_id": "1ff58a7696db4a1fb75dfafb74cbfdd5",
       "version_major": 2,
       "version_minor": 0
      },
      "text/plain": [
       "Iterations:          0/? [00:00<?, ?it/s]"
      ]
     },
     "metadata": {},
     "output_type": "display_data"
    },
    {
     "data": {
      "application/vnd.jupyter.widget-view+json": {
       "model_id": "b272feab25ae440aa5dc858eacd600e3",
       "version_major": 2,
       "version_minor": 0
      },
      "text/plain": [
       "Packets:             0/? [00:00<?, ?it/s]"
      ]
     },
     "metadata": {},
     "output_type": "display_data"
    },
    {
     "name": "stderr",
     "output_type": "stream",
     "text": [
      "Atomic Data kurucz_cd23_chianti_H_He_latest already exists in /home/runner/Downloads/tardis-data/kurucz_cd23_chianti_H_He_latest.h5. Will not download - override with force_download=True.\n"
     ]
    },
    {
     "data": {
      "text/html": [
       "<script type=\"esms-options\">{\"shimMode\": true}</script><style>*[data-root-id],\n",
       "*[data-root-id] > * {\n",
       "  box-sizing: border-box;\n",
       "  font-family: var(--jp-ui-font-family);\n",
       "  font-size: var(--jp-ui-font-size1);\n",
       "  color: var(--vscode-editor-foreground, var(--jp-ui-font-color1));\n",
       "}\n",
       "\n",
       "/* Override VSCode background color */\n",
       ".cell-output-ipywidget-background:has(\n",
       "    > .cell-output-ipywidget-background > .lm-Widget > *[data-root-id]\n",
       "  ),\n",
       ".cell-output-ipywidget-background:has(> .lm-Widget > *[data-root-id]) {\n",
       "  background-color: transparent !important;\n",
       "}\n",
       "</style>"
      ]
     },
     "metadata": {},
     "output_type": "display_data"
    },
    {
     "data": {
      "application/javascript": [
       "(function(root) {\n",
       "  function now() {\n",
       "    return new Date();\n",
       "  }\n",
       "\n",
       "  const force = true;\n",
       "  const py_version = '3.7.3'.replace('rc', '-rc.').replace('.dev', '-dev.');\n",
       "  const reloading = false;\n",
       "  const Bokeh = root.Bokeh;\n",
       "\n",
       "  // Set a timeout for this load but only if we are not already initializing\n",
       "  if (typeof (root._bokeh_timeout) === \"undefined\" || (force || !root._bokeh_is_initializing)) {\n",
       "    root._bokeh_timeout = Date.now() + 5000;\n",
       "    root._bokeh_failed_load = false;\n",
       "  }\n",
       "\n",
       "  function run_callbacks() {\n",
       "    try {\n",
       "      root._bokeh_onload_callbacks.forEach(function(callback) {\n",
       "        if (callback != null)\n",
       "          callback();\n",
       "      });\n",
       "    } finally {\n",
       "      delete root._bokeh_onload_callbacks;\n",
       "    }\n",
       "    console.debug(\"Bokeh: all callbacks have finished\");\n",
       "  }\n",
       "\n",
       "  function load_libs(css_urls, js_urls, js_modules, js_exports, callback) {\n",
       "    if (css_urls == null) css_urls = [];\n",
       "    if (js_urls == null) js_urls = [];\n",
       "    if (js_modules == null) js_modules = [];\n",
       "    if (js_exports == null) js_exports = {};\n",
       "\n",
       "    root._bokeh_onload_callbacks.push(callback);\n",
       "\n",
       "    if (root._bokeh_is_loading > 0) {\n",
       "      // Don't load bokeh if it is still initializing\n",
       "      console.debug(\"Bokeh: BokehJS is being loaded, scheduling callback at\", now());\n",
       "      return null;\n",
       "    } else if (js_urls.length === 0 && js_modules.length === 0 && Object.keys(js_exports).length === 0) {\n",
       "      // There is nothing to load\n",
       "      run_callbacks();\n",
       "      return null;\n",
       "    }\n",
       "\n",
       "    function on_load() {\n",
       "      root._bokeh_is_loading--;\n",
       "      if (root._bokeh_is_loading === 0) {\n",
       "        console.debug(\"Bokeh: all BokehJS libraries/stylesheets loaded\");\n",
       "        run_callbacks()\n",
       "      }\n",
       "    }\n",
       "    window._bokeh_on_load = on_load\n",
       "\n",
       "    function on_error(e) {\n",
       "      const src_el = e.srcElement\n",
       "      console.error(\"failed to load \" + (src_el.href || src_el.src));\n",
       "    }\n",
       "\n",
       "    const skip = [];\n",
       "    if (window.requirejs) {\n",
       "      window.requirejs.config({'packages': {}, 'paths': {}, 'shim': {}});\n",
       "      root._bokeh_is_loading = css_urls.length + 0;\n",
       "    } else {\n",
       "      root._bokeh_is_loading = css_urls.length + js_urls.length + js_modules.length + Object.keys(js_exports).length;\n",
       "    }\n",
       "\n",
       "    const existing_stylesheets = []\n",
       "    const links = document.getElementsByTagName('link')\n",
       "    for (let i = 0; i < links.length; i++) {\n",
       "      const link = links[i]\n",
       "      if (link.href != null) {\n",
       "        existing_stylesheets.push(link.href)\n",
       "      }\n",
       "    }\n",
       "    for (let i = 0; i < css_urls.length; i++) {\n",
       "      const url = css_urls[i];\n",
       "      const escaped = encodeURI(url)\n",
       "      if (existing_stylesheets.indexOf(escaped) !== -1) {\n",
       "        on_load()\n",
       "        continue;\n",
       "      }\n",
       "      const element = document.createElement(\"link\");\n",
       "      element.onload = on_load;\n",
       "      element.onerror = on_error;\n",
       "      element.rel = \"stylesheet\";\n",
       "      element.type = \"text/css\";\n",
       "      element.href = url;\n",
       "      console.debug(\"Bokeh: injecting link tag for BokehJS stylesheet: \", url);\n",
       "      document.body.appendChild(element);\n",
       "    }    var existing_scripts = []\n",
       "    const scripts = document.getElementsByTagName('script')\n",
       "    for (let i = 0; i < scripts.length; i++) {\n",
       "      var script = scripts[i]\n",
       "      if (script.src != null) {\n",
       "        existing_scripts.push(script.src)\n",
       "      }\n",
       "    }\n",
       "    for (let i = 0; i < js_urls.length; i++) {\n",
       "      const url = js_urls[i];\n",
       "      const escaped = encodeURI(url)\n",
       "      if (skip.indexOf(escaped) !== -1 || existing_scripts.indexOf(escaped) !== -1) {\n",
       "        if (!window.requirejs) {\n",
       "          on_load();\n",
       "        }\n",
       "        continue;\n",
       "      }\n",
       "      const element = document.createElement('script');\n",
       "      element.onload = on_load;\n",
       "      element.onerror = on_error;\n",
       "      element.async = false;\n",
       "      element.src = url;\n",
       "      console.debug(\"Bokeh: injecting script tag for BokehJS library: \", url);\n",
       "      document.head.appendChild(element);\n",
       "    }\n",
       "    for (let i = 0; i < js_modules.length; i++) {\n",
       "      const url = js_modules[i];\n",
       "      const escaped = encodeURI(url)\n",
       "      if (skip.indexOf(escaped) !== -1 || existing_scripts.indexOf(escaped) !== -1) {\n",
       "        if (!window.requirejs) {\n",
       "          on_load();\n",
       "        }\n",
       "        continue;\n",
       "      }\n",
       "      var element = document.createElement('script');\n",
       "      element.onload = on_load;\n",
       "      element.onerror = on_error;\n",
       "      element.async = false;\n",
       "      element.src = url;\n",
       "      element.type = \"module\";\n",
       "      console.debug(\"Bokeh: injecting script tag for BokehJS library: \", url);\n",
       "      document.head.appendChild(element);\n",
       "    }\n",
       "    for (const name in js_exports) {\n",
       "      const url = js_exports[name];\n",
       "      const escaped = encodeURI(url)\n",
       "      if (skip.indexOf(escaped) >= 0 || root[name] != null) {\n",
       "        if (!window.requirejs) {\n",
       "          on_load();\n",
       "        }\n",
       "        continue;\n",
       "      }\n",
       "      var element = document.createElement('script');\n",
       "      element.onerror = on_error;\n",
       "      element.async = false;\n",
       "      element.type = \"module\";\n",
       "      console.debug(\"Bokeh: injecting script tag for BokehJS library: \", url);\n",
       "      element.textContent = `\n",
       "      import ${name} from \"${url}\"\n",
       "      window.${name} = ${name}\n",
       "      window._bokeh_on_load()\n",
       "      `\n",
       "      document.head.appendChild(element);\n",
       "    }\n",
       "    if (!js_urls.length && !js_modules.length) {\n",
       "      on_load()\n",
       "    }\n",
       "  };\n",
       "\n",
       "  function inject_raw_css(css) {\n",
       "    const element = document.createElement(\"style\");\n",
       "    element.appendChild(document.createTextNode(css));\n",
       "    document.body.appendChild(element);\n",
       "  }\n",
       "\n",
       "  const js_urls = [\"https://cdn.holoviz.org/panel/1.7.1/dist/bundled/reactiveesm/es-module-shims@^1.10.0/dist/es-module-shims.min.js\", \"https://cdn.bokeh.org/bokeh/release/bokeh-3.7.3.min.js\", \"https://cdn.bokeh.org/bokeh/release/bokeh-gl-3.7.3.min.js\", \"https://cdn.bokeh.org/bokeh/release/bokeh-widgets-3.7.3.min.js\", \"https://cdn.bokeh.org/bokeh/release/bokeh-tables-3.7.3.min.js\", \"https://cdn.holoviz.org/panel/1.7.1/dist/panel.min.js\"];\n",
       "  const js_modules = [];\n",
       "  const js_exports = {};\n",
       "  const css_urls = [];\n",
       "  const inline_js = [    function(Bokeh) {\n",
       "      Bokeh.set_log_level(\"info\");\n",
       "    },\n",
       "function(Bokeh) {} // ensure no trailing comma for IE\n",
       "  ];\n",
       "\n",
       "  function run_inline_js() {\n",
       "    if ((root.Bokeh !== undefined) || (force === true)) {\n",
       "      for (let i = 0; i < inline_js.length; i++) {\n",
       "        try {\n",
       "          inline_js[i].call(root, root.Bokeh);\n",
       "        } catch(e) {\n",
       "          if (!reloading) {\n",
       "            throw e;\n",
       "          }\n",
       "        }\n",
       "      }\n",
       "      // Cache old bokeh versions\n",
       "      if (Bokeh != undefined && !reloading) {\n",
       "        var NewBokeh = root.Bokeh;\n",
       "        if (Bokeh.versions === undefined) {\n",
       "          Bokeh.versions = new Map();\n",
       "        }\n",
       "        if (NewBokeh.version !== Bokeh.version) {\n",
       "          Bokeh.versions.set(NewBokeh.version, NewBokeh)\n",
       "        }\n",
       "        root.Bokeh = Bokeh;\n",
       "      }\n",
       "    } else if (Date.now() < root._bokeh_timeout) {\n",
       "      setTimeout(run_inline_js, 100);\n",
       "    } else if (!root._bokeh_failed_load) {\n",
       "      console.log(\"Bokeh: BokehJS failed to load within specified timeout.\");\n",
       "      root._bokeh_failed_load = true;\n",
       "    }\n",
       "    root._bokeh_is_initializing = false\n",
       "  }\n",
       "\n",
       "  function load_or_wait() {\n",
       "    // Implement a backoff loop that tries to ensure we do not load multiple\n",
       "    // versions of Bokeh and its dependencies at the same time.\n",
       "    // In recent versions we use the root._bokeh_is_initializing flag\n",
       "    // to determine whether there is an ongoing attempt to initialize\n",
       "    // bokeh, however for backward compatibility we also try to ensure\n",
       "    // that we do not start loading a newer (Panel>=1.0 and Bokeh>3) version\n",
       "    // before older versions are fully initialized.\n",
       "    if (root._bokeh_is_initializing && Date.now() > root._bokeh_timeout) {\n",
       "      // If the timeout and bokeh was not successfully loaded we reset\n",
       "      // everything and try loading again\n",
       "      root._bokeh_timeout = Date.now() + 5000;\n",
       "      root._bokeh_is_initializing = false;\n",
       "      root._bokeh_onload_callbacks = undefined;\n",
       "      root._bokeh_is_loading = 0\n",
       "      console.log(\"Bokeh: BokehJS was loaded multiple times but one version failed to initialize.\");\n",
       "      load_or_wait();\n",
       "    } else if (root._bokeh_is_initializing || (typeof root._bokeh_is_initializing === \"undefined\" && root._bokeh_onload_callbacks !== undefined)) {\n",
       "      setTimeout(load_or_wait, 100);\n",
       "    } else {\n",
       "      root._bokeh_is_initializing = true\n",
       "      root._bokeh_onload_callbacks = []\n",
       "      const bokeh_loaded = root.Bokeh != null && (root.Bokeh.version === py_version || (root.Bokeh.versions !== undefined && root.Bokeh.versions.has(py_version)));\n",
       "      if (!reloading && !bokeh_loaded) {\n",
       "        if (root.Bokeh) {\n",
       "          root.Bokeh = undefined;\n",
       "        }\n",
       "        console.debug(\"Bokeh: BokehJS not loaded, scheduling load and callback at\", now());\n",
       "      }\n",
       "      load_libs(css_urls, js_urls, js_modules, js_exports, function() {\n",
       "        console.debug(\"Bokeh: BokehJS plotting callback run at\", now());\n",
       "        run_inline_js();\n",
       "      });\n",
       "    }\n",
       "  }\n",
       "  // Give older versions of the autoload script a head-start to ensure\n",
       "  // they initialize before we start loading newer version.\n",
       "  setTimeout(load_or_wait, 100)\n",
       "}(window));"
      ],
      "application/vnd.holoviews_load.v0+json": "(function(root) {\n  function now() {\n    return new Date();\n  }\n\n  const force = true;\n  const py_version = '3.7.3'.replace('rc', '-rc.').replace('.dev', '-dev.');\n  const reloading = false;\n  const Bokeh = root.Bokeh;\n\n  // Set a timeout for this load but only if we are not already initializing\n  if (typeof (root._bokeh_timeout) === \"undefined\" || (force || !root._bokeh_is_initializing)) {\n    root._bokeh_timeout = Date.now() + 5000;\n    root._bokeh_failed_load = false;\n  }\n\n  function run_callbacks() {\n    try {\n      root._bokeh_onload_callbacks.forEach(function(callback) {\n        if (callback != null)\n          callback();\n      });\n    } finally {\n      delete root._bokeh_onload_callbacks;\n    }\n    console.debug(\"Bokeh: all callbacks have finished\");\n  }\n\n  function load_libs(css_urls, js_urls, js_modules, js_exports, callback) {\n    if (css_urls == null) css_urls = [];\n    if (js_urls == null) js_urls = [];\n    if (js_modules == null) js_modules = [];\n    if (js_exports == null) js_exports = {};\n\n    root._bokeh_onload_callbacks.push(callback);\n\n    if (root._bokeh_is_loading > 0) {\n      // Don't load bokeh if it is still initializing\n      console.debug(\"Bokeh: BokehJS is being loaded, scheduling callback at\", now());\n      return null;\n    } else if (js_urls.length === 0 && js_modules.length === 0 && Object.keys(js_exports).length === 0) {\n      // There is nothing to load\n      run_callbacks();\n      return null;\n    }\n\n    function on_load() {\n      root._bokeh_is_loading--;\n      if (root._bokeh_is_loading === 0) {\n        console.debug(\"Bokeh: all BokehJS libraries/stylesheets loaded\");\n        run_callbacks()\n      }\n    }\n    window._bokeh_on_load = on_load\n\n    function on_error(e) {\n      const src_el = e.srcElement\n      console.error(\"failed to load \" + (src_el.href || src_el.src));\n    }\n\n    const skip = [];\n    if (window.requirejs) {\n      window.requirejs.config({'packages': {}, 'paths': {}, 'shim': {}});\n      root._bokeh_is_loading = css_urls.length + 0;\n    } else {\n      root._bokeh_is_loading = css_urls.length + js_urls.length + js_modules.length + Object.keys(js_exports).length;\n    }\n\n    const existing_stylesheets = []\n    const links = document.getElementsByTagName('link')\n    for (let i = 0; i < links.length; i++) {\n      const link = links[i]\n      if (link.href != null) {\n        existing_stylesheets.push(link.href)\n      }\n    }\n    for (let i = 0; i < css_urls.length; i++) {\n      const url = css_urls[i];\n      const escaped = encodeURI(url)\n      if (existing_stylesheets.indexOf(escaped) !== -1) {\n        on_load()\n        continue;\n      }\n      const element = document.createElement(\"link\");\n      element.onload = on_load;\n      element.onerror = on_error;\n      element.rel = \"stylesheet\";\n      element.type = \"text/css\";\n      element.href = url;\n      console.debug(\"Bokeh: injecting link tag for BokehJS stylesheet: \", url);\n      document.body.appendChild(element);\n    }    var existing_scripts = []\n    const scripts = document.getElementsByTagName('script')\n    for (let i = 0; i < scripts.length; i++) {\n      var script = scripts[i]\n      if (script.src != null) {\n        existing_scripts.push(script.src)\n      }\n    }\n    for (let i = 0; i < js_urls.length; i++) {\n      const url = js_urls[i];\n      const escaped = encodeURI(url)\n      if (skip.indexOf(escaped) !== -1 || existing_scripts.indexOf(escaped) !== -1) {\n        if (!window.requirejs) {\n          on_load();\n        }\n        continue;\n      }\n      const element = document.createElement('script');\n      element.onload = on_load;\n      element.onerror = on_error;\n      element.async = false;\n      element.src = url;\n      console.debug(\"Bokeh: injecting script tag for BokehJS library: \", url);\n      document.head.appendChild(element);\n    }\n    for (let i = 0; i < js_modules.length; i++) {\n      const url = js_modules[i];\n      const escaped = encodeURI(url)\n      if (skip.indexOf(escaped) !== -1 || existing_scripts.indexOf(escaped) !== -1) {\n        if (!window.requirejs) {\n          on_load();\n        }\n        continue;\n      }\n      var element = document.createElement('script');\n      element.onload = on_load;\n      element.onerror = on_error;\n      element.async = false;\n      element.src = url;\n      element.type = \"module\";\n      console.debug(\"Bokeh: injecting script tag for BokehJS library: \", url);\n      document.head.appendChild(element);\n    }\n    for (const name in js_exports) {\n      const url = js_exports[name];\n      const escaped = encodeURI(url)\n      if (skip.indexOf(escaped) >= 0 || root[name] != null) {\n        if (!window.requirejs) {\n          on_load();\n        }\n        continue;\n      }\n      var element = document.createElement('script');\n      element.onerror = on_error;\n      element.async = false;\n      element.type = \"module\";\n      console.debug(\"Bokeh: injecting script tag for BokehJS library: \", url);\n      element.textContent = `\n      import ${name} from \"${url}\"\n      window.${name} = ${name}\n      window._bokeh_on_load()\n      `\n      document.head.appendChild(element);\n    }\n    if (!js_urls.length && !js_modules.length) {\n      on_load()\n    }\n  };\n\n  function inject_raw_css(css) {\n    const element = document.createElement(\"style\");\n    element.appendChild(document.createTextNode(css));\n    document.body.appendChild(element);\n  }\n\n  const js_urls = [\"https://cdn.holoviz.org/panel/1.7.1/dist/bundled/reactiveesm/es-module-shims@^1.10.0/dist/es-module-shims.min.js\", \"https://cdn.bokeh.org/bokeh/release/bokeh-3.7.3.min.js\", \"https://cdn.bokeh.org/bokeh/release/bokeh-gl-3.7.3.min.js\", \"https://cdn.bokeh.org/bokeh/release/bokeh-widgets-3.7.3.min.js\", \"https://cdn.bokeh.org/bokeh/release/bokeh-tables-3.7.3.min.js\", \"https://cdn.holoviz.org/panel/1.7.1/dist/panel.min.js\"];\n  const js_modules = [];\n  const js_exports = {};\n  const css_urls = [];\n  const inline_js = [    function(Bokeh) {\n      Bokeh.set_log_level(\"info\");\n    },\nfunction(Bokeh) {} // ensure no trailing comma for IE\n  ];\n\n  function run_inline_js() {\n    if ((root.Bokeh !== undefined) || (force === true)) {\n      for (let i = 0; i < inline_js.length; i++) {\n        try {\n          inline_js[i].call(root, root.Bokeh);\n        } catch(e) {\n          if (!reloading) {\n            throw e;\n          }\n        }\n      }\n      // Cache old bokeh versions\n      if (Bokeh != undefined && !reloading) {\n        var NewBokeh = root.Bokeh;\n        if (Bokeh.versions === undefined) {\n          Bokeh.versions = new Map();\n        }\n        if (NewBokeh.version !== Bokeh.version) {\n          Bokeh.versions.set(NewBokeh.version, NewBokeh)\n        }\n        root.Bokeh = Bokeh;\n      }\n    } else if (Date.now() < root._bokeh_timeout) {\n      setTimeout(run_inline_js, 100);\n    } else if (!root._bokeh_failed_load) {\n      console.log(\"Bokeh: BokehJS failed to load within specified timeout.\");\n      root._bokeh_failed_load = true;\n    }\n    root._bokeh_is_initializing = false\n  }\n\n  function load_or_wait() {\n    // Implement a backoff loop that tries to ensure we do not load multiple\n    // versions of Bokeh and its dependencies at the same time.\n    // In recent versions we use the root._bokeh_is_initializing flag\n    // to determine whether there is an ongoing attempt to initialize\n    // bokeh, however for backward compatibility we also try to ensure\n    // that we do not start loading a newer (Panel>=1.0 and Bokeh>3) version\n    // before older versions are fully initialized.\n    if (root._bokeh_is_initializing && Date.now() > root._bokeh_timeout) {\n      // If the timeout and bokeh was not successfully loaded we reset\n      // everything and try loading again\n      root._bokeh_timeout = Date.now() + 5000;\n      root._bokeh_is_initializing = false;\n      root._bokeh_onload_callbacks = undefined;\n      root._bokeh_is_loading = 0\n      console.log(\"Bokeh: BokehJS was loaded multiple times but one version failed to initialize.\");\n      load_or_wait();\n    } else if (root._bokeh_is_initializing || (typeof root._bokeh_is_initializing === \"undefined\" && root._bokeh_onload_callbacks !== undefined)) {\n      setTimeout(load_or_wait, 100);\n    } else {\n      root._bokeh_is_initializing = true\n      root._bokeh_onload_callbacks = []\n      const bokeh_loaded = root.Bokeh != null && (root.Bokeh.version === py_version || (root.Bokeh.versions !== undefined && root.Bokeh.versions.has(py_version)));\n      if (!reloading && !bokeh_loaded) {\n        if (root.Bokeh) {\n          root.Bokeh = undefined;\n        }\n        console.debug(\"Bokeh: BokehJS not loaded, scheduling load and callback at\", now());\n      }\n      load_libs(css_urls, js_urls, js_modules, js_exports, function() {\n        console.debug(\"Bokeh: BokehJS plotting callback run at\", now());\n        run_inline_js();\n      });\n    }\n  }\n  // Give older versions of the autoload script a head-start to ensure\n  // they initialize before we start loading newer version.\n  setTimeout(load_or_wait, 100)\n}(window));"
     },
     "metadata": {},
     "output_type": "display_data"
    },
    {
     "data": {
      "application/javascript": [
       "\n",
       "if ((window.PyViz === undefined) || (window.PyViz instanceof HTMLElement)) {\n",
       "  window.PyViz = {comms: {}, comm_status:{}, kernels:{}, receivers: {}, plot_index: []}\n",
       "}\n",
       "\n",
       "\n",
       "    function JupyterCommManager() {\n",
       "    }\n",
       "\n",
       "    JupyterCommManager.prototype.register_target = function(plot_id, comm_id, msg_handler) {\n",
       "      if (window.comm_manager || ((window.Jupyter !== undefined) && (Jupyter.notebook.kernel != null))) {\n",
       "        var comm_manager = window.comm_manager || Jupyter.notebook.kernel.comm_manager;\n",
       "        comm_manager.register_target(comm_id, function(comm) {\n",
       "          comm.on_msg(msg_handler);\n",
       "        });\n",
       "      } else if ((plot_id in window.PyViz.kernels) && (window.PyViz.kernels[plot_id])) {\n",
       "        window.PyViz.kernels[plot_id].registerCommTarget(comm_id, function(comm) {\n",
       "          comm.onMsg = msg_handler;\n",
       "        });\n",
       "      } else if (typeof google != 'undefined' && google.colab.kernel != null) {\n",
       "        google.colab.kernel.comms.registerTarget(comm_id, (comm) => {\n",
       "          var messages = comm.messages[Symbol.asyncIterator]();\n",
       "          function processIteratorResult(result) {\n",
       "            var message = result.value;\n",
       "            console.log(message)\n",
       "            var content = {data: message.data, comm_id};\n",
       "            var buffers = []\n",
       "            for (var buffer of message.buffers || []) {\n",
       "              buffers.push(new DataView(buffer))\n",
       "            }\n",
       "            var metadata = message.metadata || {};\n",
       "            var msg = {content, buffers, metadata}\n",
       "            msg_handler(msg);\n",
       "            return messages.next().then(processIteratorResult);\n",
       "          }\n",
       "          return messages.next().then(processIteratorResult);\n",
       "        })\n",
       "      }\n",
       "    }\n",
       "\n",
       "    JupyterCommManager.prototype.get_client_comm = function(plot_id, comm_id, msg_handler) {\n",
       "      if (comm_id in window.PyViz.comms) {\n",
       "        return window.PyViz.comms[comm_id];\n",
       "      } else if (window.comm_manager || ((window.Jupyter !== undefined) && (Jupyter.notebook.kernel != null))) {\n",
       "        var comm_manager = window.comm_manager || Jupyter.notebook.kernel.comm_manager;\n",
       "        var comm = comm_manager.new_comm(comm_id, {}, {}, {}, comm_id);\n",
       "        if (msg_handler) {\n",
       "          comm.on_msg(msg_handler);\n",
       "        }\n",
       "      } else if ((plot_id in window.PyViz.kernels) && (window.PyViz.kernels[plot_id])) {\n",
       "        var comm = window.PyViz.kernels[plot_id].connectToComm(comm_id);\n",
       "        comm.open();\n",
       "        if (msg_handler) {\n",
       "          comm.onMsg = msg_handler;\n",
       "        }\n",
       "      } else if (typeof google != 'undefined' && google.colab.kernel != null) {\n",
       "        var comm_promise = google.colab.kernel.comms.open(comm_id)\n",
       "        comm_promise.then((comm) => {\n",
       "          window.PyViz.comms[comm_id] = comm;\n",
       "          if (msg_handler) {\n",
       "            var messages = comm.messages[Symbol.asyncIterator]();\n",
       "            function processIteratorResult(result) {\n",
       "              var message = result.value;\n",
       "              var content = {data: message.data};\n",
       "              var metadata = message.metadata || {comm_id};\n",
       "              var msg = {content, metadata}\n",
       "              msg_handler(msg);\n",
       "              return messages.next().then(processIteratorResult);\n",
       "            }\n",
       "            return messages.next().then(processIteratorResult);\n",
       "          }\n",
       "        })\n",
       "        var sendClosure = (data, metadata, buffers, disposeOnDone) => {\n",
       "          return comm_promise.then((comm) => {\n",
       "            comm.send(data, metadata, buffers, disposeOnDone);\n",
       "          });\n",
       "        };\n",
       "        var comm = {\n",
       "          send: sendClosure\n",
       "        };\n",
       "      }\n",
       "      window.PyViz.comms[comm_id] = comm;\n",
       "      return comm;\n",
       "    }\n",
       "    window.PyViz.comm_manager = new JupyterCommManager();\n",
       "    \n",
       "\n",
       "\n",
       "var JS_MIME_TYPE = 'application/javascript';\n",
       "var HTML_MIME_TYPE = 'text/html';\n",
       "var EXEC_MIME_TYPE = 'application/vnd.holoviews_exec.v0+json';\n",
       "var CLASS_NAME = 'output';\n",
       "\n",
       "/**\n",
       " * Render data to the DOM node\n",
       " */\n",
       "function render(props, node) {\n",
       "  var div = document.createElement(\"div\");\n",
       "  var script = document.createElement(\"script\");\n",
       "  node.appendChild(div);\n",
       "  node.appendChild(script);\n",
       "}\n",
       "\n",
       "/**\n",
       " * Handle when a new output is added\n",
       " */\n",
       "function handle_add_output(event, handle) {\n",
       "  var output_area = handle.output_area;\n",
       "  var output = handle.output;\n",
       "  if ((output.data == undefined) || (!output.data.hasOwnProperty(EXEC_MIME_TYPE))) {\n",
       "    return\n",
       "  }\n",
       "  var id = output.metadata[EXEC_MIME_TYPE][\"id\"];\n",
       "  var toinsert = output_area.element.find(\".\" + CLASS_NAME.split(' ')[0]);\n",
       "  if (id !== undefined) {\n",
       "    var nchildren = toinsert.length;\n",
       "    var html_node = toinsert[nchildren-1].children[0];\n",
       "    html_node.innerHTML = output.data[HTML_MIME_TYPE];\n",
       "    var scripts = [];\n",
       "    var nodelist = html_node.querySelectorAll(\"script\");\n",
       "    for (var i in nodelist) {\n",
       "      if (nodelist.hasOwnProperty(i)) {\n",
       "        scripts.push(nodelist[i])\n",
       "      }\n",
       "    }\n",
       "\n",
       "    scripts.forEach( function (oldScript) {\n",
       "      var newScript = document.createElement(\"script\");\n",
       "      var attrs = [];\n",
       "      var nodemap = oldScript.attributes;\n",
       "      for (var j in nodemap) {\n",
       "        if (nodemap.hasOwnProperty(j)) {\n",
       "          attrs.push(nodemap[j])\n",
       "        }\n",
       "      }\n",
       "      attrs.forEach(function(attr) { newScript.setAttribute(attr.name, attr.value) });\n",
       "      newScript.appendChild(document.createTextNode(oldScript.innerHTML));\n",
       "      oldScript.parentNode.replaceChild(newScript, oldScript);\n",
       "    });\n",
       "    if (JS_MIME_TYPE in output.data) {\n",
       "      toinsert[nchildren-1].children[1].textContent = output.data[JS_MIME_TYPE];\n",
       "    }\n",
       "    output_area._hv_plot_id = id;\n",
       "    if ((window.Bokeh !== undefined) && (id in Bokeh.index)) {\n",
       "      window.PyViz.plot_index[id] = Bokeh.index[id];\n",
       "    } else {\n",
       "      window.PyViz.plot_index[id] = null;\n",
       "    }\n",
       "  } else if (output.metadata[EXEC_MIME_TYPE][\"server_id\"] !== undefined) {\n",
       "    var bk_div = document.createElement(\"div\");\n",
       "    bk_div.innerHTML = output.data[HTML_MIME_TYPE];\n",
       "    var script_attrs = bk_div.children[0].attributes;\n",
       "    for (var i = 0; i < script_attrs.length; i++) {\n",
       "      toinsert[toinsert.length - 1].childNodes[1].setAttribute(script_attrs[i].name, script_attrs[i].value);\n",
       "    }\n",
       "    // store reference to server id on output_area\n",
       "    output_area._bokeh_server_id = output.metadata[EXEC_MIME_TYPE][\"server_id\"];\n",
       "  }\n",
       "}\n",
       "\n",
       "/**\n",
       " * Handle when an output is cleared or removed\n",
       " */\n",
       "function handle_clear_output(event, handle) {\n",
       "  var id = handle.cell.output_area._hv_plot_id;\n",
       "  var server_id = handle.cell.output_area._bokeh_server_id;\n",
       "  if (((id === undefined) || !(id in PyViz.plot_index)) && (server_id !== undefined)) { return; }\n",
       "  var comm = window.PyViz.comm_manager.get_client_comm(\"hv-extension-comm\", \"hv-extension-comm\", function () {});\n",
       "  if (server_id !== null) {\n",
       "    comm.send({event_type: 'server_delete', 'id': server_id});\n",
       "    return;\n",
       "  } else if (comm !== null) {\n",
       "    comm.send({event_type: 'delete', 'id': id});\n",
       "  }\n",
       "  delete PyViz.plot_index[id];\n",
       "  if ((window.Bokeh !== undefined) & (id in window.Bokeh.index)) {\n",
       "    var doc = window.Bokeh.index[id].model.document\n",
       "    doc.clear();\n",
       "    const i = window.Bokeh.documents.indexOf(doc);\n",
       "    if (i > -1) {\n",
       "      window.Bokeh.documents.splice(i, 1);\n",
       "    }\n",
       "  }\n",
       "}\n",
       "\n",
       "/**\n",
       " * Handle kernel restart event\n",
       " */\n",
       "function handle_kernel_cleanup(event, handle) {\n",
       "  delete PyViz.comms[\"hv-extension-comm\"];\n",
       "  window.PyViz.plot_index = {}\n",
       "}\n",
       "\n",
       "/**\n",
       " * Handle update_display_data messages\n",
       " */\n",
       "function handle_update_output(event, handle) {\n",
       "  handle_clear_output(event, {cell: {output_area: handle.output_area}})\n",
       "  handle_add_output(event, handle)\n",
       "}\n",
       "\n",
       "function register_renderer(events, OutputArea) {\n",
       "  function append_mime(data, metadata, element) {\n",
       "    // create a DOM node to render to\n",
       "    var toinsert = this.create_output_subarea(\n",
       "    metadata,\n",
       "    CLASS_NAME,\n",
       "    EXEC_MIME_TYPE\n",
       "    );\n",
       "    this.keyboard_manager.register_events(toinsert);\n",
       "    // Render to node\n",
       "    var props = {data: data, metadata: metadata[EXEC_MIME_TYPE]};\n",
       "    render(props, toinsert[0]);\n",
       "    element.append(toinsert);\n",
       "    return toinsert\n",
       "  }\n",
       "\n",
       "  events.on('output_added.OutputArea', handle_add_output);\n",
       "  events.on('output_updated.OutputArea', handle_update_output);\n",
       "  events.on('clear_output.CodeCell', handle_clear_output);\n",
       "  events.on('delete.Cell', handle_clear_output);\n",
       "  events.on('kernel_ready.Kernel', handle_kernel_cleanup);\n",
       "\n",
       "  OutputArea.prototype.register_mime_type(EXEC_MIME_TYPE, append_mime, {\n",
       "    safe: true,\n",
       "    index: 0\n",
       "  });\n",
       "}\n",
       "\n",
       "if (window.Jupyter !== undefined) {\n",
       "  try {\n",
       "    var events = require('base/js/events');\n",
       "    var OutputArea = require('notebook/js/outputarea').OutputArea;\n",
       "    if (OutputArea.prototype.mime_types().indexOf(EXEC_MIME_TYPE) == -1) {\n",
       "      register_renderer(events, OutputArea);\n",
       "    }\n",
       "  } catch(err) {\n",
       "  }\n",
       "}\n"
      ],
      "application/vnd.holoviews_load.v0+json": "\nif ((window.PyViz === undefined) || (window.PyViz instanceof HTMLElement)) {\n  window.PyViz = {comms: {}, comm_status:{}, kernels:{}, receivers: {}, plot_index: []}\n}\n\n\n    function JupyterCommManager() {\n    }\n\n    JupyterCommManager.prototype.register_target = function(plot_id, comm_id, msg_handler) {\n      if (window.comm_manager || ((window.Jupyter !== undefined) && (Jupyter.notebook.kernel != null))) {\n        var comm_manager = window.comm_manager || Jupyter.notebook.kernel.comm_manager;\n        comm_manager.register_target(comm_id, function(comm) {\n          comm.on_msg(msg_handler);\n        });\n      } else if ((plot_id in window.PyViz.kernels) && (window.PyViz.kernels[plot_id])) {\n        window.PyViz.kernels[plot_id].registerCommTarget(comm_id, function(comm) {\n          comm.onMsg = msg_handler;\n        });\n      } else if (typeof google != 'undefined' && google.colab.kernel != null) {\n        google.colab.kernel.comms.registerTarget(comm_id, (comm) => {\n          var messages = comm.messages[Symbol.asyncIterator]();\n          function processIteratorResult(result) {\n            var message = result.value;\n            console.log(message)\n            var content = {data: message.data, comm_id};\n            var buffers = []\n            for (var buffer of message.buffers || []) {\n              buffers.push(new DataView(buffer))\n            }\n            var metadata = message.metadata || {};\n            var msg = {content, buffers, metadata}\n            msg_handler(msg);\n            return messages.next().then(processIteratorResult);\n          }\n          return messages.next().then(processIteratorResult);\n        })\n      }\n    }\n\n    JupyterCommManager.prototype.get_client_comm = function(plot_id, comm_id, msg_handler) {\n      if (comm_id in window.PyViz.comms) {\n        return window.PyViz.comms[comm_id];\n      } else if (window.comm_manager || ((window.Jupyter !== undefined) && (Jupyter.notebook.kernel != null))) {\n        var comm_manager = window.comm_manager || Jupyter.notebook.kernel.comm_manager;\n        var comm = comm_manager.new_comm(comm_id, {}, {}, {}, comm_id);\n        if (msg_handler) {\n          comm.on_msg(msg_handler);\n        }\n      } else if ((plot_id in window.PyViz.kernels) && (window.PyViz.kernels[plot_id])) {\n        var comm = window.PyViz.kernels[plot_id].connectToComm(comm_id);\n        comm.open();\n        if (msg_handler) {\n          comm.onMsg = msg_handler;\n        }\n      } else if (typeof google != 'undefined' && google.colab.kernel != null) {\n        var comm_promise = google.colab.kernel.comms.open(comm_id)\n        comm_promise.then((comm) => {\n          window.PyViz.comms[comm_id] = comm;\n          if (msg_handler) {\n            var messages = comm.messages[Symbol.asyncIterator]();\n            function processIteratorResult(result) {\n              var message = result.value;\n              var content = {data: message.data};\n              var metadata = message.metadata || {comm_id};\n              var msg = {content, metadata}\n              msg_handler(msg);\n              return messages.next().then(processIteratorResult);\n            }\n            return messages.next().then(processIteratorResult);\n          }\n        })\n        var sendClosure = (data, metadata, buffers, disposeOnDone) => {\n          return comm_promise.then((comm) => {\n            comm.send(data, metadata, buffers, disposeOnDone);\n          });\n        };\n        var comm = {\n          send: sendClosure\n        };\n      }\n      window.PyViz.comms[comm_id] = comm;\n      return comm;\n    }\n    window.PyViz.comm_manager = new JupyterCommManager();\n    \n\n\nvar JS_MIME_TYPE = 'application/javascript';\nvar HTML_MIME_TYPE = 'text/html';\nvar EXEC_MIME_TYPE = 'application/vnd.holoviews_exec.v0+json';\nvar CLASS_NAME = 'output';\n\n/**\n * Render data to the DOM node\n */\nfunction render(props, node) {\n  var div = document.createElement(\"div\");\n  var script = document.createElement(\"script\");\n  node.appendChild(div);\n  node.appendChild(script);\n}\n\n/**\n * Handle when a new output is added\n */\nfunction handle_add_output(event, handle) {\n  var output_area = handle.output_area;\n  var output = handle.output;\n  if ((output.data == undefined) || (!output.data.hasOwnProperty(EXEC_MIME_TYPE))) {\n    return\n  }\n  var id = output.metadata[EXEC_MIME_TYPE][\"id\"];\n  var toinsert = output_area.element.find(\".\" + CLASS_NAME.split(' ')[0]);\n  if (id !== undefined) {\n    var nchildren = toinsert.length;\n    var html_node = toinsert[nchildren-1].children[0];\n    html_node.innerHTML = output.data[HTML_MIME_TYPE];\n    var scripts = [];\n    var nodelist = html_node.querySelectorAll(\"script\");\n    for (var i in nodelist) {\n      if (nodelist.hasOwnProperty(i)) {\n        scripts.push(nodelist[i])\n      }\n    }\n\n    scripts.forEach( function (oldScript) {\n      var newScript = document.createElement(\"script\");\n      var attrs = [];\n      var nodemap = oldScript.attributes;\n      for (var j in nodemap) {\n        if (nodemap.hasOwnProperty(j)) {\n          attrs.push(nodemap[j])\n        }\n      }\n      attrs.forEach(function(attr) { newScript.setAttribute(attr.name, attr.value) });\n      newScript.appendChild(document.createTextNode(oldScript.innerHTML));\n      oldScript.parentNode.replaceChild(newScript, oldScript);\n    });\n    if (JS_MIME_TYPE in output.data) {\n      toinsert[nchildren-1].children[1].textContent = output.data[JS_MIME_TYPE];\n    }\n    output_area._hv_plot_id = id;\n    if ((window.Bokeh !== undefined) && (id in Bokeh.index)) {\n      window.PyViz.plot_index[id] = Bokeh.index[id];\n    } else {\n      window.PyViz.plot_index[id] = null;\n    }\n  } else if (output.metadata[EXEC_MIME_TYPE][\"server_id\"] !== undefined) {\n    var bk_div = document.createElement(\"div\");\n    bk_div.innerHTML = output.data[HTML_MIME_TYPE];\n    var script_attrs = bk_div.children[0].attributes;\n    for (var i = 0; i < script_attrs.length; i++) {\n      toinsert[toinsert.length - 1].childNodes[1].setAttribute(script_attrs[i].name, script_attrs[i].value);\n    }\n    // store reference to server id on output_area\n    output_area._bokeh_server_id = output.metadata[EXEC_MIME_TYPE][\"server_id\"];\n  }\n}\n\n/**\n * Handle when an output is cleared or removed\n */\nfunction handle_clear_output(event, handle) {\n  var id = handle.cell.output_area._hv_plot_id;\n  var server_id = handle.cell.output_area._bokeh_server_id;\n  if (((id === undefined) || !(id in PyViz.plot_index)) && (server_id !== undefined)) { return; }\n  var comm = window.PyViz.comm_manager.get_client_comm(\"hv-extension-comm\", \"hv-extension-comm\", function () {});\n  if (server_id !== null) {\n    comm.send({event_type: 'server_delete', 'id': server_id});\n    return;\n  } else if (comm !== null) {\n    comm.send({event_type: 'delete', 'id': id});\n  }\n  delete PyViz.plot_index[id];\n  if ((window.Bokeh !== undefined) & (id in window.Bokeh.index)) {\n    var doc = window.Bokeh.index[id].model.document\n    doc.clear();\n    const i = window.Bokeh.documents.indexOf(doc);\n    if (i > -1) {\n      window.Bokeh.documents.splice(i, 1);\n    }\n  }\n}\n\n/**\n * Handle kernel restart event\n */\nfunction handle_kernel_cleanup(event, handle) {\n  delete PyViz.comms[\"hv-extension-comm\"];\n  window.PyViz.plot_index = {}\n}\n\n/**\n * Handle update_display_data messages\n */\nfunction handle_update_output(event, handle) {\n  handle_clear_output(event, {cell: {output_area: handle.output_area}})\n  handle_add_output(event, handle)\n}\n\nfunction register_renderer(events, OutputArea) {\n  function append_mime(data, metadata, element) {\n    // create a DOM node to render to\n    var toinsert = this.create_output_subarea(\n    metadata,\n    CLASS_NAME,\n    EXEC_MIME_TYPE\n    );\n    this.keyboard_manager.register_events(toinsert);\n    // Render to node\n    var props = {data: data, metadata: metadata[EXEC_MIME_TYPE]};\n    render(props, toinsert[0]);\n    element.append(toinsert);\n    return toinsert\n  }\n\n  events.on('output_added.OutputArea', handle_add_output);\n  events.on('output_updated.OutputArea', handle_update_output);\n  events.on('clear_output.CodeCell', handle_clear_output);\n  events.on('delete.Cell', handle_clear_output);\n  events.on('kernel_ready.Kernel', handle_kernel_cleanup);\n\n  OutputArea.prototype.register_mime_type(EXEC_MIME_TYPE, append_mime, {\n    safe: true,\n    index: 0\n  });\n}\n\nif (window.Jupyter !== undefined) {\n  try {\n    var events = require('base/js/events');\n    var OutputArea = require('notebook/js/outputarea').OutputArea;\n    if (OutputArea.prototype.mime_types().indexOf(EXEC_MIME_TYPE) == -1) {\n      register_renderer(events, OutputArea);\n    }\n  } catch(err) {\n  }\n}\n"
     },
     "metadata": {},
     "output_type": "display_data"
    },
    {
     "data": {
      "application/vnd.holoviews_exec.v0+json": "",
      "text/html": [
       "<div id='60270bf4-fd88-40ff-8203-2e48d645eaca'>\n",
       "  <div id=\"a9f00d94-3398-4a3b-a95b-f74b7b9ae159\" data-root-id=\"60270bf4-fd88-40ff-8203-2e48d645eaca\" style=\"display: contents;\"></div>\n",
       "</div>\n",
       "<script type=\"application/javascript\">(function(root) {\n",
       "  var docs_json = {\"cc2c6f51-68e7-41c0-ab4c-b50bb7f62e84\":{\"version\":\"3.7.3\",\"title\":\"Bokeh Application\",\"roots\":[{\"type\":\"object\",\"name\":\"panel.models.browser.BrowserInfo\",\"id\":\"60270bf4-fd88-40ff-8203-2e48d645eaca\"},{\"type\":\"object\",\"name\":\"panel.models.comm_manager.CommManager\",\"id\":\"4d19a3c5-a990-4223-ac90-95295e3552f6\",\"attributes\":{\"plot_id\":\"60270bf4-fd88-40ff-8203-2e48d645eaca\",\"comm_id\":\"5b71a1a8a4574650a692b126c8c05675\",\"client_comm_id\":\"1613f8fb381e479dac38045df244bede\"}}],\"defs\":[{\"type\":\"model\",\"name\":\"ReactiveHTML1\"},{\"type\":\"model\",\"name\":\"FlexBox1\",\"properties\":[{\"name\":\"align_content\",\"kind\":\"Any\",\"default\":\"flex-start\"},{\"name\":\"align_items\",\"kind\":\"Any\",\"default\":\"flex-start\"},{\"name\":\"flex_direction\",\"kind\":\"Any\",\"default\":\"row\"},{\"name\":\"flex_wrap\",\"kind\":\"Any\",\"default\":\"wrap\"},{\"name\":\"gap\",\"kind\":\"Any\",\"default\":\"\"},{\"name\":\"justify_content\",\"kind\":\"Any\",\"default\":\"flex-start\"}]},{\"type\":\"model\",\"name\":\"FloatPanel1\",\"properties\":[{\"name\":\"config\",\"kind\":\"Any\",\"default\":{\"type\":\"map\"}},{\"name\":\"contained\",\"kind\":\"Any\",\"default\":true},{\"name\":\"position\",\"kind\":\"Any\",\"default\":\"right-top\"},{\"name\":\"offsetx\",\"kind\":\"Any\",\"default\":null},{\"name\":\"offsety\",\"kind\":\"Any\",\"default\":null},{\"name\":\"theme\",\"kind\":\"Any\",\"default\":\"primary\"},{\"name\":\"status\",\"kind\":\"Any\",\"default\":\"normalized\"}]},{\"type\":\"model\",\"name\":\"GridStack1\",\"properties\":[{\"name\":\"ncols\",\"kind\":\"Any\",\"default\":null},{\"name\":\"nrows\",\"kind\":\"Any\",\"default\":null},{\"name\":\"allow_resize\",\"kind\":\"Any\",\"default\":true},{\"name\":\"allow_drag\",\"kind\":\"Any\",\"default\":true},{\"name\":\"state\",\"kind\":\"Any\",\"default\":[]}]},{\"type\":\"model\",\"name\":\"drag1\",\"properties\":[{\"name\":\"slider_width\",\"kind\":\"Any\",\"default\":5},{\"name\":\"slider_color\",\"kind\":\"Any\",\"default\":\"black\"},{\"name\":\"value\",\"kind\":\"Any\",\"default\":50}]},{\"type\":\"model\",\"name\":\"click1\",\"properties\":[{\"name\":\"terminal_output\",\"kind\":\"Any\",\"default\":\"\"},{\"name\":\"debug_name\",\"kind\":\"Any\",\"default\":\"\"},{\"name\":\"clears\",\"kind\":\"Any\",\"default\":0}]},{\"type\":\"model\",\"name\":\"FastWrapper1\",\"properties\":[{\"name\":\"object\",\"kind\":\"Any\",\"default\":null},{\"name\":\"style\",\"kind\":\"Any\",\"default\":null}]},{\"type\":\"model\",\"name\":\"NotificationArea1\",\"properties\":[{\"name\":\"js_events\",\"kind\":\"Any\",\"default\":{\"type\":\"map\"}},{\"name\":\"max_notifications\",\"kind\":\"Any\",\"default\":5},{\"name\":\"notifications\",\"kind\":\"Any\",\"default\":[]},{\"name\":\"position\",\"kind\":\"Any\",\"default\":\"bottom-right\"},{\"name\":\"_clear\",\"kind\":\"Any\",\"default\":0},{\"name\":\"types\",\"kind\":\"Any\",\"default\":[{\"type\":\"map\",\"entries\":[[\"type\",\"warning\"],[\"background\",\"#ffc107\"],[\"icon\",{\"type\":\"map\",\"entries\":[[\"className\",\"fas fa-exclamation-triangle\"],[\"tagName\",\"i\"],[\"color\",\"white\"]]}]]},{\"type\":\"map\",\"entries\":[[\"type\",\"info\"],[\"background\",\"#007bff\"],[\"icon\",{\"type\":\"map\",\"entries\":[[\"className\",\"fas fa-info-circle\"],[\"tagName\",\"i\"],[\"color\",\"white\"]]}]]}]}]},{\"type\":\"model\",\"name\":\"Notification\",\"properties\":[{\"name\":\"background\",\"kind\":\"Any\",\"default\":null},{\"name\":\"duration\",\"kind\":\"Any\",\"default\":3000},{\"name\":\"icon\",\"kind\":\"Any\",\"default\":null},{\"name\":\"message\",\"kind\":\"Any\",\"default\":\"\"},{\"name\":\"notification_type\",\"kind\":\"Any\",\"default\":null},{\"name\":\"_rendered\",\"kind\":\"Any\",\"default\":false},{\"name\":\"_destroyed\",\"kind\":\"Any\",\"default\":false}]},{\"type\":\"model\",\"name\":\"TemplateActions1\",\"properties\":[{\"name\":\"open_modal\",\"kind\":\"Any\",\"default\":0},{\"name\":\"close_modal\",\"kind\":\"Any\",\"default\":0}]},{\"type\":\"model\",\"name\":\"BootstrapTemplateActions1\",\"properties\":[{\"name\":\"open_modal\",\"kind\":\"Any\",\"default\":0},{\"name\":\"close_modal\",\"kind\":\"Any\",\"default\":0}]},{\"type\":\"model\",\"name\":\"TemplateEditor1\",\"properties\":[{\"name\":\"layout\",\"kind\":\"Any\",\"default\":[]}]},{\"type\":\"model\",\"name\":\"MaterialTemplateActions1\",\"properties\":[{\"name\":\"open_modal\",\"kind\":\"Any\",\"default\":0},{\"name\":\"close_modal\",\"kind\":\"Any\",\"default\":0}]},{\"type\":\"model\",\"name\":\"ReactiveESM1\",\"properties\":[{\"name\":\"esm_constants\",\"kind\":\"Any\",\"default\":{\"type\":\"map\"}}]},{\"type\":\"model\",\"name\":\"JSComponent1\",\"properties\":[{\"name\":\"esm_constants\",\"kind\":\"Any\",\"default\":{\"type\":\"map\"}}]},{\"type\":\"model\",\"name\":\"ReactComponent1\",\"properties\":[{\"name\":\"esm_constants\",\"kind\":\"Any\",\"default\":{\"type\":\"map\"}}]},{\"type\":\"model\",\"name\":\"AnyWidgetComponent1\",\"properties\":[{\"name\":\"esm_constants\",\"kind\":\"Any\",\"default\":{\"type\":\"map\"}}]},{\"type\":\"model\",\"name\":\"request_value1\",\"properties\":[{\"name\":\"fill\",\"kind\":\"Any\",\"default\":\"none\"},{\"name\":\"_synced\",\"kind\":\"Any\",\"default\":null},{\"name\":\"_request_sync\",\"kind\":\"Any\",\"default\":0}]}]}};\n",
       "  var render_items = [{\"docid\":\"cc2c6f51-68e7-41c0-ab4c-b50bb7f62e84\",\"roots\":{\"60270bf4-fd88-40ff-8203-2e48d645eaca\":\"a9f00d94-3398-4a3b-a95b-f74b7b9ae159\"},\"root_ids\":[\"60270bf4-fd88-40ff-8203-2e48d645eaca\"]}];\n",
       "  var docs = Object.values(docs_json)\n",
       "  if (!docs) {\n",
       "    return\n",
       "  }\n",
       "  const py_version = docs[0].version.replace('rc', '-rc.').replace('.dev', '-dev.')\n",
       "  async function embed_document(root) {\n",
       "    var Bokeh = get_bokeh(root)\n",
       "    await Bokeh.embed.embed_items_notebook(docs_json, render_items);\n",
       "    for (const render_item of render_items) {\n",
       "      for (const root_id of render_item.root_ids) {\n",
       "\tconst id_el = document.getElementById(root_id)\n",
       "\tif (id_el.children.length && id_el.children[0].hasAttribute('data-root-id')) {\n",
       "\t  const root_el = id_el.children[0]\n",
       "\t  root_el.id = root_el.id + '-rendered'\n",
       "\t  for (const child of root_el.children) {\n",
       "            // Ensure JupyterLab does not capture keyboard shortcuts\n",
       "            // see: https://jupyterlab.readthedocs.io/en/4.1.x/extension/notebook.html#keyboard-interaction-model\n",
       "\t    child.setAttribute('data-lm-suppress-shortcuts', 'true')\n",
       "\t  }\n",
       "\t}\n",
       "      }\n",
       "    }\n",
       "  }\n",
       "  function get_bokeh(root) {\n",
       "    if (root.Bokeh === undefined) {\n",
       "      return null\n",
       "    } else if (root.Bokeh.version !== py_version) {\n",
       "      if (root.Bokeh.versions === undefined || !root.Bokeh.versions.has(py_version)) {\n",
       "\treturn null\n",
       "      }\n",
       "      return root.Bokeh.versions.get(py_version);\n",
       "    } else if (root.Bokeh.version === py_version) {\n",
       "      return root.Bokeh\n",
       "    }\n",
       "    return null\n",
       "  }\n",
       "  function is_loaded(root) {\n",
       "    var Bokeh = get_bokeh(root)\n",
       "    return (Bokeh != null && Bokeh.Panel !== undefined)\n",
       "  }\n",
       "  if (is_loaded(root)) {\n",
       "    embed_document(root);\n",
       "  } else {\n",
       "    var attempts = 0;\n",
       "    var timer = setInterval(function(root) {\n",
       "      if (is_loaded(root)) {\n",
       "        clearInterval(timer);\n",
       "        embed_document(root);\n",
       "      } else if (document.readyState == \"complete\") {\n",
       "        attempts++;\n",
       "        if (attempts > 200) {\n",
       "          clearInterval(timer);\n",
       "\t  var Bokeh = get_bokeh(root)\n",
       "\t  if (Bokeh == null || Bokeh.Panel == null) {\n",
       "            console.warn(\"Panel: ERROR: Unable to run Panel code because Bokeh or Panel library is missing\");\n",
       "\t  } else {\n",
       "\t    console.warn(\"Panel: WARNING: Attempting to render but not all required libraries could be resolved.\")\n",
       "\t    embed_document(root)\n",
       "\t  }\n",
       "        }\n",
       "      }\n",
       "    }, 25, root)\n",
       "  }\n",
       "})(window);</script>"
      ]
     },
     "metadata": {
      "application/vnd.holoviews_exec.v0+json": {
       "id": "60270bf4-fd88-40ff-8203-2e48d645eaca"
      }
     },
     "output_type": "display_data"
    },
    {
     "data": {
      "text/html": [
       "        <script type=\"text/javascript\">\n",
       "        window.PlotlyConfig = {MathJaxConfig: 'local'};\n",
       "        if (window.MathJax && window.MathJax.Hub && window.MathJax.Hub.Config) {window.MathJax.Hub.Config({SVG: {font: \"STIX-Web\"}});}\n",
       "        if (typeof require !== 'undefined') {\n",
       "        require.undef(\"plotly\");\n",
       "        requirejs.config({\n",
       "            paths: {\n",
       "                'plotly': ['https://cdn.plot.ly/plotly-2.32.0.min']\n",
       "            }\n",
       "        });\n",
       "        require(['plotly'], function(Plotly) {\n",
       "            window._Plotly = Plotly;\n",
       "        });\n",
       "        }\n",
       "        </script>\n",
       "        "
      ]
     },
     "metadata": {},
     "output_type": "display_data"
    },
    {
     "data": {
      "text/html": [
       "<script src=\"https://cdnjs.cloudflare.com/ajax/libs/mathjax/2.7.1/MathJax.js?config=TeX-MML-AM_SVG\"></script>"
      ],
      "text/plain": [
       "<IPython.core.display.HTML object>"
      ]
     },
     "metadata": {},
     "output_type": "display_data"
    },
    {
     "data": {
      "application/vnd.holoviews_exec.v0+json": "",
      "text/html": [
       "<div id='4dc35da4-8ae7-4862-be1d-1f2539b675bf'>\n",
       "  <div id=\"cba03dd7-7d4d-4042-9735-9a5d0fe37e59\" data-root-id=\"4dc35da4-8ae7-4862-be1d-1f2539b675bf\" style=\"display: contents;\"></div>\n",
       "</div>\n",
       "<script type=\"application/javascript\">(function(root) {\n",
       "  var docs_json = {\"05e8516b-4517-411e-9ce5-15a0c16b8a2c\":{\"version\":\"3.7.3\",\"title\":\"Bokeh Application\",\"roots\":[{\"type\":\"object\",\"name\":\"panel.models.tabs.Tabs\",\"id\":\"4dc35da4-8ae7-4862-be1d-1f2539b675bf\",\"attributes\":{\"stylesheets\":[\"\\n:host(.pn-loading):before, .pn-loading:before {\\n  background-color: #c3c3c3;\\n  mask-size: auto calc(min(50%, 400px));\\n  -webkit-mask-size: auto calc(min(50%, 400px));\\n}\",{\"type\":\"object\",\"name\":\"ImportedStyleSheet\",\"id\":\"6d9133ee-ae25-464a-b0cf-7e6af5a9270c\",\"attributes\":{\"url\":\"https://cdn.holoviz.org/panel/1.7.1/dist/css/loading.css\"}},{\"type\":\"object\",\"name\":\"ImportedStyleSheet\",\"id\":\"3432c304-16a6-4b1f-856d-a3fa9f73cced\",\"attributes\":{\"url\":\"https://cdn.holoviz.org/panel/1.7.1/dist/bundled/theme/default.css\"}},{\"type\":\"object\",\"name\":\"ImportedStyleSheet\",\"id\":\"553c60e3-bb86-472f-816a-1a4eeef0559a\",\"attributes\":{\"url\":\"https://cdn.holoviz.org/panel/1.7.1/dist/bundled/theme/native.css\"}}],\"height\":350,\"min_width\":0,\"margin\":0,\"sizing_mode\":\"stretch_width\",\"align\":\"start\",\"tabs\":[{\"type\":\"object\",\"name\":\"TabPanel\",\"id\":\"ee45fa49-94b8-4bf6-8271-bdc4604471e8\",\"attributes\":{\"name\":\"HTML00126\",\"title\":\"ALL\",\"child\":{\"type\":\"object\",\"name\":\"panel.models.markup.HTML\",\"id\":\"f537776e-866e-49e7-8c5a-53cea57d92b4\",\"attributes\":{\"styles\":{\"type\":\"map\",\"entries\":[[\"overflow-y\",\"auto\"],[\"overflow-x\",\"auto\"],[\"border\",\"1px solid #ddd\"],[\"width\",\"100%\"],[\"font-family\",\"monospace\"],[\"padding\",\"8px\"],[\"background-color\",\"white\"]]},\"stylesheets\":[\"\\n:host(.pn-loading):before, .pn-loading:before {\\n  background-color: #c3c3c3;\\n  mask-size: auto calc(min(50%, 400px));\\n  -webkit-mask-size: auto calc(min(50%, 400px));\\n}\",{\"id\":\"6d9133ee-ae25-464a-b0cf-7e6af5a9270c\"},{\"id\":\"3432c304-16a6-4b1f-856d-a3fa9f73cced\"},{\"id\":\"553c60e3-bb86-472f-816a-1a4eeef0559a\"}],\"height\":300,\"min_height\":300,\"margin\":[5,10],\"align\":\"start\",\"text\":\"&lt;div style=&#x27;margin: 0;&#x27;&gt;&lt;span&gt;tardis.io.model.parse_atom_data&lt;/span&gt; &lt;span style=&quot;color: #D3D3D3; font-weight: bold;&quot;&gt;[INFO]&lt;/span&gt; \\n\\tReading Atomic Data from kurucz_cd23_chianti_H_He_latest.h5 (parse_atom_data.py:40)&lt;/div&gt;\\n&lt;div style=&#x27;margin: 0;&#x27;&gt;&lt;span&gt;tardis.io.atom_data.util&lt;/span&gt; &lt;span style=&quot;color: #D3D3D3; font-weight: bold;&quot;&gt;[INFO]&lt;/span&gt; \\n\\tAtom Data kurucz_cd23_chianti_H_He_latest.h5 not found in local path.\\n\\tExists in TARDIS Data repo /home/runner/Downloads/tardis-data/kurucz_cd23_chianti_H_He_latest.h5 (util.py:34)&lt;/div&gt;\\n&lt;div style=&#x27;margin: 0;&#x27;&gt;&lt;span&gt;tardis.io.atom_data.base&lt;/span&gt; &lt;span style=&quot;color: #D3D3D3; font-weight: bold;&quot;&gt;[INFO]&lt;/span&gt; Reading Atom Data with: UUID = b58b2ef63bf811f08edf96479f911fbd MD5  = 5d80fa4ae0638469bf1ff281b6ca2a94  (base.py:258)&lt;/div&gt;\\n&lt;div style=&#x27;margin: 0;&#x27;&gt;&lt;span&gt;tardis.io.atom_data.base&lt;/span&gt; &lt;span style=&quot;color: #D3D3D3; font-weight: bold;&quot;&gt;[INFO]&lt;/span&gt; Non provided Atomic Data: levels, lines, collision_data, collision_data_temperatures, synpp_refs, photoionization_data, yg_data, two_photon_data, linelist_atoms, linelist_molecules (base.py:262)&lt;/div&gt;\\n&lt;div style=&#x27;margin: 0;&#x27;&gt;&lt;span&gt;tardis.io.model.parse_composition_configuration&lt;/span&gt; &lt;span style=&quot;color: orange; font-weight: bold;&quot;&gt;[WARNING]&lt;/span&gt; Number of density points larger than number of shells. Assuming inner point irrelevant (parse_composition_configuration.py:58)&lt;/div&gt;\\n&lt;div style=&#x27;margin: 0;&#x27;&gt;&lt;span&gt;tardis.io.model.parse_mass_fraction_configuration&lt;/span&gt; &lt;span style=&quot;color: orange; font-weight: bold;&quot;&gt;[WARNING]&lt;/span&gt; model_isotope_time_0 is not set in the configuration. Isotopic mass fractions will not be decayed and is assumed to be correct for the time_explosion. THIS IS NOT RECOMMENDED! (parse_mass_fraction_configuration.py:97)&lt;/div&gt;\\n&lt;div style=&#x27;margin: 0;&#x27;&gt;&lt;span&gt;tardis.simulation.base&lt;/span&gt; &lt;span style=&quot;color: #D3D3D3; font-weight: bold;&quot;&gt;[INFO]&lt;/span&gt; \\n\\tStarting iteration 1 of 20 (base.py:444)&lt;/div&gt;\\n&lt;div style=&#x27;margin: 0;&#x27;&gt;&lt;span&gt;py.warnings&lt;/span&gt; &lt;span style=&quot;color: orange; font-weight: bold;&quot;&gt;[WARNING]&lt;/span&gt; /home/runner/work/tardis/tardis/tardis/transport/montecarlo/montecarlo_main_loop.py:123: NumbaTypeSafetyWarning:\\n\\nunsafe cast from uint64 to int64. Precision may be lost.\\n\\n (warnings.py:110)&lt;/div&gt;\\n&lt;div style=&#x27;margin: 0;&#x27;&gt;&lt;span&gt;tardis.simulation.base&lt;/span&gt; &lt;span style=&quot;color: #D3D3D3; font-weight: bold;&quot;&gt;[INFO]&lt;/span&gt; \\n\\tLuminosity emitted   = 7.942e+42 erg / s\\n\\tLuminosity absorbed  = 2.659e+42 erg / s\\n\\tLuminosity requested = 1.059e+43 erg / s\\n (base.py:636)&lt;/div&gt;\\n&lt;div style=&#x27;margin: 0;&#x27;&gt;&lt;pre style=&quot;white-space: pre; margin: 0;&quot;&gt;Shell No.        t_rad    next_t_rad         w    next_w\\n0          9926.501965  10142.546774  0.400392  0.507139\\n5          9852.611678  10224.137369  0.211205  0.196866\\n10         9779.813302  10151.355363  0.142695  0.116866\\n15         9708.082813   9876.208641  0.104556  0.086846&lt;/pre&gt;&lt;/div&gt;\\n&lt;div style=&#x27;margin: 0;&#x27;&gt;&lt;span&gt;tardis.simulation.base&lt;/span&gt; &lt;span style=&quot;color: #D3D3D3; font-weight: bold;&quot;&gt;[INFO]&lt;/span&gt; \\n\\tCurrent t_inner = 9933.952 K\\n\\tExpected t_inner for next iteration = 10703.327 K\\n (base.py:631)&lt;/div&gt;\\n&lt;div style=&#x27;margin: 0;&#x27;&gt;&lt;span&gt;tardis.simulation.base&lt;/span&gt; &lt;span style=&quot;color: #D3D3D3; font-weight: bold;&quot;&gt;[INFO]&lt;/span&gt; \\n\\tStarting iteration 2 of 20 (base.py:444)&lt;/div&gt;\\n&lt;div style=&#x27;margin: 0;&#x27;&gt;&lt;span&gt;tardis.simulation.base&lt;/span&gt; &lt;span style=&quot;color: #D3D3D3; font-weight: bold;&quot;&gt;[INFO]&lt;/span&gt; \\n\\tLuminosity emitted   = 1.071e+43 erg / s\\n\\tLuminosity absorbed  = 3.577e+42 erg / s\\n\\tLuminosity requested = 1.059e+43 erg / s\\n (base.py:636)&lt;/div&gt;\\n&lt;div style=&#x27;margin: 0;&#x27;&gt;&lt;pre style=&quot;white-space: pre; margin: 0;&quot;&gt;Shell No.         t_rad    next_t_rad         w    next_w\\n0          10142.546774  10823.773343  0.507139  0.524047\\n5          10224.137369  10973.065228  0.196866  0.201655\\n10         10151.355363  10799.893338  0.116866  0.124297\\n15          9876.208641  10501.552075  0.086846  0.092612&lt;/pre&gt;&lt;/div&gt;\\n&lt;div style=&#x27;margin: 0;&#x27;&gt;&lt;span&gt;tardis.simulation.base&lt;/span&gt; &lt;span style=&quot;color: #D3D3D3; font-weight: bold;&quot;&gt;[INFO]&lt;/span&gt; \\n\\tCurrent t_inner = 10703.327 K\\n\\tExpected t_inner for next iteration = 10673.709 K\\n (base.py:631)&lt;/div&gt;\\n&lt;div style=&#x27;margin: 0;&#x27;&gt;&lt;span&gt;tardis.simulation.base&lt;/span&gt; &lt;span style=&quot;color: #D3D3D3; font-weight: bold;&quot;&gt;[INFO]&lt;/span&gt; \\n\\tStarting iteration 3 of 20 (base.py:444)&lt;/div&gt;\\n&lt;div style=&#x27;margin: 0;&#x27;&gt;&lt;span&gt;tardis.simulation.base&lt;/span&gt; &lt;span style=&quot;color: #D3D3D3; font-weight: bold;&quot;&gt;[INFO]&lt;/span&gt; \\n\\tLuminosity emitted   = 1.074e+43 erg / s\\n\\tLuminosity absorbed  = 3.397e+42 erg / s\\n\\tLuminosity requested = 1.059e+43 erg / s\\n (base.py:636)&lt;/div&gt;\\n&lt;div style=&#x27;margin: 0;&#x27;&gt;&lt;span&gt;tardis.simulation.base&lt;/span&gt; &lt;span style=&quot;color: #D3D3D3; font-weight: bold;&quot;&gt;[INFO]&lt;/span&gt; Iteration converged 1/4 consecutive times. (base.py:260)&lt;/div&gt;\\n&lt;div style=&#x27;margin: 0;&#x27;&gt;&lt;pre style=&quot;white-space: pre; margin: 0;&quot;&gt;Shell No.         t_rad    next_t_rad         w    next_w\\n0          10823.773343  10997.936524  0.524047  0.483873\\n5          10973.065228  11155.737123  0.201655  0.190460\\n10         10799.893338  10950.817110  0.124297  0.118169\\n15         10501.552075  10591.191659  0.092612  0.089354&lt;/pre&gt;&lt;/div&gt;\\n&lt;div style=&#x27;margin: 0;&#x27;&gt;&lt;span&gt;tardis.simulation.base&lt;/span&gt; &lt;span style=&quot;color: #D3D3D3; font-weight: bold;&quot;&gt;[INFO]&lt;/span&gt; \\n\\tCurrent t_inner = 10673.709 K\\n\\tExpected t_inner for next iteration = 10637.548 K\\n (base.py:631)&lt;/div&gt;\\n&lt;div style=&#x27;margin: 0;&#x27;&gt;&lt;span&gt;tardis.simulation.base&lt;/span&gt; &lt;span style=&quot;color: #D3D3D3; font-weight: bold;&quot;&gt;[INFO]&lt;/span&gt; \\n\\tStarting iteration 4 of 20 (base.py:444)&lt;/div&gt;\\n&lt;div style=&#x27;margin: 0;&#x27;&gt;&lt;span&gt;tardis.simulation.base&lt;/span&gt; &lt;span style=&quot;color: #D3D3D3; font-weight: bold;&quot;&gt;[INFO]&lt;/span&gt; \\n\\tLuminosity emitted   = 1.058e+43 erg / s\\n\\tLuminosity absorbed  = 3.365e+42 erg / s\\n\\tLuminosity requested = 1.059e+43 erg / s\\n (base.py:636)&lt;/div&gt;\\n&lt;div style=&#x27;margin: 0;&#x27;&gt;&lt;span&gt;tardis.simulation.base&lt;/span&gt; &lt;span style=&quot;color: #D3D3D3; font-weight: bold;&quot;&gt;[INFO]&lt;/span&gt; Iteration converged 2/4 consecutive times. (base.py:260)&lt;/div&gt;\\n&lt;div style=&#x27;margin: 0;&#x27;&gt;&lt;pre style=&quot;white-space: pre; margin: 0;&quot;&gt;Shell No.         t_rad    next_t_rad         w    next_w\\n0          10997.936524  11025.459753  0.483873  0.470769\\n5          11155.737123  11250.476775  0.190460  0.181240\\n10         10950.817110  11025.830185  0.118169  0.113409\\n15         10591.191659  10693.643402  0.089354  0.085118&lt;/pre&gt;&lt;/div&gt;\\n&lt;div style=&#x27;margin: 0;&#x27;&gt;&lt;span&gt;tardis.simulation.base&lt;/span&gt; &lt;span style=&quot;color: #D3D3D3; font-weight: bold;&quot;&gt;[INFO]&lt;/span&gt; \\n\\tCurrent t_inner = 10637.548 K\\n\\tExpected t_inner for next iteration = 10641.159 K\\n (base.py:631)&lt;/div&gt;\\n&lt;div style=&#x27;margin: 0;&#x27;&gt;&lt;span&gt;tardis.simulation.base&lt;/span&gt; &lt;span style=&quot;color: #D3D3D3; font-weight: bold;&quot;&gt;[INFO]&lt;/span&gt; \\n\\tStarting iteration 5 of 20 (base.py:444)&lt;/div&gt;\\n&lt;div style=&#x27;margin: 0;&#x27;&gt;&lt;span&gt;tardis.simulation.base&lt;/span&gt; &lt;span style=&quot;color: #D3D3D3; font-weight: bold;&quot;&gt;[INFO]&lt;/span&gt; \\n\\tLuminosity emitted   = 1.057e+43 erg / s\\n\\tLuminosity absorbed  = 3.391e+42 erg / s\\n\\tLuminosity requested = 1.059e+43 erg / s\\n (base.py:636)&lt;/div&gt;\\n&lt;div style=&#x27;margin: 0;&#x27;&gt;&lt;span&gt;tardis.simulation.base&lt;/span&gt; &lt;span style=&quot;color: #D3D3D3; font-weight: bold;&quot;&gt;[INFO]&lt;/span&gt; Iteration converged 3/4 consecutive times. (base.py:260)&lt;/div&gt;\\n&lt;div style=&#x27;margin: 0;&#x27;&gt;&lt;pre style=&quot;white-space: pre; margin: 0;&quot;&gt;Shell No.         t_rad    next_t_rad         w    next_w\\n0          11025.459753  10998.992370  0.470769  0.479691\\n5          11250.476775  11285.022098  0.181240  0.178679\\n10         11025.830185  10984.384690  0.113409  0.115145\\n15         10693.643402  10734.268321  0.085118  0.083826&lt;/pre&gt;&lt;/div&gt;\\n&lt;div style=&#x27;margin: 0;&#x27;&gt;&lt;span&gt;tardis.simulation.base&lt;/span&gt; &lt;span style=&quot;color: #D3D3D3; font-weight: bold;&quot;&gt;[INFO]&lt;/span&gt; \\n\\tCurrent t_inner = 10641.159 K\\n\\tExpected t_inner for next iteration = 10647.218 K\\n (base.py:631)&lt;/div&gt;\\n&lt;div style=&#x27;margin: 0;&#x27;&gt;&lt;span&gt;tardis.simulation.base&lt;/span&gt; &lt;span style=&quot;color: #D3D3D3; font-weight: bold;&quot;&gt;[INFO]&lt;/span&gt; \\n\\tStarting iteration 6 of 20 (base.py:444)&lt;/div&gt;\\n&lt;div style=&#x27;margin: 0;&#x27;&gt;&lt;span&gt;tardis.simulation.base&lt;/span&gt; &lt;span style=&quot;color: #D3D3D3; font-weight: bold;&quot;&gt;[INFO]&lt;/span&gt; \\n\\tLuminosity emitted   = 1.060e+43 erg / s\\n\\tLuminosity absorbed  = 3.394e+42 erg / s\\n\\tLuminosity requested = 1.059e+43 erg / s\\n (base.py:636)&lt;/div&gt;\\n&lt;div style=&#x27;margin: 0;&#x27;&gt;&lt;span&gt;tardis.simulation.base&lt;/span&gt; &lt;span style=&quot;color: #D3D3D3; font-weight: bold;&quot;&gt;[INFO]&lt;/span&gt; Iteration converged 4/4 consecutive times. (base.py:260)&lt;/div&gt;\\n&lt;div style=&#x27;margin: 0;&#x27;&gt;&lt;pre style=&quot;white-space: pre; margin: 0;&quot;&gt;Shell No.         t_rad    next_t_rad         w    next_w\\n0          10998.992370  11062.386149  0.479691  0.466406\\n5          11285.022098  11251.893932  0.178679  0.182435\\n10         10984.384690  10982.572101  0.115145  0.115372\\n15         10734.268321  10674.160527  0.083826  0.085281&lt;/pre&gt;&lt;/div&gt;\\n&lt;div style=&#x27;margin: 0;&#x27;&gt;&lt;span&gt;tardis.simulation.base&lt;/span&gt; &lt;span style=&quot;color: #D3D3D3; font-weight: bold;&quot;&gt;[INFO]&lt;/span&gt; \\n\\tCurrent t_inner = 10647.218 K\\n\\tExpected t_inner for next iteration = 10645.645 K\\n (base.py:631)&lt;/div&gt;\\n&lt;div style=&#x27;margin: 0;&#x27;&gt;&lt;span&gt;tardis.simulation.base&lt;/span&gt; &lt;span style=&quot;color: #D3D3D3; font-weight: bold;&quot;&gt;[INFO]&lt;/span&gt; \\n\\tStarting iteration 7 of 20 (base.py:444)&lt;/div&gt;\\n&lt;div style=&#x27;margin: 0;&#x27;&gt;&lt;span&gt;tardis.simulation.base&lt;/span&gt; &lt;span style=&quot;color: #D3D3D3; font-weight: bold;&quot;&gt;[INFO]&lt;/span&gt; \\n\\tLuminosity emitted   = 1.060e+43 erg / s\\n\\tLuminosity absorbed  = 3.389e+42 erg / s\\n\\tLuminosity requested = 1.059e+43 erg / s\\n (base.py:636)&lt;/div&gt;\\n&lt;div style=&#x27;margin: 0;&#x27;&gt;&lt;span&gt;tardis.simulation.base&lt;/span&gt; &lt;span style=&quot;color: #D3D3D3; font-weight: bold;&quot;&gt;[INFO]&lt;/span&gt; Iteration converged 5/4 consecutive times. (base.py:260)&lt;/div&gt;\\n&lt;div style=&#x27;margin: 0;&#x27;&gt;&lt;pre style=&quot;white-space: pre; margin: 0;&quot;&gt;Shell No.         t_rad    next_t_rad         w    next_w\\n0          11062.386149  11044.421981  0.466406  0.468831\\n5          11251.893932  11374.121338  0.182435  0.172849\\n10         10982.572101  11014.646546  0.115372  0.113250\\n15         10674.160527  10631.290195  0.085281  0.086536&lt;/pre&gt;&lt;/div&gt;\\n&lt;div style=&#x27;margin: 0;&#x27;&gt;&lt;span&gt;tardis.simulation.base&lt;/span&gt; &lt;span style=&quot;color: #D3D3D3; font-weight: bold;&quot;&gt;[INFO]&lt;/span&gt; \\n\\tCurrent t_inner = 10645.645 K\\n\\tExpected t_inner for next iteration = 10644.007 K\\n (base.py:631)&lt;/div&gt;\\n&lt;div style=&#x27;margin: 0;&#x27;&gt;&lt;span&gt;tardis.simulation.base&lt;/span&gt; &lt;span style=&quot;color: #D3D3D3; font-weight: bold;&quot;&gt;[INFO]&lt;/span&gt; \\n\\tStarting iteration 8 of 20 (base.py:444)&lt;/div&gt;\\n&lt;div style=&#x27;margin: 0;&#x27;&gt;&lt;span&gt;tardis.simulation.base&lt;/span&gt; &lt;span style=&quot;color: #D3D3D3; font-weight: bold;&quot;&gt;[INFO]&lt;/span&gt; \\n\\tLuminosity emitted   = 1.062e+43 erg / s\\n\\tLuminosity absorbed  = 3.356e+42 erg / s\\n\\tLuminosity requested = 1.059e+43 erg / s\\n (base.py:636)&lt;/div&gt;\\n&lt;div style=&#x27;margin: 0;&#x27;&gt;&lt;span&gt;tardis.simulation.base&lt;/span&gt; &lt;span style=&quot;color: #D3D3D3; font-weight: bold;&quot;&gt;[INFO]&lt;/span&gt; Iteration converged 6/4 consecutive times. (base.py:260)&lt;/div&gt;\\n&lt;div style=&#x27;margin: 0;&#x27;&gt;&lt;pre style=&quot;white-space: pre; margin: 0;&quot;&gt;Shell No.         t_rad    next_t_rad         w    next_w\\n0          11044.421981  11069.120167  0.468831  0.469856\\n5          11374.121338  11329.723448  0.172849  0.177557\\n10         11014.646546  11079.797552  0.113250  0.111659\\n15         10631.290195  10735.589679  0.086536  0.083570&lt;/pre&gt;&lt;/div&gt;\\n&lt;div style=&#x27;margin: 0;&#x27;&gt;&lt;span&gt;tardis.simulation.base&lt;/span&gt; &lt;span style=&quot;color: #D3D3D3; font-weight: bold;&quot;&gt;[INFO]&lt;/span&gt; \\n\\tCurrent t_inner = 10644.007 K\\n\\tExpected t_inner for next iteration = 10636.775 K\\n (base.py:631)&lt;/div&gt;\\n&lt;div style=&#x27;margin: 0;&#x27;&gt;&lt;span&gt;tardis.simulation.base&lt;/span&gt; &lt;span style=&quot;color: #D3D3D3; font-weight: bold;&quot;&gt;[INFO]&lt;/span&gt; \\n\\tStarting iteration 9 of 20 (base.py:444)&lt;/div&gt;\\n&lt;div style=&#x27;margin: 0;&#x27;&gt;&lt;span&gt;tardis.simulation.base&lt;/span&gt; &lt;span style=&quot;color: #D3D3D3; font-weight: bold;&quot;&gt;[INFO]&lt;/span&gt; \\n\\tLuminosity emitted   = 1.053e+43 erg / s\\n\\tLuminosity absorbed  = 3.409e+42 erg / s\\n\\tLuminosity requested = 1.059e+43 erg / s\\n (base.py:636)&lt;/div&gt;\\n&lt;div style=&#x27;margin: 0;&#x27;&gt;&lt;span&gt;tardis.simulation.base&lt;/span&gt; &lt;span style=&quot;color: #D3D3D3; font-weight: bold;&quot;&gt;[INFO]&lt;/span&gt; Iteration converged 7/4 consecutive times. (base.py:260)&lt;/div&gt;\\n&lt;div style=&#x27;margin: 0;&#x27;&gt;&lt;pre style=&quot;white-space: pre; margin: 0;&quot;&gt;Shell No.         t_rad    next_t_rad         w    next_w\\n0          11069.120167  11040.862394  0.469856  0.470832\\n5          11329.723448  11422.617758  0.177557  0.171857\\n10         11079.797552  11152.498499  0.111659  0.108761\\n15         10735.589679  10708.551912  0.083570  0.083626&lt;/pre&gt;&lt;/div&gt;\\n&lt;div style=&#x27;margin: 0;&#x27;&gt;&lt;span&gt;tardis.simulation.base&lt;/span&gt; &lt;span style=&quot;color: #D3D3D3; font-weight: bold;&quot;&gt;[INFO]&lt;/span&gt; \\n\\tCurrent t_inner = 10636.775 K\\n\\tExpected t_inner for next iteration = 10653.396 K\\n (base.py:631)&lt;/div&gt;\\n&lt;div style=&#x27;margin: 0;&#x27;&gt;&lt;span&gt;tardis.simulation.base&lt;/span&gt; &lt;span style=&quot;color: #D3D3D3; font-weight: bold;&quot;&gt;[INFO]&lt;/span&gt; \\n\\tStarting iteration 10 of 20 (base.py:444)&lt;/div&gt;\\n&lt;div style=&#x27;margin: 0;&#x27;&gt;&lt;span&gt;tardis.simulation.base&lt;/span&gt; &lt;span style=&quot;color: #D3D3D3; font-weight: bold;&quot;&gt;[INFO]&lt;/span&gt; \\n\\tLuminosity emitted   = 1.071e+43 erg / s\\n\\tLuminosity absorbed  = 3.320e+42 erg / s\\n\\tLuminosity requested = 1.059e+43 erg / s\\n (base.py:636)&lt;/div&gt;\\n&lt;div style=&#x27;margin: 0;&#x27;&gt;&lt;span&gt;tardis.simulation.base&lt;/span&gt; &lt;span style=&quot;color: #D3D3D3; font-weight: bold;&quot;&gt;[INFO]&lt;/span&gt; Iteration converged 8/4 consecutive times. (base.py:260)&lt;/div&gt;\\n&lt;div style=&#x27;margin: 0;&#x27;&gt;&lt;pre style=&quot;white-space: pre; margin: 0;&quot;&gt;Shell No.         t_rad    next_t_rad         w    next_w\\n0          11040.862394  11021.149701  0.470832  0.476682\\n5          11422.617758  11355.081374  0.171857  0.178340\\n10         11152.498499  11057.634031  0.108761  0.113629\\n15         10708.551912  10648.738352  0.083626  0.087198&lt;/pre&gt;&lt;/div&gt;\\n&lt;div style=&#x27;margin: 0;&#x27;&gt;&lt;span&gt;tardis.simulation.base&lt;/span&gt; &lt;span style=&quot;color: #D3D3D3; font-weight: bold;&quot;&gt;[INFO]&lt;/span&gt; \\n\\tCurrent t_inner = 10653.396 K\\n\\tExpected t_inner for next iteration = 10624.877 K\\n (base.py:631)&lt;/div&gt;\\n&lt;div style=&#x27;margin: 0;&#x27;&gt;&lt;span&gt;tardis.simulation.base&lt;/span&gt; &lt;span style=&quot;color: #D3D3D3; font-weight: bold;&quot;&gt;[INFO]&lt;/span&gt; \\n\\tStarting iteration 11 of 20 (base.py:444)&lt;/div&gt;\\n&lt;div style=&#x27;margin: 0;&#x27;&gt;&lt;span&gt;tardis.simulation.base&lt;/span&gt; &lt;span style=&quot;color: #D3D3D3; font-weight: bold;&quot;&gt;[INFO]&lt;/span&gt; \\n\\tLuminosity emitted   = 1.050e+43 erg / s\\n\\tLuminosity absorbed  = 3.378e+42 erg / s\\n\\tLuminosity requested = 1.059e+43 erg / s\\n (base.py:636)&lt;/div&gt;\\n&lt;div style=&#x27;margin: 0;&#x27;&gt;&lt;span&gt;tardis.simulation.base&lt;/span&gt; &lt;span style=&quot;color: #D3D3D3; font-weight: bold;&quot;&gt;[INFO]&lt;/span&gt; Iteration converged 9/4 consecutive times. (base.py:260)&lt;/div&gt;\\n&lt;div style=&#x27;margin: 0;&#x27;&gt;&lt;pre style=&quot;white-space: pre; margin: 0;&quot;&gt;Shell No.         t_rad    next_t_rad         w    next_w\\n0          11021.149701  11033.143067  0.476682  0.473438\\n5          11355.081374  11232.669118  0.178340  0.181972\\n10         11057.634031  10966.246563  0.113629  0.114673\\n15         10648.738352  10628.818554  0.087198  0.085842&lt;/pre&gt;&lt;/div&gt;\\n&lt;div style=&#x27;margin: 0;&#x27;&gt;&lt;span&gt;tardis.simulation.base&lt;/span&gt; &lt;span style=&quot;color: #D3D3D3; font-weight: bold;&quot;&gt;[INFO]&lt;/span&gt; \\n\\tCurrent t_inner = 10624.877 K\\n\\tExpected t_inner for next iteration = 10649.271 K\\n (base.py:631)&lt;/div&gt;\\n&lt;div style=&#x27;margin: 0;&#x27;&gt;&lt;span&gt;tardis.simulation.base&lt;/span&gt; &lt;span style=&quot;color: #D3D3D3; font-weight: bold;&quot;&gt;[INFO]&lt;/span&gt; \\n\\tStarting iteration 12 of 20 (base.py:444)&lt;/div&gt;\\n&lt;div style=&#x27;margin: 0;&#x27;&gt;&lt;span&gt;tardis.simulation.base&lt;/span&gt; &lt;span style=&quot;color: #D3D3D3; font-weight: bold;&quot;&gt;[INFO]&lt;/span&gt; \\n\\tLuminosity emitted   = 1.057e+43 erg / s\\n\\tLuminosity absorbed  = 3.427e+42 erg / s\\n\\tLuminosity requested = 1.059e+43 erg / s\\n (base.py:636)&lt;/div&gt;\\n&lt;div style=&#x27;margin: 0;&#x27;&gt;&lt;span&gt;tardis.simulation.base&lt;/span&gt; &lt;span style=&quot;color: #D3D3D3; font-weight: bold;&quot;&gt;[INFO]&lt;/span&gt; Iteration converged 10/4 consecutive times. (base.py:260)&lt;/div&gt;\\n&lt;div style=&#x27;margin: 0;&#x27;&gt;&lt;pre style=&quot;white-space: pre; margin: 0;&quot;&gt;Shell No.         t_rad    next_t_rad         w    next_w\\n0          11033.143067  11087.843360  0.473438  0.465085\\n5          11232.669118  11275.807376  0.181972  0.180289\\n10         10966.246563  11068.013441  0.114673  0.111169\\n15         10628.818554  10748.982798  0.085842  0.083035&lt;/pre&gt;&lt;/div&gt;\\n&lt;div style=&#x27;margin: 0;&#x27;&gt;&lt;span&gt;tardis.simulation.base&lt;/span&gt; &lt;span style=&quot;color: #D3D3D3; font-weight: bold;&quot;&gt;[INFO]&lt;/span&gt; \\n\\tCurrent t_inner = 10649.271 K\\n\\tExpected t_inner for next iteration = 10653.802 K\\n (base.py:631)&lt;/div&gt;\\n&lt;div style=&#x27;margin: 0;&#x27;&gt;&lt;span&gt;tardis.simulation.base&lt;/span&gt; &lt;span style=&quot;color: #D3D3D3; font-weight: bold;&quot;&gt;[INFO]&lt;/span&gt; \\n\\tStarting iteration 13 of 20 (base.py:444)&lt;/div&gt;\\n&lt;div style=&#x27;margin: 0;&#x27;&gt;&lt;span&gt;tardis.simulation.base&lt;/span&gt; &lt;span style=&quot;color: #D3D3D3; font-weight: bold;&quot;&gt;[INFO]&lt;/span&gt; \\n\\tLuminosity emitted   = 1.062e+43 erg / s\\n\\tLuminosity absorbed  = 3.405e+42 erg / s\\n\\tLuminosity requested = 1.059e+43 erg / s\\n (base.py:636)&lt;/div&gt;\\n&lt;div style=&#x27;margin: 0;&#x27;&gt;&lt;span&gt;tardis.simulation.base&lt;/span&gt; &lt;span style=&quot;color: #D3D3D3; font-weight: bold;&quot;&gt;[INFO]&lt;/span&gt; Iteration converged 11/4 consecutive times. (base.py:260)&lt;/div&gt;\\n&lt;div style=&#x27;margin: 0;&#x27;&gt;&lt;pre style=&quot;white-space: pre; margin: 0;&quot;&gt;Shell No.         t_rad    next_t_rad         w    next_w\\n0          11087.843360  11086.546488  0.465085  0.465778\\n5          11275.807376  11323.353434  0.180289  0.178036\\n10         11068.013441  11053.173485  0.111169  0.112635\\n15         10748.982798  10688.059659  0.083035  0.086010&lt;/pre&gt;&lt;/div&gt;\\n&lt;div style=&#x27;margin: 0;&#x27;&gt;&lt;span&gt;tardis.simulation.base&lt;/span&gt; &lt;span style=&quot;color: #D3D3D3; font-weight: bold;&quot;&gt;[INFO]&lt;/span&gt; \\n\\tCurrent t_inner = 10653.802 K\\n\\tExpected t_inner for next iteration = 10646.746 K\\n (base.py:631)&lt;/div&gt;\\n&lt;div style=&#x27;margin: 0;&#x27;&gt;&lt;span&gt;tardis.simulation.base&lt;/span&gt; &lt;span style=&quot;color: #D3D3D3; font-weight: bold;&quot;&gt;[INFO]&lt;/span&gt; \\n\\tStarting iteration 14 of 20 (base.py:444)&lt;/div&gt;\\n&lt;div style=&#x27;margin: 0;&#x27;&gt;&lt;span&gt;tardis.simulation.base&lt;/span&gt; &lt;span style=&quot;color: #D3D3D3; font-weight: bold;&quot;&gt;[INFO]&lt;/span&gt; \\n\\tLuminosity emitted   = 1.061e+43 erg / s\\n\\tLuminosity absorbed  = 3.377e+42 erg / s\\n\\tLuminosity requested = 1.059e+43 erg / s\\n (base.py:636)&lt;/div&gt;\\n&lt;div style=&#x27;margin: 0;&#x27;&gt;&lt;span&gt;tardis.simulation.base&lt;/span&gt; &lt;span style=&quot;color: #D3D3D3; font-weight: bold;&quot;&gt;[INFO]&lt;/span&gt; Iteration converged 12/4 consecutive times. (base.py:260)&lt;/div&gt;\\n&lt;div style=&#x27;margin: 0;&#x27;&gt;&lt;pre style=&quot;white-space: pre; margin: 0;&quot;&gt;Shell No.         t_rad    next_t_rad         w    next_w\\n0          11086.546488  11080.438593  0.465778  0.468386\\n5          11323.353434  11300.968754  0.178036  0.180922\\n10         11053.173485  11006.742479  0.112635  0.114366\\n15         10688.059659  10634.395123  0.086010  0.086679&lt;/pre&gt;&lt;/div&gt;\\n&lt;div style=&#x27;margin: 0;&#x27;&gt;&lt;span&gt;tardis.simulation.base&lt;/span&gt; &lt;span style=&quot;color: #D3D3D3; font-weight: bold;&quot;&gt;[INFO]&lt;/span&gt; \\n\\tCurrent t_inner = 10646.746 K\\n\\tExpected t_inner for next iteration = 10641.333 K\\n (base.py:631)&lt;/div&gt;\\n&lt;div style=&#x27;margin: 0;&#x27;&gt;&lt;span&gt;tardis.simulation.base&lt;/span&gt; &lt;span style=&quot;color: #D3D3D3; font-weight: bold;&quot;&gt;[INFO]&lt;/span&gt; \\n\\tStarting iteration 15 of 20 (base.py:444)&lt;/div&gt;\\n&lt;div style=&#x27;margin: 0;&#x27;&gt;&lt;span&gt;tardis.simulation.base&lt;/span&gt; &lt;span style=&quot;color: #D3D3D3; font-weight: bold;&quot;&gt;[INFO]&lt;/span&gt; \\n\\tLuminosity emitted   = 1.055e+43 erg / s\\n\\tLuminosity absorbed  = 3.411e+42 erg / s\\n\\tLuminosity requested = 1.059e+43 erg / s\\n (base.py:636)&lt;/div&gt;\\n&lt;div style=&#x27;margin: 0;&#x27;&gt;&lt;span&gt;tardis.simulation.base&lt;/span&gt; &lt;span style=&quot;color: #D3D3D3; font-weight: bold;&quot;&gt;[INFO]&lt;/span&gt; Iteration converged 13/4 consecutive times. (base.py:260)&lt;/div&gt;\\n&lt;div style=&#x27;margin: 0;&#x27;&gt;&lt;pre style=&quot;white-space: pre; margin: 0;&quot;&gt;Shell No.         t_rad    next_t_rad         w    next_w\\n0          11080.438593  10964.035202  0.468386  0.483948\\n5          11300.968754  11282.337017  0.180922  0.180055\\n10         11006.742479  11037.967945  0.114366  0.113049\\n15         10634.395123  10674.687180  0.086679  0.085238&lt;/pre&gt;&lt;/div&gt;\\n&lt;div style=&#x27;margin: 0;&#x27;&gt;&lt;span&gt;tardis.simulation.base&lt;/span&gt; &lt;span style=&quot;color: #D3D3D3; font-weight: bold;&quot;&gt;[INFO]&lt;/span&gt; \\n\\tCurrent t_inner = 10641.333 K\\n\\tExpected t_inner for next iteration = 10652.281 K\\n (base.py:631)&lt;/div&gt;\\n&lt;div style=&#x27;margin: 0;&#x27;&gt;&lt;span&gt;tardis.simulation.base&lt;/span&gt; &lt;span style=&quot;color: #D3D3D3; font-weight: bold;&quot;&gt;[INFO]&lt;/span&gt; \\n\\tStarting iteration 16 of 20 (base.py:444)&lt;/div&gt;\\n&lt;div style=&#x27;margin: 0;&#x27;&gt;&lt;span&gt;tardis.simulation.base&lt;/span&gt; &lt;span style=&quot;color: #D3D3D3; font-weight: bold;&quot;&gt;[INFO]&lt;/span&gt; \\n\\tLuminosity emitted   = 1.058e+43 erg / s\\n\\tLuminosity absorbed  = 3.437e+42 erg / s\\n\\tLuminosity requested = 1.059e+43 erg / s\\n (base.py:636)&lt;/div&gt;\\n&lt;div style=&#x27;margin: 0;&#x27;&gt;&lt;span&gt;tardis.simulation.base&lt;/span&gt; &lt;span style=&quot;color: #D3D3D3; font-weight: bold;&quot;&gt;[INFO]&lt;/span&gt; Iteration converged 14/4 consecutive times. (base.py:260)&lt;/div&gt;\\n&lt;div style=&#x27;margin: 0;&#x27;&gt;&lt;pre style=&quot;white-space: pre; margin: 0;&quot;&gt;Shell No.         t_rad    next_t_rad         w    next_w\\n0          10964.035202  11042.587566  0.483948  0.471783\\n5          11282.337017  11375.256379  0.180055  0.172888\\n10         11037.967945  11057.595126  0.113049  0.111964\\n15         10674.687180  10732.089876  0.085238  0.083235&lt;/pre&gt;&lt;/div&gt;\\n&lt;div style=&#x27;margin: 0;&#x27;&gt;&lt;span&gt;tardis.simulation.base&lt;/span&gt; &lt;span style=&quot;color: #D3D3D3; font-weight: bold;&quot;&gt;[INFO]&lt;/span&gt; \\n\\tCurrent t_inner = 10652.281 K\\n\\tExpected t_inner for next iteration = 10654.516 K\\n (base.py:631)&lt;/div&gt;\\n&lt;div style=&#x27;margin: 0;&#x27;&gt;&lt;span&gt;tardis.simulation.base&lt;/span&gt; &lt;span style=&quot;color: #D3D3D3; font-weight: bold;&quot;&gt;[INFO]&lt;/span&gt; \\n\\tStarting iteration 17 of 20 (base.py:444)&lt;/div&gt;\\n&lt;div style=&#x27;margin: 0;&#x27;&gt;&lt;span&gt;tardis.simulation.base&lt;/span&gt; &lt;span style=&quot;color: #D3D3D3; font-weight: bold;&quot;&gt;[INFO]&lt;/span&gt; \\n\\tLuminosity emitted   = 1.066e+43 erg / s\\n\\tLuminosity absorbed  = 3.375e+42 erg / s\\n\\tLuminosity requested = 1.059e+43 erg / s\\n (base.py:636)&lt;/div&gt;\\n&lt;div style=&#x27;margin: 0;&#x27;&gt;&lt;span&gt;tardis.simulation.base&lt;/span&gt; &lt;span style=&quot;color: #D3D3D3; font-weight: bold;&quot;&gt;[INFO]&lt;/span&gt; Iteration converged 15/4 consecutive times. (base.py:260)&lt;/div&gt;\\n&lt;div style=&#x27;margin: 0;&#x27;&gt;&lt;pre style=&quot;white-space: pre; margin: 0;&quot;&gt;Shell No.         t_rad    next_t_rad         w    next_w\\n0          11042.587566  11075.308461  0.471783  0.464843\\n5          11375.256379  11439.649947  0.172888  0.171043\\n10         11057.595126  11185.093739  0.111964  0.107880\\n15         10732.089876  10828.748565  0.083235  0.081284&lt;/pre&gt;&lt;/div&gt;\\n&lt;div style=&#x27;margin: 0;&#x27;&gt;&lt;span&gt;tardis.simulation.base&lt;/span&gt; &lt;span style=&quot;color: #D3D3D3; font-weight: bold;&quot;&gt;[INFO]&lt;/span&gt; \\n\\tCurrent t_inner = 10654.516 K\\n\\tExpected t_inner for next iteration = 10637.793 K\\n (base.py:631)&lt;/div&gt;\\n&lt;div style=&#x27;margin: 0;&#x27;&gt;&lt;span&gt;tardis.simulation.base&lt;/span&gt; &lt;span style=&quot;color: #D3D3D3; font-weight: bold;&quot;&gt;[INFO]&lt;/span&gt; \\n\\tStarting iteration 18 of 20 (base.py:444)&lt;/div&gt;\\n&lt;div style=&#x27;margin: 0;&#x27;&gt;&lt;span&gt;tardis.simulation.base&lt;/span&gt; &lt;span style=&quot;color: #D3D3D3; font-weight: bold;&quot;&gt;[INFO]&lt;/span&gt; \\n\\tLuminosity emitted   = 1.059e+43 erg / s\\n\\tLuminosity absorbed  = 3.354e+42 erg / s\\n\\tLuminosity requested = 1.059e+43 erg / s\\n (base.py:636)&lt;/div&gt;\\n&lt;div style=&#x27;margin: 0;&#x27;&gt;&lt;span&gt;tardis.simulation.base&lt;/span&gt; &lt;span style=&quot;color: #D3D3D3; font-weight: bold;&quot;&gt;[INFO]&lt;/span&gt; Iteration converged 16/4 consecutive times. (base.py:260)&lt;/div&gt;\\n&lt;div style=&#x27;margin: 0;&#x27;&gt;&lt;pre style=&quot;white-space: pre; margin: 0;&quot;&gt;Shell No.         t_rad    next_t_rad         w    next_w\\n0          11075.308461  11074.427342  0.464843  0.463021\\n5          11439.649947  11383.872996  0.171043  0.174425\\n10         11185.093739  11104.670336  0.107880  0.110457\\n15         10828.748565  10681.933253  0.081284  0.084433&lt;/pre&gt;&lt;/div&gt;\\n&lt;div style=&#x27;margin: 0;&#x27;&gt;&lt;span&gt;tardis.simulation.base&lt;/span&gt; &lt;span style=&quot;color: #D3D3D3; font-weight: bold;&quot;&gt;[INFO]&lt;/span&gt; \\n\\tCurrent t_inner = 10637.793 K\\n\\tExpected t_inner for next iteration = 10638.424 K\\n (base.py:631)&lt;/div&gt;\\n&lt;div style=&#x27;margin: 0;&#x27;&gt;&lt;span&gt;tardis.simulation.base&lt;/span&gt; &lt;span style=&quot;color: #D3D3D3; font-weight: bold;&quot;&gt;[INFO]&lt;/span&gt; \\n\\tStarting iteration 19 of 20 (base.py:444)&lt;/div&gt;\\n&lt;div style=&#x27;margin: 0;&#x27;&gt;&lt;span&gt;tardis.simulation.base&lt;/span&gt; &lt;span style=&quot;color: #D3D3D3; font-weight: bold;&quot;&gt;[INFO]&lt;/span&gt; \\n\\tLuminosity emitted   = 1.054e+43 erg / s\\n\\tLuminosity absorbed  = 3.403e+42 erg / s\\n\\tLuminosity requested = 1.059e+43 erg / s\\n (base.py:636)&lt;/div&gt;\\n&lt;div style=&#x27;margin: 0;&#x27;&gt;&lt;span&gt;tardis.simulation.base&lt;/span&gt; &lt;span style=&quot;color: #D3D3D3; font-weight: bold;&quot;&gt;[INFO]&lt;/span&gt; Iteration converged 17/4 consecutive times. (base.py:260)&lt;/div&gt;\\n&lt;div style=&#x27;margin: 0;&#x27;&gt;&lt;pre style=&quot;white-space: pre; margin: 0;&quot;&gt;Shell No.         t_rad    next_t_rad         w    next_w\\n0          11074.427342  11083.753820  0.463021  0.464681\\n5          11383.872996  11384.095699  0.174425  0.173447\\n10         11104.670336  11121.166737  0.110457  0.109419\\n15         10681.933253  10695.839730  0.084433  0.083913&lt;/pre&gt;&lt;/div&gt;\\n&lt;div style=&#x27;margin: 0;&#x27;&gt;&lt;span&gt;tardis.simulation.base&lt;/span&gt; &lt;span style=&quot;color: #D3D3D3; font-weight: bold;&quot;&gt;[INFO]&lt;/span&gt; \\n\\tCurrent t_inner = 10638.424 K\\n\\tExpected t_inner for next iteration = 10651.315 K\\n (base.py:631)&lt;/div&gt;\\n&lt;div style=&#x27;margin: 0;&#x27;&gt;&lt;span&gt;tardis.simulation.base&lt;/span&gt; &lt;span style=&quot;color: #D3D3D3; font-weight: bold;&quot;&gt;[INFO]&lt;/span&gt; \\n\\tSimulation finished in 19 iterations \\n\\tSimulation took 53.43 s\\n (base.py:549)&lt;/div&gt;\\n&lt;div style=&#x27;margin: 0;&#x27;&gt;&lt;span&gt;tardis.simulation.base&lt;/span&gt; &lt;span style=&quot;color: #D3D3D3; font-weight: bold;&quot;&gt;[INFO]&lt;/span&gt; \\n\\tStarting iteration 20 of 20 (base.py:444)&lt;/div&gt;\\n&lt;div style=&#x27;margin: 0;&#x27;&gt;&lt;span&gt;tardis.simulation.base&lt;/span&gt; &lt;span style=&quot;color: #D3D3D3; font-weight: bold;&quot;&gt;[INFO]&lt;/span&gt; \\n\\tLuminosity emitted   = 1.061e+43 erg / s\\n\\tLuminosity absorbed  = 3.400e+42 erg / s\\n\\tLuminosity requested = 1.059e+43 erg / s\\n (base.py:636)&lt;/div&gt;\",\"disable_math\":true}}}},{\"type\":\"object\",\"name\":\"TabPanel\",\"id\":\"b5d3d827-cacf-43dd-9a23-6d2ef3565464\",\"attributes\":{\"name\":\"HTML00120\",\"title\":\"WARNING/ERROR\",\"child\":{\"type\":\"object\",\"name\":\"panel.models.markup.HTML\",\"id\":\"386b8343-a796-4834-a99d-1f0890bf8827\",\"attributes\":{\"styles\":{\"type\":\"map\",\"entries\":[[\"overflow-y\",\"auto\"],[\"overflow-x\",\"auto\"],[\"border\",\"1px solid #ddd\"],[\"width\",\"100%\"],[\"font-family\",\"monospace\"],[\"padding\",\"8px\"],[\"background-color\",\"white\"]]},\"stylesheets\":[\"\\n:host(.pn-loading):before, .pn-loading:before {\\n  background-color: #c3c3c3;\\n  mask-size: auto calc(min(50%, 400px));\\n  -webkit-mask-size: auto calc(min(50%, 400px));\\n}\",{\"id\":\"6d9133ee-ae25-464a-b0cf-7e6af5a9270c\"},{\"id\":\"3432c304-16a6-4b1f-856d-a3fa9f73cced\"},{\"id\":\"553c60e3-bb86-472f-816a-1a4eeef0559a\"}],\"height\":300,\"min_height\":300,\"margin\":[5,10],\"align\":\"start\",\"text\":\"&lt;div style=&#x27;margin: 0;&#x27;&gt;&lt;span&gt;tardis.io.model.parse_composition_configuration&lt;/span&gt; &lt;span style=&quot;color: orange; font-weight: bold;&quot;&gt;[WARNING]&lt;/span&gt; Number of density points larger than number of shells. Assuming inner point irrelevant (parse_composition_configuration.py:58)&lt;/div&gt;\\n&lt;div style=&#x27;margin: 0;&#x27;&gt;&lt;span&gt;tardis.io.model.parse_mass_fraction_configuration&lt;/span&gt; &lt;span style=&quot;color: orange; font-weight: bold;&quot;&gt;[WARNING]&lt;/span&gt; model_isotope_time_0 is not set in the configuration. Isotopic mass fractions will not be decayed and is assumed to be correct for the time_explosion. THIS IS NOT RECOMMENDED! (parse_mass_fraction_configuration.py:97)&lt;/div&gt;\\n&lt;div style=&#x27;margin: 0;&#x27;&gt;&lt;span&gt;py.warnings&lt;/span&gt; &lt;span style=&quot;color: orange; font-weight: bold;&quot;&gt;[WARNING]&lt;/span&gt; /home/runner/work/tardis/tardis/tardis/transport/montecarlo/montecarlo_main_loop.py:123: NumbaTypeSafetyWarning:\\n\\nunsafe cast from uint64 to int64. Precision may be lost.\\n\\n (warnings.py:110)&lt;/div&gt;\",\"disable_math\":true}}}},{\"type\":\"object\",\"name\":\"TabPanel\",\"id\":\"a7e28ee7-8ada-4db9-8261-9a5eb0a9b723\",\"attributes\":{\"name\":\"HTML00122\",\"title\":\"INFO\",\"child\":{\"type\":\"object\",\"name\":\"panel.models.markup.HTML\",\"id\":\"d3043e88-6e58-4381-b00b-80da3503dc6a\",\"attributes\":{\"styles\":{\"type\":\"map\",\"entries\":[[\"overflow-y\",\"auto\"],[\"overflow-x\",\"auto\"],[\"border\",\"1px solid #ddd\"],[\"width\",\"100%\"],[\"font-family\",\"monospace\"],[\"padding\",\"8px\"],[\"background-color\",\"white\"]]},\"stylesheets\":[\"\\n:host(.pn-loading):before, .pn-loading:before {\\n  background-color: #c3c3c3;\\n  mask-size: auto calc(min(50%, 400px));\\n  -webkit-mask-size: auto calc(min(50%, 400px));\\n}\",{\"id\":\"6d9133ee-ae25-464a-b0cf-7e6af5a9270c\"},{\"id\":\"3432c304-16a6-4b1f-856d-a3fa9f73cced\"},{\"id\":\"553c60e3-bb86-472f-816a-1a4eeef0559a\"}],\"height\":300,\"min_height\":300,\"margin\":[5,10],\"align\":\"start\",\"text\":\"&lt;div style=&#x27;margin: 0;&#x27;&gt;&lt;span&gt;tardis.io.model.parse_atom_data&lt;/span&gt; &lt;span style=&quot;color: #D3D3D3; font-weight: bold;&quot;&gt;[INFO]&lt;/span&gt; \\n\\tReading Atomic Data from kurucz_cd23_chianti_H_He_latest.h5 (parse_atom_data.py:40)&lt;/div&gt;\\n&lt;div style=&#x27;margin: 0;&#x27;&gt;&lt;span&gt;tardis.io.atom_data.util&lt;/span&gt; &lt;span style=&quot;color: #D3D3D3; font-weight: bold;&quot;&gt;[INFO]&lt;/span&gt; \\n\\tAtom Data kurucz_cd23_chianti_H_He_latest.h5 not found in local path.\\n\\tExists in TARDIS Data repo /home/runner/Downloads/tardis-data/kurucz_cd23_chianti_H_He_latest.h5 (util.py:34)&lt;/div&gt;\\n&lt;div style=&#x27;margin: 0;&#x27;&gt;&lt;span&gt;tardis.io.atom_data.base&lt;/span&gt; &lt;span style=&quot;color: #D3D3D3; font-weight: bold;&quot;&gt;[INFO]&lt;/span&gt; Reading Atom Data with: UUID = b58b2ef63bf811f08edf96479f911fbd MD5  = 5d80fa4ae0638469bf1ff281b6ca2a94  (base.py:258)&lt;/div&gt;\\n&lt;div style=&#x27;margin: 0;&#x27;&gt;&lt;span&gt;tardis.io.atom_data.base&lt;/span&gt; &lt;span style=&quot;color: #D3D3D3; font-weight: bold;&quot;&gt;[INFO]&lt;/span&gt; Non provided Atomic Data: levels, lines, collision_data, collision_data_temperatures, synpp_refs, photoionization_data, yg_data, two_photon_data, linelist_atoms, linelist_molecules (base.py:262)&lt;/div&gt;\\n&lt;div style=&#x27;margin: 0;&#x27;&gt;&lt;span&gt;tardis.simulation.base&lt;/span&gt; &lt;span style=&quot;color: #D3D3D3; font-weight: bold;&quot;&gt;[INFO]&lt;/span&gt; \\n\\tStarting iteration 1 of 20 (base.py:444)&lt;/div&gt;\\n&lt;div style=&#x27;margin: 0;&#x27;&gt;&lt;span&gt;tardis.simulation.base&lt;/span&gt; &lt;span style=&quot;color: #D3D3D3; font-weight: bold;&quot;&gt;[INFO]&lt;/span&gt; \\n\\tLuminosity emitted   = 7.942e+42 erg / s\\n\\tLuminosity absorbed  = 2.659e+42 erg / s\\n\\tLuminosity requested = 1.059e+43 erg / s\\n (base.py:636)&lt;/div&gt;\\n&lt;div style=&#x27;margin: 0;&#x27;&gt;&lt;pre style=&quot;white-space: pre; margin: 0;&quot;&gt;Shell No.        t_rad    next_t_rad         w    next_w\\n0          9926.501965  10142.546774  0.400392  0.507139\\n5          9852.611678  10224.137369  0.211205  0.196866\\n10         9779.813302  10151.355363  0.142695  0.116866\\n15         9708.082813   9876.208641  0.104556  0.086846&lt;/pre&gt;&lt;/div&gt;\\n&lt;div style=&#x27;margin: 0;&#x27;&gt;&lt;span&gt;tardis.simulation.base&lt;/span&gt; &lt;span style=&quot;color: #D3D3D3; font-weight: bold;&quot;&gt;[INFO]&lt;/span&gt; \\n\\tCurrent t_inner = 9933.952 K\\n\\tExpected t_inner for next iteration = 10703.327 K\\n (base.py:631)&lt;/div&gt;\\n&lt;div style=&#x27;margin: 0;&#x27;&gt;&lt;span&gt;tardis.simulation.base&lt;/span&gt; &lt;span style=&quot;color: #D3D3D3; font-weight: bold;&quot;&gt;[INFO]&lt;/span&gt; \\n\\tStarting iteration 2 of 20 (base.py:444)&lt;/div&gt;\\n&lt;div style=&#x27;margin: 0;&#x27;&gt;&lt;span&gt;tardis.simulation.base&lt;/span&gt; &lt;span style=&quot;color: #D3D3D3; font-weight: bold;&quot;&gt;[INFO]&lt;/span&gt; \\n\\tLuminosity emitted   = 1.071e+43 erg / s\\n\\tLuminosity absorbed  = 3.577e+42 erg / s\\n\\tLuminosity requested = 1.059e+43 erg / s\\n (base.py:636)&lt;/div&gt;\\n&lt;div style=&#x27;margin: 0;&#x27;&gt;&lt;pre style=&quot;white-space: pre; margin: 0;&quot;&gt;Shell No.         t_rad    next_t_rad         w    next_w\\n0          10142.546774  10823.773343  0.507139  0.524047\\n5          10224.137369  10973.065228  0.196866  0.201655\\n10         10151.355363  10799.893338  0.116866  0.124297\\n15          9876.208641  10501.552075  0.086846  0.092612&lt;/pre&gt;&lt;/div&gt;\\n&lt;div style=&#x27;margin: 0;&#x27;&gt;&lt;span&gt;tardis.simulation.base&lt;/span&gt; &lt;span style=&quot;color: #D3D3D3; font-weight: bold;&quot;&gt;[INFO]&lt;/span&gt; \\n\\tCurrent t_inner = 10703.327 K\\n\\tExpected t_inner for next iteration = 10673.709 K\\n (base.py:631)&lt;/div&gt;\\n&lt;div style=&#x27;margin: 0;&#x27;&gt;&lt;span&gt;tardis.simulation.base&lt;/span&gt; &lt;span style=&quot;color: #D3D3D3; font-weight: bold;&quot;&gt;[INFO]&lt;/span&gt; \\n\\tStarting iteration 3 of 20 (base.py:444)&lt;/div&gt;\\n&lt;div style=&#x27;margin: 0;&#x27;&gt;&lt;span&gt;tardis.simulation.base&lt;/span&gt; &lt;span style=&quot;color: #D3D3D3; font-weight: bold;&quot;&gt;[INFO]&lt;/span&gt; \\n\\tLuminosity emitted   = 1.074e+43 erg / s\\n\\tLuminosity absorbed  = 3.397e+42 erg / s\\n\\tLuminosity requested = 1.059e+43 erg / s\\n (base.py:636)&lt;/div&gt;\\n&lt;div style=&#x27;margin: 0;&#x27;&gt;&lt;span&gt;tardis.simulation.base&lt;/span&gt; &lt;span style=&quot;color: #D3D3D3; font-weight: bold;&quot;&gt;[INFO]&lt;/span&gt; Iteration converged 1/4 consecutive times. (base.py:260)&lt;/div&gt;\\n&lt;div style=&#x27;margin: 0;&#x27;&gt;&lt;pre style=&quot;white-space: pre; margin: 0;&quot;&gt;Shell No.         t_rad    next_t_rad         w    next_w\\n0          10823.773343  10997.936524  0.524047  0.483873\\n5          10973.065228  11155.737123  0.201655  0.190460\\n10         10799.893338  10950.817110  0.124297  0.118169\\n15         10501.552075  10591.191659  0.092612  0.089354&lt;/pre&gt;&lt;/div&gt;\\n&lt;div style=&#x27;margin: 0;&#x27;&gt;&lt;span&gt;tardis.simulation.base&lt;/span&gt; &lt;span style=&quot;color: #D3D3D3; font-weight: bold;&quot;&gt;[INFO]&lt;/span&gt; \\n\\tCurrent t_inner = 10673.709 K\\n\\tExpected t_inner for next iteration = 10637.548 K\\n (base.py:631)&lt;/div&gt;\\n&lt;div style=&#x27;margin: 0;&#x27;&gt;&lt;span&gt;tardis.simulation.base&lt;/span&gt; &lt;span style=&quot;color: #D3D3D3; font-weight: bold;&quot;&gt;[INFO]&lt;/span&gt; \\n\\tStarting iteration 4 of 20 (base.py:444)&lt;/div&gt;\\n&lt;div style=&#x27;margin: 0;&#x27;&gt;&lt;span&gt;tardis.simulation.base&lt;/span&gt; &lt;span style=&quot;color: #D3D3D3; font-weight: bold;&quot;&gt;[INFO]&lt;/span&gt; \\n\\tLuminosity emitted   = 1.058e+43 erg / s\\n\\tLuminosity absorbed  = 3.365e+42 erg / s\\n\\tLuminosity requested = 1.059e+43 erg / s\\n (base.py:636)&lt;/div&gt;\\n&lt;div style=&#x27;margin: 0;&#x27;&gt;&lt;span&gt;tardis.simulation.base&lt;/span&gt; &lt;span style=&quot;color: #D3D3D3; font-weight: bold;&quot;&gt;[INFO]&lt;/span&gt; Iteration converged 2/4 consecutive times. (base.py:260)&lt;/div&gt;\\n&lt;div style=&#x27;margin: 0;&#x27;&gt;&lt;pre style=&quot;white-space: pre; margin: 0;&quot;&gt;Shell No.         t_rad    next_t_rad         w    next_w\\n0          10997.936524  11025.459753  0.483873  0.470769\\n5          11155.737123  11250.476775  0.190460  0.181240\\n10         10950.817110  11025.830185  0.118169  0.113409\\n15         10591.191659  10693.643402  0.089354  0.085118&lt;/pre&gt;&lt;/div&gt;\\n&lt;div style=&#x27;margin: 0;&#x27;&gt;&lt;span&gt;tardis.simulation.base&lt;/span&gt; &lt;span style=&quot;color: #D3D3D3; font-weight: bold;&quot;&gt;[INFO]&lt;/span&gt; \\n\\tCurrent t_inner = 10637.548 K\\n\\tExpected t_inner for next iteration = 10641.159 K\\n (base.py:631)&lt;/div&gt;\\n&lt;div style=&#x27;margin: 0;&#x27;&gt;&lt;span&gt;tardis.simulation.base&lt;/span&gt; &lt;span style=&quot;color: #D3D3D3; font-weight: bold;&quot;&gt;[INFO]&lt;/span&gt; \\n\\tStarting iteration 5 of 20 (base.py:444)&lt;/div&gt;\\n&lt;div style=&#x27;margin: 0;&#x27;&gt;&lt;span&gt;tardis.simulation.base&lt;/span&gt; &lt;span style=&quot;color: #D3D3D3; font-weight: bold;&quot;&gt;[INFO]&lt;/span&gt; \\n\\tLuminosity emitted   = 1.057e+43 erg / s\\n\\tLuminosity absorbed  = 3.391e+42 erg / s\\n\\tLuminosity requested = 1.059e+43 erg / s\\n (base.py:636)&lt;/div&gt;\\n&lt;div style=&#x27;margin: 0;&#x27;&gt;&lt;span&gt;tardis.simulation.base&lt;/span&gt; &lt;span style=&quot;color: #D3D3D3; font-weight: bold;&quot;&gt;[INFO]&lt;/span&gt; Iteration converged 3/4 consecutive times. (base.py:260)&lt;/div&gt;\\n&lt;div style=&#x27;margin: 0;&#x27;&gt;&lt;pre style=&quot;white-space: pre; margin: 0;&quot;&gt;Shell No.         t_rad    next_t_rad         w    next_w\\n0          11025.459753  10998.992370  0.470769  0.479691\\n5          11250.476775  11285.022098  0.181240  0.178679\\n10         11025.830185  10984.384690  0.113409  0.115145\\n15         10693.643402  10734.268321  0.085118  0.083826&lt;/pre&gt;&lt;/div&gt;\\n&lt;div style=&#x27;margin: 0;&#x27;&gt;&lt;span&gt;tardis.simulation.base&lt;/span&gt; &lt;span style=&quot;color: #D3D3D3; font-weight: bold;&quot;&gt;[INFO]&lt;/span&gt; \\n\\tCurrent t_inner = 10641.159 K\\n\\tExpected t_inner for next iteration = 10647.218 K\\n (base.py:631)&lt;/div&gt;\\n&lt;div style=&#x27;margin: 0;&#x27;&gt;&lt;span&gt;tardis.simulation.base&lt;/span&gt; &lt;span style=&quot;color: #D3D3D3; font-weight: bold;&quot;&gt;[INFO]&lt;/span&gt; \\n\\tStarting iteration 6 of 20 (base.py:444)&lt;/div&gt;\\n&lt;div style=&#x27;margin: 0;&#x27;&gt;&lt;span&gt;tardis.simulation.base&lt;/span&gt; &lt;span style=&quot;color: #D3D3D3; font-weight: bold;&quot;&gt;[INFO]&lt;/span&gt; \\n\\tLuminosity emitted   = 1.060e+43 erg / s\\n\\tLuminosity absorbed  = 3.394e+42 erg / s\\n\\tLuminosity requested = 1.059e+43 erg / s\\n (base.py:636)&lt;/div&gt;\\n&lt;div style=&#x27;margin: 0;&#x27;&gt;&lt;span&gt;tardis.simulation.base&lt;/span&gt; &lt;span style=&quot;color: #D3D3D3; font-weight: bold;&quot;&gt;[INFO]&lt;/span&gt; Iteration converged 4/4 consecutive times. (base.py:260)&lt;/div&gt;\\n&lt;div style=&#x27;margin: 0;&#x27;&gt;&lt;pre style=&quot;white-space: pre; margin: 0;&quot;&gt;Shell No.         t_rad    next_t_rad         w    next_w\\n0          10998.992370  11062.386149  0.479691  0.466406\\n5          11285.022098  11251.893932  0.178679  0.182435\\n10         10984.384690  10982.572101  0.115145  0.115372\\n15         10734.268321  10674.160527  0.083826  0.085281&lt;/pre&gt;&lt;/div&gt;\\n&lt;div style=&#x27;margin: 0;&#x27;&gt;&lt;span&gt;tardis.simulation.base&lt;/span&gt; &lt;span style=&quot;color: #D3D3D3; font-weight: bold;&quot;&gt;[INFO]&lt;/span&gt; \\n\\tCurrent t_inner = 10647.218 K\\n\\tExpected t_inner for next iteration = 10645.645 K\\n (base.py:631)&lt;/div&gt;\\n&lt;div style=&#x27;margin: 0;&#x27;&gt;&lt;span&gt;tardis.simulation.base&lt;/span&gt; &lt;span style=&quot;color: #D3D3D3; font-weight: bold;&quot;&gt;[INFO]&lt;/span&gt; \\n\\tStarting iteration 7 of 20 (base.py:444)&lt;/div&gt;\\n&lt;div style=&#x27;margin: 0;&#x27;&gt;&lt;span&gt;tardis.simulation.base&lt;/span&gt; &lt;span style=&quot;color: #D3D3D3; font-weight: bold;&quot;&gt;[INFO]&lt;/span&gt; \\n\\tLuminosity emitted   = 1.060e+43 erg / s\\n\\tLuminosity absorbed  = 3.389e+42 erg / s\\n\\tLuminosity requested = 1.059e+43 erg / s\\n (base.py:636)&lt;/div&gt;\\n&lt;div style=&#x27;margin: 0;&#x27;&gt;&lt;span&gt;tardis.simulation.base&lt;/span&gt; &lt;span style=&quot;color: #D3D3D3; font-weight: bold;&quot;&gt;[INFO]&lt;/span&gt; Iteration converged 5/4 consecutive times. (base.py:260)&lt;/div&gt;\\n&lt;div style=&#x27;margin: 0;&#x27;&gt;&lt;pre style=&quot;white-space: pre; margin: 0;&quot;&gt;Shell No.         t_rad    next_t_rad         w    next_w\\n0          11062.386149  11044.421981  0.466406  0.468831\\n5          11251.893932  11374.121338  0.182435  0.172849\\n10         10982.572101  11014.646546  0.115372  0.113250\\n15         10674.160527  10631.290195  0.085281  0.086536&lt;/pre&gt;&lt;/div&gt;\\n&lt;div style=&#x27;margin: 0;&#x27;&gt;&lt;span&gt;tardis.simulation.base&lt;/span&gt; &lt;span style=&quot;color: #D3D3D3; font-weight: bold;&quot;&gt;[INFO]&lt;/span&gt; \\n\\tCurrent t_inner = 10645.645 K\\n\\tExpected t_inner for next iteration = 10644.007 K\\n (base.py:631)&lt;/div&gt;\\n&lt;div style=&#x27;margin: 0;&#x27;&gt;&lt;span&gt;tardis.simulation.base&lt;/span&gt; &lt;span style=&quot;color: #D3D3D3; font-weight: bold;&quot;&gt;[INFO]&lt;/span&gt; \\n\\tStarting iteration 8 of 20 (base.py:444)&lt;/div&gt;\\n&lt;div style=&#x27;margin: 0;&#x27;&gt;&lt;span&gt;tardis.simulation.base&lt;/span&gt; &lt;span style=&quot;color: #D3D3D3; font-weight: bold;&quot;&gt;[INFO]&lt;/span&gt; \\n\\tLuminosity emitted   = 1.062e+43 erg / s\\n\\tLuminosity absorbed  = 3.356e+42 erg / s\\n\\tLuminosity requested = 1.059e+43 erg / s\\n (base.py:636)&lt;/div&gt;\\n&lt;div style=&#x27;margin: 0;&#x27;&gt;&lt;span&gt;tardis.simulation.base&lt;/span&gt; &lt;span style=&quot;color: #D3D3D3; font-weight: bold;&quot;&gt;[INFO]&lt;/span&gt; Iteration converged 6/4 consecutive times. (base.py:260)&lt;/div&gt;\\n&lt;div style=&#x27;margin: 0;&#x27;&gt;&lt;pre style=&quot;white-space: pre; margin: 0;&quot;&gt;Shell No.         t_rad    next_t_rad         w    next_w\\n0          11044.421981  11069.120167  0.468831  0.469856\\n5          11374.121338  11329.723448  0.172849  0.177557\\n10         11014.646546  11079.797552  0.113250  0.111659\\n15         10631.290195  10735.589679  0.086536  0.083570&lt;/pre&gt;&lt;/div&gt;\\n&lt;div style=&#x27;margin: 0;&#x27;&gt;&lt;span&gt;tardis.simulation.base&lt;/span&gt; &lt;span style=&quot;color: #D3D3D3; font-weight: bold;&quot;&gt;[INFO]&lt;/span&gt; \\n\\tCurrent t_inner = 10644.007 K\\n\\tExpected t_inner for next iteration = 10636.775 K\\n (base.py:631)&lt;/div&gt;\\n&lt;div style=&#x27;margin: 0;&#x27;&gt;&lt;span&gt;tardis.simulation.base&lt;/span&gt; &lt;span style=&quot;color: #D3D3D3; font-weight: bold;&quot;&gt;[INFO]&lt;/span&gt; \\n\\tStarting iteration 9 of 20 (base.py:444)&lt;/div&gt;\\n&lt;div style=&#x27;margin: 0;&#x27;&gt;&lt;span&gt;tardis.simulation.base&lt;/span&gt; &lt;span style=&quot;color: #D3D3D3; font-weight: bold;&quot;&gt;[INFO]&lt;/span&gt; \\n\\tLuminosity emitted   = 1.053e+43 erg / s\\n\\tLuminosity absorbed  = 3.409e+42 erg / s\\n\\tLuminosity requested = 1.059e+43 erg / s\\n (base.py:636)&lt;/div&gt;\\n&lt;div style=&#x27;margin: 0;&#x27;&gt;&lt;span&gt;tardis.simulation.base&lt;/span&gt; &lt;span style=&quot;color: #D3D3D3; font-weight: bold;&quot;&gt;[INFO]&lt;/span&gt; Iteration converged 7/4 consecutive times. (base.py:260)&lt;/div&gt;\\n&lt;div style=&#x27;margin: 0;&#x27;&gt;&lt;pre style=&quot;white-space: pre; margin: 0;&quot;&gt;Shell No.         t_rad    next_t_rad         w    next_w\\n0          11069.120167  11040.862394  0.469856  0.470832\\n5          11329.723448  11422.617758  0.177557  0.171857\\n10         11079.797552  11152.498499  0.111659  0.108761\\n15         10735.589679  10708.551912  0.083570  0.083626&lt;/pre&gt;&lt;/div&gt;\\n&lt;div style=&#x27;margin: 0;&#x27;&gt;&lt;span&gt;tardis.simulation.base&lt;/span&gt; &lt;span style=&quot;color: #D3D3D3; font-weight: bold;&quot;&gt;[INFO]&lt;/span&gt; \\n\\tCurrent t_inner = 10636.775 K\\n\\tExpected t_inner for next iteration = 10653.396 K\\n (base.py:631)&lt;/div&gt;\\n&lt;div style=&#x27;margin: 0;&#x27;&gt;&lt;span&gt;tardis.simulation.base&lt;/span&gt; &lt;span style=&quot;color: #D3D3D3; font-weight: bold;&quot;&gt;[INFO]&lt;/span&gt; \\n\\tStarting iteration 10 of 20 (base.py:444)&lt;/div&gt;\\n&lt;div style=&#x27;margin: 0;&#x27;&gt;&lt;span&gt;tardis.simulation.base&lt;/span&gt; &lt;span style=&quot;color: #D3D3D3; font-weight: bold;&quot;&gt;[INFO]&lt;/span&gt; \\n\\tLuminosity emitted   = 1.071e+43 erg / s\\n\\tLuminosity absorbed  = 3.320e+42 erg / s\\n\\tLuminosity requested = 1.059e+43 erg / s\\n (base.py:636)&lt;/div&gt;\\n&lt;div style=&#x27;margin: 0;&#x27;&gt;&lt;span&gt;tardis.simulation.base&lt;/span&gt; &lt;span style=&quot;color: #D3D3D3; font-weight: bold;&quot;&gt;[INFO]&lt;/span&gt; Iteration converged 8/4 consecutive times. (base.py:260)&lt;/div&gt;\\n&lt;div style=&#x27;margin: 0;&#x27;&gt;&lt;pre style=&quot;white-space: pre; margin: 0;&quot;&gt;Shell No.         t_rad    next_t_rad         w    next_w\\n0          11040.862394  11021.149701  0.470832  0.476682\\n5          11422.617758  11355.081374  0.171857  0.178340\\n10         11152.498499  11057.634031  0.108761  0.113629\\n15         10708.551912  10648.738352  0.083626  0.087198&lt;/pre&gt;&lt;/div&gt;\\n&lt;div style=&#x27;margin: 0;&#x27;&gt;&lt;span&gt;tardis.simulation.base&lt;/span&gt; &lt;span style=&quot;color: #D3D3D3; font-weight: bold;&quot;&gt;[INFO]&lt;/span&gt; \\n\\tCurrent t_inner = 10653.396 K\\n\\tExpected t_inner for next iteration = 10624.877 K\\n (base.py:631)&lt;/div&gt;\\n&lt;div style=&#x27;margin: 0;&#x27;&gt;&lt;span&gt;tardis.simulation.base&lt;/span&gt; &lt;span style=&quot;color: #D3D3D3; font-weight: bold;&quot;&gt;[INFO]&lt;/span&gt; \\n\\tStarting iteration 11 of 20 (base.py:444)&lt;/div&gt;\\n&lt;div style=&#x27;margin: 0;&#x27;&gt;&lt;span&gt;tardis.simulation.base&lt;/span&gt; &lt;span style=&quot;color: #D3D3D3; font-weight: bold;&quot;&gt;[INFO]&lt;/span&gt; \\n\\tLuminosity emitted   = 1.050e+43 erg / s\\n\\tLuminosity absorbed  = 3.378e+42 erg / s\\n\\tLuminosity requested = 1.059e+43 erg / s\\n (base.py:636)&lt;/div&gt;\\n&lt;div style=&#x27;margin: 0;&#x27;&gt;&lt;span&gt;tardis.simulation.base&lt;/span&gt; &lt;span style=&quot;color: #D3D3D3; font-weight: bold;&quot;&gt;[INFO]&lt;/span&gt; Iteration converged 9/4 consecutive times. (base.py:260)&lt;/div&gt;\\n&lt;div style=&#x27;margin: 0;&#x27;&gt;&lt;pre style=&quot;white-space: pre; margin: 0;&quot;&gt;Shell No.         t_rad    next_t_rad         w    next_w\\n0          11021.149701  11033.143067  0.476682  0.473438\\n5          11355.081374  11232.669118  0.178340  0.181972\\n10         11057.634031  10966.246563  0.113629  0.114673\\n15         10648.738352  10628.818554  0.087198  0.085842&lt;/pre&gt;&lt;/div&gt;\\n&lt;div style=&#x27;margin: 0;&#x27;&gt;&lt;span&gt;tardis.simulation.base&lt;/span&gt; &lt;span style=&quot;color: #D3D3D3; font-weight: bold;&quot;&gt;[INFO]&lt;/span&gt; \\n\\tCurrent t_inner = 10624.877 K\\n\\tExpected t_inner for next iteration = 10649.271 K\\n (base.py:631)&lt;/div&gt;\\n&lt;div style=&#x27;margin: 0;&#x27;&gt;&lt;span&gt;tardis.simulation.base&lt;/span&gt; &lt;span style=&quot;color: #D3D3D3; font-weight: bold;&quot;&gt;[INFO]&lt;/span&gt; \\n\\tStarting iteration 12 of 20 (base.py:444)&lt;/div&gt;\\n&lt;div style=&#x27;margin: 0;&#x27;&gt;&lt;span&gt;tardis.simulation.base&lt;/span&gt; &lt;span style=&quot;color: #D3D3D3; font-weight: bold;&quot;&gt;[INFO]&lt;/span&gt; \\n\\tLuminosity emitted   = 1.057e+43 erg / s\\n\\tLuminosity absorbed  = 3.427e+42 erg / s\\n\\tLuminosity requested = 1.059e+43 erg / s\\n (base.py:636)&lt;/div&gt;\\n&lt;div style=&#x27;margin: 0;&#x27;&gt;&lt;span&gt;tardis.simulation.base&lt;/span&gt; &lt;span style=&quot;color: #D3D3D3; font-weight: bold;&quot;&gt;[INFO]&lt;/span&gt; Iteration converged 10/4 consecutive times. (base.py:260)&lt;/div&gt;\\n&lt;div style=&#x27;margin: 0;&#x27;&gt;&lt;pre style=&quot;white-space: pre; margin: 0;&quot;&gt;Shell No.         t_rad    next_t_rad         w    next_w\\n0          11033.143067  11087.843360  0.473438  0.465085\\n5          11232.669118  11275.807376  0.181972  0.180289\\n10         10966.246563  11068.013441  0.114673  0.111169\\n15         10628.818554  10748.982798  0.085842  0.083035&lt;/pre&gt;&lt;/div&gt;\\n&lt;div style=&#x27;margin: 0;&#x27;&gt;&lt;span&gt;tardis.simulation.base&lt;/span&gt; &lt;span style=&quot;color: #D3D3D3; font-weight: bold;&quot;&gt;[INFO]&lt;/span&gt; \\n\\tCurrent t_inner = 10649.271 K\\n\\tExpected t_inner for next iteration = 10653.802 K\\n (base.py:631)&lt;/div&gt;\\n&lt;div style=&#x27;margin: 0;&#x27;&gt;&lt;span&gt;tardis.simulation.base&lt;/span&gt; &lt;span style=&quot;color: #D3D3D3; font-weight: bold;&quot;&gt;[INFO]&lt;/span&gt; \\n\\tStarting iteration 13 of 20 (base.py:444)&lt;/div&gt;\\n&lt;div style=&#x27;margin: 0;&#x27;&gt;&lt;span&gt;tardis.simulation.base&lt;/span&gt; &lt;span style=&quot;color: #D3D3D3; font-weight: bold;&quot;&gt;[INFO]&lt;/span&gt; \\n\\tLuminosity emitted   = 1.062e+43 erg / s\\n\\tLuminosity absorbed  = 3.405e+42 erg / s\\n\\tLuminosity requested = 1.059e+43 erg / s\\n (base.py:636)&lt;/div&gt;\\n&lt;div style=&#x27;margin: 0;&#x27;&gt;&lt;span&gt;tardis.simulation.base&lt;/span&gt; &lt;span style=&quot;color: #D3D3D3; font-weight: bold;&quot;&gt;[INFO]&lt;/span&gt; Iteration converged 11/4 consecutive times. (base.py:260)&lt;/div&gt;\\n&lt;div style=&#x27;margin: 0;&#x27;&gt;&lt;pre style=&quot;white-space: pre; margin: 0;&quot;&gt;Shell No.         t_rad    next_t_rad         w    next_w\\n0          11087.843360  11086.546488  0.465085  0.465778\\n5          11275.807376  11323.353434  0.180289  0.178036\\n10         11068.013441  11053.173485  0.111169  0.112635\\n15         10748.982798  10688.059659  0.083035  0.086010&lt;/pre&gt;&lt;/div&gt;\\n&lt;div style=&#x27;margin: 0;&#x27;&gt;&lt;span&gt;tardis.simulation.base&lt;/span&gt; &lt;span style=&quot;color: #D3D3D3; font-weight: bold;&quot;&gt;[INFO]&lt;/span&gt; \\n\\tCurrent t_inner = 10653.802 K\\n\\tExpected t_inner for next iteration = 10646.746 K\\n (base.py:631)&lt;/div&gt;\\n&lt;div style=&#x27;margin: 0;&#x27;&gt;&lt;span&gt;tardis.simulation.base&lt;/span&gt; &lt;span style=&quot;color: #D3D3D3; font-weight: bold;&quot;&gt;[INFO]&lt;/span&gt; \\n\\tStarting iteration 14 of 20 (base.py:444)&lt;/div&gt;\\n&lt;div style=&#x27;margin: 0;&#x27;&gt;&lt;span&gt;tardis.simulation.base&lt;/span&gt; &lt;span style=&quot;color: #D3D3D3; font-weight: bold;&quot;&gt;[INFO]&lt;/span&gt; \\n\\tLuminosity emitted   = 1.061e+43 erg / s\\n\\tLuminosity absorbed  = 3.377e+42 erg / s\\n\\tLuminosity requested = 1.059e+43 erg / s\\n (base.py:636)&lt;/div&gt;\\n&lt;div style=&#x27;margin: 0;&#x27;&gt;&lt;span&gt;tardis.simulation.base&lt;/span&gt; &lt;span style=&quot;color: #D3D3D3; font-weight: bold;&quot;&gt;[INFO]&lt;/span&gt; Iteration converged 12/4 consecutive times. (base.py:260)&lt;/div&gt;\\n&lt;div style=&#x27;margin: 0;&#x27;&gt;&lt;pre style=&quot;white-space: pre; margin: 0;&quot;&gt;Shell No.         t_rad    next_t_rad         w    next_w\\n0          11086.546488  11080.438593  0.465778  0.468386\\n5          11323.353434  11300.968754  0.178036  0.180922\\n10         11053.173485  11006.742479  0.112635  0.114366\\n15         10688.059659  10634.395123  0.086010  0.086679&lt;/pre&gt;&lt;/div&gt;\\n&lt;div style=&#x27;margin: 0;&#x27;&gt;&lt;span&gt;tardis.simulation.base&lt;/span&gt; &lt;span style=&quot;color: #D3D3D3; font-weight: bold;&quot;&gt;[INFO]&lt;/span&gt; \\n\\tCurrent t_inner = 10646.746 K\\n\\tExpected t_inner for next iteration = 10641.333 K\\n (base.py:631)&lt;/div&gt;\\n&lt;div style=&#x27;margin: 0;&#x27;&gt;&lt;span&gt;tardis.simulation.base&lt;/span&gt; &lt;span style=&quot;color: #D3D3D3; font-weight: bold;&quot;&gt;[INFO]&lt;/span&gt; \\n\\tStarting iteration 15 of 20 (base.py:444)&lt;/div&gt;\\n&lt;div style=&#x27;margin: 0;&#x27;&gt;&lt;span&gt;tardis.simulation.base&lt;/span&gt; &lt;span style=&quot;color: #D3D3D3; font-weight: bold;&quot;&gt;[INFO]&lt;/span&gt; \\n\\tLuminosity emitted   = 1.055e+43 erg / s\\n\\tLuminosity absorbed  = 3.411e+42 erg / s\\n\\tLuminosity requested = 1.059e+43 erg / s\\n (base.py:636)&lt;/div&gt;\\n&lt;div style=&#x27;margin: 0;&#x27;&gt;&lt;span&gt;tardis.simulation.base&lt;/span&gt; &lt;span style=&quot;color: #D3D3D3; font-weight: bold;&quot;&gt;[INFO]&lt;/span&gt; Iteration converged 13/4 consecutive times. (base.py:260)&lt;/div&gt;\\n&lt;div style=&#x27;margin: 0;&#x27;&gt;&lt;pre style=&quot;white-space: pre; margin: 0;&quot;&gt;Shell No.         t_rad    next_t_rad         w    next_w\\n0          11080.438593  10964.035202  0.468386  0.483948\\n5          11300.968754  11282.337017  0.180922  0.180055\\n10         11006.742479  11037.967945  0.114366  0.113049\\n15         10634.395123  10674.687180  0.086679  0.085238&lt;/pre&gt;&lt;/div&gt;\\n&lt;div style=&#x27;margin: 0;&#x27;&gt;&lt;span&gt;tardis.simulation.base&lt;/span&gt; &lt;span style=&quot;color: #D3D3D3; font-weight: bold;&quot;&gt;[INFO]&lt;/span&gt; \\n\\tCurrent t_inner = 10641.333 K\\n\\tExpected t_inner for next iteration = 10652.281 K\\n (base.py:631)&lt;/div&gt;\\n&lt;div style=&#x27;margin: 0;&#x27;&gt;&lt;span&gt;tardis.simulation.base&lt;/span&gt; &lt;span style=&quot;color: #D3D3D3; font-weight: bold;&quot;&gt;[INFO]&lt;/span&gt; \\n\\tStarting iteration 16 of 20 (base.py:444)&lt;/div&gt;\\n&lt;div style=&#x27;margin: 0;&#x27;&gt;&lt;span&gt;tardis.simulation.base&lt;/span&gt; &lt;span style=&quot;color: #D3D3D3; font-weight: bold;&quot;&gt;[INFO]&lt;/span&gt; \\n\\tLuminosity emitted   = 1.058e+43 erg / s\\n\\tLuminosity absorbed  = 3.437e+42 erg / s\\n\\tLuminosity requested = 1.059e+43 erg / s\\n (base.py:636)&lt;/div&gt;\\n&lt;div style=&#x27;margin: 0;&#x27;&gt;&lt;span&gt;tardis.simulation.base&lt;/span&gt; &lt;span style=&quot;color: #D3D3D3; font-weight: bold;&quot;&gt;[INFO]&lt;/span&gt; Iteration converged 14/4 consecutive times. (base.py:260)&lt;/div&gt;\\n&lt;div style=&#x27;margin: 0;&#x27;&gt;&lt;pre style=&quot;white-space: pre; margin: 0;&quot;&gt;Shell No.         t_rad    next_t_rad         w    next_w\\n0          10964.035202  11042.587566  0.483948  0.471783\\n5          11282.337017  11375.256379  0.180055  0.172888\\n10         11037.967945  11057.595126  0.113049  0.111964\\n15         10674.687180  10732.089876  0.085238  0.083235&lt;/pre&gt;&lt;/div&gt;\\n&lt;div style=&#x27;margin: 0;&#x27;&gt;&lt;span&gt;tardis.simulation.base&lt;/span&gt; &lt;span style=&quot;color: #D3D3D3; font-weight: bold;&quot;&gt;[INFO]&lt;/span&gt; \\n\\tCurrent t_inner = 10652.281 K\\n\\tExpected t_inner for next iteration = 10654.516 K\\n (base.py:631)&lt;/div&gt;\\n&lt;div style=&#x27;margin: 0;&#x27;&gt;&lt;span&gt;tardis.simulation.base&lt;/span&gt; &lt;span style=&quot;color: #D3D3D3; font-weight: bold;&quot;&gt;[INFO]&lt;/span&gt; \\n\\tStarting iteration 17 of 20 (base.py:444)&lt;/div&gt;\\n&lt;div style=&#x27;margin: 0;&#x27;&gt;&lt;span&gt;tardis.simulation.base&lt;/span&gt; &lt;span style=&quot;color: #D3D3D3; font-weight: bold;&quot;&gt;[INFO]&lt;/span&gt; \\n\\tLuminosity emitted   = 1.066e+43 erg / s\\n\\tLuminosity absorbed  = 3.375e+42 erg / s\\n\\tLuminosity requested = 1.059e+43 erg / s\\n (base.py:636)&lt;/div&gt;\\n&lt;div style=&#x27;margin: 0;&#x27;&gt;&lt;span&gt;tardis.simulation.base&lt;/span&gt; &lt;span style=&quot;color: #D3D3D3; font-weight: bold;&quot;&gt;[INFO]&lt;/span&gt; Iteration converged 15/4 consecutive times. (base.py:260)&lt;/div&gt;\\n&lt;div style=&#x27;margin: 0;&#x27;&gt;&lt;pre style=&quot;white-space: pre; margin: 0;&quot;&gt;Shell No.         t_rad    next_t_rad         w    next_w\\n0          11042.587566  11075.308461  0.471783  0.464843\\n5          11375.256379  11439.649947  0.172888  0.171043\\n10         11057.595126  11185.093739  0.111964  0.107880\\n15         10732.089876  10828.748565  0.083235  0.081284&lt;/pre&gt;&lt;/div&gt;\\n&lt;div style=&#x27;margin: 0;&#x27;&gt;&lt;span&gt;tardis.simulation.base&lt;/span&gt; &lt;span style=&quot;color: #D3D3D3; font-weight: bold;&quot;&gt;[INFO]&lt;/span&gt; \\n\\tCurrent t_inner = 10654.516 K\\n\\tExpected t_inner for next iteration = 10637.793 K\\n (base.py:631)&lt;/div&gt;\\n&lt;div style=&#x27;margin: 0;&#x27;&gt;&lt;span&gt;tardis.simulation.base&lt;/span&gt; &lt;span style=&quot;color: #D3D3D3; font-weight: bold;&quot;&gt;[INFO]&lt;/span&gt; \\n\\tStarting iteration 18 of 20 (base.py:444)&lt;/div&gt;\\n&lt;div style=&#x27;margin: 0;&#x27;&gt;&lt;span&gt;tardis.simulation.base&lt;/span&gt; &lt;span style=&quot;color: #D3D3D3; font-weight: bold;&quot;&gt;[INFO]&lt;/span&gt; \\n\\tLuminosity emitted   = 1.059e+43 erg / s\\n\\tLuminosity absorbed  = 3.354e+42 erg / s\\n\\tLuminosity requested = 1.059e+43 erg / s\\n (base.py:636)&lt;/div&gt;\\n&lt;div style=&#x27;margin: 0;&#x27;&gt;&lt;span&gt;tardis.simulation.base&lt;/span&gt; &lt;span style=&quot;color: #D3D3D3; font-weight: bold;&quot;&gt;[INFO]&lt;/span&gt; Iteration converged 16/4 consecutive times. (base.py:260)&lt;/div&gt;\\n&lt;div style=&#x27;margin: 0;&#x27;&gt;&lt;pre style=&quot;white-space: pre; margin: 0;&quot;&gt;Shell No.         t_rad    next_t_rad         w    next_w\\n0          11075.308461  11074.427342  0.464843  0.463021\\n5          11439.649947  11383.872996  0.171043  0.174425\\n10         11185.093739  11104.670336  0.107880  0.110457\\n15         10828.748565  10681.933253  0.081284  0.084433&lt;/pre&gt;&lt;/div&gt;\\n&lt;div style=&#x27;margin: 0;&#x27;&gt;&lt;span&gt;tardis.simulation.base&lt;/span&gt; &lt;span style=&quot;color: #D3D3D3; font-weight: bold;&quot;&gt;[INFO]&lt;/span&gt; \\n\\tCurrent t_inner = 10637.793 K\\n\\tExpected t_inner for next iteration = 10638.424 K\\n (base.py:631)&lt;/div&gt;\\n&lt;div style=&#x27;margin: 0;&#x27;&gt;&lt;span&gt;tardis.simulation.base&lt;/span&gt; &lt;span style=&quot;color: #D3D3D3; font-weight: bold;&quot;&gt;[INFO]&lt;/span&gt; \\n\\tStarting iteration 19 of 20 (base.py:444)&lt;/div&gt;\\n&lt;div style=&#x27;margin: 0;&#x27;&gt;&lt;span&gt;tardis.simulation.base&lt;/span&gt; &lt;span style=&quot;color: #D3D3D3; font-weight: bold;&quot;&gt;[INFO]&lt;/span&gt; \\n\\tLuminosity emitted   = 1.054e+43 erg / s\\n\\tLuminosity absorbed  = 3.403e+42 erg / s\\n\\tLuminosity requested = 1.059e+43 erg / s\\n (base.py:636)&lt;/div&gt;\\n&lt;div style=&#x27;margin: 0;&#x27;&gt;&lt;span&gt;tardis.simulation.base&lt;/span&gt; &lt;span style=&quot;color: #D3D3D3; font-weight: bold;&quot;&gt;[INFO]&lt;/span&gt; Iteration converged 17/4 consecutive times. (base.py:260)&lt;/div&gt;\\n&lt;div style=&#x27;margin: 0;&#x27;&gt;&lt;pre style=&quot;white-space: pre; margin: 0;&quot;&gt;Shell No.         t_rad    next_t_rad         w    next_w\\n0          11074.427342  11083.753820  0.463021  0.464681\\n5          11383.872996  11384.095699  0.174425  0.173447\\n10         11104.670336  11121.166737  0.110457  0.109419\\n15         10681.933253  10695.839730  0.084433  0.083913&lt;/pre&gt;&lt;/div&gt;\\n&lt;div style=&#x27;margin: 0;&#x27;&gt;&lt;span&gt;tardis.simulation.base&lt;/span&gt; &lt;span style=&quot;color: #D3D3D3; font-weight: bold;&quot;&gt;[INFO]&lt;/span&gt; \\n\\tCurrent t_inner = 10638.424 K\\n\\tExpected t_inner for next iteration = 10651.315 K\\n (base.py:631)&lt;/div&gt;\\n&lt;div style=&#x27;margin: 0;&#x27;&gt;&lt;span&gt;tardis.simulation.base&lt;/span&gt; &lt;span style=&quot;color: #D3D3D3; font-weight: bold;&quot;&gt;[INFO]&lt;/span&gt; \\n\\tSimulation finished in 19 iterations \\n\\tSimulation took 53.43 s\\n (base.py:549)&lt;/div&gt;\\n&lt;div style=&#x27;margin: 0;&#x27;&gt;&lt;span&gt;tardis.simulation.base&lt;/span&gt; &lt;span style=&quot;color: #D3D3D3; font-weight: bold;&quot;&gt;[INFO]&lt;/span&gt; \\n\\tStarting iteration 20 of 20 (base.py:444)&lt;/div&gt;\\n&lt;div style=&#x27;margin: 0;&#x27;&gt;&lt;span&gt;tardis.simulation.base&lt;/span&gt; &lt;span style=&quot;color: #D3D3D3; font-weight: bold;&quot;&gt;[INFO]&lt;/span&gt; \\n\\tLuminosity emitted   = 1.061e+43 erg / s\\n\\tLuminosity absorbed  = 3.400e+42 erg / s\\n\\tLuminosity requested = 1.059e+43 erg / s\\n (base.py:636)&lt;/div&gt;\",\"disable_math\":true}}}},{\"type\":\"object\",\"name\":\"TabPanel\",\"id\":\"e2b9fa10-18a6-48e8-8fab-91f65a748866\",\"attributes\":{\"name\":\"HTML00124\",\"title\":\"DEBUG\",\"child\":{\"type\":\"object\",\"name\":\"panel.models.markup.HTML\",\"id\":\"6559ffcf-e677-4d79-81b5-52d69797c2d6\",\"attributes\":{\"styles\":{\"type\":\"map\",\"entries\":[[\"overflow-y\",\"auto\"],[\"overflow-x\",\"auto\"],[\"border\",\"1px solid #ddd\"],[\"width\",\"100%\"],[\"font-family\",\"monospace\"],[\"padding\",\"8px\"],[\"background-color\",\"white\"]]},\"stylesheets\":[\"\\n:host(.pn-loading):before, .pn-loading:before {\\n  background-color: #c3c3c3;\\n  mask-size: auto calc(min(50%, 400px));\\n  -webkit-mask-size: auto calc(min(50%, 400px));\\n}\",{\"id\":\"6d9133ee-ae25-464a-b0cf-7e6af5a9270c\"},{\"id\":\"3432c304-16a6-4b1f-856d-a3fa9f73cced\"},{\"id\":\"553c60e3-bb86-472f-816a-1a4eeef0559a\"}],\"height\":300,\"min_height\":300,\"margin\":[5,10],\"align\":\"start\",\"disable_math\":true}}}}]}},{\"type\":\"object\",\"name\":\"panel.models.comm_manager.CommManager\",\"id\":\"0c8551bb-fbeb-4bea-9d0c-565142c2b764\",\"attributes\":{\"plot_id\":\"4dc35da4-8ae7-4862-be1d-1f2539b675bf\",\"comm_id\":\"ed0f95c9b12f48478f6a0edc106b906c\",\"client_comm_id\":\"7c26a58894674fe9ad028da60e5cd551\"}}],\"defs\":[{\"type\":\"model\",\"name\":\"ReactiveHTML1\"},{\"type\":\"model\",\"name\":\"FlexBox1\",\"properties\":[{\"name\":\"align_content\",\"kind\":\"Any\",\"default\":\"flex-start\"},{\"name\":\"align_items\",\"kind\":\"Any\",\"default\":\"flex-start\"},{\"name\":\"flex_direction\",\"kind\":\"Any\",\"default\":\"row\"},{\"name\":\"flex_wrap\",\"kind\":\"Any\",\"default\":\"wrap\"},{\"name\":\"gap\",\"kind\":\"Any\",\"default\":\"\"},{\"name\":\"justify_content\",\"kind\":\"Any\",\"default\":\"flex-start\"}]},{\"type\":\"model\",\"name\":\"FloatPanel1\",\"properties\":[{\"name\":\"config\",\"kind\":\"Any\",\"default\":{\"type\":\"map\"}},{\"name\":\"contained\",\"kind\":\"Any\",\"default\":true},{\"name\":\"position\",\"kind\":\"Any\",\"default\":\"right-top\"},{\"name\":\"offsetx\",\"kind\":\"Any\",\"default\":null},{\"name\":\"offsety\",\"kind\":\"Any\",\"default\":null},{\"name\":\"theme\",\"kind\":\"Any\",\"default\":\"primary\"},{\"name\":\"status\",\"kind\":\"Any\",\"default\":\"normalized\"}]},{\"type\":\"model\",\"name\":\"GridStack1\",\"properties\":[{\"name\":\"ncols\",\"kind\":\"Any\",\"default\":null},{\"name\":\"nrows\",\"kind\":\"Any\",\"default\":null},{\"name\":\"allow_resize\",\"kind\":\"Any\",\"default\":true},{\"name\":\"allow_drag\",\"kind\":\"Any\",\"default\":true},{\"name\":\"state\",\"kind\":\"Any\",\"default\":[]}]},{\"type\":\"model\",\"name\":\"drag1\",\"properties\":[{\"name\":\"slider_width\",\"kind\":\"Any\",\"default\":5},{\"name\":\"slider_color\",\"kind\":\"Any\",\"default\":\"black\"},{\"name\":\"value\",\"kind\":\"Any\",\"default\":50}]},{\"type\":\"model\",\"name\":\"click1\",\"properties\":[{\"name\":\"terminal_output\",\"kind\":\"Any\",\"default\":\"\"},{\"name\":\"debug_name\",\"kind\":\"Any\",\"default\":\"\"},{\"name\":\"clears\",\"kind\":\"Any\",\"default\":0}]},{\"type\":\"model\",\"name\":\"FastWrapper1\",\"properties\":[{\"name\":\"object\",\"kind\":\"Any\",\"default\":null},{\"name\":\"style\",\"kind\":\"Any\",\"default\":null}]},{\"type\":\"model\",\"name\":\"NotificationArea1\",\"properties\":[{\"name\":\"js_events\",\"kind\":\"Any\",\"default\":{\"type\":\"map\"}},{\"name\":\"max_notifications\",\"kind\":\"Any\",\"default\":5},{\"name\":\"notifications\",\"kind\":\"Any\",\"default\":[]},{\"name\":\"position\",\"kind\":\"Any\",\"default\":\"bottom-right\"},{\"name\":\"_clear\",\"kind\":\"Any\",\"default\":0},{\"name\":\"types\",\"kind\":\"Any\",\"default\":[{\"type\":\"map\",\"entries\":[[\"type\",\"warning\"],[\"background\",\"#ffc107\"],[\"icon\",{\"type\":\"map\",\"entries\":[[\"className\",\"fas fa-exclamation-triangle\"],[\"tagName\",\"i\"],[\"color\",\"white\"]]}]]},{\"type\":\"map\",\"entries\":[[\"type\",\"info\"],[\"background\",\"#007bff\"],[\"icon\",{\"type\":\"map\",\"entries\":[[\"className\",\"fas fa-info-circle\"],[\"tagName\",\"i\"],[\"color\",\"white\"]]}]]}]}]},{\"type\":\"model\",\"name\":\"Notification\",\"properties\":[{\"name\":\"background\",\"kind\":\"Any\",\"default\":null},{\"name\":\"duration\",\"kind\":\"Any\",\"default\":3000},{\"name\":\"icon\",\"kind\":\"Any\",\"default\":null},{\"name\":\"message\",\"kind\":\"Any\",\"default\":\"\"},{\"name\":\"notification_type\",\"kind\":\"Any\",\"default\":null},{\"name\":\"_rendered\",\"kind\":\"Any\",\"default\":false},{\"name\":\"_destroyed\",\"kind\":\"Any\",\"default\":false}]},{\"type\":\"model\",\"name\":\"TemplateActions1\",\"properties\":[{\"name\":\"open_modal\",\"kind\":\"Any\",\"default\":0},{\"name\":\"close_modal\",\"kind\":\"Any\",\"default\":0}]},{\"type\":\"model\",\"name\":\"BootstrapTemplateActions1\",\"properties\":[{\"name\":\"open_modal\",\"kind\":\"Any\",\"default\":0},{\"name\":\"close_modal\",\"kind\":\"Any\",\"default\":0}]},{\"type\":\"model\",\"name\":\"TemplateEditor1\",\"properties\":[{\"name\":\"layout\",\"kind\":\"Any\",\"default\":[]}]},{\"type\":\"model\",\"name\":\"MaterialTemplateActions1\",\"properties\":[{\"name\":\"open_modal\",\"kind\":\"Any\",\"default\":0},{\"name\":\"close_modal\",\"kind\":\"Any\",\"default\":0}]},{\"type\":\"model\",\"name\":\"ReactiveESM1\",\"properties\":[{\"name\":\"esm_constants\",\"kind\":\"Any\",\"default\":{\"type\":\"map\"}}]},{\"type\":\"model\",\"name\":\"JSComponent1\",\"properties\":[{\"name\":\"esm_constants\",\"kind\":\"Any\",\"default\":{\"type\":\"map\"}}]},{\"type\":\"model\",\"name\":\"ReactComponent1\",\"properties\":[{\"name\":\"esm_constants\",\"kind\":\"Any\",\"default\":{\"type\":\"map\"}}]},{\"type\":\"model\",\"name\":\"AnyWidgetComponent1\",\"properties\":[{\"name\":\"esm_constants\",\"kind\":\"Any\",\"default\":{\"type\":\"map\"}}]},{\"type\":\"model\",\"name\":\"request_value1\",\"properties\":[{\"name\":\"fill\",\"kind\":\"Any\",\"default\":\"none\"},{\"name\":\"_synced\",\"kind\":\"Any\",\"default\":null},{\"name\":\"_request_sync\",\"kind\":\"Any\",\"default\":0}]}]}};\n",
       "  var render_items = [{\"docid\":\"05e8516b-4517-411e-9ce5-15a0c16b8a2c\",\"roots\":{\"4dc35da4-8ae7-4862-be1d-1f2539b675bf\":\"cba03dd7-7d4d-4042-9735-9a5d0fe37e59\"},\"root_ids\":[\"4dc35da4-8ae7-4862-be1d-1f2539b675bf\"]}];\n",
       "  var docs = Object.values(docs_json)\n",
       "  if (!docs) {\n",
       "    return\n",
       "  }\n",
       "  const py_version = docs[0].version.replace('rc', '-rc.').replace('.dev', '-dev.')\n",
       "  async function embed_document(root) {\n",
       "    var Bokeh = get_bokeh(root)\n",
       "    await Bokeh.embed.embed_items_notebook(docs_json, render_items);\n",
       "    for (const render_item of render_items) {\n",
       "      for (const root_id of render_item.root_ids) {\n",
       "\tconst id_el = document.getElementById(root_id)\n",
       "\tif (id_el.children.length && id_el.children[0].hasAttribute('data-root-id')) {\n",
       "\t  const root_el = id_el.children[0]\n",
       "\t  root_el.id = root_el.id + '-rendered'\n",
       "\t  for (const child of root_el.children) {\n",
       "            // Ensure JupyterLab does not capture keyboard shortcuts\n",
       "            // see: https://jupyterlab.readthedocs.io/en/4.1.x/extension/notebook.html#keyboard-interaction-model\n",
       "\t    child.setAttribute('data-lm-suppress-shortcuts', 'true')\n",
       "\t  }\n",
       "\t}\n",
       "      }\n",
       "    }\n",
       "  }\n",
       "  function get_bokeh(root) {\n",
       "    if (root.Bokeh === undefined) {\n",
       "      return null\n",
       "    } else if (root.Bokeh.version !== py_version) {\n",
       "      if (root.Bokeh.versions === undefined || !root.Bokeh.versions.has(py_version)) {\n",
       "\treturn null\n",
       "      }\n",
       "      return root.Bokeh.versions.get(py_version);\n",
       "    } else if (root.Bokeh.version === py_version) {\n",
       "      return root.Bokeh\n",
       "    }\n",
       "    return null\n",
       "  }\n",
       "  function is_loaded(root) {\n",
       "    var Bokeh = get_bokeh(root)\n",
       "    return (Bokeh != null && Bokeh.Panel !== undefined)\n",
       "  }\n",
       "  if (is_loaded(root)) {\n",
       "    embed_document(root);\n",
       "  } else {\n",
       "    var attempts = 0;\n",
       "    var timer = setInterval(function(root) {\n",
       "      if (is_loaded(root)) {\n",
       "        clearInterval(timer);\n",
       "        embed_document(root);\n",
       "      } else if (document.readyState == \"complete\") {\n",
       "        attempts++;\n",
       "        if (attempts > 200) {\n",
       "          clearInterval(timer);\n",
       "\t  var Bokeh = get_bokeh(root)\n",
       "\t  if (Bokeh == null || Bokeh.Panel == null) {\n",
       "            console.warn(\"Panel: ERROR: Unable to run Panel code because Bokeh or Panel library is missing\");\n",
       "\t  } else {\n",
       "\t    console.warn(\"Panel: WARNING: Attempting to render but not all required libraries could be resolved.\")\n",
       "\t    embed_document(root)\n",
       "\t  }\n",
       "        }\n",
       "      }\n",
       "    }, 25, root)\n",
       "  }\n",
       "})(window);</script>"
      ],
      "text/plain": [
       "Tabs(height=350, sizing_mode='stretch_width')\n",
       "    [0] HTML(str, height=300, styles={'overflow-y': 'auto', ...})\n",
       "    [1] HTML(str, height=300, styles={'overflow-y': 'auto', ...})\n",
       "    [2] HTML(str, height=300, styles={'overflow-y': 'auto', ...})\n",
       "    [3] HTML(str, height=300, styles={'overflow-y': 'auto', ...})"
      ]
     },
     "metadata": {
      "application/vnd.holoviews_exec.v0+json": {
       "id": "4dc35da4-8ae7-4862-be1d-1f2539b675bf"
      }
     },
     "output_type": "display_data"
    },
    {
     "data": {},
     "metadata": {},
     "output_type": "display_data"
    },
    {
     "data": {},
     "metadata": {},
     "output_type": "display_data"
    },
    {
     "data": {},
     "metadata": {},
     "output_type": "display_data"
    },
    {
     "data": {},
     "metadata": {},
     "output_type": "display_data"
    },
    {
     "data": {},
     "metadata": {},
     "output_type": "display_data"
    },
    {
     "data": {},
     "metadata": {},
     "output_type": "display_data"
    },
    {
     "data": {},
     "metadata": {},
     "output_type": "display_data"
    },
    {
     "data": {},
     "metadata": {},
     "output_type": "display_data"
    },
    {
     "data": {
      "application/vnd.jupyter.widget-view+json": {
       "model_id": "c5bc2a97cced4845b3b2f5dda047996c",
       "version_major": 2,
       "version_minor": 0
      },
      "text/plain": [
       "TqdmHBox(children=(HTML(value='Iterations:', layout=Layout(width='6%')), FloatProgress(value=0.0, layout=Layou…"
      ]
     },
     "metadata": {},
     "output_type": "display_data"
    },
    {
     "data": {
      "application/vnd.jupyter.widget-view+json": {
       "model_id": "24c9f9ca4d334cc9997097dc2c946f19",
       "version_major": 2,
       "version_minor": 0
      },
      "text/plain": [
       "TqdmHBox(children=(HTML(value='Packets:\\u2007\\u2007\\u2007', layout=Layout(width='6%')), FloatProgress(value=0.…"
      ]
     },
     "metadata": {},
     "output_type": "display_data"
    },
    {
     "data": {},
     "metadata": {},
     "output_type": "display_data"
    },
    {
     "data": {},
     "metadata": {},
     "output_type": "display_data"
    },
    {
     "data": {},
     "metadata": {},
     "output_type": "display_data"
    },
    {
     "data": {},
     "metadata": {},
     "output_type": "display_data"
    },
    {
     "data": {},
     "metadata": {},
     "output_type": "display_data"
    },
    {
     "data": {},
     "metadata": {},
     "output_type": "display_data"
    },
    {
     "data": {},
     "metadata": {},
     "output_type": "display_data"
    },
    {
     "data": {},
     "metadata": {},
     "output_type": "display_data"
    },
    {
     "data": {},
     "metadata": {},
     "output_type": "display_data"
    },
    {
     "data": {},
     "metadata": {},
     "output_type": "display_data"
    },
    {
     "data": {},
     "metadata": {},
     "output_type": "display_data"
    },
    {
     "data": {},
     "metadata": {},
     "output_type": "display_data"
    },
    {
     "data": {},
     "metadata": {},
     "output_type": "display_data"
    },
    {
     "data": {},
     "metadata": {},
     "output_type": "display_data"
    },
    {
     "data": {},
     "metadata": {},
     "output_type": "display_data"
    },
    {
     "data": {},
     "metadata": {},
     "output_type": "display_data"
    },
    {
     "data": {},
     "metadata": {},
     "output_type": "display_data"
    },
    {
     "data": {},
     "metadata": {},
     "output_type": "display_data"
    },
    {
     "data": {},
     "metadata": {},
     "output_type": "display_data"
    },
    {
     "data": {},
     "metadata": {},
     "output_type": "display_data"
    },
    {
     "data": {},
     "metadata": {},
     "output_type": "display_data"
    },
    {
     "data": {},
     "metadata": {},
     "output_type": "display_data"
    },
    {
     "data": {},
     "metadata": {},
     "output_type": "display_data"
    },
    {
     "data": {},
     "metadata": {},
     "output_type": "display_data"
    },
    {
     "data": {},
     "metadata": {},
     "output_type": "display_data"
    },
    {
     "data": {},
     "metadata": {},
     "output_type": "display_data"
    },
    {
     "data": {},
     "metadata": {},
     "output_type": "display_data"
    },
    {
     "data": {},
     "metadata": {},
     "output_type": "display_data"
    },
    {
     "data": {},
     "metadata": {},
     "output_type": "display_data"
    },
    {
     "data": {},
     "metadata": {},
     "output_type": "display_data"
    },
    {
     "data": {},
     "metadata": {},
     "output_type": "display_data"
    },
    {
     "data": {},
     "metadata": {},
     "output_type": "display_data"
    },
    {
     "data": {},
     "metadata": {},
     "output_type": "display_data"
    },
    {
     "data": {},
     "metadata": {},
     "output_type": "display_data"
    },
    {
     "data": {},
     "metadata": {},
     "output_type": "display_data"
    },
    {
     "data": {},
     "metadata": {},
     "output_type": "display_data"
    },
    {
     "data": {},
     "metadata": {},
     "output_type": "display_data"
    },
    {
     "data": {},
     "metadata": {},
     "output_type": "display_data"
    },
    {
     "data": {},
     "metadata": {},
     "output_type": "display_data"
    },
    {
     "data": {},
     "metadata": {},
     "output_type": "display_data"
    },
    {
     "data": {},
     "metadata": {},
     "output_type": "display_data"
    },
    {
     "data": {},
     "metadata": {},
     "output_type": "display_data"
    },
    {
     "data": {},
     "metadata": {},
     "output_type": "display_data"
    },
    {
     "data": {},
     "metadata": {},
     "output_type": "display_data"
    },
    {
     "data": {},
     "metadata": {},
     "output_type": "display_data"
    },
    {
     "data": {},
     "metadata": {},
     "output_type": "display_data"
    },
    {
     "data": {},
     "metadata": {},
     "output_type": "display_data"
    },
    {
     "data": {},
     "metadata": {},
     "output_type": "display_data"
    },
    {
     "data": {},
     "metadata": {},
     "output_type": "display_data"
    },
    {
     "data": {},
     "metadata": {},
     "output_type": "display_data"
    },
    {
     "data": {},
     "metadata": {},
     "output_type": "display_data"
    },
    {
     "data": {},
     "metadata": {},
     "output_type": "display_data"
    },
    {
     "data": {},
     "metadata": {},
     "output_type": "display_data"
    },
    {
     "data": {},
     "metadata": {},
     "output_type": "display_data"
    },
    {
     "data": {},
     "metadata": {},
     "output_type": "display_data"
    },
    {
     "data": {},
     "metadata": {},
     "output_type": "display_data"
    },
    {
     "data": {},
     "metadata": {},
     "output_type": "display_data"
    },
    {
     "data": {},
     "metadata": {},
     "output_type": "display_data"
    },
    {
     "data": {},
     "metadata": {},
     "output_type": "display_data"
    },
    {
     "data": {},
     "metadata": {},
     "output_type": "display_data"
    },
    {
     "data": {},
     "metadata": {},
     "output_type": "display_data"
    },
    {
     "data": {},
     "metadata": {},
     "output_type": "display_data"
    },
    {
     "data": {},
     "metadata": {},
     "output_type": "display_data"
    },
    {
     "data": {},
     "metadata": {},
     "output_type": "display_data"
    },
    {
     "data": {},
     "metadata": {},
     "output_type": "display_data"
    },
    {
     "data": {},
     "metadata": {},
     "output_type": "display_data"
    },
    {
     "data": {},
     "metadata": {},
     "output_type": "display_data"
    },
    {
     "data": {},
     "metadata": {},
     "output_type": "display_data"
    },
    {
     "data": {},
     "metadata": {},
     "output_type": "display_data"
    },
    {
     "data": {},
     "metadata": {},
     "output_type": "display_data"
    },
    {
     "data": {},
     "metadata": {},
     "output_type": "display_data"
    },
    {
     "data": {},
     "metadata": {},
     "output_type": "display_data"
    },
    {
     "data": {},
     "metadata": {},
     "output_type": "display_data"
    },
    {
     "data": {},
     "metadata": {},
     "output_type": "display_data"
    },
    {
     "data": {},
     "metadata": {},
     "output_type": "display_data"
    },
    {
     "data": {},
     "metadata": {},
     "output_type": "display_data"
    },
    {
     "data": {},
     "metadata": {},
     "output_type": "display_data"
    },
    {
     "data": {},
     "metadata": {},
     "output_type": "display_data"
    },
    {
     "data": {},
     "metadata": {},
     "output_type": "display_data"
    },
    {
     "data": {},
     "metadata": {},
     "output_type": "display_data"
    },
    {
     "data": {},
     "metadata": {},
     "output_type": "display_data"
    },
    {
     "data": {},
     "metadata": {},
     "output_type": "display_data"
    },
    {
     "data": {},
     "metadata": {},
     "output_type": "display_data"
    },
    {
     "data": {},
     "metadata": {},
     "output_type": "display_data"
    },
    {
     "data": {},
     "metadata": {},
     "output_type": "display_data"
    },
    {
     "data": {},
     "metadata": {},
     "output_type": "display_data"
    },
    {
     "data": {},
     "metadata": {},
     "output_type": "display_data"
    },
    {
     "data": {},
     "metadata": {},
     "output_type": "display_data"
    },
    {
     "data": {},
     "metadata": {},
     "output_type": "display_data"
    },
    {
     "data": {},
     "metadata": {},
     "output_type": "display_data"
    },
    {
     "data": {},
     "metadata": {},
     "output_type": "display_data"
    },
    {
     "data": {},
     "metadata": {},
     "output_type": "display_data"
    },
    {
     "data": {},
     "metadata": {},
     "output_type": "display_data"
    },
    {
     "data": {},
     "metadata": {},
     "output_type": "display_data"
    },
    {
     "data": {},
     "metadata": {},
     "output_type": "display_data"
    }
   ],
   "source": [
    "from tardis import run_tardis\n",
    "from tardis.io.atom_data import download_atom_data\n",
    "\n",
    "# We download the atomic data needed to run the simulation\n",
    "download_atom_data('kurucz_cd23_chianti_H_He_latest')\n",
    "\n",
    "# We run the simulation\n",
    "simulation = run_tardis('tardis_example.yml')"
   ]
  },
  {
   "attachments": {},
   "cell_type": "markdown",
   "metadata": {},
   "source": [
    "You can now use the `to_hdf` method, to save properties to a HDF file.\n",
    "\n",
    "#### Parameters  \n",
    "\n",
    "`file_path`: Path where the HDF file should be stored. (Required)  \n",
    "`path`: Path inside the HDF store to store the elements. (Optional)  \n",
    "`name`: Name of the group inside HDF store, under which properties will be saved.(Optional)\n",
    "`overwrite`: If the HDF file already exists, do you overwrite the existing file (Optional, default `False`)\n",
    "\n",
    "<div class=\"alert alert-info\">\n",
    "\n",
    "Note\n",
    "    \n",
    "Throughout this notebook, we set ``overwrite=True`` so that the notebook can be run repeatedly if needed.\n",
    "\n",
    "</div>"
   ]
  },
  {
   "cell_type": "code",
   "execution_count": 2,
   "metadata": {
    "execution": {
     "iopub.execute_input": "2025-06-23T15:00:17.914285Z",
     "iopub.status.busy": "2025-06-23T15:00:17.914071Z",
     "iopub.status.idle": "2025-06-23T15:01:29.550542Z",
     "shell.execute_reply": "2025-06-23T15:01:29.550005Z"
    }
   },
   "outputs": [
    {
     "name": "stdout",
     "output_type": "stream",
     "text": [
      "[\u001b[1mpy.warnings         \u001b[0m][\u001b[1;33mWARNING\u001b[0m]  /home/runner/work/tardis/tardis/tardis/io/util.py:291: PerformanceWarning:\n",
      "\n",
      "\n",
      "your performance may suffer as PyTables will pickle object types that it cannot\n",
      "map directly to c-types [inferred_type->mixed,key->block0_values] [items->Index([0], dtype='int64')]\n",
      "\n",
      "\n",
      " (\u001b[1mwarnings.py\u001b[0m:110)\n"
     ]
    },
    {
     "name": "stdout",
     "output_type": "stream",
     "text": [
      "[\u001b[1mpy.warnings         \u001b[0m][\u001b[1;33mWARNING\u001b[0m]  /home/runner/work/tardis/tardis/tardis/io/util.py:278: PerformanceWarning:\n",
      "\n",
      "\n",
      "your performance may suffer as PyTables will pickle object types that it cannot\n",
      "map directly to c-types [inferred_type->mixed,key->block0_values] [items->Index([0], dtype='int64')]\n",
      "\n",
      "\n",
      " (\u001b[1mwarnings.py\u001b[0m:110)\n"
     ]
    },
    {
     "name": "stdout",
     "output_type": "stream",
     "text": [
      "[\u001b[1mpy.warnings         \u001b[0m][\u001b[1;33mWARNING\u001b[0m]  /home/runner/work/tardis/tardis/tardis/io/util.py:299: PerformanceWarning:\n",
      "\n",
      "\n",
      "your performance may suffer as PyTables will pickle object types that it cannot\n",
      "map directly to c-types [inferred_type->mixed,key->values] [items->None]\n",
      "\n",
      "\n",
      " (\u001b[1mwarnings.py\u001b[0m:110)\n"
     ]
    },
    {
     "name": "stdout",
     "output_type": "stream",
     "text": [
      "[\u001b[1mpy.warnings         \u001b[0m][\u001b[1;33mWARNING\u001b[0m]  /home/runner/work/tardis/tardis/tardis/spectrum/formal_integral.py:398: UserWarning:\n",
      "\n",
      "The number of interpolate_shells was not specified. The value was set to 80.\n",
      "\n",
      " (\u001b[1mwarnings.py\u001b[0m:110)\n"
     ]
    }
   ],
   "source": [
    "simulation.to_hdf('/tmp/full_example.hdf', overwrite=True)\n",
    "\n",
    "# The commented out code below shows an example of to_hdf with more parameters\n",
    "#simulation.to_hdf(file_path='/tmp/full_example.hdf', path='/', name='simulation')"
   ]
  },
  {
   "attachments": {},
   "cell_type": "markdown",
   "metadata": {},
   "source": [
    "Open the stored HDF file with pandas and print a list of its entries using the `keys()` method:"
   ]
  },
  {
   "cell_type": "code",
   "execution_count": 3,
   "metadata": {
    "execution": {
     "iopub.execute_input": "2025-06-23T15:01:29.606335Z",
     "iopub.status.busy": "2025-06-23T15:01:29.606109Z",
     "iopub.status.idle": "2025-06-23T15:01:29.667471Z",
     "shell.execute_reply": "2025-06-23T15:01:29.666906Z"
    }
   },
   "outputs": [
    {
     "data": {
      "text/plain": [
       "['/simulation/iterations_electron_densities',\n",
       " '/simulation/iterations_t_inner',\n",
       " '/simulation/iterations_t_rad',\n",
       " '/simulation/iterations_w',\n",
       " '/simulation/metadata',\n",
       " '/simulation/transport/metadata',\n",
       " '/simulation/transport/transport_state/emitted_packet_mask',\n",
       " '/simulation/transport/transport_state/j_blue_estimator',\n",
       " '/simulation/transport/transport_state/j_estimator',\n",
       " '/simulation/transport/transport_state/last_interaction_in_nu',\n",
       " '/simulation/transport/transport_state/last_interaction_in_r',\n",
       " '/simulation/transport/transport_state/last_interaction_type',\n",
       " '/simulation/transport/transport_state/last_line_interaction_in_id',\n",
       " '/simulation/transport/transport_state/last_line_interaction_out_id',\n",
       " '/simulation/transport/transport_state/last_line_interaction_shell_id',\n",
       " '/simulation/transport/transport_state/metadata',\n",
       " '/simulation/transport/transport_state/nu_bar_estimator',\n",
       " '/simulation/transport/transport_state/output_energy',\n",
       " '/simulation/transport/transport_state/output_nu',\n",
       " '/simulation/transport/transport_state/packet_luminosity',\n",
       " '/simulation/transport/transport_state/scalars',\n",
       " '/simulation/spectrum_solver/metadata',\n",
       " '/simulation/spectrum_solver/montecarlo_virtual_luminosity',\n",
       " '/simulation/spectrum_solver/spectrum_virtual_packets/_frequency',\n",
       " '/simulation/spectrum_solver/spectrum_virtual_packets/luminosity',\n",
       " '/simulation/spectrum_solver/spectrum_virtual_packets/luminosity_density_lambda',\n",
       " '/simulation/spectrum_solver/spectrum_virtual_packets/metadata',\n",
       " '/simulation/spectrum_solver/spectrum_virtual_packets/scalars',\n",
       " '/simulation/spectrum_solver/spectrum_virtual_packets/wavelength',\n",
       " '/simulation/spectrum_solver/spectrum_real_packets_reabsorbed/_frequency',\n",
       " '/simulation/spectrum_solver/spectrum_real_packets_reabsorbed/luminosity',\n",
       " '/simulation/spectrum_solver/spectrum_real_packets_reabsorbed/luminosity_density_lambda',\n",
       " '/simulation/spectrum_solver/spectrum_real_packets_reabsorbed/metadata',\n",
       " '/simulation/spectrum_solver/spectrum_real_packets_reabsorbed/scalars',\n",
       " '/simulation/spectrum_solver/spectrum_real_packets_reabsorbed/wavelength',\n",
       " '/simulation/spectrum_solver/spectrum_real_packets/_frequency',\n",
       " '/simulation/spectrum_solver/spectrum_real_packets/luminosity',\n",
       " '/simulation/spectrum_solver/spectrum_real_packets/luminosity_density_lambda',\n",
       " '/simulation/spectrum_solver/spectrum_real_packets/metadata',\n",
       " '/simulation/spectrum_solver/spectrum_real_packets/scalars',\n",
       " '/simulation/spectrum_solver/spectrum_real_packets/wavelength',\n",
       " '/simulation/spectrum_solver/spectrum_integrated/_frequency',\n",
       " '/simulation/spectrum_solver/spectrum_integrated/luminosity',\n",
       " '/simulation/spectrum_solver/spectrum_integrated/luminosity_density_lambda',\n",
       " '/simulation/spectrum_solver/spectrum_integrated/metadata',\n",
       " '/simulation/spectrum_solver/spectrum_integrated/scalars',\n",
       " '/simulation/spectrum_solver/spectrum_integrated/wavelength',\n",
       " '/simulation/simulation_state/abundance',\n",
       " '/simulation/simulation_state/density',\n",
       " '/simulation/simulation_state/dilution_factor',\n",
       " '/simulation/simulation_state/metadata',\n",
       " '/simulation/simulation_state/r_inner',\n",
       " '/simulation/simulation_state/scalars',\n",
       " '/simulation/simulation_state/t_radiative',\n",
       " '/simulation/simulation_state/v_inner',\n",
       " '/simulation/simulation_state/v_outer',\n",
       " '/simulation/plasma/beta_rad',\n",
       " '/simulation/plasma/beta_sobolev',\n",
       " '/simulation/plasma/continuum_interaction_species',\n",
       " '/simulation/plasma/dilute_planckian_radiation_field',\n",
       " '/simulation/plasma/electron_densities',\n",
       " '/simulation/plasma/excitation_energy',\n",
       " '/simulation/plasma/f_lu',\n",
       " '/simulation/plasma/g',\n",
       " '/simulation/plasma/g_electron',\n",
       " '/simulation/plasma/general_level_boltzmann_factor',\n",
       " '/simulation/plasma/ion_number_density',\n",
       " '/simulation/plasma/ionization_data',\n",
       " '/simulation/plasma/j_blues',\n",
       " '/simulation/plasma/level_boltzmann_factor',\n",
       " '/simulation/plasma/level_number_density',\n",
       " '/simulation/plasma/levels',\n",
       " '/simulation/plasma/lines',\n",
       " '/simulation/plasma/lines_lower_level_index',\n",
       " '/simulation/plasma/lines_upper_level_index',\n",
       " '/simulation/plasma/macro_atom_data',\n",
       " '/simulation/plasma/metadata',\n",
       " '/simulation/plasma/metastability',\n",
       " '/simulation/plasma/nlte_excitation_species',\n",
       " '/simulation/plasma/nlte_ionization_species',\n",
       " '/simulation/plasma/nu',\n",
       " '/simulation/plasma/number_density',\n",
       " '/simulation/plasma/partition_function',\n",
       " '/simulation/plasma/phi',\n",
       " '/simulation/plasma/scalars',\n",
       " '/simulation/plasma/selected_atoms',\n",
       " '/simulation/plasma/stimulated_emission_factor',\n",
       " '/simulation/plasma/t_electrons',\n",
       " '/simulation/plasma/t_rad',\n",
       " '/simulation/plasma/tau_sobolevs',\n",
       " '/simulation/plasma/transition_probabilities',\n",
       " '/simulation/plasma/w',\n",
       " '/simulation/plasma/wavelength_cm']"
      ]
     },
     "execution_count": 3,
     "metadata": {},
     "output_type": "execute_result"
    }
   ],
   "source": [
    "import pandas as pd\n",
    "\n",
    "data = pd.HDFStore('/tmp/full_example.hdf', overwrite=True)\n",
    "\n",
    "data.keys()"
   ]
  },
  {
   "attachments": {},
   "cell_type": "markdown",
   "metadata": {},
   "source": [
    "Access `model.density` under simulation, which is a one-dimensional array"
   ]
  },
  {
   "cell_type": "code",
   "execution_count": 4,
   "metadata": {
    "execution": {
     "iopub.execute_input": "2025-06-23T15:01:29.684136Z",
     "iopub.status.busy": "2025-06-23T15:01:29.683686Z",
     "iopub.status.idle": "2025-06-23T15:01:29.689704Z",
     "shell.execute_reply": "2025-06-23T15:01:29.689223Z"
    }
   },
   "outputs": [
    {
     "name": "stdout",
     "output_type": "stream",
     "text": [
      "0     7.542804e-14\n",
      "1     5.728475e-14\n",
      "2     4.396074e-14\n",
      "3     3.406287e-14\n",
      "4     2.663135e-14\n",
      "5     2.099596e-14\n",
      "6     1.668287e-14\n",
      "7     1.335311e-14\n",
      "8     1.076154e-14\n",
      "9     8.729085e-15\n",
      "10    7.123652e-15\n",
      "11    5.846921e-15\n",
      "12    4.825093e-15\n",
      "13    4.002324e-15\n",
      "14    3.336039e-15\n",
      "15    2.793540e-15\n",
      "16    2.349550e-15\n",
      "17    1.984397e-15\n",
      "18    1.682677e-15\n",
      "19    1.432260e-15\n",
      "dtype: float64\n"
     ]
    }
   ],
   "source": [
    "print(data['/simulation/simulation_state/density'])"
   ]
  },
  {
   "attachments": {},
   "cell_type": "markdown",
   "metadata": {
    "collapsed": true,
    "jupyter": {
     "outputs_hidden": true
    }
   },
   "source": [
    "Scalars are stored in a `scalars` `pandas.Series` for every module. For example to access `model.t_inner` under simulation, one would need to do the following."
   ]
  },
  {
   "cell_type": "code",
   "execution_count": 5,
   "metadata": {
    "execution": {
     "iopub.execute_input": "2025-06-23T15:01:29.720978Z",
     "iopub.status.busy": "2025-06-23T15:01:29.720778Z",
     "iopub.status.idle": "2025-06-23T15:01:29.725987Z",
     "shell.execute_reply": "2025-06-23T15:01:29.725515Z"
    }
   },
   "outputs": [
    {
     "name": "stdout",
     "output_type": "stream",
     "text": [
      "10651.315137263384\n"
     ]
    }
   ],
   "source": [
    "print(data['/simulation/simulation_state/scalars']['t_inner'])"
   ]
  },
  {
   "attachments": {},
   "cell_type": "markdown",
   "metadata": {},
   "source": [
    "## Breakdown of the various to_hdf methods\n",
    "Every module in TARDIS has its own `to_hdf` method responsible to store its own data to an HDF file."
   ]
  },
  {
   "attachments": {},
   "cell_type": "markdown",
   "metadata": {},
   "source": [
    "### Plasma\n",
    "The following call will store every plasma property to `/tmp/plasma_output.hdf` under `/parent/plasma`"
   ]
  },
  {
   "cell_type": "code",
   "execution_count": 6,
   "metadata": {
    "execution": {
     "iopub.execute_input": "2025-06-23T15:01:29.742701Z",
     "iopub.status.busy": "2025-06-23T15:01:29.742480Z",
     "iopub.status.idle": "2025-06-23T15:01:29.950681Z",
     "shell.execute_reply": "2025-06-23T15:01:29.950175Z"
    }
   },
   "outputs": [
    {
     "name": "stdout",
     "output_type": "stream",
     "text": [
      "[\u001b[1mpy.warnings         \u001b[0m][\u001b[1;33mWARNING\u001b[0m]  /home/runner/work/tardis/tardis/tardis/io/util.py:291: PerformanceWarning:\n",
      "\n",
      "\n",
      "your performance may suffer as PyTables will pickle object types that it cannot\n",
      "map directly to c-types [inferred_type->mixed,key->block0_values] [items->Index([0], dtype='int64')]\n",
      "\n",
      "\n",
      " (\u001b[1mwarnings.py\u001b[0m:110)\n"
     ]
    },
    {
     "name": "stdout",
     "output_type": "stream",
     "text": [
      "[\u001b[1mpy.warnings         \u001b[0m][\u001b[1;33mWARNING\u001b[0m]  /home/runner/work/tardis/tardis/tardis/io/util.py:278: PerformanceWarning:\n",
      "\n",
      "\n",
      "your performance may suffer as PyTables will pickle object types that it cannot\n",
      "map directly to c-types [inferred_type->mixed,key->block0_values] [items->Index([0], dtype='int64')]\n",
      "\n",
      "\n",
      " (\u001b[1mwarnings.py\u001b[0m:110)\n"
     ]
    },
    {
     "name": "stdout",
     "output_type": "stream",
     "text": [
      "[\u001b[1mpy.warnings         \u001b[0m][\u001b[1;33mWARNING\u001b[0m]  /home/runner/work/tardis/tardis/tardis/io/util.py:299: PerformanceWarning:\n",
      "\n",
      "\n",
      "your performance may suffer as PyTables will pickle object types that it cannot\n",
      "map directly to c-types [inferred_type->mixed,key->values] [items->None]\n",
      "\n",
      "\n",
      " (\u001b[1mwarnings.py\u001b[0m:110)\n"
     ]
    }
   ],
   "source": [
    "simulation.plasma.to_hdf('/tmp/plasma_output.hdf', path='parent', overwrite=True)"
   ]
  },
  {
   "cell_type": "code",
   "execution_count": 7,
   "metadata": {
    "execution": {
     "iopub.execute_input": "2025-06-23T15:01:30.006202Z",
     "iopub.status.busy": "2025-06-23T15:01:30.005982Z",
     "iopub.status.idle": "2025-06-23T15:01:30.026577Z",
     "shell.execute_reply": "2025-06-23T15:01:30.026107Z"
    }
   },
   "outputs": [
    {
     "data": {
      "text/plain": [
       "['/parent/plasma/beta_rad',\n",
       " '/parent/plasma/beta_sobolev',\n",
       " '/parent/plasma/continuum_interaction_species',\n",
       " '/parent/plasma/dilute_planckian_radiation_field',\n",
       " '/parent/plasma/electron_densities',\n",
       " '/parent/plasma/excitation_energy',\n",
       " '/parent/plasma/f_lu',\n",
       " '/parent/plasma/g',\n",
       " '/parent/plasma/g_electron',\n",
       " '/parent/plasma/general_level_boltzmann_factor',\n",
       " '/parent/plasma/ion_number_density',\n",
       " '/parent/plasma/ionization_data',\n",
       " '/parent/plasma/j_blues',\n",
       " '/parent/plasma/level_boltzmann_factor',\n",
       " '/parent/plasma/level_number_density',\n",
       " '/parent/plasma/levels',\n",
       " '/parent/plasma/lines',\n",
       " '/parent/plasma/lines_lower_level_index',\n",
       " '/parent/plasma/lines_upper_level_index',\n",
       " '/parent/plasma/macro_atom_data',\n",
       " '/parent/plasma/metadata',\n",
       " '/parent/plasma/metastability',\n",
       " '/parent/plasma/nlte_excitation_species',\n",
       " '/parent/plasma/nlte_ionization_species',\n",
       " '/parent/plasma/nu',\n",
       " '/parent/plasma/number_density',\n",
       " '/parent/plasma/partition_function',\n",
       " '/parent/plasma/phi',\n",
       " '/parent/plasma/scalars',\n",
       " '/parent/plasma/selected_atoms',\n",
       " '/parent/plasma/stimulated_emission_factor',\n",
       " '/parent/plasma/t_electrons',\n",
       " '/parent/plasma/t_rad',\n",
       " '/parent/plasma/tau_sobolevs',\n",
       " '/parent/plasma/transition_probabilities',\n",
       " '/parent/plasma/w',\n",
       " '/parent/plasma/wavelength_cm']"
      ]
     },
     "execution_count": 7,
     "metadata": {},
     "output_type": "execute_result"
    }
   ],
   "source": [
    "import pandas\n",
    "\n",
    "plasma_data = pandas.HDFStore('/tmp/plasma_output.hdf')\n",
    "\n",
    "plasma_data.keys()"
   ]
  },
  {
   "attachments": {},
   "cell_type": "markdown",
   "metadata": {},
   "source": [
    "Plasma's `to_hdf` method can also accept a `collection` parameter which can specify which types of plasma properties will be stored. For example if we wanted to only store Input plasma properties, we would do the following:"
   ]
  },
  {
   "cell_type": "code",
   "execution_count": 8,
   "metadata": {
    "execution": {
     "iopub.execute_input": "2025-06-23T15:01:30.028430Z",
     "iopub.status.busy": "2025-06-23T15:01:30.028263Z",
     "iopub.status.idle": "2025-06-23T15:01:30.068618Z",
     "shell.execute_reply": "2025-06-23T15:01:30.068119Z"
    }
   },
   "outputs": [
    {
     "name": "stdout",
     "output_type": "stream",
     "text": [
      "[\u001b[1mpy.warnings         \u001b[0m][\u001b[1;33mWARNING\u001b[0m]  /home/runner/work/tardis/tardis/tardis/io/util.py:291: PerformanceWarning:\n",
      "\n",
      "\n",
      "your performance may suffer as PyTables will pickle object types that it cannot\n",
      "map directly to c-types [inferred_type->mixed,key->block0_values] [items->Index([0], dtype='int64')]\n",
      "\n",
      "\n",
      " (\u001b[1mwarnings.py\u001b[0m:110)\n"
     ]
    },
    {
     "name": "stdout",
     "output_type": "stream",
     "text": [
      "[\u001b[1mpy.warnings         \u001b[0m][\u001b[1;33mWARNING\u001b[0m]  /home/runner/work/tardis/tardis/tardis/io/util.py:299: PerformanceWarning:\n",
      "\n",
      "\n",
      "your performance may suffer as PyTables will pickle object types that it cannot\n",
      "map directly to c-types [inferred_type->mixed,key->values] [items->None]\n",
      "\n",
      "\n",
      " (\u001b[1mwarnings.py\u001b[0m:110)\n"
     ]
    }
   ],
   "source": [
    "from tardis.plasma.properties.base import Input\n",
    "simulation.plasma.to_hdf('/tmp/plasma_input_output.hdf', collection=[Input], overwrite=True)"
   ]
  },
  {
   "cell_type": "code",
   "execution_count": 9,
   "metadata": {
    "execution": {
     "iopub.execute_input": "2025-06-23T15:01:30.088508Z",
     "iopub.status.busy": "2025-06-23T15:01:30.088299Z",
     "iopub.status.idle": "2025-06-23T15:01:30.097836Z",
     "shell.execute_reply": "2025-06-23T15:01:30.097234Z"
    }
   },
   "outputs": [
    {
     "data": {
      "text/plain": [
       "['/plasma/continuum_interaction_species',\n",
       " '/plasma/dilute_planckian_radiation_field',\n",
       " '/plasma/j_blues',\n",
       " '/plasma/metadata',\n",
       " '/plasma/nlte_excitation_species',\n",
       " '/plasma/nlte_ionization_species',\n",
       " '/plasma/number_density',\n",
       " '/plasma/scalars']"
      ]
     },
     "execution_count": 9,
     "metadata": {},
     "output_type": "execute_result"
    }
   ],
   "source": [
    "import pandas\n",
    "\n",
    "plasma_input_data = pandas.HDFStore('/tmp/plasma_input_output.hdf')\n",
    "\n",
    "plasma_input_data.keys()"
   ]
  },
  {
   "attachments": {},
   "cell_type": "markdown",
   "metadata": {},
   "source": [
    "### Model\n",
    "The following call will store properties of the `SimulationState` to `/tmp/model_output.hdf` under `/simulation_state`."
   ]
  },
  {
   "cell_type": "code",
   "execution_count": 10,
   "metadata": {
    "execution": {
     "iopub.execute_input": "2025-06-23T15:01:30.135999Z",
     "iopub.status.busy": "2025-06-23T15:01:30.135790Z",
     "iopub.status.idle": "2025-06-23T15:01:30.166249Z",
     "shell.execute_reply": "2025-06-23T15:01:30.165663Z"
    }
   },
   "outputs": [],
   "source": [
    "simulation.simulation_state.to_hdf('/tmp/model_output.hdf', overwrite=True)"
   ]
  },
  {
   "cell_type": "code",
   "execution_count": 11,
   "metadata": {
    "execution": {
     "iopub.execute_input": "2025-06-23T15:01:30.168201Z",
     "iopub.status.busy": "2025-06-23T15:01:30.167833Z",
     "iopub.status.idle": "2025-06-23T15:01:30.178061Z",
     "shell.execute_reply": "2025-06-23T15:01:30.177507Z"
    }
   },
   "outputs": [
    {
     "data": {
      "text/plain": [
       "['/simulation_state/abundance',\n",
       " '/simulation_state/density',\n",
       " '/simulation_state/dilution_factor',\n",
       " '/simulation_state/metadata',\n",
       " '/simulation_state/r_inner',\n",
       " '/simulation_state/scalars',\n",
       " '/simulation_state/t_radiative',\n",
       " '/simulation_state/v_inner',\n",
       " '/simulation_state/v_outer']"
      ]
     },
     "execution_count": 11,
     "metadata": {},
     "output_type": "execute_result"
    }
   ],
   "source": [
    "import pandas\n",
    "\n",
    "model_data = pandas.HDFStore('/tmp/model_output.hdf')\n",
    "\n",
    "model_data.keys()"
   ]
  },
  {
   "attachments": {},
   "cell_type": "markdown",
   "metadata": {},
   "source": [
    "### MontecarloTransport\n",
    "The following call will store properties of the `MontecarloTransport` to `/tmp/transport_output.hdf` under `/transport`."
   ]
  },
  {
   "cell_type": "code",
   "execution_count": 12,
   "metadata": {
    "execution": {
     "iopub.execute_input": "2025-06-23T15:01:30.195305Z",
     "iopub.status.busy": "2025-06-23T15:01:30.195117Z",
     "iopub.status.idle": "2025-06-23T15:01:30.273482Z",
     "shell.execute_reply": "2025-06-23T15:01:30.272898Z"
    }
   },
   "outputs": [],
   "source": [
    "simulation.transport.to_hdf('/tmp/transport_output.hdf', overwrite=True)"
   ]
  },
  {
   "cell_type": "code",
   "execution_count": 13,
   "metadata": {
    "execution": {
     "iopub.execute_input": "2025-06-23T15:01:30.328915Z",
     "iopub.status.busy": "2025-06-23T15:01:30.328677Z",
     "iopub.status.idle": "2025-06-23T15:01:30.339110Z",
     "shell.execute_reply": "2025-06-23T15:01:30.338550Z"
    }
   },
   "outputs": [
    {
     "data": {
      "text/plain": [
       "['/transport/metadata',\n",
       " '/transport/transport_state/emitted_packet_mask',\n",
       " '/transport/transport_state/j_blue_estimator',\n",
       " '/transport/transport_state/j_estimator',\n",
       " '/transport/transport_state/last_interaction_in_nu',\n",
       " '/transport/transport_state/last_interaction_in_r',\n",
       " '/transport/transport_state/last_interaction_type',\n",
       " '/transport/transport_state/last_line_interaction_in_id',\n",
       " '/transport/transport_state/last_line_interaction_out_id',\n",
       " '/transport/transport_state/last_line_interaction_shell_id',\n",
       " '/transport/transport_state/metadata',\n",
       " '/transport/transport_state/nu_bar_estimator',\n",
       " '/transport/transport_state/output_energy',\n",
       " '/transport/transport_state/output_nu',\n",
       " '/transport/transport_state/packet_luminosity',\n",
       " '/transport/transport_state/scalars']"
      ]
     },
     "execution_count": 13,
     "metadata": {},
     "output_type": "execute_result"
    }
   ],
   "source": [
    "import pandas\n",
    "\n",
    "transport_data = pandas.HDFStore('/tmp/transport_output.hdf')\n",
    "\n",
    "transport_data.keys()"
   ]
  },
  {
   "cell_type": "markdown",
   "metadata": {},
   "source": [
    "### Close all HDF Files"
   ]
  },
  {
   "cell_type": "code",
   "execution_count": 14,
   "metadata": {
    "execution": {
     "iopub.execute_input": "2025-06-23T15:01:30.340701Z",
     "iopub.status.busy": "2025-06-23T15:01:30.340538Z",
     "iopub.status.idle": "2025-06-23T15:01:30.347302Z",
     "shell.execute_reply": "2025-06-23T15:01:30.346745Z"
    }
   },
   "outputs": [],
   "source": [
    "data.close()\n",
    "plasma_data.close()\n",
    "plasma_input_data.close()\n",
    "model_data.close()\n",
    "transport_data.close()"
   ]
  },
  {
   "cell_type": "code",
   "execution_count": null,
   "metadata": {},
   "outputs": [],
   "source": []
  }
 ],
 "metadata": {
  "celltoolbar": "Raw Cell Format",
  "kernelspec": {
   "display_name": "Python 3 (ipykernel)",
   "language": "python",
   "name": "python3"
  },
  "language_info": {
   "codemirror_mode": {
    "name": "ipython",
    "version": 3
   },
   "file_extension": ".py",
   "mimetype": "text/x-python",
   "name": "python",
   "nbconvert_exporter": "python",
   "pygments_lexer": "ipython3",
   "version": "3.13.3"
  },
  "widgets": {
   "application/vnd.jupyter.widget-state+json": {
    "state": {
     "01b564ee52e64fac947d47b641d7efea": {
      "model_module": "@jupyter-widgets/controls",
      "model_module_version": "2.0.0",
      "model_name": "HTMLStyleModel",
      "state": {
       "_model_module": "@jupyter-widgets/controls",
       "_model_module_version": "2.0.0",
       "_model_name": "HTMLStyleModel",
       "_view_count": null,
       "_view_module": "@jupyter-widgets/base",
       "_view_module_version": "2.0.0",
       "_view_name": "StyleView",
       "background": null,
       "description_width": "",
       "font_size": null,
       "text_color": null
      }
     },
     "0ee7318bfa0a4fcba145cf42c1b6b7a4": {
      "model_module": "@jupyter-widgets/controls",
      "model_module_version": "2.0.0",
      "model_name": "HTMLModel",
      "state": {
       "_dom_classes": [],
       "_model_module": "@jupyter-widgets/controls",
       "_model_module_version": "2.0.0",
       "_model_name": "HTMLModel",
       "_view_count": null,
       "_view_module": "@jupyter-widgets/controls",
       "_view_module_version": "2.0.0",
       "_view_name": "HTMLView",
       "description": "",
       "description_allow_html": false,
       "layout": "IPY_MODEL_1201082b6ccb43adb2d5d71e24ed0c40",
       "placeholder": "​",
       "style": "IPY_MODEL_2a5d0f6bd05c4fcda71ebc5cf2fc6f1d",
       "tabbable": null,
       "tooltip": null,
       "value": "0/? [00:00&lt;?, ?it/s]"
      }
     },
     "1201082b6ccb43adb2d5d71e24ed0c40": {
      "model_module": "@jupyter-widgets/base",
      "model_module_version": "2.0.0",
      "model_name": "LayoutModel",
      "state": {
       "_model_module": "@jupyter-widgets/base",
       "_model_module_version": "2.0.0",
       "_model_name": "LayoutModel",
       "_view_count": null,
       "_view_module": "@jupyter-widgets/base",
       "_view_module_version": "2.0.0",
       "_view_name": "LayoutView",
       "align_content": null,
       "align_items": null,
       "align_self": null,
       "border_bottom": null,
       "border_left": null,
       "border_right": null,
       "border_top": null,
       "bottom": null,
       "display": null,
       "flex": null,
       "flex_flow": null,
       "grid_area": null,
       "grid_auto_columns": null,
       "grid_auto_flow": null,
       "grid_auto_rows": null,
       "grid_column": null,
       "grid_gap": null,
       "grid_row": null,
       "grid_template_areas": null,
       "grid_template_columns": null,
       "grid_template_rows": null,
       "height": null,
       "justify_content": null,
       "justify_items": null,
       "left": null,
       "margin": null,
       "max_height": null,
       "max_width": null,
       "min_height": null,
       "min_width": null,
       "object_fit": null,
       "object_position": null,
       "order": null,
       "overflow": null,
       "padding": null,
       "right": null,
       "top": null,
       "visibility": null,
       "width": null
      }
     },
     "1bc2da6400614ec7932b993f75c0941b": {
      "model_module": "@jupyter-widgets/controls",
      "model_module_version": "2.0.0",
      "model_name": "HTMLStyleModel",
      "state": {
       "_model_module": "@jupyter-widgets/controls",
       "_model_module_version": "2.0.0",
       "_model_name": "HTMLStyleModel",
       "_view_count": null,
       "_view_module": "@jupyter-widgets/base",
       "_view_module_version": "2.0.0",
       "_view_name": "StyleView",
       "background": null,
       "description_width": "",
       "font_size": null,
       "text_color": null
      }
     },
     "1cd9090dfe6b43e5900b3240c64c3ac9": {
      "model_module": "@jupyter-widgets/base",
      "model_module_version": "2.0.0",
      "model_name": "LayoutModel",
      "state": {
       "_model_module": "@jupyter-widgets/base",
       "_model_module_version": "2.0.0",
       "_model_name": "LayoutModel",
       "_view_count": null,
       "_view_module": "@jupyter-widgets/base",
       "_view_module_version": "2.0.0",
       "_view_name": "LayoutView",
       "align_content": null,
       "align_items": null,
       "align_self": null,
       "border_bottom": null,
       "border_left": null,
       "border_right": null,
       "border_top": null,
       "bottom": null,
       "display": null,
       "flex": null,
       "flex_flow": null,
       "grid_area": null,
       "grid_auto_columns": null,
       "grid_auto_flow": null,
       "grid_auto_rows": null,
       "grid_column": null,
       "grid_gap": null,
       "grid_row": null,
       "grid_template_areas": null,
       "grid_template_columns": null,
       "grid_template_rows": null,
       "height": null,
       "justify_content": null,
       "justify_items": null,
       "left": null,
       "margin": null,
       "max_height": null,
       "max_width": null,
       "min_height": null,
       "min_width": null,
       "object_fit": null,
       "object_position": null,
       "order": null,
       "overflow": null,
       "padding": null,
       "right": null,
       "top": null,
       "visibility": null,
       "width": "20px"
      }
     },
     "1e0e1c4137be4ac5a46c9b488e96632f": {
      "model_module": "@jupyter-widgets/controls",
      "model_module_version": "2.0.0",
      "model_name": "HTMLStyleModel",
      "state": {
       "_model_module": "@jupyter-widgets/controls",
       "_model_module_version": "2.0.0",
       "_model_name": "HTMLStyleModel",
       "_view_count": null,
       "_view_module": "@jupyter-widgets/base",
       "_view_module_version": "2.0.0",
       "_view_name": "StyleView",
       "background": null,
       "description_width": "",
       "font_size": null,
       "text_color": null
      }
     },
     "1e2d602907cf43859d235fce1992b702": {
      "model_module": "@jupyter-widgets/controls",
      "model_module_version": "2.0.0",
      "model_name": "HTMLModel",
      "state": {
       "_dom_classes": [],
       "_model_module": "@jupyter-widgets/controls",
       "_model_module_version": "2.0.0",
       "_model_name": "HTMLModel",
       "_view_count": null,
       "_view_module": "@jupyter-widgets/controls",
       "_view_module_version": "2.0.0",
       "_view_name": "HTMLView",
       "description": "",
       "description_allow_html": false,
       "layout": "IPY_MODEL_535a206c8d88488d824eaaff4d2dc868",
       "placeholder": "​",
       "style": "IPY_MODEL_1e0e1c4137be4ac5a46c9b488e96632f",
       "tabbable": null,
       "tooltip": null,
       "value": "Iterations:"
      }
     },
     "1ff58a7696db4a1fb75dfafb74cbfdd5": {
      "model_module": "@jupyter-widgets/controls",
      "model_module_version": "2.0.0",
      "model_name": "HBoxModel",
      "state": {
       "_dom_classes": [],
       "_model_module": "@jupyter-widgets/controls",
       "_model_module_version": "2.0.0",
       "_model_name": "HBoxModel",
       "_view_count": null,
       "_view_module": "@jupyter-widgets/controls",
       "_view_module_version": "2.0.0",
       "_view_name": "HBoxView",
       "box_style": "",
       "children": [
        "IPY_MODEL_1e2d602907cf43859d235fce1992b702",
        "IPY_MODEL_ff3a448919f540f6b6f901d0a842dfd1",
        "IPY_MODEL_0ee7318bfa0a4fcba145cf42c1b6b7a4"
       ],
       "layout": "IPY_MODEL_5cc5284806d647768248d48c76d96397",
       "tabbable": null,
       "tooltip": null
      }
     },
     "24c9f9ca4d334cc9997097dc2c946f19": {
      "model_module": "@jupyter-widgets/controls",
      "model_module_version": "2.0.0",
      "model_name": "HBoxModel",
      "state": {
       "_dom_classes": [],
       "_model_module": "@jupyter-widgets/controls",
       "_model_module_version": "2.0.0",
       "_model_name": "HBoxModel",
       "_view_count": null,
       "_view_module": "@jupyter-widgets/controls",
       "_view_module_version": "2.0.0",
       "_view_name": "HBoxView",
       "box_style": "",
       "children": [
        "IPY_MODEL_9391d7dcc00e48978c5c81ae3b17092a",
        "IPY_MODEL_f1c254381e3f4d56ae3f8032caa6e720",
        "IPY_MODEL_2b924695816b4669b2f0c840e838f894"
       ],
       "layout": "IPY_MODEL_729c99f2a1e04e63a62b1e4e16c08f66",
       "tabbable": null,
       "tooltip": null
      }
     },
     "26e56426c77e4457949d240651784013": {
      "model_module": "@jupyter-widgets/controls",
      "model_module_version": "2.0.0",
      "model_name": "FloatProgressModel",
      "state": {
       "_dom_classes": [],
       "_model_module": "@jupyter-widgets/controls",
       "_model_module_version": "2.0.0",
       "_model_name": "FloatProgressModel",
       "_view_count": null,
       "_view_module": "@jupyter-widgets/controls",
       "_view_module_version": "2.0.0",
       "_view_name": "ProgressView",
       "bar_style": "info",
       "description": "",
       "description_allow_html": false,
       "layout": "IPY_MODEL_37435bb9f0bd40a59108ed1172e59dff",
       "max": 1.0,
       "min": 0.0,
       "orientation": "horizontal",
       "style": "IPY_MODEL_c156e59746f844a09cb9003918b4a823",
       "tabbable": null,
       "tooltip": null,
       "value": 0.0
      }
     },
     "2a5d0f6bd05c4fcda71ebc5cf2fc6f1d": {
      "model_module": "@jupyter-widgets/controls",
      "model_module_version": "2.0.0",
      "model_name": "HTMLStyleModel",
      "state": {
       "_model_module": "@jupyter-widgets/controls",
       "_model_module_version": "2.0.0",
       "_model_name": "HTMLStyleModel",
       "_view_count": null,
       "_view_module": "@jupyter-widgets/base",
       "_view_module_version": "2.0.0",
       "_view_name": "StyleView",
       "background": null,
       "description_width": "",
       "font_size": null,
       "text_color": null
      }
     },
     "2b924695816b4669b2f0c840e838f894": {
      "model_module": "@jupyter-widgets/controls",
      "model_module_version": "2.0.0",
      "model_name": "HTMLModel",
      "state": {
       "_dom_classes": [],
       "_model_module": "@jupyter-widgets/controls",
       "_model_module_version": "2.0.0",
       "_model_name": "HTMLModel",
       "_view_count": null,
       "_view_module": "@jupyter-widgets/controls",
       "_view_module_version": "2.0.0",
       "_view_name": "HTMLView",
       "description": "",
       "description_allow_html": false,
       "layout": "IPY_MODEL_d69264714626443fb7f99c2f6e3ebcb5",
       "placeholder": "​",
       "style": "IPY_MODEL_f9b5835a3ae04c959a6194c3a149b240",
       "tabbable": null,
       "tooltip": null,
       "value": "100000/100000 [00:21&lt;00:00, 21347.80it/s]"
      }
     },
     "33163b05bebb488c94884ceb3d1156e3": {
      "model_module": "@jupyter-widgets/base",
      "model_module_version": "2.0.0",
      "model_name": "LayoutModel",
      "state": {
       "_model_module": "@jupyter-widgets/base",
       "_model_module_version": "2.0.0",
       "_model_name": "LayoutModel",
       "_view_count": null,
       "_view_module": "@jupyter-widgets/base",
       "_view_module_version": "2.0.0",
       "_view_name": "LayoutView",
       "align_content": null,
       "align_items": null,
       "align_self": null,
       "border_bottom": null,
       "border_left": null,
       "border_right": null,
       "border_top": null,
       "bottom": null,
       "display": null,
       "flex": null,
       "flex_flow": null,
       "grid_area": null,
       "grid_auto_columns": null,
       "grid_auto_flow": null,
       "grid_auto_rows": null,
       "grid_column": null,
       "grid_gap": null,
       "grid_row": null,
       "grid_template_areas": null,
       "grid_template_columns": null,
       "grid_template_rows": null,
       "height": null,
       "justify_content": null,
       "justify_items": null,
       "left": null,
       "margin": null,
       "max_height": null,
       "max_width": null,
       "min_height": null,
       "min_width": null,
       "object_fit": null,
       "object_position": null,
       "order": null,
       "overflow": null,
       "padding": null,
       "right": null,
       "top": null,
       "visibility": null,
       "width": null
      }
     },
     "37435bb9f0bd40a59108ed1172e59dff": {
      "model_module": "@jupyter-widgets/base",
      "model_module_version": "2.0.0",
      "model_name": "LayoutModel",
      "state": {
       "_model_module": "@jupyter-widgets/base",
       "_model_module_version": "2.0.0",
       "_model_name": "LayoutModel",
       "_view_count": null,
       "_view_module": "@jupyter-widgets/base",
       "_view_module_version": "2.0.0",
       "_view_name": "LayoutView",
       "align_content": null,
       "align_items": null,
       "align_self": null,
       "border_bottom": null,
       "border_left": null,
       "border_right": null,
       "border_top": null,
       "bottom": null,
       "display": null,
       "flex": null,
       "flex_flow": null,
       "grid_area": null,
       "grid_auto_columns": null,
       "grid_auto_flow": null,
       "grid_auto_rows": null,
       "grid_column": null,
       "grid_gap": null,
       "grid_row": null,
       "grid_template_areas": null,
       "grid_template_columns": null,
       "grid_template_rows": null,
       "height": null,
       "justify_content": null,
       "justify_items": null,
       "left": null,
       "margin": null,
       "max_height": null,
       "max_width": null,
       "min_height": null,
       "min_width": null,
       "object_fit": null,
       "object_position": null,
       "order": null,
       "overflow": null,
       "padding": null,
       "right": null,
       "top": null,
       "visibility": null,
       "width": "20px"
      }
     },
     "4a341a3a6eeb40b3a85355c12d66e1b3": {
      "model_module": "@jupyter-widgets/output",
      "model_module_version": "1.0.0",
      "model_name": "OutputModel",
      "state": {
       "_dom_classes": [],
       "_model_module": "@jupyter-widgets/output",
       "_model_module_version": "1.0.0",
       "_model_name": "OutputModel",
       "_view_count": null,
       "_view_module": "@jupyter-widgets/output",
       "_view_module_version": "1.0.0",
       "_view_name": "OutputView",
       "layout": "IPY_MODEL_dc5636a8221f4087af68ad90aa9c6d0a",
       "msg_id": "",
       "outputs": [],
       "tabbable": null,
       "tooltip": null
      }
     },
     "5112786b263e45529e21ea5de053cac4": {
      "model_module": "@jupyter-widgets/controls",
      "model_module_version": "2.0.0",
      "model_name": "FloatProgressModel",
      "state": {
       "_dom_classes": [],
       "_model_module": "@jupyter-widgets/controls",
       "_model_module_version": "2.0.0",
       "_model_name": "FloatProgressModel",
       "_view_count": null,
       "_view_module": "@jupyter-widgets/controls",
       "_view_module_version": "2.0.0",
       "_view_name": "ProgressView",
       "bar_style": "",
       "description": "",
       "description_allow_html": false,
       "layout": "IPY_MODEL_c14186ec14424b8291db98c5535e08bb",
       "max": 20.0,
       "min": 0.0,
       "orientation": "horizontal",
       "style": "IPY_MODEL_7d347503e0564f41ae241b6334ccd3e1",
       "tabbable": null,
       "tooltip": null,
       "value": 20.0
      }
     },
     "535a206c8d88488d824eaaff4d2dc868": {
      "model_module": "@jupyter-widgets/base",
      "model_module_version": "2.0.0",
      "model_name": "LayoutModel",
      "state": {
       "_model_module": "@jupyter-widgets/base",
       "_model_module_version": "2.0.0",
       "_model_name": "LayoutModel",
       "_view_count": null,
       "_view_module": "@jupyter-widgets/base",
       "_view_module_version": "2.0.0",
       "_view_name": "LayoutView",
       "align_content": null,
       "align_items": null,
       "align_self": null,
       "border_bottom": null,
       "border_left": null,
       "border_right": null,
       "border_top": null,
       "bottom": null,
       "display": null,
       "flex": null,
       "flex_flow": null,
       "grid_area": null,
       "grid_auto_columns": null,
       "grid_auto_flow": null,
       "grid_auto_rows": null,
       "grid_column": null,
       "grid_gap": null,
       "grid_row": null,
       "grid_template_areas": null,
       "grid_template_columns": null,
       "grid_template_rows": null,
       "height": null,
       "justify_content": null,
       "justify_items": null,
       "left": null,
       "margin": null,
       "max_height": null,
       "max_width": null,
       "min_height": null,
       "min_width": null,
       "object_fit": null,
       "object_position": null,
       "order": null,
       "overflow": null,
       "padding": null,
       "right": null,
       "top": null,
       "visibility": null,
       "width": null
      }
     },
     "5cc5284806d647768248d48c76d96397": {
      "model_module": "@jupyter-widgets/base",
      "model_module_version": "2.0.0",
      "model_name": "LayoutModel",
      "state": {
       "_model_module": "@jupyter-widgets/base",
       "_model_module_version": "2.0.0",
       "_model_name": "LayoutModel",
       "_view_count": null,
       "_view_module": "@jupyter-widgets/base",
       "_view_module_version": "2.0.0",
       "_view_name": "LayoutView",
       "align_content": null,
       "align_items": null,
       "align_self": null,
       "border_bottom": null,
       "border_left": null,
       "border_right": null,
       "border_top": null,
       "bottom": null,
       "display": null,
       "flex": null,
       "flex_flow": null,
       "grid_area": null,
       "grid_auto_columns": null,
       "grid_auto_flow": null,
       "grid_auto_rows": null,
       "grid_column": null,
       "grid_gap": null,
       "grid_row": null,
       "grid_template_areas": null,
       "grid_template_columns": null,
       "grid_template_rows": null,
       "height": null,
       "justify_content": null,
       "justify_items": null,
       "left": null,
       "margin": null,
       "max_height": null,
       "max_width": null,
       "min_height": null,
       "min_width": null,
       "object_fit": null,
       "object_position": null,
       "order": null,
       "overflow": null,
       "padding": null,
       "right": null,
       "top": null,
       "visibility": null,
       "width": null
      }
     },
     "5fe6dad3fc3a417f94cc21c3b0690ddc": {
      "model_module": "@jupyter-widgets/controls",
      "model_module_version": "2.0.0",
      "model_name": "ProgressStyleModel",
      "state": {
       "_model_module": "@jupyter-widgets/controls",
       "_model_module_version": "2.0.0",
       "_model_name": "ProgressStyleModel",
       "_view_count": null,
       "_view_module": "@jupyter-widgets/base",
       "_view_module_version": "2.0.0",
       "_view_name": "StyleView",
       "bar_color": null,
       "description_width": ""
      }
     },
     "60321873be0a418d9da44416ea576ad9": {
      "model_module": "@jupyter-widgets/base",
      "model_module_version": "2.0.0",
      "model_name": "LayoutModel",
      "state": {
       "_model_module": "@jupyter-widgets/base",
       "_model_module_version": "2.0.0",
       "_model_name": "LayoutModel",
       "_view_count": null,
       "_view_module": "@jupyter-widgets/base",
       "_view_module_version": "2.0.0",
       "_view_name": "LayoutView",
       "align_content": null,
       "align_items": null,
       "align_self": null,
       "border_bottom": null,
       "border_left": null,
       "border_right": null,
       "border_top": null,
       "bottom": null,
       "display": null,
       "flex": null,
       "flex_flow": null,
       "grid_area": null,
       "grid_auto_columns": null,
       "grid_auto_flow": null,
       "grid_auto_rows": null,
       "grid_column": null,
       "grid_gap": null,
       "grid_row": null,
       "grid_template_areas": null,
       "grid_template_columns": null,
       "grid_template_rows": null,
       "height": null,
       "justify_content": null,
       "justify_items": null,
       "left": null,
       "margin": null,
       "max_height": null,
       "max_width": null,
       "min_height": null,
       "min_width": null,
       "object_fit": null,
       "object_position": null,
       "order": null,
       "overflow": null,
       "padding": null,
       "right": null,
       "top": null,
       "visibility": null,
       "width": null
      }
     },
     "6176159ef61148b09d8612c07f81f0ab": {
      "model_module": "@jupyter-widgets/base",
      "model_module_version": "2.0.0",
      "model_name": "LayoutModel",
      "state": {
       "_model_module": "@jupyter-widgets/base",
       "_model_module_version": "2.0.0",
       "_model_name": "LayoutModel",
       "_view_count": null,
       "_view_module": "@jupyter-widgets/base",
       "_view_module_version": "2.0.0",
       "_view_name": "LayoutView",
       "align_content": null,
       "align_items": null,
       "align_self": null,
       "border_bottom": null,
       "border_left": null,
       "border_right": null,
       "border_top": null,
       "bottom": null,
       "display": null,
       "flex": null,
       "flex_flow": null,
       "grid_area": null,
       "grid_auto_columns": null,
       "grid_auto_flow": null,
       "grid_auto_rows": null,
       "grid_column": null,
       "grid_gap": null,
       "grid_row": null,
       "grid_template_areas": null,
       "grid_template_columns": null,
       "grid_template_rows": null,
       "height": null,
       "justify_content": null,
       "justify_items": null,
       "left": null,
       "margin": null,
       "max_height": null,
       "max_width": null,
       "min_height": null,
       "min_width": null,
       "object_fit": null,
       "object_position": null,
       "order": null,
       "overflow": null,
       "padding": null,
       "right": null,
       "top": null,
       "visibility": null,
       "width": null
      }
     },
     "61d8733ab0ae4459bb4c5dc274dc4847": {
      "model_module": "@jupyter-widgets/base",
      "model_module_version": "2.0.0",
      "model_name": "LayoutModel",
      "state": {
       "_model_module": "@jupyter-widgets/base",
       "_model_module_version": "2.0.0",
       "_model_name": "LayoutModel",
       "_view_count": null,
       "_view_module": "@jupyter-widgets/base",
       "_view_module_version": "2.0.0",
       "_view_name": "LayoutView",
       "align_content": null,
       "align_items": null,
       "align_self": null,
       "border_bottom": null,
       "border_left": null,
       "border_right": null,
       "border_top": null,
       "bottom": null,
       "display": null,
       "flex": null,
       "flex_flow": null,
       "grid_area": null,
       "grid_auto_columns": null,
       "grid_auto_flow": null,
       "grid_auto_rows": null,
       "grid_column": null,
       "grid_gap": null,
       "grid_row": null,
       "grid_template_areas": null,
       "grid_template_columns": null,
       "grid_template_rows": null,
       "height": null,
       "justify_content": null,
       "justify_items": null,
       "left": null,
       "margin": null,
       "max_height": null,
       "max_width": null,
       "min_height": null,
       "min_width": null,
       "object_fit": null,
       "object_position": null,
       "order": null,
       "overflow": null,
       "padding": null,
       "right": null,
       "top": null,
       "visibility": null,
       "width": null
      }
     },
     "683050a72f0c42009bd7c5fc77ad0b5f": {
      "model_module": "@jupyter-widgets/base",
      "model_module_version": "2.0.0",
      "model_name": "LayoutModel",
      "state": {
       "_model_module": "@jupyter-widgets/base",
       "_model_module_version": "2.0.0",
       "_model_name": "LayoutModel",
       "_view_count": null,
       "_view_module": "@jupyter-widgets/base",
       "_view_module_version": "2.0.0",
       "_view_name": "LayoutView",
       "align_content": null,
       "align_items": null,
       "align_self": null,
       "border_bottom": null,
       "border_left": null,
       "border_right": null,
       "border_top": null,
       "bottom": null,
       "display": null,
       "flex": null,
       "flex_flow": null,
       "grid_area": null,
       "grid_auto_columns": null,
       "grid_auto_flow": null,
       "grid_auto_rows": null,
       "grid_column": null,
       "grid_gap": null,
       "grid_row": null,
       "grid_template_areas": null,
       "grid_template_columns": null,
       "grid_template_rows": null,
       "height": null,
       "justify_content": null,
       "justify_items": null,
       "left": null,
       "margin": null,
       "max_height": null,
       "max_width": null,
       "min_height": null,
       "min_width": null,
       "object_fit": null,
       "object_position": null,
       "order": null,
       "overflow": null,
       "padding": null,
       "right": null,
       "top": null,
       "visibility": null,
       "width": "6%"
      }
     },
     "6e09c5ee5080413c84b37bf57332a3ac": {
      "model_module": "@jupyter-widgets/controls",
      "model_module_version": "2.0.0",
      "model_name": "HTMLModel",
      "state": {
       "_dom_classes": [],
       "_model_module": "@jupyter-widgets/controls",
       "_model_module_version": "2.0.0",
       "_model_name": "HTMLModel",
       "_view_count": null,
       "_view_module": "@jupyter-widgets/controls",
       "_view_module_version": "2.0.0",
       "_view_name": "HTMLView",
       "description": "",
       "description_allow_html": false,
       "layout": "IPY_MODEL_7fdc679bb01645ca8eb92c5f11d763fc",
       "placeholder": "​",
       "style": "IPY_MODEL_ac65189544984ae8bf37579ff2995137",
       "tabbable": null,
       "tooltip": null,
       "value": "0/? [00:00&lt;?, ?it/s]"
      }
     },
     "729c99f2a1e04e63a62b1e4e16c08f66": {
      "model_module": "@jupyter-widgets/base",
      "model_module_version": "2.0.0",
      "model_name": "LayoutModel",
      "state": {
       "_model_module": "@jupyter-widgets/base",
       "_model_module_version": "2.0.0",
       "_model_name": "LayoutModel",
       "_view_count": null,
       "_view_module": "@jupyter-widgets/base",
       "_view_module_version": "2.0.0",
       "_view_name": "LayoutView",
       "align_content": null,
       "align_items": null,
       "align_self": null,
       "border_bottom": null,
       "border_left": null,
       "border_right": null,
       "border_top": null,
       "bottom": null,
       "display": null,
       "flex": null,
       "flex_flow": null,
       "grid_area": null,
       "grid_auto_columns": null,
       "grid_auto_flow": null,
       "grid_auto_rows": null,
       "grid_column": null,
       "grid_gap": null,
       "grid_row": null,
       "grid_template_areas": null,
       "grid_template_columns": null,
       "grid_template_rows": null,
       "height": null,
       "justify_content": null,
       "justify_items": null,
       "left": null,
       "margin": null,
       "max_height": null,
       "max_width": null,
       "min_height": null,
       "min_width": null,
       "object_fit": null,
       "object_position": null,
       "order": null,
       "overflow": null,
       "padding": null,
       "right": null,
       "top": null,
       "visibility": null,
       "width": null
      }
     },
     "7318960156254e5cab2c36ad6fbb7cd9": {
      "model_module": "@jupyter-widgets/controls",
      "model_module_version": "2.0.0",
      "model_name": "HTMLStyleModel",
      "state": {
       "_model_module": "@jupyter-widgets/controls",
       "_model_module_version": "2.0.0",
       "_model_name": "HTMLStyleModel",
       "_view_count": null,
       "_view_module": "@jupyter-widgets/base",
       "_view_module_version": "2.0.0",
       "_view_name": "StyleView",
       "background": null,
       "description_width": "",
       "font_size": null,
       "text_color": null
      }
     },
     "78aadbb391984675b4187151b94243d7": {
      "model_module": "@jupyter-widgets/controls",
      "model_module_version": "2.0.0",
      "model_name": "HTMLModel",
      "state": {
       "_dom_classes": [],
       "_model_module": "@jupyter-widgets/controls",
       "_model_module_version": "2.0.0",
       "_model_name": "HTMLModel",
       "_view_count": null,
       "_view_module": "@jupyter-widgets/controls",
       "_view_module_version": "2.0.0",
       "_view_name": "HTMLView",
       "description": "",
       "description_allow_html": false,
       "layout": "IPY_MODEL_33163b05bebb488c94884ceb3d1156e3",
       "placeholder": "​",
       "style": "IPY_MODEL_1bc2da6400614ec7932b993f75c0941b",
       "tabbable": null,
       "tooltip": null,
       "value": "20/20 [00:27&lt;00:00,  2.85s/it]"
      }
     },
     "7d347503e0564f41ae241b6334ccd3e1": {
      "model_module": "@jupyter-widgets/controls",
      "model_module_version": "2.0.0",
      "model_name": "ProgressStyleModel",
      "state": {
       "_model_module": "@jupyter-widgets/controls",
       "_model_module_version": "2.0.0",
       "_model_name": "ProgressStyleModel",
       "_view_count": null,
       "_view_module": "@jupyter-widgets/base",
       "_view_module_version": "2.0.0",
       "_view_name": "StyleView",
       "bar_color": null,
       "description_width": ""
      }
     },
     "7fdc679bb01645ca8eb92c5f11d763fc": {
      "model_module": "@jupyter-widgets/base",
      "model_module_version": "2.0.0",
      "model_name": "LayoutModel",
      "state": {
       "_model_module": "@jupyter-widgets/base",
       "_model_module_version": "2.0.0",
       "_model_name": "LayoutModel",
       "_view_count": null,
       "_view_module": "@jupyter-widgets/base",
       "_view_module_version": "2.0.0",
       "_view_name": "LayoutView",
       "align_content": null,
       "align_items": null,
       "align_self": null,
       "border_bottom": null,
       "border_left": null,
       "border_right": null,
       "border_top": null,
       "bottom": null,
       "display": null,
       "flex": null,
       "flex_flow": null,
       "grid_area": null,
       "grid_auto_columns": null,
       "grid_auto_flow": null,
       "grid_auto_rows": null,
       "grid_column": null,
       "grid_gap": null,
       "grid_row": null,
       "grid_template_areas": null,
       "grid_template_columns": null,
       "grid_template_rows": null,
       "height": null,
       "justify_content": null,
       "justify_items": null,
       "left": null,
       "margin": null,
       "max_height": null,
       "max_width": null,
       "min_height": null,
       "min_width": null,
       "object_fit": null,
       "object_position": null,
       "order": null,
       "overflow": null,
       "padding": null,
       "right": null,
       "top": null,
       "visibility": null,
       "width": null
      }
     },
     "8495881a05c847cfb4fbfab6346b9468": {
      "model_module": "@jupyter-widgets/controls",
      "model_module_version": "2.0.0",
      "model_name": "HTMLModel",
      "state": {
       "_dom_classes": [],
       "_model_module": "@jupyter-widgets/controls",
       "_model_module_version": "2.0.0",
       "_model_name": "HTMLModel",
       "_view_count": null,
       "_view_module": "@jupyter-widgets/controls",
       "_view_module_version": "2.0.0",
       "_view_name": "HTMLView",
       "description": "",
       "description_allow_html": false,
       "layout": "IPY_MODEL_683050a72f0c42009bd7c5fc77ad0b5f",
       "placeholder": "​",
       "style": "IPY_MODEL_7318960156254e5cab2c36ad6fbb7cd9",
       "tabbable": null,
       "tooltip": null,
       "value": "Iterations:"
      }
     },
     "9391d7dcc00e48978c5c81ae3b17092a": {
      "model_module": "@jupyter-widgets/controls",
      "model_module_version": "2.0.0",
      "model_name": "HTMLModel",
      "state": {
       "_dom_classes": [],
       "_model_module": "@jupyter-widgets/controls",
       "_model_module_version": "2.0.0",
       "_model_name": "HTMLModel",
       "_view_count": null,
       "_view_module": "@jupyter-widgets/controls",
       "_view_module_version": "2.0.0",
       "_view_name": "HTMLView",
       "description": "",
       "description_allow_html": false,
       "layout": "IPY_MODEL_b8e6b6c83be241908b0abc73122dfc3d",
       "placeholder": "​",
       "style": "IPY_MODEL_a48c14434b254c288ec4e4e8f29f1203",
       "tabbable": null,
       "tooltip": null,
       "value": "Packets:   "
      }
     },
     "a48c14434b254c288ec4e4e8f29f1203": {
      "model_module": "@jupyter-widgets/controls",
      "model_module_version": "2.0.0",
      "model_name": "HTMLStyleModel",
      "state": {
       "_model_module": "@jupyter-widgets/controls",
       "_model_module_version": "2.0.0",
       "_model_name": "HTMLStyleModel",
       "_view_count": null,
       "_view_module": "@jupyter-widgets/base",
       "_view_module_version": "2.0.0",
       "_view_name": "StyleView",
       "background": null,
       "description_width": "",
       "font_size": null,
       "text_color": null
      }
     },
     "aaa7b72ccc014181839e01d86bcc0e9a": {
      "model_module": "@jupyter-widgets/controls",
      "model_module_version": "2.0.0",
      "model_name": "HTMLModel",
      "state": {
       "_dom_classes": [],
       "_model_module": "@jupyter-widgets/controls",
       "_model_module_version": "2.0.0",
       "_model_name": "HTMLModel",
       "_view_count": null,
       "_view_module": "@jupyter-widgets/controls",
       "_view_module_version": "2.0.0",
       "_view_name": "HTMLView",
       "description": "",
       "description_allow_html": false,
       "layout": "IPY_MODEL_60321873be0a418d9da44416ea576ad9",
       "placeholder": "​",
       "style": "IPY_MODEL_01b564ee52e64fac947d47b641d7efea",
       "tabbable": null,
       "tooltip": null,
       "value": "Packets:   "
      }
     },
     "ac65189544984ae8bf37579ff2995137": {
      "model_module": "@jupyter-widgets/controls",
      "model_module_version": "2.0.0",
      "model_name": "HTMLStyleModel",
      "state": {
       "_model_module": "@jupyter-widgets/controls",
       "_model_module_version": "2.0.0",
       "_model_name": "HTMLStyleModel",
       "_view_count": null,
       "_view_module": "@jupyter-widgets/base",
       "_view_module_version": "2.0.0",
       "_view_name": "StyleView",
       "background": null,
       "description_width": "",
       "font_size": null,
       "text_color": null
      }
     },
     "af4c956bbf1c455baa7edb3408c0042b": {
      "model_module": "@jupyter-widgets/output",
      "model_module_version": "1.0.0",
      "model_name": "OutputModel",
      "state": {
       "_dom_classes": [],
       "_model_module": "@jupyter-widgets/output",
       "_model_module_version": "1.0.0",
       "_model_name": "OutputModel",
       "_view_count": null,
       "_view_module": "@jupyter-widgets/output",
       "_view_module_version": "1.0.0",
       "_view_name": "OutputView",
       "layout": "IPY_MODEL_e8e0307eb8d7444d974edcaeb2d4fbf8",
       "msg_id": "",
       "outputs": [],
       "tabbable": null,
       "tooltip": null
      }
     },
     "b272feab25ae440aa5dc858eacd600e3": {
      "model_module": "@jupyter-widgets/controls",
      "model_module_version": "2.0.0",
      "model_name": "HBoxModel",
      "state": {
       "_dom_classes": [],
       "_model_module": "@jupyter-widgets/controls",
       "_model_module_version": "2.0.0",
       "_model_name": "HBoxModel",
       "_view_count": null,
       "_view_module": "@jupyter-widgets/controls",
       "_view_module_version": "2.0.0",
       "_view_name": "HBoxView",
       "box_style": "",
       "children": [
        "IPY_MODEL_aaa7b72ccc014181839e01d86bcc0e9a",
        "IPY_MODEL_26e56426c77e4457949d240651784013",
        "IPY_MODEL_6e09c5ee5080413c84b37bf57332a3ac"
       ],
       "layout": "IPY_MODEL_61d8733ab0ae4459bb4c5dc274dc4847",
       "tabbable": null,
       "tooltip": null
      }
     },
     "b8e6b6c83be241908b0abc73122dfc3d": {
      "model_module": "@jupyter-widgets/base",
      "model_module_version": "2.0.0",
      "model_name": "LayoutModel",
      "state": {
       "_model_module": "@jupyter-widgets/base",
       "_model_module_version": "2.0.0",
       "_model_name": "LayoutModel",
       "_view_count": null,
       "_view_module": "@jupyter-widgets/base",
       "_view_module_version": "2.0.0",
       "_view_name": "LayoutView",
       "align_content": null,
       "align_items": null,
       "align_self": null,
       "border_bottom": null,
       "border_left": null,
       "border_right": null,
       "border_top": null,
       "bottom": null,
       "display": null,
       "flex": null,
       "flex_flow": null,
       "grid_area": null,
       "grid_auto_columns": null,
       "grid_auto_flow": null,
       "grid_auto_rows": null,
       "grid_column": null,
       "grid_gap": null,
       "grid_row": null,
       "grid_template_areas": null,
       "grid_template_columns": null,
       "grid_template_rows": null,
       "height": null,
       "justify_content": null,
       "justify_items": null,
       "left": null,
       "margin": null,
       "max_height": null,
       "max_width": null,
       "min_height": null,
       "min_width": null,
       "object_fit": null,
       "object_position": null,
       "order": null,
       "overflow": null,
       "padding": null,
       "right": null,
       "top": null,
       "visibility": null,
       "width": "6%"
      }
     },
     "c14186ec14424b8291db98c5535e08bb": {
      "model_module": "@jupyter-widgets/base",
      "model_module_version": "2.0.0",
      "model_name": "LayoutModel",
      "state": {
       "_model_module": "@jupyter-widgets/base",
       "_model_module_version": "2.0.0",
       "_model_name": "LayoutModel",
       "_view_count": null,
       "_view_module": "@jupyter-widgets/base",
       "_view_module_version": "2.0.0",
       "_view_name": "LayoutView",
       "align_content": null,
       "align_items": null,
       "align_self": null,
       "border_bottom": null,
       "border_left": null,
       "border_right": null,
       "border_top": null,
       "bottom": null,
       "display": null,
       "flex": null,
       "flex_flow": null,
       "grid_area": null,
       "grid_auto_columns": null,
       "grid_auto_flow": null,
       "grid_auto_rows": null,
       "grid_column": null,
       "grid_gap": null,
       "grid_row": null,
       "grid_template_areas": null,
       "grid_template_columns": null,
       "grid_template_rows": null,
       "height": null,
       "justify_content": null,
       "justify_items": null,
       "left": null,
       "margin": null,
       "max_height": null,
       "max_width": null,
       "min_height": null,
       "min_width": null,
       "object_fit": null,
       "object_position": null,
       "order": null,
       "overflow": null,
       "padding": null,
       "right": null,
       "top": null,
       "visibility": null,
       "width": "60%"
      }
     },
     "c156e59746f844a09cb9003918b4a823": {
      "model_module": "@jupyter-widgets/controls",
      "model_module_version": "2.0.0",
      "model_name": "ProgressStyleModel",
      "state": {
       "_model_module": "@jupyter-widgets/controls",
       "_model_module_version": "2.0.0",
       "_model_name": "ProgressStyleModel",
       "_view_count": null,
       "_view_module": "@jupyter-widgets/base",
       "_view_module_version": "2.0.0",
       "_view_name": "StyleView",
       "bar_color": null,
       "description_width": ""
      }
     },
     "c5bc2a97cced4845b3b2f5dda047996c": {
      "model_module": "@jupyter-widgets/controls",
      "model_module_version": "2.0.0",
      "model_name": "HBoxModel",
      "state": {
       "_dom_classes": [],
       "_model_module": "@jupyter-widgets/controls",
       "_model_module_version": "2.0.0",
       "_model_name": "HBoxModel",
       "_view_count": null,
       "_view_module": "@jupyter-widgets/controls",
       "_view_module_version": "2.0.0",
       "_view_name": "HBoxView",
       "box_style": "",
       "children": [
        "IPY_MODEL_8495881a05c847cfb4fbfab6346b9468",
        "IPY_MODEL_5112786b263e45529e21ea5de053cac4",
        "IPY_MODEL_78aadbb391984675b4187151b94243d7"
       ],
       "layout": "IPY_MODEL_6176159ef61148b09d8612c07f81f0ab",
       "tabbable": null,
       "tooltip": null
      }
     },
     "d351bb29b33f44cdb02c82246ee9fde7": {
      "model_module": "@jupyter-widgets/base",
      "model_module_version": "2.0.0",
      "model_name": "LayoutModel",
      "state": {
       "_model_module": "@jupyter-widgets/base",
       "_model_module_version": "2.0.0",
       "_model_name": "LayoutModel",
       "_view_count": null,
       "_view_module": "@jupyter-widgets/base",
       "_view_module_version": "2.0.0",
       "_view_name": "LayoutView",
       "align_content": null,
       "align_items": null,
       "align_self": null,
       "border_bottom": null,
       "border_left": null,
       "border_right": null,
       "border_top": null,
       "bottom": null,
       "display": null,
       "flex": null,
       "flex_flow": null,
       "grid_area": null,
       "grid_auto_columns": null,
       "grid_auto_flow": null,
       "grid_auto_rows": null,
       "grid_column": null,
       "grid_gap": null,
       "grid_row": null,
       "grid_template_areas": null,
       "grid_template_columns": null,
       "grid_template_rows": null,
       "height": null,
       "justify_content": null,
       "justify_items": null,
       "left": null,
       "margin": null,
       "max_height": null,
       "max_width": null,
       "min_height": null,
       "min_width": null,
       "object_fit": null,
       "object_position": null,
       "order": null,
       "overflow": null,
       "padding": null,
       "right": null,
       "top": null,
       "visibility": null,
       "width": "60%"
      }
     },
     "d69264714626443fb7f99c2f6e3ebcb5": {
      "model_module": "@jupyter-widgets/base",
      "model_module_version": "2.0.0",
      "model_name": "LayoutModel",
      "state": {
       "_model_module": "@jupyter-widgets/base",
       "_model_module_version": "2.0.0",
       "_model_name": "LayoutModel",
       "_view_count": null,
       "_view_module": "@jupyter-widgets/base",
       "_view_module_version": "2.0.0",
       "_view_name": "LayoutView",
       "align_content": null,
       "align_items": null,
       "align_self": null,
       "border_bottom": null,
       "border_left": null,
       "border_right": null,
       "border_top": null,
       "bottom": null,
       "display": null,
       "flex": null,
       "flex_flow": null,
       "grid_area": null,
       "grid_auto_columns": null,
       "grid_auto_flow": null,
       "grid_auto_rows": null,
       "grid_column": null,
       "grid_gap": null,
       "grid_row": null,
       "grid_template_areas": null,
       "grid_template_columns": null,
       "grid_template_rows": null,
       "height": null,
       "justify_content": null,
       "justify_items": null,
       "left": null,
       "margin": null,
       "max_height": null,
       "max_width": null,
       "min_height": null,
       "min_width": null,
       "object_fit": null,
       "object_position": null,
       "order": null,
       "overflow": null,
       "padding": null,
       "right": null,
       "top": null,
       "visibility": null,
       "width": null
      }
     },
     "dc5636a8221f4087af68ad90aa9c6d0a": {
      "model_module": "@jupyter-widgets/base",
      "model_module_version": "2.0.0",
      "model_name": "LayoutModel",
      "state": {
       "_model_module": "@jupyter-widgets/base",
       "_model_module_version": "2.0.0",
       "_model_name": "LayoutModel",
       "_view_count": null,
       "_view_module": "@jupyter-widgets/base",
       "_view_module_version": "2.0.0",
       "_view_name": "LayoutView",
       "align_content": null,
       "align_items": null,
       "align_self": null,
       "border_bottom": null,
       "border_left": null,
       "border_right": null,
       "border_top": null,
       "bottom": null,
       "display": null,
       "flex": null,
       "flex_flow": null,
       "grid_area": null,
       "grid_auto_columns": null,
       "grid_auto_flow": null,
       "grid_auto_rows": null,
       "grid_column": null,
       "grid_gap": null,
       "grid_row": null,
       "grid_template_areas": null,
       "grid_template_columns": null,
       "grid_template_rows": null,
       "height": null,
       "justify_content": null,
       "justify_items": null,
       "left": null,
       "margin": null,
       "max_height": null,
       "max_width": null,
       "min_height": null,
       "min_width": null,
       "object_fit": null,
       "object_position": null,
       "order": null,
       "overflow": null,
       "padding": null,
       "right": null,
       "top": null,
       "visibility": null,
       "width": null
      }
     },
     "e8e0307eb8d7444d974edcaeb2d4fbf8": {
      "model_module": "@jupyter-widgets/base",
      "model_module_version": "2.0.0",
      "model_name": "LayoutModel",
      "state": {
       "_model_module": "@jupyter-widgets/base",
       "_model_module_version": "2.0.0",
       "_model_name": "LayoutModel",
       "_view_count": null,
       "_view_module": "@jupyter-widgets/base",
       "_view_module_version": "2.0.0",
       "_view_name": "LayoutView",
       "align_content": null,
       "align_items": null,
       "align_self": null,
       "border_bottom": null,
       "border_left": null,
       "border_right": null,
       "border_top": null,
       "bottom": null,
       "display": null,
       "flex": null,
       "flex_flow": null,
       "grid_area": null,
       "grid_auto_columns": null,
       "grid_auto_flow": null,
       "grid_auto_rows": null,
       "grid_column": null,
       "grid_gap": null,
       "grid_row": null,
       "grid_template_areas": null,
       "grid_template_columns": null,
       "grid_template_rows": null,
       "height": null,
       "justify_content": null,
       "justify_items": null,
       "left": null,
       "margin": null,
       "max_height": null,
       "max_width": null,
       "min_height": null,
       "min_width": null,
       "object_fit": null,
       "object_position": null,
       "order": null,
       "overflow": null,
       "padding": null,
       "right": null,
       "top": null,
       "visibility": null,
       "width": null
      }
     },
     "f1c254381e3f4d56ae3f8032caa6e720": {
      "model_module": "@jupyter-widgets/controls",
      "model_module_version": "2.0.0",
      "model_name": "FloatProgressModel",
      "state": {
       "_dom_classes": [],
       "_model_module": "@jupyter-widgets/controls",
       "_model_module_version": "2.0.0",
       "_model_name": "FloatProgressModel",
       "_view_count": null,
       "_view_module": "@jupyter-widgets/controls",
       "_view_module_version": "2.0.0",
       "_view_name": "ProgressView",
       "bar_style": "",
       "description": "",
       "description_allow_html": false,
       "layout": "IPY_MODEL_d351bb29b33f44cdb02c82246ee9fde7",
       "max": 100000.0,
       "min": 0.0,
       "orientation": "horizontal",
       "style": "IPY_MODEL_5fe6dad3fc3a417f94cc21c3b0690ddc",
       "tabbable": null,
       "tooltip": null,
       "value": 100000.0
      }
     },
     "f9b5835a3ae04c959a6194c3a149b240": {
      "model_module": "@jupyter-widgets/controls",
      "model_module_version": "2.0.0",
      "model_name": "HTMLStyleModel",
      "state": {
       "_model_module": "@jupyter-widgets/controls",
       "_model_module_version": "2.0.0",
       "_model_name": "HTMLStyleModel",
       "_view_count": null,
       "_view_module": "@jupyter-widgets/base",
       "_view_module_version": "2.0.0",
       "_view_name": "StyleView",
       "background": null,
       "description_width": "",
       "font_size": null,
       "text_color": null
      }
     },
     "ff3a448919f540f6b6f901d0a842dfd1": {
      "model_module": "@jupyter-widgets/controls",
      "model_module_version": "2.0.0",
      "model_name": "FloatProgressModel",
      "state": {
       "_dom_classes": [],
       "_model_module": "@jupyter-widgets/controls",
       "_model_module_version": "2.0.0",
       "_model_name": "FloatProgressModel",
       "_view_count": null,
       "_view_module": "@jupyter-widgets/controls",
       "_view_module_version": "2.0.0",
       "_view_name": "ProgressView",
       "bar_style": "info",
       "description": "",
       "description_allow_html": false,
       "layout": "IPY_MODEL_1cd9090dfe6b43e5900b3240c64c3ac9",
       "max": 1.0,
       "min": 0.0,
       "orientation": "horizontal",
       "style": "IPY_MODEL_ff3fa51cd0b548bb9ef888e9ee20e569",
       "tabbable": null,
       "tooltip": null,
       "value": 0.0
      }
     },
     "ff3fa51cd0b548bb9ef888e9ee20e569": {
      "model_module": "@jupyter-widgets/controls",
      "model_module_version": "2.0.0",
      "model_name": "ProgressStyleModel",
      "state": {
       "_model_module": "@jupyter-widgets/controls",
       "_model_module_version": "2.0.0",
       "_model_name": "ProgressStyleModel",
       "_view_count": null,
       "_view_module": "@jupyter-widgets/base",
       "_view_module_version": "2.0.0",
       "_view_name": "StyleView",
       "bar_color": null,
       "description_width": ""
      }
     }
    },
    "version_major": 2,
    "version_minor": 0
   }
  }
 },
 "nbformat": 4,
 "nbformat_minor": 4
}
