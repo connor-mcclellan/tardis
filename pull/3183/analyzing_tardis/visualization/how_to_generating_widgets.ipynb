{
 "cells": [
  {
   "cell_type": "markdown",
   "metadata": {},
   "source": [
    "# How to Generate Data Exploration Widgets\n",
    "A demonstration of how to generate TARDIS widgets that allows you to **explore simulation data within Jupyter Notebook with ease**!\n",
    "\n",
    "This notebook is a quickstart how-to guide, but more details on each widget (and its features) is given in the [Using TARDIS Widgets](https://tardis-sn.github.io/tardis/io/visualization/using_widgets.html) section of the documentation.\n",
    "\n",
    "## Warning\n",
    "You must install `qgridnext` inside your tardis environment using `pip install qgridnext` for the widgets to function.\n"
   ]
  },
  {
   "cell_type": "markdown",
   "metadata": {},
   "source": [
    "First create and run a simulation that we can use to generate widgets (more details about running simulation in [Quickstart](https://tardis-sn.github.io/tardis/quickstart/quickstart.html) section):\n"
   ]
  },
  {
   "cell_type": "code",
   "execution_count": 1,
   "metadata": {
    "ExecuteTime": {
     "end_time": "2021-02-18T16:10:42.838867Z",
     "start_time": "2021-02-18T16:09:22.826173Z"
    },
    "execution": {
     "iopub.execute_input": "2025-08-26T15:02:05.658594Z",
     "iopub.status.busy": "2025-08-26T15:02:05.658386Z",
     "iopub.status.idle": "2025-08-26T15:03:31.482027Z",
     "shell.execute_reply": "2025-08-26T15:03:31.481389Z"
    },
    "scrolled": true
   },
   "outputs": [
    {
     "name": "stderr",
     "output_type": "stream",
     "text": [
      "Atomic Data kurucz_cd23_chianti_H_He_latest already exists in /home/runner/Downloads/tardis-data/kurucz_cd23_chianti_H_He_latest.h5. Will not download - override with force_download=True.\n"
     ]
    },
    {
     "name": "stdout",
     "output_type": "stream",
     "text": [
      "Auto-detected Sphinx build environment\n"
     ]
    },
    {
     "data": {
      "text/html": [
       "<script type=\"esms-options\">{\"shimMode\": true}</script><style>*[data-root-id],\n",
       "*[data-root-id] > * {\n",
       "  box-sizing: border-box;\n",
       "  font-family: var(--jp-ui-font-family);\n",
       "  font-size: var(--jp-ui-font-size1);\n",
       "  color: var(--vscode-editor-foreground, var(--jp-ui-font-color1));\n",
       "}\n",
       "\n",
       "/* Override VSCode background color */\n",
       ".cell-output-ipywidget-background:has(\n",
       "    > .cell-output-ipywidget-background > .lm-Widget > *[data-root-id]\n",
       "  ),\n",
       ".cell-output-ipywidget-background:has(> .lm-Widget > *[data-root-id]) {\n",
       "  background-color: transparent !important;\n",
       "}\n",
       "</style>"
      ]
     },
     "metadata": {},
     "output_type": "display_data"
    },
    {
     "data": {
      "application/javascript": [
       "(function(root) {\n",
       "  function now() {\n",
       "    return new Date();\n",
       "  }\n",
       "\n",
       "  const force = true;\n",
       "  const py_version = '3.7.3'.replace('rc', '-rc.').replace('.dev', '-dev.');\n",
       "  const reloading = false;\n",
       "  const Bokeh = root.Bokeh;\n",
       "\n",
       "  // Set a timeout for this load but only if we are not already initializing\n",
       "  if (typeof (root._bokeh_timeout) === \"undefined\" || (force || !root._bokeh_is_initializing)) {\n",
       "    root._bokeh_timeout = Date.now() + 5000;\n",
       "    root._bokeh_failed_load = false;\n",
       "  }\n",
       "\n",
       "  function run_callbacks() {\n",
       "    try {\n",
       "      root._bokeh_onload_callbacks.forEach(function(callback) {\n",
       "        if (callback != null)\n",
       "          callback();\n",
       "      });\n",
       "    } finally {\n",
       "      delete root._bokeh_onload_callbacks;\n",
       "    }\n",
       "    console.debug(\"Bokeh: all callbacks have finished\");\n",
       "  }\n",
       "\n",
       "  function load_libs(css_urls, js_urls, js_modules, js_exports, callback) {\n",
       "    if (css_urls == null) css_urls = [];\n",
       "    if (js_urls == null) js_urls = [];\n",
       "    if (js_modules == null) js_modules = [];\n",
       "    if (js_exports == null) js_exports = {};\n",
       "\n",
       "    root._bokeh_onload_callbacks.push(callback);\n",
       "\n",
       "    if (root._bokeh_is_loading > 0) {\n",
       "      // Don't load bokeh if it is still initializing\n",
       "      console.debug(\"Bokeh: BokehJS is being loaded, scheduling callback at\", now());\n",
       "      return null;\n",
       "    } else if (js_urls.length === 0 && js_modules.length === 0 && Object.keys(js_exports).length === 0) {\n",
       "      // There is nothing to load\n",
       "      run_callbacks();\n",
       "      return null;\n",
       "    }\n",
       "\n",
       "    function on_load() {\n",
       "      root._bokeh_is_loading--;\n",
       "      if (root._bokeh_is_loading === 0) {\n",
       "        console.debug(\"Bokeh: all BokehJS libraries/stylesheets loaded\");\n",
       "        run_callbacks()\n",
       "      }\n",
       "    }\n",
       "    window._bokeh_on_load = on_load\n",
       "\n",
       "    function on_error(e) {\n",
       "      const src_el = e.srcElement\n",
       "      console.error(\"failed to load \" + (src_el.href || src_el.src));\n",
       "    }\n",
       "\n",
       "    const skip = [];\n",
       "    if (window.requirejs) {\n",
       "      window.requirejs.config({'packages': {}, 'paths': {}, 'shim': {}});\n",
       "      root._bokeh_is_loading = css_urls.length + 0;\n",
       "    } else {\n",
       "      root._bokeh_is_loading = css_urls.length + js_urls.length + js_modules.length + Object.keys(js_exports).length;\n",
       "    }\n",
       "\n",
       "    const existing_stylesheets = []\n",
       "    const links = document.getElementsByTagName('link')\n",
       "    for (let i = 0; i < links.length; i++) {\n",
       "      const link = links[i]\n",
       "      if (link.href != null) {\n",
       "        existing_stylesheets.push(link.href)\n",
       "      }\n",
       "    }\n",
       "    for (let i = 0; i < css_urls.length; i++) {\n",
       "      const url = css_urls[i];\n",
       "      const escaped = encodeURI(url)\n",
       "      if (existing_stylesheets.indexOf(escaped) !== -1) {\n",
       "        on_load()\n",
       "        continue;\n",
       "      }\n",
       "      const element = document.createElement(\"link\");\n",
       "      element.onload = on_load;\n",
       "      element.onerror = on_error;\n",
       "      element.rel = \"stylesheet\";\n",
       "      element.type = \"text/css\";\n",
       "      element.href = url;\n",
       "      console.debug(\"Bokeh: injecting link tag for BokehJS stylesheet: \", url);\n",
       "      document.body.appendChild(element);\n",
       "    }    var existing_scripts = []\n",
       "    const scripts = document.getElementsByTagName('script')\n",
       "    for (let i = 0; i < scripts.length; i++) {\n",
       "      var script = scripts[i]\n",
       "      if (script.src != null) {\n",
       "        existing_scripts.push(script.src)\n",
       "      }\n",
       "    }\n",
       "    for (let i = 0; i < js_urls.length; i++) {\n",
       "      const url = js_urls[i];\n",
       "      const escaped = encodeURI(url)\n",
       "      if (skip.indexOf(escaped) !== -1 || existing_scripts.indexOf(escaped) !== -1) {\n",
       "        if (!window.requirejs) {\n",
       "          on_load();\n",
       "        }\n",
       "        continue;\n",
       "      }\n",
       "      const element = document.createElement('script');\n",
       "      element.onload = on_load;\n",
       "      element.onerror = on_error;\n",
       "      element.async = false;\n",
       "      element.src = url;\n",
       "      console.debug(\"Bokeh: injecting script tag for BokehJS library: \", url);\n",
       "      document.head.appendChild(element);\n",
       "    }\n",
       "    for (let i = 0; i < js_modules.length; i++) {\n",
       "      const url = js_modules[i];\n",
       "      const escaped = encodeURI(url)\n",
       "      if (skip.indexOf(escaped) !== -1 || existing_scripts.indexOf(escaped) !== -1) {\n",
       "        if (!window.requirejs) {\n",
       "          on_load();\n",
       "        }\n",
       "        continue;\n",
       "      }\n",
       "      var element = document.createElement('script');\n",
       "      element.onload = on_load;\n",
       "      element.onerror = on_error;\n",
       "      element.async = false;\n",
       "      element.src = url;\n",
       "      element.type = \"module\";\n",
       "      console.debug(\"Bokeh: injecting script tag for BokehJS library: \", url);\n",
       "      document.head.appendChild(element);\n",
       "    }\n",
       "    for (const name in js_exports) {\n",
       "      const url = js_exports[name];\n",
       "      const escaped = encodeURI(url)\n",
       "      if (skip.indexOf(escaped) >= 0 || root[name] != null) {\n",
       "        if (!window.requirejs) {\n",
       "          on_load();\n",
       "        }\n",
       "        continue;\n",
       "      }\n",
       "      var element = document.createElement('script');\n",
       "      element.onerror = on_error;\n",
       "      element.async = false;\n",
       "      element.type = \"module\";\n",
       "      console.debug(\"Bokeh: injecting script tag for BokehJS library: \", url);\n",
       "      element.textContent = `\n",
       "      import ${name} from \"${url}\"\n",
       "      window.${name} = ${name}\n",
       "      window._bokeh_on_load()\n",
       "      `\n",
       "      document.head.appendChild(element);\n",
       "    }\n",
       "    if (!js_urls.length && !js_modules.length) {\n",
       "      on_load()\n",
       "    }\n",
       "  };\n",
       "\n",
       "  function inject_raw_css(css) {\n",
       "    const element = document.createElement(\"style\");\n",
       "    element.appendChild(document.createTextNode(css));\n",
       "    document.body.appendChild(element);\n",
       "  }\n",
       "\n",
       "  const js_urls = [\"https://cdn.holoviz.org/panel/1.7.1/dist/bundled/reactiveesm/es-module-shims@^1.10.0/dist/es-module-shims.min.js\", \"https://cdn.bokeh.org/bokeh/release/bokeh-3.7.3.min.js\", \"https://cdn.bokeh.org/bokeh/release/bokeh-gl-3.7.3.min.js\", \"https://cdn.bokeh.org/bokeh/release/bokeh-widgets-3.7.3.min.js\", \"https://cdn.bokeh.org/bokeh/release/bokeh-tables-3.7.3.min.js\", \"https://cdn.holoviz.org/panel/1.7.1/dist/panel.min.js\"];\n",
       "  const js_modules = [];\n",
       "  const js_exports = {};\n",
       "  const css_urls = [\"https://cdn.holoviz.org/panel/1.7.1/dist/bundled/font-awesome/css/all.min.css\"];\n",
       "  const inline_js = [    function(Bokeh) {\n",
       "      Bokeh.set_log_level(\"info\");\n",
       "    },\n",
       "function(Bokeh) {} // ensure no trailing comma for IE\n",
       "  ];\n",
       "\n",
       "  function run_inline_js() {\n",
       "    if ((root.Bokeh !== undefined) || (force === true)) {\n",
       "      for (let i = 0; i < inline_js.length; i++) {\n",
       "        try {\n",
       "          inline_js[i].call(root, root.Bokeh);\n",
       "        } catch(e) {\n",
       "          if (!reloading) {\n",
       "            throw e;\n",
       "          }\n",
       "        }\n",
       "      }\n",
       "      // Cache old bokeh versions\n",
       "      if (Bokeh != undefined && !reloading) {\n",
       "        var NewBokeh = root.Bokeh;\n",
       "        if (Bokeh.versions === undefined) {\n",
       "          Bokeh.versions = new Map();\n",
       "        }\n",
       "        if (NewBokeh.version !== Bokeh.version) {\n",
       "          Bokeh.versions.set(NewBokeh.version, NewBokeh)\n",
       "        }\n",
       "        root.Bokeh = Bokeh;\n",
       "      }\n",
       "    } else if (Date.now() < root._bokeh_timeout) {\n",
       "      setTimeout(run_inline_js, 100);\n",
       "    } else if (!root._bokeh_failed_load) {\n",
       "      console.log(\"Bokeh: BokehJS failed to load within specified timeout.\");\n",
       "      root._bokeh_failed_load = true;\n",
       "    }\n",
       "    root._bokeh_is_initializing = false\n",
       "  }\n",
       "\n",
       "  function load_or_wait() {\n",
       "    // Implement a backoff loop that tries to ensure we do not load multiple\n",
       "    // versions of Bokeh and its dependencies at the same time.\n",
       "    // In recent versions we use the root._bokeh_is_initializing flag\n",
       "    // to determine whether there is an ongoing attempt to initialize\n",
       "    // bokeh, however for backward compatibility we also try to ensure\n",
       "    // that we do not start loading a newer (Panel>=1.0 and Bokeh>3) version\n",
       "    // before older versions are fully initialized.\n",
       "    if (root._bokeh_is_initializing && Date.now() > root._bokeh_timeout) {\n",
       "      // If the timeout and bokeh was not successfully loaded we reset\n",
       "      // everything and try loading again\n",
       "      root._bokeh_timeout = Date.now() + 5000;\n",
       "      root._bokeh_is_initializing = false;\n",
       "      root._bokeh_onload_callbacks = undefined;\n",
       "      root._bokeh_is_loading = 0\n",
       "      console.log(\"Bokeh: BokehJS was loaded multiple times but one version failed to initialize.\");\n",
       "      load_or_wait();\n",
       "    } else if (root._bokeh_is_initializing || (typeof root._bokeh_is_initializing === \"undefined\" && root._bokeh_onload_callbacks !== undefined)) {\n",
       "      setTimeout(load_or_wait, 100);\n",
       "    } else {\n",
       "      root._bokeh_is_initializing = true\n",
       "      root._bokeh_onload_callbacks = []\n",
       "      const bokeh_loaded = root.Bokeh != null && (root.Bokeh.version === py_version || (root.Bokeh.versions !== undefined && root.Bokeh.versions.has(py_version)));\n",
       "      if (!reloading && !bokeh_loaded) {\n",
       "        if (root.Bokeh) {\n",
       "          root.Bokeh = undefined;\n",
       "        }\n",
       "        console.debug(\"Bokeh: BokehJS not loaded, scheduling load and callback at\", now());\n",
       "      }\n",
       "      load_libs(css_urls, js_urls, js_modules, js_exports, function() {\n",
       "        console.debug(\"Bokeh: BokehJS plotting callback run at\", now());\n",
       "        run_inline_js();\n",
       "      });\n",
       "    }\n",
       "  }\n",
       "  // Give older versions of the autoload script a head-start to ensure\n",
       "  // they initialize before we start loading newer version.\n",
       "  setTimeout(load_or_wait, 100)\n",
       "}(window));"
      ],
      "application/vnd.holoviews_load.v0+json": "(function(root) {\n  function now() {\n    return new Date();\n  }\n\n  const force = true;\n  const py_version = '3.7.3'.replace('rc', '-rc.').replace('.dev', '-dev.');\n  const reloading = false;\n  const Bokeh = root.Bokeh;\n\n  // Set a timeout for this load but only if we are not already initializing\n  if (typeof (root._bokeh_timeout) === \"undefined\" || (force || !root._bokeh_is_initializing)) {\n    root._bokeh_timeout = Date.now() + 5000;\n    root._bokeh_failed_load = false;\n  }\n\n  function run_callbacks() {\n    try {\n      root._bokeh_onload_callbacks.forEach(function(callback) {\n        if (callback != null)\n          callback();\n      });\n    } finally {\n      delete root._bokeh_onload_callbacks;\n    }\n    console.debug(\"Bokeh: all callbacks have finished\");\n  }\n\n  function load_libs(css_urls, js_urls, js_modules, js_exports, callback) {\n    if (css_urls == null) css_urls = [];\n    if (js_urls == null) js_urls = [];\n    if (js_modules == null) js_modules = [];\n    if (js_exports == null) js_exports = {};\n\n    root._bokeh_onload_callbacks.push(callback);\n\n    if (root._bokeh_is_loading > 0) {\n      // Don't load bokeh if it is still initializing\n      console.debug(\"Bokeh: BokehJS is being loaded, scheduling callback at\", now());\n      return null;\n    } else if (js_urls.length === 0 && js_modules.length === 0 && Object.keys(js_exports).length === 0) {\n      // There is nothing to load\n      run_callbacks();\n      return null;\n    }\n\n    function on_load() {\n      root._bokeh_is_loading--;\n      if (root._bokeh_is_loading === 0) {\n        console.debug(\"Bokeh: all BokehJS libraries/stylesheets loaded\");\n        run_callbacks()\n      }\n    }\n    window._bokeh_on_load = on_load\n\n    function on_error(e) {\n      const src_el = e.srcElement\n      console.error(\"failed to load \" + (src_el.href || src_el.src));\n    }\n\n    const skip = [];\n    if (window.requirejs) {\n      window.requirejs.config({'packages': {}, 'paths': {}, 'shim': {}});\n      root._bokeh_is_loading = css_urls.length + 0;\n    } else {\n      root._bokeh_is_loading = css_urls.length + js_urls.length + js_modules.length + Object.keys(js_exports).length;\n    }\n\n    const existing_stylesheets = []\n    const links = document.getElementsByTagName('link')\n    for (let i = 0; i < links.length; i++) {\n      const link = links[i]\n      if (link.href != null) {\n        existing_stylesheets.push(link.href)\n      }\n    }\n    for (let i = 0; i < css_urls.length; i++) {\n      const url = css_urls[i];\n      const escaped = encodeURI(url)\n      if (existing_stylesheets.indexOf(escaped) !== -1) {\n        on_load()\n        continue;\n      }\n      const element = document.createElement(\"link\");\n      element.onload = on_load;\n      element.onerror = on_error;\n      element.rel = \"stylesheet\";\n      element.type = \"text/css\";\n      element.href = url;\n      console.debug(\"Bokeh: injecting link tag for BokehJS stylesheet: \", url);\n      document.body.appendChild(element);\n    }    var existing_scripts = []\n    const scripts = document.getElementsByTagName('script')\n    for (let i = 0; i < scripts.length; i++) {\n      var script = scripts[i]\n      if (script.src != null) {\n        existing_scripts.push(script.src)\n      }\n    }\n    for (let i = 0; i < js_urls.length; i++) {\n      const url = js_urls[i];\n      const escaped = encodeURI(url)\n      if (skip.indexOf(escaped) !== -1 || existing_scripts.indexOf(escaped) !== -1) {\n        if (!window.requirejs) {\n          on_load();\n        }\n        continue;\n      }\n      const element = document.createElement('script');\n      element.onload = on_load;\n      element.onerror = on_error;\n      element.async = false;\n      element.src = url;\n      console.debug(\"Bokeh: injecting script tag for BokehJS library: \", url);\n      document.head.appendChild(element);\n    }\n    for (let i = 0; i < js_modules.length; i++) {\n      const url = js_modules[i];\n      const escaped = encodeURI(url)\n      if (skip.indexOf(escaped) !== -1 || existing_scripts.indexOf(escaped) !== -1) {\n        if (!window.requirejs) {\n          on_load();\n        }\n        continue;\n      }\n      var element = document.createElement('script');\n      element.onload = on_load;\n      element.onerror = on_error;\n      element.async = false;\n      element.src = url;\n      element.type = \"module\";\n      console.debug(\"Bokeh: injecting script tag for BokehJS library: \", url);\n      document.head.appendChild(element);\n    }\n    for (const name in js_exports) {\n      const url = js_exports[name];\n      const escaped = encodeURI(url)\n      if (skip.indexOf(escaped) >= 0 || root[name] != null) {\n        if (!window.requirejs) {\n          on_load();\n        }\n        continue;\n      }\n      var element = document.createElement('script');\n      element.onerror = on_error;\n      element.async = false;\n      element.type = \"module\";\n      console.debug(\"Bokeh: injecting script tag for BokehJS library: \", url);\n      element.textContent = `\n      import ${name} from \"${url}\"\n      window.${name} = ${name}\n      window._bokeh_on_load()\n      `\n      document.head.appendChild(element);\n    }\n    if (!js_urls.length && !js_modules.length) {\n      on_load()\n    }\n  };\n\n  function inject_raw_css(css) {\n    const element = document.createElement(\"style\");\n    element.appendChild(document.createTextNode(css));\n    document.body.appendChild(element);\n  }\n\n  const js_urls = [\"https://cdn.holoviz.org/panel/1.7.1/dist/bundled/reactiveesm/es-module-shims@^1.10.0/dist/es-module-shims.min.js\", \"https://cdn.bokeh.org/bokeh/release/bokeh-3.7.3.min.js\", \"https://cdn.bokeh.org/bokeh/release/bokeh-gl-3.7.3.min.js\", \"https://cdn.bokeh.org/bokeh/release/bokeh-widgets-3.7.3.min.js\", \"https://cdn.bokeh.org/bokeh/release/bokeh-tables-3.7.3.min.js\", \"https://cdn.holoviz.org/panel/1.7.1/dist/panel.min.js\"];\n  const js_modules = [];\n  const js_exports = {};\n  const css_urls = [\"https://cdn.holoviz.org/panel/1.7.1/dist/bundled/font-awesome/css/all.min.css\"];\n  const inline_js = [    function(Bokeh) {\n      Bokeh.set_log_level(\"info\");\n    },\nfunction(Bokeh) {} // ensure no trailing comma for IE\n  ];\n\n  function run_inline_js() {\n    if ((root.Bokeh !== undefined) || (force === true)) {\n      for (let i = 0; i < inline_js.length; i++) {\n        try {\n          inline_js[i].call(root, root.Bokeh);\n        } catch(e) {\n          if (!reloading) {\n            throw e;\n          }\n        }\n      }\n      // Cache old bokeh versions\n      if (Bokeh != undefined && !reloading) {\n        var NewBokeh = root.Bokeh;\n        if (Bokeh.versions === undefined) {\n          Bokeh.versions = new Map();\n        }\n        if (NewBokeh.version !== Bokeh.version) {\n          Bokeh.versions.set(NewBokeh.version, NewBokeh)\n        }\n        root.Bokeh = Bokeh;\n      }\n    } else if (Date.now() < root._bokeh_timeout) {\n      setTimeout(run_inline_js, 100);\n    } else if (!root._bokeh_failed_load) {\n      console.log(\"Bokeh: BokehJS failed to load within specified timeout.\");\n      root._bokeh_failed_load = true;\n    }\n    root._bokeh_is_initializing = false\n  }\n\n  function load_or_wait() {\n    // Implement a backoff loop that tries to ensure we do not load multiple\n    // versions of Bokeh and its dependencies at the same time.\n    // In recent versions we use the root._bokeh_is_initializing flag\n    // to determine whether there is an ongoing attempt to initialize\n    // bokeh, however for backward compatibility we also try to ensure\n    // that we do not start loading a newer (Panel>=1.0 and Bokeh>3) version\n    // before older versions are fully initialized.\n    if (root._bokeh_is_initializing && Date.now() > root._bokeh_timeout) {\n      // If the timeout and bokeh was not successfully loaded we reset\n      // everything and try loading again\n      root._bokeh_timeout = Date.now() + 5000;\n      root._bokeh_is_initializing = false;\n      root._bokeh_onload_callbacks = undefined;\n      root._bokeh_is_loading = 0\n      console.log(\"Bokeh: BokehJS was loaded multiple times but one version failed to initialize.\");\n      load_or_wait();\n    } else if (root._bokeh_is_initializing || (typeof root._bokeh_is_initializing === \"undefined\" && root._bokeh_onload_callbacks !== undefined)) {\n      setTimeout(load_or_wait, 100);\n    } else {\n      root._bokeh_is_initializing = true\n      root._bokeh_onload_callbacks = []\n      const bokeh_loaded = root.Bokeh != null && (root.Bokeh.version === py_version || (root.Bokeh.versions !== undefined && root.Bokeh.versions.has(py_version)));\n      if (!reloading && !bokeh_loaded) {\n        if (root.Bokeh) {\n          root.Bokeh = undefined;\n        }\n        console.debug(\"Bokeh: BokehJS not loaded, scheduling load and callback at\", now());\n      }\n      load_libs(css_urls, js_urls, js_modules, js_exports, function() {\n        console.debug(\"Bokeh: BokehJS plotting callback run at\", now());\n        run_inline_js();\n      });\n    }\n  }\n  // Give older versions of the autoload script a head-start to ensure\n  // they initialize before we start loading newer version.\n  setTimeout(load_or_wait, 100)\n}(window));"
     },
     "metadata": {},
     "output_type": "display_data"
    },
    {
     "data": {
      "application/javascript": [
       "\n",
       "if ((window.PyViz === undefined) || (window.PyViz instanceof HTMLElement)) {\n",
       "  window.PyViz = {comms: {}, comm_status:{}, kernels:{}, receivers: {}, plot_index: []}\n",
       "}\n",
       "\n",
       "\n",
       "    function JupyterCommManager() {\n",
       "    }\n",
       "\n",
       "    JupyterCommManager.prototype.register_target = function(plot_id, comm_id, msg_handler) {\n",
       "      if (window.comm_manager || ((window.Jupyter !== undefined) && (Jupyter.notebook.kernel != null))) {\n",
       "        var comm_manager = window.comm_manager || Jupyter.notebook.kernel.comm_manager;\n",
       "        comm_manager.register_target(comm_id, function(comm) {\n",
       "          comm.on_msg(msg_handler);\n",
       "        });\n",
       "      } else if ((plot_id in window.PyViz.kernels) && (window.PyViz.kernels[plot_id])) {\n",
       "        window.PyViz.kernels[plot_id].registerCommTarget(comm_id, function(comm) {\n",
       "          comm.onMsg = msg_handler;\n",
       "        });\n",
       "      } else if (typeof google != 'undefined' && google.colab.kernel != null) {\n",
       "        google.colab.kernel.comms.registerTarget(comm_id, (comm) => {\n",
       "          var messages = comm.messages[Symbol.asyncIterator]();\n",
       "          function processIteratorResult(result) {\n",
       "            var message = result.value;\n",
       "            console.log(message)\n",
       "            var content = {data: message.data, comm_id};\n",
       "            var buffers = []\n",
       "            for (var buffer of message.buffers || []) {\n",
       "              buffers.push(new DataView(buffer))\n",
       "            }\n",
       "            var metadata = message.metadata || {};\n",
       "            var msg = {content, buffers, metadata}\n",
       "            msg_handler(msg);\n",
       "            return messages.next().then(processIteratorResult);\n",
       "          }\n",
       "          return messages.next().then(processIteratorResult);\n",
       "        })\n",
       "      }\n",
       "    }\n",
       "\n",
       "    JupyterCommManager.prototype.get_client_comm = function(plot_id, comm_id, msg_handler) {\n",
       "      if (comm_id in window.PyViz.comms) {\n",
       "        return window.PyViz.comms[comm_id];\n",
       "      } else if (window.comm_manager || ((window.Jupyter !== undefined) && (Jupyter.notebook.kernel != null))) {\n",
       "        var comm_manager = window.comm_manager || Jupyter.notebook.kernel.comm_manager;\n",
       "        var comm = comm_manager.new_comm(comm_id, {}, {}, {}, comm_id);\n",
       "        if (msg_handler) {\n",
       "          comm.on_msg(msg_handler);\n",
       "        }\n",
       "      } else if ((plot_id in window.PyViz.kernels) && (window.PyViz.kernels[plot_id])) {\n",
       "        var comm = window.PyViz.kernels[plot_id].connectToComm(comm_id);\n",
       "        comm.open();\n",
       "        if (msg_handler) {\n",
       "          comm.onMsg = msg_handler;\n",
       "        }\n",
       "      } else if (typeof google != 'undefined' && google.colab.kernel != null) {\n",
       "        var comm_promise = google.colab.kernel.comms.open(comm_id)\n",
       "        comm_promise.then((comm) => {\n",
       "          window.PyViz.comms[comm_id] = comm;\n",
       "          if (msg_handler) {\n",
       "            var messages = comm.messages[Symbol.asyncIterator]();\n",
       "            function processIteratorResult(result) {\n",
       "              var message = result.value;\n",
       "              var content = {data: message.data};\n",
       "              var metadata = message.metadata || {comm_id};\n",
       "              var msg = {content, metadata}\n",
       "              msg_handler(msg);\n",
       "              return messages.next().then(processIteratorResult);\n",
       "            }\n",
       "            return messages.next().then(processIteratorResult);\n",
       "          }\n",
       "        })\n",
       "        var sendClosure = (data, metadata, buffers, disposeOnDone) => {\n",
       "          return comm_promise.then((comm) => {\n",
       "            comm.send(data, metadata, buffers, disposeOnDone);\n",
       "          });\n",
       "        };\n",
       "        var comm = {\n",
       "          send: sendClosure\n",
       "        };\n",
       "      }\n",
       "      window.PyViz.comms[comm_id] = comm;\n",
       "      return comm;\n",
       "    }\n",
       "    window.PyViz.comm_manager = new JupyterCommManager();\n",
       "    \n",
       "\n",
       "\n",
       "var JS_MIME_TYPE = 'application/javascript';\n",
       "var HTML_MIME_TYPE = 'text/html';\n",
       "var EXEC_MIME_TYPE = 'application/vnd.holoviews_exec.v0+json';\n",
       "var CLASS_NAME = 'output';\n",
       "\n",
       "/**\n",
       " * Render data to the DOM node\n",
       " */\n",
       "function render(props, node) {\n",
       "  var div = document.createElement(\"div\");\n",
       "  var script = document.createElement(\"script\");\n",
       "  node.appendChild(div);\n",
       "  node.appendChild(script);\n",
       "}\n",
       "\n",
       "/**\n",
       " * Handle when a new output is added\n",
       " */\n",
       "function handle_add_output(event, handle) {\n",
       "  var output_area = handle.output_area;\n",
       "  var output = handle.output;\n",
       "  if ((output.data == undefined) || (!output.data.hasOwnProperty(EXEC_MIME_TYPE))) {\n",
       "    return\n",
       "  }\n",
       "  var id = output.metadata[EXEC_MIME_TYPE][\"id\"];\n",
       "  var toinsert = output_area.element.find(\".\" + CLASS_NAME.split(' ')[0]);\n",
       "  if (id !== undefined) {\n",
       "    var nchildren = toinsert.length;\n",
       "    var html_node = toinsert[nchildren-1].children[0];\n",
       "    html_node.innerHTML = output.data[HTML_MIME_TYPE];\n",
       "    var scripts = [];\n",
       "    var nodelist = html_node.querySelectorAll(\"script\");\n",
       "    for (var i in nodelist) {\n",
       "      if (nodelist.hasOwnProperty(i)) {\n",
       "        scripts.push(nodelist[i])\n",
       "      }\n",
       "    }\n",
       "\n",
       "    scripts.forEach( function (oldScript) {\n",
       "      var newScript = document.createElement(\"script\");\n",
       "      var attrs = [];\n",
       "      var nodemap = oldScript.attributes;\n",
       "      for (var j in nodemap) {\n",
       "        if (nodemap.hasOwnProperty(j)) {\n",
       "          attrs.push(nodemap[j])\n",
       "        }\n",
       "      }\n",
       "      attrs.forEach(function(attr) { newScript.setAttribute(attr.name, attr.value) });\n",
       "      newScript.appendChild(document.createTextNode(oldScript.innerHTML));\n",
       "      oldScript.parentNode.replaceChild(newScript, oldScript);\n",
       "    });\n",
       "    if (JS_MIME_TYPE in output.data) {\n",
       "      toinsert[nchildren-1].children[1].textContent = output.data[JS_MIME_TYPE];\n",
       "    }\n",
       "    output_area._hv_plot_id = id;\n",
       "    if ((window.Bokeh !== undefined) && (id in Bokeh.index)) {\n",
       "      window.PyViz.plot_index[id] = Bokeh.index[id];\n",
       "    } else {\n",
       "      window.PyViz.plot_index[id] = null;\n",
       "    }\n",
       "  } else if (output.metadata[EXEC_MIME_TYPE][\"server_id\"] !== undefined) {\n",
       "    var bk_div = document.createElement(\"div\");\n",
       "    bk_div.innerHTML = output.data[HTML_MIME_TYPE];\n",
       "    var script_attrs = bk_div.children[0].attributes;\n",
       "    for (var i = 0; i < script_attrs.length; i++) {\n",
       "      toinsert[toinsert.length - 1].childNodes[1].setAttribute(script_attrs[i].name, script_attrs[i].value);\n",
       "    }\n",
       "    // store reference to server id on output_area\n",
       "    output_area._bokeh_server_id = output.metadata[EXEC_MIME_TYPE][\"server_id\"];\n",
       "  }\n",
       "}\n",
       "\n",
       "/**\n",
       " * Handle when an output is cleared or removed\n",
       " */\n",
       "function handle_clear_output(event, handle) {\n",
       "  var id = handle.cell.output_area._hv_plot_id;\n",
       "  var server_id = handle.cell.output_area._bokeh_server_id;\n",
       "  if (((id === undefined) || !(id in PyViz.plot_index)) && (server_id !== undefined)) { return; }\n",
       "  var comm = window.PyViz.comm_manager.get_client_comm(\"hv-extension-comm\", \"hv-extension-comm\", function () {});\n",
       "  if (server_id !== null) {\n",
       "    comm.send({event_type: 'server_delete', 'id': server_id});\n",
       "    return;\n",
       "  } else if (comm !== null) {\n",
       "    comm.send({event_type: 'delete', 'id': id});\n",
       "  }\n",
       "  delete PyViz.plot_index[id];\n",
       "  if ((window.Bokeh !== undefined) & (id in window.Bokeh.index)) {\n",
       "    var doc = window.Bokeh.index[id].model.document\n",
       "    doc.clear();\n",
       "    const i = window.Bokeh.documents.indexOf(doc);\n",
       "    if (i > -1) {\n",
       "      window.Bokeh.documents.splice(i, 1);\n",
       "    }\n",
       "  }\n",
       "}\n",
       "\n",
       "/**\n",
       " * Handle kernel restart event\n",
       " */\n",
       "function handle_kernel_cleanup(event, handle) {\n",
       "  delete PyViz.comms[\"hv-extension-comm\"];\n",
       "  window.PyViz.plot_index = {}\n",
       "}\n",
       "\n",
       "/**\n",
       " * Handle update_display_data messages\n",
       " */\n",
       "function handle_update_output(event, handle) {\n",
       "  handle_clear_output(event, {cell: {output_area: handle.output_area}})\n",
       "  handle_add_output(event, handle)\n",
       "}\n",
       "\n",
       "function register_renderer(events, OutputArea) {\n",
       "  function append_mime(data, metadata, element) {\n",
       "    // create a DOM node to render to\n",
       "    var toinsert = this.create_output_subarea(\n",
       "    metadata,\n",
       "    CLASS_NAME,\n",
       "    EXEC_MIME_TYPE\n",
       "    );\n",
       "    this.keyboard_manager.register_events(toinsert);\n",
       "    // Render to node\n",
       "    var props = {data: data, metadata: metadata[EXEC_MIME_TYPE]};\n",
       "    render(props, toinsert[0]);\n",
       "    element.append(toinsert);\n",
       "    return toinsert\n",
       "  }\n",
       "\n",
       "  events.on('output_added.OutputArea', handle_add_output);\n",
       "  events.on('output_updated.OutputArea', handle_update_output);\n",
       "  events.on('clear_output.CodeCell', handle_clear_output);\n",
       "  events.on('delete.Cell', handle_clear_output);\n",
       "  events.on('kernel_ready.Kernel', handle_kernel_cleanup);\n",
       "\n",
       "  OutputArea.prototype.register_mime_type(EXEC_MIME_TYPE, append_mime, {\n",
       "    safe: true,\n",
       "    index: 0\n",
       "  });\n",
       "}\n",
       "\n",
       "if (window.Jupyter !== undefined) {\n",
       "  try {\n",
       "    var events = require('base/js/events');\n",
       "    var OutputArea = require('notebook/js/outputarea').OutputArea;\n",
       "    if (OutputArea.prototype.mime_types().indexOf(EXEC_MIME_TYPE) == -1) {\n",
       "      register_renderer(events, OutputArea);\n",
       "    }\n",
       "  } catch(err) {\n",
       "  }\n",
       "}\n"
      ],
      "application/vnd.holoviews_load.v0+json": "\nif ((window.PyViz === undefined) || (window.PyViz instanceof HTMLElement)) {\n  window.PyViz = {comms: {}, comm_status:{}, kernels:{}, receivers: {}, plot_index: []}\n}\n\n\n    function JupyterCommManager() {\n    }\n\n    JupyterCommManager.prototype.register_target = function(plot_id, comm_id, msg_handler) {\n      if (window.comm_manager || ((window.Jupyter !== undefined) && (Jupyter.notebook.kernel != null))) {\n        var comm_manager = window.comm_manager || Jupyter.notebook.kernel.comm_manager;\n        comm_manager.register_target(comm_id, function(comm) {\n          comm.on_msg(msg_handler);\n        });\n      } else if ((plot_id in window.PyViz.kernels) && (window.PyViz.kernels[plot_id])) {\n        window.PyViz.kernels[plot_id].registerCommTarget(comm_id, function(comm) {\n          comm.onMsg = msg_handler;\n        });\n      } else if (typeof google != 'undefined' && google.colab.kernel != null) {\n        google.colab.kernel.comms.registerTarget(comm_id, (comm) => {\n          var messages = comm.messages[Symbol.asyncIterator]();\n          function processIteratorResult(result) {\n            var message = result.value;\n            console.log(message)\n            var content = {data: message.data, comm_id};\n            var buffers = []\n            for (var buffer of message.buffers || []) {\n              buffers.push(new DataView(buffer))\n            }\n            var metadata = message.metadata || {};\n            var msg = {content, buffers, metadata}\n            msg_handler(msg);\n            return messages.next().then(processIteratorResult);\n          }\n          return messages.next().then(processIteratorResult);\n        })\n      }\n    }\n\n    JupyterCommManager.prototype.get_client_comm = function(plot_id, comm_id, msg_handler) {\n      if (comm_id in window.PyViz.comms) {\n        return window.PyViz.comms[comm_id];\n      } else if (window.comm_manager || ((window.Jupyter !== undefined) && (Jupyter.notebook.kernel != null))) {\n        var comm_manager = window.comm_manager || Jupyter.notebook.kernel.comm_manager;\n        var comm = comm_manager.new_comm(comm_id, {}, {}, {}, comm_id);\n        if (msg_handler) {\n          comm.on_msg(msg_handler);\n        }\n      } else if ((plot_id in window.PyViz.kernels) && (window.PyViz.kernels[plot_id])) {\n        var comm = window.PyViz.kernels[plot_id].connectToComm(comm_id);\n        comm.open();\n        if (msg_handler) {\n          comm.onMsg = msg_handler;\n        }\n      } else if (typeof google != 'undefined' && google.colab.kernel != null) {\n        var comm_promise = google.colab.kernel.comms.open(comm_id)\n        comm_promise.then((comm) => {\n          window.PyViz.comms[comm_id] = comm;\n          if (msg_handler) {\n            var messages = comm.messages[Symbol.asyncIterator]();\n            function processIteratorResult(result) {\n              var message = result.value;\n              var content = {data: message.data};\n              var metadata = message.metadata || {comm_id};\n              var msg = {content, metadata}\n              msg_handler(msg);\n              return messages.next().then(processIteratorResult);\n            }\n            return messages.next().then(processIteratorResult);\n          }\n        })\n        var sendClosure = (data, metadata, buffers, disposeOnDone) => {\n          return comm_promise.then((comm) => {\n            comm.send(data, metadata, buffers, disposeOnDone);\n          });\n        };\n        var comm = {\n          send: sendClosure\n        };\n      }\n      window.PyViz.comms[comm_id] = comm;\n      return comm;\n    }\n    window.PyViz.comm_manager = new JupyterCommManager();\n    \n\n\nvar JS_MIME_TYPE = 'application/javascript';\nvar HTML_MIME_TYPE = 'text/html';\nvar EXEC_MIME_TYPE = 'application/vnd.holoviews_exec.v0+json';\nvar CLASS_NAME = 'output';\n\n/**\n * Render data to the DOM node\n */\nfunction render(props, node) {\n  var div = document.createElement(\"div\");\n  var script = document.createElement(\"script\");\n  node.appendChild(div);\n  node.appendChild(script);\n}\n\n/**\n * Handle when a new output is added\n */\nfunction handle_add_output(event, handle) {\n  var output_area = handle.output_area;\n  var output = handle.output;\n  if ((output.data == undefined) || (!output.data.hasOwnProperty(EXEC_MIME_TYPE))) {\n    return\n  }\n  var id = output.metadata[EXEC_MIME_TYPE][\"id\"];\n  var toinsert = output_area.element.find(\".\" + CLASS_NAME.split(' ')[0]);\n  if (id !== undefined) {\n    var nchildren = toinsert.length;\n    var html_node = toinsert[nchildren-1].children[0];\n    html_node.innerHTML = output.data[HTML_MIME_TYPE];\n    var scripts = [];\n    var nodelist = html_node.querySelectorAll(\"script\");\n    for (var i in nodelist) {\n      if (nodelist.hasOwnProperty(i)) {\n        scripts.push(nodelist[i])\n      }\n    }\n\n    scripts.forEach( function (oldScript) {\n      var newScript = document.createElement(\"script\");\n      var attrs = [];\n      var nodemap = oldScript.attributes;\n      for (var j in nodemap) {\n        if (nodemap.hasOwnProperty(j)) {\n          attrs.push(nodemap[j])\n        }\n      }\n      attrs.forEach(function(attr) { newScript.setAttribute(attr.name, attr.value) });\n      newScript.appendChild(document.createTextNode(oldScript.innerHTML));\n      oldScript.parentNode.replaceChild(newScript, oldScript);\n    });\n    if (JS_MIME_TYPE in output.data) {\n      toinsert[nchildren-1].children[1].textContent = output.data[JS_MIME_TYPE];\n    }\n    output_area._hv_plot_id = id;\n    if ((window.Bokeh !== undefined) && (id in Bokeh.index)) {\n      window.PyViz.plot_index[id] = Bokeh.index[id];\n    } else {\n      window.PyViz.plot_index[id] = null;\n    }\n  } else if (output.metadata[EXEC_MIME_TYPE][\"server_id\"] !== undefined) {\n    var bk_div = document.createElement(\"div\");\n    bk_div.innerHTML = output.data[HTML_MIME_TYPE];\n    var script_attrs = bk_div.children[0].attributes;\n    for (var i = 0; i < script_attrs.length; i++) {\n      toinsert[toinsert.length - 1].childNodes[1].setAttribute(script_attrs[i].name, script_attrs[i].value);\n    }\n    // store reference to server id on output_area\n    output_area._bokeh_server_id = output.metadata[EXEC_MIME_TYPE][\"server_id\"];\n  }\n}\n\n/**\n * Handle when an output is cleared or removed\n */\nfunction handle_clear_output(event, handle) {\n  var id = handle.cell.output_area._hv_plot_id;\n  var server_id = handle.cell.output_area._bokeh_server_id;\n  if (((id === undefined) || !(id in PyViz.plot_index)) && (server_id !== undefined)) { return; }\n  var comm = window.PyViz.comm_manager.get_client_comm(\"hv-extension-comm\", \"hv-extension-comm\", function () {});\n  if (server_id !== null) {\n    comm.send({event_type: 'server_delete', 'id': server_id});\n    return;\n  } else if (comm !== null) {\n    comm.send({event_type: 'delete', 'id': id});\n  }\n  delete PyViz.plot_index[id];\n  if ((window.Bokeh !== undefined) & (id in window.Bokeh.index)) {\n    var doc = window.Bokeh.index[id].model.document\n    doc.clear();\n    const i = window.Bokeh.documents.indexOf(doc);\n    if (i > -1) {\n      window.Bokeh.documents.splice(i, 1);\n    }\n  }\n}\n\n/**\n * Handle kernel restart event\n */\nfunction handle_kernel_cleanup(event, handle) {\n  delete PyViz.comms[\"hv-extension-comm\"];\n  window.PyViz.plot_index = {}\n}\n\n/**\n * Handle update_display_data messages\n */\nfunction handle_update_output(event, handle) {\n  handle_clear_output(event, {cell: {output_area: handle.output_area}})\n  handle_add_output(event, handle)\n}\n\nfunction register_renderer(events, OutputArea) {\n  function append_mime(data, metadata, element) {\n    // create a DOM node to render to\n    var toinsert = this.create_output_subarea(\n    metadata,\n    CLASS_NAME,\n    EXEC_MIME_TYPE\n    );\n    this.keyboard_manager.register_events(toinsert);\n    // Render to node\n    var props = {data: data, metadata: metadata[EXEC_MIME_TYPE]};\n    render(props, toinsert[0]);\n    element.append(toinsert);\n    return toinsert\n  }\n\n  events.on('output_added.OutputArea', handle_add_output);\n  events.on('output_updated.OutputArea', handle_update_output);\n  events.on('clear_output.CodeCell', handle_clear_output);\n  events.on('delete.Cell', handle_clear_output);\n  events.on('kernel_ready.Kernel', handle_kernel_cleanup);\n\n  OutputArea.prototype.register_mime_type(EXEC_MIME_TYPE, append_mime, {\n    safe: true,\n    index: 0\n  });\n}\n\nif (window.Jupyter !== undefined) {\n  try {\n    var events = require('base/js/events');\n    var OutputArea = require('notebook/js/outputarea').OutputArea;\n    if (OutputArea.prototype.mime_types().indexOf(EXEC_MIME_TYPE) == -1) {\n      register_renderer(events, OutputArea);\n    }\n  } catch(err) {\n  }\n}\n"
     },
     "metadata": {},
     "output_type": "display_data"
    },
    {
     "data": {
      "application/vnd.holoviews_exec.v0+json": "",
      "text/html": [
       "<div id='9c62e5cd-78b7-4e00-a37c-f5ad82cddb64'>\n",
       "  <div id=\"f744ca4f-243f-4641-85a5-4146f9294f8d\" data-root-id=\"9c62e5cd-78b7-4e00-a37c-f5ad82cddb64\" style=\"display: contents;\"></div>\n",
       "</div>\n",
       "<script type=\"application/javascript\">(function(root) {\n",
       "  var docs_json = {\"654bd9c0-1277-4092-b71d-8ec82343a56e\":{\"version\":\"3.7.3\",\"title\":\"Bokeh Application\",\"roots\":[{\"type\":\"object\",\"name\":\"panel.models.browser.BrowserInfo\",\"id\":\"9c62e5cd-78b7-4e00-a37c-f5ad82cddb64\"},{\"type\":\"object\",\"name\":\"panel.models.comm_manager.CommManager\",\"id\":\"b4001ac4-3db8-4c6d-8ed3-c2293b1a32f4\",\"attributes\":{\"plot_id\":\"9c62e5cd-78b7-4e00-a37c-f5ad82cddb64\",\"comm_id\":\"3a647b2f19b9404785c774fbc921f306\",\"client_comm_id\":\"dd9584c59c6a463fb9c56e64ae6b0dd5\"}}],\"defs\":[{\"type\":\"model\",\"name\":\"ReactiveHTML1\"},{\"type\":\"model\",\"name\":\"FlexBox1\",\"properties\":[{\"name\":\"align_content\",\"kind\":\"Any\",\"default\":\"flex-start\"},{\"name\":\"align_items\",\"kind\":\"Any\",\"default\":\"flex-start\"},{\"name\":\"flex_direction\",\"kind\":\"Any\",\"default\":\"row\"},{\"name\":\"flex_wrap\",\"kind\":\"Any\",\"default\":\"wrap\"},{\"name\":\"gap\",\"kind\":\"Any\",\"default\":\"\"},{\"name\":\"justify_content\",\"kind\":\"Any\",\"default\":\"flex-start\"}]},{\"type\":\"model\",\"name\":\"FloatPanel1\",\"properties\":[{\"name\":\"config\",\"kind\":\"Any\",\"default\":{\"type\":\"map\"}},{\"name\":\"contained\",\"kind\":\"Any\",\"default\":true},{\"name\":\"position\",\"kind\":\"Any\",\"default\":\"right-top\"},{\"name\":\"offsetx\",\"kind\":\"Any\",\"default\":null},{\"name\":\"offsety\",\"kind\":\"Any\",\"default\":null},{\"name\":\"theme\",\"kind\":\"Any\",\"default\":\"primary\"},{\"name\":\"status\",\"kind\":\"Any\",\"default\":\"normalized\"}]},{\"type\":\"model\",\"name\":\"GridStack1\",\"properties\":[{\"name\":\"ncols\",\"kind\":\"Any\",\"default\":null},{\"name\":\"nrows\",\"kind\":\"Any\",\"default\":null},{\"name\":\"allow_resize\",\"kind\":\"Any\",\"default\":true},{\"name\":\"allow_drag\",\"kind\":\"Any\",\"default\":true},{\"name\":\"state\",\"kind\":\"Any\",\"default\":[]}]},{\"type\":\"model\",\"name\":\"drag1\",\"properties\":[{\"name\":\"slider_width\",\"kind\":\"Any\",\"default\":5},{\"name\":\"slider_color\",\"kind\":\"Any\",\"default\":\"black\"},{\"name\":\"value\",\"kind\":\"Any\",\"default\":50}]},{\"type\":\"model\",\"name\":\"click1\",\"properties\":[{\"name\":\"terminal_output\",\"kind\":\"Any\",\"default\":\"\"},{\"name\":\"debug_name\",\"kind\":\"Any\",\"default\":\"\"},{\"name\":\"clears\",\"kind\":\"Any\",\"default\":0}]},{\"type\":\"model\",\"name\":\"FastWrapper1\",\"properties\":[{\"name\":\"object\",\"kind\":\"Any\",\"default\":null},{\"name\":\"style\",\"kind\":\"Any\",\"default\":null}]},{\"type\":\"model\",\"name\":\"NotificationArea1\",\"properties\":[{\"name\":\"js_events\",\"kind\":\"Any\",\"default\":{\"type\":\"map\"}},{\"name\":\"max_notifications\",\"kind\":\"Any\",\"default\":5},{\"name\":\"notifications\",\"kind\":\"Any\",\"default\":[]},{\"name\":\"position\",\"kind\":\"Any\",\"default\":\"bottom-right\"},{\"name\":\"_clear\",\"kind\":\"Any\",\"default\":0},{\"name\":\"types\",\"kind\":\"Any\",\"default\":[{\"type\":\"map\",\"entries\":[[\"type\",\"warning\"],[\"background\",\"#ffc107\"],[\"icon\",{\"type\":\"map\",\"entries\":[[\"className\",\"fas fa-exclamation-triangle\"],[\"tagName\",\"i\"],[\"color\",\"white\"]]}]]},{\"type\":\"map\",\"entries\":[[\"type\",\"info\"],[\"background\",\"#007bff\"],[\"icon\",{\"type\":\"map\",\"entries\":[[\"className\",\"fas fa-info-circle\"],[\"tagName\",\"i\"],[\"color\",\"white\"]]}]]}]}]},{\"type\":\"model\",\"name\":\"Notification\",\"properties\":[{\"name\":\"background\",\"kind\":\"Any\",\"default\":null},{\"name\":\"duration\",\"kind\":\"Any\",\"default\":3000},{\"name\":\"icon\",\"kind\":\"Any\",\"default\":null},{\"name\":\"message\",\"kind\":\"Any\",\"default\":\"\"},{\"name\":\"notification_type\",\"kind\":\"Any\",\"default\":null},{\"name\":\"_rendered\",\"kind\":\"Any\",\"default\":false},{\"name\":\"_destroyed\",\"kind\":\"Any\",\"default\":false}]},{\"type\":\"model\",\"name\":\"TemplateActions1\",\"properties\":[{\"name\":\"open_modal\",\"kind\":\"Any\",\"default\":0},{\"name\":\"close_modal\",\"kind\":\"Any\",\"default\":0}]},{\"type\":\"model\",\"name\":\"BootstrapTemplateActions1\",\"properties\":[{\"name\":\"open_modal\",\"kind\":\"Any\",\"default\":0},{\"name\":\"close_modal\",\"kind\":\"Any\",\"default\":0}]},{\"type\":\"model\",\"name\":\"TemplateEditor1\",\"properties\":[{\"name\":\"layout\",\"kind\":\"Any\",\"default\":[]}]},{\"type\":\"model\",\"name\":\"MaterialTemplateActions1\",\"properties\":[{\"name\":\"open_modal\",\"kind\":\"Any\",\"default\":0},{\"name\":\"close_modal\",\"kind\":\"Any\",\"default\":0}]},{\"type\":\"model\",\"name\":\"ReactiveESM1\",\"properties\":[{\"name\":\"esm_constants\",\"kind\":\"Any\",\"default\":{\"type\":\"map\"}}]},{\"type\":\"model\",\"name\":\"JSComponent1\",\"properties\":[{\"name\":\"esm_constants\",\"kind\":\"Any\",\"default\":{\"type\":\"map\"}}]},{\"type\":\"model\",\"name\":\"ReactComponent1\",\"properties\":[{\"name\":\"esm_constants\",\"kind\":\"Any\",\"default\":{\"type\":\"map\"}}]},{\"type\":\"model\",\"name\":\"AnyWidgetComponent1\",\"properties\":[{\"name\":\"esm_constants\",\"kind\":\"Any\",\"default\":{\"type\":\"map\"}}]},{\"type\":\"model\",\"name\":\"request_value1\",\"properties\":[{\"name\":\"fill\",\"kind\":\"Any\",\"default\":\"none\"},{\"name\":\"_synced\",\"kind\":\"Any\",\"default\":null},{\"name\":\"_request_sync\",\"kind\":\"Any\",\"default\":0}]}]}};\n",
       "  var render_items = [{\"docid\":\"654bd9c0-1277-4092-b71d-8ec82343a56e\",\"roots\":{\"9c62e5cd-78b7-4e00-a37c-f5ad82cddb64\":\"f744ca4f-243f-4641-85a5-4146f9294f8d\"},\"root_ids\":[\"9c62e5cd-78b7-4e00-a37c-f5ad82cddb64\"]}];\n",
       "  var docs = Object.values(docs_json)\n",
       "  if (!docs) {\n",
       "    return\n",
       "  }\n",
       "  const py_version = docs[0].version.replace('rc', '-rc.').replace('.dev', '-dev.')\n",
       "  async function embed_document(root) {\n",
       "    var Bokeh = get_bokeh(root)\n",
       "    await Bokeh.embed.embed_items_notebook(docs_json, render_items);\n",
       "    for (const render_item of render_items) {\n",
       "      for (const root_id of render_item.root_ids) {\n",
       "\tconst id_el = document.getElementById(root_id)\n",
       "\tif (id_el.children.length && id_el.children[0].hasAttribute('data-root-id')) {\n",
       "\t  const root_el = id_el.children[0]\n",
       "\t  root_el.id = root_el.id + '-rendered'\n",
       "\t  for (const child of root_el.children) {\n",
       "            // Ensure JupyterLab does not capture keyboard shortcuts\n",
       "            // see: https://jupyterlab.readthedocs.io/en/4.1.x/extension/notebook.html#keyboard-interaction-model\n",
       "\t    child.setAttribute('data-lm-suppress-shortcuts', 'true')\n",
       "\t  }\n",
       "\t}\n",
       "      }\n",
       "    }\n",
       "  }\n",
       "  function get_bokeh(root) {\n",
       "    if (root.Bokeh === undefined) {\n",
       "      return null\n",
       "    } else if (root.Bokeh.version !== py_version) {\n",
       "      if (root.Bokeh.versions === undefined || !root.Bokeh.versions.has(py_version)) {\n",
       "\treturn null\n",
       "      }\n",
       "      return root.Bokeh.versions.get(py_version);\n",
       "    } else if (root.Bokeh.version === py_version) {\n",
       "      return root.Bokeh\n",
       "    }\n",
       "    return null\n",
       "  }\n",
       "  function is_loaded(root) {\n",
       "    var Bokeh = get_bokeh(root)\n",
       "    return (Bokeh != null && Bokeh.Panel !== undefined)\n",
       "  }\n",
       "  if (is_loaded(root)) {\n",
       "    embed_document(root);\n",
       "  } else {\n",
       "    var attempts = 0;\n",
       "    var timer = setInterval(function(root) {\n",
       "      if (is_loaded(root)) {\n",
       "        clearInterval(timer);\n",
       "        embed_document(root);\n",
       "      } else if (document.readyState == \"complete\") {\n",
       "        attempts++;\n",
       "        if (attempts > 200) {\n",
       "          clearInterval(timer);\n",
       "\t  var Bokeh = get_bokeh(root)\n",
       "\t  if (Bokeh == null || Bokeh.Panel == null) {\n",
       "            console.warn(\"Panel: ERROR: Unable to run Panel code because Bokeh or Panel library is missing\");\n",
       "\t  } else {\n",
       "\t    console.warn(\"Panel: WARNING: Attempting to render but not all required libraries could be resolved.\")\n",
       "\t    embed_document(root)\n",
       "\t  }\n",
       "        }\n",
       "      }\n",
       "    }, 25, root)\n",
       "  }\n",
       "})(window);</script>"
      ]
     },
     "metadata": {
      "application/vnd.holoviews_exec.v0+json": {
       "id": "9c62e5cd-78b7-4e00-a37c-f5ad82cddb64"
      }
     },
     "output_type": "display_data"
    },
    {
     "name": "stdout",
     "output_type": "stream",
     "text": [
      "Auto-detected Sphinx build environment\n"
     ]
    },
    {
     "data": {
      "text/html": [
       "<script type=\"esms-options\">{\"shimMode\": true}</script><style>*[data-root-id],\n",
       "*[data-root-id] > * {\n",
       "  box-sizing: border-box;\n",
       "  font-family: var(--jp-ui-font-family);\n",
       "  font-size: var(--jp-ui-font-size1);\n",
       "  color: var(--vscode-editor-foreground, var(--jp-ui-font-color1));\n",
       "}\n",
       "\n",
       "/* Override VSCode background color */\n",
       ".cell-output-ipywidget-background:has(\n",
       "    > .cell-output-ipywidget-background > .lm-Widget > *[data-root-id]\n",
       "  ),\n",
       ".cell-output-ipywidget-background:has(> .lm-Widget > *[data-root-id]) {\n",
       "  background-color: transparent !important;\n",
       "}\n",
       "</style>"
      ]
     },
     "metadata": {},
     "output_type": "display_data"
    },
    {
     "data": {
      "application/javascript": [
       "(function(root) {\n",
       "  function now() {\n",
       "    return new Date();\n",
       "  }\n",
       "\n",
       "  const force = false;\n",
       "  const py_version = '3.7.3'.replace('rc', '-rc.').replace('.dev', '-dev.');\n",
       "  const reloading = true;\n",
       "  const Bokeh = root.Bokeh;\n",
       "\n",
       "  // Set a timeout for this load but only if we are not already initializing\n",
       "  if (typeof (root._bokeh_timeout) === \"undefined\" || (force || !root._bokeh_is_initializing)) {\n",
       "    root._bokeh_timeout = Date.now() + 5000;\n",
       "    root._bokeh_failed_load = false;\n",
       "  }\n",
       "\n",
       "  function run_callbacks() {\n",
       "    try {\n",
       "      root._bokeh_onload_callbacks.forEach(function(callback) {\n",
       "        if (callback != null)\n",
       "          callback();\n",
       "      });\n",
       "    } finally {\n",
       "      delete root._bokeh_onload_callbacks;\n",
       "    }\n",
       "    console.debug(\"Bokeh: all callbacks have finished\");\n",
       "  }\n",
       "\n",
       "  function load_libs(css_urls, js_urls, js_modules, js_exports, callback) {\n",
       "    if (css_urls == null) css_urls = [];\n",
       "    if (js_urls == null) js_urls = [];\n",
       "    if (js_modules == null) js_modules = [];\n",
       "    if (js_exports == null) js_exports = {};\n",
       "\n",
       "    root._bokeh_onload_callbacks.push(callback);\n",
       "\n",
       "    if (root._bokeh_is_loading > 0) {\n",
       "      // Don't load bokeh if it is still initializing\n",
       "      console.debug(\"Bokeh: BokehJS is being loaded, scheduling callback at\", now());\n",
       "      return null;\n",
       "    } else if (js_urls.length === 0 && js_modules.length === 0 && Object.keys(js_exports).length === 0) {\n",
       "      // There is nothing to load\n",
       "      run_callbacks();\n",
       "      return null;\n",
       "    }\n",
       "\n",
       "    function on_load() {\n",
       "      root._bokeh_is_loading--;\n",
       "      if (root._bokeh_is_loading === 0) {\n",
       "        console.debug(\"Bokeh: all BokehJS libraries/stylesheets loaded\");\n",
       "        run_callbacks()\n",
       "      }\n",
       "    }\n",
       "    window._bokeh_on_load = on_load\n",
       "\n",
       "    function on_error(e) {\n",
       "      const src_el = e.srcElement\n",
       "      console.error(\"failed to load \" + (src_el.href || src_el.src));\n",
       "    }\n",
       "\n",
       "    const skip = [];\n",
       "    if (window.requirejs) {\n",
       "      window.requirejs.config({'packages': {}, 'paths': {}, 'shim': {}});\n",
       "      root._bokeh_is_loading = css_urls.length + 0;\n",
       "    } else {\n",
       "      root._bokeh_is_loading = css_urls.length + js_urls.length + js_modules.length + Object.keys(js_exports).length;\n",
       "    }\n",
       "\n",
       "    const existing_stylesheets = []\n",
       "    const links = document.getElementsByTagName('link')\n",
       "    for (let i = 0; i < links.length; i++) {\n",
       "      const link = links[i]\n",
       "      if (link.href != null) {\n",
       "        existing_stylesheets.push(link.href)\n",
       "      }\n",
       "    }\n",
       "    for (let i = 0; i < css_urls.length; i++) {\n",
       "      const url = css_urls[i];\n",
       "      const escaped = encodeURI(url)\n",
       "      if (existing_stylesheets.indexOf(escaped) !== -1) {\n",
       "        on_load()\n",
       "        continue;\n",
       "      }\n",
       "      const element = document.createElement(\"link\");\n",
       "      element.onload = on_load;\n",
       "      element.onerror = on_error;\n",
       "      element.rel = \"stylesheet\";\n",
       "      element.type = \"text/css\";\n",
       "      element.href = url;\n",
       "      console.debug(\"Bokeh: injecting link tag for BokehJS stylesheet: \", url);\n",
       "      document.body.appendChild(element);\n",
       "    }    var existing_scripts = []\n",
       "    const scripts = document.getElementsByTagName('script')\n",
       "    for (let i = 0; i < scripts.length; i++) {\n",
       "      var script = scripts[i]\n",
       "      if (script.src != null) {\n",
       "        existing_scripts.push(script.src)\n",
       "      }\n",
       "    }\n",
       "    for (let i = 0; i < js_urls.length; i++) {\n",
       "      const url = js_urls[i];\n",
       "      const escaped = encodeURI(url)\n",
       "      if (skip.indexOf(escaped) !== -1 || existing_scripts.indexOf(escaped) !== -1) {\n",
       "        if (!window.requirejs) {\n",
       "          on_load();\n",
       "        }\n",
       "        continue;\n",
       "      }\n",
       "      const element = document.createElement('script');\n",
       "      element.onload = on_load;\n",
       "      element.onerror = on_error;\n",
       "      element.async = false;\n",
       "      element.src = url;\n",
       "      console.debug(\"Bokeh: injecting script tag for BokehJS library: \", url);\n",
       "      document.head.appendChild(element);\n",
       "    }\n",
       "    for (let i = 0; i < js_modules.length; i++) {\n",
       "      const url = js_modules[i];\n",
       "      const escaped = encodeURI(url)\n",
       "      if (skip.indexOf(escaped) !== -1 || existing_scripts.indexOf(escaped) !== -1) {\n",
       "        if (!window.requirejs) {\n",
       "          on_load();\n",
       "        }\n",
       "        continue;\n",
       "      }\n",
       "      var element = document.createElement('script');\n",
       "      element.onload = on_load;\n",
       "      element.onerror = on_error;\n",
       "      element.async = false;\n",
       "      element.src = url;\n",
       "      element.type = \"module\";\n",
       "      console.debug(\"Bokeh: injecting script tag for BokehJS library: \", url);\n",
       "      document.head.appendChild(element);\n",
       "    }\n",
       "    for (const name in js_exports) {\n",
       "      const url = js_exports[name];\n",
       "      const escaped = encodeURI(url)\n",
       "      if (skip.indexOf(escaped) >= 0 || root[name] != null) {\n",
       "        if (!window.requirejs) {\n",
       "          on_load();\n",
       "        }\n",
       "        continue;\n",
       "      }\n",
       "      var element = document.createElement('script');\n",
       "      element.onerror = on_error;\n",
       "      element.async = false;\n",
       "      element.type = \"module\";\n",
       "      console.debug(\"Bokeh: injecting script tag for BokehJS library: \", url);\n",
       "      element.textContent = `\n",
       "      import ${name} from \"${url}\"\n",
       "      window.${name} = ${name}\n",
       "      window._bokeh_on_load()\n",
       "      `\n",
       "      document.head.appendChild(element);\n",
       "    }\n",
       "    if (!js_urls.length && !js_modules.length) {\n",
       "      on_load()\n",
       "    }\n",
       "  };\n",
       "\n",
       "  function inject_raw_css(css) {\n",
       "    const element = document.createElement(\"style\");\n",
       "    element.appendChild(document.createTextNode(css));\n",
       "    document.body.appendChild(element);\n",
       "  }\n",
       "\n",
       "  const js_urls = [\"https://cdn.holoviz.org/panel/1.7.1/dist/bundled/reactiveesm/es-module-shims@^1.10.0/dist/es-module-shims.min.js\"];\n",
       "  const js_modules = [];\n",
       "  const js_exports = {};\n",
       "  const css_urls = [\"https://cdn.holoviz.org/panel/1.7.1/dist/bundled/font-awesome/css/all.min.css\"];\n",
       "  const inline_js = [    function(Bokeh) {\n",
       "      Bokeh.set_log_level(\"info\");\n",
       "    },\n",
       "function(Bokeh) {} // ensure no trailing comma for IE\n",
       "  ];\n",
       "\n",
       "  function run_inline_js() {\n",
       "    if ((root.Bokeh !== undefined) || (force === true)) {\n",
       "      for (let i = 0; i < inline_js.length; i++) {\n",
       "        try {\n",
       "          inline_js[i].call(root, root.Bokeh);\n",
       "        } catch(e) {\n",
       "          if (!reloading) {\n",
       "            throw e;\n",
       "          }\n",
       "        }\n",
       "      }\n",
       "      // Cache old bokeh versions\n",
       "      if (Bokeh != undefined && !reloading) {\n",
       "        var NewBokeh = root.Bokeh;\n",
       "        if (Bokeh.versions === undefined) {\n",
       "          Bokeh.versions = new Map();\n",
       "        }\n",
       "        if (NewBokeh.version !== Bokeh.version) {\n",
       "          Bokeh.versions.set(NewBokeh.version, NewBokeh)\n",
       "        }\n",
       "        root.Bokeh = Bokeh;\n",
       "      }\n",
       "    } else if (Date.now() < root._bokeh_timeout) {\n",
       "      setTimeout(run_inline_js, 100);\n",
       "    } else if (!root._bokeh_failed_load) {\n",
       "      console.log(\"Bokeh: BokehJS failed to load within specified timeout.\");\n",
       "      root._bokeh_failed_load = true;\n",
       "    }\n",
       "    root._bokeh_is_initializing = false\n",
       "  }\n",
       "\n",
       "  function load_or_wait() {\n",
       "    // Implement a backoff loop that tries to ensure we do not load multiple\n",
       "    // versions of Bokeh and its dependencies at the same time.\n",
       "    // In recent versions we use the root._bokeh_is_initializing flag\n",
       "    // to determine whether there is an ongoing attempt to initialize\n",
       "    // bokeh, however for backward compatibility we also try to ensure\n",
       "    // that we do not start loading a newer (Panel>=1.0 and Bokeh>3) version\n",
       "    // before older versions are fully initialized.\n",
       "    if (root._bokeh_is_initializing && Date.now() > root._bokeh_timeout) {\n",
       "      // If the timeout and bokeh was not successfully loaded we reset\n",
       "      // everything and try loading again\n",
       "      root._bokeh_timeout = Date.now() + 5000;\n",
       "      root._bokeh_is_initializing = false;\n",
       "      root._bokeh_onload_callbacks = undefined;\n",
       "      root._bokeh_is_loading = 0\n",
       "      console.log(\"Bokeh: BokehJS was loaded multiple times but one version failed to initialize.\");\n",
       "      load_or_wait();\n",
       "    } else if (root._bokeh_is_initializing || (typeof root._bokeh_is_initializing === \"undefined\" && root._bokeh_onload_callbacks !== undefined)) {\n",
       "      setTimeout(load_or_wait, 100);\n",
       "    } else {\n",
       "      root._bokeh_is_initializing = true\n",
       "      root._bokeh_onload_callbacks = []\n",
       "      const bokeh_loaded = root.Bokeh != null && (root.Bokeh.version === py_version || (root.Bokeh.versions !== undefined && root.Bokeh.versions.has(py_version)));\n",
       "      if (!reloading && !bokeh_loaded) {\n",
       "        if (root.Bokeh) {\n",
       "          root.Bokeh = undefined;\n",
       "        }\n",
       "        console.debug(\"Bokeh: BokehJS not loaded, scheduling load and callback at\", now());\n",
       "      }\n",
       "      load_libs(css_urls, js_urls, js_modules, js_exports, function() {\n",
       "        console.debug(\"Bokeh: BokehJS plotting callback run at\", now());\n",
       "        run_inline_js();\n",
       "      });\n",
       "    }\n",
       "  }\n",
       "  // Give older versions of the autoload script a head-start to ensure\n",
       "  // they initialize before we start loading newer version.\n",
       "  setTimeout(load_or_wait, 100)\n",
       "}(window));"
      ],
      "application/vnd.holoviews_load.v0+json": "(function(root) {\n  function now() {\n    return new Date();\n  }\n\n  const force = false;\n  const py_version = '3.7.3'.replace('rc', '-rc.').replace('.dev', '-dev.');\n  const reloading = true;\n  const Bokeh = root.Bokeh;\n\n  // Set a timeout for this load but only if we are not already initializing\n  if (typeof (root._bokeh_timeout) === \"undefined\" || (force || !root._bokeh_is_initializing)) {\n    root._bokeh_timeout = Date.now() + 5000;\n    root._bokeh_failed_load = false;\n  }\n\n  function run_callbacks() {\n    try {\n      root._bokeh_onload_callbacks.forEach(function(callback) {\n        if (callback != null)\n          callback();\n      });\n    } finally {\n      delete root._bokeh_onload_callbacks;\n    }\n    console.debug(\"Bokeh: all callbacks have finished\");\n  }\n\n  function load_libs(css_urls, js_urls, js_modules, js_exports, callback) {\n    if (css_urls == null) css_urls = [];\n    if (js_urls == null) js_urls = [];\n    if (js_modules == null) js_modules = [];\n    if (js_exports == null) js_exports = {};\n\n    root._bokeh_onload_callbacks.push(callback);\n\n    if (root._bokeh_is_loading > 0) {\n      // Don't load bokeh if it is still initializing\n      console.debug(\"Bokeh: BokehJS is being loaded, scheduling callback at\", now());\n      return null;\n    } else if (js_urls.length === 0 && js_modules.length === 0 && Object.keys(js_exports).length === 0) {\n      // There is nothing to load\n      run_callbacks();\n      return null;\n    }\n\n    function on_load() {\n      root._bokeh_is_loading--;\n      if (root._bokeh_is_loading === 0) {\n        console.debug(\"Bokeh: all BokehJS libraries/stylesheets loaded\");\n        run_callbacks()\n      }\n    }\n    window._bokeh_on_load = on_load\n\n    function on_error(e) {\n      const src_el = e.srcElement\n      console.error(\"failed to load \" + (src_el.href || src_el.src));\n    }\n\n    const skip = [];\n    if (window.requirejs) {\n      window.requirejs.config({'packages': {}, 'paths': {}, 'shim': {}});\n      root._bokeh_is_loading = css_urls.length + 0;\n    } else {\n      root._bokeh_is_loading = css_urls.length + js_urls.length + js_modules.length + Object.keys(js_exports).length;\n    }\n\n    const existing_stylesheets = []\n    const links = document.getElementsByTagName('link')\n    for (let i = 0; i < links.length; i++) {\n      const link = links[i]\n      if (link.href != null) {\n        existing_stylesheets.push(link.href)\n      }\n    }\n    for (let i = 0; i < css_urls.length; i++) {\n      const url = css_urls[i];\n      const escaped = encodeURI(url)\n      if (existing_stylesheets.indexOf(escaped) !== -1) {\n        on_load()\n        continue;\n      }\n      const element = document.createElement(\"link\");\n      element.onload = on_load;\n      element.onerror = on_error;\n      element.rel = \"stylesheet\";\n      element.type = \"text/css\";\n      element.href = url;\n      console.debug(\"Bokeh: injecting link tag for BokehJS stylesheet: \", url);\n      document.body.appendChild(element);\n    }    var existing_scripts = []\n    const scripts = document.getElementsByTagName('script')\n    for (let i = 0; i < scripts.length; i++) {\n      var script = scripts[i]\n      if (script.src != null) {\n        existing_scripts.push(script.src)\n      }\n    }\n    for (let i = 0; i < js_urls.length; i++) {\n      const url = js_urls[i];\n      const escaped = encodeURI(url)\n      if (skip.indexOf(escaped) !== -1 || existing_scripts.indexOf(escaped) !== -1) {\n        if (!window.requirejs) {\n          on_load();\n        }\n        continue;\n      }\n      const element = document.createElement('script');\n      element.onload = on_load;\n      element.onerror = on_error;\n      element.async = false;\n      element.src = url;\n      console.debug(\"Bokeh: injecting script tag for BokehJS library: \", url);\n      document.head.appendChild(element);\n    }\n    for (let i = 0; i < js_modules.length; i++) {\n      const url = js_modules[i];\n      const escaped = encodeURI(url)\n      if (skip.indexOf(escaped) !== -1 || existing_scripts.indexOf(escaped) !== -1) {\n        if (!window.requirejs) {\n          on_load();\n        }\n        continue;\n      }\n      var element = document.createElement('script');\n      element.onload = on_load;\n      element.onerror = on_error;\n      element.async = false;\n      element.src = url;\n      element.type = \"module\";\n      console.debug(\"Bokeh: injecting script tag for BokehJS library: \", url);\n      document.head.appendChild(element);\n    }\n    for (const name in js_exports) {\n      const url = js_exports[name];\n      const escaped = encodeURI(url)\n      if (skip.indexOf(escaped) >= 0 || root[name] != null) {\n        if (!window.requirejs) {\n          on_load();\n        }\n        continue;\n      }\n      var element = document.createElement('script');\n      element.onerror = on_error;\n      element.async = false;\n      element.type = \"module\";\n      console.debug(\"Bokeh: injecting script tag for BokehJS library: \", url);\n      element.textContent = `\n      import ${name} from \"${url}\"\n      window.${name} = ${name}\n      window._bokeh_on_load()\n      `\n      document.head.appendChild(element);\n    }\n    if (!js_urls.length && !js_modules.length) {\n      on_load()\n    }\n  };\n\n  function inject_raw_css(css) {\n    const element = document.createElement(\"style\");\n    element.appendChild(document.createTextNode(css));\n    document.body.appendChild(element);\n  }\n\n  const js_urls = [\"https://cdn.holoviz.org/panel/1.7.1/dist/bundled/reactiveesm/es-module-shims@^1.10.0/dist/es-module-shims.min.js\"];\n  const js_modules = [];\n  const js_exports = {};\n  const css_urls = [\"https://cdn.holoviz.org/panel/1.7.1/dist/bundled/font-awesome/css/all.min.css\"];\n  const inline_js = [    function(Bokeh) {\n      Bokeh.set_log_level(\"info\");\n    },\nfunction(Bokeh) {} // ensure no trailing comma for IE\n  ];\n\n  function run_inline_js() {\n    if ((root.Bokeh !== undefined) || (force === true)) {\n      for (let i = 0; i < inline_js.length; i++) {\n        try {\n          inline_js[i].call(root, root.Bokeh);\n        } catch(e) {\n          if (!reloading) {\n            throw e;\n          }\n        }\n      }\n      // Cache old bokeh versions\n      if (Bokeh != undefined && !reloading) {\n        var NewBokeh = root.Bokeh;\n        if (Bokeh.versions === undefined) {\n          Bokeh.versions = new Map();\n        }\n        if (NewBokeh.version !== Bokeh.version) {\n          Bokeh.versions.set(NewBokeh.version, NewBokeh)\n        }\n        root.Bokeh = Bokeh;\n      }\n    } else if (Date.now() < root._bokeh_timeout) {\n      setTimeout(run_inline_js, 100);\n    } else if (!root._bokeh_failed_load) {\n      console.log(\"Bokeh: BokehJS failed to load within specified timeout.\");\n      root._bokeh_failed_load = true;\n    }\n    root._bokeh_is_initializing = false\n  }\n\n  function load_or_wait() {\n    // Implement a backoff loop that tries to ensure we do not load multiple\n    // versions of Bokeh and its dependencies at the same time.\n    // In recent versions we use the root._bokeh_is_initializing flag\n    // to determine whether there is an ongoing attempt to initialize\n    // bokeh, however for backward compatibility we also try to ensure\n    // that we do not start loading a newer (Panel>=1.0 and Bokeh>3) version\n    // before older versions are fully initialized.\n    if (root._bokeh_is_initializing && Date.now() > root._bokeh_timeout) {\n      // If the timeout and bokeh was not successfully loaded we reset\n      // everything and try loading again\n      root._bokeh_timeout = Date.now() + 5000;\n      root._bokeh_is_initializing = false;\n      root._bokeh_onload_callbacks = undefined;\n      root._bokeh_is_loading = 0\n      console.log(\"Bokeh: BokehJS was loaded multiple times but one version failed to initialize.\");\n      load_or_wait();\n    } else if (root._bokeh_is_initializing || (typeof root._bokeh_is_initializing === \"undefined\" && root._bokeh_onload_callbacks !== undefined)) {\n      setTimeout(load_or_wait, 100);\n    } else {\n      root._bokeh_is_initializing = true\n      root._bokeh_onload_callbacks = []\n      const bokeh_loaded = root.Bokeh != null && (root.Bokeh.version === py_version || (root.Bokeh.versions !== undefined && root.Bokeh.versions.has(py_version)));\n      if (!reloading && !bokeh_loaded) {\n        if (root.Bokeh) {\n          root.Bokeh = undefined;\n        }\n        console.debug(\"Bokeh: BokehJS not loaded, scheduling load and callback at\", now());\n      }\n      load_libs(css_urls, js_urls, js_modules, js_exports, function() {\n        console.debug(\"Bokeh: BokehJS plotting callback run at\", now());\n        run_inline_js();\n      });\n    }\n  }\n  // Give older versions of the autoload script a head-start to ensure\n  // they initialize before we start loading newer version.\n  setTimeout(load_or_wait, 100)\n}(window));"
     },
     "metadata": {},
     "output_type": "display_data"
    },
    {
     "data": {
      "application/javascript": [
       "\n",
       "if ((window.PyViz === undefined) || (window.PyViz instanceof HTMLElement)) {\n",
       "  window.PyViz = {comms: {}, comm_status:{}, kernels:{}, receivers: {}, plot_index: []}\n",
       "}\n",
       "\n",
       "\n",
       "    function JupyterCommManager() {\n",
       "    }\n",
       "\n",
       "    JupyterCommManager.prototype.register_target = function(plot_id, comm_id, msg_handler) {\n",
       "      if (window.comm_manager || ((window.Jupyter !== undefined) && (Jupyter.notebook.kernel != null))) {\n",
       "        var comm_manager = window.comm_manager || Jupyter.notebook.kernel.comm_manager;\n",
       "        comm_manager.register_target(comm_id, function(comm) {\n",
       "          comm.on_msg(msg_handler);\n",
       "        });\n",
       "      } else if ((plot_id in window.PyViz.kernels) && (window.PyViz.kernels[plot_id])) {\n",
       "        window.PyViz.kernels[plot_id].registerCommTarget(comm_id, function(comm) {\n",
       "          comm.onMsg = msg_handler;\n",
       "        });\n",
       "      } else if (typeof google != 'undefined' && google.colab.kernel != null) {\n",
       "        google.colab.kernel.comms.registerTarget(comm_id, (comm) => {\n",
       "          var messages = comm.messages[Symbol.asyncIterator]();\n",
       "          function processIteratorResult(result) {\n",
       "            var message = result.value;\n",
       "            console.log(message)\n",
       "            var content = {data: message.data, comm_id};\n",
       "            var buffers = []\n",
       "            for (var buffer of message.buffers || []) {\n",
       "              buffers.push(new DataView(buffer))\n",
       "            }\n",
       "            var metadata = message.metadata || {};\n",
       "            var msg = {content, buffers, metadata}\n",
       "            msg_handler(msg);\n",
       "            return messages.next().then(processIteratorResult);\n",
       "          }\n",
       "          return messages.next().then(processIteratorResult);\n",
       "        })\n",
       "      }\n",
       "    }\n",
       "\n",
       "    JupyterCommManager.prototype.get_client_comm = function(plot_id, comm_id, msg_handler) {\n",
       "      if (comm_id in window.PyViz.comms) {\n",
       "        return window.PyViz.comms[comm_id];\n",
       "      } else if (window.comm_manager || ((window.Jupyter !== undefined) && (Jupyter.notebook.kernel != null))) {\n",
       "        var comm_manager = window.comm_manager || Jupyter.notebook.kernel.comm_manager;\n",
       "        var comm = comm_manager.new_comm(comm_id, {}, {}, {}, comm_id);\n",
       "        if (msg_handler) {\n",
       "          comm.on_msg(msg_handler);\n",
       "        }\n",
       "      } else if ((plot_id in window.PyViz.kernels) && (window.PyViz.kernels[plot_id])) {\n",
       "        var comm = window.PyViz.kernels[plot_id].connectToComm(comm_id);\n",
       "        comm.open();\n",
       "        if (msg_handler) {\n",
       "          comm.onMsg = msg_handler;\n",
       "        }\n",
       "      } else if (typeof google != 'undefined' && google.colab.kernel != null) {\n",
       "        var comm_promise = google.colab.kernel.comms.open(comm_id)\n",
       "        comm_promise.then((comm) => {\n",
       "          window.PyViz.comms[comm_id] = comm;\n",
       "          if (msg_handler) {\n",
       "            var messages = comm.messages[Symbol.asyncIterator]();\n",
       "            function processIteratorResult(result) {\n",
       "              var message = result.value;\n",
       "              var content = {data: message.data};\n",
       "              var metadata = message.metadata || {comm_id};\n",
       "              var msg = {content, metadata}\n",
       "              msg_handler(msg);\n",
       "              return messages.next().then(processIteratorResult);\n",
       "            }\n",
       "            return messages.next().then(processIteratorResult);\n",
       "          }\n",
       "        })\n",
       "        var sendClosure = (data, metadata, buffers, disposeOnDone) => {\n",
       "          return comm_promise.then((comm) => {\n",
       "            comm.send(data, metadata, buffers, disposeOnDone);\n",
       "          });\n",
       "        };\n",
       "        var comm = {\n",
       "          send: sendClosure\n",
       "        };\n",
       "      }\n",
       "      window.PyViz.comms[comm_id] = comm;\n",
       "      return comm;\n",
       "    }\n",
       "    window.PyViz.comm_manager = new JupyterCommManager();\n",
       "    \n",
       "\n",
       "\n",
       "var JS_MIME_TYPE = 'application/javascript';\n",
       "var HTML_MIME_TYPE = 'text/html';\n",
       "var EXEC_MIME_TYPE = 'application/vnd.holoviews_exec.v0+json';\n",
       "var CLASS_NAME = 'output';\n",
       "\n",
       "/**\n",
       " * Render data to the DOM node\n",
       " */\n",
       "function render(props, node) {\n",
       "  var div = document.createElement(\"div\");\n",
       "  var script = document.createElement(\"script\");\n",
       "  node.appendChild(div);\n",
       "  node.appendChild(script);\n",
       "}\n",
       "\n",
       "/**\n",
       " * Handle when a new output is added\n",
       " */\n",
       "function handle_add_output(event, handle) {\n",
       "  var output_area = handle.output_area;\n",
       "  var output = handle.output;\n",
       "  if ((output.data == undefined) || (!output.data.hasOwnProperty(EXEC_MIME_TYPE))) {\n",
       "    return\n",
       "  }\n",
       "  var id = output.metadata[EXEC_MIME_TYPE][\"id\"];\n",
       "  var toinsert = output_area.element.find(\".\" + CLASS_NAME.split(' ')[0]);\n",
       "  if (id !== undefined) {\n",
       "    var nchildren = toinsert.length;\n",
       "    var html_node = toinsert[nchildren-1].children[0];\n",
       "    html_node.innerHTML = output.data[HTML_MIME_TYPE];\n",
       "    var scripts = [];\n",
       "    var nodelist = html_node.querySelectorAll(\"script\");\n",
       "    for (var i in nodelist) {\n",
       "      if (nodelist.hasOwnProperty(i)) {\n",
       "        scripts.push(nodelist[i])\n",
       "      }\n",
       "    }\n",
       "\n",
       "    scripts.forEach( function (oldScript) {\n",
       "      var newScript = document.createElement(\"script\");\n",
       "      var attrs = [];\n",
       "      var nodemap = oldScript.attributes;\n",
       "      for (var j in nodemap) {\n",
       "        if (nodemap.hasOwnProperty(j)) {\n",
       "          attrs.push(nodemap[j])\n",
       "        }\n",
       "      }\n",
       "      attrs.forEach(function(attr) { newScript.setAttribute(attr.name, attr.value) });\n",
       "      newScript.appendChild(document.createTextNode(oldScript.innerHTML));\n",
       "      oldScript.parentNode.replaceChild(newScript, oldScript);\n",
       "    });\n",
       "    if (JS_MIME_TYPE in output.data) {\n",
       "      toinsert[nchildren-1].children[1].textContent = output.data[JS_MIME_TYPE];\n",
       "    }\n",
       "    output_area._hv_plot_id = id;\n",
       "    if ((window.Bokeh !== undefined) && (id in Bokeh.index)) {\n",
       "      window.PyViz.plot_index[id] = Bokeh.index[id];\n",
       "    } else {\n",
       "      window.PyViz.plot_index[id] = null;\n",
       "    }\n",
       "  } else if (output.metadata[EXEC_MIME_TYPE][\"server_id\"] !== undefined) {\n",
       "    var bk_div = document.createElement(\"div\");\n",
       "    bk_div.innerHTML = output.data[HTML_MIME_TYPE];\n",
       "    var script_attrs = bk_div.children[0].attributes;\n",
       "    for (var i = 0; i < script_attrs.length; i++) {\n",
       "      toinsert[toinsert.length - 1].childNodes[1].setAttribute(script_attrs[i].name, script_attrs[i].value);\n",
       "    }\n",
       "    // store reference to server id on output_area\n",
       "    output_area._bokeh_server_id = output.metadata[EXEC_MIME_TYPE][\"server_id\"];\n",
       "  }\n",
       "}\n",
       "\n",
       "/**\n",
       " * Handle when an output is cleared or removed\n",
       " */\n",
       "function handle_clear_output(event, handle) {\n",
       "  var id = handle.cell.output_area._hv_plot_id;\n",
       "  var server_id = handle.cell.output_area._bokeh_server_id;\n",
       "  if (((id === undefined) || !(id in PyViz.plot_index)) && (server_id !== undefined)) { return; }\n",
       "  var comm = window.PyViz.comm_manager.get_client_comm(\"hv-extension-comm\", \"hv-extension-comm\", function () {});\n",
       "  if (server_id !== null) {\n",
       "    comm.send({event_type: 'server_delete', 'id': server_id});\n",
       "    return;\n",
       "  } else if (comm !== null) {\n",
       "    comm.send({event_type: 'delete', 'id': id});\n",
       "  }\n",
       "  delete PyViz.plot_index[id];\n",
       "  if ((window.Bokeh !== undefined) & (id in window.Bokeh.index)) {\n",
       "    var doc = window.Bokeh.index[id].model.document\n",
       "    doc.clear();\n",
       "    const i = window.Bokeh.documents.indexOf(doc);\n",
       "    if (i > -1) {\n",
       "      window.Bokeh.documents.splice(i, 1);\n",
       "    }\n",
       "  }\n",
       "}\n",
       "\n",
       "/**\n",
       " * Handle kernel restart event\n",
       " */\n",
       "function handle_kernel_cleanup(event, handle) {\n",
       "  delete PyViz.comms[\"hv-extension-comm\"];\n",
       "  window.PyViz.plot_index = {}\n",
       "}\n",
       "\n",
       "/**\n",
       " * Handle update_display_data messages\n",
       " */\n",
       "function handle_update_output(event, handle) {\n",
       "  handle_clear_output(event, {cell: {output_area: handle.output_area}})\n",
       "  handle_add_output(event, handle)\n",
       "}\n",
       "\n",
       "function register_renderer(events, OutputArea) {\n",
       "  function append_mime(data, metadata, element) {\n",
       "    // create a DOM node to render to\n",
       "    var toinsert = this.create_output_subarea(\n",
       "    metadata,\n",
       "    CLASS_NAME,\n",
       "    EXEC_MIME_TYPE\n",
       "    );\n",
       "    this.keyboard_manager.register_events(toinsert);\n",
       "    // Render to node\n",
       "    var props = {data: data, metadata: metadata[EXEC_MIME_TYPE]};\n",
       "    render(props, toinsert[0]);\n",
       "    element.append(toinsert);\n",
       "    return toinsert\n",
       "  }\n",
       "\n",
       "  events.on('output_added.OutputArea', handle_add_output);\n",
       "  events.on('output_updated.OutputArea', handle_update_output);\n",
       "  events.on('clear_output.CodeCell', handle_clear_output);\n",
       "  events.on('delete.Cell', handle_clear_output);\n",
       "  events.on('kernel_ready.Kernel', handle_kernel_cleanup);\n",
       "\n",
       "  OutputArea.prototype.register_mime_type(EXEC_MIME_TYPE, append_mime, {\n",
       "    safe: true,\n",
       "    index: 0\n",
       "  });\n",
       "}\n",
       "\n",
       "if (window.Jupyter !== undefined) {\n",
       "  try {\n",
       "    var events = require('base/js/events');\n",
       "    var OutputArea = require('notebook/js/outputarea').OutputArea;\n",
       "    if (OutputArea.prototype.mime_types().indexOf(EXEC_MIME_TYPE) == -1) {\n",
       "      register_renderer(events, OutputArea);\n",
       "    }\n",
       "  } catch(err) {\n",
       "  }\n",
       "}\n"
      ],
      "application/vnd.holoviews_load.v0+json": "\nif ((window.PyViz === undefined) || (window.PyViz instanceof HTMLElement)) {\n  window.PyViz = {comms: {}, comm_status:{}, kernels:{}, receivers: {}, plot_index: []}\n}\n\n\n    function JupyterCommManager() {\n    }\n\n    JupyterCommManager.prototype.register_target = function(plot_id, comm_id, msg_handler) {\n      if (window.comm_manager || ((window.Jupyter !== undefined) && (Jupyter.notebook.kernel != null))) {\n        var comm_manager = window.comm_manager || Jupyter.notebook.kernel.comm_manager;\n        comm_manager.register_target(comm_id, function(comm) {\n          comm.on_msg(msg_handler);\n        });\n      } else if ((plot_id in window.PyViz.kernels) && (window.PyViz.kernels[plot_id])) {\n        window.PyViz.kernels[plot_id].registerCommTarget(comm_id, function(comm) {\n          comm.onMsg = msg_handler;\n        });\n      } else if (typeof google != 'undefined' && google.colab.kernel != null) {\n        google.colab.kernel.comms.registerTarget(comm_id, (comm) => {\n          var messages = comm.messages[Symbol.asyncIterator]();\n          function processIteratorResult(result) {\n            var message = result.value;\n            console.log(message)\n            var content = {data: message.data, comm_id};\n            var buffers = []\n            for (var buffer of message.buffers || []) {\n              buffers.push(new DataView(buffer))\n            }\n            var metadata = message.metadata || {};\n            var msg = {content, buffers, metadata}\n            msg_handler(msg);\n            return messages.next().then(processIteratorResult);\n          }\n          return messages.next().then(processIteratorResult);\n        })\n      }\n    }\n\n    JupyterCommManager.prototype.get_client_comm = function(plot_id, comm_id, msg_handler) {\n      if (comm_id in window.PyViz.comms) {\n        return window.PyViz.comms[comm_id];\n      } else if (window.comm_manager || ((window.Jupyter !== undefined) && (Jupyter.notebook.kernel != null))) {\n        var comm_manager = window.comm_manager || Jupyter.notebook.kernel.comm_manager;\n        var comm = comm_manager.new_comm(comm_id, {}, {}, {}, comm_id);\n        if (msg_handler) {\n          comm.on_msg(msg_handler);\n        }\n      } else if ((plot_id in window.PyViz.kernels) && (window.PyViz.kernels[plot_id])) {\n        var comm = window.PyViz.kernels[plot_id].connectToComm(comm_id);\n        comm.open();\n        if (msg_handler) {\n          comm.onMsg = msg_handler;\n        }\n      } else if (typeof google != 'undefined' && google.colab.kernel != null) {\n        var comm_promise = google.colab.kernel.comms.open(comm_id)\n        comm_promise.then((comm) => {\n          window.PyViz.comms[comm_id] = comm;\n          if (msg_handler) {\n            var messages = comm.messages[Symbol.asyncIterator]();\n            function processIteratorResult(result) {\n              var message = result.value;\n              var content = {data: message.data};\n              var metadata = message.metadata || {comm_id};\n              var msg = {content, metadata}\n              msg_handler(msg);\n              return messages.next().then(processIteratorResult);\n            }\n            return messages.next().then(processIteratorResult);\n          }\n        })\n        var sendClosure = (data, metadata, buffers, disposeOnDone) => {\n          return comm_promise.then((comm) => {\n            comm.send(data, metadata, buffers, disposeOnDone);\n          });\n        };\n        var comm = {\n          send: sendClosure\n        };\n      }\n      window.PyViz.comms[comm_id] = comm;\n      return comm;\n    }\n    window.PyViz.comm_manager = new JupyterCommManager();\n    \n\n\nvar JS_MIME_TYPE = 'application/javascript';\nvar HTML_MIME_TYPE = 'text/html';\nvar EXEC_MIME_TYPE = 'application/vnd.holoviews_exec.v0+json';\nvar CLASS_NAME = 'output';\n\n/**\n * Render data to the DOM node\n */\nfunction render(props, node) {\n  var div = document.createElement(\"div\");\n  var script = document.createElement(\"script\");\n  node.appendChild(div);\n  node.appendChild(script);\n}\n\n/**\n * Handle when a new output is added\n */\nfunction handle_add_output(event, handle) {\n  var output_area = handle.output_area;\n  var output = handle.output;\n  if ((output.data == undefined) || (!output.data.hasOwnProperty(EXEC_MIME_TYPE))) {\n    return\n  }\n  var id = output.metadata[EXEC_MIME_TYPE][\"id\"];\n  var toinsert = output_area.element.find(\".\" + CLASS_NAME.split(' ')[0]);\n  if (id !== undefined) {\n    var nchildren = toinsert.length;\n    var html_node = toinsert[nchildren-1].children[0];\n    html_node.innerHTML = output.data[HTML_MIME_TYPE];\n    var scripts = [];\n    var nodelist = html_node.querySelectorAll(\"script\");\n    for (var i in nodelist) {\n      if (nodelist.hasOwnProperty(i)) {\n        scripts.push(nodelist[i])\n      }\n    }\n\n    scripts.forEach( function (oldScript) {\n      var newScript = document.createElement(\"script\");\n      var attrs = [];\n      var nodemap = oldScript.attributes;\n      for (var j in nodemap) {\n        if (nodemap.hasOwnProperty(j)) {\n          attrs.push(nodemap[j])\n        }\n      }\n      attrs.forEach(function(attr) { newScript.setAttribute(attr.name, attr.value) });\n      newScript.appendChild(document.createTextNode(oldScript.innerHTML));\n      oldScript.parentNode.replaceChild(newScript, oldScript);\n    });\n    if (JS_MIME_TYPE in output.data) {\n      toinsert[nchildren-1].children[1].textContent = output.data[JS_MIME_TYPE];\n    }\n    output_area._hv_plot_id = id;\n    if ((window.Bokeh !== undefined) && (id in Bokeh.index)) {\n      window.PyViz.plot_index[id] = Bokeh.index[id];\n    } else {\n      window.PyViz.plot_index[id] = null;\n    }\n  } else if (output.metadata[EXEC_MIME_TYPE][\"server_id\"] !== undefined) {\n    var bk_div = document.createElement(\"div\");\n    bk_div.innerHTML = output.data[HTML_MIME_TYPE];\n    var script_attrs = bk_div.children[0].attributes;\n    for (var i = 0; i < script_attrs.length; i++) {\n      toinsert[toinsert.length - 1].childNodes[1].setAttribute(script_attrs[i].name, script_attrs[i].value);\n    }\n    // store reference to server id on output_area\n    output_area._bokeh_server_id = output.metadata[EXEC_MIME_TYPE][\"server_id\"];\n  }\n}\n\n/**\n * Handle when an output is cleared or removed\n */\nfunction handle_clear_output(event, handle) {\n  var id = handle.cell.output_area._hv_plot_id;\n  var server_id = handle.cell.output_area._bokeh_server_id;\n  if (((id === undefined) || !(id in PyViz.plot_index)) && (server_id !== undefined)) { return; }\n  var comm = window.PyViz.comm_manager.get_client_comm(\"hv-extension-comm\", \"hv-extension-comm\", function () {});\n  if (server_id !== null) {\n    comm.send({event_type: 'server_delete', 'id': server_id});\n    return;\n  } else if (comm !== null) {\n    comm.send({event_type: 'delete', 'id': id});\n  }\n  delete PyViz.plot_index[id];\n  if ((window.Bokeh !== undefined) & (id in window.Bokeh.index)) {\n    var doc = window.Bokeh.index[id].model.document\n    doc.clear();\n    const i = window.Bokeh.documents.indexOf(doc);\n    if (i > -1) {\n      window.Bokeh.documents.splice(i, 1);\n    }\n  }\n}\n\n/**\n * Handle kernel restart event\n */\nfunction handle_kernel_cleanup(event, handle) {\n  delete PyViz.comms[\"hv-extension-comm\"];\n  window.PyViz.plot_index = {}\n}\n\n/**\n * Handle update_display_data messages\n */\nfunction handle_update_output(event, handle) {\n  handle_clear_output(event, {cell: {output_area: handle.output_area}})\n  handle_add_output(event, handle)\n}\n\nfunction register_renderer(events, OutputArea) {\n  function append_mime(data, metadata, element) {\n    // create a DOM node to render to\n    var toinsert = this.create_output_subarea(\n    metadata,\n    CLASS_NAME,\n    EXEC_MIME_TYPE\n    );\n    this.keyboard_manager.register_events(toinsert);\n    // Render to node\n    var props = {data: data, metadata: metadata[EXEC_MIME_TYPE]};\n    render(props, toinsert[0]);\n    element.append(toinsert);\n    return toinsert\n  }\n\n  events.on('output_added.OutputArea', handle_add_output);\n  events.on('output_updated.OutputArea', handle_update_output);\n  events.on('clear_output.CodeCell', handle_clear_output);\n  events.on('delete.Cell', handle_clear_output);\n  events.on('kernel_ready.Kernel', handle_kernel_cleanup);\n\n  OutputArea.prototype.register_mime_type(EXEC_MIME_TYPE, append_mime, {\n    safe: true,\n    index: 0\n  });\n}\n\nif (window.Jupyter !== undefined) {\n  try {\n    var events = require('base/js/events');\n    var OutputArea = require('notebook/js/outputarea').OutputArea;\n    if (OutputArea.prototype.mime_types().indexOf(EXEC_MIME_TYPE) == -1) {\n      register_renderer(events, OutputArea);\n    }\n  } catch(err) {\n  }\n}\n"
     },
     "metadata": {},
     "output_type": "display_data"
    },
    {
     "data": {
      "application/vnd.jupyter.widget-view+json": {
       "model_id": "09b33a9bb2c045f39aae94166a6ad787",
       "version_major": 2,
       "version_minor": 0
      },
      "text/plain": [
       "Iterations:          0/? [00:00<?, ?it/s]"
      ]
     },
     "metadata": {},
     "output_type": "display_data"
    },
    {
     "data": {
      "application/vnd.jupyter.widget-view+json": {
       "model_id": "75332a51519c49e6aab64dcc52f797e5",
       "version_major": 2,
       "version_minor": 0
      },
      "text/plain": [
       "Packets:             0/? [00:00<?, ?it/s]"
      ]
     },
     "metadata": {},
     "output_type": "display_data"
    },
    {
     "data": {
      "text/html": [
       "        <script type=\"text/javascript\">\n",
       "        window.PlotlyConfig = {MathJaxConfig: 'local'};\n",
       "        if (window.MathJax && window.MathJax.Hub && window.MathJax.Hub.Config) {window.MathJax.Hub.Config({SVG: {font: \"STIX-Web\"}});}\n",
       "        if (typeof require !== 'undefined') {\n",
       "        require.undef(\"plotly\");\n",
       "        requirejs.config({\n",
       "            paths: {\n",
       "                'plotly': ['https://cdn.plot.ly/plotly-2.32.0.min']\n",
       "            }\n",
       "        });\n",
       "        require(['plotly'], function(Plotly) {\n",
       "            window._Plotly = Plotly;\n",
       "        });\n",
       "        }\n",
       "        </script>\n",
       "        "
      ]
     },
     "metadata": {},
     "output_type": "display_data"
    },
    {
     "data": {
      "text/html": [
       "<script src=\"https://cdnjs.cloudflare.com/ajax/libs/mathjax/2.7.1/MathJax.js?config=TeX-MML-AM_SVG\"></script>"
      ],
      "text/plain": [
       "<IPython.core.display.HTML object>"
      ]
     },
     "metadata": {},
     "output_type": "display_data"
    },
    {
     "name": "stdout",
     "output_type": "stream",
     "text": [
      "Initializing tabulator and plotly panel extensions for widgets to work\n"
     ]
    },
    {
     "data": {
      "text/html": [
       "<script type=\"esms-options\">{\"shimMode\": true}</script><style>*[data-root-id],\n",
       "*[data-root-id] > * {\n",
       "  box-sizing: border-box;\n",
       "  font-family: var(--jp-ui-font-family);\n",
       "  font-size: var(--jp-ui-font-size1);\n",
       "  color: var(--vscode-editor-foreground, var(--jp-ui-font-color1));\n",
       "}\n",
       "\n",
       "/* Override VSCode background color */\n",
       ".cell-output-ipywidget-background:has(\n",
       "    > .cell-output-ipywidget-background > .lm-Widget > *[data-root-id]\n",
       "  ),\n",
       ".cell-output-ipywidget-background:has(> .lm-Widget > *[data-root-id]) {\n",
       "  background-color: transparent !important;\n",
       "}\n",
       "</style>"
      ]
     },
     "metadata": {},
     "output_type": "display_data"
    },
    {
     "data": {
      "application/javascript": [
       "(function(root) {\n",
       "  function now() {\n",
       "    return new Date();\n",
       "  }\n",
       "\n",
       "  const force = false;\n",
       "  const py_version = '3.7.3'.replace('rc', '-rc.').replace('.dev', '-dev.');\n",
       "  const reloading = true;\n",
       "  const Bokeh = root.Bokeh;\n",
       "\n",
       "  // Set a timeout for this load but only if we are not already initializing\n",
       "  if (typeof (root._bokeh_timeout) === \"undefined\" || (force || !root._bokeh_is_initializing)) {\n",
       "    root._bokeh_timeout = Date.now() + 5000;\n",
       "    root._bokeh_failed_load = false;\n",
       "  }\n",
       "\n",
       "  function run_callbacks() {\n",
       "    try {\n",
       "      root._bokeh_onload_callbacks.forEach(function(callback) {\n",
       "        if (callback != null)\n",
       "          callback();\n",
       "      });\n",
       "    } finally {\n",
       "      delete root._bokeh_onload_callbacks;\n",
       "    }\n",
       "    console.debug(\"Bokeh: all callbacks have finished\");\n",
       "  }\n",
       "\n",
       "  function load_libs(css_urls, js_urls, js_modules, js_exports, callback) {\n",
       "    if (css_urls == null) css_urls = [];\n",
       "    if (js_urls == null) js_urls = [];\n",
       "    if (js_modules == null) js_modules = [];\n",
       "    if (js_exports == null) js_exports = {};\n",
       "\n",
       "    root._bokeh_onload_callbacks.push(callback);\n",
       "\n",
       "    if (root._bokeh_is_loading > 0) {\n",
       "      // Don't load bokeh if it is still initializing\n",
       "      console.debug(\"Bokeh: BokehJS is being loaded, scheduling callback at\", now());\n",
       "      return null;\n",
       "    } else if (js_urls.length === 0 && js_modules.length === 0 && Object.keys(js_exports).length === 0) {\n",
       "      // There is nothing to load\n",
       "      run_callbacks();\n",
       "      return null;\n",
       "    }\n",
       "\n",
       "    function on_load() {\n",
       "      root._bokeh_is_loading--;\n",
       "      if (root._bokeh_is_loading === 0) {\n",
       "        console.debug(\"Bokeh: all BokehJS libraries/stylesheets loaded\");\n",
       "        run_callbacks()\n",
       "      }\n",
       "    }\n",
       "    window._bokeh_on_load = on_load\n",
       "\n",
       "    function on_error(e) {\n",
       "      const src_el = e.srcElement\n",
       "      console.error(\"failed to load \" + (src_el.href || src_el.src));\n",
       "    }\n",
       "\n",
       "    const skip = [];\n",
       "    if (window.requirejs) {\n",
       "      window.requirejs.config({'packages': {}, 'paths': {'tabulator': 'https://cdn.jsdelivr.net/npm/tabulator-tables@6.3.1/dist/js/tabulator.min', 'moment': 'https://cdn.jsdelivr.net/npm/luxon/build/global/luxon.min', 'plotly': 'https://cdn.plot.ly/plotly-3.0.1.min'}, 'shim': {}});\n",
       "      require([\"tabulator\"], function(Tabulator) {\n",
       "        window.Tabulator = Tabulator\n",
       "        on_load()\n",
       "      })\n",
       "      require([\"moment\"], function(moment) {\n",
       "        window.moment = moment\n",
       "        on_load()\n",
       "      })\n",
       "      require([\"plotly\"], function(Plotly) {\n",
       "        window.Plotly = Plotly\n",
       "        on_load()\n",
       "      })\n",
       "      root._bokeh_is_loading = css_urls.length + 3;\n",
       "    } else {\n",
       "      root._bokeh_is_loading = css_urls.length + js_urls.length + js_modules.length + Object.keys(js_exports).length;\n",
       "    }\n",
       "\n",
       "    const existing_stylesheets = []\n",
       "    const links = document.getElementsByTagName('link')\n",
       "    for (let i = 0; i < links.length; i++) {\n",
       "      const link = links[i]\n",
       "      if (link.href != null) {\n",
       "        existing_stylesheets.push(link.href)\n",
       "      }\n",
       "    }\n",
       "    for (let i = 0; i < css_urls.length; i++) {\n",
       "      const url = css_urls[i];\n",
       "      const escaped = encodeURI(url)\n",
       "      if (existing_stylesheets.indexOf(escaped) !== -1) {\n",
       "        on_load()\n",
       "        continue;\n",
       "      }\n",
       "      const element = document.createElement(\"link\");\n",
       "      element.onload = on_load;\n",
       "      element.onerror = on_error;\n",
       "      element.rel = \"stylesheet\";\n",
       "      element.type = \"text/css\";\n",
       "      element.href = url;\n",
       "      console.debug(\"Bokeh: injecting link tag for BokehJS stylesheet: \", url);\n",
       "      document.body.appendChild(element);\n",
       "    }    if (((window.Tabulator !== undefined) && (!(window.Tabulator instanceof HTMLElement))) || window.requirejs) {\n",
       "      var urls = ['https://cdn.holoviz.org/panel/1.7.1/dist/bundled/datatabulator/tabulator-tables@6.3.1/dist/js/tabulator.min.js'];\n",
       "      for (var i = 0; i < urls.length; i++) {\n",
       "        skip.push(encodeURI(urls[i]))\n",
       "      }\n",
       "    }    if (((window.moment !== undefined) && (!(window.moment instanceof HTMLElement))) || window.requirejs) {\n",
       "      var urls = ['https://cdn.holoviz.org/panel/1.7.1/dist/bundled/datatabulator/luxon/build/global/luxon.min.js'];\n",
       "      for (var i = 0; i < urls.length; i++) {\n",
       "        skip.push(encodeURI(urls[i]))\n",
       "      }\n",
       "    }    if (((window.Plotly !== undefined) && (!(window.Plotly instanceof HTMLElement))) || window.requirejs) {\n",
       "      var urls = [];\n",
       "      for (var i = 0; i < urls.length; i++) {\n",
       "        skip.push(encodeURI(urls[i]))\n",
       "      }\n",
       "    }    var existing_scripts = []\n",
       "    const scripts = document.getElementsByTagName('script')\n",
       "    for (let i = 0; i < scripts.length; i++) {\n",
       "      var script = scripts[i]\n",
       "      if (script.src != null) {\n",
       "        existing_scripts.push(script.src)\n",
       "      }\n",
       "    }\n",
       "    for (let i = 0; i < js_urls.length; i++) {\n",
       "      const url = js_urls[i];\n",
       "      const escaped = encodeURI(url)\n",
       "      if (skip.indexOf(escaped) !== -1 || existing_scripts.indexOf(escaped) !== -1) {\n",
       "        if (!window.requirejs) {\n",
       "          on_load();\n",
       "        }\n",
       "        continue;\n",
       "      }\n",
       "      const element = document.createElement('script');\n",
       "      element.onload = on_load;\n",
       "      element.onerror = on_error;\n",
       "      element.async = false;\n",
       "      element.src = url;\n",
       "      console.debug(\"Bokeh: injecting script tag for BokehJS library: \", url);\n",
       "      document.head.appendChild(element);\n",
       "    }\n",
       "    for (let i = 0; i < js_modules.length; i++) {\n",
       "      const url = js_modules[i];\n",
       "      const escaped = encodeURI(url)\n",
       "      if (skip.indexOf(escaped) !== -1 || existing_scripts.indexOf(escaped) !== -1) {\n",
       "        if (!window.requirejs) {\n",
       "          on_load();\n",
       "        }\n",
       "        continue;\n",
       "      }\n",
       "      var element = document.createElement('script');\n",
       "      element.onload = on_load;\n",
       "      element.onerror = on_error;\n",
       "      element.async = false;\n",
       "      element.src = url;\n",
       "      element.type = \"module\";\n",
       "      console.debug(\"Bokeh: injecting script tag for BokehJS library: \", url);\n",
       "      document.head.appendChild(element);\n",
       "    }\n",
       "    for (const name in js_exports) {\n",
       "      const url = js_exports[name];\n",
       "      const escaped = encodeURI(url)\n",
       "      if (skip.indexOf(escaped) >= 0 || root[name] != null) {\n",
       "        if (!window.requirejs) {\n",
       "          on_load();\n",
       "        }\n",
       "        continue;\n",
       "      }\n",
       "      var element = document.createElement('script');\n",
       "      element.onerror = on_error;\n",
       "      element.async = false;\n",
       "      element.type = \"module\";\n",
       "      console.debug(\"Bokeh: injecting script tag for BokehJS library: \", url);\n",
       "      element.textContent = `\n",
       "      import ${name} from \"${url}\"\n",
       "      window.${name} = ${name}\n",
       "      window._bokeh_on_load()\n",
       "      `\n",
       "      document.head.appendChild(element);\n",
       "    }\n",
       "    if (!js_urls.length && !js_modules.length) {\n",
       "      on_load()\n",
       "    }\n",
       "  };\n",
       "\n",
       "  function inject_raw_css(css) {\n",
       "    const element = document.createElement(\"style\");\n",
       "    element.appendChild(document.createTextNode(css));\n",
       "    document.body.appendChild(element);\n",
       "  }\n",
       "\n",
       "  const js_urls = [\"https://cdn.holoviz.org/panel/1.7.1/dist/bundled/reactiveesm/es-module-shims@^1.10.0/dist/es-module-shims.min.js\", \"https://cdn.holoviz.org/panel/1.7.1/dist/bundled/plotlyplot/plotly-3.0.1.min.js\", \"https://cdn.holoviz.org/panel/1.7.1/dist/bundled/datatabulator/tabulator-tables@6.3.1/dist/js/tabulator.min.js\", \"https://cdn.holoviz.org/panel/1.7.1/dist/bundled/datatabulator/luxon/build/global/luxon.min.js\"];\n",
       "  const js_modules = [];\n",
       "  const js_exports = {};\n",
       "  const css_urls = [\"https://cdn.holoviz.org/panel/1.7.1/dist/bundled/plotlyplot/maplibre-gl@4.4.1/dist/maplibre-gl.css?v=1.7.1\", \"https://cdn.holoviz.org/panel/1.7.1/dist/bundled/datatabulator/tabulator-tables@6.3.1/dist/css/tabulator_simple.min.css?v=1.7.1\", \"https://cdn.holoviz.org/panel/1.7.1/dist/bundled/font-awesome/css/all.min.css\"];\n",
       "  const inline_js = [    function(Bokeh) {\n",
       "      Bokeh.set_log_level(\"info\");\n",
       "    },\n",
       "function(Bokeh) {} // ensure no trailing comma for IE\n",
       "  ];\n",
       "\n",
       "  function run_inline_js() {\n",
       "    if ((root.Bokeh !== undefined) || (force === true)) {\n",
       "      for (let i = 0; i < inline_js.length; i++) {\n",
       "        try {\n",
       "          inline_js[i].call(root, root.Bokeh);\n",
       "        } catch(e) {\n",
       "          if (!reloading) {\n",
       "            throw e;\n",
       "          }\n",
       "        }\n",
       "      }\n",
       "      // Cache old bokeh versions\n",
       "      if (Bokeh != undefined && !reloading) {\n",
       "        var NewBokeh = root.Bokeh;\n",
       "        if (Bokeh.versions === undefined) {\n",
       "          Bokeh.versions = new Map();\n",
       "        }\n",
       "        if (NewBokeh.version !== Bokeh.version) {\n",
       "          Bokeh.versions.set(NewBokeh.version, NewBokeh)\n",
       "        }\n",
       "        root.Bokeh = Bokeh;\n",
       "      }\n",
       "    } else if (Date.now() < root._bokeh_timeout) {\n",
       "      setTimeout(run_inline_js, 100);\n",
       "    } else if (!root._bokeh_failed_load) {\n",
       "      console.log(\"Bokeh: BokehJS failed to load within specified timeout.\");\n",
       "      root._bokeh_failed_load = true;\n",
       "    }\n",
       "    root._bokeh_is_initializing = false\n",
       "  }\n",
       "\n",
       "  function load_or_wait() {\n",
       "    // Implement a backoff loop that tries to ensure we do not load multiple\n",
       "    // versions of Bokeh and its dependencies at the same time.\n",
       "    // In recent versions we use the root._bokeh_is_initializing flag\n",
       "    // to determine whether there is an ongoing attempt to initialize\n",
       "    // bokeh, however for backward compatibility we also try to ensure\n",
       "    // that we do not start loading a newer (Panel>=1.0 and Bokeh>3) version\n",
       "    // before older versions are fully initialized.\n",
       "    if (root._bokeh_is_initializing && Date.now() > root._bokeh_timeout) {\n",
       "      // If the timeout and bokeh was not successfully loaded we reset\n",
       "      // everything and try loading again\n",
       "      root._bokeh_timeout = Date.now() + 5000;\n",
       "      root._bokeh_is_initializing = false;\n",
       "      root._bokeh_onload_callbacks = undefined;\n",
       "      root._bokeh_is_loading = 0\n",
       "      console.log(\"Bokeh: BokehJS was loaded multiple times but one version failed to initialize.\");\n",
       "      load_or_wait();\n",
       "    } else if (root._bokeh_is_initializing || (typeof root._bokeh_is_initializing === \"undefined\" && root._bokeh_onload_callbacks !== undefined)) {\n",
       "      setTimeout(load_or_wait, 100);\n",
       "    } else {\n",
       "      root._bokeh_is_initializing = true\n",
       "      root._bokeh_onload_callbacks = []\n",
       "      const bokeh_loaded = root.Bokeh != null && (root.Bokeh.version === py_version || (root.Bokeh.versions !== undefined && root.Bokeh.versions.has(py_version)));\n",
       "      if (!reloading && !bokeh_loaded) {\n",
       "        if (root.Bokeh) {\n",
       "          root.Bokeh = undefined;\n",
       "        }\n",
       "        console.debug(\"Bokeh: BokehJS not loaded, scheduling load and callback at\", now());\n",
       "      }\n",
       "      load_libs(css_urls, js_urls, js_modules, js_exports, function() {\n",
       "        console.debug(\"Bokeh: BokehJS plotting callback run at\", now());\n",
       "        run_inline_js();\n",
       "      });\n",
       "    }\n",
       "  }\n",
       "  // Give older versions of the autoload script a head-start to ensure\n",
       "  // they initialize before we start loading newer version.\n",
       "  setTimeout(load_or_wait, 100)\n",
       "}(window));"
      ],
      "application/vnd.holoviews_load.v0+json": "(function(root) {\n  function now() {\n    return new Date();\n  }\n\n  const force = false;\n  const py_version = '3.7.3'.replace('rc', '-rc.').replace('.dev', '-dev.');\n  const reloading = true;\n  const Bokeh = root.Bokeh;\n\n  // Set a timeout for this load but only if we are not already initializing\n  if (typeof (root._bokeh_timeout) === \"undefined\" || (force || !root._bokeh_is_initializing)) {\n    root._bokeh_timeout = Date.now() + 5000;\n    root._bokeh_failed_load = false;\n  }\n\n  function run_callbacks() {\n    try {\n      root._bokeh_onload_callbacks.forEach(function(callback) {\n        if (callback != null)\n          callback();\n      });\n    } finally {\n      delete root._bokeh_onload_callbacks;\n    }\n    console.debug(\"Bokeh: all callbacks have finished\");\n  }\n\n  function load_libs(css_urls, js_urls, js_modules, js_exports, callback) {\n    if (css_urls == null) css_urls = [];\n    if (js_urls == null) js_urls = [];\n    if (js_modules == null) js_modules = [];\n    if (js_exports == null) js_exports = {};\n\n    root._bokeh_onload_callbacks.push(callback);\n\n    if (root._bokeh_is_loading > 0) {\n      // Don't load bokeh if it is still initializing\n      console.debug(\"Bokeh: BokehJS is being loaded, scheduling callback at\", now());\n      return null;\n    } else if (js_urls.length === 0 && js_modules.length === 0 && Object.keys(js_exports).length === 0) {\n      // There is nothing to load\n      run_callbacks();\n      return null;\n    }\n\n    function on_load() {\n      root._bokeh_is_loading--;\n      if (root._bokeh_is_loading === 0) {\n        console.debug(\"Bokeh: all BokehJS libraries/stylesheets loaded\");\n        run_callbacks()\n      }\n    }\n    window._bokeh_on_load = on_load\n\n    function on_error(e) {\n      const src_el = e.srcElement\n      console.error(\"failed to load \" + (src_el.href || src_el.src));\n    }\n\n    const skip = [];\n    if (window.requirejs) {\n      window.requirejs.config({'packages': {}, 'paths': {'tabulator': 'https://cdn.jsdelivr.net/npm/tabulator-tables@6.3.1/dist/js/tabulator.min', 'moment': 'https://cdn.jsdelivr.net/npm/luxon/build/global/luxon.min', 'plotly': 'https://cdn.plot.ly/plotly-3.0.1.min'}, 'shim': {}});\n      require([\"tabulator\"], function(Tabulator) {\n        window.Tabulator = Tabulator\n        on_load()\n      })\n      require([\"moment\"], function(moment) {\n        window.moment = moment\n        on_load()\n      })\n      require([\"plotly\"], function(Plotly) {\n        window.Plotly = Plotly\n        on_load()\n      })\n      root._bokeh_is_loading = css_urls.length + 3;\n    } else {\n      root._bokeh_is_loading = css_urls.length + js_urls.length + js_modules.length + Object.keys(js_exports).length;\n    }\n\n    const existing_stylesheets = []\n    const links = document.getElementsByTagName('link')\n    for (let i = 0; i < links.length; i++) {\n      const link = links[i]\n      if (link.href != null) {\n        existing_stylesheets.push(link.href)\n      }\n    }\n    for (let i = 0; i < css_urls.length; i++) {\n      const url = css_urls[i];\n      const escaped = encodeURI(url)\n      if (existing_stylesheets.indexOf(escaped) !== -1) {\n        on_load()\n        continue;\n      }\n      const element = document.createElement(\"link\");\n      element.onload = on_load;\n      element.onerror = on_error;\n      element.rel = \"stylesheet\";\n      element.type = \"text/css\";\n      element.href = url;\n      console.debug(\"Bokeh: injecting link tag for BokehJS stylesheet: \", url);\n      document.body.appendChild(element);\n    }    if (((window.Tabulator !== undefined) && (!(window.Tabulator instanceof HTMLElement))) || window.requirejs) {\n      var urls = ['https://cdn.holoviz.org/panel/1.7.1/dist/bundled/datatabulator/tabulator-tables@6.3.1/dist/js/tabulator.min.js'];\n      for (var i = 0; i < urls.length; i++) {\n        skip.push(encodeURI(urls[i]))\n      }\n    }    if (((window.moment !== undefined) && (!(window.moment instanceof HTMLElement))) || window.requirejs) {\n      var urls = ['https://cdn.holoviz.org/panel/1.7.1/dist/bundled/datatabulator/luxon/build/global/luxon.min.js'];\n      for (var i = 0; i < urls.length; i++) {\n        skip.push(encodeURI(urls[i]))\n      }\n    }    if (((window.Plotly !== undefined) && (!(window.Plotly instanceof HTMLElement))) || window.requirejs) {\n      var urls = [];\n      for (var i = 0; i < urls.length; i++) {\n        skip.push(encodeURI(urls[i]))\n      }\n    }    var existing_scripts = []\n    const scripts = document.getElementsByTagName('script')\n    for (let i = 0; i < scripts.length; i++) {\n      var script = scripts[i]\n      if (script.src != null) {\n        existing_scripts.push(script.src)\n      }\n    }\n    for (let i = 0; i < js_urls.length; i++) {\n      const url = js_urls[i];\n      const escaped = encodeURI(url)\n      if (skip.indexOf(escaped) !== -1 || existing_scripts.indexOf(escaped) !== -1) {\n        if (!window.requirejs) {\n          on_load();\n        }\n        continue;\n      }\n      const element = document.createElement('script');\n      element.onload = on_load;\n      element.onerror = on_error;\n      element.async = false;\n      element.src = url;\n      console.debug(\"Bokeh: injecting script tag for BokehJS library: \", url);\n      document.head.appendChild(element);\n    }\n    for (let i = 0; i < js_modules.length; i++) {\n      const url = js_modules[i];\n      const escaped = encodeURI(url)\n      if (skip.indexOf(escaped) !== -1 || existing_scripts.indexOf(escaped) !== -1) {\n        if (!window.requirejs) {\n          on_load();\n        }\n        continue;\n      }\n      var element = document.createElement('script');\n      element.onload = on_load;\n      element.onerror = on_error;\n      element.async = false;\n      element.src = url;\n      element.type = \"module\";\n      console.debug(\"Bokeh: injecting script tag for BokehJS library: \", url);\n      document.head.appendChild(element);\n    }\n    for (const name in js_exports) {\n      const url = js_exports[name];\n      const escaped = encodeURI(url)\n      if (skip.indexOf(escaped) >= 0 || root[name] != null) {\n        if (!window.requirejs) {\n          on_load();\n        }\n        continue;\n      }\n      var element = document.createElement('script');\n      element.onerror = on_error;\n      element.async = false;\n      element.type = \"module\";\n      console.debug(\"Bokeh: injecting script tag for BokehJS library: \", url);\n      element.textContent = `\n      import ${name} from \"${url}\"\n      window.${name} = ${name}\n      window._bokeh_on_load()\n      `\n      document.head.appendChild(element);\n    }\n    if (!js_urls.length && !js_modules.length) {\n      on_load()\n    }\n  };\n\n  function inject_raw_css(css) {\n    const element = document.createElement(\"style\");\n    element.appendChild(document.createTextNode(css));\n    document.body.appendChild(element);\n  }\n\n  const js_urls = [\"https://cdn.holoviz.org/panel/1.7.1/dist/bundled/reactiveesm/es-module-shims@^1.10.0/dist/es-module-shims.min.js\", \"https://cdn.holoviz.org/panel/1.7.1/dist/bundled/plotlyplot/plotly-3.0.1.min.js\", \"https://cdn.holoviz.org/panel/1.7.1/dist/bundled/datatabulator/tabulator-tables@6.3.1/dist/js/tabulator.min.js\", \"https://cdn.holoviz.org/panel/1.7.1/dist/bundled/datatabulator/luxon/build/global/luxon.min.js\"];\n  const js_modules = [];\n  const js_exports = {};\n  const css_urls = [\"https://cdn.holoviz.org/panel/1.7.1/dist/bundled/plotlyplot/maplibre-gl@4.4.1/dist/maplibre-gl.css?v=1.7.1\", \"https://cdn.holoviz.org/panel/1.7.1/dist/bundled/datatabulator/tabulator-tables@6.3.1/dist/css/tabulator_simple.min.css?v=1.7.1\", \"https://cdn.holoviz.org/panel/1.7.1/dist/bundled/font-awesome/css/all.min.css\"];\n  const inline_js = [    function(Bokeh) {\n      Bokeh.set_log_level(\"info\");\n    },\nfunction(Bokeh) {} // ensure no trailing comma for IE\n  ];\n\n  function run_inline_js() {\n    if ((root.Bokeh !== undefined) || (force === true)) {\n      for (let i = 0; i < inline_js.length; i++) {\n        try {\n          inline_js[i].call(root, root.Bokeh);\n        } catch(e) {\n          if (!reloading) {\n            throw e;\n          }\n        }\n      }\n      // Cache old bokeh versions\n      if (Bokeh != undefined && !reloading) {\n        var NewBokeh = root.Bokeh;\n        if (Bokeh.versions === undefined) {\n          Bokeh.versions = new Map();\n        }\n        if (NewBokeh.version !== Bokeh.version) {\n          Bokeh.versions.set(NewBokeh.version, NewBokeh)\n        }\n        root.Bokeh = Bokeh;\n      }\n    } else if (Date.now() < root._bokeh_timeout) {\n      setTimeout(run_inline_js, 100);\n    } else if (!root._bokeh_failed_load) {\n      console.log(\"Bokeh: BokehJS failed to load within specified timeout.\");\n      root._bokeh_failed_load = true;\n    }\n    root._bokeh_is_initializing = false\n  }\n\n  function load_or_wait() {\n    // Implement a backoff loop that tries to ensure we do not load multiple\n    // versions of Bokeh and its dependencies at the same time.\n    // In recent versions we use the root._bokeh_is_initializing flag\n    // to determine whether there is an ongoing attempt to initialize\n    // bokeh, however for backward compatibility we also try to ensure\n    // that we do not start loading a newer (Panel>=1.0 and Bokeh>3) version\n    // before older versions are fully initialized.\n    if (root._bokeh_is_initializing && Date.now() > root._bokeh_timeout) {\n      // If the timeout and bokeh was not successfully loaded we reset\n      // everything and try loading again\n      root._bokeh_timeout = Date.now() + 5000;\n      root._bokeh_is_initializing = false;\n      root._bokeh_onload_callbacks = undefined;\n      root._bokeh_is_loading = 0\n      console.log(\"Bokeh: BokehJS was loaded multiple times but one version failed to initialize.\");\n      load_or_wait();\n    } else if (root._bokeh_is_initializing || (typeof root._bokeh_is_initializing === \"undefined\" && root._bokeh_onload_callbacks !== undefined)) {\n      setTimeout(load_or_wait, 100);\n    } else {\n      root._bokeh_is_initializing = true\n      root._bokeh_onload_callbacks = []\n      const bokeh_loaded = root.Bokeh != null && (root.Bokeh.version === py_version || (root.Bokeh.versions !== undefined && root.Bokeh.versions.has(py_version)));\n      if (!reloading && !bokeh_loaded) {\n        if (root.Bokeh) {\n          root.Bokeh = undefined;\n        }\n        console.debug(\"Bokeh: BokehJS not loaded, scheduling load and callback at\", now());\n      }\n      load_libs(css_urls, js_urls, js_modules, js_exports, function() {\n        console.debug(\"Bokeh: BokehJS plotting callback run at\", now());\n        run_inline_js();\n      });\n    }\n  }\n  // Give older versions of the autoload script a head-start to ensure\n  // they initialize before we start loading newer version.\n  setTimeout(load_or_wait, 100)\n}(window));"
     },
     "metadata": {},
     "output_type": "display_data"
    },
    {
     "data": {
      "application/javascript": [
       "\n",
       "if ((window.PyViz === undefined) || (window.PyViz instanceof HTMLElement)) {\n",
       "  window.PyViz = {comms: {}, comm_status:{}, kernels:{}, receivers: {}, plot_index: []}\n",
       "}\n",
       "\n",
       "\n",
       "    function JupyterCommManager() {\n",
       "    }\n",
       "\n",
       "    JupyterCommManager.prototype.register_target = function(plot_id, comm_id, msg_handler) {\n",
       "      if (window.comm_manager || ((window.Jupyter !== undefined) && (Jupyter.notebook.kernel != null))) {\n",
       "        var comm_manager = window.comm_manager || Jupyter.notebook.kernel.comm_manager;\n",
       "        comm_manager.register_target(comm_id, function(comm) {\n",
       "          comm.on_msg(msg_handler);\n",
       "        });\n",
       "      } else if ((plot_id in window.PyViz.kernels) && (window.PyViz.kernels[plot_id])) {\n",
       "        window.PyViz.kernels[plot_id].registerCommTarget(comm_id, function(comm) {\n",
       "          comm.onMsg = msg_handler;\n",
       "        });\n",
       "      } else if (typeof google != 'undefined' && google.colab.kernel != null) {\n",
       "        google.colab.kernel.comms.registerTarget(comm_id, (comm) => {\n",
       "          var messages = comm.messages[Symbol.asyncIterator]();\n",
       "          function processIteratorResult(result) {\n",
       "            var message = result.value;\n",
       "            console.log(message)\n",
       "            var content = {data: message.data, comm_id};\n",
       "            var buffers = []\n",
       "            for (var buffer of message.buffers || []) {\n",
       "              buffers.push(new DataView(buffer))\n",
       "            }\n",
       "            var metadata = message.metadata || {};\n",
       "            var msg = {content, buffers, metadata}\n",
       "            msg_handler(msg);\n",
       "            return messages.next().then(processIteratorResult);\n",
       "          }\n",
       "          return messages.next().then(processIteratorResult);\n",
       "        })\n",
       "      }\n",
       "    }\n",
       "\n",
       "    JupyterCommManager.prototype.get_client_comm = function(plot_id, comm_id, msg_handler) {\n",
       "      if (comm_id in window.PyViz.comms) {\n",
       "        return window.PyViz.comms[comm_id];\n",
       "      } else if (window.comm_manager || ((window.Jupyter !== undefined) && (Jupyter.notebook.kernel != null))) {\n",
       "        var comm_manager = window.comm_manager || Jupyter.notebook.kernel.comm_manager;\n",
       "        var comm = comm_manager.new_comm(comm_id, {}, {}, {}, comm_id);\n",
       "        if (msg_handler) {\n",
       "          comm.on_msg(msg_handler);\n",
       "        }\n",
       "      } else if ((plot_id in window.PyViz.kernels) && (window.PyViz.kernels[plot_id])) {\n",
       "        var comm = window.PyViz.kernels[plot_id].connectToComm(comm_id);\n",
       "        comm.open();\n",
       "        if (msg_handler) {\n",
       "          comm.onMsg = msg_handler;\n",
       "        }\n",
       "      } else if (typeof google != 'undefined' && google.colab.kernel != null) {\n",
       "        var comm_promise = google.colab.kernel.comms.open(comm_id)\n",
       "        comm_promise.then((comm) => {\n",
       "          window.PyViz.comms[comm_id] = comm;\n",
       "          if (msg_handler) {\n",
       "            var messages = comm.messages[Symbol.asyncIterator]();\n",
       "            function processIteratorResult(result) {\n",
       "              var message = result.value;\n",
       "              var content = {data: message.data};\n",
       "              var metadata = message.metadata || {comm_id};\n",
       "              var msg = {content, metadata}\n",
       "              msg_handler(msg);\n",
       "              return messages.next().then(processIteratorResult);\n",
       "            }\n",
       "            return messages.next().then(processIteratorResult);\n",
       "          }\n",
       "        })\n",
       "        var sendClosure = (data, metadata, buffers, disposeOnDone) => {\n",
       "          return comm_promise.then((comm) => {\n",
       "            comm.send(data, metadata, buffers, disposeOnDone);\n",
       "          });\n",
       "        };\n",
       "        var comm = {\n",
       "          send: sendClosure\n",
       "        };\n",
       "      }\n",
       "      window.PyViz.comms[comm_id] = comm;\n",
       "      return comm;\n",
       "    }\n",
       "    window.PyViz.comm_manager = new JupyterCommManager();\n",
       "    \n",
       "\n",
       "\n",
       "var JS_MIME_TYPE = 'application/javascript';\n",
       "var HTML_MIME_TYPE = 'text/html';\n",
       "var EXEC_MIME_TYPE = 'application/vnd.holoviews_exec.v0+json';\n",
       "var CLASS_NAME = 'output';\n",
       "\n",
       "/**\n",
       " * Render data to the DOM node\n",
       " */\n",
       "function render(props, node) {\n",
       "  var div = document.createElement(\"div\");\n",
       "  var script = document.createElement(\"script\");\n",
       "  node.appendChild(div);\n",
       "  node.appendChild(script);\n",
       "}\n",
       "\n",
       "/**\n",
       " * Handle when a new output is added\n",
       " */\n",
       "function handle_add_output(event, handle) {\n",
       "  var output_area = handle.output_area;\n",
       "  var output = handle.output;\n",
       "  if ((output.data == undefined) || (!output.data.hasOwnProperty(EXEC_MIME_TYPE))) {\n",
       "    return\n",
       "  }\n",
       "  var id = output.metadata[EXEC_MIME_TYPE][\"id\"];\n",
       "  var toinsert = output_area.element.find(\".\" + CLASS_NAME.split(' ')[0]);\n",
       "  if (id !== undefined) {\n",
       "    var nchildren = toinsert.length;\n",
       "    var html_node = toinsert[nchildren-1].children[0];\n",
       "    html_node.innerHTML = output.data[HTML_MIME_TYPE];\n",
       "    var scripts = [];\n",
       "    var nodelist = html_node.querySelectorAll(\"script\");\n",
       "    for (var i in nodelist) {\n",
       "      if (nodelist.hasOwnProperty(i)) {\n",
       "        scripts.push(nodelist[i])\n",
       "      }\n",
       "    }\n",
       "\n",
       "    scripts.forEach( function (oldScript) {\n",
       "      var newScript = document.createElement(\"script\");\n",
       "      var attrs = [];\n",
       "      var nodemap = oldScript.attributes;\n",
       "      for (var j in nodemap) {\n",
       "        if (nodemap.hasOwnProperty(j)) {\n",
       "          attrs.push(nodemap[j])\n",
       "        }\n",
       "      }\n",
       "      attrs.forEach(function(attr) { newScript.setAttribute(attr.name, attr.value) });\n",
       "      newScript.appendChild(document.createTextNode(oldScript.innerHTML));\n",
       "      oldScript.parentNode.replaceChild(newScript, oldScript);\n",
       "    });\n",
       "    if (JS_MIME_TYPE in output.data) {\n",
       "      toinsert[nchildren-1].children[1].textContent = output.data[JS_MIME_TYPE];\n",
       "    }\n",
       "    output_area._hv_plot_id = id;\n",
       "    if ((window.Bokeh !== undefined) && (id in Bokeh.index)) {\n",
       "      window.PyViz.plot_index[id] = Bokeh.index[id];\n",
       "    } else {\n",
       "      window.PyViz.plot_index[id] = null;\n",
       "    }\n",
       "  } else if (output.metadata[EXEC_MIME_TYPE][\"server_id\"] !== undefined) {\n",
       "    var bk_div = document.createElement(\"div\");\n",
       "    bk_div.innerHTML = output.data[HTML_MIME_TYPE];\n",
       "    var script_attrs = bk_div.children[0].attributes;\n",
       "    for (var i = 0; i < script_attrs.length; i++) {\n",
       "      toinsert[toinsert.length - 1].childNodes[1].setAttribute(script_attrs[i].name, script_attrs[i].value);\n",
       "    }\n",
       "    // store reference to server id on output_area\n",
       "    output_area._bokeh_server_id = output.metadata[EXEC_MIME_TYPE][\"server_id\"];\n",
       "  }\n",
       "}\n",
       "\n",
       "/**\n",
       " * Handle when an output is cleared or removed\n",
       " */\n",
       "function handle_clear_output(event, handle) {\n",
       "  var id = handle.cell.output_area._hv_plot_id;\n",
       "  var server_id = handle.cell.output_area._bokeh_server_id;\n",
       "  if (((id === undefined) || !(id in PyViz.plot_index)) && (server_id !== undefined)) { return; }\n",
       "  var comm = window.PyViz.comm_manager.get_client_comm(\"hv-extension-comm\", \"hv-extension-comm\", function () {});\n",
       "  if (server_id !== null) {\n",
       "    comm.send({event_type: 'server_delete', 'id': server_id});\n",
       "    return;\n",
       "  } else if (comm !== null) {\n",
       "    comm.send({event_type: 'delete', 'id': id});\n",
       "  }\n",
       "  delete PyViz.plot_index[id];\n",
       "  if ((window.Bokeh !== undefined) & (id in window.Bokeh.index)) {\n",
       "    var doc = window.Bokeh.index[id].model.document\n",
       "    doc.clear();\n",
       "    const i = window.Bokeh.documents.indexOf(doc);\n",
       "    if (i > -1) {\n",
       "      window.Bokeh.documents.splice(i, 1);\n",
       "    }\n",
       "  }\n",
       "}\n",
       "\n",
       "/**\n",
       " * Handle kernel restart event\n",
       " */\n",
       "function handle_kernel_cleanup(event, handle) {\n",
       "  delete PyViz.comms[\"hv-extension-comm\"];\n",
       "  window.PyViz.plot_index = {}\n",
       "}\n",
       "\n",
       "/**\n",
       " * Handle update_display_data messages\n",
       " */\n",
       "function handle_update_output(event, handle) {\n",
       "  handle_clear_output(event, {cell: {output_area: handle.output_area}})\n",
       "  handle_add_output(event, handle)\n",
       "}\n",
       "\n",
       "function register_renderer(events, OutputArea) {\n",
       "  function append_mime(data, metadata, element) {\n",
       "    // create a DOM node to render to\n",
       "    var toinsert = this.create_output_subarea(\n",
       "    metadata,\n",
       "    CLASS_NAME,\n",
       "    EXEC_MIME_TYPE\n",
       "    );\n",
       "    this.keyboard_manager.register_events(toinsert);\n",
       "    // Render to node\n",
       "    var props = {data: data, metadata: metadata[EXEC_MIME_TYPE]};\n",
       "    render(props, toinsert[0]);\n",
       "    element.append(toinsert);\n",
       "    return toinsert\n",
       "  }\n",
       "\n",
       "  events.on('output_added.OutputArea', handle_add_output);\n",
       "  events.on('output_updated.OutputArea', handle_update_output);\n",
       "  events.on('clear_output.CodeCell', handle_clear_output);\n",
       "  events.on('delete.Cell', handle_clear_output);\n",
       "  events.on('kernel_ready.Kernel', handle_kernel_cleanup);\n",
       "\n",
       "  OutputArea.prototype.register_mime_type(EXEC_MIME_TYPE, append_mime, {\n",
       "    safe: true,\n",
       "    index: 0\n",
       "  });\n",
       "}\n",
       "\n",
       "if (window.Jupyter !== undefined) {\n",
       "  try {\n",
       "    var events = require('base/js/events');\n",
       "    var OutputArea = require('notebook/js/outputarea').OutputArea;\n",
       "    if (OutputArea.prototype.mime_types().indexOf(EXEC_MIME_TYPE) == -1) {\n",
       "      register_renderer(events, OutputArea);\n",
       "    }\n",
       "  } catch(err) {\n",
       "  }\n",
       "}\n"
      ],
      "application/vnd.holoviews_load.v0+json": "\nif ((window.PyViz === undefined) || (window.PyViz instanceof HTMLElement)) {\n  window.PyViz = {comms: {}, comm_status:{}, kernels:{}, receivers: {}, plot_index: []}\n}\n\n\n    function JupyterCommManager() {\n    }\n\n    JupyterCommManager.prototype.register_target = function(plot_id, comm_id, msg_handler) {\n      if (window.comm_manager || ((window.Jupyter !== undefined) && (Jupyter.notebook.kernel != null))) {\n        var comm_manager = window.comm_manager || Jupyter.notebook.kernel.comm_manager;\n        comm_manager.register_target(comm_id, function(comm) {\n          comm.on_msg(msg_handler);\n        });\n      } else if ((plot_id in window.PyViz.kernels) && (window.PyViz.kernels[plot_id])) {\n        window.PyViz.kernels[plot_id].registerCommTarget(comm_id, function(comm) {\n          comm.onMsg = msg_handler;\n        });\n      } else if (typeof google != 'undefined' && google.colab.kernel != null) {\n        google.colab.kernel.comms.registerTarget(comm_id, (comm) => {\n          var messages = comm.messages[Symbol.asyncIterator]();\n          function processIteratorResult(result) {\n            var message = result.value;\n            console.log(message)\n            var content = {data: message.data, comm_id};\n            var buffers = []\n            for (var buffer of message.buffers || []) {\n              buffers.push(new DataView(buffer))\n            }\n            var metadata = message.metadata || {};\n            var msg = {content, buffers, metadata}\n            msg_handler(msg);\n            return messages.next().then(processIteratorResult);\n          }\n          return messages.next().then(processIteratorResult);\n        })\n      }\n    }\n\n    JupyterCommManager.prototype.get_client_comm = function(plot_id, comm_id, msg_handler) {\n      if (comm_id in window.PyViz.comms) {\n        return window.PyViz.comms[comm_id];\n      } else if (window.comm_manager || ((window.Jupyter !== undefined) && (Jupyter.notebook.kernel != null))) {\n        var comm_manager = window.comm_manager || Jupyter.notebook.kernel.comm_manager;\n        var comm = comm_manager.new_comm(comm_id, {}, {}, {}, comm_id);\n        if (msg_handler) {\n          comm.on_msg(msg_handler);\n        }\n      } else if ((plot_id in window.PyViz.kernels) && (window.PyViz.kernels[plot_id])) {\n        var comm = window.PyViz.kernels[plot_id].connectToComm(comm_id);\n        comm.open();\n        if (msg_handler) {\n          comm.onMsg = msg_handler;\n        }\n      } else if (typeof google != 'undefined' && google.colab.kernel != null) {\n        var comm_promise = google.colab.kernel.comms.open(comm_id)\n        comm_promise.then((comm) => {\n          window.PyViz.comms[comm_id] = comm;\n          if (msg_handler) {\n            var messages = comm.messages[Symbol.asyncIterator]();\n            function processIteratorResult(result) {\n              var message = result.value;\n              var content = {data: message.data};\n              var metadata = message.metadata || {comm_id};\n              var msg = {content, metadata}\n              msg_handler(msg);\n              return messages.next().then(processIteratorResult);\n            }\n            return messages.next().then(processIteratorResult);\n          }\n        })\n        var sendClosure = (data, metadata, buffers, disposeOnDone) => {\n          return comm_promise.then((comm) => {\n            comm.send(data, metadata, buffers, disposeOnDone);\n          });\n        };\n        var comm = {\n          send: sendClosure\n        };\n      }\n      window.PyViz.comms[comm_id] = comm;\n      return comm;\n    }\n    window.PyViz.comm_manager = new JupyterCommManager();\n    \n\n\nvar JS_MIME_TYPE = 'application/javascript';\nvar HTML_MIME_TYPE = 'text/html';\nvar EXEC_MIME_TYPE = 'application/vnd.holoviews_exec.v0+json';\nvar CLASS_NAME = 'output';\n\n/**\n * Render data to the DOM node\n */\nfunction render(props, node) {\n  var div = document.createElement(\"div\");\n  var script = document.createElement(\"script\");\n  node.appendChild(div);\n  node.appendChild(script);\n}\n\n/**\n * Handle when a new output is added\n */\nfunction handle_add_output(event, handle) {\n  var output_area = handle.output_area;\n  var output = handle.output;\n  if ((output.data == undefined) || (!output.data.hasOwnProperty(EXEC_MIME_TYPE))) {\n    return\n  }\n  var id = output.metadata[EXEC_MIME_TYPE][\"id\"];\n  var toinsert = output_area.element.find(\".\" + CLASS_NAME.split(' ')[0]);\n  if (id !== undefined) {\n    var nchildren = toinsert.length;\n    var html_node = toinsert[nchildren-1].children[0];\n    html_node.innerHTML = output.data[HTML_MIME_TYPE];\n    var scripts = [];\n    var nodelist = html_node.querySelectorAll(\"script\");\n    for (var i in nodelist) {\n      if (nodelist.hasOwnProperty(i)) {\n        scripts.push(nodelist[i])\n      }\n    }\n\n    scripts.forEach( function (oldScript) {\n      var newScript = document.createElement(\"script\");\n      var attrs = [];\n      var nodemap = oldScript.attributes;\n      for (var j in nodemap) {\n        if (nodemap.hasOwnProperty(j)) {\n          attrs.push(nodemap[j])\n        }\n      }\n      attrs.forEach(function(attr) { newScript.setAttribute(attr.name, attr.value) });\n      newScript.appendChild(document.createTextNode(oldScript.innerHTML));\n      oldScript.parentNode.replaceChild(newScript, oldScript);\n    });\n    if (JS_MIME_TYPE in output.data) {\n      toinsert[nchildren-1].children[1].textContent = output.data[JS_MIME_TYPE];\n    }\n    output_area._hv_plot_id = id;\n    if ((window.Bokeh !== undefined) && (id in Bokeh.index)) {\n      window.PyViz.plot_index[id] = Bokeh.index[id];\n    } else {\n      window.PyViz.plot_index[id] = null;\n    }\n  } else if (output.metadata[EXEC_MIME_TYPE][\"server_id\"] !== undefined) {\n    var bk_div = document.createElement(\"div\");\n    bk_div.innerHTML = output.data[HTML_MIME_TYPE];\n    var script_attrs = bk_div.children[0].attributes;\n    for (var i = 0; i < script_attrs.length; i++) {\n      toinsert[toinsert.length - 1].childNodes[1].setAttribute(script_attrs[i].name, script_attrs[i].value);\n    }\n    // store reference to server id on output_area\n    output_area._bokeh_server_id = output.metadata[EXEC_MIME_TYPE][\"server_id\"];\n  }\n}\n\n/**\n * Handle when an output is cleared or removed\n */\nfunction handle_clear_output(event, handle) {\n  var id = handle.cell.output_area._hv_plot_id;\n  var server_id = handle.cell.output_area._bokeh_server_id;\n  if (((id === undefined) || !(id in PyViz.plot_index)) && (server_id !== undefined)) { return; }\n  var comm = window.PyViz.comm_manager.get_client_comm(\"hv-extension-comm\", \"hv-extension-comm\", function () {});\n  if (server_id !== null) {\n    comm.send({event_type: 'server_delete', 'id': server_id});\n    return;\n  } else if (comm !== null) {\n    comm.send({event_type: 'delete', 'id': id});\n  }\n  delete PyViz.plot_index[id];\n  if ((window.Bokeh !== undefined) & (id in window.Bokeh.index)) {\n    var doc = window.Bokeh.index[id].model.document\n    doc.clear();\n    const i = window.Bokeh.documents.indexOf(doc);\n    if (i > -1) {\n      window.Bokeh.documents.splice(i, 1);\n    }\n  }\n}\n\n/**\n * Handle kernel restart event\n */\nfunction handle_kernel_cleanup(event, handle) {\n  delete PyViz.comms[\"hv-extension-comm\"];\n  window.PyViz.plot_index = {}\n}\n\n/**\n * Handle update_display_data messages\n */\nfunction handle_update_output(event, handle) {\n  handle_clear_output(event, {cell: {output_area: handle.output_area}})\n  handle_add_output(event, handle)\n}\n\nfunction register_renderer(events, OutputArea) {\n  function append_mime(data, metadata, element) {\n    // create a DOM node to render to\n    var toinsert = this.create_output_subarea(\n    metadata,\n    CLASS_NAME,\n    EXEC_MIME_TYPE\n    );\n    this.keyboard_manager.register_events(toinsert);\n    // Render to node\n    var props = {data: data, metadata: metadata[EXEC_MIME_TYPE]};\n    render(props, toinsert[0]);\n    element.append(toinsert);\n    return toinsert\n  }\n\n  events.on('output_added.OutputArea', handle_add_output);\n  events.on('output_updated.OutputArea', handle_update_output);\n  events.on('clear_output.CodeCell', handle_clear_output);\n  events.on('delete.Cell', handle_clear_output);\n  events.on('kernel_ready.Kernel', handle_kernel_cleanup);\n\n  OutputArea.prototype.register_mime_type(EXEC_MIME_TYPE, append_mime, {\n    safe: true,\n    index: 0\n  });\n}\n\nif (window.Jupyter !== undefined) {\n  try {\n    var events = require('base/js/events');\n    var OutputArea = require('notebook/js/outputarea').OutputArea;\n    if (OutputArea.prototype.mime_types().indexOf(EXEC_MIME_TYPE) == -1) {\n      register_renderer(events, OutputArea);\n    }\n  } catch(err) {\n  }\n}\n"
     },
     "metadata": {},
     "output_type": "display_data"
    },
    {
     "data": {},
     "metadata": {},
     "output_type": "display_data"
    },
    {
     "data": {
      "application/vnd.holoviews_exec.v0+json": "",
      "text/html": [
       "<div id='65eed612-b15f-416a-9829-d392f34ed17b'>\n",
       "  <div id=\"fe579cab-ffbb-4fac-8db3-44120aa98168\" data-root-id=\"65eed612-b15f-416a-9829-d392f34ed17b\" style=\"display: contents;\"></div>\n",
       "</div>\n",
       "<script type=\"application/javascript\">(function(root) {\n",
       "  var docs_json = {\"3fc56576-e4a8-4c0a-872b-3e3d7136e7ad\":{\"version\":\"3.7.3\",\"title\":\"Bokeh Application\",\"roots\":[{\"type\":\"object\",\"name\":\"panel.models.markup.HTML\",\"id\":\"65eed612-b15f-416a-9829-d392f34ed17b\",\"attributes\":{\"styles\":{\"type\":\"map\",\"entries\":[[\"border\",\"1px solid #ddd\"],[\"background-color\",\"white\"],[\"overflow-y\",\"auto\"],[\"overflow-x\",\"auto\"],[\"font-family\",\"monospace\"],[\"padding\",\"8px\"],[\"white-space\",\"pre-wrap\"]]},\"stylesheets\":[\"\\n:host(.pn-loading):before, .pn-loading:before {\\n  background-color: #c3c3c3;\\n  mask-size: auto calc(min(50%, 400px));\\n  -webkit-mask-size: auto calc(min(50%, 400px));\\n}\",{\"type\":\"object\",\"name\":\"ImportedStyleSheet\",\"id\":\"1625571b-e728-4fd5-b0c5-0f216c8cced8\",\"attributes\":{\"url\":\"https://cdn.holoviz.org/panel/1.7.1/dist/css/loading.css\"}},{\"type\":\"object\",\"name\":\"ImportedStyleSheet\",\"id\":\"31b8044b-44e3-4523-ae5a-b1d5c7fecd86\",\"attributes\":{\"url\":\"https://cdn.holoviz.org/panel/1.7.1/dist/bundled/font-awesome/css/all.min.css\"}},{\"type\":\"object\",\"name\":\"ImportedStyleSheet\",\"id\":\"d18beb7c-2807-4eac-beb6-5e570eb7ff27\",\"attributes\":{\"url\":\"https://cdn.holoviz.org/panel/1.7.1/dist/bundled/theme/default.css\"}},{\"type\":\"object\",\"name\":\"ImportedStyleSheet\",\"id\":\"fd5ac8d7-c248-48ad-9c41-e97cc628e376\",\"attributes\":{\"url\":\"https://cdn.holoviz.org/panel/1.7.1/dist/bundled/theme/native.css\"}}],\"height\":300,\"min_width\":0,\"margin\":[5,10],\"sizing_mode\":\"stretch_width\",\"align\":\"start\",\"text\":\"&lt;div style=&#x27;margin: 2px 0; padding: 2px 0;&#x27;&gt;&lt;span&gt;tardis.io.model.parse_atom_data&lt;/span&gt; &lt;span style=&quot;color: #D3D3D3; font-weight: bold;&quot;&gt;[INFO]&lt;/span&gt; \\n\\tReading Atomic Data from kurucz_cd23_chianti_H_He_latest.h5 (parse_atom_data.py:40)&lt;/div&gt;&lt;div style=&#x27;margin: 2px 0; padding: 2px 0;&#x27;&gt;&lt;span&gt;tardis.io.atom_data.util&lt;/span&gt; &lt;span style=&quot;color: #D3D3D3; font-weight: bold;&quot;&gt;[INFO]&lt;/span&gt; \\n\\tAtom Data kurucz_cd23_chianti_H_He_latest.h5 not found in local path.\\n\\tExists in TARDIS Data repo /home/runner/Downloads/tardis-data/kurucz_cd23_chianti_H_He_latest.h5 (util.py:33)&lt;/div&gt;&lt;div style=&#x27;margin: 2px 0; padding: 2px 0;&#x27;&gt;&lt;span&gt;tardis.io.atom_data.base&lt;/span&gt; &lt;span style=&quot;color: #D3D3D3; font-weight: bold;&quot;&gt;[INFO]&lt;/span&gt; Reading Atom Data with: UUID = b58b2ef63bf811f08edf96479f911fbd MD5  = 5d80fa4ae0638469bf1ff281b6ca2a94  (base.py:258)&lt;/div&gt;&lt;div style=&#x27;margin: 2px 0; padding: 2px 0;&#x27;&gt;&lt;span&gt;tardis.io.atom_data.base&lt;/span&gt; &lt;span style=&quot;color: #D3D3D3; font-weight: bold;&quot;&gt;[INFO]&lt;/span&gt; Non provided Atomic Data: levels, lines, collision_data, collision_data_temperatures, synpp_refs, photoionization_data, yg_data, two_photon_data, linelist_atoms, linelist_molecules (base.py:262)&lt;/div&gt;&lt;div style=&#x27;margin: 2px 0; padding: 2px 0;&#x27;&gt;&lt;span&gt;tardis.io.model.parse_composition_configuration&lt;/span&gt; &lt;span style=&quot;color: orange; font-weight: bold;&quot;&gt;[WARNING]&lt;/span&gt; Number of density points larger than number of shells. Assuming inner point irrelevant (parse_composition_configuration.py:58)&lt;/div&gt;&lt;div style=&#x27;margin: 2px 0; padding: 2px 0;&#x27;&gt;&lt;span&gt;tardis.io.model.parse_mass_fraction_configuration&lt;/span&gt; &lt;span style=&quot;color: orange; font-weight: bold;&quot;&gt;[WARNING]&lt;/span&gt; model_isotope_time_0 is not set in the configuration. Isotopic mass fractions will not be decayed and is assumed to be correct for the time_explosion. THIS IS NOT RECOMMENDED! (parse_mass_fraction_configuration.py:95)&lt;/div&gt;&lt;div style=&#x27;margin: 2px 0; padding: 2px 0;&#x27;&gt;&lt;span&gt;tardis.simulation.base&lt;/span&gt; &lt;span style=&quot;color: #D3D3D3; font-weight: bold;&quot;&gt;[INFO]&lt;/span&gt; \\n\\tStarting iteration 1 of 20 (base.py:417)&lt;/div&gt;&lt;div style=&#x27;margin: 2px 0; padding: 2px 0;&#x27;&gt;&lt;span&gt;py.warnings&lt;/span&gt; &lt;span style=&quot;color: orange; font-weight: bold;&quot;&gt;[WARNING]&lt;/span&gt; /home/runner/work/tardis/tardis/tardis/transport/montecarlo/montecarlo_main_loop.py:121: NumbaTypeSafetyWarning:\\n\\nunsafe cast from uint64 to int64. Precision may be lost.\\n\\n (warnings.py:110)&lt;/div&gt;&lt;div style=&#x27;margin: 2px 0; padding: 2px 0;&#x27;&gt;&lt;span&gt;tardis.simulation.base&lt;/span&gt; &lt;span style=&quot;color: #D3D3D3; font-weight: bold;&quot;&gt;[INFO]&lt;/span&gt; \\n\\tLuminosity emitted   = 7.942e+42 erg / s\\n\\tLuminosity absorbed  = 2.659e+42 erg / s\\n\\tLuminosity requested = 1.059e+43 erg / s\\n (base.py:609)&lt;/div&gt;&lt;div style=&#x27;margin: 2px 0; padding: 2px 0;&#x27;&gt;&lt;pre style=&quot;white-space: pre; margin: 0;&quot;&gt;Shell No.        t_rad    next_t_rad         w    next_w\\n0          9926.501965  10142.546774  0.400392  0.507139\\n5          9852.611678  10224.137369  0.211205  0.196866\\n10         9779.813302  10151.355363  0.142695  0.116866\\n15         9708.082813   9876.208641  0.104556  0.086846&lt;/pre&gt;&lt;/div&gt;&lt;div style=&#x27;margin: 2px 0; padding: 2px 0;&#x27;&gt;&lt;span&gt;tardis.simulation.base&lt;/span&gt; &lt;span style=&quot;color: #D3D3D3; font-weight: bold;&quot;&gt;[INFO]&lt;/span&gt; \\n\\tCurrent t_inner = 9933.952 K\\n\\tExpected t_inner for next iteration = 10703.327 K\\n (base.py:604)&lt;/div&gt;&lt;div style=&#x27;margin: 2px 0; padding: 2px 0;&#x27;&gt;&lt;span&gt;tardis.simulation.base&lt;/span&gt; &lt;span style=&quot;color: #D3D3D3; font-weight: bold;&quot;&gt;[INFO]&lt;/span&gt; \\n\\tStarting iteration 2 of 20 (base.py:417)&lt;/div&gt;&lt;div style=&#x27;margin: 2px 0; padding: 2px 0;&#x27;&gt;&lt;span&gt;tardis.simulation.base&lt;/span&gt; &lt;span style=&quot;color: #D3D3D3; font-weight: bold;&quot;&gt;[INFO]&lt;/span&gt; \\n\\tLuminosity emitted   = 1.071e+43 erg / s\\n\\tLuminosity absorbed  = 3.577e+42 erg / s\\n\\tLuminosity requested = 1.059e+43 erg / s\\n (base.py:609)&lt;/div&gt;&lt;div style=&#x27;margin: 2px 0; padding: 2px 0;&#x27;&gt;&lt;pre style=&quot;white-space: pre; margin: 0;&quot;&gt;Shell No.         t_rad    next_t_rad         w    next_w\\n0          10142.546774  10823.773343  0.507139  0.524047\\n5          10224.137369  10973.065228  0.196866  0.201655\\n10         10151.355363  10799.893338  0.116866  0.124297\\n15          9876.208641  10501.552075  0.086846  0.092612&lt;/pre&gt;&lt;/div&gt;&lt;div style=&#x27;margin: 2px 0; padding: 2px 0;&#x27;&gt;&lt;span&gt;tardis.simulation.base&lt;/span&gt; &lt;span style=&quot;color: #D3D3D3; font-weight: bold;&quot;&gt;[INFO]&lt;/span&gt; \\n\\tCurrent t_inner = 10703.327 K\\n\\tExpected t_inner for next iteration = 10673.709 K\\n (base.py:604)&lt;/div&gt;&lt;div style=&#x27;margin: 2px 0; padding: 2px 0;&#x27;&gt;&lt;span&gt;tardis.simulation.base&lt;/span&gt; &lt;span style=&quot;color: #D3D3D3; font-weight: bold;&quot;&gt;[INFO]&lt;/span&gt; \\n\\tStarting iteration 3 of 20 (base.py:417)&lt;/div&gt;&lt;div style=&#x27;margin: 2px 0; padding: 2px 0;&#x27;&gt;&lt;span&gt;tardis.simulation.base&lt;/span&gt; &lt;span style=&quot;color: #D3D3D3; font-weight: bold;&quot;&gt;[INFO]&lt;/span&gt; \\n\\tLuminosity emitted   = 1.074e+43 erg / s\\n\\tLuminosity absorbed  = 3.397e+42 erg / s\\n\\tLuminosity requested = 1.059e+43 erg / s\\n (base.py:609)&lt;/div&gt;&lt;div style=&#x27;margin: 2px 0; padding: 2px 0;&#x27;&gt;&lt;span&gt;tardis.simulation.base&lt;/span&gt; &lt;span style=&quot;color: #D3D3D3; font-weight: bold;&quot;&gt;[INFO]&lt;/span&gt; Iteration converged 1/4 consecutive times. (base.py:244)&lt;/div&gt;&lt;div style=&#x27;margin: 2px 0; padding: 2px 0;&#x27;&gt;&lt;pre style=&quot;white-space: pre; margin: 0;&quot;&gt;Shell No.         t_rad    next_t_rad         w    next_w\\n0          10823.773343  10997.936524  0.524047  0.483873\\n5          10973.065228  11155.737123  0.201655  0.190460\\n10         10799.893338  10950.817110  0.124297  0.118169\\n15         10501.552075  10591.191659  0.092612  0.089354&lt;/pre&gt;&lt;/div&gt;&lt;div style=&#x27;margin: 2px 0; padding: 2px 0;&#x27;&gt;&lt;span&gt;tardis.simulation.base&lt;/span&gt; &lt;span style=&quot;color: #D3D3D3; font-weight: bold;&quot;&gt;[INFO]&lt;/span&gt; \\n\\tCurrent t_inner = 10673.709 K\\n\\tExpected t_inner for next iteration = 10637.548 K\\n (base.py:604)&lt;/div&gt;&lt;div style=&#x27;margin: 2px 0; padding: 2px 0;&#x27;&gt;&lt;span&gt;tardis.simulation.base&lt;/span&gt; &lt;span style=&quot;color: #D3D3D3; font-weight: bold;&quot;&gt;[INFO]&lt;/span&gt; \\n\\tStarting iteration 4 of 20 (base.py:417)&lt;/div&gt;&lt;div style=&#x27;margin: 2px 0; padding: 2px 0;&#x27;&gt;&lt;span&gt;tardis.simulation.base&lt;/span&gt; &lt;span style=&quot;color: #D3D3D3; font-weight: bold;&quot;&gt;[INFO]&lt;/span&gt; \\n\\tLuminosity emitted   = 1.058e+43 erg / s\\n\\tLuminosity absorbed  = 3.365e+42 erg / s\\n\\tLuminosity requested = 1.059e+43 erg / s\\n (base.py:609)&lt;/div&gt;&lt;div style=&#x27;margin: 2px 0; padding: 2px 0;&#x27;&gt;&lt;span&gt;tardis.simulation.base&lt;/span&gt; &lt;span style=&quot;color: #D3D3D3; font-weight: bold;&quot;&gt;[INFO]&lt;/span&gt; Iteration converged 2/4 consecutive times. (base.py:244)&lt;/div&gt;&lt;div style=&#x27;margin: 2px 0; padding: 2px 0;&#x27;&gt;&lt;pre style=&quot;white-space: pre; margin: 0;&quot;&gt;Shell No.         t_rad    next_t_rad         w    next_w\\n0          10997.936524  11025.459753  0.483873  0.470769\\n5          11155.737123  11250.476775  0.190460  0.181240\\n10         10950.817110  11025.830185  0.118169  0.113409\\n15         10591.191659  10693.643402  0.089354  0.085118&lt;/pre&gt;&lt;/div&gt;&lt;div style=&#x27;margin: 2px 0; padding: 2px 0;&#x27;&gt;&lt;span&gt;tardis.simulation.base&lt;/span&gt; &lt;span style=&quot;color: #D3D3D3; font-weight: bold;&quot;&gt;[INFO]&lt;/span&gt; \\n\\tCurrent t_inner = 10637.548 K\\n\\tExpected t_inner for next iteration = 10641.159 K\\n (base.py:604)&lt;/div&gt;&lt;div style=&#x27;margin: 2px 0; padding: 2px 0;&#x27;&gt;&lt;span&gt;tardis.simulation.base&lt;/span&gt; &lt;span style=&quot;color: #D3D3D3; font-weight: bold;&quot;&gt;[INFO]&lt;/span&gt; \\n\\tStarting iteration 5 of 20 (base.py:417)&lt;/div&gt;&lt;div style=&#x27;margin: 2px 0; padding: 2px 0;&#x27;&gt;&lt;span&gt;tardis.simulation.base&lt;/span&gt; &lt;span style=&quot;color: #D3D3D3; font-weight: bold;&quot;&gt;[INFO]&lt;/span&gt; \\n\\tLuminosity emitted   = 1.057e+43 erg / s\\n\\tLuminosity absorbed  = 3.391e+42 erg / s\\n\\tLuminosity requested = 1.059e+43 erg / s\\n (base.py:609)&lt;/div&gt;&lt;div style=&#x27;margin: 2px 0; padding: 2px 0;&#x27;&gt;&lt;span&gt;tardis.simulation.base&lt;/span&gt; &lt;span style=&quot;color: #D3D3D3; font-weight: bold;&quot;&gt;[INFO]&lt;/span&gt; Iteration converged 3/4 consecutive times. (base.py:244)&lt;/div&gt;&lt;div style=&#x27;margin: 2px 0; padding: 2px 0;&#x27;&gt;&lt;pre style=&quot;white-space: pre; margin: 0;&quot;&gt;Shell No.         t_rad    next_t_rad         w    next_w\\n0          11025.459753  10998.992370  0.470769  0.479691\\n5          11250.476775  11285.022098  0.181240  0.178679\\n10         11025.830185  10984.384690  0.113409  0.115145\\n15         10693.643402  10734.268321  0.085118  0.083826&lt;/pre&gt;&lt;/div&gt;&lt;div style=&#x27;margin: 2px 0; padding: 2px 0;&#x27;&gt;&lt;span&gt;tardis.simulation.base&lt;/span&gt; &lt;span style=&quot;color: #D3D3D3; font-weight: bold;&quot;&gt;[INFO]&lt;/span&gt; \\n\\tCurrent t_inner = 10641.159 K\\n\\tExpected t_inner for next iteration = 10647.218 K\\n (base.py:604)&lt;/div&gt;&lt;div style=&#x27;margin: 2px 0; padding: 2px 0;&#x27;&gt;&lt;span&gt;tardis.simulation.base&lt;/span&gt; &lt;span style=&quot;color: #D3D3D3; font-weight: bold;&quot;&gt;[INFO]&lt;/span&gt; \\n\\tStarting iteration 6 of 20 (base.py:417)&lt;/div&gt;&lt;div style=&#x27;margin: 2px 0; padding: 2px 0;&#x27;&gt;&lt;span&gt;tardis.simulation.base&lt;/span&gt; &lt;span style=&quot;color: #D3D3D3; font-weight: bold;&quot;&gt;[INFO]&lt;/span&gt; \\n\\tLuminosity emitted   = 1.060e+43 erg / s\\n\\tLuminosity absorbed  = 3.394e+42 erg / s\\n\\tLuminosity requested = 1.059e+43 erg / s\\n (base.py:609)&lt;/div&gt;&lt;div style=&#x27;margin: 2px 0; padding: 2px 0;&#x27;&gt;&lt;span&gt;tardis.simulation.base&lt;/span&gt; &lt;span style=&quot;color: #D3D3D3; font-weight: bold;&quot;&gt;[INFO]&lt;/span&gt; Iteration converged 4/4 consecutive times. (base.py:244)&lt;/div&gt;&lt;div style=&#x27;margin: 2px 0; padding: 2px 0;&#x27;&gt;&lt;pre style=&quot;white-space: pre; margin: 0;&quot;&gt;Shell No.         t_rad    next_t_rad         w    next_w\\n0          10998.992370  11062.386149  0.479691  0.466406\\n5          11285.022098  11251.893932  0.178679  0.182435\\n10         10984.384690  10982.572101  0.115145  0.115372\\n15         10734.268321  10674.160527  0.083826  0.085281&lt;/pre&gt;&lt;/div&gt;&lt;div style=&#x27;margin: 2px 0; padding: 2px 0;&#x27;&gt;&lt;span&gt;tardis.simulation.base&lt;/span&gt; &lt;span style=&quot;color: #D3D3D3; font-weight: bold;&quot;&gt;[INFO]&lt;/span&gt; \\n\\tCurrent t_inner = 10647.218 K\\n\\tExpected t_inner for next iteration = 10645.645 K\\n (base.py:604)&lt;/div&gt;&lt;div style=&#x27;margin: 2px 0; padding: 2px 0;&#x27;&gt;&lt;span&gt;tardis.simulation.base&lt;/span&gt; &lt;span style=&quot;color: #D3D3D3; font-weight: bold;&quot;&gt;[INFO]&lt;/span&gt; \\n\\tStarting iteration 7 of 20 (base.py:417)&lt;/div&gt;&lt;div style=&#x27;margin: 2px 0; padding: 2px 0;&#x27;&gt;&lt;span&gt;tardis.simulation.base&lt;/span&gt; &lt;span style=&quot;color: #D3D3D3; font-weight: bold;&quot;&gt;[INFO]&lt;/span&gt; \\n\\tLuminosity emitted   = 1.060e+43 erg / s\\n\\tLuminosity absorbed  = 3.389e+42 erg / s\\n\\tLuminosity requested = 1.059e+43 erg / s\\n (base.py:609)&lt;/div&gt;&lt;div style=&#x27;margin: 2px 0; padding: 2px 0;&#x27;&gt;&lt;span&gt;tardis.simulation.base&lt;/span&gt; &lt;span style=&quot;color: #D3D3D3; font-weight: bold;&quot;&gt;[INFO]&lt;/span&gt; Iteration converged 5/4 consecutive times. (base.py:244)&lt;/div&gt;&lt;div style=&#x27;margin: 2px 0; padding: 2px 0;&#x27;&gt;&lt;pre style=&quot;white-space: pre; margin: 0;&quot;&gt;Shell No.         t_rad    next_t_rad         w    next_w\\n0          11062.386149  11044.421981  0.466406  0.468831\\n5          11251.893932  11374.121338  0.182435  0.172849\\n10         10982.572101  11014.646546  0.115372  0.113250\\n15         10674.160527  10631.290195  0.085281  0.086536&lt;/pre&gt;&lt;/div&gt;&lt;div style=&#x27;margin: 2px 0; padding: 2px 0;&#x27;&gt;&lt;span&gt;tardis.simulation.base&lt;/span&gt; &lt;span style=&quot;color: #D3D3D3; font-weight: bold;&quot;&gt;[INFO]&lt;/span&gt; \\n\\tCurrent t_inner = 10645.645 K\\n\\tExpected t_inner for next iteration = 10644.007 K\\n (base.py:604)&lt;/div&gt;&lt;div style=&#x27;margin: 2px 0; padding: 2px 0;&#x27;&gt;&lt;span&gt;tardis.simulation.base&lt;/span&gt; &lt;span style=&quot;color: #D3D3D3; font-weight: bold;&quot;&gt;[INFO]&lt;/span&gt; \\n\\tStarting iteration 8 of 20 (base.py:417)&lt;/div&gt;&lt;div style=&#x27;margin: 2px 0; padding: 2px 0;&#x27;&gt;&lt;span&gt;tardis.simulation.base&lt;/span&gt; &lt;span style=&quot;color: #D3D3D3; font-weight: bold;&quot;&gt;[INFO]&lt;/span&gt; \\n\\tLuminosity emitted   = 1.062e+43 erg / s\\n\\tLuminosity absorbed  = 3.356e+42 erg / s\\n\\tLuminosity requested = 1.059e+43 erg / s\\n (base.py:609)&lt;/div&gt;&lt;div style=&#x27;margin: 2px 0; padding: 2px 0;&#x27;&gt;&lt;span&gt;tardis.simulation.base&lt;/span&gt; &lt;span style=&quot;color: #D3D3D3; font-weight: bold;&quot;&gt;[INFO]&lt;/span&gt; Iteration converged 6/4 consecutive times. (base.py:244)&lt;/div&gt;&lt;div style=&#x27;margin: 2px 0; padding: 2px 0;&#x27;&gt;&lt;pre style=&quot;white-space: pre; margin: 0;&quot;&gt;Shell No.         t_rad    next_t_rad         w    next_w\\n0          11044.421981  11069.120167  0.468831  0.469856\\n5          11374.121338  11329.723448  0.172849  0.177557\\n10         11014.646546  11079.797552  0.113250  0.111659\\n15         10631.290195  10735.589679  0.086536  0.083570&lt;/pre&gt;&lt;/div&gt;&lt;div style=&#x27;margin: 2px 0; padding: 2px 0;&#x27;&gt;&lt;span&gt;tardis.simulation.base&lt;/span&gt; &lt;span style=&quot;color: #D3D3D3; font-weight: bold;&quot;&gt;[INFO]&lt;/span&gt; \\n\\tCurrent t_inner = 10644.007 K\\n\\tExpected t_inner for next iteration = 10636.775 K\\n (base.py:604)&lt;/div&gt;&lt;div style=&#x27;margin: 2px 0; padding: 2px 0;&#x27;&gt;&lt;span&gt;tardis.simulation.base&lt;/span&gt; &lt;span style=&quot;color: #D3D3D3; font-weight: bold;&quot;&gt;[INFO]&lt;/span&gt; \\n\\tStarting iteration 9 of 20 (base.py:417)&lt;/div&gt;&lt;div style=&#x27;margin: 2px 0; padding: 2px 0;&#x27;&gt;&lt;span&gt;tardis.simulation.base&lt;/span&gt; &lt;span style=&quot;color: #D3D3D3; font-weight: bold;&quot;&gt;[INFO]&lt;/span&gt; \\n\\tLuminosity emitted   = 1.053e+43 erg / s\\n\\tLuminosity absorbed  = 3.409e+42 erg / s\\n\\tLuminosity requested = 1.059e+43 erg / s\\n (base.py:609)&lt;/div&gt;&lt;div style=&#x27;margin: 2px 0; padding: 2px 0;&#x27;&gt;&lt;span&gt;tardis.simulation.base&lt;/span&gt; &lt;span style=&quot;color: #D3D3D3; font-weight: bold;&quot;&gt;[INFO]&lt;/span&gt; Iteration converged 7/4 consecutive times. (base.py:244)&lt;/div&gt;&lt;div style=&#x27;margin: 2px 0; padding: 2px 0;&#x27;&gt;&lt;pre style=&quot;white-space: pre; margin: 0;&quot;&gt;Shell No.         t_rad    next_t_rad         w    next_w\\n0          11069.120167  11040.862394  0.469856  0.470832\\n5          11329.723448  11422.617758  0.177557  0.171857\\n10         11079.797552  11152.498499  0.111659  0.108761\\n15         10735.589679  10708.551912  0.083570  0.083626&lt;/pre&gt;&lt;/div&gt;&lt;div style=&#x27;margin: 2px 0; padding: 2px 0;&#x27;&gt;&lt;span&gt;tardis.simulation.base&lt;/span&gt; &lt;span style=&quot;color: #D3D3D3; font-weight: bold;&quot;&gt;[INFO]&lt;/span&gt; \\n\\tCurrent t_inner = 10636.775 K\\n\\tExpected t_inner for next iteration = 10653.396 K\\n (base.py:604)&lt;/div&gt;&lt;div style=&#x27;margin: 2px 0; padding: 2px 0;&#x27;&gt;&lt;span&gt;tardis.simulation.base&lt;/span&gt; &lt;span style=&quot;color: #D3D3D3; font-weight: bold;&quot;&gt;[INFO]&lt;/span&gt; \\n\\tStarting iteration 10 of 20 (base.py:417)&lt;/div&gt;&lt;div style=&#x27;margin: 2px 0; padding: 2px 0;&#x27;&gt;&lt;span&gt;tardis.simulation.base&lt;/span&gt; &lt;span style=&quot;color: #D3D3D3; font-weight: bold;&quot;&gt;[INFO]&lt;/span&gt; \\n\\tLuminosity emitted   = 1.071e+43 erg / s\\n\\tLuminosity absorbed  = 3.320e+42 erg / s\\n\\tLuminosity requested = 1.059e+43 erg / s\\n (base.py:609)&lt;/div&gt;&lt;div style=&#x27;margin: 2px 0; padding: 2px 0;&#x27;&gt;&lt;span&gt;tardis.simulation.base&lt;/span&gt; &lt;span style=&quot;color: #D3D3D3; font-weight: bold;&quot;&gt;[INFO]&lt;/span&gt; Iteration converged 8/4 consecutive times. (base.py:244)&lt;/div&gt;&lt;div style=&#x27;margin: 2px 0; padding: 2px 0;&#x27;&gt;&lt;pre style=&quot;white-space: pre; margin: 0;&quot;&gt;Shell No.         t_rad    next_t_rad         w    next_w\\n0          11040.862394  11021.149701  0.470832  0.476682\\n5          11422.617758  11355.081374  0.171857  0.178340\\n10         11152.498499  11057.634031  0.108761  0.113629\\n15         10708.551912  10648.738352  0.083626  0.087198&lt;/pre&gt;&lt;/div&gt;&lt;div style=&#x27;margin: 2px 0; padding: 2px 0;&#x27;&gt;&lt;span&gt;tardis.simulation.base&lt;/span&gt; &lt;span style=&quot;color: #D3D3D3; font-weight: bold;&quot;&gt;[INFO]&lt;/span&gt; \\n\\tCurrent t_inner = 10653.396 K\\n\\tExpected t_inner for next iteration = 10624.877 K\\n (base.py:604)&lt;/div&gt;&lt;div style=&#x27;margin: 2px 0; padding: 2px 0;&#x27;&gt;&lt;span&gt;tardis.simulation.base&lt;/span&gt; &lt;span style=&quot;color: #D3D3D3; font-weight: bold;&quot;&gt;[INFO]&lt;/span&gt; \\n\\tStarting iteration 11 of 20 (base.py:417)&lt;/div&gt;&lt;div style=&#x27;margin: 2px 0; padding: 2px 0;&#x27;&gt;&lt;span&gt;tardis.simulation.base&lt;/span&gt; &lt;span style=&quot;color: #D3D3D3; font-weight: bold;&quot;&gt;[INFO]&lt;/span&gt; \\n\\tLuminosity emitted   = 1.050e+43 erg / s\\n\\tLuminosity absorbed  = 3.378e+42 erg / s\\n\\tLuminosity requested = 1.059e+43 erg / s\\n (base.py:609)&lt;/div&gt;&lt;div style=&#x27;margin: 2px 0; padding: 2px 0;&#x27;&gt;&lt;span&gt;tardis.simulation.base&lt;/span&gt; &lt;span style=&quot;color: #D3D3D3; font-weight: bold;&quot;&gt;[INFO]&lt;/span&gt; Iteration converged 9/4 consecutive times. (base.py:244)&lt;/div&gt;&lt;div style=&#x27;margin: 2px 0; padding: 2px 0;&#x27;&gt;&lt;pre style=&quot;white-space: pre; margin: 0;&quot;&gt;Shell No.         t_rad    next_t_rad         w    next_w\\n0          11021.149701  11033.143067  0.476682  0.473438\\n5          11355.081374  11232.669118  0.178340  0.181972\\n10         11057.634031  10966.246563  0.113629  0.114673\\n15         10648.738352  10628.818554  0.087198  0.085842&lt;/pre&gt;&lt;/div&gt;&lt;div style=&#x27;margin: 2px 0; padding: 2px 0;&#x27;&gt;&lt;span&gt;tardis.simulation.base&lt;/span&gt; &lt;span style=&quot;color: #D3D3D3; font-weight: bold;&quot;&gt;[INFO]&lt;/span&gt; \\n\\tCurrent t_inner = 10624.877 K\\n\\tExpected t_inner for next iteration = 10649.271 K\\n (base.py:604)&lt;/div&gt;&lt;div style=&#x27;margin: 2px 0; padding: 2px 0;&#x27;&gt;&lt;span&gt;tardis.simulation.base&lt;/span&gt; &lt;span style=&quot;color: #D3D3D3; font-weight: bold;&quot;&gt;[INFO]&lt;/span&gt; \\n\\tStarting iteration 12 of 20 (base.py:417)&lt;/div&gt;&lt;div style=&#x27;margin: 2px 0; padding: 2px 0;&#x27;&gt;&lt;span&gt;tardis.simulation.base&lt;/span&gt; &lt;span style=&quot;color: #D3D3D3; font-weight: bold;&quot;&gt;[INFO]&lt;/span&gt; \\n\\tLuminosity emitted   = 1.057e+43 erg / s\\n\\tLuminosity absorbed  = 3.427e+42 erg / s\\n\\tLuminosity requested = 1.059e+43 erg / s\\n (base.py:609)&lt;/div&gt;&lt;div style=&#x27;margin: 2px 0; padding: 2px 0;&#x27;&gt;&lt;span&gt;tardis.simulation.base&lt;/span&gt; &lt;span style=&quot;color: #D3D3D3; font-weight: bold;&quot;&gt;[INFO]&lt;/span&gt; Iteration converged 10/4 consecutive times. (base.py:244)&lt;/div&gt;&lt;div style=&#x27;margin: 2px 0; padding: 2px 0;&#x27;&gt;&lt;pre style=&quot;white-space: pre; margin: 0;&quot;&gt;Shell No.         t_rad    next_t_rad         w    next_w\\n0          11033.143067  11087.843360  0.473438  0.465085\\n5          11232.669118  11275.807376  0.181972  0.180289\\n10         10966.246563  11068.013441  0.114673  0.111169\\n15         10628.818554  10748.982798  0.085842  0.083035&lt;/pre&gt;&lt;/div&gt;&lt;div style=&#x27;margin: 2px 0; padding: 2px 0;&#x27;&gt;&lt;span&gt;tardis.simulation.base&lt;/span&gt; &lt;span style=&quot;color: #D3D3D3; font-weight: bold;&quot;&gt;[INFO]&lt;/span&gt; \\n\\tCurrent t_inner = 10649.271 K\\n\\tExpected t_inner for next iteration = 10653.802 K\\n (base.py:604)&lt;/div&gt;&lt;div style=&#x27;margin: 2px 0; padding: 2px 0;&#x27;&gt;&lt;span&gt;tardis.simulation.base&lt;/span&gt; &lt;span style=&quot;color: #D3D3D3; font-weight: bold;&quot;&gt;[INFO]&lt;/span&gt; \\n\\tStarting iteration 13 of 20 (base.py:417)&lt;/div&gt;&lt;div style=&#x27;margin: 2px 0; padding: 2px 0;&#x27;&gt;&lt;span&gt;tardis.simulation.base&lt;/span&gt; &lt;span style=&quot;color: #D3D3D3; font-weight: bold;&quot;&gt;[INFO]&lt;/span&gt; \\n\\tLuminosity emitted   = 1.062e+43 erg / s\\n\\tLuminosity absorbed  = 3.405e+42 erg / s\\n\\tLuminosity requested = 1.059e+43 erg / s\\n (base.py:609)&lt;/div&gt;&lt;div style=&#x27;margin: 2px 0; padding: 2px 0;&#x27;&gt;&lt;span&gt;tardis.simulation.base&lt;/span&gt; &lt;span style=&quot;color: #D3D3D3; font-weight: bold;&quot;&gt;[INFO]&lt;/span&gt; Iteration converged 11/4 consecutive times. (base.py:244)&lt;/div&gt;&lt;div style=&#x27;margin: 2px 0; padding: 2px 0;&#x27;&gt;&lt;pre style=&quot;white-space: pre; margin: 0;&quot;&gt;Shell No.         t_rad    next_t_rad         w    next_w\\n0          11087.843360  11086.546488  0.465085  0.465778\\n5          11275.807376  11323.353434  0.180289  0.178036\\n10         11068.013441  11053.173485  0.111169  0.112635\\n15         10748.982798  10688.059659  0.083035  0.086010&lt;/pre&gt;&lt;/div&gt;&lt;div style=&#x27;margin: 2px 0; padding: 2px 0;&#x27;&gt;&lt;span&gt;tardis.simulation.base&lt;/span&gt; &lt;span style=&quot;color: #D3D3D3; font-weight: bold;&quot;&gt;[INFO]&lt;/span&gt; \\n\\tCurrent t_inner = 10653.802 K\\n\\tExpected t_inner for next iteration = 10646.746 K\\n (base.py:604)&lt;/div&gt;&lt;div style=&#x27;margin: 2px 0; padding: 2px 0;&#x27;&gt;&lt;span&gt;tardis.simulation.base&lt;/span&gt; &lt;span style=&quot;color: #D3D3D3; font-weight: bold;&quot;&gt;[INFO]&lt;/span&gt; \\n\\tStarting iteration 14 of 20 (base.py:417)&lt;/div&gt;&lt;div style=&#x27;margin: 2px 0; padding: 2px 0;&#x27;&gt;&lt;span&gt;tardis.simulation.base&lt;/span&gt; &lt;span style=&quot;color: #D3D3D3; font-weight: bold;&quot;&gt;[INFO]&lt;/span&gt; \\n\\tLuminosity emitted   = 1.061e+43 erg / s\\n\\tLuminosity absorbed  = 3.377e+42 erg / s\\n\\tLuminosity requested = 1.059e+43 erg / s\\n (base.py:609)&lt;/div&gt;&lt;div style=&#x27;margin: 2px 0; padding: 2px 0;&#x27;&gt;&lt;span&gt;tardis.simulation.base&lt;/span&gt; &lt;span style=&quot;color: #D3D3D3; font-weight: bold;&quot;&gt;[INFO]&lt;/span&gt; Iteration converged 12/4 consecutive times. (base.py:244)&lt;/div&gt;&lt;div style=&#x27;margin: 2px 0; padding: 2px 0;&#x27;&gt;&lt;pre style=&quot;white-space: pre; margin: 0;&quot;&gt;Shell No.         t_rad    next_t_rad         w    next_w\\n0          11086.546488  11080.438593  0.465778  0.468386\\n5          11323.353434  11300.968754  0.178036  0.180922\\n10         11053.173485  11006.742479  0.112635  0.114366\\n15         10688.059659  10634.395123  0.086010  0.086679&lt;/pre&gt;&lt;/div&gt;&lt;div style=&#x27;margin: 2px 0; padding: 2px 0;&#x27;&gt;&lt;span&gt;tardis.simulation.base&lt;/span&gt; &lt;span style=&quot;color: #D3D3D3; font-weight: bold;&quot;&gt;[INFO]&lt;/span&gt; \\n\\tCurrent t_inner = 10646.746 K\\n\\tExpected t_inner for next iteration = 10641.333 K\\n (base.py:604)&lt;/div&gt;&lt;div style=&#x27;margin: 2px 0; padding: 2px 0;&#x27;&gt;&lt;span&gt;tardis.simulation.base&lt;/span&gt; &lt;span style=&quot;color: #D3D3D3; font-weight: bold;&quot;&gt;[INFO]&lt;/span&gt; \\n\\tStarting iteration 15 of 20 (base.py:417)&lt;/div&gt;&lt;div style=&#x27;margin: 2px 0; padding: 2px 0;&#x27;&gt;&lt;span&gt;tardis.simulation.base&lt;/span&gt; &lt;span style=&quot;color: #D3D3D3; font-weight: bold;&quot;&gt;[INFO]&lt;/span&gt; \\n\\tLuminosity emitted   = 1.055e+43 erg / s\\n\\tLuminosity absorbed  = 3.411e+42 erg / s\\n\\tLuminosity requested = 1.059e+43 erg / s\\n (base.py:609)&lt;/div&gt;&lt;div style=&#x27;margin: 2px 0; padding: 2px 0;&#x27;&gt;&lt;span&gt;tardis.simulation.base&lt;/span&gt; &lt;span style=&quot;color: #D3D3D3; font-weight: bold;&quot;&gt;[INFO]&lt;/span&gt; Iteration converged 13/4 consecutive times. (base.py:244)&lt;/div&gt;&lt;div style=&#x27;margin: 2px 0; padding: 2px 0;&#x27;&gt;&lt;pre style=&quot;white-space: pre; margin: 0;&quot;&gt;Shell No.         t_rad    next_t_rad         w    next_w\\n0          11080.438593  10964.035202  0.468386  0.483948\\n5          11300.968754  11282.337017  0.180922  0.180055\\n10         11006.742479  11037.967945  0.114366  0.113049\\n15         10634.395123  10674.687180  0.086679  0.085238&lt;/pre&gt;&lt;/div&gt;&lt;div style=&#x27;margin: 2px 0; padding: 2px 0;&#x27;&gt;&lt;span&gt;tardis.simulation.base&lt;/span&gt; &lt;span style=&quot;color: #D3D3D3; font-weight: bold;&quot;&gt;[INFO]&lt;/span&gt; \\n\\tCurrent t_inner = 10641.333 K\\n\\tExpected t_inner for next iteration = 10652.281 K\\n (base.py:604)&lt;/div&gt;&lt;div style=&#x27;margin: 2px 0; padding: 2px 0;&#x27;&gt;&lt;span&gt;tardis.simulation.base&lt;/span&gt; &lt;span style=&quot;color: #D3D3D3; font-weight: bold;&quot;&gt;[INFO]&lt;/span&gt; \\n\\tStarting iteration 16 of 20 (base.py:417)&lt;/div&gt;&lt;div style=&#x27;margin: 2px 0; padding: 2px 0;&#x27;&gt;&lt;span&gt;tardis.simulation.base&lt;/span&gt; &lt;span style=&quot;color: #D3D3D3; font-weight: bold;&quot;&gt;[INFO]&lt;/span&gt; \\n\\tLuminosity emitted   = 1.058e+43 erg / s\\n\\tLuminosity absorbed  = 3.437e+42 erg / s\\n\\tLuminosity requested = 1.059e+43 erg / s\\n (base.py:609)&lt;/div&gt;&lt;div style=&#x27;margin: 2px 0; padding: 2px 0;&#x27;&gt;&lt;span&gt;tardis.simulation.base&lt;/span&gt; &lt;span style=&quot;color: #D3D3D3; font-weight: bold;&quot;&gt;[INFO]&lt;/span&gt; Iteration converged 14/4 consecutive times. (base.py:244)&lt;/div&gt;&lt;div style=&#x27;margin: 2px 0; padding: 2px 0;&#x27;&gt;&lt;pre style=&quot;white-space: pre; margin: 0;&quot;&gt;Shell No.         t_rad    next_t_rad         w    next_w\\n0          10964.035202  11042.587566  0.483948  0.471783\\n5          11282.337017  11375.256379  0.180055  0.172888\\n10         11037.967945  11057.595126  0.113049  0.111964\\n15         10674.687180  10732.089876  0.085238  0.083235&lt;/pre&gt;&lt;/div&gt;&lt;div style=&#x27;margin: 2px 0; padding: 2px 0;&#x27;&gt;&lt;span&gt;tardis.simulation.base&lt;/span&gt; &lt;span style=&quot;color: #D3D3D3; font-weight: bold;&quot;&gt;[INFO]&lt;/span&gt; \\n\\tCurrent t_inner = 10652.281 K\\n\\tExpected t_inner for next iteration = 10654.516 K\\n (base.py:604)&lt;/div&gt;&lt;div style=&#x27;margin: 2px 0; padding: 2px 0;&#x27;&gt;&lt;span&gt;tardis.simulation.base&lt;/span&gt; &lt;span style=&quot;color: #D3D3D3; font-weight: bold;&quot;&gt;[INFO]&lt;/span&gt; \\n\\tStarting iteration 17 of 20 (base.py:417)&lt;/div&gt;&lt;div style=&#x27;margin: 2px 0; padding: 2px 0;&#x27;&gt;&lt;span&gt;tardis.simulation.base&lt;/span&gt; &lt;span style=&quot;color: #D3D3D3; font-weight: bold;&quot;&gt;[INFO]&lt;/span&gt; \\n\\tLuminosity emitted   = 1.066e+43 erg / s\\n\\tLuminosity absorbed  = 3.375e+42 erg / s\\n\\tLuminosity requested = 1.059e+43 erg / s\\n (base.py:609)&lt;/div&gt;&lt;div style=&#x27;margin: 2px 0; padding: 2px 0;&#x27;&gt;&lt;span&gt;tardis.simulation.base&lt;/span&gt; &lt;span style=&quot;color: #D3D3D3; font-weight: bold;&quot;&gt;[INFO]&lt;/span&gt; Iteration converged 15/4 consecutive times. (base.py:244)&lt;/div&gt;&lt;div style=&#x27;margin: 2px 0; padding: 2px 0;&#x27;&gt;&lt;pre style=&quot;white-space: pre; margin: 0;&quot;&gt;Shell No.         t_rad    next_t_rad         w    next_w\\n0          11042.587566  11075.308461  0.471783  0.464843\\n5          11375.256379  11439.649947  0.172888  0.171043\\n10         11057.595126  11185.093739  0.111964  0.107880\\n15         10732.089876  10828.748565  0.083235  0.081284&lt;/pre&gt;&lt;/div&gt;&lt;div style=&#x27;margin: 2px 0; padding: 2px 0;&#x27;&gt;&lt;span&gt;tardis.simulation.base&lt;/span&gt; &lt;span style=&quot;color: #D3D3D3; font-weight: bold;&quot;&gt;[INFO]&lt;/span&gt; \\n\\tCurrent t_inner = 10654.516 K\\n\\tExpected t_inner for next iteration = 10637.793 K\\n (base.py:604)&lt;/div&gt;&lt;div style=&#x27;margin: 2px 0; padding: 2px 0;&#x27;&gt;&lt;span&gt;tardis.simulation.base&lt;/span&gt; &lt;span style=&quot;color: #D3D3D3; font-weight: bold;&quot;&gt;[INFO]&lt;/span&gt; \\n\\tStarting iteration 18 of 20 (base.py:417)&lt;/div&gt;&lt;div style=&#x27;margin: 2px 0; padding: 2px 0;&#x27;&gt;&lt;span&gt;tardis.simulation.base&lt;/span&gt; &lt;span style=&quot;color: #D3D3D3; font-weight: bold;&quot;&gt;[INFO]&lt;/span&gt; \\n\\tLuminosity emitted   = 1.059e+43 erg / s\\n\\tLuminosity absorbed  = 3.354e+42 erg / s\\n\\tLuminosity requested = 1.059e+43 erg / s\\n (base.py:609)&lt;/div&gt;&lt;div style=&#x27;margin: 2px 0; padding: 2px 0;&#x27;&gt;&lt;span&gt;tardis.simulation.base&lt;/span&gt; &lt;span style=&quot;color: #D3D3D3; font-weight: bold;&quot;&gt;[INFO]&lt;/span&gt; Iteration converged 16/4 consecutive times. (base.py:244)&lt;/div&gt;&lt;div style=&#x27;margin: 2px 0; padding: 2px 0;&#x27;&gt;&lt;pre style=&quot;white-space: pre; margin: 0;&quot;&gt;Shell No.         t_rad    next_t_rad         w    next_w\\n0          11075.308461  11074.427342  0.464843  0.463021\\n5          11439.649947  11383.872996  0.171043  0.174425\\n10         11185.093739  11104.670336  0.107880  0.110457\\n15         10828.748565  10681.933253  0.081284  0.084433&lt;/pre&gt;&lt;/div&gt;&lt;div style=&#x27;margin: 2px 0; padding: 2px 0;&#x27;&gt;&lt;span&gt;tardis.simulation.base&lt;/span&gt; &lt;span style=&quot;color: #D3D3D3; font-weight: bold;&quot;&gt;[INFO]&lt;/span&gt; \\n\\tCurrent t_inner = 10637.793 K\\n\\tExpected t_inner for next iteration = 10638.424 K\\n (base.py:604)&lt;/div&gt;&lt;div style=&#x27;margin: 2px 0; padding: 2px 0;&#x27;&gt;&lt;span&gt;tardis.simulation.base&lt;/span&gt; &lt;span style=&quot;color: #D3D3D3; font-weight: bold;&quot;&gt;[INFO]&lt;/span&gt; \\n\\tStarting iteration 19 of 20 (base.py:417)&lt;/div&gt;&lt;div style=&#x27;margin: 2px 0; padding: 2px 0;&#x27;&gt;&lt;span&gt;tardis.simulation.base&lt;/span&gt; &lt;span style=&quot;color: #D3D3D3; font-weight: bold;&quot;&gt;[INFO]&lt;/span&gt; \\n\\tLuminosity emitted   = 1.054e+43 erg / s\\n\\tLuminosity absorbed  = 3.403e+42 erg / s\\n\\tLuminosity requested = 1.059e+43 erg / s\\n (base.py:609)&lt;/div&gt;&lt;div style=&#x27;margin: 2px 0; padding: 2px 0;&#x27;&gt;&lt;span&gt;tardis.simulation.base&lt;/span&gt; &lt;span style=&quot;color: #D3D3D3; font-weight: bold;&quot;&gt;[INFO]&lt;/span&gt; Iteration converged 17/4 consecutive times. (base.py:244)&lt;/div&gt;&lt;div style=&#x27;margin: 2px 0; padding: 2px 0;&#x27;&gt;&lt;pre style=&quot;white-space: pre; margin: 0;&quot;&gt;Shell No.         t_rad    next_t_rad         w    next_w\\n0          11074.427342  11083.753820  0.463021  0.464681\\n5          11383.872996  11384.095699  0.174425  0.173447\\n10         11104.670336  11121.166737  0.110457  0.109419\\n15         10681.933253  10695.839730  0.084433  0.083913&lt;/pre&gt;&lt;/div&gt;&lt;div style=&#x27;margin: 2px 0; padding: 2px 0;&#x27;&gt;&lt;span&gt;tardis.simulation.base&lt;/span&gt; &lt;span style=&quot;color: #D3D3D3; font-weight: bold;&quot;&gt;[INFO]&lt;/span&gt; \\n\\tCurrent t_inner = 10638.424 K\\n\\tExpected t_inner for next iteration = 10651.315 K\\n (base.py:604)&lt;/div&gt;\",\"disable_math\":true}}],\"defs\":[{\"type\":\"model\",\"name\":\"ReactiveHTML1\"},{\"type\":\"model\",\"name\":\"FlexBox1\",\"properties\":[{\"name\":\"align_content\",\"kind\":\"Any\",\"default\":\"flex-start\"},{\"name\":\"align_items\",\"kind\":\"Any\",\"default\":\"flex-start\"},{\"name\":\"flex_direction\",\"kind\":\"Any\",\"default\":\"row\"},{\"name\":\"flex_wrap\",\"kind\":\"Any\",\"default\":\"wrap\"},{\"name\":\"gap\",\"kind\":\"Any\",\"default\":\"\"},{\"name\":\"justify_content\",\"kind\":\"Any\",\"default\":\"flex-start\"}]},{\"type\":\"model\",\"name\":\"FloatPanel1\",\"properties\":[{\"name\":\"config\",\"kind\":\"Any\",\"default\":{\"type\":\"map\"}},{\"name\":\"contained\",\"kind\":\"Any\",\"default\":true},{\"name\":\"position\",\"kind\":\"Any\",\"default\":\"right-top\"},{\"name\":\"offsetx\",\"kind\":\"Any\",\"default\":null},{\"name\":\"offsety\",\"kind\":\"Any\",\"default\":null},{\"name\":\"theme\",\"kind\":\"Any\",\"default\":\"primary\"},{\"name\":\"status\",\"kind\":\"Any\",\"default\":\"normalized\"}]},{\"type\":\"model\",\"name\":\"GridStack1\",\"properties\":[{\"name\":\"ncols\",\"kind\":\"Any\",\"default\":null},{\"name\":\"nrows\",\"kind\":\"Any\",\"default\":null},{\"name\":\"allow_resize\",\"kind\":\"Any\",\"default\":true},{\"name\":\"allow_drag\",\"kind\":\"Any\",\"default\":true},{\"name\":\"state\",\"kind\":\"Any\",\"default\":[]}]},{\"type\":\"model\",\"name\":\"drag1\",\"properties\":[{\"name\":\"slider_width\",\"kind\":\"Any\",\"default\":5},{\"name\":\"slider_color\",\"kind\":\"Any\",\"default\":\"black\"},{\"name\":\"value\",\"kind\":\"Any\",\"default\":50}]},{\"type\":\"model\",\"name\":\"click1\",\"properties\":[{\"name\":\"terminal_output\",\"kind\":\"Any\",\"default\":\"\"},{\"name\":\"debug_name\",\"kind\":\"Any\",\"default\":\"\"},{\"name\":\"clears\",\"kind\":\"Any\",\"default\":0}]},{\"type\":\"model\",\"name\":\"FastWrapper1\",\"properties\":[{\"name\":\"object\",\"kind\":\"Any\",\"default\":null},{\"name\":\"style\",\"kind\":\"Any\",\"default\":null}]},{\"type\":\"model\",\"name\":\"NotificationArea1\",\"properties\":[{\"name\":\"js_events\",\"kind\":\"Any\",\"default\":{\"type\":\"map\"}},{\"name\":\"max_notifications\",\"kind\":\"Any\",\"default\":5},{\"name\":\"notifications\",\"kind\":\"Any\",\"default\":[]},{\"name\":\"position\",\"kind\":\"Any\",\"default\":\"bottom-right\"},{\"name\":\"_clear\",\"kind\":\"Any\",\"default\":0},{\"name\":\"types\",\"kind\":\"Any\",\"default\":[{\"type\":\"map\",\"entries\":[[\"type\",\"warning\"],[\"background\",\"#ffc107\"],[\"icon\",{\"type\":\"map\",\"entries\":[[\"className\",\"fas fa-exclamation-triangle\"],[\"tagName\",\"i\"],[\"color\",\"white\"]]}]]},{\"type\":\"map\",\"entries\":[[\"type\",\"info\"],[\"background\",\"#007bff\"],[\"icon\",{\"type\":\"map\",\"entries\":[[\"className\",\"fas fa-info-circle\"],[\"tagName\",\"i\"],[\"color\",\"white\"]]}]]}]}]},{\"type\":\"model\",\"name\":\"Notification\",\"properties\":[{\"name\":\"background\",\"kind\":\"Any\",\"default\":null},{\"name\":\"duration\",\"kind\":\"Any\",\"default\":3000},{\"name\":\"icon\",\"kind\":\"Any\",\"default\":null},{\"name\":\"message\",\"kind\":\"Any\",\"default\":\"\"},{\"name\":\"notification_type\",\"kind\":\"Any\",\"default\":null},{\"name\":\"_rendered\",\"kind\":\"Any\",\"default\":false},{\"name\":\"_destroyed\",\"kind\":\"Any\",\"default\":false}]},{\"type\":\"model\",\"name\":\"TemplateActions1\",\"properties\":[{\"name\":\"open_modal\",\"kind\":\"Any\",\"default\":0},{\"name\":\"close_modal\",\"kind\":\"Any\",\"default\":0}]},{\"type\":\"model\",\"name\":\"BootstrapTemplateActions1\",\"properties\":[{\"name\":\"open_modal\",\"kind\":\"Any\",\"default\":0},{\"name\":\"close_modal\",\"kind\":\"Any\",\"default\":0}]},{\"type\":\"model\",\"name\":\"TemplateEditor1\",\"properties\":[{\"name\":\"layout\",\"kind\":\"Any\",\"default\":[]}]},{\"type\":\"model\",\"name\":\"MaterialTemplateActions1\",\"properties\":[{\"name\":\"open_modal\",\"kind\":\"Any\",\"default\":0},{\"name\":\"close_modal\",\"kind\":\"Any\",\"default\":0}]},{\"type\":\"model\",\"name\":\"ReactiveESM1\",\"properties\":[{\"name\":\"esm_constants\",\"kind\":\"Any\",\"default\":{\"type\":\"map\"}}]},{\"type\":\"model\",\"name\":\"JSComponent1\",\"properties\":[{\"name\":\"esm_constants\",\"kind\":\"Any\",\"default\":{\"type\":\"map\"}}]},{\"type\":\"model\",\"name\":\"ReactComponent1\",\"properties\":[{\"name\":\"esm_constants\",\"kind\":\"Any\",\"default\":{\"type\":\"map\"}}]},{\"type\":\"model\",\"name\":\"AnyWidgetComponent1\",\"properties\":[{\"name\":\"esm_constants\",\"kind\":\"Any\",\"default\":{\"type\":\"map\"}}]},{\"type\":\"model\",\"name\":\"request_value1\",\"properties\":[{\"name\":\"fill\",\"kind\":\"Any\",\"default\":\"none\"},{\"name\":\"_synced\",\"kind\":\"Any\",\"default\":null},{\"name\":\"_request_sync\",\"kind\":\"Any\",\"default\":0}]}]}};\n",
       "  var render_items = [{\"docid\":\"3fc56576-e4a8-4c0a-872b-3e3d7136e7ad\",\"roots\":{\"65eed612-b15f-416a-9829-d392f34ed17b\":\"fe579cab-ffbb-4fac-8db3-44120aa98168\"},\"root_ids\":[\"65eed612-b15f-416a-9829-d392f34ed17b\"]}];\n",
       "  var docs = Object.values(docs_json)\n",
       "  if (!docs) {\n",
       "    return\n",
       "  }\n",
       "  const py_version = docs[0].version.replace('rc', '-rc.').replace('.dev', '-dev.')\n",
       "  async function embed_document(root) {\n",
       "    var Bokeh = get_bokeh(root)\n",
       "    await Bokeh.embed.embed_items_notebook(docs_json, render_items);\n",
       "    for (const render_item of render_items) {\n",
       "      for (const root_id of render_item.root_ids) {\n",
       "\tconst id_el = document.getElementById(root_id)\n",
       "\tif (id_el.children.length && id_el.children[0].hasAttribute('data-root-id')) {\n",
       "\t  const root_el = id_el.children[0]\n",
       "\t  root_el.id = root_el.id + '-rendered'\n",
       "\t  for (const child of root_el.children) {\n",
       "            // Ensure JupyterLab does not capture keyboard shortcuts\n",
       "            // see: https://jupyterlab.readthedocs.io/en/4.1.x/extension/notebook.html#keyboard-interaction-model\n",
       "\t    child.setAttribute('data-lm-suppress-shortcuts', 'true')\n",
       "\t  }\n",
       "\t}\n",
       "      }\n",
       "    }\n",
       "  }\n",
       "  function get_bokeh(root) {\n",
       "    if (root.Bokeh === undefined) {\n",
       "      return null\n",
       "    } else if (root.Bokeh.version !== py_version) {\n",
       "      if (root.Bokeh.versions === undefined || !root.Bokeh.versions.has(py_version)) {\n",
       "\treturn null\n",
       "      }\n",
       "      return root.Bokeh.versions.get(py_version);\n",
       "    } else if (root.Bokeh.version === py_version) {\n",
       "      return root.Bokeh\n",
       "    }\n",
       "    return null\n",
       "  }\n",
       "  function is_loaded(root) {\n",
       "    var Bokeh = get_bokeh(root)\n",
       "    return (Bokeh != null && Bokeh.Panel !== undefined && ( root.Tabulator !== undefined) && ( root.Plotly !== undefined) && ( root.Tabulator !== undefined) && ( root.Plotly !== undefined))\n",
       "  }\n",
       "  if (is_loaded(root)) {\n",
       "    embed_document(root);\n",
       "  } else {\n",
       "    var attempts = 0;\n",
       "    var timer = setInterval(function(root) {\n",
       "      if (is_loaded(root)) {\n",
       "        clearInterval(timer);\n",
       "        embed_document(root);\n",
       "      } else if (document.readyState == \"complete\") {\n",
       "        attempts++;\n",
       "        if (attempts > 200) {\n",
       "          clearInterval(timer);\n",
       "\t  var Bokeh = get_bokeh(root)\n",
       "\t  if (Bokeh == null || Bokeh.Panel == null) {\n",
       "            console.warn(\"Panel: ERROR: Unable to run Panel code because Bokeh or Panel library is missing\");\n",
       "\t  } else {\n",
       "\t    console.warn(\"Panel: WARNING: Attempting to render but not all required libraries could be resolved.\")\n",
       "\t    embed_document(root)\n",
       "\t  }\n",
       "        }\n",
       "      }\n",
       "    }, 25, root)\n",
       "  }\n",
       "})(window);</script>"
      ],
      "text/plain": [
       "<panel.io.notebook.Mimebundle at 0x7fe8239a8830>"
      ]
     },
     "metadata": {
      "application/vnd.holoviews_exec.v0+json": {
       "id": "65eed612-b15f-416a-9829-d392f34ed17b"
      }
     },
     "output_type": "display_data"
    },
    {
     "name": "stdout",
     "output_type": "stream",
     "text": [
      "Embedding the final state for Jupyter environments\n"
     ]
    }
   ],
   "source": [
    "from tardis import run_tardis\n",
    "from tardis.io.atom_data import download_atom_data\n",
    "\n",
    "# We download the atomic data needed to run the simulation\n",
    "download_atom_data(\"kurucz_cd23_chianti_H_He_latest\")\n",
    "\n",
    "sim = run_tardis(\"tardis_example.yml\", virtual_packet_logging=True)"
   ]
  },
  {
   "cell_type": "markdown",
   "metadata": {},
   "source": [
    "Now, import functions & class to create widgets from `visualization` subpackage:\n"
   ]
  },
  {
   "cell_type": "code",
   "execution_count": 2,
   "metadata": {
    "ExecuteTime": {
     "end_time": "2021-02-18T17:29:30.986893Z",
     "start_time": "2021-02-18T17:29:30.978764Z"
    },
    "execution": {
     "iopub.execute_input": "2025-08-26T15:03:31.484857Z",
     "iopub.status.busy": "2025-08-26T15:03:31.484616Z",
     "iopub.status.idle": "2025-08-26T15:03:31.488376Z",
     "shell.execute_reply": "2025-08-26T15:03:31.487859Z"
    }
   },
   "outputs": [],
   "source": [
    "from tardis.visualization import (\n",
    "    shell_info_from_simulation,\n",
    "    shell_info_from_hdf,\n",
    "    LineInfoWidget,\n",
    "    GrotrianWidget,\n",
    ")"
   ]
  },
  {
   "cell_type": "markdown",
   "metadata": {},
   "source": [
    "## Shell Info Widget\n",
    "\n",
    "This widget allows you to explore chemical abundances of each shell - all the way from elements to ions to levels - by just clicking on the rows you want to explore!\n",
    "\n",
    "There are two ways in which you can generate the widget:\n"
   ]
  },
  {
   "cell_type": "markdown",
   "metadata": {},
   "source": [
    "### Using a Simulation object\n",
    "\n",
    "We will use the simulation object we created in the beginning, `sim` to generate shell info widget. Then simply display it to start using.\n"
   ]
  },
  {
   "cell_type": "markdown",
   "metadata": {},
   "source": [
    "<div class=\"alert alert-info\">\n",
    "\n",
    "**Note for Documentation Viewers**\n",
    "\n",
    "The interactive widget below will not function in the published documentation. To use this widget, please run this notebook locally in a Jupyter environment with TARDIS installed.\n",
    "\n",
    "</div>"
   ]
  },
  {
   "cell_type": "code",
   "execution_count": 3,
   "metadata": {
    "ExecuteTime": {
     "end_time": "2021-02-18T16:11:15.097803Z",
     "start_time": "2021-02-18T16:11:14.753761Z"
    },
    "execution": {
     "iopub.execute_input": "2025-08-26T15:03:31.490861Z",
     "iopub.status.busy": "2025-08-26T15:03:31.490639Z",
     "iopub.status.idle": "2025-08-26T15:03:31.791927Z",
     "shell.execute_reply": "2025-08-26T15:03:31.791398Z"
    }
   },
   "outputs": [
    {
     "data": {},
     "metadata": {},
     "output_type": "display_data"
    },
    {
     "data": {
      "application/vnd.holoviews_exec.v0+json": "",
      "text/html": [
       "<div id='7cecba6e-7973-4f49-bc90-731f7c3cd2aa'>\n",
       "  <div id=\"c1c6ae3c-1f1e-46e4-a536-0a9dbf65c1d0\" data-root-id=\"7cecba6e-7973-4f49-bc90-731f7c3cd2aa\" style=\"display: contents;\"></div>\n",
       "</div>\n",
       "<script type=\"application/javascript\">(function(root) {\n",
       "  var docs_json = {\"5910a449-16e5-40e6-9797-7740296de2db\":{\"version\":\"3.7.3\",\"title\":\"Bokeh Application\",\"roots\":[{\"type\":\"object\",\"name\":\"panel.models.layout.Column\",\"id\":\"7cecba6e-7973-4f49-bc90-731f7c3cd2aa\",\"attributes\":{\"name\":\"Column00153\",\"stylesheets\":[\"\\n:host(.pn-loading):before, .pn-loading:before {\\n  background-color: #c3c3c3;\\n  mask-size: auto calc(min(50%, 400px));\\n  -webkit-mask-size: auto calc(min(50%, 400px));\\n}\",{\"type\":\"object\",\"name\":\"ImportedStyleSheet\",\"id\":\"d79e1d41-41ba-4b96-8392-bb4bbcc3ac32\",\"attributes\":{\"url\":\"https://cdn.holoviz.org/panel/1.7.1/dist/css/loading.css\"}},{\"type\":\"object\",\"name\":\"ImportedStyleSheet\",\"id\":\"05015f4c-e0ef-4f3e-ae2b-93d194196e6e\",\"attributes\":{\"url\":\"https://cdn.holoviz.org/panel/1.7.1/dist/bundled/font-awesome/css/all.min.css\"}},{\"type\":\"object\",\"name\":\"ImportedStyleSheet\",\"id\":\"5f5269b6-6d35-4969-bb15-a165d2c1321d\",\"attributes\":{\"url\":\"https://cdn.holoviz.org/panel/1.7.1/dist/css/listpanel.css\"}},{\"type\":\"object\",\"name\":\"ImportedStyleSheet\",\"id\":\"792da073-7daa-4f70-b412-e502ee04874a\",\"attributes\":{\"url\":\"https://cdn.holoviz.org/panel/1.7.1/dist/bundled/theme/default.css\"}},{\"type\":\"object\",\"name\":\"ImportedStyleSheet\",\"id\":\"b584b36d-e0e2-4f0a-bfff-c744986a9327\",\"attributes\":{\"url\":\"https://cdn.holoviz.org/panel/1.7.1/dist/bundled/theme/native.css\"}}],\"margin\":0,\"sizing_mode\":\"stretch_width\",\"align\":\"start\",\"children\":[{\"type\":\"object\",\"name\":\"panel.models.markup.HTML\",\"id\":\"56002e66-f80c-46b7-9ef9-c21a0e503aec\",\"attributes\":{\"stylesheets\":[\"\\n:host(.pn-loading):before, .pn-loading:before {\\n  background-color: #c3c3c3;\\n  mask-size: auto calc(min(50%, 400px));\\n  -webkit-mask-size: auto calc(min(50%, 400px));\\n}\",{\"id\":\"d79e1d41-41ba-4b96-8392-bb4bbcc3ac32\"},{\"id\":\"05015f4c-e0ef-4f3e-ae2b-93d194196e6e\"},{\"id\":\"792da073-7daa-4f70-b412-e502ee04874a\"},{\"id\":\"b584b36d-e0e2-4f0a-bfff-c744986a9327\"}],\"margin\":[5,10],\"align\":\"start\",\"text\":\"&lt;b&gt;Frac. Ab.&lt;/b&gt; denotes &lt;i&gt;Fractional Abundances&lt;/i&gt; (i.e all values sum to 1)&lt;br&gt;&lt;b&gt;W&lt;/b&gt; denotes &lt;i&gt;Dilution Factor&lt;/i&gt; and &lt;b&gt;Rad. Temp.&lt;/b&gt; is &lt;i&gt;Radiative Temperature (in K)&lt;/i&gt;\",\"disable_math\":true}},{\"type\":\"object\",\"name\":\"Row\",\"id\":\"432c1eb5-5e47-4ed8-a93a-fceaabfb67af\",\"attributes\":{\"name\":\"Row00150\",\"stylesheets\":[\"\\n:host(.pn-loading):before, .pn-loading:before {\\n  background-color: #c3c3c3;\\n  mask-size: auto calc(min(50%, 400px));\\n  -webkit-mask-size: auto calc(min(50%, 400px));\\n}\",{\"id\":\"d79e1d41-41ba-4b96-8392-bb4bbcc3ac32\"},{\"id\":\"05015f4c-e0ef-4f3e-ae2b-93d194196e6e\"},{\"id\":\"5f5269b6-6d35-4969-bb15-a165d2c1321d\"},{\"id\":\"792da073-7daa-4f70-b412-e502ee04874a\"},{\"id\":\"b584b36d-e0e2-4f0a-bfff-c744986a9327\"}],\"min_width\":0,\"margin\":0,\"sizing_mode\":\"stretch_width\",\"align\":\"start\",\"children\":[{\"type\":\"object\",\"name\":\"panel.models.tabulator.DataTabulator\",\"id\":\"9a8955ef-6a78-41eb-83b4-fba11d6774e3\",\"attributes\":{\"subscribed_events\":{\"type\":\"set\",\"entries\":[\"cell-click\",\"table-edit\",\"selection-change\"]},\"stylesheets\":[\"\\n:host(.pn-loading):before, .pn-loading:before {\\n  background-color: #c3c3c3;\\n  mask-size: auto calc(min(50%, 400px));\\n  -webkit-mask-size: auto calc(min(50%, 400px));\\n}\",{\"id\":\"d79e1d41-41ba-4b96-8392-bb4bbcc3ac32\"},{\"id\":\"05015f4c-e0ef-4f3e-ae2b-93d194196e6e\"},{\"id\":\"05015f4c-e0ef-4f3e-ae2b-93d194196e6e\"},{\"id\":\"792da073-7daa-4f70-b412-e502ee04874a\"},{\"id\":\"b584b36d-e0e2-4f0a-bfff-c744986a9327\"},{\"type\":\"object\",\"name\":\"ImportedStyleSheet\",\"id\":\"be7cef1d-9411-48d7-900a-7210555bfc9c\",\"attributes\":{\"url\":\"https://cdn.holoviz.org/panel/1.7.1/dist/bundled/datatabulator/tabulator-tables@6.3.1/dist/css/tabulator_simple.min.css\"}}],\"height\":400,\"min_width\":0,\"margin\":[5,10],\"sizing_mode\":\"stretch_width\",\"align\":\"start\",\"configuration\":{\"type\":\"map\",\"entries\":[[\"selectable\",\"highlight\"],[\"selectableRangeMode\",\"click\"],[\"columns\",[{\"type\":\"map\",\"entries\":[[\"field\",\"Shell No.\"],[\"sorter\",\"number\"]]},{\"type\":\"map\",\"entries\":[[\"field\",\"Rad. Temp.\"]]},{\"type\":\"map\",\"entries\":[[\"field\",\"Dilution Factor\"]]}]],[\"dataTree\",false],[\"height\",400]]},\"columns\":[{\"type\":\"object\",\"name\":\"TableColumn\",\"id\":\"bfba9108-9d8a-4821-9562-c95f1e8256d6\",\"attributes\":{\"field\":\"Shell No.\",\"title\":\"Shell No.\",\"width\":0,\"formatter\":{\"type\":\"object\",\"name\":\"NumberFormatter\",\"id\":\"5a124869-2e58-4163-8924-3f27240aadf9\",\"attributes\":{\"text_align\":{\"type\":\"value\",\"value\":\"left\"}}},\"editor\":{\"type\":\"object\",\"name\":\"CellEditor\",\"id\":\"f1515b10-85b8-4fd4-b40b-c3b1718acbb1\"}}},{\"type\":\"object\",\"name\":\"TableColumn\",\"id\":\"366da649-cc76-4d0c-ab1a-3a0009df8ce0\",\"attributes\":{\"field\":\"Rad. Temp.\",\"title\":\"Rad. Temp.\",\"width\":0,\"formatter\":{\"type\":\"object\",\"name\":\"StringFormatter\",\"id\":\"b2ec710e-50fd-44e5-ab27-1877e6ab5172\",\"attributes\":{\"null_format\":\"\"}},\"editor\":{\"type\":\"object\",\"name\":\"StringEditor\",\"id\":\"4390dcb4-2247-432f-9383-4ef2c7c72724\"}}},{\"type\":\"object\",\"name\":\"TableColumn\",\"id\":\"e8ec46b4-e3de-4fad-8ad8-3fbf851fad2a\",\"attributes\":{\"field\":\"Dilution Factor\",\"title\":\"Dilution Factor\",\"width\":0,\"formatter\":{\"type\":\"object\",\"name\":\"StringFormatter\",\"id\":\"9925eecb-95cf-41c5-8c94-5d02524f03d7\",\"attributes\":{\"null_format\":\"\"}},\"editor\":{\"type\":\"object\",\"name\":\"StringEditor\",\"id\":\"9c0c032b-e048-4792-8451-3fb45d1cf6a8\"}}}],\"editable\":false,\"indexes\":[\"Shell No.\"],\"layout\":\"fit_data_table\",\"source\":{\"type\":\"object\",\"name\":\"ColumnDataSource\",\"id\":\"293f0a6d-fcc9-4cc2-b923-c07d26061b0e\",\"attributes\":{\"selected\":{\"type\":\"object\",\"name\":\"Selection\",\"id\":\"561eb4c8-ab82-4c6d-b02d-c56ba20475e8\",\"attributes\":{\"indices\":[0],\"line_indices\":[]}},\"selection_policy\":{\"type\":\"object\",\"name\":\"UnionRenderers\",\"id\":\"83947c4a-c772-451a-b5ef-9f6a062925a9\"},\"data\":{\"type\":\"map\",\"entries\":[[\"Shell No.\",{\"type\":\"ndarray\",\"array\":{\"type\":\"bytes\",\"data\":\"AQAAAAIAAAADAAAABAAAAAUAAAAGAAAABwAAAAgAAAAJAAAACgAAAAsAAAAMAAAADQAAAA4AAAAPAAAAEAAAABEAAAASAAAAEwAAABQAAAA=\"},\"shape\":[20],\"dtype\":\"int32\",\"order\":\"little\"}],[\"Rad. Temp.\",{\"type\":\"ndarray\",\"array\":[\"1.108375e+04\",\"1.117517e+04\",\"1.128510e+04\",\"1.139329e+04\",\"1.135234e+04\",\"1.138410e+04\",\"1.134176e+04\",\"1.130658e+04\",\"1.126811e+04\",\"1.118211e+04\",\"1.112117e+04\",\"1.104936e+04\",\"1.096458e+04\",\"1.089202e+04\",\"1.079760e+04\",\"1.069584e+04\",\"1.059149e+04\",\"1.053700e+04\",\"1.045703e+04\",\"1.035598e+04\"],\"shape\":[20],\"dtype\":\"object\",\"order\":\"little\"}],[\"Dilution Factor\",{\"type\":\"ndarray\",\"array\":[\"4.646813e-01\",\"3.591698e-01\",\"2.844378e-01\",\"2.300569e-01\",\"2.002867e-01\",\"1.734472e-01\",\"1.551815e-01\",\"1.401774e-01\",\"1.273980e-01\",\"1.176787e-01\",\"1.094191e-01\",\"1.029319e-01\",\"9.739948e-02\",\"9.193148e-02\",\"8.766982e-02\",\"8.391338e-02\",\"8.120465e-02\",\"7.771530e-02\",\"7.477147e-02\",\"7.244056e-02\"],\"shape\":[20],\"dtype\":\"object\",\"order\":\"little\"}]]}}},\"cell_styles\":{\"type\":\"map\",\"entries\":[[\"id\",\"7159c931379f4332b29dd0aac794d93e\"],[\"data\",{\"type\":\"map\"}]]},\"page\":1,\"page_size\":20,\"select_mode\":true,\"selectable_rows\":null}},{\"type\":\"object\",\"name\":\"panel.models.tabulator.DataTabulator\",\"id\":\"72182c31-4615-44fb-a4fe-f474a9e9952a\",\"attributes\":{\"subscribed_events\":{\"type\":\"set\",\"entries\":[\"cell-click\",\"table-edit\",\"selection-change\"]},\"stylesheets\":[\"\\n:host(.pn-loading):before, .pn-loading:before {\\n  background-color: #c3c3c3;\\n  mask-size: auto calc(min(50%, 400px));\\n  -webkit-mask-size: auto calc(min(50%, 400px));\\n}\",{\"id\":\"d79e1d41-41ba-4b96-8392-bb4bbcc3ac32\"},{\"id\":\"05015f4c-e0ef-4f3e-ae2b-93d194196e6e\"},{\"id\":\"05015f4c-e0ef-4f3e-ae2b-93d194196e6e\"},{\"id\":\"792da073-7daa-4f70-b412-e502ee04874a\"},{\"id\":\"b584b36d-e0e2-4f0a-bfff-c744986a9327\"},{\"id\":\"be7cef1d-9411-48d7-900a-7210555bfc9c\"}],\"height\":230,\"min_width\":0,\"margin\":[5,10],\"sizing_mode\":\"stretch_width\",\"align\":\"start\",\"configuration\":{\"type\":\"map\",\"entries\":[[\"selectable\",\"highlight\"],[\"selectableRangeMode\",\"click\"],[\"columns\",[{\"type\":\"map\",\"entries\":[[\"field\",\"Z\"],[\"sorter\",\"number\"]]},{\"type\":\"map\",\"entries\":[[\"field\",\"Element\"]]},{\"type\":\"map\",\"entries\":[[\"field\",\"Frac. Ab. (Shell 1)\"]]}]],[\"dataTree\",false],[\"height\",230]]},\"columns\":[{\"type\":\"object\",\"name\":\"TableColumn\",\"id\":\"cfde9fff-c4df-4132-9d7b-7c3a3368e6c0\",\"attributes\":{\"field\":\"Z\",\"title\":\"Z\",\"width\":0,\"formatter\":{\"type\":\"object\",\"name\":\"NumberFormatter\",\"id\":\"e5721173-9650-494d-8900-7f577cf56cec\",\"attributes\":{\"text_align\":{\"type\":\"value\",\"value\":\"left\"}}},\"editor\":{\"type\":\"object\",\"name\":\"CellEditor\",\"id\":\"7b593e21-cadd-4d22-9dff-3f743f9bf1a8\"}}},{\"type\":\"object\",\"name\":\"TableColumn\",\"id\":\"a29addca-6d95-401d-abd2-2f9e647de371\",\"attributes\":{\"field\":\"Element\",\"title\":\"Element\",\"width\":0,\"formatter\":{\"type\":\"object\",\"name\":\"StringFormatter\",\"id\":\"fe00d1aa-2b73-4598-ac2b-8114054aa75f\",\"attributes\":{\"null_format\":\"\"}},\"editor\":{\"type\":\"object\",\"name\":\"StringEditor\",\"id\":\"d3fb08a5-ee83-4305-91a1-baaf909d4aa5\"}}},{\"type\":\"object\",\"name\":\"TableColumn\",\"id\":\"b33103e8-e25a-4ced-87fa-55c8a8d759b3\",\"attributes\":{\"field\":\"Frac. Ab. (Shell 1)\",\"title\":\"Frac. Ab. (Shell 1)\",\"width\":0,\"formatter\":{\"type\":\"object\",\"name\":\"StringFormatter\",\"id\":\"134e91d8-0688-43cc-9012-034f2416580c\",\"attributes\":{\"null_format\":\"\"}},\"editor\":{\"type\":\"object\",\"name\":\"StringEditor\",\"id\":\"7d84d49b-cd73-4595-a583-019b4026b509\"}}}],\"editable\":false,\"indexes\":[\"Z\"],\"layout\":\"fit_data_table\",\"source\":{\"type\":\"object\",\"name\":\"ColumnDataSource\",\"id\":\"f388d52a-e6bd-442c-8ac2-1235d2f61da1\",\"attributes\":{\"selected\":{\"type\":\"object\",\"name\":\"Selection\",\"id\":\"28073318-8d54-42d3-8781-72a25f98969b\",\"attributes\":{\"indices\":[0],\"line_indices\":[]}},\"selection_policy\":{\"type\":\"object\",\"name\":\"UnionRenderers\",\"id\":\"cca29ede-0683-494e-b529-43c5ad324e56\"},\"data\":{\"type\":\"map\",\"entries\":[[\"Z\",{\"type\":\"ndarray\",\"array\":{\"type\":\"bytes\",\"data\":\"CAAAAAwAAAAOAAAAEAAAABIAAAAUAAAA\"},\"shape\":[6],\"dtype\":\"int32\",\"order\":\"little\"}],[\"Element\",{\"type\":\"ndarray\",\"array\":[\"O\",\"Mg\",\"Si\",\"S\",\"Ar\",\"Ca\"],\"shape\":[6],\"dtype\":\"object\",\"order\":\"little\"}],[\"Frac. Ab. (Shell 1)\",{\"type\":\"ndarray\",\"array\":[\"1.900000e-01\",\"3.000000e-02\",\"5.200000e-01\",\"1.900000e-01\",\"4.000000e-02\",\"3.000000e-02\"],\"shape\":[6],\"dtype\":\"object\",\"order\":\"little\"}]]}}},\"cell_styles\":{\"type\":\"map\",\"entries\":[[\"id\",\"33a6cc64ac824e5da6180a47db189889\"],[\"data\",{\"type\":\"map\"}]]},\"page\":1,\"page_size\":6,\"select_mode\":true,\"selectable_rows\":null}},{\"type\":\"object\",\"name\":\"panel.models.tabulator.DataTabulator\",\"id\":\"5dcfe41f-6ac7-4393-98f5-c886888a5c22\",\"attributes\":{\"subscribed_events\":{\"type\":\"set\",\"entries\":[\"cell-click\",\"table-edit\",\"selection-change\"]},\"stylesheets\":[\"\\n:host(.pn-loading):before, .pn-loading:before {\\n  background-color: #c3c3c3;\\n  mask-size: auto calc(min(50%, 400px));\\n  -webkit-mask-size: auto calc(min(50%, 400px));\\n}\",{\"id\":\"d79e1d41-41ba-4b96-8392-bb4bbcc3ac32\"},{\"id\":\"05015f4c-e0ef-4f3e-ae2b-93d194196e6e\"},{\"id\":\"05015f4c-e0ef-4f3e-ae2b-93d194196e6e\"},{\"id\":\"792da073-7daa-4f70-b412-e502ee04874a\"},{\"id\":\"b584b36d-e0e2-4f0a-bfff-c744986a9327\"},{\"id\":\"be7cef1d-9411-48d7-900a-7210555bfc9c\"}],\"height\":320,\"min_width\":0,\"margin\":[5,10],\"sizing_mode\":\"stretch_width\",\"align\":\"start\",\"configuration\":{\"type\":\"map\",\"entries\":[[\"selectable\",\"highlight\"],[\"selectableRangeMode\",\"click\"],[\"columns\",[{\"type\":\"map\",\"entries\":[[\"field\",\"Ion\"],[\"sorter\",\"number\"]]},{\"type\":\"map\",\"entries\":[[\"field\",\"Species\"]]},{\"type\":\"map\",\"entries\":[[\"field\",\"Frac. Ab. (Z=8)\"]]}]],[\"dataTree\",false],[\"height\",320]]},\"columns\":[{\"type\":\"object\",\"name\":\"TableColumn\",\"id\":\"1496e66c-696e-449d-b330-62ecfeac1f73\",\"attributes\":{\"field\":\"Ion\",\"title\":\"Ion\",\"width\":0,\"formatter\":{\"type\":\"object\",\"name\":\"NumberFormatter\",\"id\":\"d0916553-aca0-492c-86cb-35e342c59d3c\",\"attributes\":{\"text_align\":{\"type\":\"value\",\"value\":\"left\"}}},\"editor\":{\"type\":\"object\",\"name\":\"CellEditor\",\"id\":\"cd0e7838-8554-40bf-9d58-fe9f049b1e53\"}}},{\"type\":\"object\",\"name\":\"TableColumn\",\"id\":\"312f1e47-7f74-47fb-a0e0-d4ac4cad144c\",\"attributes\":{\"field\":\"Species\",\"title\":\"Species\",\"width\":0,\"formatter\":{\"type\":\"object\",\"name\":\"StringFormatter\",\"id\":\"d3318204-115c-483e-b186-8f23a6eaf4da\",\"attributes\":{\"null_format\":\"\"}},\"editor\":{\"type\":\"object\",\"name\":\"StringEditor\",\"id\":\"f8ed0f7b-2f3b-4651-8b2d-5dfd8b282058\"}}},{\"type\":\"object\",\"name\":\"TableColumn\",\"id\":\"1ea003cd-fa35-4534-8d2a-30b4b77c91de\",\"attributes\":{\"field\":\"Frac. Ab. (Z=8)\",\"title\":\"Frac. Ab. (Z=8)\",\"width\":0,\"formatter\":{\"type\":\"object\",\"name\":\"StringFormatter\",\"id\":\"ea95d3cf-76e9-44d0-ad0d-25367b2129eb\",\"attributes\":{\"null_format\":\"\"}},\"editor\":{\"type\":\"object\",\"name\":\"StringEditor\",\"id\":\"931587ae-aa80-452e-ad3b-e5ca53da60f7\"}}}],\"editable\":false,\"indexes\":[\"Ion\"],\"layout\":\"fit_data_table\",\"source\":{\"type\":\"object\",\"name\":\"ColumnDataSource\",\"id\":\"b9705556-8bb4-4aad-b254-c253b9b99fab\",\"attributes\":{\"selected\":{\"type\":\"object\",\"name\":\"Selection\",\"id\":\"909baf88-49ad-49db-ac65-c99658ecc193\",\"attributes\":{\"indices\":[0],\"line_indices\":[]}},\"selection_policy\":{\"type\":\"object\",\"name\":\"UnionRenderers\",\"id\":\"3029c3a9-dc2f-48f9-9e21-af96a0302ae1\"},\"data\":{\"type\":\"map\",\"entries\":[[\"Ion\",{\"type\":\"ndarray\",\"array\":{\"type\":\"bytes\",\"data\":\"AAAAAAEAAAACAAAAAwAAAAQAAAAFAAAABgAAAAcAAAAIAAAA\"},\"shape\":[9],\"dtype\":\"int32\",\"order\":\"little\"}],[\"Species\",{\"type\":\"ndarray\",\"array\":[\"O I\",\"O II\",\"O III\",\"O IV\",\"O V\",\"O VI\",\"O VII\",\"O VIII\",\"O IX\"],\"shape\":[9],\"dtype\":\"object\",\"order\":\"little\"}],[\"Frac. Ab. (Z=8)\",{\"type\":\"ndarray\",\"array\":[\"1.783045e-06\",\"9.995645e-01\",\"4.336896e-04\",\"5.563477e-17\",\"0.000000e+00\",\"0.000000e+00\",\"0.000000e+00\",\"0.000000e+00\",\"0.000000e+00\"],\"shape\":[9],\"dtype\":\"object\",\"order\":\"little\"}]]}}},\"cell_styles\":{\"type\":\"map\",\"entries\":[[\"id\",\"8e000aafeced42c6acd822b122f5c4cf\"],[\"data\",{\"type\":\"map\"}]]},\"page\":1,\"page_size\":9,\"select_mode\":true,\"selectable_rows\":null}},{\"type\":\"object\",\"name\":\"panel.models.tabulator.DataTabulator\",\"id\":\"2da55c25-5d49-4a35-96f5-35bd6e9d3199\",\"attributes\":{\"subscribed_events\":{\"type\":\"set\",\"entries\":[\"cell-click\",\"table-edit\",\"selection-change\"]},\"stylesheets\":[\"\\n:host(.pn-loading):before, .pn-loading:before {\\n  background-color: #c3c3c3;\\n  mask-size: auto calc(min(50%, 400px));\\n  -webkit-mask-size: auto calc(min(50%, 400px));\\n}\",{\"id\":\"d79e1d41-41ba-4b96-8392-bb4bbcc3ac32\"},{\"id\":\"05015f4c-e0ef-4f3e-ae2b-93d194196e6e\"},{\"id\":\"05015f4c-e0ef-4f3e-ae2b-93d194196e6e\"},{\"id\":\"792da073-7daa-4f70-b412-e502ee04874a\"},{\"id\":\"b584b36d-e0e2-4f0a-bfff-c744986a9327\"},{\"id\":\"be7cef1d-9411-48d7-900a-7210555bfc9c\"}],\"height\":400,\"min_width\":0,\"margin\":[5,10],\"sizing_mode\":\"stretch_width\",\"align\":\"start\",\"configuration\":{\"type\":\"map\",\"entries\":[[\"selectable\",\"highlight\"],[\"selectableRangeMode\",\"click\"],[\"columns\",[{\"type\":\"map\",\"entries\":[[\"field\",\"Level\"],[\"sorter\",\"number\"]]},{\"type\":\"map\",\"entries\":[[\"field\",\"Frac. Ab. (Ion=0)\"]]}]],[\"dataTree\",false],[\"height\",400]]},\"columns\":[{\"type\":\"object\",\"name\":\"TableColumn\",\"id\":\"5e06ecff-d987-42d7-9341-b077438655a4\",\"attributes\":{\"field\":\"Level\",\"title\":\"Level\",\"width\":0,\"formatter\":{\"type\":\"object\",\"name\":\"NumberFormatter\",\"id\":\"7fa694ba-b199-4aa8-bea7-53dcc7074858\",\"attributes\":{\"text_align\":{\"type\":\"value\",\"value\":\"left\"}}},\"editor\":{\"type\":\"object\",\"name\":\"CellEditor\",\"id\":\"44c7ae01-20c2-4d6e-ad8f-b0c1f1326c07\"}}},{\"type\":\"object\",\"name\":\"TableColumn\",\"id\":\"c8bdf5b0-913a-4231-a534-a8c3cc892ed4\",\"attributes\":{\"field\":\"Frac. Ab. (Ion=0)\",\"title\":\"Frac. Ab. (Ion=0)\",\"width\":0,\"formatter\":{\"type\":\"object\",\"name\":\"StringFormatter\",\"id\":\"d778d195-7069-46d4-84e1-2cea200d29bd\",\"attributes\":{\"null_format\":\"\"}},\"editor\":{\"type\":\"object\",\"name\":\"StringEditor\",\"id\":\"30c9031d-4208-4441-ae27-f86fe13c96e2\"}}}],\"editable\":false,\"indexes\":[\"Level\"],\"layout\":\"fit_data_table\",\"source\":{\"type\":\"object\",\"name\":\"ColumnDataSource\",\"id\":\"0209cfc9-c0c1-4152-a233-2f64aad8d70e\",\"attributes\":{\"selected\":{\"type\":\"object\",\"name\":\"Selection\",\"id\":\"f17918c1-0fb3-463d-9de1-5fd94cc1f910\",\"attributes\":{\"indices\":[],\"line_indices\":[]}},\"selection_policy\":{\"type\":\"object\",\"name\":\"UnionRenderers\",\"id\":\"aa3483df-29cf-4ae1-98aa-c438f5be18b9\"},\"data\":{\"type\":\"map\",\"entries\":[[\"Level\",{\"type\":\"ndarray\",\"array\":{\"type\":\"bytes\",\"data\":\"AAAAAAEAAAACAAAAAwAAAAQAAAAFAAAABgAAAAcAAAAIAAAACQAAAAoAAAALAAAADAAAAA0AAAAOAAAADwAAABAAAAARAAAAEgAAABMAAAAUAAAAFQAAABYAAAAXAAAAGAAAABkAAAAaAAAAGwAAABwAAAAdAAAAHgAAAB8AAAAgAAAAIQAAACIAAAAjAAAAJAAAACUAAAAmAAAAJwAAACgAAAApAAAAKgAAACsAAAAsAAAALQAAAC4AAAAvAAAAMAAAADEAAAAyAAAAMwAAADQAAAA1AAAANgAAADcAAAA4AAAAOQAAADoAAAA7AAAAPAAAAD0AAAA+AAAAPwAAAEAAAABBAAAAQgAAAEMAAABEAAAARQAAAEYAAABHAAAASAAAAEkAAABKAAAASwAAAEwAAABNAAAATgAAAE8AAABQAAAAUQAAAFIAAABTAAAAVAAAAFUAAABWAAAAVwAAAFgAAABZAAAAWgAAAFsAAABcAAAAXQAAAF4AAABfAAAAYAAAAGEAAABiAAAAYwAAAGQAAABlAAAAZgAAAGcAAABoAAAAaQAAAGoAAABrAAAAbAAAAG0AAABuAAAAbwAAAHAAAABxAAAAcgAAAHMAAAB0AAAAdQAAAHYAAAB3AAAAeAAAAHkAAAB6AAAAewAAAHwAAAB9AAAAfgAAAH8AAACAAAAAgQAAAIIAAACDAAAAhAAAAIUAAACGAAAAhwAAAIgAAACJAAAAigAAAIsAAACMAAAAjQAAAI4AAACPAAAAkAAAAJEAAACSAAAAkwAAAJQAAACVAAAA\"},\"shape\":[150],\"dtype\":\"int32\",\"order\":\"little\"}],[\"Frac. Ab. (Ion=0)\",{\"type\":\"ndarray\",\"array\":[\"5.229304e-01\",\"3.073781e-01\",\"1.015495e-01\",\"6.666290e-02\",\"1.301361e-03\",\"3.628438e-05\",\"1.469720e-05\",\"4.102220e-06\",\"6.835240e-06\",\"9.564770e-06\",\"3.162245e-06\",\"5.270026e-06\",\"1.053984e-06\",\"2.167151e-06\",\"1.179922e-06\",\"3.030910e-06\",\"2.357348e-06\",\"1.683793e-06\",\"1.010263e-06\",\"3.367520e-07\",\"1.001457e-06\",\"1.669081e-06\",\"2.336685e-06\",\"8.131540e-07\",\"1.355138e-06\",\"1.896899e-06\",\"7.533972e-07\",\"1.255649e-06\",\"2.511213e-07\",\"1.455479e-06\",\"1.037994e-06\",\"6.221582e-07\",\"9.152865e-07\",\"5.285192e-07\",\"8.527346e-07\",\"1.494910e-06\",\"1.162702e-06\",\"8.304949e-07\",\"4.982938e-07\",\"1.660974e-07\",\"1.156256e-06\",\"8.258896e-07\",\"4.955308e-07\",\"4.917016e-07\",\"8.195027e-07\",\"1.147304e-06\",\"1.475105e-06\",\"1.802906e-06\",\"8.194927e-07\",\"1.147290e-06\",\"1.475087e-06\",\"4.514758e-07\",\"4.514751e-07\",\"7.524247e-07\",\"7.524236e-07\",\"1.053326e-06\",\"1.053325e-06\",\"7.289798e-07\",\"4.373845e-07\",\"1.457906e-07\",\"6.279439e-07\",\"3.696966e-07\",\"1.077847e-06\",\"8.383232e-07\",\"5.987998e-07\",\"3.592786e-07\",\"1.197593e-07\",\"3.581809e-07\",\"5.969682e-07\",\"8.357555e-07\",\"3.566667e-07\",\"5.944445e-07\",\"8.322223e-07\",\"1.070000e-06\",\"1.307778e-06\",\"5.944384e-07\",\"8.322137e-07\",\"1.069989e-06\",\"3.409670e-07\",\"5.682662e-07\",\"7.955457e-07\",\"1.118467e-07\",\"3.355400e-07\",\"5.592333e-07\",\"5.150971e-07\",\"3.057629e-07\",\"9.026990e-07\",\"7.020982e-07\",\"5.014977e-07\",\"3.008981e-07\",\"1.002993e-07\",\"3.003395e-07\",\"5.005658e-07\",\"7.007921e-07\",\"2.995857e-07\",\"4.993096e-07\",\"6.990334e-07\",\"8.987572e-07\",\"1.098481e-06\",\"4.993069e-07\",\"6.990297e-07\",\"8.987524e-07\",\"4.582607e-07\",\"2.731355e-07\",\"8.113358e-07\",\"6.310383e-07\",\"4.507410e-07\",\"2.704443e-07\",\"9.014804e-08\",\"2.701189e-07\",\"4.501982e-07\",\"6.302775e-07\",\"2.696858e-07\",\"4.494763e-07\",\"6.292668e-07\",\"8.090573e-07\",\"9.888479e-07\",\"4.494759e-07\",\"6.292663e-07\",\"8.090566e-07\",\"4.252812e-07\",\"2.540054e-07\",\"7.571383e-07\",\"5.888850e-07\",\"4.206317e-07\",\"2.523788e-07\",\"8.412624e-08\",\"2.521198e-07\",\"4.201997e-07\",\"5.882796e-07\",\"4.042554e-07\",\"2.417894e-07\",\"8.024256e-08\",\"2.407277e-07\",\"4.012128e-07\",\"5.616979e-07\",\"7.221831e-07\",\"2.405247e-07\",\"4.008744e-07\",\"5.612242e-07\",\"3.900081e-07\",\"2.334860e-07\",\"7.756644e-08\",\"2.326993e-07\",\"3.878322e-07\",\"5.429651e-07\",\"6.980980e-07\",\"2.325604e-07\",\"3.876007e-07\",\"5.426410e-07\"],\"shape\":[150],\"dtype\":\"object\",\"order\":\"little\"}]]}}},\"cell_styles\":{\"type\":\"map\",\"entries\":[[\"id\",\"07db5ed1c6834b43a052784ac54e53f2\"],[\"data\",{\"type\":\"map\"}]]},\"page\":1,\"page_size\":150,\"select_mode\":true,\"selectable_rows\":null}}]}}]}},{\"type\":\"object\",\"name\":\"panel.models.comm_manager.CommManager\",\"id\":\"76aea743-da50-4c6f-81f9-3878bed39b73\",\"attributes\":{\"plot_id\":\"7cecba6e-7973-4f49-bc90-731f7c3cd2aa\",\"comm_id\":\"1be6193846ee4b99b445c23725d1c01d\",\"client_comm_id\":\"e73f4deca0304af9b6513a99ea8c4954\"}}],\"defs\":[{\"type\":\"model\",\"name\":\"ReactiveHTML1\"},{\"type\":\"model\",\"name\":\"FlexBox1\",\"properties\":[{\"name\":\"align_content\",\"kind\":\"Any\",\"default\":\"flex-start\"},{\"name\":\"align_items\",\"kind\":\"Any\",\"default\":\"flex-start\"},{\"name\":\"flex_direction\",\"kind\":\"Any\",\"default\":\"row\"},{\"name\":\"flex_wrap\",\"kind\":\"Any\",\"default\":\"wrap\"},{\"name\":\"gap\",\"kind\":\"Any\",\"default\":\"\"},{\"name\":\"justify_content\",\"kind\":\"Any\",\"default\":\"flex-start\"}]},{\"type\":\"model\",\"name\":\"FloatPanel1\",\"properties\":[{\"name\":\"config\",\"kind\":\"Any\",\"default\":{\"type\":\"map\"}},{\"name\":\"contained\",\"kind\":\"Any\",\"default\":true},{\"name\":\"position\",\"kind\":\"Any\",\"default\":\"right-top\"},{\"name\":\"offsetx\",\"kind\":\"Any\",\"default\":null},{\"name\":\"offsety\",\"kind\":\"Any\",\"default\":null},{\"name\":\"theme\",\"kind\":\"Any\",\"default\":\"primary\"},{\"name\":\"status\",\"kind\":\"Any\",\"default\":\"normalized\"}]},{\"type\":\"model\",\"name\":\"GridStack1\",\"properties\":[{\"name\":\"ncols\",\"kind\":\"Any\",\"default\":null},{\"name\":\"nrows\",\"kind\":\"Any\",\"default\":null},{\"name\":\"allow_resize\",\"kind\":\"Any\",\"default\":true},{\"name\":\"allow_drag\",\"kind\":\"Any\",\"default\":true},{\"name\":\"state\",\"kind\":\"Any\",\"default\":[]}]},{\"type\":\"model\",\"name\":\"drag1\",\"properties\":[{\"name\":\"slider_width\",\"kind\":\"Any\",\"default\":5},{\"name\":\"slider_color\",\"kind\":\"Any\",\"default\":\"black\"},{\"name\":\"value\",\"kind\":\"Any\",\"default\":50}]},{\"type\":\"model\",\"name\":\"click1\",\"properties\":[{\"name\":\"terminal_output\",\"kind\":\"Any\",\"default\":\"\"},{\"name\":\"debug_name\",\"kind\":\"Any\",\"default\":\"\"},{\"name\":\"clears\",\"kind\":\"Any\",\"default\":0}]},{\"type\":\"model\",\"name\":\"FastWrapper1\",\"properties\":[{\"name\":\"object\",\"kind\":\"Any\",\"default\":null},{\"name\":\"style\",\"kind\":\"Any\",\"default\":null}]},{\"type\":\"model\",\"name\":\"NotificationArea1\",\"properties\":[{\"name\":\"js_events\",\"kind\":\"Any\",\"default\":{\"type\":\"map\"}},{\"name\":\"max_notifications\",\"kind\":\"Any\",\"default\":5},{\"name\":\"notifications\",\"kind\":\"Any\",\"default\":[]},{\"name\":\"position\",\"kind\":\"Any\",\"default\":\"bottom-right\"},{\"name\":\"_clear\",\"kind\":\"Any\",\"default\":0},{\"name\":\"types\",\"kind\":\"Any\",\"default\":[{\"type\":\"map\",\"entries\":[[\"type\",\"warning\"],[\"background\",\"#ffc107\"],[\"icon\",{\"type\":\"map\",\"entries\":[[\"className\",\"fas fa-exclamation-triangle\"],[\"tagName\",\"i\"],[\"color\",\"white\"]]}]]},{\"type\":\"map\",\"entries\":[[\"type\",\"info\"],[\"background\",\"#007bff\"],[\"icon\",{\"type\":\"map\",\"entries\":[[\"className\",\"fas fa-info-circle\"],[\"tagName\",\"i\"],[\"color\",\"white\"]]}]]}]}]},{\"type\":\"model\",\"name\":\"Notification\",\"properties\":[{\"name\":\"background\",\"kind\":\"Any\",\"default\":null},{\"name\":\"duration\",\"kind\":\"Any\",\"default\":3000},{\"name\":\"icon\",\"kind\":\"Any\",\"default\":null},{\"name\":\"message\",\"kind\":\"Any\",\"default\":\"\"},{\"name\":\"notification_type\",\"kind\":\"Any\",\"default\":null},{\"name\":\"_rendered\",\"kind\":\"Any\",\"default\":false},{\"name\":\"_destroyed\",\"kind\":\"Any\",\"default\":false}]},{\"type\":\"model\",\"name\":\"TemplateActions1\",\"properties\":[{\"name\":\"open_modal\",\"kind\":\"Any\",\"default\":0},{\"name\":\"close_modal\",\"kind\":\"Any\",\"default\":0}]},{\"type\":\"model\",\"name\":\"BootstrapTemplateActions1\",\"properties\":[{\"name\":\"open_modal\",\"kind\":\"Any\",\"default\":0},{\"name\":\"close_modal\",\"kind\":\"Any\",\"default\":0}]},{\"type\":\"model\",\"name\":\"TemplateEditor1\",\"properties\":[{\"name\":\"layout\",\"kind\":\"Any\",\"default\":[]}]},{\"type\":\"model\",\"name\":\"MaterialTemplateActions1\",\"properties\":[{\"name\":\"open_modal\",\"kind\":\"Any\",\"default\":0},{\"name\":\"close_modal\",\"kind\":\"Any\",\"default\":0}]},{\"type\":\"model\",\"name\":\"ReactiveESM1\",\"properties\":[{\"name\":\"esm_constants\",\"kind\":\"Any\",\"default\":{\"type\":\"map\"}}]},{\"type\":\"model\",\"name\":\"JSComponent1\",\"properties\":[{\"name\":\"esm_constants\",\"kind\":\"Any\",\"default\":{\"type\":\"map\"}}]},{\"type\":\"model\",\"name\":\"ReactComponent1\",\"properties\":[{\"name\":\"esm_constants\",\"kind\":\"Any\",\"default\":{\"type\":\"map\"}}]},{\"type\":\"model\",\"name\":\"AnyWidgetComponent1\",\"properties\":[{\"name\":\"esm_constants\",\"kind\":\"Any\",\"default\":{\"type\":\"map\"}}]},{\"type\":\"model\",\"name\":\"request_value1\",\"properties\":[{\"name\":\"fill\",\"kind\":\"Any\",\"default\":\"none\"},{\"name\":\"_synced\",\"kind\":\"Any\",\"default\":null},{\"name\":\"_request_sync\",\"kind\":\"Any\",\"default\":0}]}]}};\n",
       "  var render_items = [{\"docid\":\"5910a449-16e5-40e6-9797-7740296de2db\",\"roots\":{\"7cecba6e-7973-4f49-bc90-731f7c3cd2aa\":\"c1c6ae3c-1f1e-46e4-a536-0a9dbf65c1d0\"},\"root_ids\":[\"7cecba6e-7973-4f49-bc90-731f7c3cd2aa\"]}];\n",
       "  var docs = Object.values(docs_json)\n",
       "  if (!docs) {\n",
       "    return\n",
       "  }\n",
       "  const py_version = docs[0].version.replace('rc', '-rc.').replace('.dev', '-dev.')\n",
       "  async function embed_document(root) {\n",
       "    var Bokeh = get_bokeh(root)\n",
       "    await Bokeh.embed.embed_items_notebook(docs_json, render_items);\n",
       "    for (const render_item of render_items) {\n",
       "      for (const root_id of render_item.root_ids) {\n",
       "\tconst id_el = document.getElementById(root_id)\n",
       "\tif (id_el.children.length && id_el.children[0].hasAttribute('data-root-id')) {\n",
       "\t  const root_el = id_el.children[0]\n",
       "\t  root_el.id = root_el.id + '-rendered'\n",
       "\t  for (const child of root_el.children) {\n",
       "            // Ensure JupyterLab does not capture keyboard shortcuts\n",
       "            // see: https://jupyterlab.readthedocs.io/en/4.1.x/extension/notebook.html#keyboard-interaction-model\n",
       "\t    child.setAttribute('data-lm-suppress-shortcuts', 'true')\n",
       "\t  }\n",
       "\t}\n",
       "      }\n",
       "    }\n",
       "  }\n",
       "  function get_bokeh(root) {\n",
       "    if (root.Bokeh === undefined) {\n",
       "      return null\n",
       "    } else if (root.Bokeh.version !== py_version) {\n",
       "      if (root.Bokeh.versions === undefined || !root.Bokeh.versions.has(py_version)) {\n",
       "\treturn null\n",
       "      }\n",
       "      return root.Bokeh.versions.get(py_version);\n",
       "    } else if (root.Bokeh.version === py_version) {\n",
       "      return root.Bokeh\n",
       "    }\n",
       "    return null\n",
       "  }\n",
       "  function is_loaded(root) {\n",
       "    var Bokeh = get_bokeh(root)\n",
       "    return (Bokeh != null && Bokeh.Panel !== undefined && ( root.Tabulator !== undefined) && ( root.Plotly !== undefined) && ( root.Tabulator !== undefined) && ( root.Plotly !== undefined))\n",
       "  }\n",
       "  if (is_loaded(root)) {\n",
       "    embed_document(root);\n",
       "  } else {\n",
       "    var attempts = 0;\n",
       "    var timer = setInterval(function(root) {\n",
       "      if (is_loaded(root)) {\n",
       "        clearInterval(timer);\n",
       "        embed_document(root);\n",
       "      } else if (document.readyState == \"complete\") {\n",
       "        attempts++;\n",
       "        if (attempts > 200) {\n",
       "          clearInterval(timer);\n",
       "\t  var Bokeh = get_bokeh(root)\n",
       "\t  if (Bokeh == null || Bokeh.Panel == null) {\n",
       "            console.warn(\"Panel: ERROR: Unable to run Panel code because Bokeh or Panel library is missing\");\n",
       "\t  } else {\n",
       "\t    console.warn(\"Panel: WARNING: Attempting to render but not all required libraries could be resolved.\")\n",
       "\t    embed_document(root)\n",
       "\t  }\n",
       "        }\n",
       "      }\n",
       "    }, 25, root)\n",
       "  }\n",
       "})(window);</script>"
      ],
      "text/plain": [
       "Column\n",
       "    [0] HTML(str)\n",
       "    [1] Row(sizing_mode='stretch_width')\n",
       "        [0] Tabulator(disabled=True, height=400, page_size=20, selection=[0], sizing_mode='stretch_width', value=             R...)\n",
       "        [1] Tabulator(disabled=True, height=230, page_size=6, selection=[0], sizing_mode='stretch_width', value=   Element Frac. A...)\n",
       "        [2] Tabulator(disabled=True, height=320, page_size=9, selection=[0], sizing_mode='stretch_width', value=    Species Frac. A...)\n",
       "        [3] Tabulator(disabled=True, height=400, page_size=150, sizing_mode='stretch_width', value=      Frac. Ab. (...)"
      ]
     },
     "execution_count": 3,
     "metadata": {
      "application/vnd.holoviews_exec.v0+json": {
       "id": "7cecba6e-7973-4f49-bc90-731f7c3cd2aa"
      }
     },
     "output_type": "execute_result"
    }
   ],
   "source": [
    "shell_info_widget = shell_info_from_simulation(sim)\n",
    "shell_info_widget.display()"
   ]
  },
  {
   "cell_type": "markdown",
   "metadata": {},
   "source": [
    "You can interact with the widget produced in output above (which won't be visible if you're viewing this notebook in our docs as an html page) like this:\n",
    "\n",
    "![Shell Info Widget Demo](../images/shell_info_widget_demo.gif)\n",
    "\n",
    "Use the button at the top of this page to run the notebook in interactively to use the widgets!\n"
   ]
  },
  {
   "cell_type": "markdown",
   "metadata": {},
   "source": [
    "### Using a saved simulation (HDF file)\n",
    "Alternatively, if you have a TARDIS simulation model saved on your disk as an HDF file, you can also use it to generate the shell info widget.\n"
   ]
  },
  {
   "cell_type": "code",
   "execution_count": 4,
   "metadata": {
    "ExecuteTime": {
     "end_time": "2021-02-18T17:24:41.195180Z",
     "start_time": "2021-02-18T17:24:39.006861Z"
    },
    "execution": {
     "iopub.execute_input": "2025-08-26T15:03:31.793861Z",
     "iopub.status.busy": "2025-08-26T15:03:31.793652Z",
     "iopub.status.idle": "2025-08-26T15:03:31.797420Z",
     "shell.execute_reply": "2025-08-26T15:03:31.797009Z"
    },
    "scrolled": true
   },
   "outputs": [],
   "source": [
    "# shell_info_widget = shell_info_from_hdf('demo.h5')\n",
    "# shell_info_widget.display()"
   ]
  },
  {
   "cell_type": "markdown",
   "metadata": {},
   "source": [
    "## Line Info Widget\n",
    "\n",
    "This widget lets you explore the atomic lines responsible for producing features in the simulated spectrum.\n",
    "\n",
    "You can select any wavelength range in the spectrum interactively to display a table giving the fraction of packets that experienced their last interaction with each species. Using toggle buttons, you can specify whether to filter the selected range by the emitted or absorbed wavelengths of packets. Clicking on a row in the species table, shows packet counts for each last line interaction of the selected species, which can be grouped in several ways.\n"
   ]
  },
  {
   "cell_type": "markdown",
   "metadata": {},
   "source": [
    "<div class=\"alert alert-info\">\n",
    "\n",
    "**Note for Documentation Viewers**\n",
    "\n",
    "The interactive widget below will not function in the published documentation. To use this widget, please run this notebook locally in a Jupyter environment with TARDIS installed.\n",
    "\n",
    "</div>"
   ]
  },
  {
   "cell_type": "markdown",
   "metadata": {},
   "source": [
    "To generate line info widget, we will again use the simulation object `sim` and then display the widget:\n"
   ]
  },
  {
   "cell_type": "code",
   "execution_count": 5,
   "metadata": {
    "ExecuteTime": {
     "end_time": "2021-02-18T17:24:55.634945Z",
     "start_time": "2021-02-18T17:24:49.354718Z"
    },
    "execution": {
     "iopub.execute_input": "2025-08-26T15:03:31.799374Z",
     "iopub.status.busy": "2025-08-26T15:03:31.799167Z",
     "iopub.status.idle": "2025-08-26T15:03:32.176823Z",
     "shell.execute_reply": "2025-08-26T15:03:32.176311Z"
    }
   },
   "outputs": [
    {
     "data": {},
     "metadata": {},
     "output_type": "display_data"
    },
    {
     "data": {
      "application/vnd.holoviews_exec.v0+json": "",
      "text/html": [
       "<div id='ef000a12-df7e-4059-a934-5d818a1f6226'>\n",
       "  <div id=\"ae31a850-bf02-4dfb-88ad-3e8fe5e49483\" data-root-id=\"ef000a12-df7e-4059-a934-5d818a1f6226\" style=\"display: contents;\"></div>\n",
       "</div>\n",
       "<script type=\"application/javascript\">(function(root) {\n",
       "  var docs_json = {\"26407682-337c-4e07-a1ed-e384a9d7b893\":{\"version\":\"3.7.3\",\"title\":\"Bokeh Application\",\"roots\":[{\"type\":\"object\",\"name\":\"panel.models.layout.Column\",\"id\":\"ef000a12-df7e-4059-a934-5d818a1f6226\",\"attributes\":{\"name\":\"Column00181\",\"stylesheets\":[\"\\n:host(.pn-loading):before, .pn-loading:before {\\n  background-color: #c3c3c3;\\n  mask-size: auto calc(min(50%, 400px));\\n  -webkit-mask-size: auto calc(min(50%, 400px));\\n}\",{\"type\":\"object\",\"name\":\"ImportedStyleSheet\",\"id\":\"570eab60-dc91-438b-88c1-b6cccc15af14\",\"attributes\":{\"url\":\"https://cdn.holoviz.org/panel/1.7.1/dist/css/loading.css\"}},{\"type\":\"object\",\"name\":\"ImportedStyleSheet\",\"id\":\"dd55ead0-f55d-49c7-90d7-e7eb410a19da\",\"attributes\":{\"url\":\"https://cdn.holoviz.org/panel/1.7.1/dist/bundled/font-awesome/css/all.min.css\"}},{\"type\":\"object\",\"name\":\"ImportedStyleSheet\",\"id\":\"9cc3f564-8cdd-45bb-9890-4469153e13f1\",\"attributes\":{\"url\":\"https://cdn.holoviz.org/panel/1.7.1/dist/css/listpanel.css\"}},{\"type\":\"object\",\"name\":\"ImportedStyleSheet\",\"id\":\"a3fbf805-8584-4826-b478-02733c3ce9d5\",\"attributes\":{\"url\":\"https://cdn.holoviz.org/panel/1.7.1/dist/bundled/theme/default.css\"}},{\"type\":\"object\",\"name\":\"ImportedStyleSheet\",\"id\":\"31b79314-f190-4e7a-ac2a-a69c5b68a0f1\",\"attributes\":{\"url\":\"https://cdn.holoviz.org/panel/1.7.1/dist/bundled/theme/native.css\"}}],\"min_width\":800,\"margin\":0,\"sizing_mode\":\"stretch_width\",\"align\":\"start\",\"children\":[{\"type\":\"object\",\"name\":\"Figure\",\"id\":\"d838fbfa-cec5-4806-89e4-0c0d20bf0542\",\"attributes\":{\"width\":800,\"height\":400,\"x_range\":{\"type\":\"object\",\"name\":\"DataRange1d\",\"id\":\"f5e6bf2a-616b-4444-b6e4-12b50af829dc\"},\"y_range\":{\"type\":\"object\",\"name\":\"DataRange1d\",\"id\":\"88d3910a-296b-4115-aa8c-1c3d3e9c80b9\"},\"x_scale\":{\"type\":\"object\",\"name\":\"LinearScale\",\"id\":\"c95a6bd9-e2c9-4408-833f-79f5b0fbbd65\"},\"y_scale\":{\"type\":\"object\",\"name\":\"LinearScale\",\"id\":\"a7dbf926-446a-4a37-8af3-984673f6c73f\"},\"title\":{\"type\":\"object\",\"name\":\"Title\",\"id\":\"c66b53be-6989-4810-8308-58cc393b7f80\",\"attributes\":{\"text\":\"Spectrum\"}},\"renderers\":[{\"type\":\"object\",\"name\":\"GlyphRenderer\",\"id\":\"71c3528b-9e7d-40c1-9947-2d151ca97429\",\"attributes\":{\"data_source\":{\"type\":\"object\",\"name\":\"ColumnDataSource\",\"id\":\"da434613-3520-45a6-8ce1-5b252d6b60fb\",\"attributes\":{\"selected\":{\"type\":\"object\",\"name\":\"Selection\",\"id\":\"be2b8924-6db6-46a6-8846-9c9304606753\",\"attributes\":{\"indices\":[],\"line_indices\":[]}},\"selection_policy\":{\"type\":\"object\",\"name\":\"UnionRenderers\",\"id\":\"ca96f88d-affc-4ec5-88ad-3d0f67687065\"},\"data\":{\"type\":\"map\",\"entries\":[[\"x\",{\"type\":\"ndarray\",\"array\":{\"type\":\"bytes\",\"data\":\"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\"},\"shape\":[10000],\"dtype\":\"float64\",\"order\":\"little\"}],[\"y\",{\"type\":\"ndarray\",\"array\":{\"type\":\"bytes\",\"data\":\"iO3LMzdGrkd8YYmmE/CxRydf6g5dA6xH6QB87ws/skdMLA7iep6mR9m+b6/pJrFHmG2auLAppEcotu25PxWtRzFYpsCfSqdH9et8aA5/qkfgj39N0NahR7ynmRdNxbFH8JTrjBI9uEdCo+n2f9y5R6GBSNbrpK5HAvzBXXZTskdUQ/w9QECfR05hEhO33q5H3VdrGCwEr0evhvu744S5RxbQBrz+ubRH/PLTXSNxtkcZmWma7mm2R5rcfvaw0bZHULLh6CUTskdDr2sy+Zm1R40j/NS2nrpH4Y7TvGzytUcdziOZTYq3R+F2qvDKebRH2BIFJEtytEere/dDijC4RxOaEYPt56tH0g20TzRZukewbCHCGZrBR0JQDBPHvrhHcK9YpY4ysEcm+xKYH7qzR0Ks8Hod0rVHbCx1WHJ7u0fQRn9xoIm9RwiXNk2x27lH/pYTdMbIvUdQJJCzvJy/Ry+qP1IKm7hHwDcTjsiJvEd42Uxp63CuR6TfrWQCVbFH4hXsj9MltUdBDYwhRRG/R8WlC7ZOkb1H5/fc/wXjt0dlLmvWssS1Rzu7oBNxILhHoPeOr+1lvEczw9+mpfa5R/nSviYka7JHcdhxR4CZw0creZsg9n20R5x5dm/7ocFHXPe5QijksEcXwhXzmEe5R1Qrn7rp4sFHuNzAklsgwkcjOz3XrSrAR9EBeWtJNsJHAaTvm6Pbt0cmMYib1lC8R6NHgFDitcJHQJ76gaM1uEfsYjC1nK3ARxKMTjXZ/cFHZk65Vb6bxkcUDeAieJO/R6Dj3Cr7ucVH29tKiIoWwUc2Qvlsi4e7R8BAn/R2vsJHecRHhmZkwEdVVQZkc6XCR0PagMmj+cJH5zzXpp5axUdUVraZSorER9V2mkJQXbpHM2ak/TGFxEeHU0TvANzFRzRWJKZv+sVHHQD57+oQwUfiaRD3vnnCR6tt3tKmvMJHIWLsB9wevkcRxZZPvEXERwu4CV1rAcNHh3qHl40tvEebs4kou6jJR8RXByTpM8xHmfJ/GpbGxEcC5fJmGcm8R5EwLXjNDslHPyL3cc4GyUcYnkQ7qDm9RzzBayendc1HNgXAYYSszkfu+Mf1n3PFR2Vdq31bV8hHbC1miGabxEdrXsfvAuPBR1wK7vElnLtHLRbtoIcWzUetTRYhNAfFR3pUgAwarcdHVVtltJ+Cwkd8w7rl1bDJR/AaE1OsTMxH8R3QiN/VxkeEBo1qmB7HR3V6cqupl8hHjd4uwGr+yUfRU10DmX7HR1s7iXnqgcpHJomBVD4hxkc+VqAOeSrMRwFjxeXZ7MpHH5c0OHqdyUc4k7lX117LR3iQUY1sx8ZHIM1hL4vlyUdQtQ2+KeTQR6j42ZjgIMFHK2az2j7800eM4RZm/2THR8kIIrFBfc9HtkAs53oYzkeL8HFtE5rQR6aVtEVzydBHaKbYlwez0EeuCIBcr9HJR0bdDpbAc8tHMNIjhgjJy0ffGXg8mnbYR7YzRXiGQspHq0FTii3Z00dLBHMUY4HWR6AkwbYylM1HHLR0OTuhzEfd1Dbb+kPUR1WnbuJCc9hHE8ShYJM70EeNadKjPELbR8fLSZIJK81HBgWo/xgF0kd9JphanC3NR7sDZ3bpzNRH8UBgbMW7zUcS/9gvGivMRxs6YT0eLdRH2aA9uEDW0EeyhkPos73DR+LbqJCKHdJH+fXrgY3c0keiUSfQKcrMR5OZJe6wEcJH13T/9uuV2UeRIC81srHZR2gDe7h3St9Hwsad5mSM0kcb/aLok/bdR86SqteMhtVH47HGycLk0EfkAPHXvLTXRzupZegKGNNHOb8RCbsr0EdGEgQ/rB3WRxbVoczW9cxHLCDHEUlH10dp93wvo1nZR8i52fI5nNJH4DsJqM5/2UeNR0uwML7SR0QQwRlD6dpH5gd/rF7L1kdIzfmoyxDXRyVrJQ3tL8xHyYD1s2824Uc3y1Ef8DzTRzxtzK03XtNH5VFKrBxm1Efarz/+8ILaR/3EVTeLFd5H1voG9ifA10cYY4MiajDcRwDq6FZ2CNpHqK6F43EY10db6kFDREPVR3uyhWXk7s1HeYMKSPq720fchQ7hIFLUR1FiaR+VVtRH5B0YuaQw3kfMoMn0BxHaR4aonQUEW9xHQk818Gyr3kfEGPjtS3zbRyWUkYVOEtZH0WCX0CFx2kfBxVFh3OrcR/E0W4eMJt5HXXolQEod1EcuW4pp22LgR/fFJVSCg91HA89wpnaa4UejMtMRxxvaR7Z7zcJFi+BHmVOetqyf00fAz+/UJl/hR4P9Tgvr9NtHk/26GNWL2kfzUZJ/IYLgRyMzZqu9a+BH3tjAo2Cg3Ue0H9Vx+8vZRzU82m52ENNHz5jRObkW30dgaXMjHcDgR+PKlTqp5NxH6q8CWeb63EfEXIjBfd3gR9hkQwq8ZNhH8gKgMMwF4Ee+0gJ3PpvdR+JPyGvDoeBHyf565Gw440e0GGxediLiR141T7zjFeJHoR6ZXp1T4EdFgeWMkdnWR/SoVIkw2OZHKnCXZlQk4Uf+0/ZqXvnkR2ItRElj1NpHqVLuKX8M5ketpaMPIRDfR66nVObOW+NHGuQD4UPt3Uc7JSiBOzTgR+EAXcMuUeBH8G5/6R1E3kcTQwXaRYjgR2dmpq5eX+NH8Kc2jdyw5kf1KUcvaQHfR6/EuNn42eBHw7Tz9PPo4kcsoObxJFvmRzsw2q0YcthHJ/E9jQsR3kfkq8jsFirjRxDaenJ+gdtHYnTJyBfp4UeoykLrTVThRzQQnHBWE+lHcUhd5gsw50eXW5ThJ9DgR74kPXarFudHAsS4Kl0v2Edxhm5z1bXhRy1bS0gVc99HhjTU8bk+5kcTP4VPYkXmR+rjkmO1AuVHZFrFCia140coZhnucxvnR/GraQhToeNHDE+w09pw7UcqXGY9hb/mR/7om6iMwOlHc+9jW/cu40cTavpi2EjjR0vf82F+0OdHMVns7oBi5EczQVzu3PDkR5qu/mM9x+xHTFOMlyJH5UfZQnm8ZoTkR8mNQRtQ5uNHLG9XzkFg6EeDYI2GxqjoR0t5pSmDxeRHZF5ZjWSm4keAOGWwGsroR8hjIxszsOJHRuDB4qyx4ke89ArJdYLjR/z9Iyn14uVHtTFERL1U7UeuUDxpY3jpRwTRd+OO9uNHA3IZPmSw6EconStEA0jrR/iuHyKBieJHX9Jj+O7y2UeX2MLhPrPeR+pVccdNi+tHNWUHmK7J5keQiwCHhFDlR1tK0bSaB+JHNsP3c1g14kd6/FP98lnmR0ofq+xs/OhHP1xheIbC6keA9SntfZ/lR7oUGZW0T+hHDusO3FjX5Ectjo28YcTnR66dDUvgn+dHvBKBzV6q7kf87VyN1p7pR1nCoMbig+pHMuvkemJb5keamzj4uWLsR7ygGJnjlO1HJ4Pa3tHN5Uf72S+OnaLnR8iofJKyFetHWMWWhFWK6Ud18mruRjDmRzrVprf99O9HkjeIGhnw6EfHN7lXUOjvR9ISkmY9R+9HMa/opTRd50f8XQEJHezrR/l4LnE3aOlHm+ZoTFKa8kdWia77btHwR/wB6AyXL+1H8VDoxqOU8EeCLunInKTpR5ucFOivnuxHylUvWwq47Ue0FX7/lDToR+ZpE5YBvu1HX4GI3KzN7UcrMGjkiJfyR8F44sRGK+1HnNhuORNG6UcIWHNtkADxR1brcCEynvBHezteD7av8Ec3yuc2X9XwR+hcLvWkH/ZH3Al0uXBr8kdUgYm4PXLxR4KlGcdpROlHYQXn7weC5kcRN4vh4Y/zR27GtsVyF/FHS8pRNAAV9kfGPMqcxFfqRzhlWfrOQvFHihMRMXRz80cG8Pb3HNroR2MkN/C54O9HHEPAK2Mp70eLAcZZy0fvRygx7R30qfJHLmQaQQpJ70ehxgPuCynwR1Lbgjhtf+5H+KsGvHft8Eem8/T0ZqbrR5EGtF5JgvJHghdTQkgF8UderqL69q31R2QY4Zk4JO1HO4doudfG8kdvDbcqw+bzR3aWnjknY/FHQhs8wgZa8kcKzBALYVvrR7iXKP1+CPJH+dX7IIdv8EfnNO/WP4nxR3OeTWgTq/JHcErksNm98Udz0RXLNpTwRx80+kONRPJHbcD2Ngo77UdYRD/MaDL9R3UhzRHZ7elH01FFU43c9UfDysnLlW/2R5u9VT6wG/hHa+bFwY/69UdJ/s5jCJr2R4NVna0nffRHPCHe4rNX8kd+X/ZDkgn4R/rwAetuWvZHNFpaPPF28UcbtfUod8T0R9JWpFhS+/VHAkabV2Ax90flx/KbuZrmRywGHVY9KPJHMnRWCsZK8kfdUqNyC1j6R/+r98qAB/RHCFD1uGgR90eQRUS+xjDzR39OIvBMvfpHPjDdIdrm80cGThJ35PT1RxgH8OI1d/dHEefXEmdp80eleYNrRgH0R9Dtxz1EGPdHkPwFBb+I9kcKZhanqMn0R0zuX8cztfFHI7IA1RG980fxVF2GcmTxR2Y2gbmiofVHgTrRXN+w8keBpwzcOc/4RyiC7urv//lHe8rjmAiO+UesoWlErmv4R1/oSZyGt/RHTnNdG3ku9Efzm1Lykc78RyOIjuVJ2/RH+58ajTkGAEgLGU8UyNr2R+GxArEjUPNHH9k3u4en/kfKMtSsNPP6RyVypF7f8wBIFZ0oV64h+0elY+4gnXb6R4/VgnETwvFH7hbPXtVb7UcRSXHo8gPzR1HL8zsL2PNHzmb1izlm+Ed1Cihw1snwR3P2IQpW6PVHjhLf0OQE/0ePRifPSV/5RzJLYhgOEfRHIaKici8b+EeORSTauAfzR28KE/xYNvxH2gjFrf5m8kcfYBun3VP6R37m+lvbCPVHzNcaHskM/UddJ8sSRRX0RwXIuzhCTv9Hlz1vJj0E+kcBQHkYr+f8Ryl+WM1YOP5HImVYqn8z8kfpTSyQT6T3R+/xI/tAU/5HQEUFEYIHAUjdnA6bJEwASJdduLgc2/dHXVKh6T0v/kcqpvGDF5L7R4u34AjDIPpHlHH6E6xo/EfhKzxO39/2RyWi++gPDvlHJPSEf8HDAEhOi7xDyuT2R1mY8//3gfhHc3amrCax9UfzcTtP3lv7R7aFP4iKIQNIVCS0YgrB9kfnMpMB7En/R/dvZrnz9wNIvfKSqQjf+0eCsuVlI9L7RwG3XthLz/xHjeFl+xpb+UcCB+Eegm77R1Q3WNmC+vdH1CbgIH4f+kdGlPoycX0CSL4X3T6PEvpHKAZvvEveBEhtix7aNRz7Rwr5Tq1sQARIHc+Uc9spAEhFSnpiQgX6R5FfE5j9qP1HBiPRQ3Sd+0cEhiP9eY37R++QZ7KfXgBIJ0rw7AQs+kf6g+lyk9T+RwJJYb0R0ftHsS2mE8x+AkgwcRnDUKoDSF7Kzu+fZwZITAp9Smcf9kfrfNgd11r7R8rrDZ4iNgFI8/yWauFW9kf5Nu7xfMICSOuAKQQ4+wBIzB3GwzeUBEiPfd9LatMDSLukPu4/4gFIyWLQEb6IA0h5SNH4WiD8R8wj3mZk2PZH0zWcSVml90djAEeg660BSNG3AVqNrvdHCRpLNeMyBEg9/s7jp64ASCyj2Sx4qgRITQHZDFZNAEgtZsumF2YCSOyU/0iLEf9H9j4iGoZc9kfZ4QxSltP9R9lgKPOLUAFIAmQfPGup/0cN3O5tQssDSM+U9VWJGP9HBwSxLyXmAUjqS6eOCz0DSLQ4vFy1W/xHqhZY9+NLA0geQK3+LpgCSI/McFbSrAFIrI7QtRaXAkjNUAXKYkYASJMeKugKvQJIcC4ueDdK/UcXnpekpqwASOcR96SCmwFInM+wF5e5AUg3EoiudloGSGUy660L6gJIumlj5/a6AUj/PdInTzkCSO25Gc6toABIYx8V3XoUBEjeRM1ZwGr6R1khAoVEKQRIDLt4fRrlAkj7amIFMV8ASB1PRg3OvwRIXxKg1gndB0g7rogrd+oBSPVLqKitUAVINfLjgODI/Ed156wmwc39R2v3zIChxf5HOoUJ6H7q/UcHDIDoksL3R7QLaD2mdPpHgzJsJ4RGAEjvgR2zdKoBSDKjeBwhsQJISuMFkriV/EeXvqAVMy/4R9jHuQk+K/VH712F9vjv8UeSu8D/1Fr+R/8jZeJDzwFInTTsTEG0/kf3K9aYDkb5R/h7tE6dyPRH2YJ02r/0/UcYVqNJ2Ob+RygXzlkzivhH9twgvTCH+Uepuq4pX1/7R5vkrhiYhfpHG1GvVhj590cC4sV4heYBSIt3fc39Yf5Hdj8cBA3X+0eDPuuKUhD9Rzvxl7MT5P5HsSRu04o+AEi3boBNInAISGONgKrNegBIenNSVbKkB0itRmXnvdAESFf2aQHxrwdIQnqx7EWXAEiGxQR0USoBSLK0rzR1bAZILQHJvkZ3BUjBTMEW5nYISEFn4PoIYQNI1lZoDzEVBkgcf6USNfb9R91qbkm6XgVIkV6HPWlPB0jT+c1tpukDSAhfwOJpfwZIXa1Xfv4TBkjccYNMza4DSGDiMzU/pQFIxdq/eIEvBEg14xHBoFIGSLE+DiWtWQdIpQAYArJQBUg6EOrsKF8LSFtQBZnadQJIUUpeZpSUAUjdVC8PZwYGSGyQtwa+/ANI36P1h9D+AUhWXfNkN7sHSPZRvBY9MQZIiMoixUrMBkjDe/mR9dgGSAO/Cwq6xAVIkxy/AxftCEhKVSrgh24JSPSIU0lTdwNIVymAuefvBEgAj6q8JYEDSH25V8DHvwhIW0vezlZTC0iEKAuc97UCSC31V++FSQVINtlYmmvNBkhviI/MpgQJSNVdH0QOTwdIyDwnGJMICEi1B4dm7oIFSJAkmYcXIQZInkpGjLPkAkiNJfXI2oUDSBuN05lJkwVIqhl29jRzCUhXiVcCzLYDSCdCC4qPXAdI9suFxtWwAkjMausEHMoFSLeKcqLQegVI9UoYl5a/Akh0kCkiQ5kESOlBHN3SyQlIXbhFa8HwBEgNE77ScQsKSFZfjSspeAdI35y2znUGAkjqCna+WXkISNAQmkHOhAdIcAByHPaCBkgltMg4NZwCSEqfOpCpQgNIxklCwsGo+kdbPGVDiOkCSDMJAVAwzQJIic65Iw61AEiF8k5ycRwESIeU464kaQdIyLpmJg/XB0jxHEDv0LgESGCqXD1QUQFI4phP3ITs/kenunQa5zD9R5Uw5S5KKANI/+pz1J0SB0hvhMsnCfIASLIdaI80KANI99IqRWPCAkjLJOCz5pP9R9tR3KIZnQBIHqwwZQfAAUgz+s1kJeIFSLfyeyhtnvtHfbW8bf6rBEhy8fHu2T4ISGygose8BwtIiw3qxJfWB0j3cuX1PJIJSJS4J1cfmAVI/FqUxJ1xBUh1KzSp+eEGSCjrCDVAMwlIFp3K7b+XBEhDHZwfvxgESLJSrN5RLQFI8rXaHXV0CUgN5/G0+RYOSKs8rOdNJAdI7XsVnqPpCEjrGC3LFZIDSCRdaEgSggVISzIO1FrCBEjyORfQym0ESBObXNh05gZIjPLgLNQcAki3JBhoo8/8R7GQSwqYZwNIBzqcyX/TBUgfSZmtPcoKSPn2y11C4gJIJShSnPxS/kcp969kRh8BSOiM+P9YDgNIrIg3Ti5A/UcAoHzJESQLSEaCob0W+f5HDYrsVmblBkjJiBZhEVQJSGHqz2f1sAJIGmMZyDrLA0gcQcj3IGoLSI7pqOOvogJIPbcHOxSXC0iJ8W6nG1IFSJUGRp+XQgdIqqLwYyFXB0iMx0wBksULSFhP5t+RSAlI7gqNpIroBkh8l4LfuBQDSB5iJHmFywhIltJh9DrfCEh+EJtDFwwMSHzLD1BlPgNIawCvj5J2Ckhj2tO8tREJSLnX94172wdIT6oiHbp/CEjPLAl4fsMLSJlznXe7hwZISEh+ClcICkieNxJwx/URSGHtjBS17gRIzH1Ik9BzCUgtVKBRZfQKSJG5lYDLOQ5IZkfDFMvDDEj9hp3pNaMJSCf5oR25WApINTlXb1LZCUgaEs0LCUYHSNMX4SbGnQxILUHS1/JLDUht3qzQPgcOSB4zPT5xeQ1IPMPEqGG5CkiPeugPGTASSOEc5c6kkwdIMWWEZeqvDUgX2wJI2pwJSKiKRCZ/rglIIAMqOxZRCkhsKZf7AN0QSNwKPxhY3QdI14XGVgyFCkh54KRKeRsJSJo5m5J0CQpIeImXh/saA0hlZvSEV08FSIhU1/7LDQZIkGWx5jUAC0iAzgBBDLELSKw+q1J/mgdIW0hnlwe1C0jCmM7Ad9gISK56558wuw5IzzjPlDkEEEgSSMVTPKoOSFY+qeSDfQFIZAVywq0vEEjOdc1uL/wJSDDxb1YDIgxIfowdAT0OB0i53eKv1S4KSJeNYx/zvgpIKkUQJQ+3DUjtnpZ2jF4FSK9G75AF/gpIouCjGG0eEkgGoEUKC4QCSIDC1ZBudQxIvbmWy4UxCEgVlcHJvCEMSJBkr4vBIwlIY8/ptslMC0h3MMQkSuEJSO6e/J/uXQ5IA7OJCsdJEEiXh+/IcAoISN3lNByAUQlIQEQXqJA6B0ht7RzexRgISI2BNmBetgtIfyPJjwpXD0je6srSkKIRSKa78pB2eQpIfA/sxR3wBkga3oLOgH8NSMVwFgVKAhFIAHwPUweYBUiGqXI9QdUKSPNTY4KxNwlI/xT+yTQZD0iFGCNMnHkMSPe+6VZrEQ5I6P4IpRB8D0gJhqR8S9sSSJQPb3kR1g5IrHOrcozIEUhBCMoylBcJSO1eJewLdBJIgQLoETKPDUiMHoSHwYQOSGq+EaaQKwVICgfEu1fUE0g9x7ucPPYGSMY7E1uQrhFIMh7ab8QsE0jx6zNCb5gOSNiQz1SNKxBIRVVod3s8EEgIkyCIVzoOSBmbYR3MMQ5ImNlAQ5qKFEhDxFAaPEwXSOYDJ+UonBJIEIqAdxPiC0iB26u/5LEJSGFTP/hOUAdItLGKZSvREkg6hbZyRCgMSKgbkcKtFRNI/klNwprHDkiuCZDh3akOSMJAg5F3Jw5Iq49N9t6GEEgI/SiQtCASSJ/qNzidJwlIkN1QClzZE0hEWfSfspIUSLE0SVzqIxFIQ8IAdYUTDkiF0WLXKDkVSNYsAa9iyRRIAW9hoNVPGEh8YJeIiooUSBdacD8bfhRIkSc2x6AlFEip2V7vouMSSDNSSwNoZBhIZOGNewUOE0g8QHx+PA0XSLGzGnRSUxBIwOaaxA3lD0iXJfbctGYSSAzMCwIX5BBIKRWeKT7RFEg8eIXYWPETSIefP+y9IBRIsafIv2/IGEgrmjIrOqwOSK4JKnvjbRZI8D+sQH0wEEiOU4wnVIATSAljFbG3EBFIiGEQrvbnFEiXF5hSbFUTSHTyimCdTxpIwGiuEgF6Ekgqs3/vbjUUSG6Bc2Uy3xVI3xwBKRFAEUhSGJF6OOkTSOY8iLXF6BRI8bZqQHB5E0jPzPUvE00SSGdt8hDGGxNIWnVpuIxeFUhceoAB+y4USJe5sy00xA9IepGvdnurEUjBLAMsAyYNSF9RRStAMxJIMsPxb8fAC0gG9NdSUIoLSLwKbKid5hBI6yWSUUyUDUiWxWTSzS0SSJyj4dBmQQhIrc7EYT2HAEgnFThn4DYQSErDObXfXwJIo+CAPR1W+EfqfeIv0c0KSLI1iRCFwQZIAmMsrSZeAkjzKDtpCdUFSOAHIAFHawFIGoBjwsTFAEjA8/3PkQoGSJpPIxGROQRIdYI0wMZKA0iCMMze2p3/R7691Ib4oQlI/xhKcW1pBEgcHICMjTL+R0ng67DxQgRIIZl21S2qAkhbS768kRUASLJzDuaY2wpIeT93dDkDEEggvDyPTPUISJIpQfTAPwpI1I+slIukD0jAvNDZfk8QSPX7dbqoYBBIMuOP2xx7C0jMG9j2Qu8OSJHBzmr90w5IjPA1QCrsEEj7Kr9pBgIWSFDTT8n0WA5IJNTASoy7CEhPdbsbpOsTSKqdKhFq4xNIfEtHkrj3B0jsusJ0xTgQSLrzADW5CRJIqU18WquIE0g/nAi4AYcVSKRTGWuVhxZICFTqlei5EkhHjNhe5ggPSBPBi/x8QhVI9MAYyuWYFUgsni8bIGUJSDzjQzoq3xJIRUWfRBwREEgbGNK0YzQXSDsZQtgHURZIL0Bqy7VbFUjtRYqYDPIVSABOIYE/xwpIQpuwR8UPH0ig6sTrb9EKSITShm0U9hVI5LXibKsZFEhqbO74UScVSKK37zjwKBNI8hauCBxOFEiRnEQkSO8QSDbRC3itXxRIjCaROvnxEUhL03NIy/kTSIBGwxZhERJIGsZj0bxRDUh6j6FndI8RSCjp3K2QPRBI6VGXctaCF0hvC7zxJykTSP8pRwT5ggxIcR6mFbhwC0j2SwfaVcURSDdE7wFdQxBIg6PT9d58DkheGMDdgaUKSCcpf/jLlA9Ix+LIzlbkEEgqPHiBSmUQSMZ2RkvZ0w1IuKXICqkAEEj3i0A5CXMVSMxVpxRJZhFIM3JUyr3xDUgdtsWIapsQSCefFJTxOAxIBX6fMsEcEkhAILDPIrgQSFIIbsxcNBFI35Zeo8bKGEic5RR3bcIZSGKbQ/7xwhBImb6YMeVsDkgTVs1eCFcFSEjaRyGRVBJImb4laF9VCEjXrt0pNoURSOBTtGxbjRRI6CtPCaARE0gCoS46/6gZSBlC7doFmhFIFcNOnKiSEEjBMBBCuLwUSDzNvIy1oRVIY7ebsU4bEkjBelZ/KgEbSNZFTYsHwRFINIWvwJ+IF0jkU90VB04RSNALSWaYTA5IfPfWLHm5EUg9SvNEWxYHSInyYIQjlBNIEG1jlW5eEkjilQNrsmETSMnF12rg3xBI01z6LYKrFEhcOA/LYX0SSGGC4tYR9xdISQTmkWj9EUgctnS4XAQTSLEh7x4qgBBI1RAAHiu/FUgWKsjv8uQQSGAAHIh7shpIlzGMtjuBGEjH7AXGLTEZSAyg9mTKxBVI0MVpRkwjEEizr2q7l0EUSNuv1YlM+BVI/GM2We2aFUg3CKm9kFgYSCOKVWzS3hlIWrNYuMxPFUhb2AAlbm4XSOT0CEwlJxxIzy/LbyLxF0h5ly/1dCEYSM6pAm1FIiBICQdL0YboGkjngG+LuzAYSAmabICHdBZINf3pdw68GEjGE9H6zeUZSIskyuhugRlIQvu+/OkYHEhN7qXGN/AdSC8NgKp9QhdIF3qhs8XnEkhesZ8Fg80aSIhmiWy8BSFIxtrbbMnsHEgA/3GqBtIVSElRGjtHRRBIAHi8EIhTEUgjZaUSJ7UYSIQ3HuGDvRdIMhpbgzEvHUjqh2dM9eUUSPrxCD2UdxZIspnAQ/zCF0iSxrAngocVSMyZwdQ6RRZIU/EP8dj9FEifMw9LJDAXSK1616c5BxVIak/2yu9VGkhZ/2SgpCUVSDCC+VI6cxZIaYkm8aZlFkgIcGn6J3gSSAdMGrGz0hlIK9+D9FY/FEiXB5OoNksRSMYpHJ3vdxJI/b1dvJ+4F0iRigf5lUgXSH+bc4Ev/wtIe4Z5+PpJDkgvxzgqOZwSSN3dYclTswlI026WIYXeFkiN8qt3Fz4TSMQsJaCelQpIZHLJoE6KFEhtdRHpaYsOSCqwTVUQ1BNI/1bOE/WcEUhpydbWEAsUSNQRHgSGuA5IrElCTZNeEkjVwWqslUkVSMX/LyhghxNIuDtOn3eBFUj+BR57DKEWSKvQsy78XhJIteP3xImTE0jaxSWbDxMTSD0grmD+NBBI6/6T240FE0jAqlvh9w4OSCURGvkmVxBIxhZdb4jbE0hlLPMyASESSKmLAh+sIRVIv2KSSP7RFUg63C24C6cUSJkLY9obMRJIEz8iuYazEUhRbr2FRvsSSNX+U++vqA9I1G1Gekf2EkjIqDlAvqYWSEA2QXhDvRFIqKC5efFEF0h4NE4F8acOSNXWdL9n0RFIdik/XqvoCUhyjkAFygoQSCMMhgj2yhFInd4IxVWZDUgXxSURy8oPSNlC3dKCkRJIRnBSmZYnD0gYm+AJ2RAQSPZ3cROCJxBIBzrOdSBMGEgwenLrfRUSSFdZwXGt/BBInUU8n45WE0j25StZ3cISSPKvv9T1fBVIVJviSrXfDEiW89GAgQMbSPxRZ6X8nhFIIO2ewGeqEUh8zoK+Re8SSKha1ybA/xdIlya1dHJbFEjA2Vmfxe4ZSFqWtAbnlxBIzL/Ej9lGFEjM3BhL7WUUSHJdrJyfzRVIL5NNbLx8FEhQeJykgegVSKf+Ynd11hVIMdGZx3RPGkjI2PqvDMwZSJ86bFTTzSBIvmq4qtjSGUiI2NNTUwEWSOSAp3WCyxtIp+byCRU2IkgfxU79Fn8TSM1gKYg8Wx9ILw3RjtBBHEjPs4m5U4wXSHCnQ4VKexdI2QThAyXaGEhpdXgNnrATSM86hHL6shlIIOQgUTLVIEgkcl4t0n8ZSKj+MTzbXRhIdPOiX043FUiXi8baekAZSHd0gsE5FxdI2R39Q1N2FEhE0/HbzkcbSPQNgkwKeRhIOQ6ykPv2IEhlEkGrFZYaSI2k5iE4vBZIuVgAgRrYGEj4kBQ1BiUYSDc7xtnBXRNIR4fPXnlIGki4XMnFm6cbSL4oVzBj5hZIdvuWMkxXGEhIR49BjzYfSB0DghJfqxlI1DMNnBu1FUioDQoRzQcXSPxvZPaHZhRIhZz1l+AXF0igTcxcLD0bSCWIbMIHUBlIzcQ502uvHEghNoMUahYcSN/fS33HsxxIdSnGZS3kIUjsdwVIsM4aSAdOCp0W/RpIq+8f5LmRG0iPE1x0vBAdSFACzmOCKBhIqgXC9wtaHEhzNo8efAQXSDAHjgVS4R1I94GrYg5UH0jp3clWOtgdSM5MH7HOeRhIQ+hiAZCVHEi+qxxk1sQQSFWUyMtq8RtIRIdTzQ2sE0gdVSGU4C0hSEDlBkLnvB9I31r4v7kqIEhQjIrDRiEXSLqgk1ncVyJIbxfgvm3THEgL9KsTnIsYSInTaEeARRJI7Dg16g0uFUieDxYJM0AdSJgtzkAKFh1IQoFen1eCHEicKdkVAkMYSDJXIVn9UBhIN/JUxa3zGEjzu2TbjqQeSEqg6VdzzhlIc+a2xDssHEgLUnX/nhogSAdeqbF/3RxIbcTpBGOBFkhSNIQQDFgeSNhWHyRxrRVItS6EgPXLHUj9D8r1ZS0XSAHP8orl9yNIxjMJB+WGHkimdtRpTWEeSAYPRrBAfhxIHnA8gIGGHEieKZtYRKgZSJaONZEW4iBIG8TXooAPG0hwAA10MacfSJwXDV5wKB5ImHR0AGZNIUiMrjkTxgsfSP9HBKaDkyBI4TLJyGg/IEhCQ0uiOIsbSBcdcGOqKx5ICNYmtvuXFUjIKrxt7b0aSAEc9WX6vyFINgVb80cnF0ikIUUabkocSNcZ8MJyYRlIhD4gRyQxGkg3TcV132AgSC7BHDe4Wx1IKZIy5sCDI0i1IUJEmEokSLHrzugmyBVIGml+TvphFEhDt56lawYYSCdJRy0H/BtIDQJPQcRmHkjVTJQgdhAhSP7BwFMUSRtI5S/3WxN9HkjxTyq2DR8eSCwkzNOrfB5IgwVSB2e0HUh645Rp7xAgSEdSG9B2OBxI/iEBFvyRIUhlhQbMVXsfSDZ7NRtRTh1IV4qKRa81I0isN/NF0icdSBpVAskQsCFI1rjdywwLG0hPeWbOFN4USP8XseW1GRRIkVHNduitGEhCerXfH/UdSJYGPrLh7xdIg1byULEgH0h83XEyjwEgSIk9yUoXrBlIYuwJFe0iHEhdkIgqZq4iSLs6OOpx9iFI7O/iZPWvGkhNa4k0Ah0ZSGDQ23M/FhlINHJaZ11oH0jYVx7eSscaSOilPIDxyRtIxamUxKuXG0hpHa5+LMMXSKV7SubjFxpIalv0E1NHGUgl1ZGOuY0jSGSQWWrjtRhIUwaSuFLaF0g00lRYkAIbSNnL1zUdDxtIs6t0Yw4AIkjAT5vM8K8cSKcTD8ZPzB1IzeM1YC3hIEga6847EdEkSP6f47iB+hhI4WoPPSkkIEg6EJoX4vkcSNCkUwf9zR1IlE7W1PmMH0jbisykEd8hSJUhneV7FR5INmQfMMq9H0h1qcGsnUAYSH9V4HiAKSBIlOiqHHVSHUiIZgmdCRoZSHzsJ9MlvxpIg7MVl5MvHkidVdI2qqkhSOfSNGaU+CFIb+A/+ESVJkhjsFDWtSUmSHmEecOwIR9II5Y1OAPII0gY1RPHsUsjSCk/fx3VlR1Isli5sCWyHUjwhE47newXSEjTi4ftKCBI9tiANetzIUgbpE0zqeUTSOC+73tJDRlIMyDeNTITIUjT6sYfxBchSIEgBvwEPx1Ia60RHOJPHUimvHPpXXwcSEKzv88BpRxImSxev6NQHUh8j/8aOsYjSKJHxDMtDCJII/3yOv+oIUjQ5LRR4BweSAgwuiFONCJICFGrxr0UIkjAnHg8FpYdSFStv6TGZxlIsrDbKdgGIUgxQd/mHGAZSEDClKIoIhtIy7YAf935FkiAIn0sthIcSNuge0cJQRtIrZaF/notIEi7+yJyUKIYSJYVo0NbyRhIvY5QWfbQHUgWzld26HUiSLzS0y9KyRlIkTrMLZqXIUi/sBPMKCUiSK1oJnDS1BlIDyG5+BxPIEjseJflFU8gSFl9akxH5xpIaCCZ0+l4Fkjpw1eNE6obSJvgbETJXB1I0Wkb4w+RIEiMqZuo6V8gSKu+8QipIyBIM3mXylTQIEhIzD7MpfQgSMlEdsFa6iBItM0ybXJXH0gUL9+VALsiSC73fVBAwxZIVFc4HN1YGUjNDaRKak4cSJ+7VQ6dICRIbPVoZxYxHEg8W6k6kHEhSG3c41Xs4R5IJgc6hKLiFUg2HTCsnIIlSGMI38+nCRdIt2rAS5jFIEgcW/41azscSAqAGDAJ2SBIWUDnfJYYF0gaPCaUAa0iSPLfPIKE3yBIjJUsEZg1Ikgkv7IZh20dSD53R5torxpIPJeVKf6SIEgP3/GFhsEiSIgrGmc4whtIHKRoayFiIkiYMPS13SogSHGulncQ2h1I+puwjvOcH0j4aH7XRyklSEqDPoRwMiBIlGVZViwBHUgGxA1ZRJ4jSAe6UUb7QiZIXng3Qul8I0gT0GY2R/wjSP1wVPEJxCFIEDU4yMl8Gkg5AhXT7iEdSBLBbztTNh1Ic23vL40tH0iTKspNqJQgSMIbT5bdJx9I9ILZxMBGI0jDtRWVklwfSFc4MRe3LBhIZfxIDvbVG0jJ+zqFs+0jSLFnb07nExpINMOIi8K/HEivVZbBJKgeSDFPkWEBlR9I4eWYgPJTGUjMlfFQvWsXSJOqkmK+ShdI/i5PPyvjHEiC8XVLozocSPz/0wkQNxxIkQ2uE3ERHUiAVjgxZOQeSGN9J4GGJB5ISprwtL0QEEgbm/EtbKAWSMHdVdOO9RJIq6Ausd6jFkhxVmFXUtgTSLqyl2IAExFIbznwd/4REUhPC+4pMzgSSPIsce/bnBZIDBTO+PL8E0h9oGHN2EcRSM1s9vxmvhdIFdxaAa6zDEgjdWCozyUUSKyYyHUHgw5IakIKSHLCFUihYe9Ns5EVSM0Udz/kFhJI5AGCaDMpE0jp+bm9mQYTSHyhH/q26wRI1KH2WF1wCkj+SjARI/8OSFQyWfXa1P5HrmYmCNj9AkgTuwsO4OQGSG046u8ZOAdIe/LJ+g0xEUiHo/prHy0JSEmsWIKljAxIGcn3ephMEEiqe/phEl4XSGoV5HCzYQFIpv0aEA0TC0gh4JKNuWsNSCSwIngoDA1ISoRxv3iJBUj2XN3s/5cTSIxLam9gnRJIjQ2J21ecA0hIB8OzVHYFSORdMd5BphNIhhPBe19SC0id7j/AkoQaSEQ8SZ05Gg1IlScGN92MGEi/5IWSiNAQSFxWdtLQwhdIKikF8frmGUiC42GDhMkYSGvIXTDA0BxIBIYW9N3bE0j73pasd7sUSDzYCTIX1hdIgXDGZ2a+GUiKJOleLesfSPkXF+tqbiBIjYgWlnsEGEgeBbjZt1MfSGH8tk7tRRlI/13/ba0WH0iqsjQvJSIgSMbLn8XfTx5I08au4/ExGEjt9grbfFEcSJ1NaFj3SB5Iqls8FI8oIkg0hDmc80MZSOQyRnlV7CFIOG/CWUP0IUhdzQII3EMnSNFEHE5FmhxI7C7P6MSCHEjnb5L9C5kVSLeQj7tz2iBINekktwSPJEh7lgsTTW4iSGXm6C/cACFIXEzCp/q2H0j6cOsJjG8gSIiQCQ0P5x1IUvIjC0UTIEiGSPhpE44eSLx08lrZ2RxIrJPCWub5H0hp2oUGKKwYSGuvugQEzCNIwNiJBFLkHUjBJsaultkjSBVaCZ0aKyJIG6CprHi2I0iox/YWFQ0lSGteiYKaIiNIgP6eU+zVG0j2RzTIvKgkSA2tACEdFSBIMuDGkuNJIkh6Jrd4nI8mSPCcjkpiJSBIGPNKDeTvI0jy27vYEGAkSBLRuc6r2iJI/V9oKEw4IEgyQuC602gmSGg1xEGhcCNI3GyAtkiwIUj2AvU+yM0pSOWR1lYWNxxI0N0v+pKOH0hRwJutwG0eSGAd0O80sydIs0GyVQtuHEjyBruf/QsjSEy/7ywlMiVIRg9qKGWXG0ir4GltDSwjSAjyDsuIQiRI5M9zEQRQJUiQc0DK50AhSGZJ8F9kiyBI/VHS7iVfJkibyn+Q45MgSKNr7piwNydIC+YHHJyoIUgPWxilv7ghSOI85P3cPSNIBnqVZ2ZBIUh1DSz7NuAZSFx5OWVAiCNItSXWdO/0JUhYjS2xyHoiSBYgVtXqKCxIgof8GHHiIUgqfz0qeuYhSKe1iUL9aSZIHYoTC8vzJkgvcfg7UhEiSKNdc9tVxypIF8FZQtrxIEgT3YQPHWErSIxLI/o9OiNIfYafGlFEKEgZD1vkFX4gSFn8GVOhhyBI+wy0oQGNIEi4KbDyKZgmSNCb8ZV0cSRIg5jwaIsNIEjPfKv/hHAqSJGkl0k+KiBIff/dXRy5IUiAIVG0NmIfSBkvSCh8nihIsze5whZiIkjNq7uJvqogSNIRtWT86idIBm81SC9yIUijYWH3QdUhSBkQ1IL4aCFIpXIWCxmpJEjGCFB3I5MfSNxrGPiIyidIqewrgXgaJ0hPWp7wKXQkSOjfGj7CMSdIeBtb5qrJJ0i2OuV1oWMcSLHkywVXZh1IlIafALomJki3rlObc7IlSM00lfOOzSJIl3/h26hAGkhbftmA/oUgSHesY+b75B5IzhbObk69FkjSx7MqWEsaSF2YeWlJWiNIgRVNsS89Gkg7e0Ei8yMgSGUxDeR6xyBIyBZsAo2aC0i3hb0edPofSI03QImyohtIkVokIKqHGkiRb5wMttgcSBip2/lADB1IKhdqXBb2FUhqga15w0wZSBtyLXH3RRdI9gg2Z44EHkg8rSbf6gAVSAtq8I+V5glI+M2gJETmE0gk/aETcmYYSKIEMJSdmhJIyZ1bdSkZFUi8ylJDGAAWSCdjyKpVFg5Indg1ZdHMDUgAxbHdLgAFSCZVafHLDQxIYfSSE9r+BEgac/Di4/ALSGixpSP/shFI54qUiSPpAkiBmRcaflAQSCFns+oiFhVIVIgF+c1cAEjpb5rL0ooHSEorfqvTQApIcGgsmb1LFkhxo1MvKdMCSE1yu+YuiwVIAR9uzjquDkg/7hwLzJP3R05afGZDxw1IZtOJhZAfB0gpekeeECQMSNJKhLKN+g5IqWPcUfL2AkhZkl3eCzAQSA3u9BzAEwxIh8TvKwqUEUgLEfMm00kOSNBEfCzr+QJIGNXa3touEEjNXJZm6tgFSMDmFBLQhxVIoo8MyhSMCkhZzpjAmqEKSK8wUxOCpxBIsl56GBYMDUgFtHgYy2UKSBLsKHbXcRRIxpzJSbTQFUiVy208IcEVSGNrw+VIxBZImBsC0DXlEEj6iL5okFEUSOgVSifk/w9I/ZOvZuF0GUiFFX/Y6QEXSN7n9OLArxpIPbhAWTd1EkhgeGoQG9UbSHHLNjc/OBxIAB5pS9NMIkh7vOWp/gEXSAhpnu6WChZItuAkv6p5HUj+0DQFh7YhSEoqa/NHmRlI2LYsjaOGHUil38nAG/QiSH4IGjR09CJIe4A9S424JEgHxTCTtiQgSM05SKfwBSBIspyuoSoxIkiA3p6++UMoSGoAWE2qKiBIFM7zU5/XIUhtrt67FtokSAQvTuK69iFIqRM+4wjSIUgbhTO0AfkhSJVMY1oyNiFIa4ME0MlaKEhoQyBeyAcmSEy7erc2EydIQDmKREMtGkj5g/sJfkcgSNeWIr8whidIXrjuYOm5JUihF5/vR+MlSELIxlPtzyRIjNwcSW0uJEjOUMF694YlSMus+CtZjCRI7ZIQ2frvIEgGE4gzDMciSBKiGI7cRiBI1MsOPmpMG0girkXJjgMmSB57DlmcJSlIdL20BMKGKEi59U0mUW0jSH+ry/E5IC9ILSgvBpNBKUg6MUMAa+YuSPuynSKRkyVIsHYNMPJbJEjA/RqX3WgiSFwef8zFNiNIJR/rWrO/KkhsUjC+8kYkSPVYq20D/iRInGrDBBUuJUhjd/wzfRknSJnDrOW+6CtIwZggm69oKEgelbV5c3MoSHzz0zw5WSRIC+vw/wmGJ0hA23sSUlQqSDI/I8XcPypIhTR689isIkiY4PHTD/osSAEESs5HZyZIsh9g99xUL0hkg371yFInSImbEUgQgSlIhdKVo+tqJ0iPLCcja7MoSGZnEWYE+SlIqujpHMreJEhcjR0VU0UrSE3o6R25DihIuLdYNfrmK0ha2H3gc+UsSBqgyoeMCixIYZPdtV41KkjW5MO0OOkhSEVk1hH5fCZIOAGjwVDtKkiRZJzBI1kkSITlRVH5ZSxIq8GtEnAiJ0j8eI6xW4AmSBLRYovjCS1IwLxagZrtL0iinLg4UCcnSOYQ1Ods2iVIBKbn7JnuLUjB1DXykX0sSGPim9VdXylI1YYaXqliJUirQ27mjbcuSAvDdSf/QiZIV1JL5n2TJkj8Z4Gw/H4jSOBpcvQy9yNIRudIBkJzMUh8hkyhXGInSCY0TGmcsCRIfmtG5SReIUgXyWNS6qYlSPrBmlJVVSpIcMudR6dgLUgMtPMqNxIvSK0Kd8+vcSFIe3xMDJbII0g3dB7eovkiSH+Bx9bINCxIy4YF32sLJUh6c5caa48oSLY7sG8UYyBIk3ORq/3kK0gpNyv8dzEjSA1PTwJErChILNR67dq3JEitBpXhSkYlSJiaai+UCidIdj9NA0T7KUjsad5SVMojSPKBcULqjyJIsr10DkUUJEgD37E1WREkSOkncbO4jyJI3GZ1OPCuJEiskxV5o3kgSAp+Dd97BiJI2EgzcAR9Gkj1eGNvikcjSM55A/TJZyVIj+ROndLCG0ifdWW/918jSE+KjJRJGiJICOwgGd3DG0izrqBqy2QmSO+PFxuUbiFI3ukA3hehHki0YAODsKUeSFB/TSOwehRItF1JH56UE0ihlFJz3CQSSM5MPpsWAiJITlVmMf2fJUhar8hCihgVSIbva+qfIBxI2r55jMbXHkhTYSlxbLgaSA2sPIDwrB1IHYbcM/mKFki10hpZb74aSHegJKErbRlI0Cmk2/ceGEjCfvQSnRsVSOfuA04gPgZI1kp9O2aeFUhetuSn8lQMSB5evleTJwxIWuZH1MdxDEjZNlRBLQ4PSPPZJTGwHAxIyHSDQqjbE0jsd4Bwnr0MSPK0wFz0rRVI01MBi9kiG0j6FK4M58YDSOZyqhYD+hNIwzwC6yLrDkgn4l4i/KwSSPNm7scrXQZII2zyBMGxEkj8uBWy0rH8RzkdSrvi1BlIwsHOCDXsBkjcireu1f4ASDmwS7gmtw9IkxYzdS3LDEg0uNO+o/8GSIcHq2Wl8gxIuFteSO0KB0h2iFv8BfIGSHgozL80+RJI4hmqRdsjCkhb3oY4F4sBSIlGV2ttfgFIF5AsWMNo90cHJuITOYvxRzACkIVXe/FHYrxEoa6F90ezVOV/GZPxRzXZNhiUkApIbOlAgSba90f+O6lHQbD9RyhMiMLRof1HdWsaPJe1EUiuQMqsN/D2R9DWwZ9VygFIosgbZhmJBEiI41ORXt3xR4SOuJVIoQRIcNZ9vAwABUhHiBtQ/Ln9RyBMPm0hH+hHFq2qB4IV2Ee16beZlv7xR5J+Xn81yPFHDSWrL0M8+EfTr8fzJiv+Ry3QhEEb/edHQcnSikWf8Ue2IF3+9esESF2g1gMlS+hHIFxETNn8/Uc9Ha7M2QULSHEp0r6ZmQdIcYeQu2QqCEi6nCdEIL79R79Q9sq79AFIXtUScngdBUhVB6c69l0CSJSOzG7v8wFIT9UlnaBK+Efxx6/5DYv+R+rgkeisTv5HQgmhaiUm/kcSeumehSD4R1DHgbuMcwJItBtKUPBm6EetrGVVAuDxR2nT8YUcFgJImvNCpz3sAUji4+tNuTECSDrfRtrQS/hHsKvqiWi8E0i2ExJQaUf4RwhgFT3cIQJIkgNMCrpmCEhRFCNI5FcFSKx1h8jVi/JHWwXvyxawCEgGFn75yQL5R5hG3gffMxdIS354+EiUEkgs5GihN54CSM5pxVczcRJIsgoMRi4UGkgVXxgZFMwVSCEikjvQ7ghIOza4W2FBD0ght8/uxykRSCVW7H2N1B1IJzMxrk9QHEio9lqgUVAcSPPI2GB5/xVIKItVwJLmHUguGqVIxgcZSD8kP+S6rRpIZTtr3O94IUiC1uz+D08cSD3gtqzqcSFIdvCsS/7hI0iElg7z9bwgSABNj/7ppR9Ifm8JmWt8Ikgs2GSlUjwjSGiQHPmlWCJINq/foBpUHkgrqGn+HaQhSF+n+n1m0yBID4gk/GXQIEi+XB59vi8nSGU4wGLCbCJITGfwof0TIEhgxIn5Q0kjSChNKDUzDChIC8htn3iqIUiEw/3MrbUhSLx38ezqlRlIm4leS2MHGEjlLF35+IsbSDT2L8ZiThhI45AAeVRLJEiXFlLYeMUlSNlBzcsGFCFIn/ophy2bG0hdHlp+5+wZSLAynP/LwBZIsTHNROTRIUijAVoqnVAgSJFNfrDBRxVIBobbhwGbG0jJtFhmnYwYSDkOFWtASSBIBRCyo9ZKJUhVeacUgCMaSKbesFAafCBI6PYhQYtrGEjJQr4sPNAjSIimsLmbhRpIq2NKz/ABGkj9HYUi+woiSPVgJKRk1SNI0GoeLtvRKEgqs3uvPygnSLPNbcwdOR9IBReGsKuMJUjTY9laCQgeSDw2ErulJRdItv1xprN/FUjby6+J70wmSFUMislE8iJI48xddRXpIkjJxyJzypQdSKvuiDGX1xNI1r5LFJISGUjwv7wPLAsZSIMMuLg5Hx5IpVCrP/UfJEjucGeqwmwHSFTbAu0xqR9IA0hEl7PCH0gO21x7pV8oSK4YDvXosBdIv7GtpmvBEEhxvhRt19UgSBx7iVWUShRIA1MxK2zbGkjsiZVTzuQqSPhl5KMF1CBISsLMlnFtI0gHnp8+SuggSKSWkFcOXB5I81sFFhnOF0hE6qgpXYQeSC/adMrlsx5IjK6ievC+IkijrXc5jqwiSEGdUfOZvSJISpWsRrGaF0jy9jAKsAEdSNogqGEVmh5I7jUaoWe9HkhIzjclLRkhSIG70MUQGh1IRZAPPskxG0iawOeFofUeSErYCEfk9BdIJIfJW8vwEkh/kLlnfQYhSHtktIJjshlIB8hJl9kHEUgtUxRuVEYdSKo394jIAxpI6pHUm7/eGUhto+vQTAcYSEQqUdAbURFIdCAruUzLG0gWz9ihJvcjSEH1HNDdGSJIw883F1YzGEhf1Nt4bBYjSF8QiIxrAhNIgmxI203MJEgsurRTRzQfSFndplafoCBIzv32uutTGEhqmVwFhwAkSIcwOkvzVSJIsS8YjvxJI0i8xW4uBtAdSIKTEyTOyxZIkXRzQ4NdIkgNfLqT32caSCwZ+H8lHiVIXMBB6v9RE0jZJnAScHohSFYjAC+dABVIbdvvE8nlFkh6XAlroeYdSH9I71wZ/x1IFpSKC0igIEglbd1gn9kYSHmZGBYU5x1IyHlZSPTwH0hBWv+zL7chSH90ytWY3yBIqFIDLLXJGkjsQ7hpLtQYSJ5qAAri5RhIbB5cNETCKUi8PrzsRVAmSESqS0WDyiJIdqHTFomlI0jZE3do0tQhSNU2Z/9epiNIfh1hqA/vKUhr6eNCUAUbSGCsgFpEIxdI6csrT92gFUgsHi5iC+kRSLPcq2NFqiRIA8/8Vc/VHEizNE7JyV0eSNaelPXpICFIAJELauPSE0hHN+bm23MeSOrRm+YjBRJIPrRxEmznGkijSTl3mcgkSETQHr0yVhlIyZMB3KPMJUgnUqNRnvscSLgEJZgg/BFIXhhsvjg/IUifO+V5MWkQSGfHJexYASRInJOWM/V7G0gGw8i1YRElSM7JpwMq2BVIP9brytbgJ0gnPs+v6i8iSAAtpV1YZBBIjoo5s6ZqG0isFrkDDpobSBbgjnt9NBRIdsYklEwfJEhhTipDXrcXSNT3W8S34B5Ith8c+eCQG0i0EY+BGIMbSEZFt16naB1IQil3GUuvHUjgIn/eMo4gSJ3FBk4LgyJI2OW1kj4FGEiRvLjdcRAYSPLEE4a6bxtIT2A9QE+nIEhUm7quMpYfSD50iPyWuyBIRcGSU4mZH0g4Nwqbw9AgSBkovtCSJBZIImBhaxoWCkgxSIsoLKofSGzEuby+diFIwCdffY7DH0gYqBPGGqQUSAmgi+OdyhJIVe3x95rvH0j411azkNMiSLYx7vFINh5Ik8/320MaHkiSk3vvAEIaSBKZbM6NxhRI6ShYhCRlEkgkMS7rw4cYSBx1dMvSpBZIBfn5a4DwG0hHL7YQ64sYSKbmkTmYRR5ImETDKyovIEhFuvGRb4AGSEfluMekwhJI3JVZPlyLGkhfUWRTSwkhSBfkfkI2DRpIYxBUP50MJEgt5Im/DHIeSL0Q8q9JASFIgRruTKgjIEhlRE8c+xARSLDKv83EmhhIbjFmvNs+IEj7YlYmqBsiSH8q9Fem9hpIMPuESJK7HEicUYA0JSghSECATg6ENCBI2ha6WjchJEgeAHZnvQ4VSDTnsgKaOSNI1YSTzG3QHkg34m/29JgeSLi/AF7jCCZI9GRhSLpGI0hoP4qugtQcSBxlT3y+AhlI4j/tyWjyHEjb4tZhgT4fSHEgYGSXOCRI/LjXe14nG0gc+wU2WVMbSHNerey5ExlIRtbpWahsIkjnL/EGTIwiSEVCRyZWTxtIDn3XgYljGUhBLUuWgWQlSKU371pgWhtIyIe/jE+xIEgsuoe4i4IgSCsY3rGobCNIaLYiFWKOHUiPE5aBRZ4bSK68x3denCJIrU5SkyKVIkhT1Xn2hboXSMTc+KVIiRVImjNMk518G0iVDG6ac7ggSA4ggkwTvRNIZIQnUlqQF0hPBZna+cgkSLT+kr9W3w9IBdKyvsScJ0jz9aLSYZAXSG34cM5l2xFIKB4YNe2gI0i/zpVSu/UbSJlKlwi6uB1Il0yCvGi1D0j0UxU3geUZSBjgl9NhoxtIaFOlehL4IEiW3yHmE9YjSGCvgvmH4BdI7XV4lPMEIkg3/iDjBOgdSFfKsCtg0BtIBlnfEtrzJEiKC341YNMXSOQgrZ1mIhRIXH8xHZYGIEitKBdgcRggSM34/MNmFSFIgZJVUeQIHEiL298hGxwjSLyWS/lEIiRIZjTdm8jsG0iZP2ihkSIgSKLxD1+ULSFIeu5YMasHGkj8BQ8nRTcQSIyR+aiNZBpIZWSTgQs8JkiShjLwfmAcSEB1Gq0rEhhII6xiNv5RIUjuva7HQTYhSHAc/5Y4gBhIcS8soVNFI0gCiUPlI5QeSMklyAzZaihI3x87qedWJUgrNCcGEVoQSFp0iiSPWBxIui41ZWtvIkgdNPXN2lkhSDO1C+15oxRIcR11/0JLIEhcLgk6yakWSKSnngrPihZIsUtpJUx0FEgIDjXUbtEWSJjsYymh3h5IbL6O0pmoJEjrzl51P+EcSAGIgw2NiCBI8pCMVNXgHEgUG436ftAeSKMw9n7J1RZIZMKGDoThGkhF4PDoonMWSJDoUNgsFR1Ic5c4MPMYCUhIHVl0d4QWSPhnodC4MB9IdiLnGoXXJkir01WVrV4hSFPryNRuABdIw4ttjvDTEEjoZ5hNK/gSSMWSRw/0SR9IPRmyz5cZG0ilVeEyVXMfSL2rCzMRKRlIw2YAHNXhEEgKYJORV7kSSHqnEvVlERdI16BNRcQ8GUjcqDi9DUEXSGarl4TvIRtIwYZvboLJIEhib9rhhl4dSF56QPCKDhdI4mpsNVWPH0jU5YzKzEcpSNybVdXwXxdIsc4XM3RnG0hksMj+q8ogSAgq5rVi+RRIPoJueV2WGUhLpTWAhkgZSCcUz4JeIBVIriCy9uYGDkjb0izRKQgiSHJthRsf/SBIm4Dd6MWtHUgU+wVqtW4VSAsDaTkv8QRIikqemQ6mHUgcWYc3SugQSDIDB4QnGCJIiuNHwG3uG0j8Mug4lxURSDnJQr/pjxtIzd18fmLyG0gcM3esy8YESIhpWwqoYxNIS0G2uJkCDkgGb57vnr8dSEeiPqHJeQ1IHf8W46rfHUgxElkTRTIFSGQFT6NPghVIPWwqdPvLGUggLLAL+58VSA1z22QtrRdI+KmbvutQEUgz0mGnNmUeSOG/xRlPYw5IPtIzB4nSF0hThKjqxl0OSLPD12VTrxVINWiib3pTDkhGBTzS8QQaSKyRmCDyCxpIFcKDDxQTDkhlcmmpHbkVSJChwGLSvBVIHDVyvvp3IkhnvrNxYUEgSEz9GvacixFI+jIFc9SDHkikHLWci/AXSJgPXSaLrBFI1yHwbgy6E0jp6005pKQTSFvbqFKwJRhI123oQfSHIEjxXyQnhlcYSAPs4znjiiBIN6oCnBZIGEiApYfhLZYaSMAQc/ypmxpIggCavs4cD0jULTl3SQwWSDq9WYrMtRpIZF9EjTev+kc1XQyRao4gSL4kHme5+xNITr9+39YlCkh533BwewcWSK1k6EE8ORZIECMZ+ew4D0jvxkHEH/8TSMOZcK7vFhRI5N59XGM4BkgoaHH3VgIdSFz+RTQu0xpIXL5t0wg9D0hhBnryPPIkSAQRM/fZhRhIBbDqj82SGEj6EC+S9tscSPRlDJAo6SBIa1ujjdJuFkiPJEIoRBEbSMGKv+SOPQtI/sw+iGJSHUipFdSCzIAWSCPJAymlDhRI7pbb4+PoEUj64asFwGgPSPqT9F5JeB9In+hchBLTDkghtgKzvFcUSHuuMDpYbBRIQSBK9/fNGEg5P83zq/IYSJMmuktenR9I9KWhBhB0FEhLlse2Y30LSPgOHSVeuhZI+qkvB1iFJUgQXB3OGBgbSBiL03FCHCFI1ygqn7CLFEjQ2DILtOMWSKjBEwbpYxJI6FRPr5ZaEkil7kgHwaQWSO3B0M5wyhhIQgN/t5JKEkg2A/vPDxgQSLTdnjnYORJIfgD5vBkHKEir1cAEGtcdSP219v4peSNIN6Ss2zZhEkjOD7OPsGgSSCYbmYD/cRlIs2ayEqaDGUjrQaYMqNsLSNmV36UNMh5IcVHzm2XGJEitEDajBv8WSI1V7i5ZpBRIlsOPM7WCG0hnVZg7q00XSBVM51b2xwtIGMGq1+REIEhkJx+QEjwQSFS9rfRJryJIKJ/LaPpwIUhkivqPgkQgSBWcIHlg2xtI8YElBmx4F0j32Xfyd3shSGgVLn4MuhJIEivS9FJJF0j81+LWzrwjSMnCTWj/WSFIN6NkjeJxIEjFsKuDoLEiSM41cY8rJBxI8L3s7017F0gG+mm3X/8bSOSa9PrzuSFI7XIIUO5QFUjmK+8HnjoVSFpIOm0JSh5IVg8qnnpQFUg+EU8tQSIMSMCxFvVb7BlIntpLgyNgFUgOk+cPm4EcSHHVZYFsZQJIkng7BT+8HkjldeIkklQXSO/t01XEJBpIFthonRpQJUibPLZLQZMMSHRuKmgB/yNIODMUMJa2IEgsnHgo9SEaSB05ugfcLBpI3Rs55EkbE0gNTOPGQBYaSLIzobjl3BJIINlk1rNjEEi3aQEQ4loXSL3M7jcExRxIUfBG8eTTJ0gxNJYemBcjSLGXrmCYlRxIXiqHs7XFFUijV80bsDkDSElZBXOyOxVIN9yI8HTvHkif54LOiCIYSO3dMHur+xdIM++/xxUREUjWvXBj7d4cSOpsBC0YixBIHcTymPeCFUir9ugIESYdSLCiyiFgrxpI2ogONVisJkh0FfhsxiwYSGeOTQYd+BVIJJDDClHxIEjIkcXwQtggSGBCYO0amBpIHYK9IiZQIkgbpPqVYZ8VSLOj1PteIR1IpEewSZGkCEgT+UeF/+oMSMZbeJ1kShFI2ER6gK75FUjTHj8SYaoYSHudSdgicxpI14BOTbyYE0i6gJ24QMcQSL0uopswuhxISbEhoD20GkihOJuSAlwiSAznRR6YNBFI8b55BuMXEUg/G6dNJowdSAfjGobM2B9I7TPn0CFOEUhnM4FtCp8jSLbYwf5AwhNIoyGr34gCEUhtaZIrlMENSJXnUkDFpxhInZzsbwZsIkiwFB2mmdYdSKuSF5mRwyRIR364o403IEhVkxsmwxchSFBxQUQbZSFI01wvueLWFUgYF8GHV2kNSCF6Sd+GuBNI4+e/IbO2IkinKTT+uuMYSGYIwlRh9yRImGL8KcBqFkjPAGJsDgggSFlJGBlXMxZI9MUkmuE6JUg71ebEMmUWSK/QRfpLfhtIWCC/V1tdIUjnwk/nWiQeSJJUZeI14hNIIeLf7LZQFEgmnNogFYodSIoxrAglMyBIcPux1af1FkhAEyxGR3wbSN89W+25Mh5Ica2lcdKNDkjww+0/3T0ZSIxG5Y+AxSFILmH0lvtvEUjqntrzEEQWSHeFpKzXEB5IPxVBq6FBBEiNh/5twj8eSCDsmarjwRFIfSfY4QVxHkiHi3oh6UwUSJMH3nTE3SJI5fxlVhyqG0ga9Volz2cgSFDHhX433RFIXM6ZfXFSGUiBUbiqL0QZSFGdKMx6CxdIIxLRaJDjEUhTx4bsZdwWSPaSyIckXRRI57zVucHJGUiBSHiSIuQRSG7Jx5UaOhRIGjXLlEl/FEiJwqsiusobSJU7Xc4ckB5I4UnlfjrTDkj3fE+B+SQSSJLlhkNGXBRImKZwkMDUIUi+0hqzu5sZSFwClU5qpxlIiW9KqL0BEkjPaZEcm1ccSBFZsjKclxlIL6c7my9AF0gtJck0r7UOSO4BgioX8xRIYtqmmTlVD0j76GPTOtoZSA2RVB/bMxRIoG1V2xgnFEg4BYVKzMERSCA/Up/9PxRIT1mAiyzKDkhm+vs7SAoaSH5LyTFBhBxI2BUpeuNMFEi2+PCzfQESSMbK7fa5xhlI8e1Ke817EkjdJfqqNq4XSDcLGR1tn/RHSyoC4Upv/0fgRuwzRR4PSDImTVaBvARIJhShzTThFkgzaTE+tgsaSMYVyKiY8P5Hx11Xc8yLFEi8cdwZwdYOSFIlRsel7xRISPXpsnAUBUh2kzWfwNoOSMm1sfSOMhJIwNIB2l5FBUiLDLw41ocSSGE1L0PD4glISGTqbap0D0hTfymso4oSSAAAAAAAAAAAZGcXV3DsHkjg7CC1xGIKSPOnTz5evQ5IVpPef0meD0jhnQHo9kgFSAAAAAAAAAAAHbnpA04DCkh89HeuHr4XSKurrHMWuPVHat3GGkKRBUhxu8ULbL0XSP+hlK6w7vRHFNTj3UWu/0dlptgCVKEPSDcUlu3Yr/9H8tzlZFSKF0jNiUCJ5aASSOo35k1q4xJID4AQD7NaEki0hpn1d+8FSLngae1zsPRHF3H5t5e0BUhz1H80LT4FSHC+DUNGrf9H7ZYoTOa7FUiAyavC5qkVSJJwIp96/xJItySzvRTRCkhG1FBRISAQSOao13/c+gVIM5WrjSfnD0jUnkcsG8QSSOEaw48OpfVHnNZ4jp+eCkjQNiaFDMAVSFkAfng03vVHqKlFf99/5EfcTpyJxuAPSIPQBSxIy/9Huat+fF4vAEhBpdpcSeIKSNs1g9aCifVHDaME66yPFUi+jGYRtTIASB1ehlDRyvVHaxdWZKEVBUhNyRFqc7EFSFKfwYFp8hJIfWZ/Qjv1CkgDlHh0RzQASMEHJn5RARtI0xI29CIMAEjNMGGi/GoFSOtPFnhsCAtIvfsO9mCfCkintAmdzgsASAtXAb3ZJwBIuzKq/wYqAEiKCC0Vtqn1R5aqWmpefwBIUxAwytuOCkjTX+0AONrlR8EYc9CYZAVI5+m/c5x+9Ufn+VGQBPASSGX1FzA3vwVI8zlWTl8VBkiVy+ZFS3wFSFSju9/WdPVHhKyUmFlMBkiOEkXG1nTmR99LTgsNXgVIAZDu1E5tAEiskhk/094FSFqUqVu49gVI5z7M9/7T5UeqzeP7Cx8TSLabTwTE7PVHoSr4x2YH9kfVCBkGwcjlR5EYBpJSbeZHOVW+d46bAEjyk6NyQ1EASKPWs4qWnwtIFAyeYiGQ9kcl0duM5sP1R7nVIomecABIwcVsgyBm5Uf3YQMwv9f1RwAAAAAAAAAA9qDfq3KoAEhQitsWXKAASHsWo+LIaOZHdU8lllK1EEhEvmW4lQUGSP+naLXxoRBIr1l9sVrN5kd4lJaG0pPlRyS4bVsPlOZH0FTLwaHyAEhlVcM94wIRSKxnSG6bHQZI1HDJR4PNAEiHIvmZuaT2R23bsiLAwQtIc/HG9BdcAEixbd8O4gHnRycbwlufyRBIO6U5/TnmAEiKp90JELoGSK9FC4nxleZHOm0J3M765kebR0bfoQX3R/kYvvNM/gBIssbXGcniAEjmVXO/H5EGSAAAAAAAAAAALhGUsk7D5UeNBS8ZJV8GSNpY9/QywfZHAAAAAAAAAABAah/sDI3mR1Bbq1IV3gBIGj/LDcgX9kcvQ7KifxcRSPUIAVRHCwdIc5Uf56tM5kcAAAAAAAAAAGhGRYSLIAdIEycg4zoW90cAAAAAAAAAADMR3QL/6uZHkr1QN6M0AUgiIFefb5/mR5UQcCRTcfdHoMV5/Q2v5kdBynLOboHmR3nAUyCZRgFI/ER1Nzzq5kfQfQ24PB4BSH7fIVtnc+ZHvcrOJqpd9kfOrVxj5ej2R1736hzRMfdH6VBeMcEpAUj4DKmjbqHmRy0lXEBVK/dHDpY5muRGAUguuwD8/qEBSNM++w2gX/dHMEfSOOva9kcU6w0J5b73Ry72Q/6R+vZHAAAAAAAAAACBi8STDrYGSGBBDd6raedHAtRDK6VZ50fWrkLL/w73RwAAAAAAAAAAAAAAAAAAAADV+UVedoTnR+1uBLyOfwZIQoIoB5Cj9kcO8AOZrIIBSCyTcNPTOPdHAAAAAAAAAABLPXVWJVz3Rzj2RYukeQ1IiM92Ob2f9kdIXG+GfhjnRz3+vOT2y+dHcyCBX4fgAUgAAAAAAAAAAMK/lsG9VA1IhrZ9W25f50e2cUAW8P0BSBjmKFPxgxRI+1shhUwTAkj/+5HpUBcISARmEviVfAFIAAAAAAAAAABE+UhABDr4R+YJpTcKBPhHL+l3FkYNEkh/mjO1wQr4R6HmcGkjTvhHE5fXlt63AUh50MTAIhAOSKZm+QihKOhH4lNHAoNHDkgVFBYqtZsBSOaU96y2b+hHTdoMHRyK+Efx5TByNk0SSCRsLZrX6QdI2nEJb+scIkjLf59Rl3UISIt58j+YERhISFK9mwf+EUgXA9kcQjcOSFPX5mHTIhVIzZLJF9wzCEidmjR2lmQYSPwl7hP+juhHcwksZVKeDkhyMpcq/I0ISINSun8OufhH+lzx2v1OEkjSxLu2D3kOSN77faVTv+hHFc21DDB4EkitORpAJSkVSHHROVHrUQ5ISPqV72mHEkhvxjqZ+JUVSMkcILyuuQ5I/30STyi3AkiGG0FbUpgSSLs0yGN+shVID8CtBRIDCUiicYr6UqwCSHVoSfNPAPlHsbsbdr8b6UfXo14fCRcPSIC48Bz5zfhHrSsMKAhxFUjkISdo1OYISO9ScTgqixJIIVqTwVKmEkhWTQOmM/IISGq8YmHkjPhHAAAAAAAAAADXyyuEBPwISHm+WnFCGyFILrcJ6mblEkg3pVQUJ7ESSC2yWJQpwhhIrwlHccLeDkgvTJYXQuMVSO74/8uocw9Isp1U6E3yAkg76T5meAgJSP6BJMfbyhJI6rhs/ywrD0gb5qoFB9oISOzR182iywhI1yDhpg21FUgAAAAAAAAAABmYVv0TPglIh2b3sp60D0gx5XQiOjQZSJN16V84o/hH8qOf/69jD0jMQ2xlwGz5RyCang2m5fhHtB5dCJ/fFUi6FYZhRnwJSMOZviSy+BJID/+H3PsxD0jVGGgKOAsJSABgbCzETglI8GKlDnVJ6UeaH6Lx7sgCSDmRvGTbjg9IRIh3ZBE0CUh0gORXJ+wSSL46GJ6dFRZIZZVGCve2FUi7M3TMT235R6dT1NypcwlI5B/Gqxxa+UfF5ZZoylsWSGYW196NIvlHhtI8ygVhGUgVje3j8wQgSE1AefasAhBILcXuLeEvE0g+h7h8DLcJSPCS7sf9VBNI6yEg/Q6CFkhXye4FtDkJSIKHwSngsxlI0+/EFSp/CUj18P2gueMJSGKjjYDNFupHdjSnUSwrHUiQugrr/v0SSE1NcAOLpAlI6CdVRKGbIUiwnZjZZIcDSC344iftEwpI7D1xoo91A0i0EpB2WYgJSFsn6YnuaAlISk8yPcuQA0gVml66wOsPSBFqUfwHJRNIyA2p49g+EEiIMxQnju0cSE7lUUbKFgpIyBL2RtrGCUhUMe7VuEoJSHOpJLJq9PlHnGdSKnv46UcJbXsV0PEZSC68PUfH8A9ID8ocN+VVA0hOJneAckwdSF/8DPnunQNIDE7h4DdOEEiKCTxnf3wTSL3f4XgLRyBIMQfodRtvEEhmaUhFxtUWSMYy1nHBYRpI54NDwWBqA0ir/NJIgQMXSAdvtTjrKBNIj/8FjUZyGkhE7k1A7sQTSKTQGfJmOwpI/DZ6Q/zoA0j85QOQr0sKSBX+59rsjhNIcAidkFW5Ckh6ee3aIQMXSII0llfmRiJIqTtfWoXvHUjaSZWxuWYQSA8NcPR7EBdIKhLl0zPVE0jbecSudxoESCx2xZMCDxpI+G+Rd+rOE0iiRGUVXMHqR0s9SUipTgNICZfb+oPWE0jG0k3vh8YKSOSvxkYwLgRI+BEp+aAyF0go0etH4krqR5lsX0qkFQRIFXGg1QEXFEhJwEd8N48TSEwgI0YA+BNIQ8EX9T306kd75SAjR9ITSIafFbObliBI7EVzVVF8F0iHRhQhHW0XSI6yMeP3O/tHD5Cxq4arF0hbEW1NcI8aSOVdt+T3lRBIOsXZ3OF/CkhNKUE78vMaSGeE5e3RBQtIl0NB412UHkiuJimTEDMiSIegwA3TwQpIjD4O31eN+UfuTosOU/gQSP5MYjHEOxRI2/WmH/gQ+0d58nuWx9kDSPKSOSVx4BpIaLlAuVv0EEjyXad4qVsUSCW6gwl9pBBIa/FdbZaNFEgNGG4uDBMRSNwbCF65KxpI3ikkETVWBEgn8pXYbv4gSID2CjIDuhdI7UHH692JFEj5In4WIf8aSK4s/30+6hdIB5AWQ1sxA0gpL1qKdDzrR0oiXKP2MRdI7feDMXnW60cNGAOyqEceSJvhejiRSxtIACVP4DZPF0idkx/yzTERSFnK74sBQxRIf5VyJp2mG0icdk6qI88QSDcwYi9g7BBIP65TFfqO60cKtPLBC28USP6YiGCTqRBI7NX27AhJEUjIAMypwUkESNSQ9+RnngtI3FhS2DQQEUhHld3r59UUSPo1/vgEMRFIwUyoLY4NEUiDgrQCSGQRSI7bDlf+qwtIBdjDU7uzBEgAAAAAAAAAAPJzNSYhjgRIrEHo8shTIUiwN0oAn4YQSK8vKlpZdhdI/vJPy5+5G0h/ijdaeJAESPcQDBTdVARIzY0OwCQKEUiFKXgN5hwRSMcxln538AtI1qnj6WER7EchhXDZtJAESJtjHtuEbBRIicx8uQccFUhP6AswFSgMSI1hAlvNQvxH7PNYkQ9YGEjZwPUenoIRSNIsT0xXG/tHOUCnZv3gF0iihghqwIkYSJxv0K23lxhIctjKGIvoF0hOza09S1D7R/zMd4ZmXRtIVgQBOhSgGEgDdh1DiksYSKhOeY81Jh9IWkaelP0CEUgkEdi/cb0bSOpHmi5IGxVIqrhpKo+aFEipjYRTP8cQSBSTCXgPKfxH2//Yih6MC0hLYbhMIOwLSBQQsXuQAB9IHqkce8pxEUjNFG8HAF8FSNFlH+JBzxRI24vpqonY/EcP2zcymnYUSNH16tAMnhFIuMZUUKYjIEiCznGd2e0USAz6BLMFJxVIut3aAXaQEUjYKriuwr4RSP1QcQ2dbB9IRYWsMhQJFUg5suzo2DAFSLTdZThMxQtIiRJJrRBdHEg/ZLRpWEscSKKbahrSaxFI6Cwc7fezFEgMvDqs8cQFSPohxH333xRI5xqfUtDCFEg3hXxUW6UcSCmXm24plRVI2Js6BK0qEUiyDv9fQgwLSK903rlDnxVIWfdrApZqDEiL1A6jnPjsR/J/y7TpoQtIJXISkwgJIEjckRAysasRSMusXGu/hxFItMXxhf7SHEgkOk9Vn87qR6Te49O7phVI5pUurYkV/Ud5lxqWhz0ZSKsHcSmTyiFIys3gsqhuBUgXQQ4v6L0RSNGq3cu/pQtIfEE/T4WCHEjR15TZWSP7R3bT4OW9owxIpdTFy5jUDEivyyTFiFYgSI0I+YY5jxFI4kItmaOFFUiaxaPiHFYFSABMI1N/UxVIuxRAiDzcFEhJB81QNXj9R2loXcFkIQRIxRd5MTjnHEgVSIDCjIIMSGKJE1mNQCBIOyxkJ31aIEgIjreDoKYcSJ+L76ELwQxIDPzRRfjqDEia14W9trocSH5DNbygSgZIa2RCILMdEkieXTDU/CMZSJgTFMwCbAVInzBqeD1nIEgNqf5Wv1MgSCoxg3gdsQxIfYEl98dNDUi5i/ZvF0/tR3V9kZ+K+QVIFzeAdC6CHEjw+cn14PYFSFPc5bevERJIbt3ZKtCaHUgUaCEtjz0SSBgtPCChUxlIaDYO9BtOEkj0sHY//Jr9R6uJFwbTwhVIdEuyTiSfGUg605I8Qh0WSLjRLY8NxBVIkvcxyZTYDUinP9ohfgsaSCvlTBzHvSBI1exPi9lmDUj+F9EqKbgdSLHmPeIcHhJIVnGNR3eGIEjIjkIMpfMZSMQdyzvGfwZIYN3DVHAkGUiua2MEt0oZSBU3EZ9CfxJISxErURGGEkiydbWKU3QNSM6HnjBktBJIrHpdDzeOBkiSaFfVubcSSNBUMNNvnyBIt3Pqcr4/FkjvlbRdMAIaSLmKQYnwchJIHVujIv2QGUjV0HuSiisoSONDH51DWhZIttUKz1xaFkgS+0esuVkWSIUSPcmwuwZIgGwWxmckDkhXsh0uEbH+R++RfL754xJIGRAs+PCQ7UfT7EEUqEgGSFLLbAdSEhNIwpYMy0xR/Uf5ujYxjf4NSKY82fql1gZITWZuMObDFkjh2hvaz6MMSDIfUJwuhR5IYba1VciWFkjED4vEl5H+R4relbnFWw5IehXCFRjvEkjJ3u1+GRIhSKNyY6y+WxZIJjG3yNLrFkj3BRSPTNggSN47URCWphpIlyF8UtT1EkhtW/da0BoHSHQJ2sES8BpIhoY3PHGcDkicTW0I+xEHSDju6BxK5AZII70HD0k3F0jq5DNg+f3uR19DNSMasv5HusjjbZYg/0d39YbB9v8SSJpDzIVU0BZISDgP95mb7kcdiUGqCI/+R6NVGM/aGwdIVMc8d2JHF0iIJ6H1Pu4kSLZ9SJwezhZIvoExA2r8FkgSMhYb92gTSIg1pQsZixNIcHwNV+XfEkiUNtsPLrn+RyGngrCFQwdIbB3LmIysDUhHm5yX/Wf+R2HEpPW/+Q5IW/4RTNFxE0g/qJ/Uw2LvR0JVICfsWA9I4mxngh46F0hOr3225Q4PSLS9V7nWDw9IAAAAAAAAAAAMMiUOXgb/R5aSRXhGVP9HiCMAjt4O7UcAAAAAAAAAAO7jajoJUv9H3WW0SQZND0hZPnvfrZATSDMW0hY+3e5Ho20Qoc9y/kf5ljZNNOP+R3GQqfm3ywdIen7Wep6g7ke2ZsfkG0sXSLO1p0cxygdIBqRqXQ+dB0hhYhX5stvvR+9v+Sdy8QdIkLvbRAf070e0ufht4Z/sR8xz/TdSCgBIuFYgnWsYB0gAAAAAAAAAAGooWNAMgP9H1Fa88WvsB0hrvFl26LkTSJEwKYDyX/9HoN30OE0S8EcCVE0DXuD/RwAAAAAAAAAAUxjx7bjF/0cOGuj9HpDvR1o6dKxoCfBHAAAAAAAAAABiqagW1y7/RyFQ+vRye+9HXqzRr972/0e6Vnru0ycHSPgBQ9sEke9HNp9CNpHR/kfKC1SIvsDtRwAAAAAAAAAAT7GuFiDu70cPhIw9peYHSI7B7WArhP5HAAAAAAAAAAAAAAAAAAAAAAAAAAAAAAAAumEkeAoU8EfOOmYkEzzwRwAAAAAAAAAAAAAAAAAAAAAWKG6uG93vR1AahYM9OgdInavYFZkc8Ec4VlJdDb/tRwAAAAAAAAAALiOglf3o/kcAAAAAAAAAADavFpUsnOxH8YomiKte70c0KJpNrSjwRwAAAAAAAAAAAAAAAAAAAAAAAAAAAAAAAAAAAAAAAAAAAAAAAAAAAAAAAAAAAAAAAHLdELB5X+1HyvPlSa0s/Ufx9/4c59bvRwAAAAAAAAAA9POxU6TG7UcAAAAAAAAAACYMEVbPxu9HAAAAAAAAAAByrlaRCCDwRx68Z9g/Q/BHGfSGC4IxB0gAAAAAAAAAAGRGH3/vBvxHAAAAAAAAAAA7tx/82nQHSAAAAAAAAAAATGZ5QGuL/0cAAAAAAAAAADVKRLNAc/9HrphxjnZ47kezlSxiQor/RwAAAAAAAAAAAAAAAAAAAAAAAAAAAAAAAHB4ZQzdev1HVkIR0P8Z70edGqYthODuR/LS/YCspv5HAAAAAAAAAAAAAAAAAAAAAKlGiztPWe1HAAAAAAAAAACf3nPQV3T+R+AnZ9yeiO5HTOyxBcqZ70ce6JB3jJLwR7LFBaXQyP9HcBiU6gUU/0eY8ABgnE7tRyISPBPwqAZIH55hVK2FBkjRUTopG7b+R1nk/UXnmO9HtFFonsnQ/0cAAAAAAAAAALJy461sDQdImKaUKAIkAEjfo18xZ38TSEtzAiQeFgdIopvuAmn1B0h6DKz/PYjvR9N3MU1tz+9H/ntsFWNAAEgAAAAAAAAAAO4m5vC0dvBH6MwjCZMzAEi5C/m/uGQISN5JbW2kUP5HTPzdBoggCUil2FmvofYHSCr2beRaKf9H5V7T7D2D8EfWehnxcioQSDTS849JCwBI+SM9Zr8u8EcMabRDgvP/RysAHvyS3QdIT4yL0X/KCEh9aw4GNKAISBZOwqGPaABIbeEy1NjA8Eevzq3wWJb/R9kYBeGNVQhIK8JJZq5bB0iCzOfHLCnwR50lwrV3LAhIB7yWd1mQ/0e7skTAbusPSF82OrSMvAhIvQxZ1sSFHEiS5OYCXXcUSN52VX9lQRBINrO2kMZdGEiK0R+oQZYASItEoc76KhBIkbYTJIa6AEi4BTGSUYcYSCeQ6gHcEx1IqhCa81CXIkjTxivovzYBSGS1IlRZowBIoeoW3AUhAUjBKYvH6lsASMJauc0GYAhIvkHY0pINCUgx3YmdLOoISOSFQm1d9QdIkiw8ds4I8EdLE2oIgCsRSFwQp47A4wBIAMhyvAthEEgMnbc2mpYUSDs3yhPs6hRIj7uwfJOXAEgFzTw6a5AASLQe3ZhIJQFIbOPkdHdFHUgQgILvv0ElSO8b5nkYFhlIPxOqC4pjCUiwqTF+nvgQSLraw/9s9ABIvr+JnAEkAEgC5uIayJoQSCQoDO0fASFIAuZVUU7LCUiXupmw0sMQSEd6xX0N+gBIgcsIaUjgEEjiRJtSzOkJSEpErprFRxlIr3w7JCVnGUgomYfX840BSLMrH6UMDRFIyrw/Zb5NCkiGBRPDcLcJSOkh/MOxuhVIFBICanw6CkgMiBhzm5bxR7WZmXskeglIregy9AaKCkigUfpzCIoISLaTRIR+JhFIp6ajBDYUEUhoKAl0C8HxR4+gX1UyfwpIeQTbtrHaHUihw95uCCEKSDT4WtZS0hBI071liREqCkgi5ysEQhcVSMQN7cjf/QlIle6lc2pvCUj77MmSCK4RSAFTJvu8QwFIjPOqEDOe8UdCYrxWFAMWSJgnK1cCFvFHKU/MEG8lAUgNWIUbPo8eSLmbgsJ0LBFIq7mfmNF1Ckh+JKxhZLUKSGDDECcGggpI8HtgzPWyCUiYCVIu8BoKSGyzldqA1/FH5wEF7sOrCkhTYULEoTMBSGZVe6bhlgpIKOh9a+w6CkixMyN3ytAASCSn95UQBfJHATznhq238Ue+yntcvHMKSDr5f+Y0Wx5IMbq7vQBkAEg/g3MFJpPwRz2uX34hi/FHZhVjNUOvCkgwm3/dndAdSFktEU/EwBlIpnym22owFkhKPCuiTD/xR35/wntXdwFI4GgJ+bssFki7wosGiAEaSPdEoRlWzgpI1qerHmxACkgTc2vK00bxR6kauRx9HvFHiYz6Uu5jCkjyz6t3b1gBSPjDwK9kOxZIipWxdc7aEUhGKJSptcwhSKDES1CsAxpIeJW8VyWy8Uc+OeStH9EKSKDxffIu0gFIi3rLWWNZFkgQW5bCrpEKSCTMaElKlQFIAAAAAAAAAAAWlOG1rXAKSPtkvxzfJwJI9FJ18dcdAkiLO5gH++8JSGGk+Z0XUhZIzOj76kvUEUixahH3DM4BSAAAAAAAAAAAncY7ZBWoAUi2V5dsuvIVSBECBM+79xFI1KfPIPljC0je8UUO6kTyR48rwKUqxRFIWN9plUUE8kcCfieP8tEBSINmzwgpXwFI+99eq5cgEkgAAAAAAAAAACV+1ffw6BpIAAAAAAAAAABU3FQ90uUBSCXqlvgsHBJI13C0mIuBAkglQSSNlD8CSKLaUPg+qAFIcpUl1eevFkh5dQIna+YJSDSWSoxIgPFHgQDQF/vnAUjjfYi6U58BSMxXZW5dqRFIt6+6+VhG8kfnW8svqV8CSOEcqi443gFIc3nRZUtkC0gBH4hsj2ICSAAAAAAAAAAAvvhSqScSAki4Y3oU1S8SSDJt/gKkdRZItU5co7rS8kd3JWY3U4YSSLoN+/OUp/FHGYWSXwb3FkhMvKfe1xoLSKL7e95edfJHFzZsAeHjCkgEeeMA9nwSSKATOKEqUQtIAAAAAAAAAAAkgT7rB9ABSDtOAixFeQtIPpDzBqrEC0hi/EFjSmACSBPolJQ99/JHAndCFGDJAkhd1CZVCwjyRwAAAAAAAAAAqiazUB5vAUhlZ3IEaHgBSAAAAAAAAAAAejh12gWb8kdEYchinr8LSOkhHWYeYAJI31EnOX5s8Uc/0doG27kBSGMHwnXBvgFIIhx9aygE8kcz8WYzaUbyR4l8hLxKNQJIaq2eyMuM8kcAAAAAAAAAAAAAAAAAAAAAAAAAAAAAAAAAAAAAAAAAAGXf/6eZ6ABIAAAAAAAAAADy7hb8B4DyRwAAAAAAAAAAGT+YLZqK8kcvJU7py/fxRzEwklzEsvFH299X8iS58kcAAAAAAAAAAPmVb2asZ/JH6zOQceqn8kfebibxbb/yRwAAAAAAAAAAeozkvGa/8kcAAAAAAAAAAAAAAAAAAAAAe4h7autW8kfup8UlRjkCSPYl42vYOfJHAAAAAAAAAAAAAAAAAAAAAAAAAAAAAAAAAAAAAAAAAAD84R9r67/yRwAAAAAAAAAAAAAAAAAAAAAAAAAAAAAAAAAAAAAAAAAASun1dOg580dj7VxsEBbxRwAAAAAAAAAAFLmEz1B58kdfp3AJcn7zRwAAAAAAAAAAAAAAAAAAAAAAAAAAAAAAAAAAAAAAAAAAAAAAAAAAAAAAAAAAAAAAAAAAAAAAAAAAAAAAAAAAAABWONTGOBfyR3W3wBojfvJHbm5IbUcI80cAAAAAAAAAAAAAAAAAAAAAAAAAAAAAAAAAAAAAAAAAAAAAAAAAAAAAJghegBZH80cAAAAAAAAAAHgvqgXOzfJHAAAAAAAAAAAAAAAAAAAAAAAAAAAAAAAAAAAAAAAAAAAAAAAAAAAAALBSjNgri/NHAAAAAAAAAAAAAAAAAAAAAKnorIHJgAJId0ty3F2h8UcrKhEiaKHyRwAAAAAAAAAAAAAAAAAAAAAAAAAAAAAAABZHuW/zDfNHAAAAAAAAAAAAAAAAAAAAAAAAAAAAAAAAAAAAAAAAAAAAAAAAAAAAAPgMVXlF+PJHtAao4WzK8kcAAAAAAAAAAIf/OtkSEgNIAAAAAAAAAAAAAAAAAAAAAMwLd8i7/wtIAAAAAAAAAABfT2OhFg/zRwAAAAAAAAAAAAAAAAAAAAAAAAAAAAAAAAAAAAAAAAAAAAAAAAAAAAAAAAAAAAAAABV+38mwc/JHAAAAAAAAAAAAAAAAAAAAAAAAAAAAAAAA77CsbOUGAkgAAAAAAAAAAAAAAAAAAAAAhxZ9F16UA0gAAAAAAAAAAMCCMz3lZvNHAAAAAAAAAAAJA1Co+BEDSAAAAAAAAAAAAAAAAAAAAAAAAAAAAAAAAAAAAAAAAAAAeIhjDY1SA0gAAAAAAAAAAAAAAAAAAAAA24vY865K8Uf29u3Cp/PzRwAAAAAAAAAAAAAAAAAAAAB20Dzb7ZwCSAAAAAAAAAAAPNF0du9b8kcAAAAAAAAAAAAAAAAAAAAAlSizk2g5A0ixc+8Yrw/zRwAAAAAAAAAAlYev49tT8kcAAAAAAAAAAAZHExdhUQNIDGkXY1Ry8kf3rt2m2anzR3yJ4BXpF/NHZIICjGlo80cAAAAAAAAAAAI0MpAXjwJIAAAAAAAAAAAAAAAAAAAAAAAAAAAAAAAAAAAAAAAAAAARgMNitDPyRwAAAAAAAAAAnGda3iTU80c+zreSbAANSB2YK/jHSfNH/n7Yghwz80cGxNgpClXzR0umuxf3S/NHTc8P7IVS80di1wOqX+LyR8Lq0wv1fgNIc+DVBuJGDUgAAAAAAAAAAHRR6sFKRvNHIxzhIJDN80enetQi1hnzRwAAAAAAAAAAAAAAAAAAAAAAAAAAAAAAAGHfTXvvZANILs5X5IK3DEgAAAAAAAAAACc6vnvtIg1I9JTynLFFE0gAAAAAAAAAAAAAAAAAAAAA8nyy12B/9EeLZY00Ug3zRwFTqAr2IBRIx3TI5aVhA0hmLkIrbSj0R5zGGoEflwNIS1SBm4Tj80dGVZDnt8IDSNW96VkYdA1IAAAAAAAAAADCfeCv/eENSMAJZ4RURfRHAAAAAAAAAADU8yYWdRf0R+LE2DUPmBhIZkqCSoKUE0hBqgoB2+4NSBVKeWsub/RHAAAAAAAAAACrltQy7asDSFAry1XBufNHe40hwxsX9EekSHiuHbzzR0u9EeSIMARIAAAAAAAAAACKnXxowQQESOV133lLnPNHlGQm2jV8A0jE1u+hojkOSEKWYa8B7fNHnQxB3ClO9EcQrJwK6SP0RwAAAAAAAAAAHF/doN6V80fGWjKmVjn0RwAAAAAAAAAAAAAAAAAAAAB05phau1kESL7pzxxMUARIbf0wiNyXBEhEdhp+ulf0RzUD7zgPr/RHAAAAAAAAAAAAAAAAAAAAAAAAAAAAAAAAHP1TfBsM9Edutfh2hRr0RwAAAAAAAAAAnuQOmIOnBEgAAAAAAAAAAHbQuPclYxRIAAAAAAAAAAClCW03HUf1RwAAAAAAAAAA0ZHMIobm9EeiXGSNYr/zR717eO0lwvRHXCS8RU/0A0gIdGjfuor0R3a0dW7C7fRHQNLv9SG5A0j2XxaS6+v0R+ox4+oyoA5I7czh3l1KFEhQ2A6kQ+8ESAAAAAAAAAAAjFv1yteiBEgAAAAAAAAAAApJA+fKhQ9IfaP1RCoW9UevoOc17L0ESFHlUzzKPhpI3DsuCbVL9UccWB0lb6X0RwMmrowprvRHBfM5jWmyFEgfmEtmt9IOSHz9M8WIXfVHgyhdOTyMFEgH0jyCuAIESAAAAAAAAAAAJYg9Cn5mBEhvZm+MFPvzR21PdWJhtARIRnwKS8149EcAAAAAAAAAAD74y3ihgPVHFs39Aqkq9EfNomo5M7r0RwAAAAAAAAAAazB541iQBUjA54ILlwcFSPkni5fFq/VH2rEcA4CsBUgAAAAAAAAAAM7+HqjrqgRIXxuX54DuBEjbSaq5j8AESAnztA+nEhBIT4HJOmHDDkgrt7qW9uEUSBWG5QJ5ffVH4I7lOhCYBEjQ2269JMMPSF4Q9ErJTvVHmEJkqhdMBEj0tVlLgXT1R7te9JHJNRBI0zxYSgmRBEgAAAAAAAAAAJwBsbr2iAVIoM3xuzDDBUgAAAAAAAAAAB0TRFKnwAVIU7CPheviBUgAAAAAAAAAAKYnWV0D7vVHAAAAAAAAAAAAAAAAAAAAAKjVSjYwOPVHAAAAAAAAAADecoDJvNT0R1WKLe92YvVHAAAAAAAAAACdjkts1zcVSN64LhhbRRBIneMtbvHr9UcHB1HIR+n0R6LpkEU03vRH3s5coHr8FEgAAAAAAAAAAB09nilycvVHNo0o/w9SBEieiIhiXH/1R1h2e1FGugVIpGWY0IEp9EeBD4/JXtUESN5VztiLZvVHu7nUJzM8EEgAAAAAAAAAAAAAAAAAAAAAAAAAAAAAAADC5zKC7mYPSDHTsx5mehlInBGNq4DD9EcAAAAAAAAAAF2Q+yaKoAVIPPZjrpaa9UcAAAAAAAAAAAAAAAAAAAAAAAAAAAAAAAAAAAAAAAAAAHhqK899yPVHFkPBVqiU9UcAAAAAAAAAAAAAAAAAAAAAAAAAAAAAAACiWTWPjK8FSAAAAAAAAAAAAAAAAAAAAAAAAAAAAAAAAIoSlaSzdfVHAAAAAAAAAAAAAAAAAAAAAAAAAAAAAAAAAAAAAAAAAAAAAAAAAAAAAGSEC0ixevVHeKuZ83LM9UcAAAAAAAAAAHMSsl+emQVINQzFfADF9EcAAAAAAAAAAIEAsWOHz/VHAAAAAAAAAADXINBSVyr2RxY/5c2eEPVHAAAAAAAAAAAAAAAAAAAAAP/PHlSqjRBIE2VdJbSM9UcAAAAAAAAAAAAAAAAAAAAA7ogqzTau9EcoDp5Bjkz1RwAAAAAAAAAAAAAAAAAAAADwBNJoy2L2RwXTeDpXQ/VHAAAAAAAAAAAAAAAAAAAAAAAAAAAAAAAAAAAAAAAAAAC7rNTiYQkESMO9p0OoK/RHAAAAAAAAAAAAAAAAAAAAAANYdtzwkfVHgPezrhehBUgAAAAAAAAAAAAAAAAAAAAAAAAAAAAAAACMdPj5MnL2RwAAAAAAAAAAAAAAAAAAAADSVioQFpz2RwAAAAAAAAAAKCsmOOuL9kdq5c1Pl4r1RwAAAAAAAAAAAAAAAAAAAAAAAAAAAAAAAKkfFUfDogZIMbz9irUM9UcAAAAAAAAAAOkQwGbXQ/ZH8L1/s+UoBki0DjvHRgv2R4/f6PcuY/RHAAAAAAAAAABTdCY2w0b2RwAAAAAAAAAA/JtwQ1/x9EcAAAAAAAAAAB07d/tVcRBIAAAAAAAAAAAAAAAAAAAAACBjtkVhhwVIAAAAAAAAAAAAAAAAAAAAAAAAAAAAAAAAAAAAAAAAAAAAAAAAAAAAAAAAAAAAAAAAfkcZtYI4BkgAAAAAAAAAAAAAAAAAAAAAAAAAAAAAAAAAAAAAAAAAAAAAAAAAAAAAAAAAAAAAAAAAAAAAAAAAAAAAAAAAAAAAAAAAAAAAAAAAAAAAAAAAAAAAAAAAAAAAAAAAAAAAAAAAAAAAAAAAAKqtepbbwvZHAAAAAAAAAABQde+AqOj1R2B83GZxFQVImDu8seVG9kcAAAAAAAAAABThpHLfSPdHAAAAAAAAAAAAAAAAAAAAAAAAAAAAAAAAAAAAAAAAAAAAAAAAAAAAAAAAAAAAAAAAAAAAAAAAAAAAAAAAAAAAAAAAAAAAAAAAAAAAAAAAAAAAAAAAAAAAAAAAAAAAAAAAAAAAAAAAAAAAAAAAAAAAAAAAAAAAAAAAAAAAAAAAAAD1FSA6I2P2RxfRwZDahPVHAAAAAAAAAAAAAAAAAAAAABW+2Z2lyxBIAAAAAAAAAAAczwZVI8wFSK7Q7KStDvVHAAAAAAAAAAAAAAAAAAAAAAAAAAAAAAAAMmvOeN6k90dzWUYzyIT1RwAAAAAAAAAAAAAAAAAAAABCecxDteX1R2MSDHjuBvZHAAAAAAAAAAAaTcrVCCL3RwAAAAAAAAAAAAAAAAAAAAAAAAAAAAAAAAAAAAAAAAAAaiOi8JtP9kcAAAAAAAAAAP751fNDfAdIAAAAAAAAAAAuw9DqGG32R96l/h4TIPVHNvFxn1PnBUjzpzU5r6v3R1ttkEjMivZHAAAAAAAAAAAAAAAAAAAAANBrRoz4SAdIHfyX2Cli90cAAAAAAAAAAAAAAAAAAAAApLFv5CzRBkgAAAAAAAAAALNQ1Cp0dwdIAAAAAAAAAADA6/NfL5kGSAAAAAAAAAAAu5xHqpF59kcAAAAAAAAAAAAAAAAAAAAAAAAAAAAAAAAAAAAAAAAAAAAAAAAAAAAAAAAAAAAAAAAAAAAAAAAAAAAAAAAAAAAAAAAAAAAAAAAAAAAAAAAAAAAAAAAAAAAAAAAAAAAAAAAAAAAAAAAAAGaKywdGvfVHnckB+2hY90cAAAAAAAAAAAAAAAAAAAAAw4Q9zWRRB0ihqJH2U8j2RwAAAAAAAAAAAAAAAAAAAAAAAAAAAAAAABJVYam3ePdHAAAAAAAAAAAAAAAAAAAAAAAAAAAAAAAAhuKKfXkL90cAAAAAAAAAAHu2iRfe8vZHAAAAAAAAAAAAAAAAAAAAAC7z1150HfhH9UKBkbUa+EcAAAAAAAAAAPNB+wvnhwZIAAAAAAAAAAAAAAAAAAAAAAAAAAAAAAAAMq3GJJU+9kcgsRMP30IHSAAAAAAAAAAAAAAAAAAAAAAARfcvFi74RxsApU0mXfdHAAAAAAAAAAAAAAAAAAAAAAAAAAAAAAAAAAAAAAAAAAAAAAAAAAAAAAAAAAAAAAAAAAAAAAAAAABSkq4tbfH3RwAAAAAAAAAAAAAAAAAAAACjlLL2BMj2RwAAAAAAAAAAAAAAAAAAAAAAAAAAAAAAAAAAAAAAAAAAq6lYf7LdB0j85rQCFbz3RwAAAAAAAAAAf3RPwBTb90cAAAAAAAAAAAAAAAAAAAAAAAAAAAAAAAAAAAAAAAAAAFNG9PR2+/ZHAAAAAAAAAAC96/p48mIHSAwNpePgevVHAAAAAAAAAAAAAAAAAAAAAAAAAAAAAAAAAAAAAAAAAAAAAAAAAAAAAAAAAAAAAAAAiphr2IYR90cAAAAAAAAAAGUBAAxMqPdHAAAAAAAAAAAAAAAAAAAAAJHVhvTzUPhHucShT0/B+Ef8ZmMtRVD2R6cJlxXdDvhHAAAAAAAAAAAAAAAAAAAAAAAAAAAAAAAAAAAAAAAAAAAAAAAAAAAAAAAAAAAAAAAAAAAAAAAAAACMEiNmrAAHSAAAAAAAAAAAAAAAAAAAAADJ5OHQeGz3RwAAAAAAAAAAFM3Ms+0X90eStZh0B9X3RwAAAAAAAAAAAAAAAAAAAACw2LeC3gQISAAAAAAAAAAAZJl/Gy1e+EcAAAAAAAAAAAAAAAAAAAAAAAAAAAAAAAAnwMR9Xvz3RwAAAAAAAAAAAAAAAAAAAACOquuTfWr4RwAAAAAAAAAAAAAAAAAAAADeQiWjUiz4R1LFD9UzWPhHAAAAAAAAAAAAAAAAAAAAAGTM1Ux4zhFIcWLx4yf8B0hqwcYYYCT4RwAAAAAAAAAAAAAAAAAAAAA1z0g0lKgISAAAAAAAAAAAAAAAAAAAAADC4QlQM5QISAAAAAAAAAAAe8O84oI790cdk7zKPRf5RwAAAAAAAAAAAAAAAAAAAACSRiH9I/L4R6tFS7HKSflHPbuR0lVs+EfrKwLp4ewRSAAAAAAAAAAAAAAAAAAAAAAAAAAAAAAAAAAAAAAAAAAAAAAAAAAAAAACO/khapYISAM4kcGMmQhIAAAAAAAAAAAAAAAAAAAAAMZ+3qGaxPhHTfqCDkeUCEgAAAAAAAAAAAAAAAAAAAAAAAAAAAAAAAAzOYRgsHb5RwAAAAAAAAAA/480yPHv+EcAAAAAAAAAAFGAfIrlovhHAAAAAAAAAABUgHP/sV4HSAEuWyXx6PhHAAAAAAAAAACoSiEWLsX5Rz+9b8mJ+/hHAAAAAAAAAAAAAAAAAAAAAEciVCUSU/dHAAAAAAAAAAAAAAAAAAAAAAAAAAAAAAAAl6QZCC/N+UcAAAAAAAAAAAgI8NFWIPlHCxvM6k7F+EcAAAAAAAAAAMTArQvCzfhHzhPuETSECUh5UOvKeO74R8v9fP6VAfpHdTO0M+X99kdUbtWWAPj4RwAAAAAAAAAAAAAAAAAAAAALufPdRbv5RwAAAAAAAAAA1MjU88jj+UdcvfMDSHv5R0r4GtaaO/lHGXmKUJ00+kf2FePL06D4R5V9SncNFflHthX8yodaCUgAAAAAAAAAAAAAAAAAAAAAAAAAAAAAAACNj6VeCZf4RwAAAAAAAAAADGafAv3a+UdWD11aT/f4RwW4OiJV+/lHRjvWQ11q+kcAAAAAAAAAAJ3w+ocIgPlHAAAAAAAAAADVEB/gKwn6RwAAAAAAAAAALoj6enLr+EdLxaKaVLD4RwAAAAAAAAAAM+i1wcAn+kcAAAAAAAAAAAAAAAAAAAAAAAAAAAAAAACqdIv1PRT6RwAAAAAAAAAAmU5LoJ2hCUgAAAAAAAAAAAAAAAAAAAAAh1aMpbsU+kcAAAAAAAAAAOEbQxb/GPpHAAAAAAAAAAAAAAAAAAAAAAAAAAAAAAAAAAAAAAAAAAAAAAAAAAAAAAAAAAAAAAAAAAAAAAAAAAAAAAAAAAAAAAAAAAAAAAAA/lrPxi4o+kfqxZJG1xz6RwAAAAAAAAAAAAAAAAAAAAAAAAAAAAAAAAAAAAAAAAAAAAAAAAAAAAAAAAAAAAAAAGLD2diYX/pH++m849z5+UclfT/G+P4ISAAAAAAAAAAAxOIcfMMu+kcAAAAAAAAAAAAAAAAAAAAAAAAAAAAAAAAAAAAAAAAAAAAAAAAAAAAAAAAAAAAAAAAAAAAAAAAAAAAAAAAAAAAAIfV2TY7G+UcsfhunlJr5R6/4r48H9vlHAAAAAAAAAAAAAAAAAAAAAAAAAAAAAAAAAAAAAAAAAAAAAAAAAAAAAAAAAAAAAAAAAAAAAAAAAAAAAAAAAAAAAAAAAAAAAAAAAAAAAAAAAAAAAAAAAAAAAAAAAAAAAAAAxZL1JxQx+UcAAAAAAAAAAAAAAAAAAAAAAAAAAAAAAAAAAAAAAAAAAAAAAAAAAAAAAAAAAAAAAAAAAAAAAAAAAAAAAAAAAAAAAAAAAAAAAAAAAAAAAAAAAAAAAAAAAAAAAAAAAAAAAAAAAAAAAAAAAAAAAAAAAAAAAAAAAAAAAAAAAAAAAAAAAAAAAAAAAAAAAAAAAAAAAAAAAAAAAAAAAPWN/n7YnvpHAAAAAAAAAAAAAAAAAAAAAAAAAAAAAAAASZz3Qjlr+kcAAAAAAAAAAAAAAAAAAAAAAAAAAAAAAADLYiywfwL7RwAAAAAAAAAAAAAAAAAAAAAAAAAAAAAAAAAAAAAAAAAAAAAAAAAAAAAAAAAAAAAAAAAAAAAAAAAAAAAAAAAAAAAAAAAAAAAAAAAAAAAAAAAAOoWieVWr+UcAAAAAAAAAAAAAAAAAAAAAYI+P1Dow+UcAAAAAAAAAAAAAAAAAAAAAAAAAAAAAAAAAAAAAAAAAAAAAAAAAAAAAAAAAAAAAAAAAAAAAAAAAAAAAAAAAAAAAAAAAAAAAAAAAAAAAAAAAAAAAAAAAAAAAkzrGolt6+0cAAAAAAAAAAAAAAAAAAAAAAAAAAAAAAAAAAAAAAAAAAAAAAAAAAAAAAAAAAAAAAAAAAAAAAAAAAAAAAAAAAAAAAAAAAAAAAAAMeL2iQev6RwAAAAAAAAAAAAAAAAAAAAAAAAAAAAAAAAAAAAAAAAAAAAAAAAAAAAAAAAAAAAAAAAAAAAAAAAAAAAAAAAAAAAAAAAAAAAAAAAAAAAAAAAAAAAAAAAAAAAAAAAAAAAAAAAAAAAAAAAAAAAAAAAAAAAAAAAAAAAAAAAAAAAAAAAAAAAAAAAAAAAAAAAAAAAAAAFCDK0XWXPtHAAAAAAAAAAAAAAAAAAAAAAAAAAAAAAAAAAAAAAAAAAAAAAAAAAAAAAAAAAAAAAAAg41uIsQ7/EcAAAAAAAAAAAAAAAAAAAAAAAAAAAAAAAAAAAAAAAAAAAAAAAAAAAAAAAAAAAAAAAAAAAAAAAAAAJJy3EVBJAtIL7ga1uzJ+UcAAAAAAAAAAAAAAAAAAAAApnFqsCIZ+0cAAAAAAAAAAAAAAAAAAAAAAAAAAAAAAAAAAAAAAAAAAAAAAAAAAAAAchFAkGIc+0cAAAAAAAAAAAAAAAAAAAAAAAAAAAAAAAAAAAAAAAAAAAAAAAAAAAAAAAAAAAAAAAAAAAAAAAAAAAAAAAAAAAAAAAAAAAAAAAAAAAAAAAAAAAAAAAAAAAAAAAAAAAAAAAAAAAAAAAAAAAAAAAAAAAAAAAAAAAAAAAAAAAAAAAAAAAAAAAAAAAAAAAAAAAAAAAAAAAAAAAAAAAAAAAAAAAAAAAAAAAAAAAD5/tmbr6/6RwAAAAAAAAAAAAAAAAAAAAAAAAAAAAAAAAAAAAAAAAAAAAAAAAAAAAAAAAAAAAAAAAAAAAAAAAAAAAAAAAAAAABYIoWRJ2b7RwAAAAAAAAAAAAAAAAAAAAAAAAAAAAAAAAAAAAAAAAAAo3ZNghJo+0cAAAAAAAAAAAAAAAAAAAAAAAAAAAAAAAAAAAAAAAAAAAAAAAAAAAAAAAAAAAAAAAAAAAAAAAAAABjgLDJ56/pHAAAAAAAAAAAAAAAAAAAAAAAAAAAAAAAAAAAAAAAAAACBffMgjbD8RwAAAAAAAAAAAAAAAAAAAAAAAAAAAAAAAAAAAAAAAAAAAAAAAAAAAAAAAAAAAAAAAAh2qYfy6vpHAAAAAAAAAAAAAAAAAAAAAAAAAAAAAAAAAAAAAAAAAAAAAAAAAAAAAAAAAAAAAAAAAAAAAAAAAAAAAAAAAAAAAAAAAAAAAAAAAAAAAAAAAAAAAAAAAAAAAAAAAAAAAAAAAAAAAAAAAAAAAAAAAAAAAAAAAAAAAAAAAAAAAAAAAAAAAAAAAAAAAAAAAAAAAAAAAAAAAAAAAAAAAAAAAAAAAAAAAAAAAAAAAAAAAAAAAAAZx91OVlL8RwAAAAAAAAAAAAAAAAAAAAAAAAAAAAAAAAAAAAAAAAAAAAAAAAAAAAAAAAAAAAAAAAAAAAAAAAAAAAAAAAAAAAAAAAAAAAAAAAAAAAAAAAAAAAAAAAAAAAAAAAAAAAAAAAAAAAAAAAAAAAAAAAAAAAAAAAAAAAAAAAAAAAAAAAAAAAAAAAAAAAAAAAAAAAAAAAAAAAAAAAAAAAAAAAAAAAAAAAAAAAAAAHduuhQEygtIAAAAAAAAAAAAAAAAAAAAAAAAAAAAAAAAAAAAAAAAAAAAAAAAAAAAAAAAAAAAAAAAAAAAAAAAAAAAAAAAAAAAAAAAAAAAAAAAV1pJs8H3/EcAAAAAAAAAAAAAAAAAAAAAAAAAAAAAAAAAAAAAAAAAAAAAAAAAAAAAAAAAAAAAAADTLsjCjcv8RwAAAAAAAAAAAAAAAAAAAAAAAAAAAAAAAAAAAAAAAAAAAAAAAAAAAAAAAAAAAAAAAAAAAAAAAAAAAAAAAAAAAAAAAAAAAAAAAAAAAAAAAAAAAAAAAAAAAAAAAAAAAAAAAAAAAAAAAAAAAAAAAAAAAAAAAAAAAAAAAAAAAAAAAAAAu5fjCSUgDUgAAAAAAAAAAAAAAAAAAAAAAAAAAAAAAAAAAAAAAAAAAMk33irQ1AxIAAAAAAAAAAAAAAAAAAAAAAAAAAAAAAAAAAAAAAAAAAAAAAAAAAAAAAAAAAAAAAAAAAAAAAAAAAAAAAAAAAAAAAAAAAAAAAAAAAAAAAAAAADdEycgLAv9RwAAAAAAAAAAAAAAAAAAAAAAAAAAAAAAAAAAAAAAAAAAAAAAAAAAAAAAAAAAAAAAAAAAAAAAAAAAAAAAAAAAAAAAAAAAAAAAAAAAAAAAAAAAAAAAAAAAAAAAAAAAAAAAAAAAAAAAAAAAAAAAAAAAAAAAAAAAAAAAAAAAAAAAAAAAAAAAAAAAAAAAAAAAAAAAAAAAAAAAAAAAAAAAAAAAAAAAAAAAAAAAAAAAAAAAAAAAAAAAAAAAAAAAAAAAAAAAAAAAAAAAAAAAAAAAAAAAAAAAAAAAAAAAAAAAAAAAAAAAAAAAAAAAAAAAAAAAAAAAAAAAAAAAAAAAAAAAAAAAAAAAAAAAAAAAAAAAAAAAAAAAAAAAAAAAAAAAAAAAAAAAAHqlxpjUIP5HAAAAAAAAAAAAAAAAAAAAAAAAAAAAAAAAAAAAAAAAAAAAAAAAAAAAAAAAAAAAAAAAAAAAAAAAAAAAAAAAAAAAAAAAAAAAAAAAAAAAAAAAAAAAAAAAAAAAAAAAAAAAAAAAAAAAAAAAAAAAAAAAAAAAAAAAAAAAAAAAAAAAAAAAAAAAAAAAAAAAAAAAAAAAAAAAAAAAAAAAAAAAAAAAAAAAAAAAAAAAAAAAAAAAAAAAAAAAAAAAAAAAAAAAAAAAAAAAAAAAAAAAAAAAAAAAAAAAAAAAAAAAAAAAAAAAAAAAAAAAAAAAAAAAAAAAAAAAAAAAAAAAAAAAAAAyVhHzCUj9RwAAAAAAAAAAAAAAAAAAAAAAAAAAAAAAAAAAAAAAAAAAAAAAAAAAAAAAAAAAAAAAADLLAR0tCP9HAAAAAAAAAAAAAAAAAAAAAAAAAAAAAAAAAAAAAAAAAAAAAAAAAAAAAAAAAAAAAAAAdzb0ksdP/0cAAAAAAAAAAAAAAAAAAAAASOL64ksgD0gAAAAAAAAAAAAAAAAAAAAAAAAAAAAAAAD6SUBVG9v+RwAAAAAAAAAAyklo2VNW/UcAAAAAAAAAAAAAAAAAAAAAAAAAAAAAAADyQmXDtbMMSAAAAAAAAAAAAAAAAAAAAAAAAAAAAAAAAAAAAAAAAAAAAAAAAAAAAAAAAAAAAAAAAAAAAAAAAAAAuiqvNeiW/0fZ6NfzAmr/RwAAAAAAAAAAAAAAAAAAAAAAAAAAAAAAAAAAAAAAAAAAAAAAAAAAAAAAAAAAAAAAAAAAAAAAAAAAAAAAAAAAAAAAAAAAAAAAAAAAAAAAAAAAAAAAAAAAAAAAAAAAAAAAAAAAAAAAAAAAAAAAAAAAAAAAAAAAAAAAAAAAAAAAAAAAAAAAAAAAAAAAAAAAAAAAAAAAAAAAAAAAAAAAAAAAAAAAAAAAAAAAAFsDiApO+/9HAAAAAAAAAADpoD3c2Pn/RwAAAAAAAAAAAAAAAAAAAAAAAAAAAAAAAAAAAAAAAAAAAAAAAAAAAAAAAAAAAAAAAAAAAAAAAAAAAAAAAAAAAAAAAAAAAAAAAAAAAAAAAAAAAAAAAAAAAAAAAAAAAAAAAAAAAAAAAAAAAAAAAAAAAAAAAAAAAAAAAAAAAAAAAAAAAAAAAAAAAAAAAAAAAAAAAAAAAAAAAAAAAAAAAAAAAAAAAAAAAAAAAMuYk6+A5v5HAAAAAAAAAADnSvNiYjD/RwAAAAAAAAAAAAAAAAAAAAAedZR0Wx7/RwAAAAAAAAAAAAAAAAAAAAAAAAAAAAAAAAAAAAAAAAAAAAAAAAAAAAAAAAAAAAAAAO6NMfeQlf9HAAAAAAAAAACG3LBG5UD+RwAAAAAAAAAAAAAAAAAAAAAAAAAAAAAAAAAAAAAAAAAAAAAAAAAAAAAAAAAAAAAAAAAAAAAAAAAAAAAAAAAAAAAAAAAAAAAAAAAAAAAAAAAAAAAAAAAAAAAAAAAAAAAAAAAAAAAAAAAAAAAAAAAAAAAAAAAAAAAAAAAAAAAAAAAAAAAAAAAAAAAAAAAAAAAAAAAAAAAAAAAAAAAAAAAAAAAAAAAAAAAAAIwKuz3+g/9HAAAAAAAAAAAAAAAAAAAAAAAAAAAAAAAAAAAAAAAAAAAAAAAAAAAAAAAAAAAAAAAAAAAAAAAAAAAAAAAAAAAAAAAAAAAAAAAAAAAAAAAAAAAAAAAAAAAAAAAAAAAAAAAAAAAAAAAAAACkOWJGgm/+RwAAAAAAAAAAAAAAAAAAAAAAAAAAAAAAAAAAAAAAAAAAAAAAAAAAAAAAAAAAAAAAAAAAAAAAAAAAAAAAAAAAAAAAAAAAAAAAAAAAAAAAAAAAnZw2iVl0/0cAAAAAAAAAAAAAAAAAAAAAAAAAAAAAAAAAAAAAAAAAAAAAAAAAAAAAAAAAAAAAAAD7MJev0AoASAAAAAAAAAAAAAAAAAAAAAAAAAAAAAAAAAAAAAAAAAAAAAAAAAAAAAAAAAAAAAAAAAAAAAAAAAAAAAAAAAAAAAAAAAAAAAAAAAAAAAAAAAAAAAAAAAAAAAAAAAAAAAAAAAAAAAAAAAAAAAAAAAAAAAC3SZEiA2T9RwAAAAAAAAAAAAAAAAAAAAAAAAAAAAAAAAAAAAAAAAAAAAAAAAAAAAAAAAAAAAAAAAAAAAAAAAAAAAAAAAAAAAAAAAAAAAAAAAAAAAAAAAAAjKb/6iBPAEgAAAAAAAAAAAAAAAAAAAAAAAAAAAAAAAAAAAAAAAAAAAAAAAAAAAAAAAAAAAAAAAAAAAAAAAAAAAAAAAAAAAAAsLWEAD9lAEgAAAAAAAAAAAAAAAAAAAAAAAAAAAAAAAAAAAAAAAAAAAAAAAAAAAAAAAAAAAAAAAAAAAAAAAAAAAAAAAAAAAAAAAAAAAAAAAAAAAAAAAAAAAAAAAAAAAAAAAAAAAAAAAAAAAAAAAAAAAAAAAAAAAAAAAAAAAAAAAClrB97Mv7/RwAAAAAAAAAAAAAAAAAAAAAAAAAAAAAAAAAAAAAAAAAAAAAAAAAAAAAAAAAAAAAAAAAAAAAAAAAAAAAAAAAAAAAAAAAAAAAAAAAAAAAAAAAAAAAAAAAAAAAAAAAAAAAAAJ7Zm/XjygBIAAAAAAAAAAAAAAAAAAAAAAAAAAAAAAAAAAAAAAAAAAAAAAAAAAAAAAAAAAAAAAAAAAAAAAAAAAAAAAAAAAAAAAAAAAAAAAAAAAAAAAAAAAAAAAAAAAAAAAAAAAAAAAAAAAAAAAAAAAAAAAAAAAAAAAAAAAAAAAAAIz++OtzLAEgAAAAAAAAAAAAAAAAAAAAAAAAAAAAAAAAAAAAAAAAAABqwQYyIVP1HAAAAAAAAAAAAAAAAAAAAAAAAAAAAAAAAAAAAAAAAAAAAAAAAAAAAAAAAAAAAAAAAAAAAAAAAAAAAAAAAAAAAAAAAAAAAAAAAiyczrvN7AEiZJk+ZutEASAAAAAAAAAAAAAAAAAAAAAAAAAAAAAAAAAAAAAAAAAAAAAAAAAAAAAAAAAAAAAAAAAAAAAAAAAAAAAAAAAAAAAAAAAAAAAAAAAAAAAAAAAAAAAAAAAAAAAAAAAAAAAAAAAAAAAAAAAAAAAAAAAAAAAAAAAAAAAAAAAAAAAAAAAAAAAAAAAAAAAAAAAAAAAAAAAAAAAAAAAAAAAAAAAAAAAAAAAAAAAAAAAAAAAAAAAAAAAAAAAAAAAAAAAAAAAAAAAAAAAAAAAAAAAAAAAAAAAAAAAAAAAAAAAAAAAAAAAAAAAAAAAAAAAAAAAAAAAAAAAAAAAAAAAAAAAAAAAAAAAAAAAAAAAAAAAAAAAAAAAAAAAAAAAAAAAAAAAAAAAAAAP95WUlSchBIAAAAAAAAAAAAAAAAAAAAAAAAAAAAAAAAAAAAAAAAAAAAAAAAAAAAAAAAAAAAAAAAAAAAAAAAAAAAAAAAAAAAAAAAAAAAAAAAAAAAAAAAAAAAAAAAAAAAAAAAAAAAAAAAAAAAAAAAAAAAAAAAAAAAAAAAAAAAAAAAAAAAAAAAAAAAAAAAAAAAAAAAAAAAAAAAAAAAAAAAAAAAAAAAAAAAAAAAAAAAAAAAAAAAAAAAAAAAAAAAAAAAAAAAAAAAAAAAAAAAAAAAAAAAAAAAAAAAAAAAAAAAAAAAAAAAAAAAAAAAAAAAAAAAAAAAAAAAAAAAAAAAAAAAAAAAAAAAAAAAAAAAAAAAAAAA2KdFtZM6AUgAAAAAAAAAAAAAAAAAAAAAAAAAAAAAAAAAAAAAAAAAAAAAAAAAAAAAAAAAAAAAAAAAAAAAAAAAAAAAAAAAAAAAAAAAAAAAAAAAAAAAAAAAAAAAAAAAAAAAAAAAAAAAAAAAAAAAAAAAAAAAAAAAAAAAAAAAAAAAAAAAAAAAAAAAAAAAAAAAAAAAirXJc+3WAEgAAAAAAAAAAAAAAAAAAAAAAAAAAAAAAAAAAAAAAAAAAAAAAAAAAAAAAAAAAAAAAAAAAAAAAAAAAAAAAAAAAAAAAAAAAAAAAAAAAAAAAAAAAAAAAAAAAAAAAAAAAAAAAAAAAAAAAAAAAAAAAAAAAAAAAAAAAAAAAAAAAAAAAAAAAAAAAAAAAAAAAAAAAAAAAAAAAAAAAAAAAAAAAAAAAAAAAAAAAAAAAAAAAAAAAAAAAAAAAAAAAAAAAAAAAAAAAAAAAAAAAAAAAAAAAAAAAAAAAAAAAAAAAAAAAAAAAAAAAAAAAAAAAAAAAAAAAAAAAAAAAAAAAAAAAAAAAAAAAAAAAAAAAAAAAAAAAAAAAAAAAAAAAAAAAAAAAAAAAAAAAAAAAAAAAAAAAAAAAAAAAAAAAAAAAAAAAAAAAAAAAAAAAAAAAAAAAAAAAAAAAAAAAAAAAAAAAAAAAAAAAAAAAAAAAAAAAAAAAAAAAAAAAAAAAAAAAAAAAAAAAAAAAAAAAAAAAAAAAAAAAAAAAAAAAAAAAAAAAAAAAAAAAAAAAAAAAAAAAAAAAAAAAAAAAAAAAAAAAAAAAAAAAAAAAAAAAAAAAAAAAAAAAAAAAAAAAAAAAAAAAAAAAAAAAAAAAAAAAAAAAAAAAAAAAAAAAAAAAAAAAAAAAAAAAAAAAAAAAAAAAAAAAAAAAAAAH7moTR8IAUgAAAAAAAAAAAAAAAAAAAAAAAAAAAAAAAAAAAAAAAAAAAAAAAAAAAAAAAAAAAAAAAAAAAAAAAAAAAAAAAAAAAAAAAAAAAAAAAAAAAAAAAAAAAAAAAAAAAAAAAAAAAAAAAAAAAAAAAAAAAAAAAAAAAAAAAAAAAAAAAAAAAAAAAAAAAAAAAAAAAAAAAAAAAAAAAAAAAAAAAAAAAAAAAAAAAAAAAAAAAAAAAAAAAAAAAAAAAAAAAAAAAAAAAAAAAAAAAAAAAAAAAAAAAAAAAAAAAAAAAAAAAAAAAAAAAAAAAAAAAAAAAAAAAAAAAAAAAAAAAAAAAAAAAAAAAAAAAAAAAAAAAAAAAAAAAAAAAAAAAAAAAAAAAAAAAAAAAAAAAAAAAAAAAAAAAAAAAAAAAAAAAAAAAAAAAAAAAAAAAAAAAAAAAAAAAAAAAAAAAAAAAAAAAAAAAAAAAAAAAAAAAAAAAAAAAAAAAAAAAAAAAAAAAAAAAAAAAAAAAAAAAAAAAAAAAAAAAAAAAAAAAAAAAAAAAAAAAAAAAAAAAAAAAAAAAAAAAAAAAAAAAAAAAAAAAAAAAAAAAAAAAAAAAAAAAAAAAAAAAAAAAAAAAAAAAAAAAAAAAAAAAAAAAAAAAAAAAAAAAAAAAAAAAAAAAAAAAAAAAAAAAAAAAAAAAAAAAAAAAAAAAAAAAAAAAAAAAAAAAAAAAAAAAAAAAAAAAAAAAAAAAAAAAAAAAAAAAAAAAAAAAAAAAAAAAAAAAAAAAAAAAAAAAAAAAAAAAAAAAAAAAAAAAAAAAAAAAAAAAAAAAAAAAAAAAAAAAAAAAAAAAAAAAAAAAAAAAAAAAAAAAAAAAAAAAAAAAAAAAAAAAAAAAAAAAAAAAAAAAAAAAAAAAAAAAAAAAAAAAAAAAAAAAAAAAAAAAAAAAAAAAAAAAAAAAAAAAAAAAAAAAAAAAAAAAAAAAAAAAAAAAAAAAAAAAAAAAAAAAAAAAAAAAAAAAAAAAAAAAAAAAAAAAAAAAAAAAAAAAAAAAAAAAAAAAAAAAAAAAAAAAAAAAAAAAAAAAAAAAAAAAAAAAAAAAAAAAAAAAAAAAAAAAAAAAAAAAAAAAAAAAAAAAAAAAAAAAAAAAAAAAAAAAAAAAAAAAAAAAAAAAAAAAAAAAAAAAAAAAAAAAAAAAAAAAAAAAAAAAAAAAAAAAAAAAAAAAAAAAAAAAAAAAAAAAAAAAAAAAAAAAAAAAAAAAAAAAAAAAAAAAAAAAAAAAAAAAAAAAAAAAAAAAAAAAAAAAAAAAAAAAAAAAAAAAAAAAAAAAAAAAAAAAAAAAAAAAAAAAAAAAAAAAAAAAAAAAAAAAAAAAAAAAAAAAAAAAAAAAAAAAAAAAAAAAAAAAAAAAAAAAAAAAAAAAAAAAAAAAAAAAAAAAAAAAAAAAAAAAAAAAAAAAAAAAAAAAAAAAAAAAAAAAAAAAAAAAAAAAAAAAAAAAAAAAAAAAAAAAAAAAAAAAAAAAAAAAAAAAAAAAAAAAAAAAAAAAAAAAAAAAAAAAAAAAAAAAAAAAAAAAAAAAAAAAAAAAAAAAAAAAAAAAAAAAAAAAAAAAAAAAAAAAAAAAAAAAAAAAAAAAAAAAAAAAAAAAAAAAAAAAAAAAAAAAAAAAAAAAAAAAAAAAAAAAAAAAAAAAAAAAAAAAAAAAAAAAAAAAAAAAAAAAAAAAAAAAAAAAAAAAAAAAAAAAAAAAAAAAAAAAAAAAAAAAAAAAAAAAAAAAAAAAAAY2iXzCbWAkgAAAAAAAAAAAAAAAAAAAAAAAAAAAAAAAAAAAAAAAAAAAAAAAAAAAAAAAAAAAAAAAAAAAAAAAAAAAAAAAAAAAAAAAAAAAAAAAAAAAAAAAAAAAAAAAAAAAAAAAAAAAAAAAAAAAAAAAAAAAAAAAAAAAAAAAAAAAAAAAAAAAAAAAAAAAAAAAAAAAAAAAAAAAAAAAAAAAAAAAAAAAAAAAAAAAAAAAAAAAAAAAAAAAAAAAAAAAAAAAAAAAAAAAAAAAAAAAAAAAAAAAAAAAAAAAAAAAAAAAAAAAAAAAAAAAAAAAAAAAAAAAAAAAAAAAAAAAAAAAAAAAAAAAAAAAAAAAAAAAAAAAAAAAAAAAAAAAAAAAAAAAAAAAAAAAAAAAAAAAAAAAAAAAAAAAAAAAAAAAAAAAAAAAAAAAAAAAAAAAAAAAAAAAAAAAAAAAAAAAAAAAAAAAAAAAAAAAAAAAAAAAAAAAAAAAAAAAAAAAAAAAAAAAAAAAAAAAAAAAAAAAAAAAAAAAAAAAAAAAAAAAAAAAAAAAAAAAAAAAAAAAAAAAAAAAAAAAAAAAAAAAAAAAAAAAAAAAAAAAAAAAAAAAAAAAAAAAAAAAAAAAAAAAAAAAAAAAAAAAAAAAAAAAAAAAAAAAAAAAAAAAAAAAAAAAAAAAAAAAAAAAAAAAAAAAAAAAAAAAAAAAAAAAAAAAAAAAAAAAAAAABoF6Iyr5ICSAAAAAAAAAAAAAAAAAAAAAAAAAAAAAAAAAAAAAAAAAAAAAAAAAAAAAAAAAAAAAAAAHXAU9PeFANIAAAAAAAAAAAAAAAAAAAAAAAAAAAAAAAAAAAAAAAAAAAAAAAAAAAAAAAAAAAAAAAAAAAAAAAAAAAAAAAAAAAAAAAAAAAAAAAAAAAAAAAAAAAAAAAAAAAAAAAAAAAAAAAAAAAAAAAAAAAAAAAAAAAAAAAAAAAAAAAAAAAAAAAAAAAAAAAAAAAAAAAAAAAAAAAAAAAAAAAAAAAAAAAAAAAAAAAAAAAAAAAAAAAAAAAAAAAAAAAAAAAAAAAAAAAAAAAAAAAAAAAAAAAAAAAAAAAAAAAAAAAAAAAAAAAAAAAAAAAAAAAAAAAAAAAAAAAAAAAAAAAAAAAAAADGzIuX1noCSAAAAAAAAAAAAAAAAAAAAAAAAAAAAAAAAAAAAAAAAAAAAAAAAAAAAAAAAAAAAAAAAAAAAAAAAAAAAAAAAAAAAAAAAAAAAAAAAAAAAAAAAAAAAAAAAAAAAAAAAAAAAAAAAAAAAAAAAAAAAAAAAAAAAAAAAAAAAAAAAAAAAAAAAAAAAAAAAAAAAADyH5YviUkDSAAAAAAAAAAAAAAAAAAAAAAAAAAAAAAAAAAAAAAAAAAAAAAAAAAAAAAAAAAAAAAAAAAAAAAAAAAAAAAAAAAAAAAAAAAAAAAAAAAAAAAAAAAAAAAAAAAAAAAAAAAAAAAAAAAAAAAAAAAAAAAAAAAAAAAAAAAAAAAAAAAAAAAAAAAAAAAAAAAAAAAAAAAAAAAAAAAAAAAAAAAAAAAAAAAAAAAAAAAAAAAAAAAAAAAAAAAAAAAAAAAAAAAAAAAAAAAAAAAAAAAAAAAAAAAAAAAAAAAAAAAAAAAAAAAAAAAAAAAAAAAAAAAAAAAAAAAAAAAAAAAAAAAAAAAAAAAAAAAAAAAAAAAAAAAAAAAAAAAAAAAAAAAAAAAAAAAAAAAAAAAAAAAAAAAAAAAAAAAAAAAAAAAAAAAAAAAAAAAAAAAAAAAAAAAAAAAAAAAAAAAAAAAAAAAAAAAAAAAAAAAAAAAAAAD2bPoxnroDSAAAAAAAAAAAAAAAAAAAAAAAAAAAAAAAAAAAAAAAAAAAAAAAAAAAAABVMnWHe7QDSAAAAAAAAAAAAAAAAAAAAAAAAAAAAAAAAAAAAAAAAAAAAAAAAAAAAADHzXUePgUTSAAAAAAAAAAAAAAAAAAAAAAAAAAAAAAAAAAAAAAAAAAAAAAAAAAAAAAAAAAAAAAAAAAAAAAAAAAAAAAAAAAAAAAAAAAAAAAAAAAAAAAAAAAAyhFXvxAEA0gAAAAAAAAAAAAAAAAAAAAAAAAAAAAAAAAAAAAAAAAAAAAAAAAAAAAAAAAAAAAAAAAAAAAAAAAAAAAAAAAAAAAAAAAAAAAAAAAAAAAAAAAAAAAAAAAAAAAAAAAAAAAAAAAAAAAAAAAAAAAAAAAAAAAAAAAAAAAAAAAAAAAAAAAAAAAAAAAAAAAAAAAAAAAAAAAAAAAAAAAAAAAAAAAAAAAAAAAAAAAAAAAAAAAAAAAAAAAAAAAAAAAAAAAAAAAAAADsToYSngkESAAAAAAAAAAAAAAAAAAAAAAAAAAAAAAAAAAAAAAAAAAAAAAAAAAAAAAAAAAAAAAAAAAAAAAAAAAAAAAAAAAAAAAAAAAAAAAAAAAAAAAAAAAAAAAAAAAAAAAAAAAAAAAAAAAAAAAAAAAAAAAAAAAAAAAAAAAAAAAAAAAAAAAAAAAAAAAAAAAAAAAAAAAAAAAAAAAAAAAAAAAAAAAAAAAAAAAAAAAAAAAAAAAAAAAAAAAAAAAAAAAAAAAAAAAAAAAAAAAAAAAAAAAAAAAAAAAAAAAAAAAAAAAAAAAAAAAAAAAAAAAAAAAAAAAAAAAAAAAAAAAAAAAAAAAAAAAAAAAAAAAAAAAAAAAAAAAAAAAAAAAAO3EZxvjNBEgAAAAAAAAAAKnaqZEk5wNIAAAAAAAAAAAAAAAAAAAAAAAAAAAAAAAAAAAAAAAAAAAAAAAAAAAAAAAAAAAAAAAAAAAAAAAAAAAAAAAAAAAAAAAAAAAAAAAAAAAAAAAAAAAAAAAAAAAAAAAAAAAAAAAAAAAAAAAAAAAAAAAAAAAAAAAAAAAAAAAAAAAAAAAAAAAAAAAAAAAAAAAAAAAAAAAAAAAAAAAAAAAAAAAAAAAAAAAAAAAAAAAAAAAAAAAAAAAAAAAAAAAAAAAAAAAAAAAAAAAAAAAAAAAAAAAAAAAAAAAAAAAAAAAAAAAAAAAAAAAAAAAAAAAAAAAAAAAAAAAAAAAAAAAAAAAAAAAAAAAAAAAAAAAAAAAAAAAAAAAAAAAAAAAAAAAAAAAAAAAAAAAAAAAAAAAAAAAAAAAAAAAAAAAAAAAAAAAAAAAAAAAAAAAAAAAAAAAAAAAAAAAAAAAAAAAAAAAAAAAAAAAAAAAAAAAAAAAAAAAAAAAAAAAAAAAAAAAAAAAAAAAAAAAAAAAAAAAAAAAAAAAAAAAAAAAAAAAAAAAAAAAAAAAAAAAAAAAAAAAAAAAAAAAAAAAAAAAAAAAAAAAAAAAAAAAAAAAAAAAAAAAAAAAAAAAAAAAAAAAAAAAAAAAAAAAAAAAAAAAAAAAAAAAAAAAAAAAAAAAAAAAAAAAAAAAAAAAAAAAAAAAAAAAAAAAAAAAAAAAAAAAAAAAAAAAAAAAAAAAAAAAAAAAAAAAAAAAAAAAAAAAAAAAAAAAAAAAAAAAAAAAAAAAAAAAAAAAAAAAAAAAAAAAAAAAAAAAAAAAAAAAAAAAAAAAAAAAAAAAAAAAAAAAAAAAAAAAAAAAAAAAAAAAAAAAAAAAAAAAAAAAAAAAAAAAAAAAAAAAAAAAAAAAAAAAAAAAAAAAAAAAAAAAAAAAAAAAAAAAAAAAAAAAAAAAAAAAAAAAAAAAAAAAAAAAAAAAAAAAAAAAAAAAAAAAAAAAAAAAAAEeDHjR7PQVIAToAJHSkBUgAAAAAAAAAAAAAAAAAAAAAAAAAAAAAAAAAAAAAAAAAAAAAAAAAAAAAAAAAAAAAAAAAAAAAAAAAAAAAAAAAAAAAAAAAAAAAAAAAAAAAAAAAAAAAAAAAAAAAAAAAAAAAAAAAAAAAAAAAAAAAAAAAAAAAAAAAAAAAAAAAAAAAAAAAAAAAAAAAAAAAAAAAAAAAAAAAAAAAAAAAAAAAAAAAAAAAAAAAAAAAAAAAAAAAAAAAAAAAAAAAAAAAAAAAAAAAAAAAAAAAAAAAAAAAAAAAAAAAAAAAAAAAAAAAAAAAAAAAAAAAAAAAAAAAAAAAAAAAAAAAAAAAAAAAAAAAAAAAAAAAAAAAAAAAAAAAAAAAAAAAAAAAAAAAAAAAAAAAAAAAAAAAAAAAAAAAAAAAAAAAAAAAAAAAAAAAAAAAAAAAAAAAAAAAAAAAAAAAAAAAAAAAAAAAAAAAAAAAAAAAAAAAAAAAAAAAAAAAAAAAAAAAAAAAAAAAAAAAAAAAAAAAAAAAAAAAAAAAAAAAAAAAAAAAAAAAAAAAAAAAAAAAAAAAAAAAAAAAAAAAAAAAAAAAAAAAAAAAAAAAAAAAAAAAAAAAAAAAAAAAAAAAAAAAAAAAAAAAAAAAAAAAAAAAAAAAAAAAAAAAAAAAAAAAAAAAAAAAAAAAAAAAAAAAAAAAAAAAAAAAAAAAAAAAAAAAAAAAAAAAAAAAAAAAAAAAAAAAAAAAAAAAAAAAAAAAAAAAAAAAAAAAAAAAAAAAAAAAAAAAAAAAAAAAAAAAAAAAAAAAAAAAAAAAAAAAAAAAAAAAAAAAAAAAAITnjopyLgZIAAAAAAAAAAAAAAAAAAAAAAAAAAAAAAAAAAAAAAAAAAAAAAAAAAAAAAAAAAAAAAAAAAAAAAAAAAAAAAAAAAAAAAAAAAAAAAAAAAAAAAAAAAAAAAAAAAAAAAAAAAAAAAAAAAAAAAAAAAAAAAAAAAAAAAAAAAAAAAAAAAAAAAAAAAAAAAAAAAAAAAAAAAAAAAAAAAAAAAAAAAAAAAAAAAAAAAAAAAAAAAAAAAAAAAAAAAAAAAAAAAAAAAAAAAAAAAAAAAAAAAAAAAAAAAAAAAAAAAAAAAAAAAAAAAAAAAAAAAAAAAAAAAAAAAAAAAAAAAAAAAAAAAAAAAAAAAAAAAAAAAAAAAAAAAAAAAAAAAAAAAAAAAAAAAAAAAAAAAAAAAAAAAAAAAAAAAAAAAAAAAAAAAAAAAAAAAAAAAAAAAAAAAAAAAAAAAAAAAAAAAAAAAAAAAAAAAAAAAAAAAAAAAAAAAAAAAAAAAAAAAAAAAAAAAAAAAAAAAAAAAAAAAAAAAAAAAAAAAAAAAAAAAAAAAAAAAAAAAAAAAAAAAAAAAAAAAAAAAAAAAAAAAAAAAAAAAAAAAAAAAAAAAAAAAAAAAAAAAAAAAAAAAAAAAAAAAAAAAAAAAAAAAAAAAAAAAAAAAAAAAAAAAAAAAAAAAAAAAAAAAAAAAAAAAAAAAAAAAAAAAAAAAAAAAAAAAAAAAAAAAAAAAAAAAAAAAAAAAAAAAAAAAAAAAAAAAAAAAAAAAAAAAAAAAAAAAAAAAAAAAAAAAAAAAAAAAAAAAAAAAAAAAAAAAAAAAAAAAAAAAAAAAAAAAAAAAAAAAAAAAAAAAAAAAAAAAAAAAAAAAAAAAAAAAAAAAAAAAAAAAAAAAAAAAAAAAAAAAAAAAAAAAAAAAAAAAAAAAAAAAAAAAAAAAAAAAAAAAAAAAAAAAAAAAAAAAAAAAAAAAAAAAAAAAAAAAAAAAAAAAAAAAAAAAAAAAAAAAAAAAAAAAAAAAAAAAAAAAAAAAAAAAAAAAAAAAAAAAAAAAAAAAAAAAAAAAAAAAAAAAAAAAAAAAAAAAAAAAAAAAAAAAAAAAAAAAAAAAAAAAAAAAAAAAAAAAAAAAAAAAAAAAAAAAAAAAAAAAAAAAAAAAAAAAAAAAAAAAAAAAAAAAAAAAAAnXAUr61iB0gAAAAAAAAAAAAAAAAAAAAAAAAAAAAAAAAAAAAAAAAAAAAAAAAAAAAAAAAAAAAAAAAAAAAAAAAAAAAAAAAAAAAAAAAAAAAAAAAAAAAAAAAAAAAAAAAAAAAAAAAAAAAAAAAAAAAAAAAAAAAAAAAAAAAAAAAAAAAAAAAAAAAAAAAAAAAAAAAAAAAAAAAAAAAAAAAAAAAAAAAAAAAAAAAAAAAAfVpe5CjABkgAAAAAAAAAAAAAAAAAAAAAAAAAAAAAAAAAAAAAAAAAAAAAAAAAAAAAAAAAAAAAAAAAAAAAAAAAAAAAAAAAAAAAAAAAAAAAAAAAAAAAAAAAAAAAAAAAAAAAAAAAAAAAAAAAAAAAAAAAAAAAAAAAAAAAAAAAAAAAAAAAAAAAAAAAAAAAAAAAAAAAAAAAAAAAAAAAAAAAAAAAAAAAAAAAAAAAAAAAAAAAAAAAAAAAAAAAAAAAAAAAAAAAAAAAAAAAAAAAAAAAAAAAAAAAAAAAAAAAAAAAAAAAAAAAAAAAAAAAAAAAAAAAAAAAAAAAAAAAAAAAAAAAAAAAAAAAAAAAAAAAAAAAAAAAAAAAAAAAAAAAAAAAAAAAAAAAAAAAAAAAAAAAAAAAAAAAAAAAAAAAAAAAAAAAAAAAAAAAAAAAAAAAAAAAAAAAAAAAAAAAAAAAAAAAAAAAAAAAAAAAAAAAAAAAAAAAAAAAAAAAAAAAAAAAAAAAAAAAAAAAAAAAAAAAAAAAAAAAAAAAAAAAAAAAAAAAAAAAAAAAAAAAAAAAAAAAAAAAAAAAAAAAAAAAAAAAAAAAAAAAAAAAAAAAAAAAAAAAAAAAAAAAAAAAAAAAAAAAAAAAAAAAAAAAAAAAAAAAAAAAAAAAAAAAAAAAAAAAAAAAAAAAAAAAAAAAAAAAAAAAAAAAAAAAAAAAAAAAAAAAAAAAAAAAAAAAAAAAAAAAAAAAAAAAAAAAAAAAAAAAAAAAAAAAAAAAAAAAAAAAAAAAAAAAAAAAAAAAAAAAAAAAAAAAAAAAAAAAAAAAAAAAAAAAAAAAAAAAAAAAAAAAAAAAAAAAAAAAAAAAAAAAAAAAAAAAAAAAAAAAAAAAAAAAAAAAAAAAAAAAAAAAAAAAAAAAAAAAAAAAAAAAAAAAAAAAAAAAAAAAAAAAAAAAAAAAAAAAAAAAAAAAAAAAAAAAAAAAAAAAAAAAAAAAAAAAAAAAAAAAAAAAAAAAAAAAAAAAAAAAAAAAAAAAAAAAAAAAAAAAAAAAAAAAAAAAAAAAAAAAAAAAAAAAAAAAAAAAAAAAAAAAAAAAAAAAAAAAAAAAAAAAAAAAAAAAAAAAAAAAAAAAAAAAAAAAAAAAAAAAAAAAAAAAAAAAAAAAAAAAAAAAAAAAAAAAAAAAAAAAAAAAAAAAAAAAAAAAAAAAAAAAAAAAAAAAAAAAAAAAAAAAAAAAAAAAAAAAAAAAAAAAAAAAAAAAAAAAAAAAAAAAAAAAAAAAAAAAAAAAAAAAAAAAAAAAAAAAAAAAAAAAAAAAAAAAAAAAAAAAAAAAAAAAAAAAAAAAAAAAAAAAAAAAAAAAAAAAAAAAAAAAAAAAAAAAAAAAAAAAAAAAAAAAAAAAAAAAAAAAAAAAAAAAAAAAAAAAAAAAAAAAAAAAAAAAAAAAAAAAAAAAAAAAAAAAAAAAAAAAAAAAAAAAAAAAAAAAAAAAAAAAAAAAAAAAAAAAAAAAAAAAAAAAAAAAAAAAAAAAAAAAAAAAAAAAAAAAAAAAAAAAAAAAAAAAAAAAAAAAAAAAAAAAAAAAAAAAAAAAAAAAAAAAAAAAAAAAAAAAAAAAAAAAAAAAAAAAAAAAAAAAAAAAAAAAAAAAAAAAAAAAAAAAAAAAAAAAAAAAAAAAAAAAAAAAAAAAAAAAAAAAAAAAAAAAAAAAAAAAAAAAAAAAAAAAAAAAAAAAAAAAAAAAAAAAAAAAAAAAAAAAAAAAAAAAAAAAAAAAAAAAAAAAAAAAAAAAAAAAAAAAAAAAAAAAAAAAAAAAAAAAAAAAAAAAAAAAAAAAAAAAAAAAAAAAAAAAAAAAAAAAAAAAAAAAAAAAAAAAAAAAAAAAAAAAAAAAAAAAAAAAAAAAAAAAAAAAAAAAAAAAAAAAAAAAAAAAAAAAAAAAAAAAAAAAAAAAAAAAAAAAAAAAAAAAAAAAAAAAAAAAAAAAAAAAAAAAAAAAAAAAAAAAAAAAAAAAAAAAAAAAAAAAAAAAAAAAAAAAAAAAAAAAAAAAAAAAAAAAAAAAAAAAAAAAAAAAAAAAAAAAAAAAAAAAAAAAAAAAAAAAAAAAAAAAAAAAAAAAAAAAAAAAAAAAAAAAAAAAAAAAAAAAAAAAAAAAAAAAAAAAAAAAAAAAAAAAAAAAAAAAAAAAAAAAAAAAAAAAAAAAAAAAAAAAAAAAAAAAAAAAAAAAAAAAAAAAAAAAAAAAAAAAAAAAAAAAAAAAAAAAAAAAAAAAAAAAAAAAAAAAAAAAAAAAAAAAAAAAAAAAAAAAAAAAAAAAAAAAAAAAAAAAAAAAAAAAAAAAAAAAAAAAAAAAAAAAAAAAAAAAAAAAAAAAAAAAAAAAAAAAAAAAAAAAAAAAAAAAAAAAAAAAAAAAAAAAAAAAAAAAAAAAAAAAAAAAAAAAAAAAAAAAAAAAAAAAAAAAAAAAAAAAAAAAAAAAAAAAAAAAAAAAAAAAAAAAAAAAAAAAAAAAAAAAAAAAAAAAAAAAAAAAAAAAAAAAAAAAAAAAAAAAAAAAAAAAAAAAAAAAAAAAAAAAAAAAAAAAAAAAAAAAAAAAAAAAAAAAAAAAAAAAAAAAAAAAAAAAAAAAAAAAAAAAAAAAAAAAAAAAAAAAAAAAAAAAAAAAAAAAAAAAAAAAAAAAAAAAAAAAAAAAAAAAAAAAAAAAAAAAAAAAAAAAAAAAAAAAAAAAAAAAAAAAAAAAAAAAAAAAAAAAAAAAAAAAAAAAAAAAAAAAAAAAAAAAAAAAAAAAAAAAAAAAAAAAAAAAAAAAAAAAAAAAAAAAAAAAAAAAAAAAAAAAAAAAAAAAAAAAAAAAAAAAAAAAAAAAAAAAAAAAAAAAAAAAAAAAAAAAAAAAAAAAAAAAAAAAAAAAAAAAAAAAAAAAAAAAAAAAAAAAAAAAAAAAAAAAAAAAAAAAAAAAAAAAAAAAAAAAAAAAAAAAAAAAAAAAAAAAAAAAAAAAAAAAAAAAAAAAAAAAAAAAAAAAAAAAAAAAAAAAAAAAAAAAAAAAAAAAAAAAAAAAAAAAAAAAAAAAAAAAAAAAAAAAAAAAAAAAAAAAAAAAAAAAAAAAAAAAAAAAAAAAAAAAAAAAAAAAAAAAAAAAAAAAAAAAAAAAAAAAAAAAAAAAAAAAAAAAAAAAAAAAAAAAAAAAAAAAAAAAAAAAAAAAAAAAAAAAAAAAAAAAAAAAAAAAAAAAAAAAAAAAAAAAAAAAAAAAAAAAAAAAAAAAAAAAAAAAAAAAAAAAAAAAAAAAAAAAAAAAAAAAAAAAAAAAAAAAAAAAAAAAAAAAAAAAAAAAAAAAAAAAAAAAAAAAAAAAAAAAAAAAAAAAAAAAAAAAAAAAAAAAAAAAAAAAAAAAAAAAAAAAAAAAAAAAAAAAAAAAAAAAAAAAAAAAAAAAAAAAAAAAAAAAAAAAAAAAAAAAAAAAAAAAAAAAAAAAAAAAAAAAAAAAAAAAAAAAAAAAAAAAAAAAAAAAAAAAAAAAAAAAAAAAAAAAAAAAAAAAAAAAAAAAAAAAAAAAAAAAAAAAAAAAAAAAAAAAAAAAAAAAAAAAAAAAAAAAAAAAAAAAAAAAAAAAAAAAAAAAAAAAAAAAAAAAAAAAAAAAAAAAAAAAAAAAAAAAAAAAAAAAAAAAAAAAAAAAAAAAAAAAAAAAAAAAAAAAAAAAAAAAAAAAAB5zLv8ZhAhIAAAAAAAAAAAAAAAAAAAAAAAAAAAAAAAAAAAAAAAAAAAAAAAAAAAAAAAAAAAAAAAAAAAAAAAAAAAAAAAAAAAAAAAAAAAAAAAAAAAAAAAAAAAAAAAAAAAAAAAAAAAAAAAAAAAAAAAAAAAAAAAAAAAAAAAAAAAAAAAAAAAAAAAAAAAAAAAAAAAAAAAAAAAAAAAAAAAAAAAAAAAAAAAAAAAAAAAAAAAAAAAAAAAAAAAAAAAAAAAAAAAAAAAAAAAAAAAAAAAAAAAAAAAAAAAAAAAAAAAAAAAAAAAAAAAAAAAAAAAAAAAAAAAAAAAAAAAAAAAAAAAAAAAAAAAAAAAAAAAAAAAAAAAAAAAAAAAAAAAAAAAAAAAAAAAAAAAAAAAAAAAAAAAAAAAAAAAAAAAAAAAAAAAAAAAAAAAAAAAAAAAAAAAAAAAAAAAAAAAAAAAAAAAAAAAAAAAAAAAAAAAAAAAAAAAAAAAAAAAAAAAAAAAAAAAAAAAAAAAAAAAAAAAAAAAAAAAAAAAAAAAAAAAAAAAAAAAAAAAAAAAAAAAAAAAAAAAAAAAAAAAAAAAAAAAAAAAAAAAAAAAAAAAAAAAAAAAAAAAAAAAAAAAAAAAAAAAAAAAAAAAAAAAAAAAAAAAAAAAAAAAAAAAAAAAAAAAAAAAAAAAAAAAAAAAAAAAAAAAAAAAAAAAAAAAAAAAAAAAAAAAAAAAAAAAAAAAAAAAAAAAAAAAAAAAAAAAAAAAAAAAAAAAAAAAAAAAAAAAAAAAAAAAAAAAAAAAAAAAAAAAAAAAAAAAAAAAAAAAAAAAAAAAAAAAAAAAAAAAAAAAAAAAAAAAAAAAAAAAAAAAAAAAAAAAAAAAAAAAAAAAAAAAAAAAAAAAAAAAAAAAAAAAAAAAAAAAAAAAAAAAAAAAAAAAAAAAAAAAAAAAAAAAAAAAAAAAAAAAAAAAAAAAAAAAAAAAAAAAAAAAAAAAAAAAAAAAAAAAAAAAAAAAAAAAAAAAAAAAAAAAAAAAAAAAAAAAAAAAAAAAAAAAAAAAAAAAAAAAAAAAAAAAAAAAAAAAAAAAAAAAAAAAAAAAAAAAAAAAAAAAAAAAAAAAAAAAAAAAAAAAAAAAAAAAAAAAAAAAAAAAAAAAAAAAAAAAAAAAAAAAAAAAAAAAAAAAAAAAAAAAAAAAAAAAAAAAAAAAAAAAAAAAAAAAAAAAAAAAAAAAAAAAAAAAAAAAAAAAAAAAAAAAAAAAAAAAAAAAAAAAAAAAAAAAAAAAAAAAAAAAAAAAAAAAAAAAAAAAAAAAAAAAAAAAAAAAAAAAAAAAAAAAAAAAAAAAAAAAAAAAAAAAAAAAAAAAAAAAAAAAAAAAAAAAAAAAAAAAAAAAAAAAAAAAAAAAAAAAAAAAAAAAAAAAAAAAAAAAAAAAAAAAAAAAAAAAAAAAAAAAAAAAAAAAAAAAAAAAAAAAAAAAAAAAAAAAAAAAAAAAAAAAAAAAAAAAAAAAAAAAAAAAAAAAAAAAAAAAAAAAAAAAAAAAAAAAAAAAAAAAAAAAAAAAAAAAAAAAAAAAAAAAAAAAAAAAAAAAAAAAAAAAAAAAAAAAAAAAAAAAAAAAAAAAAAAAAAAAAAAAAAAAAAAAAAAAAAAAAAAAAAAAAAAAAAAAAAAAAAAAAAAAAAAAAAAAAAAAAAAAAAAAAAAAAAAAAAAAAAAAAAAAAAAAAAAAAAAAAAAAAAAAAAAAAAAAAAAAAAAAAAAAAAAAAAAAAAAAAAAAAAAAAAAAAAAAAAAAAAAAAAAAAAAAAAAAAAAAAAAAAAAAAAAAAAAAAAAAAAAAAAAAAAAAAAAAAAAAAAAAAAAAAAAAAAAAAAAAAAAAAAAAAAAAAAAAAAAAAAAAAAAAAAAAAAAAAAAAAAAAAAAAAAAAAAAAAAAAAAAAAAAAAAAAAAAAAAAAAAAAAAAAAAAAAAAAAAAAAAAAAAAAAAAAAAAAAAAAAAAAAAAAAAAAAAAAAAAAAAAAAAAAAAAAAAAAAAAAAAAAAAAAAAAAAAAAAAAAAAAAAAAAAAAAAAAAAAAAAAAAAAAAAAAAAAAAAAAAAAAAAAAAAAAAAAAAAAAAAAAAAAAAAAAAAAAAAAAAAAAAAAAAAAAAAAAAAAAAAAAAAAAAAAAAAAAAAAAAAAAAAAAAAAAAAAAAAAAAAAAAAAAAAAAAAAAAAAAAAAAAAAAAAAAAAAAAAAAAAAAAAAAAAAAAAAAAAAAAAAAAAAAAAAAAAAAAAAAAAAAAAAAAAAAAAAAAAAAAAAAAAAAAAAAAAAAAAAAAAAAAAAAAAAAAAAAAAAAAAAAAAAAAAAAAAAAAAAAAAAAAAAAAAAAAAAAAAAAAAAAAAAAAAAAAAAAAAAAAAAAAAAAAAAAAAAAAAAAAAAAAAAAAAAAAAAAAAAAAAAAAAAAAAAAAAAAAAAAAAAAAAAAAAAAAAAAAAAAAAAAAAAAAAAAAAAAAAAAAAAAAAAAAAAAAAAAAAAAAAAAAAAAAAAAAAAAAAAAAAAAAAAAAAAAAAAAAAAAAAAAAAAAAAAAAAAAAAAAAAAAAAAAAAAAAAAAAAAAAAAAAAAAAAAAAAAAAAAAAAAAAAAAAAAAAAAAAAAAAAAAAAAAAAAAAAAAAAAAAAAAAAAAAAAAAAAAAAAAAAAAAAAAAAAAAAAAAAAAAAAAAAAAAAAAAAAAAAAAAAAAAAAAAAAAAAAAAAAAAAAAAAAAAAAAAAAAAAAAAAAAAAAAAAAAAAAAAAAAAAAAAAAAAAAAAAAAAAAAAAAAAAAAAAAAAAAAAAAAAAAAAAAAAAAAAAAAAAAAAAAAAAAAAAAAAAAAAAAAAAAAAAAAAAAAAAAAAAAAAAAAAAAAAAAAAAAAAAAAAAAAAAAAAAAAAAAAAAAAAAAAAAAAAAAAAAAAAAAAAAAAAAAAAAAAAAAAAAAAAAAAAAAAAAAAAAAAAAAAAAAAAAAAAAAAAAAAAAAAAAAAAAAAAAAAAAAAAAAAAAAAAAAAAAAAAAAAAAAAAAAAAAAAAAh1U0Npy8C0gAAAAAAAAAAAAAAAAAAAAAAAAAAAAAAAAAAAAAAAAAAAAAAAAAAAAAAAAAAAAAAAAAAAAAAAAAAAAAAAAAAAAAAAAAAAAAAAAAAAAAAAAAAAAAAAAAAAAAAAAAAAAAAAAAAAAAAAAAAAAAAAAAAAAAAAAAAAAAAAAAAAAAAAAAAAAAAAAAAAAAAAAAAAAAAAAAAAAAAAAAAAAAAAAAAAAAAAAAAAAAAAAAAAAAAAAAAAAAAAAAAAAAAAAAAAAAAAAAAAAAAAAAAAAAAAAAAAAAAAAAAAAAAAAAAAAAAAAAAAAAAAAAAAAAAAAAAAAAAAAAAAAAAAAAAAAAAAAAAAAAAAAAAAAAAAAAAAAAAAAAAAAAAAAAAAAAAAAAAAAAAAAAAAAAAAAAAAAAAAAAAAAAAAAAAAAAAAAAAAAAAAAAAAAAAAAAAAAAAAAAAAAAAAAAAAAAAAAAAAAAAAAAAAAAAAAAAAAAAAAAAAAAAAAAAAAAAAAAAAAAAAAAAAAAAAAAAAAAAAAAAAAAAAAAAAAAAAAAAAAAAAAAAAAAAAAAAAAAAAAAAAAAAAAAAAAAAAAAAAAAAAAAAAAAAAAAAAAAAAAAAAAAAAAAAAAAAAAAAAAAAAAAAAAAAAAAAAAAAAAAAAAAAAAAAAAAAAAAAAAAAAAAAAAAAAAAAAAAAAAAAAAAAAAAAAAAAAAAAAAAAAAAAAAAAAAAAAAAAAAAAAAAAAAAAAAAAAAAAAAAAAAAAAAAAAAAAAAAAAAAAAAAAAAAAAAAAAAAAAAAAAAAAAAAAAAAAAAAAAAAAAAAAAAAAAAAAAAAAAAAAAAAAAAAAAAAAAAAAAAAAAAAAAAAAAAAAAAAAAAAAAAAAAAAAAAAAAAAAAAAAAAAAAAAAAAAAAAAAAAAAAAAAAAAAAAAAAAAAAAAAAAAAAAAAAAAAAAAAAAAAAAAAAAAAAAAAAAAAAAAAAAAAAAAAAAAAAAAAAAAAAAAAAAAAAAAAAAAAAAAAAAAAAAAAAAAAAAAAAAAAAAAAAAAAAAAAAAAAAAAAAAAAAAAAAAAAAAAAAAAAAAAAAAAAAAAAAAAAAAAAAAAAAAAAAAAAAAAAAAAAAAAAAAAAAAAAAAAAAAAAAAAAAAAAAAAAAAAAAAAAAAAAAAAAAAAAAAAAAAAAAAAAAAAAAAAAAAAAAAAAAAAAAAAAAAAAAAAAAAAAAAAAAAAAAAAAAAAAAAAAAAAAAAAAAAAAAAAAAAAAAAAAAAAAAAAAAAAAAAAAAAAAAAAAAAAAAAAAAAAAAAAAAAAAAAAAAAAAAAAAAAAAAAAAAAAAAAAAAAAAAAAAAAAAAAAAAAAAAAAAAAAAAAAAAAAAAAAAAAAAAAAAAAAAAAAAAAAAAAAAAAAAAAAAAAAAAAAAAAAAAAAAAAAAAAAAAAAAAAAAAAAAAAAAAAAAAAAAAAAAAAAAAAAAAAAAAAAAAAAAAAAAAAAAAAAAAAAAAAAAAAAAAAAAAAAAAAAAAAAAAAAAAAAAAAAAAAAAAAAAAAAAAAAAAAAAAAAAAAAAAAAAAAAAAAAAAAAAAAAAAAAAAAAAAAAAAAAAAAAAAAAAAAAAAAAAAAAAAAAAAAAAAAAAAAAAAAAAAAAAAAAAAAAAAAAAAAAAAAAAAAAAAAAAAAAAAAAAAAAAAAAAAAAAAAAAAAAAAAAAAAAAAAAAAAAAAAAAAAAAAAAAAAAAAAAAAAAAAAAAAAAAAAAAAAAAAAAAAAAAAAAAAAAAAAAAAAAAAAAAAAAAAAAAAAAAAAAAAAAAAAAAAAAAAAAAAAAAAAAAAAAAAAAAAAAAAAAAAAAAAAAAAAAAAAAAAAAAAAAAAAAAAAAAAAAAAAAAAAAAAAAAAAAAAAAAAAAAAAAAAAAAAAAAAAAAAAAAAAAAAAAAAAAAAAAAAAAAAAAAAAAAAAAAAAAAAAAAAAAAAAAAAAAAAAAAAAAAAAAAAAAAAAAAAAAAAAAAAAAAAAAAAAAAAAAAAAAAAAAAAAAAAAAAAAAAAAAAAAAAAAAAAAAAAAAAAAAAAAAAAAAAAAAAAAAAAAAAAAAAAAAAAAAAAAAAAAAAAAAAAAAAAAAAAAAAAAAAAAAAAAAAAAAAAAAAAAAAAAAAAAAAAAAAAAAAAAAAAAAAAAAAAAAAAAAAAAAAAAAAAAAAAAAAAAAAAAAAAAAAAAAAAAAAAAAAAAAAAAAAAAAAAAAAAAAAAAAAAAAAAAAAAAAAAAAAAAAAAAAAAAAAAAAAAAAAAAAAAAAAAAAAAAAAAAAAAAAAAAAAAAAAAAAAAAAAAAAAAAAAAAAAAAAAAAAAAAAAAAAAAAAAAAAAAAAAAAAAAAAAAAAAAAAAAAAAAAAAAAAAAAAAAAAAAAAAAAAAAAAAAAAAAAAAAAAAAAAAAAAAAAAAAAAAAAAAAAAAAAAAAAAAAAAAAAAAAAAAAAAAAAAAAAAAAAAAAAAAAAAAAAAAAAAAAAAAAAAAAAAAAAAAAAAAAAAAAAAAAAAAAAAAAAAAAAAAAAAAAAAAAAAAAAAAAAAAAAAAAAAAAAAAAAAAAAAAAAAAAAAAAAAAAAAAAAAAAAAAAAAAAAAAAAAAAAAAAAAAAAAAAAAAAAAAAAAAAAAAAAAAAAAAAAAAAAAAAAAAAAAAAAAAAAAAAAAAAAAAAAAAAAAAAAAAAAAAAAAAAAAAAAAAAAAAAAAAAAAAAAAAAAAAAAAAAAAAAAAAAAAAAAAAAAAAAAAAAAAAAAAAAAAAAAAAAAAAAAAAAAAAAAAAAAAAAAAAAAAAAAAAAAAAAAAAAAAAAAAAAAAAAAAAAAAAAAAAAAAAAAAAAAAAAAAAAAAAAAAAAAAAAAAAAAAAAAAAAAAAAAAAAAAAAAAAAAAAAAAAAAAAAAAAAAAAAAAAAAAAAAAAAAAAAAAAAAAAAAAAAAAAAAAAAAAAAAAAAAAAAAAAAAAAAAAAAAAAAAAAAAAAAAAAAAAAAAAAAAAAAAAAAAAAAAAAAAAAAAAAAAAAAAAAAAAAAAAAAAAAAAAAAAAAAAAAAAAAAAAAAAAAAAAAAAAAAAAAAAAAAAAAAAAAAAAAAAAAAAAAAAAAAAAAAAAAAAAAAAAAAAAAAAAAAAAAAAAAAAAAAAAAAAAAAAAAAAAAAAAAAAAAAAAAAAAAAAAAAAAAAAAAAAAAAAAAAAAAAAAAAAAAAAAAAAAAAAAAAAAAAAAAAAAAAAAAAAAAAAAAAAAAAAAAAAAAAAAAAAAAAAAAAAAAAAAAAAAAAAAAAAAAAAAAAAAAAAAAAAAAAAAAAAAAAAAAAAAAAAAAAAAAAAAAAAAAAAAAAAAAAAAAAAAAAAAAAAAAAAAAAAAAAAAAAAAAAAAAAAAAAAAAAAAAAAAAAAAAAAAAAAAAAAAAAAAAAAAAAAAAAAAAAAAAAAAAAAAAAAAAAAAAAAAAAAAAAAAAAAAAAAAAAAAAAAAAAAAAAAAAAAAAAAAAAAAAAAAAAAAAAAAAAAAAAAAAAAAAAAAAAAAAAAAAAAAAAAAAAAAAAAAAAAAAAAAAAAAAAAAAAAAAAAAAAAAAAAAAAAAAAAAAAAAAAAAAAAAAAAAAAAAAAAAAAAAAAAAAAAAAAAAAAAAAAAAAAAAAAAAAAAAAAAAAAAAAAAAAAAAAAAAAAAAAAAAAAAAAAAAAAAAAAAAAAAAAAAAAAAAAAAAAAAAAAAAAAAAAAAAAAAAAAAAAAAAAAAAAAAAAAAAAAAAAAAAAAAAAAAAAAAAAAAAAAAAAAAAAAAAAAAAAAAAAAAAAAAAAAAAAAAAAAAAAAAAAAAAAAAAAAAAAAAAAAAAAAAAAAAAAAAAAAAAAAAAAAAAAAAAAAAAAAAAAAAAAAAAAAAAAAAAAAAAAAAAAAAAAAAAAAAAAAAAAAAAAAAAAAAAAAAAAAAAAAAAAAAAAAAAAAAAAAAAAAAAAAAAAAAAAAAAAAAAAAAAAAAAAAAAAAAAAAAAAAAAAAAAAAAAAAAAAAAAAAAAAAAAAAAAAAAAAAAAAAAAAAAAAAAAAAAAAAAAAAAAAAAAAAAAAAAAAAAAAAAAAAAAAAAAAAAAAAAAAAAAAAAAAAAAAAAAAAAAAAAAAAAAAAAAAAAAAAAAAAAAAAAAAAAAAAAAAAAAAAAAAAAAAAAAAAAAAAAAAAAAAAAAAAAAAAAAAAAAAAAAAAAAAAAAAAAAAAAAAAAAAAAAAAAAAAAAAAAAAAAAAAAAAAAAAAAAAAAAAAAAAAAAAAAAAAAAAAAAAAAAAAAAAAAAAAAAAAAAAAAAAAAAAAAAAAAAAAAAAAAAAAAAAAAAAAAAAAAAAAAAAAAAAAAAAAAAAAAAAAAAAAAAAAAAAAAAAAAAAAAAAAAAAAAAAAAAAAAAAAAAAAAAAAAAAAAAAAAAAAAAAAAAAAAAAAAAAAAAAAAAAAAAAAAAAAAAAAAAAAAAAAAAAAAAAAAAAAAAAAAAAAAAAAAAAAAAAAAAAAAAAAAAAAAAAAAAAAAAAAAAAAAAAAAAAAAAAAAAAAAAAAAAAAAAAAAAAAAAAAAAAAAAAAAAAAAAAAAAAAAAAAAAAAAAAAAAAAAAAAAAAAAAAAAAAAAAAAAAAAAAAAAAAAAAAAAAAAAAAAAAAAAAAAAAAAAAAAAAAAAAAAAAAAAAAAAAAAAAAAAAAAAAAAAAAAAAAAAAAAAAAAAAAAAAAAAAAAAAAAAAAAAAAAAAAAAAAAAAAAAAAAAAAAAAAAAAAAAAAAAAAAAAAAAAAAAAAAAAAAAAAAAAAAAAAAAAAAAAAAAAAAAAAAAAAAAAAAAAAAAAAAAAAAAAAAAAAAAAAAAAAAAAAAAAAAAAAAAAAAAAAAAAAAAAAAAAAAAAAAAAAAAAAAAAAAAAAAAAAAAAAAAAAAAAAAAAAAAAAAAAAAAAAAAAAAAAAAAAAAAAAAAAAAAAAAAAAAAAAAAAAAAAAAAAAAAAAAAAAAAAAAAAAAAAAAAAAAAAAAAAAAAAAAAAAAAAAAAAAAAAAAAAAAAAAAAAAAAAAAAAAAAAAAAAAAAAAAAAAAAAAAAAAAAAAAAAAAAAAAAAAAAAAAAAAAAAAAAAAAAAAAAAAAAAAAAAAAAAAAAAAAAAAAAAAAAAAAAAAAAAAAAAAAAAAAAAAAAAAAAAAAAAAAAAAAAAAAAAAAAAAAAAAAAAAAAAAAAAAAAAAAAAAAAAAAAAAAAAAAAAAAAAAAAAAAAAAAAAAAAAAAAAAAAAAAAAAAAAAAAAAAAAAAAAAAAAAAAAAAAAAAAAAAAAAAAAAAAAAAAAAAAAAAAAAAAAAAAAAAAAAAAAAAAAAAAAAAAAAAAAAAAAAAAAAAAAAAAAAAAAAAAAAAAAAAAAAAAAAAAAAAAAAAAAAAAAAAAAAAAAAAAAAAAAAAAAAAAAAAAAAAAAAAAAAAAAAAAAAAAAAAAAAAAAAAAAAAAAAAAAAAAAAAAAAAAAAAAAAAAAAAAAAAAAAAAAAAAAAAAAAAAAAAAAAAAAAAAAAAAAAAAAAAAAAAAAAAAAAAAAAAAAAAAAAAAAAAAAAAAAAAAAAAAAAAAAAAAAAAAAAAAAAAAAAAAAAAAAAAAAAAAAAAAAAAAAAAAAAAAAAAAAAAAAAAAAAAAAAAAAAAAAAAAAAAAAAAAAAAAAAAAAAAAAAAAAAAAAAAAAAAAAAAAAAAAAAAAAAAAAAAAAAAAAAAAAAAAAAAAAAAAAAAAAAAAAAAAAAAAAAAAAAAAAAAAAAAAAAAAAAAAAAAAAAAAAAAAAAAAAAAAAAAAAAAAAAAAAAAAAAAAAAAAAAAAAAAAAAAAAAAAAAAAAAAAAAAAAAAAAAAAAAAAAAAAAAAAAAAAAAAAAAAAAAAAAAAAA60Wf35iUEEgAAAAAAAAAAAAAAAAAAAAAAAAAAAAAAAAAAAAAAAAAAAAAAAAAAAAAAAAAAAAAAAAAAAAAAAAAAAAAAAAAAAAAAAAAAAAAAAAAAAAAAAAAAAAAAAAAAAAAAAAAAAAAAAAAAAAAAAAAAAAAAAAAAAAAAAAAAAAAAAAAAAAAAAAAAAAAAAAAAAAAAAAAAAAAAAAAAAAAAAAAAAAAAAAAAAAAAAAAAAAAAAAAAAAAAAAAAAAAAAAAAAAAAAAAAAAAAAAAAAAAAAAAAAAAAAAAAAAAAAAAAAAAAAAAAAAAAAAAAAAAAAAAAAAAAAAAAAAAAAAAAAAAAAAAAAAAAAAAAAAAAAAAAAAAAAAAAAAAAAAAAAAAAAAAAAAAAAAAAAAAAAAAAAAAAAAAAAAAAAAAAAAAAAAAAAAAAAAAAAAAAAAAAAAAAAAAAAAAAAAAAAAAAAAAAAAAAAAAAAAAAAAAAAAAAAAAAAAAAAAAAAAAAAAAAAAAAAAAAAAAAAAAAAAAAAAAAAAAAAAAAAAAAAAAAAAAAAAAAAAAAAAAAAAAAAAAAAAAAAAAAAAAAAAAAAAAAAAAAAAAAAAAAAAAAAAAAAAAAAAAAAAAAAAAAAAAAAAAAAAAAAAAAAAAAAAAAAAAAAAAAAAAAAAAAAAAAAAAAAAAAAAAAAAAAAAAAAAAAAAAAAAAAAAAAAAAAAAAAAAAAAAAAAAAAAAAAAAAAAAAAAAAAAAAAAAAAAAAAAAAAAAAAAAAAAAAAAAAAAAAAAAAAAAAAAAAAAAAAAAAAAAAAAAAAAAAAAAAAAAAAAAAAAAAAAAAAAAAAAAAAAAAAAAAAAAAAAAAAAAAAAAAAAAAAAAAAAAAAAAAAAAAAAAAAAAAAAAAAAAAAAAAAAAAAAAAAAAAAAAAAAAAAAAAAAAAAAAAAAAAAAAAAAAAAAAAAAAAAAAAAAAAAAAAAAAAAAAAAAAAAAAAAAAAAAAAAAAAAAAAAAAAAAAAAAAAAAAAAAAAAAAAAAAAAAAAAAAAAAAAAAAAAAAAAAAAAAAAAAAAAAAAAAAAAAAAAAAAAAAAAAAAAAAAAAAAAAAAAAAAAAAAAAAAAAAAAAAAAAAAAAAAAAAAAAAAAAAAAAAAAAAAAAAAAAAAAAAAAAAAAAAAAAAAAAAAAAAAAAAAAAAAAAAAAAAAAAAAAAAAAAAAAAAAAAAAAAAAAAAAAAAAAAAAAAAAAAAAAAAAAAAAAAAAAAAAAAAAAAAAAAAAAAAAAAAAAAAAAAAAAAAAAAAAAAAAAAAAAAAAAAAAAAAAAAAAAAAAAAAAAAAAAAAAAAAAAAAAAAAAAAAAAAAAAAAAAAAAAAAAAAAAAAAAAAAAAAAAAAAAAAAAAAAAAAAAAAAAAAAAAAAAAAAAAAAAAAAAAAAAAAAAAAAAAAAAAAAAAAAAAAAAAAAAAAAAAAAAAAAAAAAAAAAAAAAAAAAAAAAAAAAAAAAAAAAAAAAAAAAAAAAAAAAAAAAAAAAAAAAAAAAAAAAAAAAAAAAAAAAAAAAAAAAAAAAAAAAAAAAAAAAAAAAAAAAAAAAAAAAAAAAAAAAAAAAAAAAAAAAAAAAAAAAAAAAAAAAAAAAAAAAAAAAAAAAAAAAAAAAAAAAAAAAAAAAAAAAAAAAAAAAAAAAAAAAAAAAAAAAAAAAAAAAAAAAAAAAAAAAAAAAAAAAAAAAAAAAAAAAAAAAAAAAAAAAAAAAAAAAAAAAAAAAAAAAAAAAAAAAAAAAAAAAAAAAAAAAAAAAAAAAAAAAAAAAAAAAAAAAAAAAAAAAAAAAAAAAAAAAAAAAAAAAAAAAAAAAAAAAAAAAAAAAAAAAAAAAAAAAAAAAAAAAAAAAAAAAAAAAAAAAAAAAAAAAAAAAAAAAAAAAAAAAAAAAAAAAAAAAAAAAAAAAAAAAAAAAAAAAAAAAAAAAAAAAAAAAAAAAAAAAAAAAAAAAAAAAAAAAAAAAAAAAAAAAAAAAAAAAAAAAAAAAAAAAAAAAAAAAAAAAAAAAAAAAAAAAAAAAAAAAAAAAAAAAAAAAAAAAAAAAAAAAAAAAAAAAAAAAAAAAAAAAAAAAAAAAAAAAAAAAAAAAAAAAAAAAAAAAAAAAAAAAAAAAAAAAAAAAAAAAAAAAAAAAAAAAAAAAAAAAAAAAAAAAAAAAAAAAAAAAAAAAAAAAAAAAAAAAAAAAAAAAAAAAAAAAAAAAAAAAAAAAAAAAAAAAAAAAAAAAAAAAAAAAAAAAAAAAAAAAAAAAAAAAAAAAAAAAAAAAAAAAAAAAAAAAAAAAAAAAAAAAAAAAAAAAAAAAAAAAAAAAAAAAAAAAAAAAAAAAAAAAAAAAAAAAAAAAAAAAAAAAAAAAAAAAAAAAAAAAAAAAAAAAAAAAAAAAAAAAAAAAAAAAAAAAAAAAAAAAAAAAAAAAAAAAAAAAAAAAAAAAAAAAAAAAAAAAAAAAAAAAAAAAAAAAAAAAAAAAAAAAAAAAAAAAAAAAAAAAAAAAAAAAAAAAAAAAAAAAAAAAAAAAAAAAAAAAAAAAAAAAAAAAAAAAAAAAAAAAAAAAAAAAAAAAAAAAAAAAAAAAAAAAAAAAAAAAAAAAAAAAAAAAAAAAAAAAAAAAAAAAAAAAAAAAAAAAAAAAAAAAAAAAAAAAAAAAAAAAAAAAAAAAAAAAAAAAAAAAAAAAAAAAAAAAAAAAAAAAAAAAAAAAAAAAAAAAAAAAAAAAAAAAAAAAAAAAAAAAAAAAAAAAAAAAAAAAAAAAAAAAAAAAAAAAAAAAAAAAAAAAAAAAAAAAAAAAAAAAAAAAAAAAAAAAAAAAAAAAAAAAAAAAAAAAAAAAAAAAAAAAAAAAAAAAAAAAAAAAAAAAAAAAAAAAAAAAAAAAAAAAAAAAAAAAAAAAAAAAAAAAAAAAAAAAAAAAAAAAAAAAAAAAAAAAAAAAAAAAAAAAAAAAAAAAAAAAAAAAAAAAAAAAAAAAAAAAAAAAAAAAAAAAAAAAAAAAAAAAAAAAAAAAAAAAAAAAAAAAAAAAAAAAAAAAAAAAAAAAAAAAAAAAAAAAAAAAAAAAAAAAAAAAAAAAAAAAAAAAAAAAAAAAAAAAAAAAAAAAAAAAAAAAAAAAAAAAAAAAAAAAAAAAAAAAAAAAAAAAAAAAAAAAAAAAAAAAAAAAAAAAAAAAAAAAAAAAAAAAAAAAAAAAAAAAAAAAAAAAAAAAAAAAAAAAAAAAAAAAAAAAAAAAAAAAAAAAAAAAAAAAAAAAAAAAAAAAAAAAAAAAAAAAAAAAAAAAAAAAAAAAAAAAAAAAAAAAAAAAAAAAAAAAAAAAAAAAAAAAAAAAAAAAAAAAAAAAAAAAAAAAAAAAAAAAAAAAAAAAAAAAAAAAAAAAAAAAAAAAAAAAAAAAAAAAAAAAAAAAAAAAAAAAAAAAAAAAAAAAAAAAAAAAAAAAAAAAAAAAAAAAAAAAAAAAAAAAAAAAAAAAAAAAAAAAAAAAAAAAAAAAAAAAAAAAAAAAAAAAAAAAAAAAAAAAAAAAAAAAAAAAAAAAAAAAAAAAAAAAAAAAAAAAAAAAAAAAAAAAAAAAAAAAAAAAAAAAAAAAAAAAAAAAAAAAAAAAAAAAAAAAAAAAAAAAAAAAAAAAAAAAAAAAAAAAAAAAAAAAAAAAAAAAAAAAAAAAAAAAAAAAAAAAAAAAAAAAAAAAAAAAAAAAAAAAAAAAAAAAAAAAAAAAAAAAAAAAAAAAAAAAAAAAAAAAAAAAAAAAAAAAAAAAAAAAAAAAAAAAAAAAAAAAAAAAAAAAAAAAAAAAAAAAAAAAAAAAAAAAAAAAAAAAAAAAAAAAAAAAAAAAAAAAAAAAAAAAAAAAAAAAAAAAAAAAAAAAAAAAAAAAAAAAAAAAAAAAAAAAAAAAAAAAAAAAAAAAAAAAAAAAAAAAAAAAAAAAAAAAAAAAAAAAAAAAAAAAAAAAAAAAAAAAAAAAAAAAAAAAAAAAAAAAAAAAAAAAAAAAAAAAAAAAAAAAAAAAAAAAAAAAAAAAAAAAAAAAAAAAAAAAAAAAAAAAAAAAAAAAAAAAAAAAAAAAAAAAAAAAAAAAAAAAAAAAAAAAAAAAAAAAAAAAAAAAAAAAAAAAAAAAAAAAAAAAAAAAAAAAAAAAAAAAAAAAAAAAAAAAAAAAAAAAAAAAAAAAAAAAAAAAAAAAAAAAAAAAAAAAAAAAAAAAAAAAAAAAAAAAAAAAAAAAAAAAAAAAAAAAAAAAAAAAAAAAAAAAAAAAAAAAAAAAAAAAAAAAAAAAAAAAAAAAAAAAAAAAAAAAAAAAAAAAAAAAAAAAAAAAAAAAAAAAAAAAAAAAAAAAAAAAAAAAAAAAAAAAAAAAAAAAAAAAAAAAAAAAAAAAAAAAAAAAAAAAAAAAAAAAAAAAAAAAAAAAAAAAAAAAAAAAAAAAAAAAAAAAAAAAAAAAAAAAAAAAAAAAAAAAAAAAAAAAAAAAAAAAAAAAAAAAAAAAAAAAAAAAAAAAAAAAAAAAAAAAAAAAAAAAAAAAAAAAAAAAAAAAAAAAAAAAAAAAAAAAAAAAAAAAAAAAAAAAAAAAAAAAAAAAAAAAAAAAAAAAAAAAAAAAAAAAAAAAAAAAAAAAAAAAAAAAAAAAAAAAAAAAAAAAAAAAAAAAAAAAAAAAAAAAAAAAAAAAAAAAAAAAAAAAAAAAAAAAAAAAAAAAAAAAAAAAAAAAAAAAAAAAAAAAAAAAAAAAAAAAAAAAAAAAAAAAAAAAAAAAAAAAAAAAAAAAAAAAAAAAAAAAAAAAAAAAAAAAAAAAAAAAAAAAAAAAAAAAAAAAAAAAAAAAAAAAAAAAAAAAAAAAAAAAAAAAAAAAAAAAAAAAAAAAAAAAAAAAAAAAAAAAAAAAAAAAAAAAAAAAAAAAAAAAAAAAAAAAAAAAAAAAAAAAAAAAAAAAAAAAAAAAAAAAAAAAAAAAAAAAAAAAAAAAAAAAAAAAAAAAAAAAAAAAAAAAAAAAAAAAAAAAAAAAAAAAAAAAAAAAAAAAAAAAAAAAAAAAAAAAAAAAAAAAAAAAAAAAAAAAAAAAAAAAAAAAAAAAAAAAAAAAAAAAAAAAAAAAAAAAAAAAAAAAAAAAAAAAAAAAAAAAAAAAAAAAAAAAAAAAAAAAAAAAAAAAAAAAAAAAAAAAAAAAAAAAAAAAAAAAAAAAAAAAAAAAAAAAAAAAAAAAAAAAAAAAAAAAAAAAAAAAAAAAAAAAAAAAAAAAAAAAAAAAAAAAAAAAAAAAAAAAAAAAAAAAAAAAAAAAAAAAAAAAAAAAAAAAAAAAAAAAAAAAAAAAAAAAAAAAAAAAAAAAAAAAAAAAAAAAAAAAAAAAAAAAAAAAAAAAAAAAAAAAAAAAAAAAAAAAAAAAAAAAAAAAAAAAAAAAAAAAAAAAAAAAAAAAAAAAAAAAAAAAAAAAAAAAAAAAAAAAAAAAAAAAAAAAAAAAAAAAAAAAAAAAAAAAAAAAAAAAAAAAAAAAAAAAAAAAAAAAAAAAAAAAAAAAAAAAAAAAAAAAAAAAAAAAAAAAAAAAAAAAAAAAAAAAAAAAAAAAAAAAAAAAAAAAAAAAAAAAAAAAAAAAAAAAAAAAAAAAAAAAAAAAAAAAAAAAAAAAAAAAAAAAAAAAAAAAAAAAAAAAAAAAAAAAAAAAAAAAAAAAAAAAAAAAAAAAAAAAAAAAAAAAAAAAAAAAAAAAAAAAAAAAAAAAAAAAAAAAAAAAAAAAAAAAAAAAAAAAAAAAAAAAAAAAAAAAAAAAAAAAAAAAAAAAAAAAAAAAAAAAAAAAAAAAAAAAAAAAAAAAAAAAAAAAAAAAAAAAAAAAAAAAAAAAAAAAAAAAAAAAAAAAAAAAAAAAAAAAAAAAAAAAAAAAAAAAAAAAAAAAAAAAAAAAAAAAAAAAAAAAAAAAAAAAAAAAAAAAAAAAAAAAAAAAAAAAAAAAAAAAAAAAAAAAAAAAAAAAAAAAAAAAAAAAAAAAAAAAAAAAAAAAAAAAAAAAAAAAAAAAAAAAAAAAAAAAAAAAAAAAAAAAAAAAAAAAAAAAAAAAAAAAAAAAAAAAAAAAAAAAAAAAAAAAAAAAAAAAAAAAAAAAAAAAAAAAAAAAAAAAAAAAAAAAAAAAAAAAAAAAAAAAAAAAAAAAAAAAAAAAAAAAAAAAAAAAAAAAAAAAAAAAAAAAAAAAAAAAAAAAAAAAAAAAAAAAAAAAAAAAAAAAAAAAAAAAAAAAAAAAAAAAAAAAAAAAAAAAAAAAAAAAAAAAAAAAAAAAAAAAAAAAAAAAAAAAAAAAAAAAAAAAAAAAAAAAAAAAAAAAAAAAAAAAAAAAAAAAAAAAAAAAAAAAAAAAAAAAAAAAAAAAAAAAAAAAAAAAAAAAAAAAAAAAAAAAAAAAAAAAAAAAAAAAAAAAAAAAAAAAAAAAAAAAAAAAAAAAAAAAAAAAAAAAAAAAAAAAAAAAAAAAAAAAAAAAAAAAAAAAAAAAAAAAAAAAAAAAAAAAAAAAAAAAAAAAAAAAAAAAAAAAAAAAAAAAAAAAAAAAAAAAAAAAAAAAAAAAAAAAAAAAAAAAAAAAAAAAAAAAAAAAAAAAAAAAAAAAAAAAAAAAAAAAAAAAAAAAAAAAAAAAAAAAAAAAAAAAAAAAAAAAAAAAAAAAAAAAAAAAAAAAAAAAAAAAAAAAAAAAAAAAAAAAAAAAAAAAAAAAAAAAAAAAAAAAAAAAAAAAAAAAAAAAAAAAAAAAAAAAAAAAAAAAAAAAAAAAAAAAAAAAAAAAAAAAAAAAAAAAAAAAAAAAAAAAAAAAAAAAAAAAAAAAAAAAAAAAAAAAAAAAAAAAAAAAAAAAAAAAAAAAAAAAAAAAAAAAAAAAAAAAAAAAAAAAAAAAAAAAAAAAAAAAAAAAAAAAAAAAAAAAAAAAAAAAAAAAAAAAAAAAAAAAAAAAAAAAAAAAAAAAAAAAAAAAAAAAAAAAAAAAAAAAAAAAAAAAAAAAAAAAAAAAAAAAAAAAAAAAAAAAAAAAAAAAAAAAAAAAAAAAAAAAAAAAAAAAAAAAAAAAAAAAAAAAAAAAAAAAAAAAAAAAAAAAAAAAAAAAAAAAAAAAAAAAAAAAAAAAAAAAAAAAAAAAAAAAAAAAAAAAAAAAAAAAAAAAAAAAAAAAAAAAAAAAAAAAAAAAAAAAAAAAAAAAAAAAAAAAAAAAAAAAAAAAAAAAAAAAAAAAAAAAAAAAAAAAAAAAAAAAAAAAAAAAAAAAAAAAAAAAAAAAAAAAAAAAAAAAAAAAAAAAAAAAAAAAAAAAAAAAAAAAAAAAAAAAAAAAAAAAAAAAAAAAAAAAAAAAAAAAAAAAAAAAAAAAAAAAAAAAAAAAAAAAAAAAAAAAAAAAAAAAAAAAAAAAAAAAAAAAAAAAAAAAAAAAAAAAAAAAAAAAAAAAAAAAAAAAAAAAAAAAAAAAAAAAAAAAAAAAAAAAAAAAAAAAAAAAAAAAAAAAAAAAAAAAAAAAAAAAAAAAAAAAAAAAAAAAAAAAAAAAAAAAAAAAAAAAAAAAAAAAAAAAAAAAAAAAAAAAAAAAAAAAAAAAAAAAAAAAAAAAAAAAAAAAAAAAAAAAAAAAAAAAAAAAAAAAAAAAAAAAAAAAAAAAAAAAAAAAAAAAAAAAAAAAAAAAAAAAAAAAAAAAAAAAAAAAAAAAAAAAAAAAAAAAAAAAAAAAAAAAAAAAAAAAAAAAAAAAAAAAAAAAAAAAAAAAAAAAAAAAAAAAAAAAAAAAAAAAAAAAAAAAAAAAAAAAAAAAAAAAAAAAAAAAAAAAAAAAAAAAAAAAAAAAAAAAAAAAAAAAAAAAAAAAAAAAAAAAAAAAAAAAAAAAAAAAAAAAAAAAAAAAAAAAAAAAAAAAAAAAAAAAAAAAAAAAAAAAAAAAAAAAAAAAAAAAAAAAAAAAAAAAAAAAAAAAAAAAAAAAAAAAAAAAAAAAAAAAAAAAAAAAAAAAAAAAAAAAAAAAAAAAAAAAAAAAAAAAAAAAAAAAAAAAAAAAAAAAAAAAAAAAAAAAAAAAAAAAAAAAAAAAAAAAAAAAAAAAAAAAAAAAAAAAAAAAAAAAAAAAAAAAAAAAAAAAAAAAAAAAAAAAAAAAAAAAAAAAAAAAAAAAAAAAAAAAAAAAAAAAAAAAAAAAAAAAAAAAAAAAAAAAAAAAAAAAAAAAAAAAAAAAAAAAAAAAAAAAAAAAAAAAAAAAAAAAAAAAAAAAAAAAAAAAAAAAAAAAAAAAAAAAAAAAAAAAAAAAAAAAAAAAAAAAAAAAAAAAAAAAAAAAAAAAAAAAAAAAAAAAAAAAAAAAAAAAAAAAAAAAAAAAAAAAAAAAAAAAAAAAAAAAAAAAAAAAAAAAAAAAAAAAAAAAAAAAAAAAAAAAAAAAAAAAAAAAAAAAAAAAAAAAAAAAAAAAAAAAAAAAAAAAAAAAAAAAAAAAAAAAAAAAAAAAAAAAAAAAAAAAAAAAAAAAAAAAAAAAAAAAAAAAAAAAAAAAAAAAAAAAAAAAAAAAAAAAAAAAAAAAAAAAAAAAAAAAAAAAAAAAAAAAAAAAAAAAAAAAAAAAAAAAAAAAAAAAAAAAAAAAAAAAAAAAAAAAAAAAAAAAAAAAAAAAAAAAAAAAAAAAAAAAAAAAAAAAAAAAAAAAAAAAAAAAAAAAAAAAAAAAAAAAAAAAAAAAAAAAAAAAAAAAAAAAAAAAAAAAAAAAAAAAAAAAAAAAAAAAAAAAAAAAAAAAAAAAAAAAAAAAAAAAAAAAAAAAAAAAAAAAAAAAAAAAAAAAAAAAAAAAAAAAAAAAAAAAAAAAAAAAAAAAAAAAAAAAAAAAAAAAAAAAAAAAAAAAAAAAAAAAAAAAAAAAAAAAAAAAAAAAAAAAAAAAAAAAAAAAAAAAAAAAAAAAAAAAAAAAAAAAAAAAAAAAAAAAAAAAAAAAAAAAAAAAAAAAAAAAAAAAAAAAAAAAAAAAAAAAAAAAAAAAAAAAAAAAAAAAAAAAAAAAAAAAAAAAAAAAAAAAAAAAAAAAAAAAAAAAAAAAAAAAAAAAAAAAAAAAAAAAAAAAAAAAAAAAAAAAAAAAAAAAAAAAAAAAAAAAAAAAAAAAAAAAAAAAAAAAAAAAAAAAAAAAAAAAAAAAAAAAAAAAAAAAAAAAAAAAAAAAAAAAAAAAAAAAAAAAAAAAAAAAAAAAAAAAAAAAAAAAAAAAAAAAAAAAAAAAAAAAAAAAAAAAAAAAAAAAAAAAAAAAAAAAAAAAAAAAAAAAAAAAAAAAAAAAAAAAAAAAAAAAAAAAAAAAAAAAAAAAAAAAAAAAAAAAAAAAAAAAAAAAAAAAAAAAAAAAAAAAAAAAAAAAAAAAAAAAAAAAAAAAAAAAAAAAAAAAAAAAAAAAAAAAAAAAAAAAAAAAAAAAAAAAAAAAAAAAAAAAAAAAAAAAAAAAAAAAAAAAAAAAAAAAAAAAAAAAAAAAAAAAAAAAAAAAAAAAAAAAAAAAAAAAAAAAAAAAAAAAAAAAAAAAAAAAAAAAAAAAAAAAAAAAAAAAAAAAAAAAAAAAAAAAAAAAAAAAAAAAAAAAAAAAAAAAAAAAAAAAAAAAAAAAAAAAAAAAAAAAAAAAAAAAAAAAAAAAAAAAAAAAAAAAAAAAAAAAAAAAAAAAAAAAAAAAAAAAAAAAAAAAAAAAAAAAAAAAAAAAAAAAAAAAAAAAAAAAAAAAAAAAAAAAAAAAAAAAAAAAAAAAAAAAAAAAAAAAAAAAAAAAAAAAAAAAAAAAAAAAAAAAAAAAAAAAAAAAAAAAAAAAAAAAAAAAAAAAAAAAAAAAAAAAAAAAAAAAAAAAAAAAAAAAAAAAAAAAAAAAAAAAAAAAAAAAAAAAAAAAAAAAAAAAAAAAAAAAAAAAAAAAAAAAAAAAAAAAAAAAAAAAAAAAAAAAAAAAAAAAAAAAAAAAAAAAAAAAAAAAAAAAAAAAAAAAAAAAAAAAAAAAAAAAAAAAAAAAAAAAAAAAAAAAAAAAAAAAAAAAAAAAAAAAAAAAAAAAAAAAAAAAAAAAAAAAAAAAAAAAAAAAAAAAAAAAAAAAAAAAAAAAAAAAAAAAAAAAAAAAAAAAAAAAAAAAAAAAAAAAAAAAAAAAAAAAAAAAAAAAAAAAAAAAAAAAAAAAAAAAAAAAAAAAAAAAAAAAAAAAAAAAAAAAAAAAAAAAAAAAAAAAAAAAAAAAAAAAAAAAAAAAAAAAAAAAAAAAAAAAAAAAAAAAAAAAAAAAAAAAAAAAAAAAAAAAAAAAAAAAAAAAAAAAAAAAAAAAAAAAAAAAAAAAAAAAAAAAAAAAAAAAAAAAAAAAAAAAAAAAAAAAAAAAAAAAAAAAAAAAAAAAAAAAAAAAAAAAAAAAAAAAAAAAAAAAAAAAAAAAAAAAAAAAAAAAAAAAAAAAAAAAAAAAAAAAAAAAAAAAAAAAAAAAAAAAAAAAAAAAAAAAAAAAAAAAAAAAAAAAAAAAAAAAAAAAAAAAAAAAAAAAAAAAAAAAAAAAAAAAAAAAAAAAAAAAAAAAAAAAAAAAAAAAAAAAAAAAAAAAAAAAAAAAAAAAAAAAAAAAAAAAAAAAAAAAAAAAAAAAAAAAAAAAAAAAAAAAAAAAAAAAAAAAAAAAAAAAAAAAAAAAAAAAAAAAAAAAAAAAAAAAAAAAAAAAAAAAAAAAAAAAAAAAAAAAAAAAAAAAAAAAAAAAAAAAAAAAAAAAAAAAAAAAAAAAAAAAAAAAAAAAAAAAAAAAAAAAAAAAAAAAAAAAAAAAAAAAAAAAAAAAAAAAAAAAAAAAAAAAAAAAAAAAAAAAAAAAAAAAAAAAAAAAAAAAAAAAAAAAAAAAAAAAAAAAAAAAAAAAAAAAAAAAAAAAAAAAAAAAAAAAAAAAAAAAAAAAAAAAAAAAAAAAAAAAAAAAAAAAAAAAAAAAAAAAAAAAAAAAAAAAAAAAAAAAAAAAAAAAAAAAAAAAAAAAAAAAAAAAAAAAAAAAAAAAAAAAAAAAAAAAAAAAAAAAAAAAAAAAAAAAAAAAAAAAAAAAAAAAAAAAAAAAAAAAAAAAAAAAAAAAAAAAAAAAAAAAAAAAAAAAAAAAAAAAAAAAAAAAAAAAAAAAAAAAAAAAAAAAAAAAAAAAAAAAAAAAAAAAAAAAAAAAAAAAAAAAAAAAAAAAAAAAAAAAAAAAAAAAAAAAAAAAAAAAAAAAAAAAAAAAAAAAAAAAAAAAAAAAAAAAAAAAAAAAAAAAAAAAAAAAAAAAAAAAAAAAAAAAAAAAAAAAAAAAAAAAAAAAAAAAAAAAAAAAAAAAAAAAAAAAAAAAAAAAAAAAAAAAAAAAAAAAAAAAAAAAAAAAAAAAAAAAAAAAAAAAAAAAAAAAAAAAAAAAAAAAAAAAAAAAAAAAAAAAAAAAAAAAAAAAAAAAAAAAAAAAAAAAAAAAAAAAAAAAAAAAAAAAAAAAAAAAAAAAAAAAAAAAAAAAAAAAAAAAAAAAAAAAAAAAAAAAAAAAAAAAAAAAAAAAAAAAAAAAAAAAAAAAAAAAAAAAAAAAAAAAAAAAAAAAAAAAAAAAAAAAAAAAAAAAAAAAAAAAAAAAAAAAAAAAAAAAAAAAAAAAAAAAAAAAAAAAAAAAAAAAAAAAAAAAAAAAAAAAAAAAAAAAAAAAAAAAAAAAAAAAAAAAAAAAAAAAAAAAAAAAAAAAAAAAAAAAAAAAAAAAAAAAAAAAAAAAAAAAAAAAAAAAAAAAAAAAAAAAAAAAAAAAAAAAAAAAAAAAAAAAAAAAAAAAAAAAAAAAAAAAAAAAAAAAAAAAAAAAAAAAAAAAAAAAAAAAAAAAAAAAAAAAAAAAAAAAAAAAAAAAAAAAAAAAAAAAAAAAAAAAAAAAAAAAAAAAAAAAAAAAAAAAAAAAAAAAAAAAAAAAAAAAAAAAAAAAAAAAAAAAAAAAAAAAAAAAAAAAAAAAAAAAAAAAAAAAAAAAAAAAAAAAAAAAAAAAAAAAAAAAAAAAAAAAAAAAAAAAAAAAAAAAAAAAAAAAAAAAAAAAAAAAAAAAAAAAAAAAAAAAAAAAAAAAAAAAAAAAAAAAAAAAAAAAAAAAAAAAAAAAAAAAAAAAAAAAAAAAAAAAAAAAAAAAAAAAAAAAAAAAAAAAAAAAAAAAAAAAAAAAAAAAAAAAAAAAAAAAAAAAAAAAAAAAAAAAAAAAAAAAAAAAAAAAAAAAAAAAAAAAAAAAAAAAAAAAAAAAAAAAAAAAAAAAAAAAAAAAAAAAAAAAAAAAAAAAAAAAAAAAAAAAAAAAAAAAAAAAAAAAAAAAAAAAAAAAAAAAAAAAAAAAAAAAAAAAAAAAAAAAAAAAAAAAAAAAAAAAAAAAAAAAAAAAAAAAAAAAAAAAAAAAAAAAAAAAAAAAAAAAAAAAAAAAAAAAAAAAAAAAAAAAAAAAAAAAAAAAAAAAAAAAAAAAAAAAAAAAAAAAAAAAAAAAAAAAAAAAAAAAAAAAAAAAAAAAAAAAAAAAAAAAAAAAAAAAAAAAAAAAAAAAAAAAAAAAAAAAAAAAAAAAAAAAAAAAAAAAAAAAAAAAAAAAAAAAAAAAAAAAAAAAAAAAAAAAAAAAAAAAAAAAAAAAAAAAAAAAAAAAAAAAAAAAAAAAAAAAAAAAAAAAAAAAAAAAAAAAAAAAAAAAAAAAAAAAAAAAAAAAAAAAAAAAAAAAAAAAAAAAAAAAAAAAAAAAAAAAAAAAAAAAAAAAAAAAAAAAAAAAAAAAAAAAAAAAAAAAAAAAAAAAAAAAAAAAAAAAAAAAAAAAAAAAAAAAAAAAAAAAAAAAAAAAAAAAAAAAAAAAAAAAAAAAAAAAAAAAAAAAAAAAAAAAAAAAAAAAAAAAAAAAAAAAAAAAAAAAAAAAAAAAAAAAAAAAAAAAAAAAAAAAAAAAAAAAAAAAAAAAAAAAAAAAAAAAAAAAAAAAAAAAAAAAAAAAAAAAAAAAAAAAAAAAAAAAAAAAAAAAAAAAAAAAAAAAAAAAAAAAAAAAAAAAAAAAAAAAAAAAAAAAAAAAAAAAAAAAAAAAAAAAAAAAAAAAAAAAAAAAAAAAAAAAAAAAAAAAAAAAAAAAAAAAAAAAAAAAAAAAAAAAAAAAAAAAAAAAAAAAAAAAAAAAAAAAAAAAAAAAAAAAAAAAAAAAAAAAAAAAAAAAAAAAAAAAAAAAAAAAAAAAAAAAAAAAAAAAAAAAAAAAAAAAAAAAAAAAAAAAAAAAAAAAAAAAAAAAAAAAAAAAAAAAAAAAAAAAAAAAAAAAAAAAAAAAAAAAAAAAAAAAAAAAAAAAAAAAAAAAAAAAAAAAAAAAAAAAAAAAAAAAAAAAAAAAAAAAAAAAAAAAAAAAAAAAAAAAAAAAAAAAAAAAAAAAAAAAAAAAAAAAAAAAAAAAAAAAAAAAAAAAAAAAAAAAAAAAAAAAAAAAAAAAAAAAAAAAAAAAAAAAAAAAAAAAAAAAAAAAAAAAAAAAAAAAAAAAAAAAAAAAAAAAAAAAAAAAAAAAAAAAAAAAAAAAAAAAAAAAAAAAAAAAAAAAAAAAAAAAAAAAAAAAAAAAAAAAAAAAAAAAAAAAAAAAAAAAAAAAAAAAAAAAAAAAAAAAAAAAAAAAAAAAAAAAAAAAAAAAAAAAAAAAAAAAAAAAAAAAAAAAAAAAAAAAAAAAAAAAAAAAAAAAAAAAAAAAAAAAAAAAAAAAAAAAAAAAAAAAAAAAAAAAAAAAAAAAAAAAAAAAAAAAAAAAAAAAAAAAAAAAAAAAAAAAAAAAAAAAAAAAAAAAAAAAAAAAAAAAAAAAAAAAAAAAAAAAAAAAAAAAAAAAAAAAAAAAAAAAAAAAAAAAAAAAAAAAAAAAAAAAAAAAAAAAAAAAAAAAAAAAAAAAAAAAAAAAAAAAAAAAAAAAAAAAAAAAAAAAAAAAAAAAAAAAAAAAAAAAAAAAAAAAAAAAAAAAAAAAAAAAAAAAAAAAAAAAAAAAAAAAAAAAAAAAAAAAAAAAAAAAAAAAAAAAAAAAAAAAAAAAAAAAAAAAAAAAAAAAAAAAAAAAAAAAAAAAAAAAAAAAAAAAAAAAAAAAAAAAAAAAAAAAAAAAAAAAAAAAAAAAAAAAAAAAAAAAAAAAAAAAAAAAAAAAAAAAAAAAAAAAAAAAAAAAAAAAAAAAAAAAAAAAAAAAAAAAAAAAAAAAAAAAAAAAAAAAAAAAAAAAAAAAAAAAAAAAAAAAAAAAAAAAAAAAAAAAAAAAAAAAAAAAAAAAAAAAAAAAAAAAAAAAAAAAAAAAAAAAAAAAAAAAAAAAAAAAAAAAAAAAAAAAAAAAAAAAAAAAAAAAAAAAAAAAAAAAAAAAAAAAAAAAAAAAAAAAAAAAAAAAAAAAAAAAAAAAAAAAAAAAAAAAAAAAAAAAAAAAAAAAAAAAAAAAAAAAAAAAAAAAAAAAAAAAAAAAAAAAAAAAAAAAAAAAAAAAAAAAAAAAAAAAAAAAAAAAAAAAAAAAAAAAAAAAAAAAAAAAAAAAAAAAAAAAAAAAAAAAAAAAAAAAAAAAAAAAAAAAAAAAAAAAAAAAAAAAAAAAAAAAAAAAAAAAAAAAAAAAAAAAAAAAAAAAAAAAAAAAAAAAAAAAAAAAAAAAAAAAAAAAAAAAAAAAAAAAAAAAAAAAAAAAAAAAAAAAAAAAAAAAAAAAAAAAAAAAAAAAAAAAAAAAAAAAAAAAAAAAAAAAAAAAAAAAAAAAAAAAAAAAAAAAAAAAAAAAAAAAAAAAAAAAAAAAAAAAAAAAAAAAAAAAAAAAAAAAAAAAAAAAAAAAAAAAAAAAAAAAAAAAAAAAAAAAAAAAAAAAAAAAAAAAAAAAAAAAAAAAAAAAAAAAAAAAAAAAAAAAAAAAAAAAAAAAAAAAAAAAAAAAAAAAAAAAAAAAAAAAAAAAAAAAAAAAAAAAAAAAAAAAAAAAAAAAAAAAAAAAAAAAAAAAAAAAAAAAAAAAAAAAAAAAAAAAAAAAAAAAAAAAAAAAAAAAAAAAAAAAAAAAAAAAAAAAAAAAAAAAAAAAAAAAAAAAAAAAAAAAAAAAAAAAAAAAAAAAAAAAAAAAAAAAAAAAAAAAAAAAAAAAAAAAAAAAAAAAAAAAAAAAAAAAAAAAAAAAAAAAAAAAAAAAAAAAAAAAAAAAAAAAAAAAAAAAAAAAAAAAAAAAAAAAAAAAAAAAAAAAAAAAAAAAAAAAAAAAAAAAAAAAAAAAAAAAAAAAAAAAAAAAAAAAAAAAAAAAAAAAAAAAAAAAAAAAAAAAAAAAAAAAAAAAAAAAAAAAAAAAAAAAAAAAAAAAAAAAAAAAAAAAAAAAAAAAAAAAAAAAAAAAAAAAAAAAAAAAAAAAAAAAAAAAAAAAAAAAAAAAAAAAAAAAAAAAAAAAAAAAAAAAAAAAAAAAAAAAAAAAAAAAAAAAAAAAAAAAAAAAAAAAAAAAAAAAAAAAAAAAAAAAAAAAAAAAAAAAAAAAAAAAAAAAAAAAAAAAAAAAAAAAAAAAAAAAAAAAAAAAAAAAAAAAAAAAAAAAAAAAAAAAAAAAAAAAAAAAAAAAAAAAAAAAAAAAAAAAAAAAAAAAAAAAAAAAAAAAAAAAAAAAAAAAAAAAAAAAAAAAAAAAAAAAAAAAAAAAAAAAAAAAAAAAAAAAAAAAAAAAAAAAAAAAAAAAAAAAAAAAAAAAAAAAAAAAAAAAAAAAAAAAAAAAAAAAAAAAAAAAAAAAAAAAAAAAAAAAAAAAAAAAAAAAAAAAAAAAAAAAAAAAAAAAAAAAAAAAAAAAAAAAAAAAAAAAAAAAAAAAAAAAAAAAAAAAAAAAAAAAAAAAAAAAAAAAAAAAAAAAAAAAAAAAAAAAAAAAAAAAAAAAAAAAAAAAAAAAAAAAAAAAAAAAAAAAAAAAAAAAAAAAAAAAAAAAAAAAAAAAAAAAAAAAAAAAAAAAAAAAAAAAAAAAAAAAAAAAAAAAAAAAAAAAAAAAAAAAAAAAAAAAAAAAAAAAAAAAAAAAAAAAAAAAAAAAAAAAAAAAAAAAAAAAAAAAAAAAAAAAAAAAAAAAAAAAAAAAAAAAAAAAAAAAAAAAAAAAAAAAAAAAAAAAAAAAAAAAAAAAAAAAAAAAAAAAAAAAAAAAAAAAAAAAAAAAAAAAAAAAAAAAAAAAAAAAAAAAAAAAAAAAAAAAAAAAAAAAAAAAAAAAAAAAAAAAAAAAAAAAAAAAAAAAAAAAAAAAAAAAAAAAAAAAAAAAAAAAAAAAAAAAAAAAAAAAAAAAAAAAAAAAAAAAAAAAAAAAAAAAAAAAAAAAAAAAAAAAAAAAAAAAAAAAAAAAAAAAAAAAAAAAAAAAAAAAAAAAAAAAAAAAAAAAAAAAAAAAAAAAAAAAAAAAAAAAAAAAAAAAAAAAAAAAAAAAAAAAAAAAAAAAAAAAAAAAAAAAAAAAAAAAAAAAAAAAAAAAAAAAAAAAAAAAAAAAAAAAAAAAAAAAAAAAAAAAAAAAAAAAAAAAAAAAAAAAAAAAAAAAAAAAAAAAAAAAAAAAAAAAAAAAAAAAAAAAAAAAAAAAAAAAAAAAAAAAAAAAAAAAAAAAAAAAAAAAAAAAAAAAAAAAAAAAAAAAAAAAAAAAAAAAAAAAAAAAAAAAAAAAAAAAAAAAAAAAAAAAAAAAAAAAAAAAAAAAAAAAAAAAAAAAAAAAAAAAAAAAAAAAAAAAAAAAAAAAAAAAAAAAAAAAAAAAAAAAAAAAAAAAAAAAAAAAAAAAAAAAAAAAAAAAAAAAAAAAAAAAAAAAAAAAAAAAAAAAAAAAAAAAAAAAAAAAAAAAAAAAAAAAAAAAAAAAAAAAAAAAAAAAAAAAAAAAAAAAAAAAAAAAAAAAAAAAAAAAAAAAAAAAAAAAAAAAAAAAAAAAAAAAAAAAAAAAAAAAAAAAAAAAAAAAAAAAAAAAAAAAAAAAAAAAAAAAAAAAAAAAAAAAAAAAAAAAAAAAAAAAAAAAAAAAAAAAAAAAAAAAAAAAAAAAAAAAAAAAAAAAAAAAAAAAAAAAAAAAAAAAAAAAAAAAAAAAAAAAAAAAAAAAAAAAAAAAAAAAAAAAAAAAAAAAAAAAAAAAAAAAAAAAAAAAAAAAAAAAAAAAAAAAAAAAAAAAAAAAAAAAAAAAAAAAAAAAAAAAAAAAAAAAAAAAAAAAAAAAAAAAAAAAAAAAAAAAAAAAAAAAAAAAAAAAAAAAAAAAAAAAAAAAAAAAAAAAAAAAAAAAAAAAAAAAAAAAAAAAAAAAAAAAAAAAAAAAAAAAAAAAAAAAAAAAAAAAAAAAAAAAAAAAAAAAAAAAAAAAAAAAAAAAAAAAAAAAAAAAAAAAAAAAAAAAAAAAAAAAAAAAAAAAAAAAAAAAAAAAAAAAAAAAAAAAAAAAAAAAAAAAAAAAAAAAAAAAAAAAAAAAAAAAAAAAAAAAAAAAAAAAAAAAAAAAAAAAAAAAAAAAAAAAAAAAAAAAAAAAAAAAAAAAAAAAAAAAAAAAAAAAAAAAAAAAAAAAAAAAAAAAAAAAAAAAAAAAAAAAAAAAAAAAAAAAAAAAAAAAAAAAAAAAAAAAAAAAAAAAAAAAAAAAAAAAAAAAAAAAAAAAAAAAAAAAAAAAAAAAAAAAAAAAAAAAAAAAAAAAAAAAAAAAAAAAAAAAAAAAAAAAAAAAAAAAAAAAAAAAAAAAAAAAAAAAAAAAAAAAAAAAAAAAAAAAAAAAAAAAAAAAAAAAAAAAAAAAAAAAAAAAAAAAAAAAAAAAAAAAAAAAAAAAAAAAAAAAAAAAAAAAAAAAAAAAAAAAAAAAAAAAAAAAAAAAAAAAAAAAAAAAAAAAAAAAAAAAAAAAAAAAAAAAAAAAAAAAAAAAAAAAAAAAAAAAAAAAAAAAAAAAAAAAAAAAAAAAAAAAAAAAAAAAAAAAAAAAAAAAAAAAAAAAAAAAAAAAAAAAAAAAAAAAAAAAAAAAAAAAAAAAAAAAAAAAAAAAAAAAAAAAAAAAAAAAAAAAAAAAAAAAAAAAAAAAAAAAAAAAAAAAAAAAAAAAAAAAAAAAAAAAAAAAAAAAAAAAAAAAAAAAAAAAAAAAAAAAAAAAAAAAAAAAAAAAAAAAAAAAAAAAAAAAAAAAAAAAAAAAAAAAAAAAAAAAAAAAAAAAAAAAAAAAAAAAAAAAAAAAAAAAAAAAAAAAAAAAAAAAAAAAAAAAAAAAAAAAAAAAAAAAAAAAAAAAAAAAAAAAAAAAAAAAAAAAAAAAAAAAAAAAAAAAAAAAAAAAAAAAAAAAAAAAAAAAAAAAAAAAAAAAAAAAAAAAAAAAAAAAAAAAAAAAAAAAAAAAAAAAAAAAAAAAAAAAAAAAAAAAAAAAAAAAAAAAAAAAAAAAAAAAAAAAAAAAAAAAAAAAAAAAAAAAAAAAAAAAAAAAAAAAAAAAAAAAAAAAAAAAAAAAAAAAAAAAAAAAAAAAAAAAAAAAAAAAAAAAAAAAAAAAAAAAAAAAAAAAAAAAAAAAAAAAAAAAAAAAAAAAAAAAAAAAAAAAAAAAAAAAAAAAAAAAAAAAAAAAAAAAAAAAAAAAAAAAAAAAAAAAAAAAAAAAAAAAAAAAAAAAAAAAAAAAAAAAAAAAAAAAAAAAAAAAAAAAAAAAAAAAAAAAAAAAAAAAAAAAAAAAAAAAAAAAAAAAAAAAAAAAAAAAAAAAAAAAAAAAAAAAAAAAAAAAAAAAAAAAAAAAAAAAAAAAAAAAAAAAAAAAAAAAAAAAAAAAAAAAAAAAAAAAAAAAAAAAAAAAAAAAAAAAAAAAAAAAAAAAAAAAAAAAAAAAAAAAAAAAAAAAAAAAAAAAAAAAAAAAAAAAAAAAAAAAAAAAAAAAAAAAAAAAAAAAAAAAAAAAAAAAAAAAAAAAAAAAAAAAAAAAAAAAAAAAAAAAAAAAAAAAAAAAAAAAAAAAAAAAAAAAAAAAAAAAAAAAAAAAAAAAAAAAAAAAAAAAAAAAAAAAAAAAAAAAAAAAAAAAAAAAAAAAAAAAAAAAAAAAAAAAAAAAAAAAAAAAAAAAAAAAAAAAAAAAAAAAAAAAAAAAAAAAAAAAAAAAAAAAAAAAAAAAAAAAAAAAAAAAAAAAAAAAAAAAAAAAAAAAAAAAAAAAAAAAAAAAAAAAAAAAAAAAAAAAAAAAAAAAAAAAAAAAAAAAAAAAAAAAAAAAAAAAAAAAAAAAAAAAAAAAAAAAAAAAAAAAAAAAAAAAAAAAAAAAAAAAAAAAAAAAAAAAAAAAAAAAAAAAAAAAAAAAAAAAAAAAAAAAAAAAAAAAAAAAAAAAAAAAAAAAAAAAAAAAAAAAAAAAAAAAAAAAAAAAAAAAAAAAAAAAAAAAAAAAAAAAAAAAAAAAAAAAAAAAAAAAAAAAAAAAAAAAAAAAAAAAAAAAAAAAAAAAAAAAAAAAAAAAAAAAAAAAAAAAAAAAAAAAAAAAAAAAAAAAAAAAAAAAAAAAAAAAAAAAAAAAAAAAAAAAAAAAAAAAAAAAAAAAAAAAAAAAAAAAAAAAAAAAAAAAAAAAAAAAAAAAAAAAAAAAAAAAAAAAAAAAAAAAAAAAAAAAAAAAAAAAAAAAAAAAAAAAAAAAAAAAAAAAAAAAAAAAAAAAAAAAAAAAAAAAAAAAAAAAAAAAAAAAAAAAAAAAAAAAAAAAAAAAAAAAAAAAAAAAAAAAAAAAAAAAAAAAAAAAAAAAAAAAAAAAAAAAAAAAAAAAAAAAAAAAAAAAAAAAAAAAAAAAAAAAAAAAAAAAAAAAAAAAAAAAAAAAAAAAAAAAAAAAAAAAAAAAAAAAAAAAAAAAAAAAAAAAAAAAAAAAAAAAAAAAAAAAAAAAAAAAAAAAAAAAAAAAAAAAAAAAAAAAAAAAAAAAAAAAAAAAAAAAAAAAAAAAAAAAAAAAAAAAAAAAAAAAAAAAAAAAAAAAAAAAAAAAAAAAAAAAAAAAAAAAAAAAAAAAAAAAAAAAAAAAAAAAAAAAAAAAAAAAAAAAAAAAAAAAAAAAAAAAAAAAAAAAAAAAAAAAAAAAAAAAAAAAAAAAAAAAAAAAAAAAAAAAAAAAAAAAAAAAAAAAAAAAAAAAAAAAAAAAAAAAAAAAAAAAAAAAAAAAAAAAAAAAAAAAAAAAAAAAAAAAAAAAAAAAAAAAAAAAAAAAAAAAAAAAAAAAAAAAAAAAAAAAAAAAAAAAAAAAAAAAAAAAAAAAAAAAAAAAAAAAAAAAAAAAAAAAAAAAAAAAAAAAAAAAAAAAAAAAAAAAAAAAAAAAAAAAAAAAAAAAAAAAAAAAAAAAAAAAAAAAAAAAAAAAAAAAAAAAAAAAAAAAAAAAAAAAAAAAAAAAAAAAAAAAAAAAAAAAAAAAAAAAAAAAAAAAAAAAAAAAAAAAAAAAAAAAAAAAAAAAAAAAAAAAAAAAAAAAAAAAAAAAAAAAAAAAAAAAAAAAAAAAAAAAAAAAAAAAAAAAAAAAAAAAAAAAAAAAAAAAAAAAAAAAAAAAAAAAAAAAAAAAAAAAAAAAAAAAAAAAAAAAAAAAAAAAAAAAAAAAAAAAAAAAAAAAAAAAAAAAAAAAAAAAAAAAAAAAAAAAAAAAAAAAAAAAAAAAAAAAAAAAAAAAAAAAAAAAAAAAAAAAAAAAAAAAAAAAAAAAAAAAAAAAAAAAAAAAAAAAAAAAAAAAAAAAAAAAAAAAAAAAAAAAAAAAAAAAAAAAAAAAAAAAAAAAAAAAAAAAAAAAAAAAAAAAAAAAAAAAAAAAAAAAAAAAAAAAAAAAAAAAAAAAAAAAAAAAAAAAAAAAAAAAAAAAAAAAAAAAAAAAAAAAAAAAAAAAAAAAAAAAAAAAAAAAAAAAAAAAAAAAAAAAAAAAAAAAAAAAAAAAAAAAAAAAAAAAAAAAAAAAAAAAAAAAAAAAAAAAAAAAAAAAAAAAAAAAAAAAAAAAAAAAAAAAAAAAAAAAAAAAAAAAAAAAAAAAAAAAAAAAAAAAAAAAAAAAAAAAAAAAAAAAAAAAAAAAAAAAAAAAAAAAAAAAAAAAAAAAAAAAAAAAAAAAAAAAAAAAAAAAAAAAAAAAAAAAAAAAAAAAAAAAAAAAAAAAAAAAAAAAAAAAAAAAAAAAAAAAAAAAAAAAAAAAAAAAAAAAAAAAAAAAAAAAAAAAAAAAAAAAAAAAAAAAAAAAAAAAAAAAAAAAAAAAAAAAAAAAAAAAAAAAAAAAAAAAAAAAAAAAAAAAAAAAAAAAAAAAAAAAAAAAAAAAAAAAAAAAAAAAAAAAAAAAAAAAAAAAAAAAAAAAAAAAAAAAAAAAAAAAAAAAAAAAAAAAAAAAAAAAAAAAAAAAAAAAAAAAAAAAAAAAAAAAAAAAAAAAAAAAAAAAAAAAAAAAAAAAAAAAAAAAAAAAAAAAAAAAAAAAAAAAAAAAAAAAAAAAAAAAAAAAAAAAAAAAAAAAAAAAAAAAAAAAAAAAAAAAAAAAAAAAAAAAAAAAAAAAAAAAAAAAAAAAAAAAAAAAAAAAAAAAAAAAAAAAAAAAAAAAAAAAAAAAAAAAAAAAAAAAAAAAAAAAAAAAAAAAAAAAAAAAAAAAAAAAAAAAAAAAAAAAAAAAAAAAAAAAAAAAAAAAAAAAAAAAAAAAAAAAAAAAAAAAAAAAAAAAAAAAAAAAAAAAAAAAAAAAAAAAAAAAAAAAAAAAAAAAAAAAAAAAAAAAAAAAAAAAAAAAAAAAAAAAAAAAAAAAAAAAAAAAAAAAAAAAAAAAAAAAAAAAAAAAAAAAAAAAAAAAAAAAAAAAAAAAAAAAAAAAAAAAAAAAAAAAAAAAAAAAAAAAAAAAAAAAAAAAAAAAAAAAAAAAAAAAAAAAAAAAAAAAAAAAAAAAAAAAAAAAAAAAAAAAAAAAAAAAAAAAAAAAAAAAAAAAAAAAAAAAAAAAAAAAAAAAAAAAAAAAAAAAAAAAAAAAAAAAAAAAAAAAAAAAAAAAAAAAAAAAAAAAAAAAAAAAAAAAAAAAAAAAAAAAAAAAAAAAAAAAAAAAAAAAAAAAAAAAAAAAAAAAAAAAAAAAAAAAAAAAAAAAAAAAAAAAAAAAAAAAAAAAAAAAAAAAAAAAAAAAAAAAAAAAAAAAAAAAAAAAAAAAAAAAAAAAAAAAAAAAAAAAAAAAAAAAAAAAAAAAAAAAAAAAAAAAAAAAAAAAAAAAAAAAAAAAAAAAAAAAAAAAAAAAAAAAAAAAAAAAAAAAAAAAAAAAAAAAAAAAAAAAAAAAAAAAAAAAAAAAAAAAAAAAAAAAAAAAAAAAAAAAAAAAAAAAAAAAAAAAAAAAAAAAAAAAAAAAAAAAAAAAAAAAAAAAAAAAAAAAAAAAAAAAAAAAAAAAAAAAAAAAAAAAAAAAAAAAAAAAAAAAAAAAAAAAAAAAAAAAAAAAAAAAAAAAAAAAAAAAAAAAAAAAAAAAAAAAAAAAAAAAAAAAAAAAAAAAAAAAAAAAAAAAAAAAAAAAAAAAAAAAAAAAAAAAAAAAAAAAAAAAAAAAAAAAAAAAAAAAAAAAAAAAAAAAAAAAAAAAAAAAAAAAAAAAAAAAAAAAAAAAAAAAAAAAAAAAAAAAAAAAAAAAAAAAAAAAAAAAAAAAAAAAAAAAAAAAAAAAAAAAAAAAAAAAAAAAAAAAAAAAAAAAAAAAAAAAAAAAAAAAAAAAAAAAAAAAAAAAAAAAAAAAAAAAAAAAAAAAAAAAAAAAAAAAAAAAAAAAAAAAAAAAAAAAAAAAAAAAAAAAAAAAAAAAAAAAAAAAAAAAAAAAAAAAAAAAAAAAAAAAAAAAAAAAAAAAAAAAAAAAAAAAAAAAAAAAAAAAAAAAAAAAAAAAAAAAAAAAAAAAAAAAAAAAAAAAAAAAAAAAAAAAAAAAAAAAAAAAAAAAAAAAAAAAAAAAAAAAAAAAAAAAAAAAAAAAAAAAAAAAAAAAAAAAAAAAAAAAAAAAAAAAAAAAAAAAAAAAAAAAAAAAAAAAAAAAAAAAAAAAAAAAAAAAAAAAAAAAAAAAAAAAAAAAAAAAAAAAAAAAAAAAAAAAAAAAAAAAAAAAAAAAAAAAAAAAAAAAAAAAAAAAAAAAAAAAAAAAAAAAAAAAAAAAAAAAAAAAAAAAAAAAAAAAAAAAAAAAAAAAAAAAAAAAAAAAAAAAAAAAAAAAAAAAAAAAAAAAAAAAAAAAAAAAAAAAAAAAAAAAAAAAAAAAAAAAAAAAAAAAAAAAAAAAAAAAAAAAAAAAAAAAAAAAAAAAAAAAAAAAAAAAAAAAAAAAAAAAAAAAAAAAAAAAAAAAAAAAAAAAAAAAAAAAAAAAAAAAAAAAAAAAAAAAAAAAAAAAAAAAAAAAAAAAAAAAAAAAAAAAAAAAAAAAAAAAAAAAAAAAAAAAAAAAAAAAAAAAAAAAAAAAAAAAAAAAAAAAAAAAAAAAAAAAAAAAAAAAAAAAAAAAAAAAAAAAAAAAAAAAAAAAAAAAAAAAAAAAAAAAAAAAAAAAAAAAAAAAAAAAAAAAAAAAAAAAAAAAAAAAAAAAAAAAAAAAAAAAAAAAAAAAAAAAAAAAAAAAAAAAAAAAAAAAAAAAAAAAAAAAAAAAAAAAAAAAAAAAAAAAAAAAAAAAAAAAAAAAAAAAAAAAAAAAAAAAAAAAAAAAAAAAAAAAAAAAAAAAAAAAAAAAAAAAAAAAAAAAAAAAAAAAAAAAAAAAAAAAAAAAAAAAAAAAAAAAAAAAAAAAAAAAAAAAAAAAAAAAAAAAAAAAAAAAAAAAAAAAAAAAAAAAAAAAAAAAAAAAAAAAAAAAAAAAAAAAAAAAAAAAAAAAAAAAAAAAAAAAAAAAAAAAAAAAAAAAAAAAAAAAAAAAAAAAAAAAAAAAAAAAAAAAAAAAAAAAAAAAAAAAAAAAAAAAAAAAAAAAAAAAAAAAAAAAAAAAAAAAAAAAAAAAAAAAAAAAAAAAAAAAAAAAAAAAAAAAAAAAAAAAAAAAAAAAAAAAAAAAAAAAAAAAAAAAAAAAAAAAAAAAAAAAAAAAAAAAAAAAAAAAAAAAAAAAAAAAAAAAAAAAAAAAAAAAAAAAAAAAAAAAAAAAAAAAAAAAAAAAAAAAAAAAAAAAAAAAAAAAAAAAAAAAAAAAAAAAAAAAAAAAAAAAAAAAAAAAAAAAAAAAAAAAAAAAAAAAAAAAAAAAAAAAAAAAAAAAAAAAAAAAAAAAAAAAAAAAAAAAAAAAAAAAAAAAAAAAAAAAAAAAAAAAAAAAAAAAAAAAAAAAAAAAAAAAAAAAAAAAAAAAAAAAAAAAAAAAAAAAAAAAAAAAAAAAAAAAAAAAAAAAAAAAAAAAAAAAAAAAAAAAAAAAAAAAAAAAAAAAAAAAAAAAAAAAAAAAAAAAAAAAAAAAAAAAAAAAAAAAAAAAAAAAAAAAAAAAAAAAAAAAAAAAAAAAAAAAAAAAAAAAAAAAAAAAAAAAAAAAAAAAAAAAAAAAAAAAAAAAAAAAAAAAAAAAAAAAAAAAAAAAAAAAAAAAAAAAAAAAAAAAAAAAAAAAAAAAAAAAAAAAAAAAAAAAAAAAAAAAAAAAAAAAAAAAAAAAAAAAAAAAAAAAAAAAAAAAAAAAAAAAAAAAAAAAAAAAAAAAAAAAAAAAAAAAAAAAAAAAAAAAAAAAAAAAAAAAAAAAAAAAAAAAAAAAAAAAAAAAAAAAAAAAAAAAAAAAAAAAAAAAAAAAAAAAAAAAAAAAAAAAAAAAAAAAAAAAAAAAAAAAAAAAAAAAAAAAAAAAAAAAAAAAAAAAAAAAAAAAAAAAAAAAAAAAAAAAAAAAAAAAAAAAAAAAAAAAAAAAAAAAAAAAAAAAAAAAAAAAAAAAAAAAAAAAAAAAAAAAAAAAAAAAAAAAAAAAAAAAAAAAAAAAAAAAAAAAAAAAAAAAAAAAAAAAAAAAAAAAAAAAAAAAAAAAAAAAAAAAAAAAAAAAAAAAAAAAAAAAAAAAAAAAAAAAAAAAAAAAAAAAAAAAAAAAAAAAAAAAAAAAAAAAAAAAAAAAAAAAAAAAAAAAAAAAAAAAAAAAAAAAAAAAAAAAAAAAAAAAAAAAAAAAAAAAAAAAAAAAAAAAAAAAAAAAAAAAAAAAAAAAAAAAAAAAAAAAAAAAAAAAAAAAAAAAAAAAAAAAAAAAAAAAAAAAAAAAAAAAAAAAAAAAAAAAAAAAAAAAAAAAAAAAAAAAAAAAAAAAAAAAAAAAAAAAAAAAAAAAAAAAAAAAAAAAAAAAAAAAAAAAAAAAAAAAAAAAAAAAAAAAAAAAAAAAAAAAAAAAAAAAAAAAAAAAAAAAAAAAAAAAAAAAAAAAAAAAAAAAAAAAAAAAAAAAAAAAAAAAAAAAAAAAAAAAAAAAAAAAAAAAAAAAAAAAAAAAAAAAAAAAAAAAAAAAAAAAAAAAAAAAAAAAAAAAAAAAAAAAAAAAAAAAAAAAAAAAAAAAAAAAAAAAAAAAAAAAAAAAAAAAAAAAAAAAAAAAAAAAAAAAAAAAAAAAAAAAAAAAAAAAAAAAAAAAAAAAAAAAAAAAAAAAAAAAAAAAAAAAAAAAAAAAAAAAAAAAAAAAAAAAAAAAAAAAAAAAAAAAAAAAAAAAAAAAAAAAAAAAAAAAAAAAAAAAAAAAAAAAAAAAAAAAAAAAAAAAAAAAAAAAAAAAAAAAAAAAAAAAAAAAAAAAAAAAAAAAAAAAAAAAAAAAAAAAAAAAAAAAAAAAAAAAAAAAAAAAAAAAAAAAAAAAAAAAAAAAAAAAAAAAAAAAAAAAAAAAAAAAAAAAAAAAAAAAAAAAAAAAAAAAAAAAAAAAAAAAAAAAAAAAAAAAAAAAAAAAAAAAAAAAAAAAAAAAAAAAAAAAAAAAAAAAAAAAAAAAAAAAAAAAAAAAAAAAAAAAAAAAAAAAAAAAAAAAAAAAAAAAAAAAAAAAAAAAAAAAAAAAAAAAAAAAAAAAAAAAAAAAAAAAAAAAAAAAAAAAAAAAAAAAAAAAAAAAAAAAAAAAAAAAAAAAAAAAAAAAAAAAAAAAAAAAAAAAAAAAAAAAAAAAAAAAAAAAAAAAAAAAAAAAAAAAAAAAAAAAAAAAAAAAAAAAAAAAAAAAAAAAAAAAAAAAAAAAAAAAAAAAAAAAAAAAAAAAAAAAAAAAAAAAAAAAAAAAAAAAAAAAAAAAAAAAAAAAAAAAAAAAAAAAAAAAAAAAAAAAAAAAAAAAAAAAAAAAAAAAAAAAAAAAAAAAAAAAAAAAAAAAAAAAAAAAAAAAAAAAAAAAAAAAAAAAAAAAAAAAAAAAAAAAAAAAAAAAAAAAAAAAAAAAAAAAAAAAAAAAAAAAAAAAAAAAAAAAAAAAAAAAAAAAAAAAAAAAAAAAAAAAAAAAAAAAAAAAAAAAAAAAAAAAAAAAAAAAAAAAAAAAAAAAAAAAAAAAAAAAAAAAAAAAAAAAAAAAAAAAAAAAAAAAAAAAAAAAAAAAAAAAAAAAAAAAAAAAAAAAAAAAAAAAAAAAAAAAAAAAAAAAAAAAAAAAAAAAAAAAAAAAAAAAAAAAAAAAAAAAAAAAAAAAAAAAAAAAAAAAAAAAAAAAAAAAAAAAAAAAAAAAAAAAAAAAAAAAAAAAAAAAAAAAAAAAAAAAAAAAAAAAAAAAAAAAAAAAAAAAAAAAAAAAAAAAAAAAAAAAAAAAAAAAAAAAAAAAAAAAAAAAAAAAAAAAAAAAAAAAAAAAAAAAAAAAAAAAAAAAAAAAAAAAAAAAAAAAAAAAAAAAAAAAAAAAAAAAAAAAAAAAAAAAAAAAAAAAAAAAAAAAAAAAAAAAAAAAAAAAAAAAAAAAAAAAAAAAAAAAAAAAAAAAAAAAAAAAAAAAAAAAAAAAAAAAAAAAAAAAAAAAAAAAAAAAAAAAAAAAAAAAAAAAAAAAAAAAAAAAAAAAAAAAAAAAAAAAAAAAAAAAAAAAAAAAAAAAAAAAAAAAAAAAAAAAAAAAAAAAAAAAAAAAAAAAAAAAAAAAAAAAAAAAAAAAAAAAAAAAAAAAAAAAAAAAAAAAAAAAAAAAAAAAAAAAAAAAAAAAAAAAAAAAAAAAAAAAAAAAAAAAAAAAAAAAAAAAAAAAAAAAAAAAAAAAAAAAAAAAAAAAAAAAAAAAAAAAAAAAAAAAAAAAAAAAAAAAAAAAAAAAAAAAAAAAAAAAAAAAAAAAAAAAAAAAAAAAAAAAAAAAAAAAAAAAAAAAAAAAAAAAAAAAAAAAAAAAAAAAAAAAAAAAAAAAAAAAAAAAAAAAAAAAAAAAAAAAAAAAAAAAAAAAAAAAAAAAAAAAAAAAAAAAAAAAAAAAAAAAAAAAAAAAAAAAAAAAAAAAAAAAAAAAAAAAAAAAAAAAAAAAAAAAAAAAAAAAAAAAAAAAAAAAAAAAAAAAAAAAAAAAAAAAAAAAAAAAAAAAAAAAAAAAAAAAAAAAAAAAAAAAAAAAAAAAAAAAAAAAAAAAAAAAAAAAAAAAAAAAAAAAAAAAAAAAAAAAAAAAAAAAAAAAAAAAAAAAAAAAAAAAAAAAAAAAAAAAAAAAAAAAAAAAAAAAAAAAAAAAAAAAAAAAAAAAAAAAAAAAAAAAAAAAAAAAAAAAAAAAAAAAAAAAAAAAAAAAAAAAAAAAAAAAAAAAAAAAAAAAAAAAAAAAAAAAAAAAAAAAAAAAAAAAAAAAAAAAAAAAAAAAAAAAAAAAAAAAAAAAAAAAAAAAAAAAAAAAAAAAAAAAAAAAAAAAAAAAAAAAAAAAAAAAAAAAAAAAAAAAAAAAAAAAAAAAAAAAAAAAAAAAAAAAAAAAAAAAAAAAAAAAAAAAAAAAAAAAAAAAAAAAAAAAAAAAAAAAAAAAAAAAAAAAAAAAAAAAAAAAAAAAAAAAAAAAAAAAAAAAAAAAAAAAAAAAAAAAAAAAAAAAAAAAAAAAAAAAAAAAAAAAAAAAAAAAAAAAAAAAAAAAAAAAAAAAAAAAAAAAAAAAAAAAAAAAAAAAAAAAAAAAAAAAAAAAAAAAAAAAAAAAAAAAAAAAAAAAAAAAAAAAAAAAAAAAAAAAAAAAAAAAAAAAAAAAAAAAAAAAAAAAAAAAAAAAAAAAAAAAAAAAAAAAAAAAAAAAAAAAAAAAAAAAAAAAAAAAAAAAAAAAAAAAAAAAAAAAAAAAAAAAAAAAAAAAAAAAAAAAAAAAAAAAAAAAAAAAAAAAAAAAAAAAAAAAAAAAAAAAAAAAAAAAAAAAAAAAAAAAAAAAAAAAAAAAAAAAAAAAAAAAAAAAAAAAAAAAAAAAAAAAAAAAAAAAAAAAAAAAAAAAAAAAAAAAAAAAAAAAAAAAAAAAAAAAAAAAAAAAAAAAAAAAAAAAAAAAAAAAAAAAAAAAAAAAAAAAAAAAAAAAAAAAAAAAAAAAAAAAAAAAAAAAAAAAAAAAAAAAAAAAAAAAAAAAAAAAAAAAAAAAAAAAAAAAAAAAAAAAAAAAAAAAAAAAAAAAAAAAAAAAAAAAAAAAAAAAAAAAAAAAAAAAAAAAAAAAAAAAAAAAAAAAAAAAAAAAAAAAAAAAAAAAAAAAAAAAAAAAAAAAAAAAAAAAAAAAAAAAAAAAAAAAAAAAAAAAAAAAAAAAAAAAAAAAAAAAAAAAAAAAAAAAAAAAAAAAAAAAAAAAAAAAAAAAAAAAAAAAAAAAAAAAAAAAAAAAAAAAAAAAAAAAAAAAAAAAAAAAAAAAAAAAAAAAAAAAAAAAAAAAAAAAAAAAAAAAAAAAAAAAAAAAAAAAAAAAAAAAAAAAAAAAAAAAAAAAAAAAAAAAAAAAAAAAAAAAAAAAAAAAAAAAAAAAAAAAAAAAAAAAAAAAAAAAAAAAAAAAAAAAAAAAAAAAAAAAAAAAAAAAAAAAAAAAAAAAAAAAAAAAAAAAAAAAAAAAAAAAAAAAAAAAAAAAAAAAAAAAAAAAAAAAAAAAAAAAAAAAAAAAAAAAAAAAAAAAAAAAAAAAAAAAAAAAAAAAAAAAAAAAAAAAAAAAAAAAAAAAAAAAAAAAAAAAAAAAAAAAAAAAAAAAAAAAAAAAAAAAAAAAAAAAAAAAAAAAAAAAAAAAAAAAAAAAAAAAAAAAAAAAAAAAAAAAAAAAAAAAAAAAAAAAAAAAAAAAAAAAAAAAAAAAAAAAAAAAAAAAAAAAAAAAAAAAAAAAAAAAAAAAAAAAAAAAAAAAAAAAAAAAAAAAAAAAAAAAAAAAAAAAAAAAAAAAAAAAAAAAAAAAAAAAAAAAAAAAAAAAAAAAAAAAAAAAAAAAAAAAAAAAAAAAAAAAAAAAAAAAAAAAAAAAAAAAAAAAAAAAAAAAAAAAAAAAAAAAAAAAAAAAAAAAAAAAAAAAAAAAAAAAAAAAAAAAAAAAAAAAAAAAAAAAAAAAAAAAAAAAAAAAAAAAAAAAAAAAAAAAAAAAAAAAAAAAAAAAAAAAAAAAAAAAAAAAAAAAAAAAAAAAAAAAAAAAAAAAAAAAAAAAAAAAAAAAAAAAAAAAAAAAAAAAAAAAAAAAAAAAAAAAAAAAAAAAAAAAAAAAAAAAAAAAAAAAAAAAAAAAAAAAAAAAAAAAAAAAAAAAAAAAAAAAAAAAAAAAAAAAAAAAAAAAAAAAAAAAAAAAAAAAAAAAAAAAAAAAAAAAAAAAAAAAAAAAAAAAAAAAAAAAAAAAAAAAAAAAAAAAAAAAAAAAAAAAAAAAAAAAAAAAAAAAAAAAAAAAAAAAAAAAAAAAAAAAAAAAAAAAAAAAAAAAAAAAAAAAAAAAAAAAAAAAAAAAAAAAAAAAAAAAAAAAAAAAAAAAAAAAAAAAAAAAAAAAAAAAAAAAAAAAAAAAAAAAAAAAAAAAAAAAAAAAAAAAAAAAAAAAAAAAAAAAAAAAAAAAAAAAAAAAAAAAAAAAAAAAAAAAAAAAAAAAAAAAAAAAAAAAAAAAAAAAAAAAAAAAAAAAAAAAAAAAAAAAAAAAAAAAAAAAAAAAAAAAAAAAAAAAAAAAAAAAAAAAAAAAAAAAAAAAAAAAAAAAAAAAAAAAAAAAAAAAAAAAAAAAAAAAAAAAAAAAAAAAAAAAAAAAAAAAAAAAAAAAAAAAAAAAAAAAAAAAAAAAAAAAAAAAAAAAAAAAAAAAAAAAAAAAAAAAAAAAAAAAAAAAAAAAAAAAAAAAAAAAAAAAAAAAAAAAAAAAAAAAAAAAAAAAAAAAAAAAAAAAAAAAAAAAAAAAAAAAAAAAAAAAAAAAAAAAAAAAAAAAAAAAAAAAAAAAAAAAAAAAAAAAAAAAAAAAAAAAAAAAAAAAAAAAAAAAAAAAAAAAAAAAAAAAAAAAAAAAAAAAAAAAAAAAAAAAAAAAAAAAAAAAAAAAAAAAAAAAAAAAAAAAAAAAAAAAAAAAAAAAAAAAAAAAAAAAAAAAAAAAAAAAAAAAAAAAAAAAAAAAAAAAAAAAAAAAAAAAAAAAAAAAAAAAAAAAAAAAAAAAAAAAAAAAAAAAAAAAAAAAAAAAAAAAAAAAAAAAAAAAAAAAAAAAAAAAAAAAAAAAAAAAAAAAAAAAAAAAAAAAAAAAAAAAAAAAAAAAAAAAAAAAAAAAAAAAAAAAAAAAAAAAAAAAAAAAAAAAAAAAAAAAAAAAAAAAAAAAAAAAAAAAAAAAAAAAAAAAAAAAAAAAAAAAAAAAAAAAAAAAAAAAAAAAAAAAAAAAAAAAAAAAAAAAAAAAAAAAAAAAAAAAAAAAAAAAAAAAAAAAAAAAAAAAAAAAAAAAAAAAAAAAAAAAAAAAAAAAAAAAAAAAAAAAAAAAAAAAAAAAAAAAAAAAAAAAAAAAAAAAAAAAAAAAAAAAAAAAAAAAAAAAAAAAAAAAAAAAAAAAAAAAAAAAAAAAAAAAAAAAAAAAAAAAAAAAAAAAAAAAAAAAAAAAAAAAAAAAAAAAAAAAAAAAAAAAAAAAAAAAAAAAAAAAAAAAAAAAAAAAAAAAAAAAAAAAAAAAAAAAAAAAAAAAAAAAAAAAAAAAAAAAAAAAAAAAAAAAAAAAAAAAAAAAAAAAAAAAAAAAAAAAAAAAAAAAAAAAAAAAAAAAAAAAAAAAAAAAAAAAAAAAAAAAAAAAAAAAAAAAAAAAAAAAAAAAAAAAAAAAAAAAAAAAAAAAAAAAAAAAAAAAAAAAAAAAAAAAAAAAAAAAAAAAAAAAAAAAAAAAAAAAAAAAAAAAAAAAAAAAAAAAAAAAAAAAAAAAAAAAAAAAAAAAAAAAAAAAAAAAAAAAAAAAAAAAAAAAAAAAAAAAAAAAAAAAAAAAAAAAAAAAAAAAAAAAAAAAAAAAAAAAAAAAAAAAAAAAAAAAAAAAAAAAAAAAAAAAAAAAAAAAAAAAAAAAAAAAAAAAAAAAAAAAAAAAAAAAAAAAAAAAAAAAAAAAAAAAAAAAAAAAAAAAAAAAAAAAAAAAAAAAAAAAAAAAAAAAAAAAAAAAAAAAAAAAAAAAAAAAAAAAAAAAAAAAAAAAAAAAAAAAAAAAAAAAAAAAAAAAAAAAAAAAAAAAAAAAAAAAAAAAAAAAAAAAAAAAAAAAAAAAAAAAAAAAAAAAAAAAAAAAAAAAAAAAAAAAAAAAAAAAAAAAAAAAAAAAAAAAAAAAAAAAAAAAAAAAAAAAAAAAAAAAAAAAAAAAAAAAAAAAAAAAAAAAAAAAAAAAAAAAAAAAAAAAAAAAAAAAAAAAAAAAAAAAAAAAAAAAAAAAAAAAAAAAAAAAAAAAAAAAAAAAAAAAAAAAAAAAAAAAAAAAAAAAAAAAAAAAAAAAAAAAAAAAAAAAAAAAAAAAAAAAAAAAAAAAAAAAAAAAAAAAAAAAAAAAAAAAAAAAAAAAAAAAAAAAAAAAAAAAAAAAAAAAAAAAAAAAAAAAAAAAAAAAAAAAAAAAAAAAAAAAAAAAAAAAAAAAAAAAAAAAAAAAAAAAAAAAAAAAAAAAAAAAAAAAAAAAAAAAAAAAAAAAAAAAAAAAAAAAAAAAAAAAAAAAAAAAAAAAAAAAAAAAAAAAAAAAAAAAAAAAAAAAAAAAAAAAAAAAAAAAAAAAAAAAAAAAAAAAAAAAAAAAAAAAAAAAAAAAAAAAAAAAAAAAAAAAAAAAAAAAAAAAAAAAAAAAAAAAAAAAAAAAAAAAAAAAAAAAAAAAAAAAAAAAAAAAAAAAAAAAAAAAAAAAAAAAAAAAAAAAAAAAAAAAAAAAAAAAAAAAAAAAAAAAAAAAAAAAAAAAAAAAAAAAAAAAAAAAAAAAAAAAAAAAAAAAAAAAAAAAAAAAAAAAAAAAAAAAAAAAAAAAAAAAAAAAAAAAAAAAAAAAAAAAAAAAAAAAAAAAAAAAAAAAAAAAAAAAAAAAAAAAAAAAAAAAAAAAAAAAAAAAAAAAAAAAAAAAAAAAAAAAAAAAAAAAAAAAAAAAAAAAAAAAAAAAAAAAAAAAAAAAAAAAAAAAAAAAAAAAAAAAAAAAAAAAAAAAAAAAAAAAAAAAAAAAAAAAAAAAAAAAAAAAAAAAAAAAAAAAAAAAAAAAAAAAAAAAAAAAAAAAAAAAAAAAAAAAAAAAAAAAAAAAAAAAAAAAAAAAAAAAAAAAAAAAAAAAAAAAAAAAAAAAAAAAAAAAAAAAAAAAAAAAAAAAAAAAAAAAAAAAAAAAAAAAAAAAAAAAAAAAAAAAAAAAAAAAAAAAAAAAAAAAAAAAAAAAAAAAAAAAAAAAAAAAAAAAAAAAAAAAAAAAAAAAAAAAAAAAAAAAAAAAAAAAAAAAAAAAAAAAAAAAAAAAAAAAAAAAAAAAAAAAAAAAAAAAAAAAAAAAAAAAAAAAAAAAAAAAAAAAAAAAAAAAAAAAAAAAAAAAAAAAAAAAAAAAAAAAAAAAAAAAAAAAAAAAAAAAAAAAAAAAAAAAAAAAAAAAAAAAAAAAAAAAAAAAAAAAAAAAAAAAAAAAAAAAAAAAAAAAAAAAAAAAAAAAAAAAAAAAAAAAAAAAAAAAAAAAAAAAAAAAAAAAAAAAAAAAAAAAAAAAAAAAAAAAAAAAAAAAAAAAAAAAAAAAAAAAAAAAAAAAAAAAAAAAAAAAAAAAAAAAAAAAAAAAAAAAAAAAAAAAAAAAAAAAAAAAAAAAAAAAAAAAAAAAAAAAAAAAAAAAAAAAAAAAAAAAAAAAAAAAAAAAAAAAAAAAAAAAAAAAAAAAAAAAAAAAAAAAAAAAAAAAAAAAAAAAAAAAAAAAAAAAAAAAAAAAAAAAAAAAAAAAAAAAAAAAAAAAAAAAAAAAAAAAAAAAAAAAAAAAAAAAAAAAAAAAAAAAAAAAAAAAAAAAAAAAAAAAAAAAAAAAAAAAAAAAAAAAAAAAAAAAAAAAAAAAAAAAAAAAAAAAAAAAAAAAAAAAAAAAAAAAAAAAAAAAAAAAAAAAAAAAAAAAAAAAAAAAAAAAAAAAAAAAAAAAAAAAAAAAAAAAAAAAAAAAAAAAAAAAAAAAAAAAAAAAAAAAAAAAAAAAAAAAAAAAAAAAAAAAAAAAAAAAAAAAAAAAAAAAAAAAAAAA=\"},\"shape\":[10000],\"dtype\":\"float64\",\"order\":\"little\"}]]}}},\"view\":{\"type\":\"object\",\"name\":\"CDSView\",\"id\":\"25bf1850-8749-44f5-8b05-cf169752ff4d\",\"attributes\":{\"filter\":{\"type\":\"object\",\"name\":\"AllIndices\",\"id\":\"04719b9d-c181-4991-8829-194c4d2297ab\"}}},\"glyph\":{\"type\":\"object\",\"name\":\"Line\",\"id\":\"63aaf7b1-97ef-4c03-92de-0a71320572e2\",\"attributes\":{\"x\":{\"type\":\"field\",\"field\":\"x\"},\"y\":{\"type\":\"field\",\"field\":\"y\"},\"line_color\":\"blue\"}},\"nonselection_glyph\":{\"type\":\"object\",\"name\":\"Line\",\"id\":\"a73e2f8b-50c7-400c-b479-380c72a518c2\",\"attributes\":{\"x\":{\"type\":\"field\",\"field\":\"x\"},\"y\":{\"type\":\"field\",\"field\":\"y\"},\"line_color\":\"blue\",\"line_alpha\":0.1}},\"muted_glyph\":{\"type\":\"object\",\"name\":\"Line\",\"id\":\"c1cab5c9-8e99-482c-91f4-82a9ec4135a3\",\"attributes\":{\"x\":{\"type\":\"field\",\"field\":\"x\"},\"y\":{\"type\":\"field\",\"field\":\"y\"},\"line_color\":\"blue\",\"line_alpha\":0.2}}}},{\"type\":\"object\",\"name\":\"GlyphRenderer\",\"id\":\"0c2047e2-b1c6-48bd-8e46-fcd7b42eda84\",\"attributes\":{\"data_source\":{\"type\":\"object\",\"name\":\"ColumnDataSource\",\"id\":\"e803d6df-9cbf-4d9b-9e8f-d8ab3e5c6c43\",\"attributes\":{\"selected\":{\"type\":\"object\",\"name\":\"Selection\",\"id\":\"3a900187-0e58-46e5-a884-ba1ef23c4241\",\"attributes\":{\"indices\":[],\"line_indices\":[]}},\"selection_policy\":{\"type\":\"object\",\"name\":\"UnionRenderers\",\"id\":\"df261e49-3884-4be7-9d16-4f5cce5a4008\"},\"data\":{\"type\":\"map\",\"entries\":[[\"x\",{\"type\":\"ndarray\",\"array\":{\"type\":\"bytes\",\"data\":\"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\"},\"shape\":[10000],\"dtype\":\"float64\",\"order\":\"little\"}],[\"y\",{\"type\":\"ndarray\",\"array\":{\"type\":\"bytes\",\"data\":\"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\"},\"shape\":[10000],\"dtype\":\"float64\",\"order\":\"little\"}]]}}},\"view\":{\"type\":\"object\",\"name\":\"CDSView\",\"id\":\"305b10eb-3ce9-418f-b749-0ab272b54d56\",\"attributes\":{\"filter\":{\"type\":\"object\",\"name\":\"AllIndices\",\"id\":\"4c023386-863d-4da6-a299-649cc5553f3c\"}}},\"glyph\":{\"type\":\"object\",\"name\":\"Line\",\"id\":\"c0fce2bd-e08e-4f89-b429-dfd08579bdc6\",\"attributes\":{\"x\":{\"type\":\"field\",\"field\":\"x\"},\"y\":{\"type\":\"field\",\"field\":\"y\"},\"line_color\":\"red\"}},\"nonselection_glyph\":{\"type\":\"object\",\"name\":\"Line\",\"id\":\"cf789695-febd-4b93-b24b-fab00cb16077\",\"attributes\":{\"x\":{\"type\":\"field\",\"field\":\"x\"},\"y\":{\"type\":\"field\",\"field\":\"y\"},\"line_color\":\"red\",\"line_alpha\":0.1}},\"muted_glyph\":{\"type\":\"object\",\"name\":\"Line\",\"id\":\"01ebc63a-2d0a-4a00-aac1-1edcbaa6585e\",\"attributes\":{\"x\":{\"type\":\"field\",\"field\":\"x\"},\"y\":{\"type\":\"field\",\"field\":\"y\"},\"line_color\":\"red\",\"line_alpha\":0.2}}}},{\"type\":\"object\",\"name\":\"GlyphRenderer\",\"id\":\"01832919-d7aa-4eda-841e-52391ee01ccd\",\"attributes\":{\"data_source\":{\"type\":\"object\",\"name\":\"ColumnDataSource\",\"id\":\"6271ae3c-d88c-4ff6-a5be-ec708b43c0ac\",\"attributes\":{\"selected\":{\"type\":\"object\",\"name\":\"Selection\",\"id\":\"1e9e35d5-34b6-448b-8222-ade7201882f8\",\"attributes\":{\"indices\":[],\"line_indices\":[]}},\"selection_policy\":{\"type\":\"object\",\"name\":\"UnionRenderers\",\"id\":\"4482ee01-ed7b-43fa-8726-bee6c2ae668f\"},\"data\":{\"type\":\"map\",\"entries\":[[\"x\",{\"type\":\"ndarray\",\"array\":{\"type\":\"bytes\",\"data\":\"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\"},\"shape\":[10000],\"dtype\":\"float64\",\"order\":\"little\"}],[\"y\",{\"type\":\"ndarray\",\"array\":{\"type\":\"bytes\",\"data\":\"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\"},\"shape\":[10000],\"dtype\":\"float64\",\"order\":\"little\"}]]}}},\"view\":{\"type\":\"object\",\"name\":\"CDSView\",\"id\":\"9e813e1c-0b9a-4d42-ba76-167ab463ddd2\",\"attributes\":{\"filter\":{\"type\":\"object\",\"name\":\"AllIndices\",\"id\":\"db8559d1-e800-461a-ada6-10fcf74abcb3\"}}},\"glyph\":{\"type\":\"object\",\"name\":\"Scatter\",\"id\":\"f29ac922-24b8-44bd-acf7-e970c9ab6e97\",\"attributes\":{\"x\":{\"type\":\"field\",\"field\":\"x\"},\"y\":{\"type\":\"field\",\"field\":\"y\"},\"size\":{\"type\":\"value\",\"value\":1},\"line_color\":{\"type\":\"value\",\"value\":\"#1f77b4\"},\"line_alpha\":{\"type\":\"value\",\"value\":0},\"fill_color\":{\"type\":\"value\",\"value\":\"#1f77b4\"},\"fill_alpha\":{\"type\":\"value\",\"value\":0},\"hatch_alpha\":{\"type\":\"value\",\"value\":0}}},\"nonselection_glyph\":{\"type\":\"object\",\"name\":\"Scatter\",\"id\":\"ad41d355-1208-4877-8860-678372408670\",\"attributes\":{\"x\":{\"type\":\"field\",\"field\":\"x\"},\"y\":{\"type\":\"field\",\"field\":\"y\"},\"size\":{\"type\":\"value\",\"value\":1},\"line_color\":{\"type\":\"value\",\"value\":\"#1f77b4\"},\"line_alpha\":{\"type\":\"value\",\"value\":0.1},\"fill_color\":{\"type\":\"value\",\"value\":\"#1f77b4\"},\"fill_alpha\":{\"type\":\"value\",\"value\":0.1},\"hatch_alpha\":{\"type\":\"value\",\"value\":0.1}}},\"muted_glyph\":{\"type\":\"object\",\"name\":\"Scatter\",\"id\":\"347bcbfc-b993-43b1-af93-a41722b5506f\",\"attributes\":{\"x\":{\"type\":\"field\",\"field\":\"x\"},\"y\":{\"type\":\"field\",\"field\":\"y\"},\"size\":{\"type\":\"value\",\"value\":1},\"line_color\":{\"type\":\"value\",\"value\":\"#1f77b4\"},\"line_alpha\":{\"type\":\"value\",\"value\":0.2},\"fill_color\":{\"type\":\"value\",\"value\":\"#1f77b4\"},\"fill_alpha\":{\"type\":\"value\",\"value\":0.2},\"hatch_alpha\":{\"type\":\"value\",\"value\":0.2}}}}},{\"type\":\"object\",\"name\":\"GlyphRenderer\",\"id\":\"62a446b5-6716-4e13-83df-09907d962739\",\"attributes\":{\"data_source\":{\"type\":\"object\",\"name\":\"ColumnDataSource\",\"id\":\"6f7f519c-3e4b-4c9a-a29b-cb520ad265b5\",\"attributes\":{\"selected\":{\"type\":\"object\",\"name\":\"Selection\",\"id\":\"86489a52-54e1-4306-85ab-8d428d6d1b2e\",\"attributes\":{\"indices\":[],\"line_indices\":[]}},\"selection_policy\":{\"type\":\"object\",\"name\":\"UnionRenderers\",\"id\":\"a11b002e-678a-498a-a9be-271bdcabedc4\"},\"data\":{\"type\":\"map\",\"entries\":[[\"left\",[]],[\"right\",[]],[\"top\",[]],[\"bottom\",[]]]}}},\"view\":{\"type\":\"object\",\"name\":\"CDSView\",\"id\":\"0e8801bf-a152-421c-8300-9a660b373190\",\"attributes\":{\"filter\":{\"type\":\"object\",\"name\":\"AllIndices\",\"id\":\"e24491a2-9266-4c6e-97d2-ffd9a6547ec2\"}}},\"glyph\":{\"type\":\"object\",\"name\":\"Quad\",\"id\":\"d4948dce-78a3-4f4b-948b-04ba1c282bc4\",\"attributes\":{\"left\":{\"type\":\"field\",\"field\":\"left\"},\"right\":{\"type\":\"field\",\"field\":\"right\"},\"bottom\":{\"type\":\"field\",\"field\":\"bottom\"},\"top\":{\"type\":\"field\",\"field\":\"top\"},\"line_color\":{\"type\":\"value\",\"value\":\"lightblue\"},\"line_alpha\":{\"type\":\"value\",\"value\":0.3},\"fill_color\":{\"type\":\"value\",\"value\":\"lightblue\"},\"fill_alpha\":{\"type\":\"value\",\"value\":0.3},\"hatch_color\":{\"type\":\"value\",\"value\":\"lightblue\"},\"hatch_alpha\":{\"type\":\"value\",\"value\":0.3}}},\"nonselection_glyph\":{\"type\":\"object\",\"name\":\"Quad\",\"id\":\"0e8a5244-9a15-41e4-8b47-128a143a7196\",\"attributes\":{\"left\":{\"type\":\"field\",\"field\":\"left\"},\"right\":{\"type\":\"field\",\"field\":\"right\"},\"bottom\":{\"type\":\"field\",\"field\":\"bottom\"},\"top\":{\"type\":\"field\",\"field\":\"top\"},\"line_color\":{\"type\":\"value\",\"value\":\"lightblue\"},\"line_alpha\":{\"type\":\"value\",\"value\":0.1},\"fill_color\":{\"type\":\"value\",\"value\":\"lightblue\"},\"fill_alpha\":{\"type\":\"value\",\"value\":0.1},\"hatch_color\":{\"type\":\"value\",\"value\":\"lightblue\"},\"hatch_alpha\":{\"type\":\"value\",\"value\":0.1}}},\"muted_glyph\":{\"type\":\"object\",\"name\":\"Quad\",\"id\":\"af12a49a-847a-42f6-aebe-5c8966746444\",\"attributes\":{\"left\":{\"type\":\"field\",\"field\":\"left\"},\"right\":{\"type\":\"field\",\"field\":\"right\"},\"bottom\":{\"type\":\"field\",\"field\":\"bottom\"},\"top\":{\"type\":\"field\",\"field\":\"top\"},\"line_color\":{\"type\":\"value\",\"value\":\"lightblue\"},\"line_alpha\":{\"type\":\"value\",\"value\":0.2},\"fill_color\":{\"type\":\"value\",\"value\":\"lightblue\"},\"fill_alpha\":{\"type\":\"value\",\"value\":0.2},\"hatch_color\":{\"type\":\"value\",\"value\":\"lightblue\"},\"hatch_alpha\":{\"type\":\"value\",\"value\":0.2}}}}}],\"toolbar\":{\"type\":\"object\",\"name\":\"Toolbar\",\"id\":\"e9db7d42-8e66-46bd-b856-395e068e065f\",\"attributes\":{\"tools\":[{\"type\":\"object\",\"name\":\"BoxSelectTool\",\"id\":\"f89a2861-452d-4b5a-adb7-4e8f69df0d5c\",\"attributes\":{\"renderers\":\"auto\",\"overlay\":{\"type\":\"object\",\"name\":\"BoxAnnotation\",\"id\":\"81a1ac8a-fcb1-4f1f-b175-88024c033123\",\"attributes\":{\"syncable\":false,\"line_color\":\"black\",\"line_alpha\":1.0,\"line_width\":2,\"line_dash\":[4,4],\"fill_color\":\"lightgrey\",\"fill_alpha\":0.5,\"level\":\"overlay\",\"visible\":false,\"left\":{\"type\":\"number\",\"value\":\"nan\"},\"right\":{\"type\":\"number\",\"value\":\"nan\"},\"top\":{\"type\":\"number\",\"value\":\"nan\"},\"bottom\":{\"type\":\"number\",\"value\":\"nan\"},\"editable\":true,\"handles\":{\"type\":\"object\",\"name\":\"BoxInteractionHandles\",\"id\":\"4bd3cbc7-70e5-4559-86b3-f5c998553ccc\",\"attributes\":{\"all\":{\"type\":\"object\",\"name\":\"AreaVisuals\",\"id\":\"e0a73c16-d3a8-40be-ad2f-d21bbfde5a56\",\"attributes\":{\"fill_color\":\"white\",\"hover_fill_color\":\"lightgray\"}}}}}}}},{\"type\":\"object\",\"name\":\"ResetTool\",\"id\":\"b6f512b9-6bdf-4849-9529-69c631dd374f\"}]}},\"left\":[{\"type\":\"object\",\"name\":\"LinearAxis\",\"id\":\"c5657daa-5c19-4633-93c0-8ab7c03d076a\",\"attributes\":{\"ticker\":{\"type\":\"object\",\"name\":\"BasicTicker\",\"id\":\"165bdc03-3c49-4643-bf01-68b472700d3f\",\"attributes\":{\"mantissas\":[1,2,5]}},\"formatter\":{\"type\":\"object\",\"name\":\"BasicTickFormatter\",\"id\":\"14719aa5-0686-4e45-9d9a-8ed4d9e58590\"},\"axis_label\":\"Luminosity [erg / (Angstrom s)]\",\"major_label_policy\":{\"type\":\"object\",\"name\":\"AllLabels\",\"id\":\"3be717e4-fc3b-472b-8555-ee1ebfbf99ff\"}}}],\"below\":[{\"type\":\"object\",\"name\":\"LinearAxis\",\"id\":\"1858a1b2-b5b1-4e79-a97d-cb624a74e1c0\",\"attributes\":{\"ticker\":{\"type\":\"object\",\"name\":\"BasicTicker\",\"id\":\"df593627-243c-46ec-bffa-39492509611e\",\"attributes\":{\"mantissas\":[1,2,5]}},\"formatter\":{\"type\":\"object\",\"name\":\"BasicTickFormatter\",\"id\":\"6ecab7f5-f51d-46eb-84e1-147c7bd5e432\"},\"axis_label\":\"Wavelength [Angstrom]\",\"major_label_policy\":{\"type\":\"object\",\"name\":\"AllLabels\",\"id\":\"b808da00-8229-44d3-8c10-9584ae1c23f9\"}}}],\"center\":[{\"type\":\"object\",\"name\":\"Grid\",\"id\":\"c26094ce-0350-4791-9da4-338801efc73b\",\"attributes\":{\"axis\":{\"id\":\"1858a1b2-b5b1-4e79-a97d-cb624a74e1c0\"}}},{\"type\":\"object\",\"name\":\"Grid\",\"id\":\"51de7423-61ef-44c5-926b-fcf246c9ff46\",\"attributes\":{\"dimension\":1,\"axis\":{\"id\":\"c5657daa-5c19-4633-93c0-8ab7c03d076a\"}}},{\"type\":\"object\",\"name\":\"Legend\",\"id\":\"1f987cb8-b565-4b21-b15b-71061aa1ec55\",\"attributes\":{\"items\":[{\"type\":\"object\",\"name\":\"LegendItem\",\"id\":\"9656b2e6-1e8f-473c-92ca-e5d88c570797\",\"attributes\":{\"label\":{\"type\":\"value\",\"value\":\"Real packets\"},\"renderers\":[{\"id\":\"71c3528b-9e7d-40c1-9947-2d151ca97429\"}]}},{\"type\":\"object\",\"name\":\"LegendItem\",\"id\":\"cf3220e9-1384-447a-8350-f8b3da762637\",\"attributes\":{\"label\":{\"type\":\"value\",\"value\":\"Virtual packets\"},\"renderers\":[{\"id\":\"0c2047e2-b1c6-48bd-8e46-fcd7b42eda84\"}]}}]}}]}},{\"type\":\"object\",\"name\":\"Row\",\"id\":\"b480d4bc-d7cf-4323-a8dc-d4157d62805d\",\"attributes\":{\"name\":\"Row00180\",\"stylesheets\":[\"\\n:host(.pn-loading):before, .pn-loading:before {\\n  background-color: #c3c3c3;\\n  mask-size: auto calc(min(50%, 400px));\\n  -webkit-mask-size: auto calc(min(50%, 400px));\\n}\",{\"id\":\"570eab60-dc91-438b-88c1-b6cccc15af14\"},{\"id\":\"dd55ead0-f55d-49c7-90d7-e7eb410a19da\"},{\"id\":\"9cc3f564-8cdd-45bb-9890-4469153e13f1\"},{\"id\":\"a3fbf805-8584-4826-b478-02733c3ce9d5\"},{\"id\":\"31b79314-f190-4e7a-ac2a-a69c5b68a0f1\"}],\"min_width\":330,\"margin\":0,\"sizing_mode\":\"stretch_width\",\"align\":\"start\",\"children\":[{\"type\":\"object\",\"name\":\"panel.models.layout.Column\",\"id\":\"00416fdb-16ab-4c05-885e-3bd2a8394919\",\"attributes\":{\"name\":\"Column00178\",\"stylesheets\":[\"\\n:host(.pn-loading):before, .pn-loading:before {\\n  background-color: #c3c3c3;\\n  mask-size: auto calc(min(50%, 400px));\\n  -webkit-mask-size: auto calc(min(50%, 400px));\\n}\",{\"id\":\"570eab60-dc91-438b-88c1-b6cccc15af14\"},{\"id\":\"dd55ead0-f55d-49c7-90d7-e7eb410a19da\"},{\"id\":\"9cc3f564-8cdd-45bb-9890-4469153e13f1\"},{\"id\":\"a3fbf805-8584-4826-b478-02733c3ce9d5\"},{\"id\":\"31b79314-f190-4e7a-ac2a-a69c5b68a0f1\"}],\"margin\":[0,15],\"sizing_mode\":\"stretch_width\",\"align\":\"start\",\"children\":[{\"type\":\"object\",\"name\":\"panel.models.markup.HTML\",\"id\":\"1490f69c-49bc-4f35-858b-85348b6ea05a\",\"attributes\":{\"stylesheets\":[\"\\n:host(.pn-loading):before, .pn-loading:before {\\n  background-color: #c3c3c3;\\n  mask-size: auto calc(min(50%, 400px));\\n  -webkit-mask-size: auto calc(min(50%, 400px));\\n}\",{\"id\":\"570eab60-dc91-438b-88c1-b6cccc15af14\"},{\"id\":\"dd55ead0-f55d-49c7-90d7-e7eb410a19da\"},{\"id\":\"a3fbf805-8584-4826-b478-02733c3ce9d5\"},{\"id\":\"31b79314-f190-4e7a-ac2a-a69c5b68a0f1\"}],\"margin\":[5,10],\"align\":\"start\",\"text\":\"&lt;span style=&#x27;font-size: 1.15em;&#x27;&gt;Filter selected wavelength range ( &lt;span style=&#x27;display: inline-block; background-color: lightpink; border: 1px solid salmon; width: 0.8em; height: 1.2em; vertical-align: middle;&#x27;&gt;&lt;/span&gt; ) by:&lt;/span&gt;\",\"disable_math\":true}},{\"type\":\"object\",\"name\":\"panel.models.widgets.RadioButtonGroup\",\"id\":\"ee6baa5e-34d7-4392-aa5e-c12890cdc7b1\",\"attributes\":{\"css_classes\":[\"solid\"],\"stylesheets\":[\"\\n:host(.pn-loading):before, .pn-loading:before {\\n  background-color: #c3c3c3;\\n  mask-size: auto calc(min(50%, 400px));\\n  -webkit-mask-size: auto calc(min(50%, 400px));\\n}\",{\"id\":\"570eab60-dc91-438b-88c1-b6cccc15af14\"},{\"id\":\"dd55ead0-f55d-49c7-90d7-e7eb410a19da\"},{\"type\":\"object\",\"name\":\"ImportedStyleSheet\",\"id\":\"d8640f9a-2d1e-4843-93c4-cb5701c31fa1\",\"attributes\":{\"url\":\"https://cdn.holoviz.org/panel/1.7.1/dist/css/button.css\"}},{\"id\":\"a3fbf805-8584-4826-b478-02733c3ce9d5\"},{\"id\":\"31b79314-f190-4e7a-ac2a-a69c5b68a0f1\"}],\"margin\":[5,10],\"align\":\"start\",\"labels\":[\"Emitted Wavelength\",\"Absorbed Wavelength\"],\"active\":0}},{\"type\":\"object\",\"name\":\"panel.models.tabulator.DataTabulator\",\"id\":\"47155e20-f021-4431-abc0-448ef552afbc\",\"attributes\":{\"subscribed_events\":{\"type\":\"set\",\"entries\":[\"cell-click\",\"table-edit\",\"selection-change\"]},\"stylesheets\":[\"\\n:host(.pn-loading):before, .pn-loading:before {\\n  background-color: #c3c3c3;\\n  mask-size: auto calc(min(50%, 400px));\\n  -webkit-mask-size: auto calc(min(50%, 400px));\\n}\",{\"id\":\"570eab60-dc91-438b-88c1-b6cccc15af14\"},{\"id\":\"dd55ead0-f55d-49c7-90d7-e7eb410a19da\"},{\"id\":\"dd55ead0-f55d-49c7-90d7-e7eb410a19da\"},{\"id\":\"a3fbf805-8584-4826-b478-02733c3ce9d5\"},{\"id\":\"31b79314-f190-4e7a-ac2a-a69c5b68a0f1\"},{\"type\":\"object\",\"name\":\"ImportedStyleSheet\",\"id\":\"cddb1fe7-58f8-4fce-b216-37feda6d8b6d\",\"attributes\":{\"url\":\"https://cdn.holoviz.org/panel/1.7.1/dist/bundled/datatabulator/tabulator-tables@6.3.1/dist/css/tabulator_simple.min.css\"}}],\"height\":200,\"min_width\":0,\"margin\":[5,10],\"sizing_mode\":\"stretch_width\",\"align\":\"start\",\"configuration\":{\"type\":\"map\",\"entries\":[[\"selectable\",\"highlight\"],[\"selectableRangeMode\",\"click\"],[\"columns\",[{\"type\":\"map\",\"entries\":[[\"field\",\"Species\"]]},{\"type\":\"map\",\"entries\":[[\"field\",\"Fraction of packets interacting\"]]}]],[\"dataTree\",false],[\"height\",200]]},\"columns\":[{\"type\":\"object\",\"name\":\"TableColumn\",\"id\":\"e69e8540-cea9-48dd-bd3e-3d08dd9fe466\",\"attributes\":{\"field\":\"Species\",\"title\":\"Species\",\"width\":0,\"formatter\":{\"type\":\"object\",\"name\":\"StringFormatter\",\"id\":\"be425771-8a15-463c-b5f4-860c835cac56\",\"attributes\":{\"null_format\":\"\"}},\"editor\":{\"type\":\"object\",\"name\":\"CellEditor\",\"id\":\"ce2ea9ab-43cb-4c15-9b01-b95c6aac7f3e\"}}},{\"type\":\"object\",\"name\":\"TableColumn\",\"id\":\"93d1cb16-2421-4c28-bdeb-ce72192b29a7\",\"attributes\":{\"field\":\"Fraction of packets interacting\",\"title\":\"Fraction of packets interacting\",\"width\":0,\"formatter\":{\"type\":\"object\",\"name\":\"StringFormatter\",\"id\":\"030529a1-26b9-45ee-9c0a-7caccfff40f9\",\"attributes\":{\"null_format\":\"\"}},\"editor\":{\"type\":\"object\",\"name\":\"StringEditor\",\"id\":\"b7daad88-886b-4d59-b30a-c782e3449822\"}}}],\"editable\":false,\"indexes\":[\"Species\"],\"layout\":\"fit_data_table\",\"source\":{\"type\":\"object\",\"name\":\"ColumnDataSource\",\"id\":\"d5d2c5d8-f57a-4c33-9896-0136c3ec1160\",\"attributes\":{\"selected\":{\"type\":\"object\",\"name\":\"Selection\",\"id\":\"24e8ada0-821f-4ab8-aadd-bffc4b6665e6\",\"attributes\":{\"indices\":[],\"line_indices\":[]}},\"selection_policy\":{\"type\":\"object\",\"name\":\"UnionRenderers\",\"id\":\"d0278dc2-6b4a-46dc-b2ca-96c22626ebbb\"},\"data\":{\"type\":\"map\",\"entries\":[[\"Species\",{\"type\":\"ndarray\",\"array\":[\"\"],\"shape\":[1],\"dtype\":\"object\",\"order\":\"little\"}],[\"Fraction of packets interacting\",{\"type\":\"ndarray\",\"array\":[\"\"],\"shape\":[1],\"dtype\":\"object\",\"order\":\"little\"}]]}}},\"cell_styles\":{\"type\":\"map\",\"entries\":[[\"id\",\"7c3ba95ef0dc4e38870b74184a9074fa\"],[\"data\",{\"type\":\"map\"}]]},\"pagination\":\"remote\",\"page\":1,\"page_size\":9,\"max_page\":1,\"select_mode\":true,\"selectable_rows\":null}}]}},{\"type\":\"object\",\"name\":\"panel.models.layout.Column\",\"id\":\"9fdbd5a6-71e0-4814-9024-2699604aa32b\",\"attributes\":{\"name\":\"Column00179\",\"stylesheets\":[\"\\n:host(.pn-loading):before, .pn-loading:before {\\n  background-color: #c3c3c3;\\n  mask-size: auto calc(min(50%, 400px));\\n  -webkit-mask-size: auto calc(min(50%, 400px));\\n}\",{\"id\":\"570eab60-dc91-438b-88c1-b6cccc15af14\"},{\"id\":\"dd55ead0-f55d-49c7-90d7-e7eb410a19da\"},{\"id\":\"9cc3f564-8cdd-45bb-9890-4469153e13f1\"},{\"id\":\"a3fbf805-8584-4826-b478-02733c3ce9d5\"},{\"id\":\"31b79314-f190-4e7a-ac2a-a69c5b68a0f1\"}],\"min_width\":330,\"margin\":[0,15],\"sizing_mode\":\"stretch_width\",\"align\":\"start\",\"children\":[{\"type\":\"object\",\"name\":\"panel.models.markup.HTML\",\"id\":\"ed733179-c592-4bc6-8a51-217012d83b04\",\"attributes\":{\"stylesheets\":[\"\\n:host(.pn-loading):before, .pn-loading:before {\\n  background-color: #c3c3c3;\\n  mask-size: auto calc(min(50%, 400px));\\n  -webkit-mask-size: auto calc(min(50%, 400px));\\n}\",{\"id\":\"570eab60-dc91-438b-88c1-b6cccc15af14\"},{\"id\":\"dd55ead0-f55d-49c7-90d7-e7eb410a19da\"},{\"id\":\"a3fbf805-8584-4826-b478-02733c3ce9d5\"},{\"id\":\"31b79314-f190-4e7a-ac2a-a69c5b68a0f1\"}],\"margin\":[5,10],\"align\":\"start\",\"text\":\"&lt;span style=&#x27;font-size: 1.15em;&#x27;&gt;Group packet counts by:&lt;/span&gt;\",\"disable_math\":true}},{\"type\":\"object\",\"name\":\"panel.models.widgets.CustomSelect\",\"id\":\"2df4f934-f6cb-4e07-820d-6abab99742e8\",\"attributes\":{\"stylesheets\":[\"\\n:host(.pn-loading):before, .pn-loading:before {\\n  background-color: #c3c3c3;\\n  mask-size: auto calc(min(50%, 400px));\\n  -webkit-mask-size: auto calc(min(50%, 400px));\\n}\",{\"id\":\"570eab60-dc91-438b-88c1-b6cccc15af14\"},{\"id\":\"dd55ead0-f55d-49c7-90d7-e7eb410a19da\"},{\"type\":\"object\",\"name\":\"ImportedStyleSheet\",\"id\":\"262b9c57-5c84-4e8e-8014-3d128cbb1856\",\"attributes\":{\"url\":\"https://cdn.holoviz.org/panel/1.7.1/dist/css/select.css\"}},{\"id\":\"a3fbf805-8584-4826-b478-02733c3ce9d5\"},{\"id\":\"31b79314-f190-4e7a-ac2a-a69c5b68a0f1\"}],\"width\":300,\"min_width\":300,\"margin\":[5,10],\"align\":\"start\",\"options\":[\"Both excitation line (absorption) and de-excitation line (emission)\",\"Only excitation line (absorption)\",\"Only de-excitation line (emission)\"],\"value\":\"Both excitation line (absorption) and de-excitation line (emission)\"}},{\"type\":\"object\",\"name\":\"panel.models.tabulator.DataTabulator\",\"id\":\"59a39413-e84e-4154-9f1e-cde8b3ea0b5d\",\"attributes\":{\"subscribed_events\":{\"type\":\"set\",\"entries\":[\"cell-click\",\"table-edit\",\"selection-change\"]},\"stylesheets\":[\"\\n:host(.pn-loading):before, .pn-loading:before {\\n  background-color: #c3c3c3;\\n  mask-size: auto calc(min(50%, 400px));\\n  -webkit-mask-size: auto calc(min(50%, 400px));\\n}\",{\"id\":\"570eab60-dc91-438b-88c1-b6cccc15af14\"},{\"id\":\"dd55ead0-f55d-49c7-90d7-e7eb410a19da\"},{\"id\":\"dd55ead0-f55d-49c7-90d7-e7eb410a19da\"},{\"id\":\"a3fbf805-8584-4826-b478-02733c3ce9d5\"},{\"id\":\"31b79314-f190-4e7a-ac2a-a69c5b68a0f1\"},{\"id\":\"cddb1fe7-58f8-4fce-b216-37feda6d8b6d\"}],\"height\":200,\"min_width\":0,\"margin\":[5,10],\"sizing_mode\":\"stretch_width\",\"align\":\"start\",\"configuration\":{\"type\":\"map\",\"entries\":[[\"selectable\",\"highlight\"],[\"selectableRangeMode\",\"click\"],[\"columns\",[{\"type\":\"map\",\"entries\":[[\"field\",\"Last Line Interaction\"]]},{\"type\":\"map\",\"entries\":[[\"field\",\"No. of packets\"]]}]],[\"dataTree\",false],[\"height\",200]]},\"columns\":[{\"type\":\"object\",\"name\":\"TableColumn\",\"id\":\"4d7ee99d-b3e4-46f9-8148-75ec0eb8392b\",\"attributes\":{\"field\":\"Last Line Interaction\",\"title\":\"Last Line Interaction\",\"width\":0,\"formatter\":{\"type\":\"object\",\"name\":\"StringFormatter\",\"id\":\"4016cd6f-ade1-40d3-9467-089b755632b5\",\"attributes\":{\"null_format\":\"\"}},\"editor\":{\"type\":\"object\",\"name\":\"CellEditor\",\"id\":\"d36a8ecc-c65b-4429-9d97-15b89adeabc8\"}}},{\"type\":\"object\",\"name\":\"TableColumn\",\"id\":\"50993d1b-f53e-43ed-bcb8-b816c3256e64\",\"attributes\":{\"field\":\"No. of packets\",\"title\":\"No. of packets\",\"width\":0,\"formatter\":{\"type\":\"object\",\"name\":\"StringFormatter\",\"id\":\"5a77cd67-24ea-4b81-8169-ec962b9bf222\",\"attributes\":{\"null_format\":\"\"}},\"editor\":{\"type\":\"object\",\"name\":\"StringEditor\",\"id\":\"4da5980b-9649-4150-8ef4-16fd156bd21e\"}}}],\"editable\":false,\"indexes\":[\"Last Line Interaction\"],\"layout\":\"fit_data_table\",\"source\":{\"type\":\"object\",\"name\":\"ColumnDataSource\",\"id\":\"50c3bc89-b8f8-4f10-8bd5-9243a4fc14f2\",\"attributes\":{\"selected\":{\"type\":\"object\",\"name\":\"Selection\",\"id\":\"67ea8665-a517-4cfc-95d5-b873f89cf955\",\"attributes\":{\"indices\":[],\"line_indices\":[]}},\"selection_policy\":{\"type\":\"object\",\"name\":\"UnionRenderers\",\"id\":\"fe5d5f67-d3f3-4392-973f-29792b6c8915\"},\"data\":{\"type\":\"map\",\"entries\":[[\"Last Line Interaction\",{\"type\":\"ndarray\",\"array\":[\"\"],\"shape\":[1],\"dtype\":\"object\",\"order\":\"little\"}],[\"No. of packets\",{\"type\":\"ndarray\",\"array\":[\"\"],\"shape\":[1],\"dtype\":\"object\",\"order\":\"little\"}]]}}},\"cell_styles\":{\"type\":\"map\",\"entries\":[[\"id\",\"f75a671206754b5990f598f0508ca4f2\"],[\"data\",{\"type\":\"map\"}]]},\"pagination\":\"remote\",\"page\":1,\"page_size\":9,\"max_page\":1,\"select_mode\":true,\"selectable_rows\":null}},{\"type\":\"object\",\"name\":\"Row\",\"id\":\"c18137a7-d8ab-4afa-bacb-27771db36af8\",\"attributes\":{\"name\":\"Row00169\",\"stylesheets\":[\"\\n:host(.pn-loading):before, .pn-loading:before {\\n  background-color: #c3c3c3;\\n  mask-size: auto calc(min(50%, 400px));\\n  -webkit-mask-size: auto calc(min(50%, 400px));\\n}\",{\"id\":\"570eab60-dc91-438b-88c1-b6cccc15af14\"},{\"id\":\"dd55ead0-f55d-49c7-90d7-e7eb410a19da\"},{\"id\":\"9cc3f564-8cdd-45bb-9890-4469153e13f1\"},{\"id\":\"a3fbf805-8584-4826-b478-02733c3ce9d5\"},{\"id\":\"31b79314-f190-4e7a-ac2a-a69c5b68a0f1\"}],\"min_width\":0,\"margin\":0,\"sizing_mode\":\"stretch_width\",\"align\":\"start\",\"children\":[{\"type\":\"object\",\"name\":\"panel.models.markup.HTML\",\"id\":\"158ddf68-838a-4d7c-9677-c2a257457a45\",\"attributes\":{\"stylesheets\":[\"\\n:host(.pn-loading):before, .pn-loading:before {\\n  background-color: #c3c3c3;\\n  mask-size: auto calc(min(50%, 400px));\\n  -webkit-mask-size: auto calc(min(50%, 400px));\\n}\",{\"id\":\"570eab60-dc91-438b-88c1-b6cccc15af14\"},{\"id\":\"dd55ead0-f55d-49c7-90d7-e7eb410a19da\"},{\"id\":\"a3fbf805-8584-4826-b478-02733c3ce9d5\"},{\"id\":\"31b79314-f190-4e7a-ac2a-a69c5b68a0f1\"}],\"min_width\":0,\"margin\":[5,10],\"sizing_mode\":\"stretch_width\",\"align\":\"start\",\"text\":\"&lt;div style=&#x27;text-align:right; padding:0px 2px; margin:0px;&#x27;&gt; &lt;b&gt;Total Packets:&lt;/b&gt; &lt;/div&gt;\",\"disable_math\":true}},{\"type\":\"object\",\"name\":\"panel.models.markup.HTML\",\"id\":\"01e129a2-f3ab-4fbd-9ff7-31ad6c9e217e\",\"attributes\":{\"stylesheets\":[\"\\n:host(.pn-loading):before, .pn-loading:before {\\n  background-color: #c3c3c3;\\n  mask-size: auto calc(min(50%, 400px));\\n  -webkit-mask-size: auto calc(min(50%, 400px));\\n}\",{\"id\":\"570eab60-dc91-438b-88c1-b6cccc15af14\"},{\"id\":\"dd55ead0-f55d-49c7-90d7-e7eb410a19da\"},{\"id\":\"a3fbf805-8584-4826-b478-02733c3ce9d5\"},{\"id\":\"31b79314-f190-4e7a-ac2a-a69c5b68a0f1\"}],\"min_width\":0,\"margin\":[5,10],\"sizing_mode\":\"stretch_width\",\"align\":\"start\",\"text\":\"&lt;div style=&#x27;padding:0px 2px; margin:0px;&#x27;&gt;0&lt;/div&gt;\",\"disable_math\":true}}]}}]}}]}}]}},{\"type\":\"object\",\"name\":\"panel.models.comm_manager.CommManager\",\"id\":\"388317c7-3ac8-484d-b6e5-45b65cfb890d\",\"attributes\":{\"plot_id\":\"ef000a12-df7e-4059-a934-5d818a1f6226\",\"comm_id\":\"868183b74dc7424ca1e887b4f70f891c\",\"client_comm_id\":\"a8669647cbb140baab13a555037489a2\"}}],\"defs\":[{\"type\":\"model\",\"name\":\"ReactiveHTML1\"},{\"type\":\"model\",\"name\":\"FlexBox1\",\"properties\":[{\"name\":\"align_content\",\"kind\":\"Any\",\"default\":\"flex-start\"},{\"name\":\"align_items\",\"kind\":\"Any\",\"default\":\"flex-start\"},{\"name\":\"flex_direction\",\"kind\":\"Any\",\"default\":\"row\"},{\"name\":\"flex_wrap\",\"kind\":\"Any\",\"default\":\"wrap\"},{\"name\":\"gap\",\"kind\":\"Any\",\"default\":\"\"},{\"name\":\"justify_content\",\"kind\":\"Any\",\"default\":\"flex-start\"}]},{\"type\":\"model\",\"name\":\"FloatPanel1\",\"properties\":[{\"name\":\"config\",\"kind\":\"Any\",\"default\":{\"type\":\"map\"}},{\"name\":\"contained\",\"kind\":\"Any\",\"default\":true},{\"name\":\"position\",\"kind\":\"Any\",\"default\":\"right-top\"},{\"name\":\"offsetx\",\"kind\":\"Any\",\"default\":null},{\"name\":\"offsety\",\"kind\":\"Any\",\"default\":null},{\"name\":\"theme\",\"kind\":\"Any\",\"default\":\"primary\"},{\"name\":\"status\",\"kind\":\"Any\",\"default\":\"normalized\"}]},{\"type\":\"model\",\"name\":\"GridStack1\",\"properties\":[{\"name\":\"ncols\",\"kind\":\"Any\",\"default\":null},{\"name\":\"nrows\",\"kind\":\"Any\",\"default\":null},{\"name\":\"allow_resize\",\"kind\":\"Any\",\"default\":true},{\"name\":\"allow_drag\",\"kind\":\"Any\",\"default\":true},{\"name\":\"state\",\"kind\":\"Any\",\"default\":[]}]},{\"type\":\"model\",\"name\":\"drag1\",\"properties\":[{\"name\":\"slider_width\",\"kind\":\"Any\",\"default\":5},{\"name\":\"slider_color\",\"kind\":\"Any\",\"default\":\"black\"},{\"name\":\"value\",\"kind\":\"Any\",\"default\":50}]},{\"type\":\"model\",\"name\":\"click1\",\"properties\":[{\"name\":\"terminal_output\",\"kind\":\"Any\",\"default\":\"\"},{\"name\":\"debug_name\",\"kind\":\"Any\",\"default\":\"\"},{\"name\":\"clears\",\"kind\":\"Any\",\"default\":0}]},{\"type\":\"model\",\"name\":\"FastWrapper1\",\"properties\":[{\"name\":\"object\",\"kind\":\"Any\",\"default\":null},{\"name\":\"style\",\"kind\":\"Any\",\"default\":null}]},{\"type\":\"model\",\"name\":\"NotificationArea1\",\"properties\":[{\"name\":\"js_events\",\"kind\":\"Any\",\"default\":{\"type\":\"map\"}},{\"name\":\"max_notifications\",\"kind\":\"Any\",\"default\":5},{\"name\":\"notifications\",\"kind\":\"Any\",\"default\":[]},{\"name\":\"position\",\"kind\":\"Any\",\"default\":\"bottom-right\"},{\"name\":\"_clear\",\"kind\":\"Any\",\"default\":0},{\"name\":\"types\",\"kind\":\"Any\",\"default\":[{\"type\":\"map\",\"entries\":[[\"type\",\"warning\"],[\"background\",\"#ffc107\"],[\"icon\",{\"type\":\"map\",\"entries\":[[\"className\",\"fas fa-exclamation-triangle\"],[\"tagName\",\"i\"],[\"color\",\"white\"]]}]]},{\"type\":\"map\",\"entries\":[[\"type\",\"info\"],[\"background\",\"#007bff\"],[\"icon\",{\"type\":\"map\",\"entries\":[[\"className\",\"fas fa-info-circle\"],[\"tagName\",\"i\"],[\"color\",\"white\"]]}]]}]}]},{\"type\":\"model\",\"name\":\"Notification\",\"properties\":[{\"name\":\"background\",\"kind\":\"Any\",\"default\":null},{\"name\":\"duration\",\"kind\":\"Any\",\"default\":3000},{\"name\":\"icon\",\"kind\":\"Any\",\"default\":null},{\"name\":\"message\",\"kind\":\"Any\",\"default\":\"\"},{\"name\":\"notification_type\",\"kind\":\"Any\",\"default\":null},{\"name\":\"_rendered\",\"kind\":\"Any\",\"default\":false},{\"name\":\"_destroyed\",\"kind\":\"Any\",\"default\":false}]},{\"type\":\"model\",\"name\":\"TemplateActions1\",\"properties\":[{\"name\":\"open_modal\",\"kind\":\"Any\",\"default\":0},{\"name\":\"close_modal\",\"kind\":\"Any\",\"default\":0}]},{\"type\":\"model\",\"name\":\"BootstrapTemplateActions1\",\"properties\":[{\"name\":\"open_modal\",\"kind\":\"Any\",\"default\":0},{\"name\":\"close_modal\",\"kind\":\"Any\",\"default\":0}]},{\"type\":\"model\",\"name\":\"TemplateEditor1\",\"properties\":[{\"name\":\"layout\",\"kind\":\"Any\",\"default\":[]}]},{\"type\":\"model\",\"name\":\"MaterialTemplateActions1\",\"properties\":[{\"name\":\"open_modal\",\"kind\":\"Any\",\"default\":0},{\"name\":\"close_modal\",\"kind\":\"Any\",\"default\":0}]},{\"type\":\"model\",\"name\":\"ReactiveESM1\",\"properties\":[{\"name\":\"esm_constants\",\"kind\":\"Any\",\"default\":{\"type\":\"map\"}}]},{\"type\":\"model\",\"name\":\"JSComponent1\",\"properties\":[{\"name\":\"esm_constants\",\"kind\":\"Any\",\"default\":{\"type\":\"map\"}}]},{\"type\":\"model\",\"name\":\"ReactComponent1\",\"properties\":[{\"name\":\"esm_constants\",\"kind\":\"Any\",\"default\":{\"type\":\"map\"}}]},{\"type\":\"model\",\"name\":\"AnyWidgetComponent1\",\"properties\":[{\"name\":\"esm_constants\",\"kind\":\"Any\",\"default\":{\"type\":\"map\"}}]},{\"type\":\"model\",\"name\":\"request_value1\",\"properties\":[{\"name\":\"fill\",\"kind\":\"Any\",\"default\":\"none\"},{\"name\":\"_synced\",\"kind\":\"Any\",\"default\":null},{\"name\":\"_request_sync\",\"kind\":\"Any\",\"default\":0}]}]}};\n",
       "  var render_items = [{\"docid\":\"26407682-337c-4e07-a1ed-e384a9d7b893\",\"roots\":{\"ef000a12-df7e-4059-a934-5d818a1f6226\":\"ae31a850-bf02-4dfb-88ad-3e8fe5e49483\"},\"root_ids\":[\"ef000a12-df7e-4059-a934-5d818a1f6226\"]}];\n",
       "  var docs = Object.values(docs_json)\n",
       "  if (!docs) {\n",
       "    return\n",
       "  }\n",
       "  const py_version = docs[0].version.replace('rc', '-rc.').replace('.dev', '-dev.')\n",
       "  async function embed_document(root) {\n",
       "    var Bokeh = get_bokeh(root)\n",
       "    await Bokeh.embed.embed_items_notebook(docs_json, render_items);\n",
       "    for (const render_item of render_items) {\n",
       "      for (const root_id of render_item.root_ids) {\n",
       "\tconst id_el = document.getElementById(root_id)\n",
       "\tif (id_el.children.length && id_el.children[0].hasAttribute('data-root-id')) {\n",
       "\t  const root_el = id_el.children[0]\n",
       "\t  root_el.id = root_el.id + '-rendered'\n",
       "\t  for (const child of root_el.children) {\n",
       "            // Ensure JupyterLab does not capture keyboard shortcuts\n",
       "            // see: https://jupyterlab.readthedocs.io/en/4.1.x/extension/notebook.html#keyboard-interaction-model\n",
       "\t    child.setAttribute('data-lm-suppress-shortcuts', 'true')\n",
       "\t  }\n",
       "\t}\n",
       "      }\n",
       "    }\n",
       "  }\n",
       "  function get_bokeh(root) {\n",
       "    if (root.Bokeh === undefined) {\n",
       "      return null\n",
       "    } else if (root.Bokeh.version !== py_version) {\n",
       "      if (root.Bokeh.versions === undefined || !root.Bokeh.versions.has(py_version)) {\n",
       "\treturn null\n",
       "      }\n",
       "      return root.Bokeh.versions.get(py_version);\n",
       "    } else if (root.Bokeh.version === py_version) {\n",
       "      return root.Bokeh\n",
       "    }\n",
       "    return null\n",
       "  }\n",
       "  function is_loaded(root) {\n",
       "    var Bokeh = get_bokeh(root)\n",
       "    return (Bokeh != null && Bokeh.Panel !== undefined && ( root.Tabulator !== undefined) && ( root.Plotly !== undefined) && ( root.Tabulator !== undefined) && ( root.Plotly !== undefined))\n",
       "  }\n",
       "  if (is_loaded(root)) {\n",
       "    embed_document(root);\n",
       "  } else {\n",
       "    var attempts = 0;\n",
       "    var timer = setInterval(function(root) {\n",
       "      if (is_loaded(root)) {\n",
       "        clearInterval(timer);\n",
       "        embed_document(root);\n",
       "      } else if (document.readyState == \"complete\") {\n",
       "        attempts++;\n",
       "        if (attempts > 200) {\n",
       "          clearInterval(timer);\n",
       "\t  var Bokeh = get_bokeh(root)\n",
       "\t  if (Bokeh == null || Bokeh.Panel == null) {\n",
       "            console.warn(\"Panel: ERROR: Unable to run Panel code because Bokeh or Panel library is missing\");\n",
       "\t  } else {\n",
       "\t    console.warn(\"Panel: WARNING: Attempting to render but not all required libraries could be resolved.\")\n",
       "\t    embed_document(root)\n",
       "\t  }\n",
       "        }\n",
       "      }\n",
       "    }, 25, root)\n",
       "  }\n",
       "})(window);</script>"
      ],
      "text/plain": [
       "Column(sizing_mode='stretch_width')\n",
       "    [0] Bokeh(figure)\n",
       "    [1] Row(sizing_mode='stretch_width')\n",
       "        [0] Column(margin=(0, 15))\n",
       "            [0] HTML(str)\n",
       "            [1] RadioButtonGroup(options=['Emitted Wavelength', ...], value='Emitted Wavelength')\n",
       "            [2] Tabulator(disabled=True, height=200, page_size=9, pagination='remote', sizing_mode='stretch_width', value=        Fraction o...)\n",
       "        [1] Column(margin=(0, 15))\n",
       "            [0] HTML(str)\n",
       "            [1] Select(options=['Both excitation line (ab...], value='Both excitation l...)\n",
       "            [2] Tabulator(disabled=True, height=200, page_size=9, pagination='remote', sizing_mode='stretch_width', value=              ...)\n",
       "            [3] Row(sizing_mode='stretch_width')\n",
       "                [0] HTML(str, sizing_mode='stretch_width')\n",
       "                [1] HTML(str, sizing_mode='stretch_width')"
      ]
     },
     "execution_count": 5,
     "metadata": {
      "application/vnd.holoviews_exec.v0+json": {
       "id": "ef000a12-df7e-4059-a934-5d818a1f6226"
      }
     },
     "output_type": "execute_result"
    }
   ],
   "source": [
    "line_info_widget = LineInfoWidget.from_simulation(sim)\n",
    "line_info_widget.display()"
   ]
  },
  {
   "cell_type": "markdown",
   "metadata": {},
   "source": [
    "You can interact with this widget (which again won't be visible if you're viewing this notebook in our docs as an html page) like this:\n",
    "\n",
    "![Line Info Widget Demo](../images/line_info_widget_demo.gif)\n"
   ]
  },
  {
   "cell_type": "markdown",
   "metadata": {},
   "source": [
    "<div class=\"alert alert-info\">\n",
    "\n",
    "Note\n",
    "\n",
    "The virtual packet logging capability must be active in order to produce virtual packets' spectrum in `Line Info Widget`. Thus, make sure to set `virtual_packet_logging: True` in your configuration file. It should be added under `virtual` property of `spectrum` property, as described in [configuration schema](https://tardis-sn.github.io/tardis/using/components/configuration/configuration.html#spectrum).\n",
    "\n",
    "</div>\n"
   ]
  },
  {
   "cell_type": "markdown",
   "metadata": {},
   "source": [
    "## Energy Level Diagram\n",
    "\n",
    "This widget lets you explore and visualize the various level populations and line interactions in a simulation in the form of an Energy Level Diagram.\n",
    "\n",
    "You can select any ion present in the simulation and filter the transitions by wavelength or model shell to display an energy level diagram, where:\n",
    "\n",
    "- The horizontal lines represent the energy levels. The thickness of each line shows the relative population of that energy level, with thicker lines being more populated.\n",
    "- The arrows represent the line interactions between levels, with the arrow direction giving the direction of the transition. The thickness of each arrow also shows the number of packets that underwent the transition while the wavelength is given by the color.\n",
    "\n",
    "In addition, you can also select between linear- and log-scaling for the y-axis (which represents the energy of each level) and the maximum number of levels to display, beginning from the lowest energy levels.\n"
   ]
  },
  {
   "cell_type": "markdown",
   "metadata": {},
   "source": [
    "<div class=\"alert alert-info\">\n",
    "\n",
    "**Note for Documentation Viewers**\n",
    "\n",
    "The interactive widget below will not function in the published documentation. To use this widget, please run this notebook locally in a Jupyter environment with TARDIS installed.\n",
    "\n",
    "</div>"
   ]
  },
  {
   "cell_type": "markdown",
   "metadata": {},
   "source": [
    "To generate the energy level diagram, we will again use the simulation object `sim` and then display the widget:\n"
   ]
  },
  {
   "cell_type": "code",
   "execution_count": 6,
   "metadata": {
    "execution": {
     "iopub.execute_input": "2025-08-26T15:03:32.183323Z",
     "iopub.status.busy": "2025-08-26T15:03:32.182506Z",
     "iopub.status.idle": "2025-08-26T15:03:32.849959Z",
     "shell.execute_reply": "2025-08-26T15:03:32.849477Z"
    }
   },
   "outputs": [
    {
     "name": "stdout",
     "output_type": "stream",
     "text": [
      "[\u001b[1mpy.warnings         \u001b[0m][\u001b[1;33mWARNING\u001b[0m]  /home/runner/micromamba/envs/tardis/lib/python3.13/site-packages/pandas/core/arraylike.py:399: RuntimeWarning:\n",
      "\n",
      "divide by zero encountered in log\n",
      "\n",
      " (\u001b[1mwarnings.py\u001b[0m:110)\n"
     ]
    },
    {
     "data": {
      "application/vnd.jupyter.widget-view+json": {
       "model_id": "1d58c162a84d41a38d8af47d25d9bd39",
       "version_major": 2,
       "version_minor": 0
      },
      "text/plain": [
       "VBox(children=(HBox(children=(Dropdown(description='Ion', options=('O I', 'O II', 'O III', 'Mg II', 'Si II', '…"
      ]
     },
     "execution_count": 6,
     "metadata": {},
     "output_type": "execute_result"
    }
   ],
   "source": [
    "energy_level_widget = GrotrianWidget.from_simulation(sim)\n",
    "energy_level_widget.display()"
   ]
  },
  {
   "cell_type": "markdown",
   "metadata": {},
   "source": [
    "You can interact with this widget (which again won't be visible if you're viewing this notebook in our docs as an html page) like this:\n",
    "\n",
    "![Energy Level Diagram Demo](../images/energy_level_widget_options.gif)\n"
   ]
  },
  {
   "cell_type": "markdown",
   "metadata": {},
   "source": []
  }
 ],
 "metadata": {
  "kernelspec": {
   "display_name": "tardis-X",
   "language": "python",
   "name": "python3"
  },
  "language_info": {
   "codemirror_mode": {
    "name": "ipython",
    "version": 3
   },
   "file_extension": ".py",
   "mimetype": "text/x-python",
   "name": "python",
   "nbconvert_exporter": "python",
   "pygments_lexer": "ipython3",
   "version": "3.13.3"
  },
  "notify_time": "5",
  "toc": {
   "base_numbering": 1,
   "nav_menu": {},
   "number_sections": false,
   "sideBar": true,
   "skip_h1_title": false,
   "title_cell": "Table of Contents",
   "title_sidebar": "Contents",
   "toc_cell": false,
   "toc_position": {},
   "toc_section_display": true,
   "toc_window_display": true
  },
  "varInspector": {
   "cols": {
    "lenName": 16,
    "lenType": 16,
    "lenVar": 40
   },
   "kernels_config": {
    "python": {
     "delete_cmd_postfix": "",
     "delete_cmd_prefix": "del ",
     "library": "var_list.py",
     "varRefreshCmd": "print(var_dic_list())"
    },
    "r": {
     "delete_cmd_postfix": ") ",
     "delete_cmd_prefix": "rm(",
     "library": "var_list.r",
     "varRefreshCmd": "cat(var_dic_list()) "
    }
   },
   "position": {
    "height": "271.85px",
    "left": "1265.58px",
    "right": "20px",
    "top": "65px",
    "width": "420.167px"
   },
   "types_to_exclude": [
    "module",
    "function",
    "builtin_function_or_method",
    "instance",
    "_Feature"
   ],
   "window_display": false
  },
  "widgets": {
   "application/vnd.jupyter.widget-state+json": {
    "state": {
     "0145a1d858124155a4935c87e845ae98": {
      "model_module": "@jupyter-widgets/base",
      "model_module_version": "2.0.0",
      "model_name": "LayoutModel",
      "state": {
       "_model_module": "@jupyter-widgets/base",
       "_model_module_version": "2.0.0",
       "_model_name": "LayoutModel",
       "_view_count": null,
       "_view_module": "@jupyter-widgets/base",
       "_view_module_version": "2.0.0",
       "_view_name": "LayoutView",
       "align_content": null,
       "align_items": null,
       "align_self": null,
       "border_bottom": null,
       "border_left": null,
       "border_right": null,
       "border_top": null,
       "bottom": null,
       "display": null,
       "flex": null,
       "flex_flow": null,
       "grid_area": null,
       "grid_auto_columns": null,
       "grid_auto_flow": null,
       "grid_auto_rows": null,
       "grid_column": null,
       "grid_gap": null,
       "grid_row": null,
       "grid_template_areas": null,
       "grid_template_columns": null,
       "grid_template_rows": null,
       "height": null,
       "justify_content": null,
       "justify_items": null,
       "left": null,
       "margin": null,
       "max_height": null,
       "max_width": null,
       "min_height": null,
       "min_width": null,
       "object_fit": null,
       "object_position": null,
       "order": null,
       "overflow": null,
       "padding": null,
       "right": null,
       "top": null,
       "visibility": null,
       "width": null
      }
     },
     "0331ca031e81412cb72c40ae65c242d9": {
      "model_module": "@jupyter-widgets/controls",
      "model_module_version": "2.0.0",
      "model_name": "HBoxModel",
      "state": {
       "_dom_classes": [],
       "_model_module": "@jupyter-widgets/controls",
       "_model_module_version": "2.0.0",
       "_model_name": "HBoxModel",
       "_view_count": null,
       "_view_module": "@jupyter-widgets/controls",
       "_view_module_version": "2.0.0",
       "_view_name": "HBoxView",
       "box_style": "",
       "children": [
        "IPY_MODEL_70599b51af4440e9a253349a4d0b6094",
        "IPY_MODEL_26de02491e0246219021988ffa482b8c"
       ],
       "layout": "IPY_MODEL_db2b8d0462b84dd0a2cf9f5fc16c9191",
       "tabbable": null,
       "tooltip": null
      }
     },
     "094c56182ef240ffa66e0b9b29195a8e": {
      "model_module": "@jupyter-widgets/controls",
      "model_module_version": "2.0.0",
      "model_name": "DescriptionStyleModel",
      "state": {
       "_model_module": "@jupyter-widgets/controls",
       "_model_module_version": "2.0.0",
       "_model_name": "DescriptionStyleModel",
       "_view_count": null,
       "_view_module": "@jupyter-widgets/base",
       "_view_module_version": "2.0.0",
       "_view_name": "StyleView",
       "description_width": ""
      }
     },
     "09b33a9bb2c045f39aae94166a6ad787": {
      "model_module": "@jupyter-widgets/controls",
      "model_module_version": "2.0.0",
      "model_name": "HBoxModel",
      "state": {
       "_dom_classes": [],
       "_model_module": "@jupyter-widgets/controls",
       "_model_module_version": "2.0.0",
       "_model_name": "HBoxModel",
       "_view_count": null,
       "_view_module": "@jupyter-widgets/controls",
       "_view_module_version": "2.0.0",
       "_view_name": "HBoxView",
       "box_style": "",
       "children": [
        "IPY_MODEL_1343c7b38bdd4e9f9d18c359aeb208c7",
        "IPY_MODEL_c735bfd14f854e1d8b0d277f6edd7b4d",
        "IPY_MODEL_126cf92103894469b9c3346f1b143a5b"
       ],
       "layout": "IPY_MODEL_fd93f8d5e21a491183303eeb2f5321a3",
       "tabbable": null,
       "tooltip": null
      }
     },
     "126cf92103894469b9c3346f1b143a5b": {
      "model_module": "@jupyter-widgets/controls",
      "model_module_version": "2.0.0",
      "model_name": "HTMLModel",
      "state": {
       "_dom_classes": [],
       "_model_module": "@jupyter-widgets/controls",
       "_model_module_version": "2.0.0",
       "_model_name": "HTMLModel",
       "_view_count": null,
       "_view_module": "@jupyter-widgets/controls",
       "_view_module_version": "2.0.0",
       "_view_name": "HTMLView",
       "description": "",
       "description_allow_html": false,
       "layout": "IPY_MODEL_ef72f7ea61664844989059d014610ad4",
       "placeholder": "​",
       "style": "IPY_MODEL_c3e43a13eac44523b4ec7c15c80dc929",
       "tabbable": null,
       "tooltip": null,
       "value": "20/20 [00:26&lt;00:00,  2.87s/it]"
      }
     },
     "1343c7b38bdd4e9f9d18c359aeb208c7": {
      "model_module": "@jupyter-widgets/controls",
      "model_module_version": "2.0.0",
      "model_name": "HTMLModel",
      "state": {
       "_dom_classes": [],
       "_model_module": "@jupyter-widgets/controls",
       "_model_module_version": "2.0.0",
       "_model_name": "HTMLModel",
       "_view_count": null,
       "_view_module": "@jupyter-widgets/controls",
       "_view_module_version": "2.0.0",
       "_view_name": "HTMLView",
       "description": "",
       "description_allow_html": false,
       "layout": "IPY_MODEL_3144cb8addfe41ada78c3db8c8a867f2",
       "placeholder": "​",
       "style": "IPY_MODEL_726d12e3a6134b96a2b963cbf7020afe",
       "tabbable": null,
       "tooltip": null,
       "value": "Iterations:"
      }
     },
     "1a19a2561090455884b427045cd3e11a": {
      "model_module": "@jupyter-widgets/base",
      "model_module_version": "2.0.0",
      "model_name": "LayoutModel",
      "state": {
       "_model_module": "@jupyter-widgets/base",
       "_model_module_version": "2.0.0",
       "_model_name": "LayoutModel",
       "_view_count": null,
       "_view_module": "@jupyter-widgets/base",
       "_view_module_version": "2.0.0",
       "_view_name": "LayoutView",
       "align_content": null,
       "align_items": null,
       "align_self": null,
       "border_bottom": null,
       "border_left": null,
       "border_right": null,
       "border_top": null,
       "bottom": null,
       "display": null,
       "flex": null,
       "flex_flow": null,
       "grid_area": null,
       "grid_auto_columns": null,
       "grid_auto_flow": null,
       "grid_auto_rows": null,
       "grid_column": null,
       "grid_gap": null,
       "grid_row": null,
       "grid_template_areas": null,
       "grid_template_columns": null,
       "grid_template_rows": null,
       "height": null,
       "justify_content": null,
       "justify_items": null,
       "left": null,
       "margin": null,
       "max_height": null,
       "max_width": null,
       "min_height": null,
       "min_width": null,
       "object_fit": null,
       "object_position": null,
       "order": null,
       "overflow": null,
       "padding": null,
       "right": null,
       "top": null,
       "visibility": null,
       "width": "605px"
      }
     },
     "1b964b9631aa402ab0268a2e981d45d0": {
      "model_module": "@jupyter-widgets/base",
      "model_module_version": "2.0.0",
      "model_name": "LayoutModel",
      "state": {
       "_model_module": "@jupyter-widgets/base",
       "_model_module_version": "2.0.0",
       "_model_name": "LayoutModel",
       "_view_count": null,
       "_view_module": "@jupyter-widgets/base",
       "_view_module_version": "2.0.0",
       "_view_name": "LayoutView",
       "align_content": null,
       "align_items": null,
       "align_self": null,
       "border_bottom": null,
       "border_left": null,
       "border_right": null,
       "border_top": null,
       "bottom": null,
       "display": null,
       "flex": null,
       "flex_flow": null,
       "grid_area": null,
       "grid_auto_columns": null,
       "grid_auto_flow": null,
       "grid_auto_rows": null,
       "grid_column": null,
       "grid_gap": null,
       "grid_row": null,
       "grid_template_areas": null,
       "grid_template_columns": null,
       "grid_template_rows": null,
       "height": null,
       "justify_content": null,
       "justify_items": null,
       "left": null,
       "margin": null,
       "max_height": null,
       "max_width": null,
       "min_height": null,
       "min_width": null,
       "object_fit": null,
       "object_position": null,
       "order": null,
       "overflow": null,
       "padding": null,
       "right": null,
       "top": null,
       "visibility": null,
       "width": null
      }
     },
     "1bc3dd58aef648c79819c474cc88969c": {
      "model_module": "@jupyter-widgets/controls",
      "model_module_version": "2.0.0",
      "model_name": "ToggleButtonsStyleModel",
      "state": {
       "_model_module": "@jupyter-widgets/controls",
       "_model_module_version": "2.0.0",
       "_model_name": "ToggleButtonsStyleModel",
       "_view_count": null,
       "_view_module": "@jupyter-widgets/base",
       "_view_module_version": "2.0.0",
       "_view_name": "StyleView",
       "button_width": "100px",
       "description_width": "",
       "font_weight": ""
      }
     },
     "1d58c162a84d41a38d8af47d25d9bd39": {
      "model_module": "@jupyter-widgets/controls",
      "model_module_version": "2.0.0",
      "model_name": "VBoxModel",
      "state": {
       "_dom_classes": [],
       "_model_module": "@jupyter-widgets/controls",
       "_model_module_version": "2.0.0",
       "_model_name": "VBoxModel",
       "_view_count": null,
       "_view_module": "@jupyter-widgets/controls",
       "_view_module_version": "2.0.0",
       "_view_name": "VBoxView",
       "box_style": "",
       "children": [
        "IPY_MODEL_279ab623745d4083b12d6e59363698b7",
        "IPY_MODEL_0331ca031e81412cb72c40ae65c242d9",
        "IPY_MODEL_9c87c0d8633c4c2eb048a4ec2d90cee8"
       ],
       "layout": "IPY_MODEL_1b964b9631aa402ab0268a2e981d45d0",
       "tabbable": null,
       "tooltip": null
      }
     },
     "1e67873e51c74923b501f2868627ef51": {
      "model_module": "@jupyter-widgets/controls",
      "model_module_version": "2.0.0",
      "model_name": "DropdownModel",
      "state": {
       "_dom_classes": [],
       "_model_module": "@jupyter-widgets/controls",
       "_model_module_version": "2.0.0",
       "_model_name": "DropdownModel",
       "_options_labels": [
        "All",
        "1",
        "2",
        "3",
        "4",
        "5",
        "6",
        "7",
        "8",
        "9",
        "10",
        "11",
        "12",
        "13",
        "14",
        "15",
        "16",
        "17",
        "18",
        "19",
        "20"
       ],
       "_view_count": null,
       "_view_module": "@jupyter-widgets/controls",
       "_view_module_version": "2.0.0",
       "_view_name": "DropdownView",
       "description": "Shell",
       "description_allow_html": false,
       "disabled": false,
       "index": 0,
       "layout": "IPY_MODEL_a7f013179ada49fcb739ceff33509d18",
       "style": "IPY_MODEL_094c56182ef240ffa66e0b9b29195a8e",
       "tabbable": null,
       "tooltip": null
      }
     },
     "206ae1267e234590905bcadb84def3b9": {
      "model_module": "@jupyter-widgets/controls",
      "model_module_version": "2.0.0",
      "model_name": "DescriptionStyleModel",
      "state": {
       "_model_module": "@jupyter-widgets/controls",
       "_model_module_version": "2.0.0",
       "_model_name": "DescriptionStyleModel",
       "_view_count": null,
       "_view_module": "@jupyter-widgets/base",
       "_view_module_version": "2.0.0",
       "_view_name": "StyleView",
       "description_width": ""
      }
     },
     "26de02491e0246219021988ffa482b8c": {
      "model_module": "@jupyter-widgets/controls",
      "model_module_version": "2.0.0",
      "model_name": "FloatRangeSliderModel",
      "state": {
       "_dom_classes": [],
       "_model_module": "@jupyter-widgets/controls",
       "_model_module_version": "2.0.0",
       "_model_name": "FloatRangeSliderModel",
       "_view_count": null,
       "_view_module": "@jupyter-widgets/controls",
       "_view_module_version": "2.0.0",
       "_view_name": "FloatRangeSliderView",
       "behavior": "drag-tap",
       "continuous_update": true,
       "description": "Wavelength",
       "description_allow_html": false,
       "disabled": false,
       "layout": "IPY_MODEL_1a19a2561090455884b427045cd3e11a",
       "max": 8449.07912417527,
       "min": 1302.168,
       "orientation": "horizontal",
       "readout": true,
       "readout_format": ".1e",
       "step": 0.1,
       "style": "IPY_MODEL_6a1d00d077064f90b692eb87e8130ca6",
       "tabbable": null,
       "tooltip": null,
       "value": [
        1302.168,
        8449.07912417527
       ]
      }
     },
     "279ab623745d4083b12d6e59363698b7": {
      "model_module": "@jupyter-widgets/controls",
      "model_module_version": "2.0.0",
      "model_name": "HBoxModel",
      "state": {
       "_dom_classes": [],
       "_model_module": "@jupyter-widgets/controls",
       "_model_module_version": "2.0.0",
       "_model_name": "HBoxModel",
       "_view_count": null,
       "_view_module": "@jupyter-widgets/controls",
       "_view_module_version": "2.0.0",
       "_view_name": "HBoxView",
       "box_style": "",
       "children": [
        "IPY_MODEL_3f3d77cb80ea4cc68caf2499aefae196",
        "IPY_MODEL_1e67873e51c74923b501f2868627ef51",
        "IPY_MODEL_b1ae860d89524c9aac0617aa3fbf60ae"
       ],
       "layout": "IPY_MODEL_8dbcf33f867b436ca6f25b158d936bfe",
       "tabbable": null,
       "tooltip": null
      }
     },
     "3144cb8addfe41ada78c3db8c8a867f2": {
      "model_module": "@jupyter-widgets/base",
      "model_module_version": "2.0.0",
      "model_name": "LayoutModel",
      "state": {
       "_model_module": "@jupyter-widgets/base",
       "_model_module_version": "2.0.0",
       "_model_name": "LayoutModel",
       "_view_count": null,
       "_view_module": "@jupyter-widgets/base",
       "_view_module_version": "2.0.0",
       "_view_name": "LayoutView",
       "align_content": null,
       "align_items": null,
       "align_self": null,
       "border_bottom": null,
       "border_left": null,
       "border_right": null,
       "border_top": null,
       "bottom": null,
       "display": null,
       "flex": null,
       "flex_flow": null,
       "grid_area": null,
       "grid_auto_columns": null,
       "grid_auto_flow": null,
       "grid_auto_rows": null,
       "grid_column": null,
       "grid_gap": null,
       "grid_row": null,
       "grid_template_areas": null,
       "grid_template_columns": null,
       "grid_template_rows": null,
       "height": null,
       "justify_content": null,
       "justify_items": null,
       "left": null,
       "margin": null,
       "max_height": null,
       "max_width": null,
       "min_height": null,
       "min_width": null,
       "object_fit": null,
       "object_position": null,
       "order": null,
       "overflow": null,
       "padding": null,
       "right": null,
       "top": null,
       "visibility": null,
       "width": null
      }
     },
     "3f3d77cb80ea4cc68caf2499aefae196": {
      "model_module": "@jupyter-widgets/controls",
      "model_module_version": "2.0.0",
      "model_name": "DropdownModel",
      "state": {
       "_dom_classes": [],
       "_model_module": "@jupyter-widgets/controls",
       "_model_module_version": "2.0.0",
       "_model_name": "DropdownModel",
       "_options_labels": [
        "O I",
        "O II",
        "O III",
        "Mg II",
        "Si II",
        "Si III",
        "Si IV",
        "S I",
        "S II",
        "S III",
        "S IV",
        "Ar I",
        "Ar II",
        "Ar III",
        "Ca II"
       ],
       "_view_count": null,
       "_view_module": "@jupyter-widgets/controls",
       "_view_module_version": "2.0.0",
       "_view_name": "DropdownView",
       "description": "Ion",
       "description_allow_html": false,
       "disabled": false,
       "index": 0,
       "layout": "IPY_MODEL_8d19aadf8fb849d68b79b8f5950580da",
       "style": "IPY_MODEL_206ae1267e234590905bcadb84def3b9",
       "tabbable": null,
       "tooltip": null
      }
     },
     "5d22122f0e5f4b73b7b89ba8b8ffb160": {
      "model_module": "@jupyter-widgets/controls",
      "model_module_version": "2.0.0",
      "model_name": "ProgressStyleModel",
      "state": {
       "_model_module": "@jupyter-widgets/controls",
       "_model_module_version": "2.0.0",
       "_model_name": "ProgressStyleModel",
       "_view_count": null,
       "_view_module": "@jupyter-widgets/base",
       "_view_module_version": "2.0.0",
       "_view_name": "StyleView",
       "bar_color": null,
       "description_width": ""
      }
     },
     "61cbde9123eb4f53aa0e14a1c55b346c": {
      "model_module": "@jupyter-widgets/base",
      "model_module_version": "2.0.0",
      "model_name": "LayoutModel",
      "state": {
       "_model_module": "@jupyter-widgets/base",
       "_model_module_version": "2.0.0",
       "_model_name": "LayoutModel",
       "_view_count": null,
       "_view_module": "@jupyter-widgets/base",
       "_view_module_version": "2.0.0",
       "_view_name": "LayoutView",
       "align_content": null,
       "align_items": null,
       "align_self": null,
       "border_bottom": null,
       "border_left": null,
       "border_right": null,
       "border_top": null,
       "bottom": null,
       "display": null,
       "flex": null,
       "flex_flow": null,
       "grid_area": null,
       "grid_auto_columns": null,
       "grid_auto_flow": null,
       "grid_auto_rows": null,
       "grid_column": null,
       "grid_gap": null,
       "grid_row": null,
       "grid_template_areas": null,
       "grid_template_columns": null,
       "grid_template_rows": null,
       "height": null,
       "justify_content": null,
       "justify_items": null,
       "left": null,
       "margin": null,
       "max_height": null,
       "max_width": null,
       "min_height": null,
       "min_width": null,
       "object_fit": null,
       "object_position": null,
       "order": null,
       "overflow": null,
       "padding": null,
       "right": null,
       "top": null,
       "visibility": null,
       "width": null
      }
     },
     "69a713f165a3448fb384c0bfb4c79dd9": {
      "model_module": "@jupyter-widgets/controls",
      "model_module_version": "2.0.0",
      "model_name": "ProgressStyleModel",
      "state": {
       "_model_module": "@jupyter-widgets/controls",
       "_model_module_version": "2.0.0",
       "_model_name": "ProgressStyleModel",
       "_view_count": null,
       "_view_module": "@jupyter-widgets/base",
       "_view_module_version": "2.0.0",
       "_view_name": "StyleView",
       "bar_color": null,
       "description_width": ""
      }
     },
     "6a1d00d077064f90b692eb87e8130ca6": {
      "model_module": "@jupyter-widgets/controls",
      "model_module_version": "2.0.0",
      "model_name": "SliderStyleModel",
      "state": {
       "_model_module": "@jupyter-widgets/controls",
       "_model_module_version": "2.0.0",
       "_model_name": "SliderStyleModel",
       "_view_count": null,
       "_view_module": "@jupyter-widgets/base",
       "_view_module_version": "2.0.0",
       "_view_name": "StyleView",
       "description_width": "",
       "handle_color": null
      }
     },
     "6bd53fe65b1c4f0aadbab60414251846": {
      "model_module": "@jupyter-widgets/controls",
      "model_module_version": "2.0.0",
      "model_name": "HTMLStyleModel",
      "state": {
       "_model_module": "@jupyter-widgets/controls",
       "_model_module_version": "2.0.0",
       "_model_name": "HTMLStyleModel",
       "_view_count": null,
       "_view_module": "@jupyter-widgets/base",
       "_view_module_version": "2.0.0",
       "_view_name": "StyleView",
       "background": null,
       "description_width": "",
       "font_size": null,
       "text_color": null
      }
     },
     "70599b51af4440e9a253349a4d0b6094": {
      "model_module": "@jupyter-widgets/controls",
      "model_module_version": "2.0.0",
      "model_name": "ToggleButtonsModel",
      "state": {
       "_dom_classes": [],
       "_model_module": "@jupyter-widgets/controls",
       "_model_module_version": "2.0.0",
       "_model_name": "ToggleButtonsModel",
       "_options_labels": [
        "Linear",
        "Log"
       ],
       "_view_count": null,
       "_view_module": "@jupyter-widgets/controls",
       "_view_module_version": "2.0.0",
       "_view_name": "ToggleButtonsView",
       "button_style": "",
       "description": "Y-Scale",
       "description_allow_html": false,
       "disabled": false,
       "icons": [],
       "index": 1,
       "layout": "IPY_MODEL_c8f2952c4a564019a8360dd1eed46415",
       "style": "IPY_MODEL_1bc3dd58aef648c79819c474cc88969c",
       "tabbable": null,
       "tooltip": null,
       "tooltips": []
      }
     },
     "726d12e3a6134b96a2b963cbf7020afe": {
      "model_module": "@jupyter-widgets/controls",
      "model_module_version": "2.0.0",
      "model_name": "HTMLStyleModel",
      "state": {
       "_model_module": "@jupyter-widgets/controls",
       "_model_module_version": "2.0.0",
       "_model_name": "HTMLStyleModel",
       "_view_count": null,
       "_view_module": "@jupyter-widgets/base",
       "_view_module_version": "2.0.0",
       "_view_name": "StyleView",
       "background": null,
       "description_width": "",
       "font_size": null,
       "text_color": null
      }
     },
     "75332a51519c49e6aab64dcc52f797e5": {
      "model_module": "@jupyter-widgets/controls",
      "model_module_version": "2.0.0",
      "model_name": "HBoxModel",
      "state": {
       "_dom_classes": [],
       "_model_module": "@jupyter-widgets/controls",
       "_model_module_version": "2.0.0",
       "_model_name": "HBoxModel",
       "_view_count": null,
       "_view_module": "@jupyter-widgets/controls",
       "_view_module_version": "2.0.0",
       "_view_name": "HBoxView",
       "box_style": "",
       "children": [
        "IPY_MODEL_d4de11287ecd4a839f49444cd29ab7cd",
        "IPY_MODEL_9f3e7efb058346ee9f4177bec48e234b",
        "IPY_MODEL_d2b82f89497d4d158360e3933eb3c345"
       ],
       "layout": "IPY_MODEL_0145a1d858124155a4935c87e845ae98",
       "tabbable": null,
       "tooltip": null
      }
     },
     "7a2c9fcf85b84a6eb91ea14125e9e520": {
      "model_module": "@jupyter-widgets/base",
      "model_module_version": "2.0.0",
      "model_name": "LayoutModel",
      "state": {
       "_model_module": "@jupyter-widgets/base",
       "_model_module_version": "2.0.0",
       "_model_name": "LayoutModel",
       "_view_count": null,
       "_view_module": "@jupyter-widgets/base",
       "_view_module_version": "2.0.0",
       "_view_name": "LayoutView",
       "align_content": null,
       "align_items": null,
       "align_self": null,
       "border_bottom": null,
       "border_left": null,
       "border_right": null,
       "border_top": null,
       "bottom": null,
       "display": null,
       "flex": null,
       "flex_flow": null,
       "grid_area": null,
       "grid_auto_columns": null,
       "grid_auto_flow": null,
       "grid_auto_rows": null,
       "grid_column": null,
       "grid_gap": null,
       "grid_row": null,
       "grid_template_areas": null,
       "grid_template_columns": null,
       "grid_template_rows": null,
       "height": null,
       "justify_content": null,
       "justify_items": null,
       "left": null,
       "margin": null,
       "max_height": null,
       "max_width": null,
       "min_height": null,
       "min_width": null,
       "object_fit": null,
       "object_position": null,
       "order": null,
       "overflow": null,
       "padding": null,
       "right": null,
       "top": null,
       "visibility": null,
       "width": null
      }
     },
     "8d19aadf8fb849d68b79b8f5950580da": {
      "model_module": "@jupyter-widgets/base",
      "model_module_version": "2.0.0",
      "model_name": "LayoutModel",
      "state": {
       "_model_module": "@jupyter-widgets/base",
       "_model_module_version": "2.0.0",
       "_model_name": "LayoutModel",
       "_view_count": null,
       "_view_module": "@jupyter-widgets/base",
       "_view_module_version": "2.0.0",
       "_view_name": "LayoutView",
       "align_content": null,
       "align_items": null,
       "align_self": null,
       "border_bottom": null,
       "border_left": null,
       "border_right": null,
       "border_top": null,
       "bottom": null,
       "display": null,
       "flex": null,
       "flex_flow": null,
       "grid_area": null,
       "grid_auto_columns": null,
       "grid_auto_flow": null,
       "grid_auto_rows": null,
       "grid_column": null,
       "grid_gap": null,
       "grid_row": null,
       "grid_template_areas": null,
       "grid_template_columns": null,
       "grid_template_rows": null,
       "height": null,
       "justify_content": null,
       "justify_items": null,
       "left": null,
       "margin": null,
       "max_height": null,
       "max_width": null,
       "min_height": null,
       "min_width": null,
       "object_fit": null,
       "object_position": null,
       "order": null,
       "overflow": null,
       "padding": null,
       "right": null,
       "top": null,
       "visibility": null,
       "width": null
      }
     },
     "8dbcf33f867b436ca6f25b158d936bfe": {
      "model_module": "@jupyter-widgets/base",
      "model_module_version": "2.0.0",
      "model_name": "LayoutModel",
      "state": {
       "_model_module": "@jupyter-widgets/base",
       "_model_module_version": "2.0.0",
       "_model_name": "LayoutModel",
       "_view_count": null,
       "_view_module": "@jupyter-widgets/base",
       "_view_module_version": "2.0.0",
       "_view_name": "LayoutView",
       "align_content": null,
       "align_items": null,
       "align_self": null,
       "border_bottom": null,
       "border_left": null,
       "border_right": null,
       "border_top": null,
       "bottom": null,
       "display": null,
       "flex": null,
       "flex_flow": null,
       "grid_area": null,
       "grid_auto_columns": null,
       "grid_auto_flow": null,
       "grid_auto_rows": null,
       "grid_column": null,
       "grid_gap": null,
       "grid_row": null,
       "grid_template_areas": null,
       "grid_template_columns": null,
       "grid_template_rows": null,
       "height": null,
       "justify_content": null,
       "justify_items": null,
       "left": null,
       "margin": null,
       "max_height": null,
       "max_width": null,
       "min_height": null,
       "min_width": null,
       "object_fit": null,
       "object_position": null,
       "order": null,
       "overflow": null,
       "padding": null,
       "right": null,
       "top": null,
       "visibility": null,
       "width": null
      }
     },
     "911c50b022234b288724950fbdd687b9": {
      "model_module": "@jupyter-widgets/base",
      "model_module_version": "2.0.0",
      "model_name": "LayoutModel",
      "state": {
       "_model_module": "@jupyter-widgets/base",
       "_model_module_version": "2.0.0",
       "_model_name": "LayoutModel",
       "_view_count": null,
       "_view_module": "@jupyter-widgets/base",
       "_view_module_version": "2.0.0",
       "_view_name": "LayoutView",
       "align_content": null,
       "align_items": null,
       "align_self": null,
       "border_bottom": null,
       "border_left": null,
       "border_right": null,
       "border_top": null,
       "bottom": null,
       "display": null,
       "flex": null,
       "flex_flow": null,
       "grid_area": null,
       "grid_auto_columns": null,
       "grid_auto_flow": null,
       "grid_auto_rows": null,
       "grid_column": null,
       "grid_gap": null,
       "grid_row": null,
       "grid_template_areas": null,
       "grid_template_columns": null,
       "grid_template_rows": null,
       "height": null,
       "justify_content": null,
       "justify_items": null,
       "left": null,
       "margin": null,
       "max_height": null,
       "max_width": null,
       "min_height": null,
       "min_width": null,
       "object_fit": null,
       "object_position": null,
       "order": null,
       "overflow": null,
       "padding": null,
       "right": null,
       "top": null,
       "visibility": null,
       "width": null
      }
     },
     "992737d34ac844778b9ee0c57540158e": {
      "model_module": "@jupyter-widgets/base",
      "model_module_version": "2.0.0",
      "model_name": "LayoutModel",
      "state": {
       "_model_module": "@jupyter-widgets/base",
       "_model_module_version": "2.0.0",
       "_model_name": "LayoutModel",
       "_view_count": null,
       "_view_module": "@jupyter-widgets/base",
       "_view_module_version": "2.0.0",
       "_view_name": "LayoutView",
       "align_content": null,
       "align_items": null,
       "align_self": null,
       "border_bottom": null,
       "border_left": null,
       "border_right": null,
       "border_top": null,
       "bottom": null,
       "display": null,
       "flex": null,
       "flex_flow": null,
       "grid_area": null,
       "grid_auto_columns": null,
       "grid_auto_flow": null,
       "grid_auto_rows": null,
       "grid_column": null,
       "grid_gap": null,
       "grid_row": null,
       "grid_template_areas": null,
       "grid_template_columns": null,
       "grid_template_rows": null,
       "height": null,
       "justify_content": null,
       "justify_items": null,
       "left": null,
       "margin": null,
       "max_height": null,
       "max_width": null,
       "min_height": null,
       "min_width": null,
       "object_fit": null,
       "object_position": null,
       "order": null,
       "overflow": null,
       "padding": null,
       "right": null,
       "top": null,
       "visibility": null,
       "width": null
      }
     },
     "9bcf566d468a4367a20d8f2d65e00101": {
      "model_module": "@jupyter-widgets/output",
      "model_module_version": "1.0.0",
      "model_name": "OutputModel",
      "state": {
       "_dom_classes": [],
       "_model_module": "@jupyter-widgets/output",
       "_model_module_version": "1.0.0",
       "_model_name": "OutputModel",
       "_view_count": null,
       "_view_module": "@jupyter-widgets/output",
       "_view_module_version": "1.0.0",
       "_view_name": "OutputView",
       "layout": "IPY_MODEL_61cbde9123eb4f53aa0e14a1c55b346c",
       "msg_id": "",
       "outputs": [],
       "tabbable": null,
       "tooltip": null
      }
     },
     "9c87c0d8633c4c2eb048a4ec2d90cee8": {
      "buffers": [
       {
        "data": "mpmZmZmZqb/TJ33SJ32yPzqO4ziO48g/RURERERE1D9twRZswRbcP0qf9Emf9OE/3t3d3d3d5T9yHMdxHMfpPwZbsAVbsO0/zczMzMzM8D8=",
        "encoding": "base64",
        "path": [
         "_py2js_addTraces",
         "trace_data",
         0,
         "x",
         "buffer"
        ]
       },
       {
        "data": "mpmZmZmZ8T+amZmZmZnxP5qZmZmZmfE/mpmZmZmZ8T+amZmZmZnxP5qZmZmZmfE/mpmZmZmZ8T+amZmZmZnxP5qZmZmZmfE/mpmZmZmZ8T8=",
        "encoding": "base64",
        "path": [
         "_py2js_addTraces",
         "trace_data",
         0,
         "y",
         "buffer"
        ]
       },
       {
        "data": "AAAAAAAAAACamZmZmZm5P/uLXMDzOOo/ZPV33e4q7j+pCagI/B7xPw5CcMfYOfE/0CU55lWK8T+amZmZmZnxPw==",
        "encoding": "base64",
        "path": [
         "_py2js_update",
         "layout_data",
         "yaxis2.tickvals",
         "buffer"
        ]
       },
       {
        "data": "kAMGoeivHEDgASYcrYQdQDEARpdxWR5Agf5lEjYuH0Bp/sJGfQEgQJH9UoTfayBAufziwUHWIEDh+3L/o0AhQAn7Aj0GqyFAMfqSemgVIkA=",
        "encoding": "base64",
        "path": [
         "_py2js_addTraces",
         "trace_data",
         0,
         "marker",
         "colorbar",
         "tickvals",
         "buffer"
        ]
       }
      ],
      "model_module": "jupyterlab-plotly",
      "model_module_version": "^5.22.0",
      "model_name": "FigureModel",
      "state": {
       "_config": {
        "plotlyServerURL": "https://plot.ly"
       },
       "_data": [],
       "_dom_classes": [],
       "_js2py_layoutDelta": {},
       "_js2py_pointsCallback": {},
       "_js2py_relayout": {},
       "_js2py_restyle": {},
       "_js2py_traceDeltas": {},
       "_js2py_update": {},
       "_last_layout_edit_id": 72,
       "_last_trace_edit_id": 21,
       "_layout": {
        "template": {
         "data": {
          "bar": [
           {
            "error_x": {
             "color": "#2a3f5f"
            },
            "error_y": {
             "color": "#2a3f5f"
            },
            "marker": {
             "line": {
              "color": "#E5ECF6",
              "width": 0.5
             },
             "pattern": {
              "fillmode": "overlay",
              "size": 10,
              "solidity": 0.2
             }
            },
            "type": "bar"
           }
          ],
          "barpolar": [
           {
            "marker": {
             "line": {
              "color": "#E5ECF6",
              "width": 0.5
             },
             "pattern": {
              "fillmode": "overlay",
              "size": 10,
              "solidity": 0.2
             }
            },
            "type": "barpolar"
           }
          ],
          "carpet": [
           {
            "aaxis": {
             "endlinecolor": "#2a3f5f",
             "gridcolor": "white",
             "linecolor": "white",
             "minorgridcolor": "white",
             "startlinecolor": "#2a3f5f"
            },
            "baxis": {
             "endlinecolor": "#2a3f5f",
             "gridcolor": "white",
             "linecolor": "white",
             "minorgridcolor": "white",
             "startlinecolor": "#2a3f5f"
            },
            "type": "carpet"
           }
          ],
          "choropleth": [
           {
            "colorbar": {
             "outlinewidth": 0,
             "ticks": ""
            },
            "type": "choropleth"
           }
          ],
          "contour": [
           {
            "colorbar": {
             "outlinewidth": 0,
             "ticks": ""
            },
            "colorscale": [
             [
              0.0,
              "#0d0887"
             ],
             [
              0.1111111111111111,
              "#46039f"
             ],
             [
              0.2222222222222222,
              "#7201a8"
             ],
             [
              0.3333333333333333,
              "#9c179e"
             ],
             [
              0.4444444444444444,
              "#bd3786"
             ],
             [
              0.5555555555555556,
              "#d8576b"
             ],
             [
              0.6666666666666666,
              "#ed7953"
             ],
             [
              0.7777777777777778,
              "#fb9f3a"
             ],
             [
              0.8888888888888888,
              "#fdca26"
             ],
             [
              1.0,
              "#f0f921"
             ]
            ],
            "type": "contour"
           }
          ],
          "contourcarpet": [
           {
            "colorbar": {
             "outlinewidth": 0,
             "ticks": ""
            },
            "type": "contourcarpet"
           }
          ],
          "heatmap": [
           {
            "colorbar": {
             "outlinewidth": 0,
             "ticks": ""
            },
            "colorscale": [
             [
              0.0,
              "#0d0887"
             ],
             [
              0.1111111111111111,
              "#46039f"
             ],
             [
              0.2222222222222222,
              "#7201a8"
             ],
             [
              0.3333333333333333,
              "#9c179e"
             ],
             [
              0.4444444444444444,
              "#bd3786"
             ],
             [
              0.5555555555555556,
              "#d8576b"
             ],
             [
              0.6666666666666666,
              "#ed7953"
             ],
             [
              0.7777777777777778,
              "#fb9f3a"
             ],
             [
              0.8888888888888888,
              "#fdca26"
             ],
             [
              1.0,
              "#f0f921"
             ]
            ],
            "type": "heatmap"
           }
          ],
          "heatmapgl": [
           {
            "colorbar": {
             "outlinewidth": 0,
             "ticks": ""
            },
            "colorscale": [
             [
              0.0,
              "#0d0887"
             ],
             [
              0.1111111111111111,
              "#46039f"
             ],
             [
              0.2222222222222222,
              "#7201a8"
             ],
             [
              0.3333333333333333,
              "#9c179e"
             ],
             [
              0.4444444444444444,
              "#bd3786"
             ],
             [
              0.5555555555555556,
              "#d8576b"
             ],
             [
              0.6666666666666666,
              "#ed7953"
             ],
             [
              0.7777777777777778,
              "#fb9f3a"
             ],
             [
              0.8888888888888888,
              "#fdca26"
             ],
             [
              1.0,
              "#f0f921"
             ]
            ],
            "type": "heatmapgl"
           }
          ],
          "histogram": [
           {
            "marker": {
             "pattern": {
              "fillmode": "overlay",
              "size": 10,
              "solidity": 0.2
             }
            },
            "type": "histogram"
           }
          ],
          "histogram2d": [
           {
            "colorbar": {
             "outlinewidth": 0,
             "ticks": ""
            },
            "colorscale": [
             [
              0.0,
              "#0d0887"
             ],
             [
              0.1111111111111111,
              "#46039f"
             ],
             [
              0.2222222222222222,
              "#7201a8"
             ],
             [
              0.3333333333333333,
              "#9c179e"
             ],
             [
              0.4444444444444444,
              "#bd3786"
             ],
             [
              0.5555555555555556,
              "#d8576b"
             ],
             [
              0.6666666666666666,
              "#ed7953"
             ],
             [
              0.7777777777777778,
              "#fb9f3a"
             ],
             [
              0.8888888888888888,
              "#fdca26"
             ],
             [
              1.0,
              "#f0f921"
             ]
            ],
            "type": "histogram2d"
           }
          ],
          "histogram2dcontour": [
           {
            "colorbar": {
             "outlinewidth": 0,
             "ticks": ""
            },
            "colorscale": [
             [
              0.0,
              "#0d0887"
             ],
             [
              0.1111111111111111,
              "#46039f"
             ],
             [
              0.2222222222222222,
              "#7201a8"
             ],
             [
              0.3333333333333333,
              "#9c179e"
             ],
             [
              0.4444444444444444,
              "#bd3786"
             ],
             [
              0.5555555555555556,
              "#d8576b"
             ],
             [
              0.6666666666666666,
              "#ed7953"
             ],
             [
              0.7777777777777778,
              "#fb9f3a"
             ],
             [
              0.8888888888888888,
              "#fdca26"
             ],
             [
              1.0,
              "#f0f921"
             ]
            ],
            "type": "histogram2dcontour"
           }
          ],
          "mesh3d": [
           {
            "colorbar": {
             "outlinewidth": 0,
             "ticks": ""
            },
            "type": "mesh3d"
           }
          ],
          "parcoords": [
           {
            "line": {
             "colorbar": {
              "outlinewidth": 0,
              "ticks": ""
             }
            },
            "type": "parcoords"
           }
          ],
          "pie": [
           {
            "automargin": true,
            "type": "pie"
           }
          ],
          "scatter": [
           {
            "fillpattern": {
             "fillmode": "overlay",
             "size": 10,
             "solidity": 0.2
            },
            "type": "scatter"
           }
          ],
          "scatter3d": [
           {
            "line": {
             "colorbar": {
              "outlinewidth": 0,
              "ticks": ""
             }
            },
            "marker": {
             "colorbar": {
              "outlinewidth": 0,
              "ticks": ""
             }
            },
            "type": "scatter3d"
           }
          ],
          "scattercarpet": [
           {
            "marker": {
             "colorbar": {
              "outlinewidth": 0,
              "ticks": ""
             }
            },
            "type": "scattercarpet"
           }
          ],
          "scattergeo": [
           {
            "marker": {
             "colorbar": {
              "outlinewidth": 0,
              "ticks": ""
             }
            },
            "type": "scattergeo"
           }
          ],
          "scattergl": [
           {
            "marker": {
             "colorbar": {
              "outlinewidth": 0,
              "ticks": ""
             }
            },
            "type": "scattergl"
           }
          ],
          "scattermapbox": [
           {
            "marker": {
             "colorbar": {
              "outlinewidth": 0,
              "ticks": ""
             }
            },
            "type": "scattermapbox"
           }
          ],
          "scatterpolar": [
           {
            "marker": {
             "colorbar": {
              "outlinewidth": 0,
              "ticks": ""
             }
            },
            "type": "scatterpolar"
           }
          ],
          "scatterpolargl": [
           {
            "marker": {
             "colorbar": {
              "outlinewidth": 0,
              "ticks": ""
             }
            },
            "type": "scatterpolargl"
           }
          ],
          "scatterternary": [
           {
            "marker": {
             "colorbar": {
              "outlinewidth": 0,
              "ticks": ""
             }
            },
            "type": "scatterternary"
           }
          ],
          "surface": [
           {
            "colorbar": {
             "outlinewidth": 0,
             "ticks": ""
            },
            "colorscale": [
             [
              0.0,
              "#0d0887"
             ],
             [
              0.1111111111111111,
              "#46039f"
             ],
             [
              0.2222222222222222,
              "#7201a8"
             ],
             [
              0.3333333333333333,
              "#9c179e"
             ],
             [
              0.4444444444444444,
              "#bd3786"
             ],
             [
              0.5555555555555556,
              "#d8576b"
             ],
             [
              0.6666666666666666,
              "#ed7953"
             ],
             [
              0.7777777777777778,
              "#fb9f3a"
             ],
             [
              0.8888888888888888,
              "#fdca26"
             ],
             [
              1.0,
              "#f0f921"
             ]
            ],
            "type": "surface"
           }
          ],
          "table": [
           {
            "cells": {
             "fill": {
              "color": "#EBF0F8"
             },
             "line": {
              "color": "white"
             }
            },
            "header": {
             "fill": {
              "color": "#C8D4E3"
             },
             "line": {
              "color": "white"
             }
            },
            "type": "table"
           }
          ]
         },
         "layout": {
          "annotationdefaults": {
           "arrowcolor": "#2a3f5f",
           "arrowhead": 0,
           "arrowwidth": 1
          },
          "autotypenumbers": "strict",
          "coloraxis": {
           "colorbar": {
            "outlinewidth": 0,
            "ticks": ""
           }
          },
          "colorscale": {
           "diverging": [
            [
             0,
             "#8e0152"
            ],
            [
             0.1,
             "#c51b7d"
            ],
            [
             0.2,
             "#de77ae"
            ],
            [
             0.3,
             "#f1b6da"
            ],
            [
             0.4,
             "#fde0ef"
            ],
            [
             0.5,
             "#f7f7f7"
            ],
            [
             0.6,
             "#e6f5d0"
            ],
            [
             0.7,
             "#b8e186"
            ],
            [
             0.8,
             "#7fbc41"
            ],
            [
             0.9,
             "#4d9221"
            ],
            [
             1,
             "#276419"
            ]
           ],
           "sequential": [
            [
             0.0,
             "#0d0887"
            ],
            [
             0.1111111111111111,
             "#46039f"
            ],
            [
             0.2222222222222222,
             "#7201a8"
            ],
            [
             0.3333333333333333,
             "#9c179e"
            ],
            [
             0.4444444444444444,
             "#bd3786"
            ],
            [
             0.5555555555555556,
             "#d8576b"
            ],
            [
             0.6666666666666666,
             "#ed7953"
            ],
            [
             0.7777777777777778,
             "#fb9f3a"
            ],
            [
             0.8888888888888888,
             "#fdca26"
            ],
            [
             1.0,
             "#f0f921"
            ]
           ],
           "sequentialminus": [
            [
             0.0,
             "#0d0887"
            ],
            [
             0.1111111111111111,
             "#46039f"
            ],
            [
             0.2222222222222222,
             "#7201a8"
            ],
            [
             0.3333333333333333,
             "#9c179e"
            ],
            [
             0.4444444444444444,
             "#bd3786"
            ],
            [
             0.5555555555555556,
             "#d8576b"
            ],
            [
             0.6666666666666666,
             "#ed7953"
            ],
            [
             0.7777777777777778,
             "#fb9f3a"
            ],
            [
             0.8888888888888888,
             "#fdca26"
            ],
            [
             1.0,
             "#f0f921"
            ]
           ]
          },
          "colorway": [
           "#636efa",
           "#EF553B",
           "#00cc96",
           "#ab63fa",
           "#FFA15A",
           "#19d3f3",
           "#FF6692",
           "#B6E880",
           "#FF97FF",
           "#FECB52"
          ],
          "font": {
           "color": "#2a3f5f"
          },
          "geo": {
           "bgcolor": "white",
           "lakecolor": "white",
           "landcolor": "#E5ECF6",
           "showlakes": true,
           "showland": true,
           "subunitcolor": "white"
          },
          "hoverlabel": {
           "align": "left"
          },
          "hovermode": "closest",
          "mapbox": {
           "style": "light"
          },
          "paper_bgcolor": "white",
          "plot_bgcolor": "#E5ECF6",
          "polar": {
           "angularaxis": {
            "gridcolor": "white",
            "linecolor": "white",
            "ticks": ""
           },
           "bgcolor": "#E5ECF6",
           "radialaxis": {
            "gridcolor": "white",
            "linecolor": "white",
            "ticks": ""
           }
          },
          "scene": {
           "xaxis": {
            "backgroundcolor": "#E5ECF6",
            "gridcolor": "white",
            "gridwidth": 2,
            "linecolor": "white",
            "showbackground": true,
            "ticks": "",
            "zerolinecolor": "white"
           },
           "yaxis": {
            "backgroundcolor": "#E5ECF6",
            "gridcolor": "white",
            "gridwidth": 2,
            "linecolor": "white",
            "showbackground": true,
            "ticks": "",
            "zerolinecolor": "white"
           },
           "zaxis": {
            "backgroundcolor": "#E5ECF6",
            "gridcolor": "white",
            "gridwidth": 2,
            "linecolor": "white",
            "showbackground": true,
            "ticks": "",
            "zerolinecolor": "white"
           }
          },
          "shapedefaults": {
           "line": {
            "color": "#2a3f5f"
           }
          },
          "ternary": {
           "aaxis": {
            "gridcolor": "white",
            "linecolor": "white",
            "ticks": ""
           },
           "baxis": {
            "gridcolor": "white",
            "linecolor": "white",
            "ticks": ""
           },
           "bgcolor": "#E5ECF6",
           "caxis": {
            "gridcolor": "white",
            "linecolor": "white",
            "ticks": ""
           }
          },
          "title": {
           "x": 0.05
          },
          "xaxis": {
           "automargin": true,
           "gridcolor": "white",
           "linecolor": "white",
           "ticks": "",
           "title": {
            "standoff": 15
           },
           "zerolinecolor": "white",
           "zerolinewidth": 2
          },
          "yaxis": {
           "automargin": true,
           "gridcolor": "white",
           "linecolor": "white",
           "ticks": "",
           "title": {
            "standoff": 15
           },
           "zerolinecolor": "white",
           "zerolinewidth": 2
          }
         }
        },
        "xaxis": {
         "anchor": "y",
         "domain": [
          0.0,
          0.258
         ]
        },
        "xaxis2": {
         "anchor": "y2",
         "domain": [
          0.398,
          1.0
         ]
        },
        "yaxis": {
         "anchor": "x",
         "domain": [
          0.0,
          1.0
         ]
        },
        "yaxis2": {
         "anchor": "x2",
         "domain": [
          0.0,
          1.0
         ]
        }
       },
       "_model_module": "jupyterlab-plotly",
       "_model_module_version": "^5.22.0",
       "_model_name": "FigureModel",
       "_py2js_addTraces": null,
       "_py2js_animate": {},
       "_py2js_deleteTraces": {},
       "_py2js_moveTraces": {},
       "_py2js_relayout": null,
       "_py2js_removeLayoutProps": {},
       "_py2js_removeTraceProps": {},
       "_py2js_restyle": {},
       "_py2js_update": null,
       "_view_count": 0,
       "_view_module": "jupyterlab-plotly",
       "_view_module_version": "^5.22.0",
       "_view_name": "FigureView",
       "tabbable": null,
       "tooltip": null
      }
     },
     "9f3e7efb058346ee9f4177bec48e234b": {
      "model_module": "@jupyter-widgets/controls",
      "model_module_version": "2.0.0",
      "model_name": "FloatProgressModel",
      "state": {
       "_dom_classes": [],
       "_model_module": "@jupyter-widgets/controls",
       "_model_module_version": "2.0.0",
       "_model_name": "FloatProgressModel",
       "_view_count": null,
       "_view_module": "@jupyter-widgets/controls",
       "_view_module_version": "2.0.0",
       "_view_name": "ProgressView",
       "bar_style": "",
       "description": "",
       "description_allow_html": false,
       "layout": "IPY_MODEL_911c50b022234b288724950fbdd687b9",
       "max": 100000.0,
       "min": 0.0,
       "orientation": "horizontal",
       "style": "IPY_MODEL_5d22122f0e5f4b73b7b89ba8b8ffb160",
       "tabbable": null,
       "tooltip": null,
       "value": 100000.0
      }
     },
     "a7c864b9477f4229a76a6384d45c00a3": {
      "model_module": "@jupyter-widgets/base",
      "model_module_version": "2.0.0",
      "model_name": "LayoutModel",
      "state": {
       "_model_module": "@jupyter-widgets/base",
       "_model_module_version": "2.0.0",
       "_model_name": "LayoutModel",
       "_view_count": null,
       "_view_module": "@jupyter-widgets/base",
       "_view_module_version": "2.0.0",
       "_view_name": "LayoutView",
       "align_content": null,
       "align_items": null,
       "align_self": null,
       "border_bottom": null,
       "border_left": null,
       "border_right": null,
       "border_top": null,
       "bottom": null,
       "display": null,
       "flex": null,
       "flex_flow": null,
       "grid_area": null,
       "grid_auto_columns": null,
       "grid_auto_flow": null,
       "grid_auto_rows": null,
       "grid_column": null,
       "grid_gap": null,
       "grid_row": null,
       "grid_template_areas": null,
       "grid_template_columns": null,
       "grid_template_rows": null,
       "height": null,
       "justify_content": null,
       "justify_items": null,
       "left": null,
       "margin": null,
       "max_height": null,
       "max_width": null,
       "min_height": null,
       "min_width": null,
       "object_fit": null,
       "object_position": null,
       "order": null,
       "overflow": null,
       "padding": null,
       "right": null,
       "top": null,
       "visibility": null,
       "width": null
      }
     },
     "a7f013179ada49fcb739ceff33509d18": {
      "model_module": "@jupyter-widgets/base",
      "model_module_version": "2.0.0",
      "model_name": "LayoutModel",
      "state": {
       "_model_module": "@jupyter-widgets/base",
       "_model_module_version": "2.0.0",
       "_model_name": "LayoutModel",
       "_view_count": null,
       "_view_module": "@jupyter-widgets/base",
       "_view_module_version": "2.0.0",
       "_view_name": "LayoutView",
       "align_content": null,
       "align_items": null,
       "align_self": null,
       "border_bottom": null,
       "border_left": null,
       "border_right": null,
       "border_top": null,
       "bottom": null,
       "display": null,
       "flex": null,
       "flex_flow": null,
       "grid_area": null,
       "grid_auto_columns": null,
       "grid_auto_flow": null,
       "grid_auto_rows": null,
       "grid_column": null,
       "grid_gap": null,
       "grid_row": null,
       "grid_template_areas": null,
       "grid_template_columns": null,
       "grid_template_rows": null,
       "height": null,
       "justify_content": null,
       "justify_items": null,
       "left": null,
       "margin": null,
       "max_height": null,
       "max_width": null,
       "min_height": null,
       "min_width": null,
       "object_fit": null,
       "object_position": null,
       "order": null,
       "overflow": null,
       "padding": null,
       "right": null,
       "top": null,
       "visibility": null,
       "width": null
      }
     },
     "b1ae860d89524c9aac0617aa3fbf60ae": {
      "model_module": "@jupyter-widgets/controls",
      "model_module_version": "2.0.0",
      "model_name": "BoundedIntTextModel",
      "state": {
       "_dom_classes": [],
       "_model_module": "@jupyter-widgets/controls",
       "_model_module_version": "2.0.0",
       "_model_name": "BoundedIntTextModel",
       "_view_count": null,
       "_view_module": "@jupyter-widgets/controls",
       "_view_module_version": "2.0.0",
       "_view_name": "IntTextView",
       "continuous_update": false,
       "description": "Max Levels",
       "description_allow_html": false,
       "disabled": false,
       "layout": "IPY_MODEL_a7c864b9477f4229a76a6384d45c00a3",
       "max": 40,
       "min": 1,
       "step": 1,
       "style": "IPY_MODEL_b8213c2fa4c94f62bba6eb7a61e5e072",
       "tabbable": null,
       "tooltip": null,
       "value": 10
      }
     },
     "b1e4f12b980b4c2c8864058c965c8a23": {
      "model_module": "@jupyter-widgets/base",
      "model_module_version": "2.0.0",
      "model_name": "LayoutModel",
      "state": {
       "_model_module": "@jupyter-widgets/base",
       "_model_module_version": "2.0.0",
       "_model_name": "LayoutModel",
       "_view_count": null,
       "_view_module": "@jupyter-widgets/base",
       "_view_module_version": "2.0.0",
       "_view_name": "LayoutView",
       "align_content": null,
       "align_items": null,
       "align_self": null,
       "border_bottom": null,
       "border_left": null,
       "border_right": null,
       "border_top": null,
       "bottom": null,
       "display": null,
       "flex": null,
       "flex_flow": null,
       "grid_area": null,
       "grid_auto_columns": null,
       "grid_auto_flow": null,
       "grid_auto_rows": null,
       "grid_column": null,
       "grid_gap": null,
       "grid_row": null,
       "grid_template_areas": null,
       "grid_template_columns": null,
       "grid_template_rows": null,
       "height": null,
       "justify_content": null,
       "justify_items": null,
       "left": null,
       "margin": null,
       "max_height": null,
       "max_width": null,
       "min_height": null,
       "min_width": null,
       "object_fit": null,
       "object_position": null,
       "order": null,
       "overflow": null,
       "padding": null,
       "right": null,
       "top": null,
       "visibility": null,
       "width": null
      }
     },
     "b2613a6ff6a74ccdba0104a2cd305d04": {
      "model_module": "@jupyter-widgets/base",
      "model_module_version": "2.0.0",
      "model_name": "LayoutModel",
      "state": {
       "_model_module": "@jupyter-widgets/base",
       "_model_module_version": "2.0.0",
       "_model_name": "LayoutModel",
       "_view_count": null,
       "_view_module": "@jupyter-widgets/base",
       "_view_module_version": "2.0.0",
       "_view_name": "LayoutView",
       "align_content": null,
       "align_items": null,
       "align_self": null,
       "border_bottom": null,
       "border_left": null,
       "border_right": null,
       "border_top": null,
       "bottom": null,
       "display": null,
       "flex": null,
       "flex_flow": null,
       "grid_area": null,
       "grid_auto_columns": null,
       "grid_auto_flow": null,
       "grid_auto_rows": null,
       "grid_column": null,
       "grid_gap": null,
       "grid_row": null,
       "grid_template_areas": null,
       "grid_template_columns": null,
       "grid_template_rows": null,
       "height": null,
       "justify_content": null,
       "justify_items": null,
       "left": null,
       "margin": null,
       "max_height": null,
       "max_width": null,
       "min_height": null,
       "min_width": null,
       "object_fit": null,
       "object_position": null,
       "order": null,
       "overflow": null,
       "padding": null,
       "right": null,
       "top": null,
       "visibility": null,
       "width": null
      }
     },
     "b8213c2fa4c94f62bba6eb7a61e5e072": {
      "model_module": "@jupyter-widgets/controls",
      "model_module_version": "2.0.0",
      "model_name": "DescriptionStyleModel",
      "state": {
       "_model_module": "@jupyter-widgets/controls",
       "_model_module_version": "2.0.0",
       "_model_name": "DescriptionStyleModel",
       "_view_count": null,
       "_view_module": "@jupyter-widgets/base",
       "_view_module_version": "2.0.0",
       "_view_name": "StyleView",
       "description_width": ""
      }
     },
     "bfde25f7e40b48da94cd1d2fffbeda55": {
      "model_module": "@jupyter-widgets/controls",
      "model_module_version": "2.0.0",
      "model_name": "HTMLStyleModel",
      "state": {
       "_model_module": "@jupyter-widgets/controls",
       "_model_module_version": "2.0.0",
       "_model_name": "HTMLStyleModel",
       "_view_count": null,
       "_view_module": "@jupyter-widgets/base",
       "_view_module_version": "2.0.0",
       "_view_name": "StyleView",
       "background": null,
       "description_width": "",
       "font_size": null,
       "text_color": null
      }
     },
     "c3e43a13eac44523b4ec7c15c80dc929": {
      "model_module": "@jupyter-widgets/controls",
      "model_module_version": "2.0.0",
      "model_name": "HTMLStyleModel",
      "state": {
       "_model_module": "@jupyter-widgets/controls",
       "_model_module_version": "2.0.0",
       "_model_name": "HTMLStyleModel",
       "_view_count": null,
       "_view_module": "@jupyter-widgets/base",
       "_view_module_version": "2.0.0",
       "_view_name": "StyleView",
       "background": null,
       "description_width": "",
       "font_size": null,
       "text_color": null
      }
     },
     "c735bfd14f854e1d8b0d277f6edd7b4d": {
      "model_module": "@jupyter-widgets/controls",
      "model_module_version": "2.0.0",
      "model_name": "FloatProgressModel",
      "state": {
       "_dom_classes": [],
       "_model_module": "@jupyter-widgets/controls",
       "_model_module_version": "2.0.0",
       "_model_name": "FloatProgressModel",
       "_view_count": null,
       "_view_module": "@jupyter-widgets/controls",
       "_view_module_version": "2.0.0",
       "_view_name": "ProgressView",
       "bar_style": "",
       "description": "",
       "description_allow_html": false,
       "layout": "IPY_MODEL_992737d34ac844778b9ee0c57540158e",
       "max": 20.0,
       "min": 0.0,
       "orientation": "horizontal",
       "style": "IPY_MODEL_69a713f165a3448fb384c0bfb4c79dd9",
       "tabbable": null,
       "tooltip": null,
       "value": 20.0
      }
     },
     "c8f2952c4a564019a8360dd1eed46415": {
      "model_module": "@jupyter-widgets/base",
      "model_module_version": "2.0.0",
      "model_name": "LayoutModel",
      "state": {
       "_model_module": "@jupyter-widgets/base",
       "_model_module_version": "2.0.0",
       "_model_name": "LayoutModel",
       "_view_count": null,
       "_view_module": "@jupyter-widgets/base",
       "_view_module_version": "2.0.0",
       "_view_name": "LayoutView",
       "align_content": null,
       "align_items": null,
       "align_self": null,
       "border_bottom": null,
       "border_left": null,
       "border_right": null,
       "border_top": null,
       "bottom": null,
       "display": null,
       "flex": null,
       "flex_flow": null,
       "grid_area": null,
       "grid_auto_columns": null,
       "grid_auto_flow": null,
       "grid_auto_rows": null,
       "grid_column": null,
       "grid_gap": null,
       "grid_row": null,
       "grid_template_areas": null,
       "grid_template_columns": null,
       "grid_template_rows": null,
       "height": null,
       "justify_content": null,
       "justify_items": null,
       "left": null,
       "margin": null,
       "max_height": null,
       "max_width": null,
       "min_height": null,
       "min_width": null,
       "object_fit": null,
       "object_position": null,
       "order": null,
       "overflow": null,
       "padding": null,
       "right": null,
       "top": null,
       "visibility": null,
       "width": "auto"
      }
     },
     "d2b82f89497d4d158360e3933eb3c345": {
      "model_module": "@jupyter-widgets/controls",
      "model_module_version": "2.0.0",
      "model_name": "HTMLModel",
      "state": {
       "_dom_classes": [],
       "_model_module": "@jupyter-widgets/controls",
       "_model_module_version": "2.0.0",
       "_model_name": "HTMLModel",
       "_view_count": null,
       "_view_module": "@jupyter-widgets/controls",
       "_view_module_version": "2.0.0",
       "_view_name": "HTMLView",
       "description": "",
       "description_allow_html": false,
       "layout": "IPY_MODEL_b1e4f12b980b4c2c8864058c965c8a23",
       "placeholder": "​",
       "style": "IPY_MODEL_6bd53fe65b1c4f0aadbab60414251846",
       "tabbable": null,
       "tooltip": null,
       "value": "100000/100000 [00:06&lt;00:00, 15429.79it/s]"
      }
     },
     "d4de11287ecd4a839f49444cd29ab7cd": {
      "model_module": "@jupyter-widgets/controls",
      "model_module_version": "2.0.0",
      "model_name": "HTMLModel",
      "state": {
       "_dom_classes": [],
       "_model_module": "@jupyter-widgets/controls",
       "_model_module_version": "2.0.0",
       "_model_name": "HTMLModel",
       "_view_count": null,
       "_view_module": "@jupyter-widgets/controls",
       "_view_module_version": "2.0.0",
       "_view_name": "HTMLView",
       "description": "",
       "description_allow_html": false,
       "layout": "IPY_MODEL_b2613a6ff6a74ccdba0104a2cd305d04",
       "placeholder": "​",
       "style": "IPY_MODEL_bfde25f7e40b48da94cd1d2fffbeda55",
       "tabbable": null,
       "tooltip": null,
       "value": "Packets:   "
      }
     },
     "db2b8d0462b84dd0a2cf9f5fc16c9191": {
      "model_module": "@jupyter-widgets/base",
      "model_module_version": "2.0.0",
      "model_name": "LayoutModel",
      "state": {
       "_model_module": "@jupyter-widgets/base",
       "_model_module_version": "2.0.0",
       "_model_name": "LayoutModel",
       "_view_count": null,
       "_view_module": "@jupyter-widgets/base",
       "_view_module_version": "2.0.0",
       "_view_name": "LayoutView",
       "align_content": null,
       "align_items": null,
       "align_self": null,
       "border_bottom": null,
       "border_left": null,
       "border_right": null,
       "border_top": null,
       "bottom": null,
       "display": null,
       "flex": null,
       "flex_flow": null,
       "grid_area": null,
       "grid_auto_columns": null,
       "grid_auto_flow": null,
       "grid_auto_rows": null,
       "grid_column": null,
       "grid_gap": null,
       "grid_row": null,
       "grid_template_areas": null,
       "grid_template_columns": null,
       "grid_template_rows": null,
       "height": null,
       "justify_content": null,
       "justify_items": null,
       "left": null,
       "margin": null,
       "max_height": null,
       "max_width": null,
       "min_height": null,
       "min_width": null,
       "object_fit": null,
       "object_position": null,
       "order": null,
       "overflow": null,
       "padding": null,
       "right": null,
       "top": null,
       "visibility": null,
       "width": null
      }
     },
     "ea3078121fd542189f1ae6b732efa139": {
      "model_module": "@jupyter-widgets/output",
      "model_module_version": "1.0.0",
      "model_name": "OutputModel",
      "state": {
       "_dom_classes": [],
       "_model_module": "@jupyter-widgets/output",
       "_model_module_version": "1.0.0",
       "_model_name": "OutputModel",
       "_view_count": null,
       "_view_module": "@jupyter-widgets/output",
       "_view_module_version": "1.0.0",
       "_view_name": "OutputView",
       "layout": "IPY_MODEL_7a2c9fcf85b84a6eb91ea14125e9e520",
       "msg_id": "",
       "outputs": [],
       "tabbable": null,
       "tooltip": null
      }
     },
     "ef72f7ea61664844989059d014610ad4": {
      "model_module": "@jupyter-widgets/base",
      "model_module_version": "2.0.0",
      "model_name": "LayoutModel",
      "state": {
       "_model_module": "@jupyter-widgets/base",
       "_model_module_version": "2.0.0",
       "_model_name": "LayoutModel",
       "_view_count": null,
       "_view_module": "@jupyter-widgets/base",
       "_view_module_version": "2.0.0",
       "_view_name": "LayoutView",
       "align_content": null,
       "align_items": null,
       "align_self": null,
       "border_bottom": null,
       "border_left": null,
       "border_right": null,
       "border_top": null,
       "bottom": null,
       "display": null,
       "flex": null,
       "flex_flow": null,
       "grid_area": null,
       "grid_auto_columns": null,
       "grid_auto_flow": null,
       "grid_auto_rows": null,
       "grid_column": null,
       "grid_gap": null,
       "grid_row": null,
       "grid_template_areas": null,
       "grid_template_columns": null,
       "grid_template_rows": null,
       "height": null,
       "justify_content": null,
       "justify_items": null,
       "left": null,
       "margin": null,
       "max_height": null,
       "max_width": null,
       "min_height": null,
       "min_width": null,
       "object_fit": null,
       "object_position": null,
       "order": null,
       "overflow": null,
       "padding": null,
       "right": null,
       "top": null,
       "visibility": null,
       "width": null
      }
     },
     "fd93f8d5e21a491183303eeb2f5321a3": {
      "model_module": "@jupyter-widgets/base",
      "model_module_version": "2.0.0",
      "model_name": "LayoutModel",
      "state": {
       "_model_module": "@jupyter-widgets/base",
       "_model_module_version": "2.0.0",
       "_model_name": "LayoutModel",
       "_view_count": null,
       "_view_module": "@jupyter-widgets/base",
       "_view_module_version": "2.0.0",
       "_view_name": "LayoutView",
       "align_content": null,
       "align_items": null,
       "align_self": null,
       "border_bottom": null,
       "border_left": null,
       "border_right": null,
       "border_top": null,
       "bottom": null,
       "display": null,
       "flex": null,
       "flex_flow": null,
       "grid_area": null,
       "grid_auto_columns": null,
       "grid_auto_flow": null,
       "grid_auto_rows": null,
       "grid_column": null,
       "grid_gap": null,
       "grid_row": null,
       "grid_template_areas": null,
       "grid_template_columns": null,
       "grid_template_rows": null,
       "height": null,
       "justify_content": null,
       "justify_items": null,
       "left": null,
       "margin": null,
       "max_height": null,
       "max_width": null,
       "min_height": null,
       "min_width": null,
       "object_fit": null,
       "object_position": null,
       "order": null,
       "overflow": null,
       "padding": null,
       "right": null,
       "top": null,
       "visibility": null,
       "width": null
      }
     }
    },
    "version_major": 2,
    "version_minor": 0
   }
  }
 },
 "nbformat": 4,
 "nbformat_minor": 4
}
